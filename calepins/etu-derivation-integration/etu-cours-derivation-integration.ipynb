{
 "cells": [
  {
   "cell_type": "markdown",
   "metadata": {},
   "source": [
    "# Dérivation et intégration numérique\n",
    "\n"
   ]
  },
  {
   "cell_type": "markdown",
   "metadata": {},
   "source": [
    "## Introduction\n",
    "\n",
    "Cette séquence aborde le thème des dérivations et intégrations numériques, outils essentiels en physique. Il n'est pas toujours possible d'obtenir une fonction analytique pour représenter un phénomène physique. Il est donc souvent nécessaire de calculer dérivées et intégrales approximativement, par des méthodes numériques.\n",
    "\n",
    "Pour rappel, on définit mathématiquement la dérivée d'une fonction dérivable par :\n",
    "\n",
    "$$\n",
    "f'(x) = \\lim_{h \\to 0} \\frac{f(x+h)-f(x)}{h}\n",
    "$$\n",
    "\n",
    "On définit également l'intégrale d'une fonction intégrable sur un intervalle $[a,b]$ par :\n",
    "\n",
    "$$\n",
    "I(f) = \\int_{a}^{b} f(x)\\mathrm{d}x = F(b)-F(a)\n",
    "$$\n",
    "\n",
    "où $F$ est une primitive de $f$."
   ]
  },
  {
   "cell_type": "markdown",
   "metadata": {},
   "source": [
    "## Dérivation numérique\n",
    "\n",
    "En physique numérique, les données sont en général sous forme de listes de points ayant une ou plusieurs coordonnées, par exemple des points de coordonnées $\\{(x_i,y_i)\\}$, $x$ et $y$ pouvant représenter deux grandeurs physiques (temps, position, vitesse, courant, tension, etc.) On ne peut donc pas faire tendre l'intervalle entre deux points vers zéro comme on le fait conceptuellement en mathématique.\n",
    "\n",
    "Nous allons donc faire des approximations. Une première approximation est d'associer la dérivée d'une courbe représentée par un ensemble de points par la pente entre deux points.\n",
    "\n",
    "$$\n",
    "y'_i = \\frac{y_{i+1}-y_{i}}{x_{i+1}-x_{i}}\n",
    "$$\n",
    "\n",
    "Nous allons ci-dessous calculer cette approximation en un point précis d'une courbe."
   ]
  },
  {
   "cell_type": "code",
   "execution_count": null,
   "metadata": {},
   "outputs": [],
   "source": [
    "import numpy as np\n",
    "import matplotlib.pyplot as plt\n",
    "\n",
    "## Exemple \n",
    "# On commence par créer des points de données\n",
    "x = np.arange(0, 5.1, 0.5)\n",
    "y = np.cos(x)\n",
    "\n",
    "plt.plot(x, y, '+')\n",
    "plt.xlabel('x')\n",
    "plt.ylabel('y')\n",
    "plt.ylim(-1.25, 1.25) # Pour faire joli\n",
    "plt.grid()\n",
    "plt.show()"
   ]
  },
  {
   "cell_type": "code",
   "execution_count": null,
   "metadata": {},
   "outputs": [],
   "source": [
    "# On prend un point (x_i, y_i) de la liste, par exemple i = 3\n",
    "\n",
    "i = 3\n",
    "derivee = (y[i + 1] - y[i]) / (x[i + 1] - x[i])\n",
    "print('Point de coordonnées x =', x[i], ', y = cos(x) =', y[i])\n",
    "print('Dérivée approximative dy/dx =', derivee)\n",
    "print(\"Dérivée analytique -sin(x) =\", -np.sin(x[i]))"
   ]
  },
  {
   "cell_type": "code",
   "execution_count": null,
   "metadata": {},
   "outputs": [],
   "source": [
    "# En bonus, on peut tracer la droite ayant comme pente la dérivée calculée\n",
    "# passant par le point de coordonées (x_i, y_i)\n",
    "# et la comparer à la tangente calculée analytiquement\n",
    "\n",
    "i = 3\n",
    "derivee = (y[i + 1] - y[i]) / (x[i + 1] - x[i])\n",
    "\n",
    "# On crée la droite donnée par la dérivée approximative, à partir des points {x}\n",
    "tangente_appro = (x - x[i]) * derivee + y[i]\n",
    "\n",
    "# On crée la droite donnée par la dérivée analytique au point (x[i], y[i])\n",
    "tangente_vraie = (x - x[i]) * (-np.sin(x[i])) + y[i]\n",
    "\n",
    "plt.plot(x, y, '+', label = 'cos(x)')\n",
    "plt.plot(x[i], y[i], 'o') # Juste pour mettre en valeur le point considéré\n",
    "plt.plot(x, tangente_appro, '-', label = \"tangente approx\")\n",
    "plt.plot(x, tangente_vraie, '--', label = \"tangente analytique\")\n",
    "plt.xlabel('x')\n",
    "plt.ylabel('y')\n",
    "plt.ylim(-1.25, 1.25) # Restreint l'échelle des ordonnées autour des données de cos(x)\n",
    "plt.legend()\n",
    "plt.grid()\n",
    "plt.show()"
   ]
  },
  {
   "cell_type": "markdown",
   "metadata": {},
   "source": [
    "### Exercice\n",
    "- Dans le programme ci-dessus, essayez de changer la valeur de i entre 0 et 11\n",
    "- Est-ce que ça marche aussi bien pour tous les points ? Pourquoi ?"
   ]
  },
  {
   "cell_type": "markdown",
   "metadata": {},
   "source": [
    "Pour calculer la dérivée pour tous les points (ou presque), on utilise une boucle `for` :"
   ]
  },
  {
   "cell_type": "code",
   "execution_count": null,
   "metadata": {},
   "outputs": [],
   "source": [
    "# On commence par initialiser le tableau \n",
    "# Attention ! La boucle for ne peut calculer que n - 1 points car x[n] n'existe pas !\n",
    "derivee = np.zeros(len(x) - 1)\n",
    "\n",
    "for i in range(len(x) - 1): \n",
    "    derivee[i] = (y[i + 1] - y[i]) / (x[i + 1] - x[i])\n",
    "\n",
    "# On trace la fonction\n",
    "plt.plot(x, y, '+', label = 'cos(x)')\n",
    "plt.xlabel('x')\n",
    "plt.ylabel('y')\n",
    "plt.ylim(-1.25, 1.25) # Pour faire joli\n",
    "plt.xlim(-0.25, 5.25) # Pour faire joli\n",
    "plt.grid()\n",
    "plt.show()\n",
    "\n",
    "# Puis on trace sa dérivée sur un autre graphe\n",
    "xn = x[:-1]\n",
    "plt.plot(xn, derivee, '+', label = 'dérivée numérique')\n",
    "plt.xlabel('x')\n",
    "plt.ylabel('dy/dx')\n",
    "plt.ylim(-1.25, 1.25) # Pour faire joli\n",
    "plt.xlim(-0.25, 5.25) # Pour faire joli\n",
    "plt.grid()\n",
    "\n",
    "# On peut comparer à la solution analytique de la dérivée\n",
    "xa = np.arange(0, 5.1, 0.01)\n",
    "plt.plot(xa, -np.sin(xa), label = 'dérivée analytique')\n",
    "plt.plot(xn, derivee - (-np.sin(xn)), 'o--', label = 'erreur')\n",
    "plt.legend()\n",
    "plt.show()\n",
    "\n",
    "# Notez que le graphe de la dérivée numérique a bien un point de moins que la fonction, en x = 5."
   ]
  },
  {
   "cell_type": "markdown",
   "metadata": {},
   "source": [
    "## Integration numérique\n",
    "\n",
    "Rappelons tout d'abord que l'intégrale d'une courbe entre deux bornes $[a,b]$ est égale à l'aire *sous* la courbe (en grisé dans le schéma ci-dessous), c'est-à-dire l'aire de la forme délimitée par l'axe des abscisses en bas, la courbe en haut, et les droites verticales passant par les bornes $a$ et $b$ à gauche et à droite. Cette aire est considérée comme *positive* si la fonction est positive, et *négative* si la fonction est négative dans les bornes considérées.\n",
    "\n",
    "Il existe plusieurs méthodes numériques pour calculer approximativement une intégrale. Nous allons en présenter une ici, vous en verrez d'autres dans les exercices.\n",
    "\n",
    "### Méthode des rectangles\n",
    "\n",
    "L'approximation la plus simple est appelée \"méthode des rectangles\" elle est illustrée dans la figure suivante. Pour une fonction intégrable $f$, on cherche à calculer l'intégrale suivante :\n",
    "$$\n",
    "I(f) = \\int_{a}^{b} f(x)\\mathrm{d}x \n",
    "$$\n",
    "\n",
    "on choisit de discrétiser l'intervalle $[a,b]$ en $n$ intervalles de même longueur, repérés par les points $x_i = a+i\\times\\Delta x$ avec $\\Delta x=\\frac{b-a}{n}$ . Une approximation de l'intégrale $I(f)$ est donnée par :\n",
    "$$\n",
    "I(f) \\approx  I_n(f) = \\sum_{i=0}^{n-1} f(x_i)\\Delta x \n",
    "$$"
   ]
  },
  {
   "attachments": {},
   "cell_type": "markdown",
   "metadata": {},
   "source": [
    "![IntRect.png](IntRect.png)"
   ]
  },
  {
   "cell_type": "markdown",
   "metadata": {},
   "source": [
    "En exemple, nous allons calculer l'intégrale de $f(x) = \\cos(x)$ entre $0$ et $\\frac{\\pi}{4}$."
   ]
  },
  {
   "cell_type": "code",
   "execution_count": null,
   "metadata": {},
   "outputs": [],
   "source": [
    "# Bornes d'intégration [a, b]\n",
    "a = 0\n",
    "b = np.pi / 4\n",
    "\n",
    "# Calcul du pas d'intégration \n",
    "n = 1000 # Nombre de pas\n",
    "Delta_x = (b - a) / n\n",
    "\n",
    "# Initialisation de la somme à zéro\n",
    "integrale = 0 \n",
    "\n",
    "# On ajoute ensuite chaque terme de la somme par une boucle for\n",
    "for i in range(n):\n",
    "    # Valeur de la fonction en (a + i * Delta_x)\n",
    "    f_xi = np.cos(a + i * Delta_x)\n",
    "    # Aire approximative sous la courbe entre (a + i * Delta_x) et (a + (i + 1) * Delta_x)\n",
    "    aire = f_xi * Delta_x\n",
    "    # Somme des aires\n",
    "    integrale = integrale + aire\n",
    "\n",
    "# Calculons aussi le résultat analytique pour comparer\n",
    "integralevraie = np.sin(b) - np.sin(a)\n",
    "    \n",
    "print('approximation \\t', integrale)\n",
    "print('analytique \\t', integralevraie)"
   ]
  },
  {
   "cell_type": "markdown",
   "metadata": {},
   "source": [
    "### Exercice\n",
    "Faites varier le nombre de pas dans le code ci-dessus. Que remarquez-vous ?"
   ]
  },
  {
   "cell_type": "markdown",
   "metadata": {},
   "source": [
    "## Travail préparatoire\n",
    "Pour préparer la séance en présentiel, vous dériverez analytiquement et trouverez les primitives des fonctions suivantes, en précisant leurs intervalles de définition :\n",
    "\n",
    "$$\n",
    "f(x) = \\frac{1-x^2}{x^4+2x^2+1} \n",
    "$$\n",
    "\n",
    "$$\n",
    "g(x) = \\tan(x)\n",
    "$$\n",
    "\n",
    "$$\n",
    "h(x) = \\frac{1}{1+e^{-x}} = \\frac{e^x}{e^{x} + 1}\n",
    "$$\n",
    "\n",
    "\n",
    "Puis utilisez les modules `numpy` et `matplotlib.pyplot` pour tracer ces fonctions sur un intervalle approprié."
   ]
  }
 ],
 "metadata": {
  "celltoolbar": "Éditer les Méta-Données",
  "kernelspec": {
   "display_name": "Python 3 (ipykernel)",
   "language": "python",
   "name": "python3"
  },
  "language_info": {
   "codemirror_mode": {
    "name": "ipython",
    "version": 3
   },
   "file_extension": ".py",
   "mimetype": "text/x-python",
   "name": "python",
   "nbconvert_exporter": "python",
   "pygments_lexer": "ipython3",
   "version": "3.8.10"
  }
 },
 "nbformat": 4,
 "nbformat_minor": 4
}
