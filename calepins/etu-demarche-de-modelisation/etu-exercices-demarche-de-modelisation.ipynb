{
 "cells": [
  {
   "cell_type": "markdown",
   "metadata": {},
   "source": [
    "# Démarche de modélisation\n",
    "Le but de ces exercices est d'appliquer le modèle de l'accéleration constante à 1D à de nouvelles situations, de complexifier le modèle et d'explorer ses limitations."
   ]
  },
  {
   "cell_type": "markdown",
   "metadata": {},
   "source": [
    "## Pile ou face\n",
    "On joue à pile ou face avec une pièce de monnaie. Connaissant les conditions initiales du lancer de la pièce, on aimerait connaître sa trajectoire.\n",
    "\n",
    "Les trois représentations du mouvement de la pièce de monnaie sont l'accélération $a$, la vitesse $v$ et la position $z$ selon l'axe $z$ :\n",
    "$$\n",
    "\\left\\{\n",
    "    \\begin{array}{lll}\n",
    "        a(t) &=& g \\\\\n",
    "        v(t) &=& gt + v_0\\\\\n",
    "        z(t) &=& \\dfrac{1}{2} gt^2 + v_0 t + z_0\n",
    "    \\end{array}\n",
    "\\right.\n",
    "$$\n",
    "\n",
    "Vous choisirez pour cet exercice de représenter numériquement les fonctions par des tableaux Numpy 1D (représentation discrète). Vous choisirez vous-même l'intervalle et le pas de temps pour la représentation discrète.\n",
    "\n",
    "1. Représenter graphiquement, l'un au-dessous de l'autre grâce à la fonction `subplot()`, l'accélération, la vitesse et la position $z$ de la pièce, pour $v_0 = -3.2 \\mathrm{~m.s^{-1}}$ et $z_0 = -1.5 \\mathrm{~m}$. Choisir l'intervalle de temps de façon à ce que la pièce dépasse de peu la position $z=0$."
   ]
  },
  {
   "cell_type": "markdown",
   "metadata": {},
   "source": [
    "2. Représenter le mouvement de l'objet dans le plan $(x0z)$, pour $x_0 = 4 \\mathrm{~m}$. Sur cette représentation, placer un point rouge à l'endroit de la position initiale de l'objet."
   ]
  },
  {
   "cell_type": "markdown",
   "metadata": {},
   "source": [
    "## Tir à l'arc\n",
    "Pour un tir à l'arc, nous souhaitons modéliser la trajectoire de la flèche, en utilisant le modèle de l'accélération constante. Nous modélisons la flèche par une particule ponctuelle. La cible se trouve à $40 \\mathrm{~m}$ du tireur, à une hauteur de $1,\\!5 \\mathrm{~m}$, et fait $50 \\mathrm{~cm}$ de diamètre.\n",
    "\n",
    "Pour un mouvement à 2D suivant les axes $z$ et $x$, nous avons les équations suivantes pour les vitesses suivant les axes $z$ et $x$, respectivement :\n",
    "$$\n",
    "\\left\\{\n",
    "    \\begin{array}{lll}\n",
    "        v_z(t) &=& gt + v_0^z\\\\\n",
    "        v_x(t) &=& v_0^x\n",
    "    \\end{array}\n",
    "\\right.\n",
    "$$\n",
    "\n",
    "et pour les positions suivant les axes $z$ et $x$, respectivement :\n",
    "$$\n",
    "\\left\\{\n",
    "    \\begin{array}{lll}\n",
    "        z(t) &=& \\dfrac{1}{2} gt^2 + v_0^z t + z_0\\\\\n",
    "        x(t) &=& v_0^x t + x_0\n",
    "    \\end{array}\n",
    "\\right.\n",
    "$$\n",
    "\n",
    "1. Créer un DataFrame Pandas pour représenter le mouvement. Vous choisirez vous-même la discrétisation des fonctions. L'index du DataFrame doit représenter le temps. Vous allez ensuite créer 5 colonnes pour le DataFrame, représentant : l'accélération, la vitesse suivant l'axe $z$, la vitesse suivant l'axe $x$, la position suivant l'axe $z$, et la position suivant l'axe $x$. Les paramètres du problème sont :\n",
    "$$\n",
    "\\left\\{\n",
    "    \\begin{array}{lll}\n",
    "        v_0^z = -1.3 \\ \\mathrm{m.s^{-1}}\\\\\n",
    "        v_0^x = 99.6 \\ \\mathrm{m.s^{-1}}\\\\\n",
    "        z_0 = -1.5 \\ \\mathrm{m}\\\\\n",
    "        x_0 = 0.0 \\ \\mathrm{m}\n",
    "    \\end{array}\n",
    "\\right.\n",
    "$$"
   ]
  },
  {
   "cell_type": "markdown",
   "metadata": {},
   "source": [
    "2. Représenter le mouvement de l'objet dans le plan $(x0z)$, pour $z\\in [0,2] \\mathrm{~m}$ et $x\\in [0,40] \\mathrm{~m}$. Sur cette représentation, placer un point rouge à l'endroit de la position initiale de l'objet."
   ]
  },
  {
   "cell_type": "markdown",
   "metadata": {},
   "source": [
    "3. En choississant mieux les limites des axes pour la représentation du mouvement, déterminez si le tireur atteint la cible."
   ]
  },
  {
   "cell_type": "markdown",
   "metadata": {},
   "source": [
    "4. En réflechissant aux limites de votre modèle, est-ce que la conclusion de cette étude pourrait être changée ? Comment améliorer le modèle ?"
   ]
  }
 ],
 "metadata": {
  "celltoolbar": "Tags",
  "kernelspec": {
   "display_name": "Python 3 (ipykernel)",
   "language": "python",
   "name": "python3"
  },
  "language_info": {
   "codemirror_mode": {
    "name": "ipython",
    "version": 3
   },
   "file_extension": ".py",
   "mimetype": "text/x-python",
   "name": "python",
   "nbconvert_exporter": "python",
   "pygments_lexer": "ipython3",
   "version": "3.8.10"
  }
 },
 "nbformat": 4,
 "nbformat_minor": 4
}
