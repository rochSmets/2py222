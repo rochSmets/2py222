{
 "cells": [
  {
   "cell_type": "markdown",
   "id": "33b30134-a863-4784-b16a-3a1c8d655eed",
   "metadata": {},
   "source": [
    "# Projet : Thème astral"
   ]
  },
  {
   "cell_type": "code",
   "execution_count": 1,
   "id": "27465f2d-10be-4597-8c59-db7de5c0ec42",
   "metadata": {
    "tags": []
   },
   "outputs": [],
   "source": [
    "import numpy as np\n",
    "import pandas as pd\n",
    "import math\n",
    "from datetime import datetime, timedelta\n",
    "import matplotlib.pyplot as plt\n",
    "from datetime import datetime, timedelta\n",
    "from collections import deque"
   ]
  },
  {
   "cell_type": "markdown",
   "id": "2319426f-e5f9-488d-ab9f-aa737ac05a90",
   "metadata": {},
   "source": [
    "# Sommaire"
   ]
  },
  {
   "cell_type": "markdown",
   "id": "df704ed9-5041-407d-a70a-113802ccce05",
   "metadata": {},
   "source": [
    "1. Introduction\n",
    "2. Modèle\n",
    "3. Position des planètes\n",
    "    1. Paramètres orbitaux\n",
    "    2. Calcul de l'anomalie moyenne\n",
    "    3. Résolution de l'équation de Kepler\n",
    "    4. Position des planètes dans le repère cartésien\n",
    "4. Calcul de l'ascendant\n",
    "5. Calcul du signe solaire\n",
    "6. Thème astral\n",
    "    1. Signe dans lequel se trouve la planète \n",
    "    2. Affichage du thème astral\n",
    "7. Conclusion\n",
    "8. Bibliographie"
   ]
  },
  {
   "cell_type": "markdown",
   "id": "a935ba13-4887-4472-8a1b-447bdc613b86",
   "metadata": {},
   "source": [
    "# 1. Introduction"
   ]
  },
  {
   "cell_type": "markdown",
   "id": "07066cc8-08e8-4e60-9d8f-8b27174c5a1b",
   "metadata": {},
   "source": [
    "# 2. Modèle"
   ]
  },
  {
   "cell_type": "markdown",
   "id": "a987cc09-a1d5-43bf-8adf-9dfea7b9347f",
   "metadata": {},
   "source": [
    "# 3. Position des planètes"
   ]
  },
  {
   "cell_type": "markdown",
   "id": "51d130a0-abfa-4dde-8c7a-8614a8cd9487",
   "metadata": {},
   "source": [
    "## 3.A. Paramètres orbitaux"
   ]
  },
  {
   "cell_type": "markdown",
   "id": "a3906024-67b5-44e2-81be-0bc132392e52",
   "metadata": {},
   "source": [
    "Pour pouvoir calculer la position des planètes, nous avons d'abord besoin de leurs paramètres orbitaux :   \n",
    "\n",
    "- le demi-grand axe $a$  ($UA$)\n",
    "   - Terre : $a = 1.000~~UA$\n",
    "   - Venus : $a = 0.723~~UA$\n",
    "   - Mercure : $a = 0.387~~UA$\n",
    "   - Mars : $a = 1.524~~UA$   \n",
    "   \n",
    "- l'excentricité orbitale $e$  ($mesure~sans~unite$) : elle exprime l'écart de forme entre l'orbite et le cercle parfait dont l'excentricité est nulle\n",
    "   - Terre : $e = 0.0167$\n",
    "   - Vénus : $e = 0.0068$\n",
    "   - Mercure : $e = 0.2056$\n",
    "   - Mars : $e = 0.0934$\n",
    "   \n",
    "\n",
    "- la période de révolution $T~(années)$\n",
    "   - Terre : $T = 365.26~années$\n",
    "   - Vénus : $T = 224.7~années$\n",
    "   - Mercure : $T = 87.97~années$\n",
    "   - Mars : $T = 687~années$\n",
    "   \n",
    "   \n",
    "- l'anomalie moyenne $M~(rad)$ : l'angle entre le périapse et la position d'un corps fictif parcourant une orbite circulaire synchrone avec le corps réel.\n",
    "   - on a : $M = n\\times(t-t_{0})$\n",
    "      - avec $n = \\dfrac{2\\times \\pi}{T}$ "
   ]
  },
  {
   "cell_type": "code",
   "execution_count": 2,
   "id": "e9c53593-f70b-44e3-a868-e8681d969e20",
   "metadata": {
    "tags": []
   },
   "outputs": [],
   "source": [
    "# Initialistation des paramètres orbitaux\n",
    "\n",
    "planete = np.array(['Terre', 'Venus', 'Mercure', 'Mars'], dtype = str)\n",
    "exc = np.array([0.0167, 0.0068, 0.2056, 0.0934]) #excentricité\n",
    "sem = np.array([1.000, 0.723, 0.387, 1.524]) #demi-grand axe\n",
    "T = [365.26, 224.7, 87.97, 687] #période\n",
    "T0 = datetime(2000, 1, 1)  # époque de référence\n",
    "M0 = 0"
   ]
  },
  {
   "cell_type": "markdown",
   "id": "0b5678eb-5be1-4c49-9b5b-84b4c98fc261",
   "metadata": {},
   "source": [
    "## 3.B. Calcul de l'anomalie moyenne"
   ]
  },
  {
   "cell_type": "markdown",
   "id": "ec14d09f-fb65-4bec-a7cd-7c01c9842222",
   "metadata": {},
   "source": [
    "Comme dit plus haut, on a on a :  \n",
    "<center>$M = n\\times(t-t_{0})$   \n",
    "<br>avec $n = \\dfrac{2\\times \\pi}{T}$\n",
    "<br></center>Ici, $t-t_{0}$ correspond au nombre de jours écoulés depuis l'époque de référence, c'est-à-dire le $1^{er}$ janvier 2000.    \n",
    "<br>On calcule ensuite l'anomalie moyenne pour chaque planète (qui change puisque la période de révolution est différente) en fonction de la date de naissance."
   ]
  },
  {
   "cell_type": "markdown",
   "id": "230a996b-b3e0-4487-827d-29edd1a256f5",
   "metadata": {},
   "source": [
    "## 3.C. Résolution de l'équation de Kepler"
   ]
  },
  {
   "cell_type": "markdown",
   "id": "c6a2dc0b-03d1-452b-bd10-903a96c27923",
   "metadata": {},
   "source": [
    "L'équation de Kepler en orbite elliptique est donnée par : \n",
    "<center> $E - e\\times  sin(E) = M$"
   ]
  },
  {
   "cell_type": "markdown",
   "id": "62a0f362-fedc-418d-9441-99c824a9ff63",
   "metadata": {},
   "source": [
    "- $E$ l'anomalie excentrique ($rad$) : l'angle entre la direction du périapse et la position courante d'un objet sur son orbite"
   ]
  },
  {
   "cell_type": "code",
   "execution_count": 3,
   "id": "66891fbe-aa75-4b8c-8974-8ad9490302b9",
   "metadata": {
    "tags": []
   },
   "outputs": [],
   "source": [
    "def kepler_equation(E, M, e):\n",
    "    \"\"\"Résout l'équation de Kepler pour trouver l'anomalie excentrique.\"\"\"\n",
    "    return E - e * math.sin(E) - M"
   ]
  },
  {
   "cell_type": "markdown",
   "id": "e7a39ba4-6640-4723-ba11-0a5ebdd883b2",
   "metadata": {},
   "source": [
    "#### Obtention de l'anomalie excentrique par la méthode de Newton-Raphson"
   ]
  },
  {
   "cell_type": "markdown",
   "id": "dcec0d4a-a62e-484e-9d9d-5b925ef53a8d",
   "metadata": {},
   "source": [
    "<center> $g(E) = E - e\\times sin(E) - M$  \n",
    "\n",
    "\n",
    "    \n",
    "<center>$E_{i+1} = {E_i} - \\dfrac{g(E_{i})}{g'(E_{i})}$  \n",
    "    \n"
   ]
  },
  {
   "cell_type": "code",
   "execution_count": 4,
   "id": "db33e4bf-c67b-4be3-bc84-aba6e52acc65",
   "metadata": {
    "tags": []
   },
   "outputs": [],
   "source": [
    "def solve_kepler(M, e):\n",
    "    \"\"\"Utilise la méthode de Newton-Raphson pour résoudre l'équation de Kepler.\"\"\"\n",
    "    E0 = M  # Initial guess for E\n",
    "    tolerance = 1e-8  # Tolerance for convergence\n",
    "    max_iterations = 1000  # Maximum number of iterations\n",
    "    iteration = 0\n",
    "    while True:\n",
    "        f = kepler_equation(E0, M, e)\n",
    "        f_prime = 1 - e * math.cos(E0)\n",
    "        E = E0 - f / f_prime\n",
    "        if abs(E - E0) < tolerance or iteration >= max_iterations:\n",
    "            break\n",
    "        E0 = E\n",
    "        iteration += 1\n",
    "    return E"
   ]
  },
  {
   "cell_type": "markdown",
   "id": "3cf79cd4-0794-4c78-b182-ed7ea615378e",
   "metadata": {},
   "source": [
    "## 3.D. Position des planètes dans le repère cartésien"
   ]
  },
  {
   "cell_type": "markdown",
   "id": "cea22019-a640-4875-bb36-43ee47a7c5a2",
   "metadata": {},
   "source": [
    "\n",
    "\n",
    "<br><center> $x = a(cosE - e)$\n",
    "<br> $y = a\\sqrt{1-e^{2}}sinE$\n"
   ]
  },
  {
   "cell_type": "code",
   "execution_count": 5,
   "id": "09d90382-3517-40de-9b23-017902d845ac",
   "metadata": {
    "tags": []
   },
   "outputs": [],
   "source": [
    "def planet_position(a, e, E):\n",
    "    \"\"\"Calcule la position de la planète sur son orbite.\"\"\"\n",
    "    x = a * (math.cos(E) - e)\n",
    "    y = a * math.sqrt(1 - e**2) * math.sin(E)\n",
    "    return [x], [y]"
   ]
  },
  {
   "cell_type": "code",
   "execution_count": 6,
   "id": "c8019e94-58b3-4c7a-857c-80ca1566cfd5",
   "metadata": {
    "tags": []
   },
   "outputs": [],
   "source": [
    "def position(date_precise):\n",
    "    #calcul de T0 et t\n",
    "    delta_t = date_precise - T0\n",
    "    T0_julian = 2451545.0\n",
    "    t = T0_julian + delta_t.days + delta_t.seconds / 86400.0\n",
    "    \n",
    "    # Calculer l'anomalie moyenne à la date précise\n",
    "    anom = np.array([])\n",
    "    for i in T:\n",
    "        n = 2*np.pi/i\n",
    "        m = M0 + n * (delta_t.days)\n",
    "        anom = np.append(anom,m)\n",
    "    \n",
    "    Ex = np.array([])\n",
    "    for (M, e) in zip(anom, exc):\n",
    "        ex = solve_kepler(M, e)\n",
    "        Ex = np.append(Ex,ex)\n",
    "\n",
    "    tab_x = np.array([])\n",
    "    tab_y = np.array([])\n",
    "    for (a, e, M, E, i) in zip(sem, exc, anom, Ex, planete):\n",
    "        X = planet_position(a, e, E)[0]\n",
    "        Y = planet_position(a, e, E)[1]\n",
    "        tab_x = np.append(tab_x,X)\n",
    "        tab_y = np.append(tab_y,Y)\n",
    "        print(\"Position de la planète \", i, \" :\", X,Y)\n",
    "    return tab_x, tab_y"
   ]
  },
  {
   "cell_type": "code",
   "execution_count": 7,
   "id": "b46f20f1-3ce5-41ea-ad85-7aa076ad1b24",
   "metadata": {
    "tags": []
   },
   "outputs": [
    {
     "name": "stdin",
     "output_type": "stream",
     "text": [
      "Entrez votre année de naissance :  2004\n",
      "Entrez votre mois de naissance :  04\n",
      "Entrez votre jour de naissance :  19\n"
     ]
    },
    {
     "name": "stdout",
     "output_type": "stream",
     "text": [
      "Position de la planète  Terre  : [-0.3306816991961111] [0.9492966326724223]\n",
      "Position de la planète  Venus  : [0.7156751557579175] [-0.05896311561222072]\n",
      "Position de la planète  Mercure  : [0.07889000021514066] [-0.3455296725569475]\n",
      "Position de la planète  Mars  : [-0.608287069548857] [1.4446811476535402]\n"
     ]
    }
   ],
   "source": [
    "annee = int(input(\"Entrez votre année de naissance : \"))\n",
    "mois = int(input(\"Entrez votre mois de naissance : \"))\n",
    "jour = int(input(\"Entrez votre jour de naissance : \"))\n",
    "\n",
    "X, Y = position(datetime(annee, mois, jour))"
   ]
  },
  {
   "cell_type": "code",
   "execution_count": 8,
   "id": "7d180862-3ba2-4ef7-94ef-a2e5abdf4a89",
   "metadata": {
    "tags": []
   },
   "outputs": [],
   "source": [
    "# Fonction pour calculer la trajectoire circulaire\n",
    "def calculer_trajectoire_circulaire(x, y):\n",
    "    rayon = np.sqrt(x**2 + y**2)\n",
    "    angles = np.linspace(0, 2*np.pi, 100)\n",
    "    x_traj = rayon * np.cos(angles)\n",
    "    y_traj = rayon * np.sin(angles)\n",
    "    return x_traj, y_traj"
   ]
  },
  {
   "cell_type": "code",
   "execution_count": 9,
   "id": "445d3eee-6b43-4d40-b33b-a108a1836daf",
   "metadata": {
    "tags": []
   },
   "outputs": [
    {
     "data": {
      "image/png": "[encoded data removed]",
      "text/plain": [
       "<Figure size 1000x600 with 1 Axes>"
      ]
     },
     "metadata": {},
     "output_type": "display_data"
    }
   ],
   "source": [
    "# Créer le graphique\n",
    "couleur = iter(['deepskyblue', 'hotpink', 'darkseagreen', 'firebrick'])\n",
    "\n",
    "plt.figure(figsize=(10, 6))\n",
    "\n",
    "for i in range(4):\n",
    "    plt.scatter(X[i], Y[i], color= next(couleur), marker='o')\n",
    "    \n",
    "#Soleil\n",
    "plt.scatter(0,0, color='gold', s=600)\n",
    "plt.text(0,0, 'Soleil', color='white', fontweight='bold')\n",
    "\n",
    "# Trajectoires circulaires des planètes\n",
    "for i in range(4):\n",
    "    x_traj, y_traj = calculer_trajectoire_circulaire(X[i], Y[i])\n",
    "    plt.plot(x_traj, y_traj, color='lightgray', linestyle='--')\n",
    "\n",
    "    \n",
    "    \n",
    "# Ajouter des étiquettes pour les planètes\n",
    "for i in range(4):\n",
    "    plt.text(X[i], Y[i], planete[i], color='white', fontweight='bold')\n",
    "    \n",
    "# Définir les labels des axes\n",
    "plt.xlabel('Position en x (UA)')\n",
    "plt.ylabel('Position en y (UA)')\n",
    "plt.title('Positions des planètes dans l\\'espace à 2 dimensions')\n",
    "\n",
    "# Afficher le graphique\n",
    "plt.gca().set_axisbelow(True)\n",
    "plt.gca().set_facecolor('black')\n",
    "plt.xlim(-2,2)\n",
    "plt.ylim(-2,2)\n",
    "plt.show()"
   ]
  },
  {
   "cell_type": "markdown",
   "id": "59eeffdd-1478-45e7-9bf2-e40f1f798374",
   "metadata": {},
   "source": [
    "# 4. Calcul de l'ascendant "
   ]
  },
  {
   "cell_type": "markdown",
   "id": "34dd65ab-bf60-486a-a14b-a8ad7502ab4e",
   "metadata": {},
   "source": [
    "  \n",
    "Pour calculer l'ascendant, il faut suivre plusieurs étapes : \n",
    "1. Calculer son heure sidérale, qui est une mesure du temps basée sur la rotation de la Terre par rapport aux étoiles fixes. Un jour sidéral est le temps nécessaire à la Terre pour effectuer une rotation complète par rapport aux étoiles fixes, et est légèrement plus court que le jour solaire.\n",
    "2. Additionner son heure de naissance avec l'heure sidérale\n",
    "3. Ajuster l'heure obtenue à l'étape précédente en fonction des conventions de mesure du temps en vigueur à l'époque de la naissance, comme par exemple l'instauration des fuseaux horaires et l'adoption de l'heure d'été dans certaines régions. \n",
    "4. Faire correspondre l'heure à un ascendant"
   ]
  },
  {
   "cell_type": "code",
   "execution_count": 10,
   "id": "1f474bd8-52ab-4df2-ba9c-d55830a64545",
   "metadata": {
    "tags": []
   },
   "outputs": [
    {
     "name": "stdin",
     "output_type": "stream",
     "text": [
      "Entrez l'heure de naissance :  20:30:00\n"
     ]
    }
   ],
   "source": [
    "# Paramètres de naissance\n",
    "naissance = str(annee)+ '-' + str(mois) + '-' + str(jour)\n",
    "heure_naissance = input(\"Entrez l'heure de naissance : \")\n",
    "timezone_offset = 2  # Heure locale est UTC+1 (vous devrez ajuster ceci en fonction du fuseau horaire)\n",
    "latitude = 48.8583  # Latitude de Paris\n",
    "longitude = 2.2945   # Longitude de Paris"
   ]
  },
  {
   "cell_type": "code",
   "execution_count": 11,
   "id": "5460ef2a-e130-4ea9-a115-04ebfa794353",
   "metadata": {
    "tags": []
   },
   "outputs": [],
   "source": [
    "# Convertir la date de naissance en objet datetime\n",
    "date_et_heure = datetime.strptime(naissance + ' ' + heure_naissance, '%Y-%m-%d %H:%M:%S')"
   ]
  },
  {
   "cell_type": "code",
   "execution_count": 12,
   "id": "6c6c246b-bc4a-49e9-8387-1850558e693f",
   "metadata": {
    "tags": []
   },
   "outputs": [],
   "source": [
    "# Fonction pour calculer le temps sidéral moyen (GMST)\n",
    "def calculate_gmst(utc_time):\n",
    "    # Calculer le jour julien\n",
    "    jd = 367 * utc_time.year - 7 * ((utc_time.year + (utc_time.month + 9) // 12) // 4) + 275 * utc_time.month // 9 + utc_time.day + 1721013.5\n",
    "    # Calculer la fraction du jour julien\n",
    "    jd_frac = (utc_time.hour + (utc_time.minute + utc_time.second / 60) / 60) / 24\n",
    "    # Calculer le nombre de jours depuis le 1er janvier 2000 (J2000.0)\n",
    "    d = jd - 2451545.0\n",
    "    # Calculer le temps sidéral moyen en heures\n",
    "    gmst = 6.697374558 + 0.06570982441908 * d + 1.00273790935 * jd_frac\n",
    "    # Normaliser le temps sidéral entre 0 et 24 heures\n",
    "    gmst = gmst % 24\n",
    "    return gmst"
   ]
  },
  {
   "cell_type": "code",
   "execution_count": 13,
   "id": "05e36879-5e4b-4dec-8b18-97f4f2af3da5",
   "metadata": {
    "tags": []
   },
   "outputs": [],
   "source": [
    "# Calculer le temps sidéral moyen (GMST)\n",
    "gmst = calculate_gmst(date_et_heure)\n",
    "\n",
    "def heure_ascendant (utc_time, sideral):\n",
    "    temp = (utc_time.hour + (utc_time.minute + utc_time.second / 60) / 60) + sideral\n",
    "    if utc_time.year > 1976:\n",
    "        if utc_time.month > 3 and utc_time.month < 11:\n",
    "            temp = temp -3\n",
    "        else :\n",
    "            temp = temp -1\n",
    "    if temp > 24:\n",
    "        temp = temp -24\n",
    "    return temp"
   ]
  },
  {
   "cell_type": "code",
   "execution_count": 14,
   "id": "86fd0157-52f3-4b34-9a5e-f9243d09d61e",
   "metadata": {
    "tags": []
   },
   "outputs": [],
   "source": [
    "# Fonction pour convertir l'ascendant en signe astrologique\n",
    "def _ascendant_(heure):\n",
    "    if heure >= 17.98 and heure <= 18.97:\n",
    "        return \"Bélier\"\n",
    "    elif heure >= 18.98 and heure <= 20.28:\n",
    "        return \"Taureau\"\n",
    "    elif heure >= 20.29 and heure <= 22.13:\n",
    "        return \"Gémeaux\"\n",
    "    elif heure >= 22.14 and heure <= 0.55:\n",
    "        return \"Cancer\"\n",
    "    elif heure >= 0.56 and heure <= 3.27:\n",
    "        return \"Lion\"\n",
    "    elif heure >= 3.28 and heure <= 6.00:\n",
    "        return \"Vierge\"\n",
    "    elif heure >= 6.01 and heure <= 8.72:\n",
    "        return \"Balance\"\n",
    "    elif heure >= 8.73 and heure <= 11.42:\n",
    "        return \"Scorpion\"\n",
    "    elif heure >= 11.43 and heure <= 13.88:\n",
    "        return \"Sagittaire\"\n",
    "    elif heure >= 13.89 and heure <= 15.70:\n",
    "        return \"Capricorne\"\n",
    "    elif heure >= 15.71 and heure <= 17.00:\n",
    "        return \"Verseau\"\n",
    "    else:\n",
    "        return \"Poissons\""
   ]
  },
  {
   "cell_type": "code",
   "execution_count": 15,
   "id": "21fe84a8-989e-4efc-9ad5-e39de0cd4c04",
   "metadata": {
    "tags": []
   },
   "outputs": [
    {
     "name": "stdout",
     "output_type": "stream",
     "text": [
      "Votre ascendant est Balance\n"
     ]
    }
   ],
   "source": [
    "print('Votre ascendant est', _ascendant_(heure_ascendant(date_et_heure, gmst)))"
   ]
  },
  {
   "cell_type": "markdown",
   "id": "e909568d-b4eb-4041-b5d7-08573f6e1ec2",
   "metadata": {},
   "source": [
    "# 5. Calcul du signe solaire"
   ]
  },
  {
   "cell_type": "markdown",
   "id": "fa78a976-fd1a-4ee0-a937-659519f1e68c",
   "metadata": {},
   "source": [
    "Le calcul du signe solaire ne dépend que du jour de la naissance de la personne. "
   ]
  },
  {
   "cell_type": "code",
   "execution_count": 16,
   "id": "fe33887a-171e-423f-aee1-238940e5eccd",
   "metadata": {
    "tags": []
   },
   "outputs": [],
   "source": [
    "def signe_sol(mois,jour):\n",
    "    if (mois == 3 and jour >= 21) or (mois == 4 and jour <= 20):\n",
    "        return \"Bélier\"\n",
    "    elif (mois == 4 and jour >= 21) or (mois == 5 and jour <= 20):\n",
    "        return \"Taureau\"\n",
    "    elif (mois == 5 and jour >= 21) or (mois == 6 and jour <= 21):\n",
    "        return \"Gémeaux\"\n",
    "    elif (mois == 6 and jour >= 22) or (mois == 7 and jour <= 23):\n",
    "        return \"Cancer\"\n",
    "    elif (mois == 7 and jour >= 24) or (mois == 8 and jour <= 23):\n",
    "        return \"Lion\"\n",
    "    elif (mois == 8 and jour >= 24) or (mois == 9 and jour <= 23):\n",
    "        return \"Vierge\"\n",
    "    elif (mois == 9 and jour >= 24) or (mois == 10 and jour <= 23):\n",
    "        return \"Balance\"\n",
    "    elif (mois == 10 and jour >= 24) or (mois == 11 and jour <= 22):\n",
    "        return \"Scorpion\"\n",
    "    elif (mois == 11 and jour >= 23) or (mois == 12 and jour <= 20):\n",
    "        return \"Sagittaire\"\n",
    "    elif (mois == 12 and jour >= 21) or (mois == 1 and jour <= 20):\n",
    "        return \"Capricorne\"\n",
    "    elif (mois == 1 and jour >= 21) or (mois == 2 and jour <= 19):\n",
    "        return \"Verseau\"\n",
    "    else:\n",
    "        return \"Poissons\""
   ]
  },
  {
   "cell_type": "code",
   "execution_count": 17,
   "id": "9157b072-6e71-4730-93d0-66448fb6ef3e",
   "metadata": {
    "tags": []
   },
   "outputs": [
    {
     "name": "stdout",
     "output_type": "stream",
     "text": [
      "Votre signe solaire est Bélier\n"
     ]
    }
   ],
   "source": [
    "print('Votre signe solaire est', signe_sol(mois,jour))"
   ]
  },
  {
   "cell_type": "markdown",
   "id": "eb02e9b1-a928-42b1-8e5a-9a6eb7c91fd2",
   "metadata": {},
   "source": [
    "# 6. Thème astral"
   ]
  },
  {
   "cell_type": "markdown",
   "id": "407bfedf-6f58-4bd6-8cc6-502ef0133390",
   "metadata": {},
   "source": [
    "## 6.A. Signe dans lequel se trouve la planète"
   ]
  },
  {
   "cell_type": "markdown",
   "id": "1d8ce1a7-930f-47fc-bb70-90537957e65b",
   "metadata": {},
   "source": [
    "<center>$\\theta = \\dfrac{longitude\\times 360}{2\\pi\\times distance~moyenne~~Terre/Planete}$"
   ]
  },
  {
   "cell_type": "code",
   "execution_count": 18,
   "id": "56afa9ad-b440-4b83-b6a2-071cbbb84f92",
   "metadata": {
    "tags": []
   },
   "outputs": [],
   "source": [
    "#convertir longitudes UA en degres\n",
    "def deg(long, dist):\n",
    "    return (long * 360)/2*np.pi*dist"
   ]
  },
  {
   "cell_type": "code",
   "execution_count": 26,
   "id": "12afbea4-51f7-4b75-99a7-83e07181124e",
   "metadata": {
    "tags": []
   },
   "outputs": [],
   "source": [
    "distance = [1, 0.7, 0.38, 1.5237] #par rapport au Soleil en UA\n",
    "degre = []\n",
    "\n",
    "for (long,dist) in zip(X,distance):\n",
    "    degre.append(deg(long, dist))"
   ]
  },
  {
   "cell_type": "code",
   "execution_count": 20,
   "id": "6bc55e3d-649a-400a-9114-c9b95da63eb6",
   "metadata": {
    "tags": []
   },
   "outputs": [],
   "source": [
    "signe_traverse = []\n",
    "_signes_ = ['Bélier', 'Taureau', 'Gémaux', 'Cancer', 'Lion', 'Vierge', 'Balance', 'Scorpion', 'Sagittaire', 'Capricorne', 'Verseau', 'Poisson']\n",
    "for i in degre:\n",
    "    signe_traverse.append(i//30)"
   ]
  },
  {
   "cell_type": "code",
   "execution_count": 21,
   "id": "be09b1f7-6c95-4592-bc18-74b0a97cf72a",
   "metadata": {
    "tags": []
   },
   "outputs": [
    {
     "name": "stdout",
     "output_type": "stream",
     "text": [
      "La planète  Terre est dans le signe du Vierge\n",
      "La planète  Venus est dans le signe du Capricorne\n",
      "La planète  Mercure est dans le signe du Bélier\n",
      "La planète  Mars est dans le signe du Balance\n"
     ]
    }
   ],
   "source": [
    "for (j,l) in zip(signe_traverse, planete):\n",
    "    j=j%12\n",
    "    print('La planète ', l, 'est dans le signe du', _signes_[int(j)])"
   ]
  },
  {
   "cell_type": "markdown",
   "id": "1f4f85f2-164c-4da0-91e2-59af76254df7",
   "metadata": {},
   "source": [
    "## 6.B. Affichage du thème astral"
   ]
  },
  {
   "cell_type": "code",
   "execution_count": 22,
   "id": "e598eb62-81ee-4aa4-9ed4-187603459dc8",
   "metadata": {
    "tags": []
   },
   "outputs": [],
   "source": [
    "clr = ['deepskyblue', 'hotpink', 'darkseagreen', 'firebrick']"
   ]
  },
  {
   "cell_type": "code",
   "execution_count": 23,
   "id": "fa3b2449-4869-4fa0-b82b-fb731cc3a24a",
   "metadata": {
    "tags": []
   },
   "outputs": [],
   "source": [
    "def plot_theme_astral(ascendant_str):\n",
    "    # Liste des signes du zodiaque dans l'ordre\n",
    "    signes = [\"Bélier\", \"Taureau\", \"Gémeaux\", \"Cancer\", \"Lion\", \"Vierge\", \"Balance\", \"Scorpion\", \"Sagittaire\", \"Capricorne\", \"Verseau\", \"Poisson\"]\n",
    "    \n",
    "    #rotation\n",
    "    signes.reverse()\n",
    "    index=signes.index(ascendant_str)\n",
    "    signes=deque(signes)\n",
    "    signes.rotate(-index+3)\n",
    "    signes=list(signes)\n",
    "    \n",
    "    # Trouver l'index de l'ascendant dans la liste des signes\n",
    "    ascendant_index = signes.index(ascendant_str)\n",
    "    \n",
    "    # Création de la figure et des axes\n",
    "    fig, ax = plt.subplots(figsize=(6, 6))\n",
    "    \n",
    "    # Déterminer l'angle de départ en fonction de l'ascendant\n",
    "    start_angle = 360 / len(signes) * ascendant_index\n",
    "    \n",
    "    # Tracer le cercle du thème astral\n",
    "    for i in range(len(signes)):\n",
    "        angle = (start_angle + i * (360 / len(signes))) % 360  # Angle pour chaque signe\n",
    "        ax.plot([np.cos(np.radians(angle)), np.cos(np.radians(angle + (360 / len(signes))))], [np.sin(np.radians(angle)), np.sin(np.radians(angle + (360 / len(signes))))], 'k-')  # Relier chaque signe au suivant\n",
    "        if signes[i] == signe_sol(mois,jour):\n",
    "            ax.text(1.2 * np.cos(np.radians(angle)), 1.2 * np.sin(np.radians(angle)), signes[i], ha='center', va='center')  # Affichage du nom de chaque signe\n",
    "            ax.text(1.2 * np.cos(np.radians(angle)), 1.2 * np.sin(np.radians(angle)) - 0.1, 'Soleil', ha='center', va='center', fontweight='bold', color='gold')  \n",
    "        elif signes[i] == ascendant_str:\n",
    "            ax.text(1.2 * np.cos(np.radians(angle)), 1.2 * np.sin(np.radians(angle)), signes[i], ha='center', va='center')  # Affichage du nom de chaque signe\n",
    "            ax.text(1.2 * np.cos(np.radians(angle)), 1.2 * np.sin(np.radians(angle)) - 0.1, 'Ascendant', ha='center', va='center', fontweight='bold', color='red')  \n",
    "        for (j,l,p) in zip(signe_traverse, planete, clr):\n",
    "            j=j%12\n",
    "            if signes[i] ==  _signes_[int(j)]:\n",
    "                ax.text(1.2 * np.cos(np.radians(angle)), 1.2 * np.sin(np.radians(angle)), signes[i], ha='center', va='center')  # Affichage du nom de chaque signe\n",
    "                ax.text(1.2 * np.cos(np.radians(angle)), 1.2 * np.sin(np.radians(angle)) - 0.2, l , ha='center', va='center', fontweight='bold', color=p)  \n",
    "            else:\n",
    "                ax.text(1.2 * np.cos(np.radians(angle)), 1.2 * np.sin(np.radians(angle)), signes[i], ha='center', va='center')  # Affichage du nom de chaque signe\n",
    "    \n",
    "    # Affichage de l'ascendant\n",
    "    ax.plot(-1, 0, 'ro', label=ascendant_str)\n",
    "    ax.set_xlim(-1.5, 1.5)\n",
    "    ax.set_ylim(-1.5, 1.5)\n",
    "    ax.axis('off')\n",
    "    ax.text(0, 0, 'Thème astral', ha='center', va='center', fontsize=16, fontweight='bold', fontstyle='italic', color='lightcoral')\n",
    "    plt.show()"
   ]
  },
  {
   "cell_type": "code",
   "execution_count": 24,
   "id": "d6026ecd-acb6-4ca9-8d23-70bffd804ba4",
   "metadata": {
    "tags": []
   },
   "outputs": [
    {
     "data": {
      "image/png": "[encoded data removed]",
      "text/plain": [
       "<Figure size 600x600 with 1 Axes>"
      ]
     },
     "metadata": {},
     "output_type": "display_data"
    }
   ],
   "source": [
    "ascendant = _ascendant_(heure_ascendant(date_et_heure, gmst))\n",
    "plot_theme_astral(ascendant)"
   ]
  },
  {
   "cell_type": "markdown",
   "id": "1439d450-c8f5-4145-8172-0998e05b5742",
   "metadata": {},
   "source": [
    "# 7. Conclusion"
   ]
  },
  {
   "cell_type": "markdown",
   "id": "4ea15784-4057-47f7-bd1e-d131a2aeedf4",
   "metadata": {},
   "source": [
    "# 8. Bibliographie"
   ]
  },
  {
   "cell_type": "markdown",
   "id": "749a24ec-2a4c-4b71-9256-61f0eaa81f01",
   "metadata": {},
   "source": [
    "paramètres orbitaux : https://fr.wikipedia.org/wiki/Mod%C3%A8le:Param%C3%A8tres_orbitaux_des_plan%C3%A8tes_et_plan%C3%A8tes_naines_du_Syst%C3%A8me_solaire"
   ]
  },
  {
   "cell_type": "markdown",
   "id": "7b05c7b0-b00a-4753-9aca-35a528ddd411",
   "metadata": {},
   "source": [
    "équations de Kepler :  https://fr.wikipedia.org/wiki/%C3%89quation_de_Kepler"
   ]
  },
  {
   "cell_type": "markdown",
   "id": "411a0d92-0ff0-42fa-918e-4885c6a9854c",
   "metadata": {},
   "source": [
    "équations de Kepler et méthode de Newton-Raphson : https://www.f-legrand.fr/scidoc/docmml/sciphys/meca/kepler/kepler.html"
   ]
  },
  {
   "cell_type": "markdown",
   "id": "21381627-69d2-4b3d-93a1-74c6dd693956",
   "metadata": {},
   "source": [
    "méthode de Newton-Raphson : http://revue.sesamath.net/spip.php?article1230#:~:text=La%20m%C3%A9thode%20de%20Newton%2DRaphson%20%5B1%5D%20est%20un%20proc%C3%A9d%C3%A9,sa%20courbe%20permettent%20d%27%C3%A9viter"
   ]
  },
  {
   "cell_type": "markdown",
   "id": "261e8ac5-b0e0-41f9-b15b-19318d6b6ea6",
   "metadata": {},
   "source": [
    "calcul de l'ascendant : https://chris-semet.net/votre-astro-pratique/comment-calculer-votre-ascendant/"
   ]
  },
  {
   "cell_type": "markdown",
   "id": "888d3b32-0750-4fe7-8cfb-85979b36bc89",
   "metadata": {},
   "source": [
    "esthétique des graphiques : https://chat.openai.com/"
   ]
  }
 ],
 "metadata": {
  "kernelspec": {
   "display_name": "Python 3 (ipykernel)",
   "language": "python",
   "name": "python3"
  },
  "language_info": {
   "codemirror_mode": {
    "name": "ipython",
    "version": 3
   },
   "file_extension": ".py",
   "mimetype": "text/x-python",
   "name": "python",
   "nbconvert_exporter": "python",
   "pygments_lexer": "ipython3",
   "version": "3.9.7"
  }
 },
 "nbformat": 4,
 "nbformat_minor": 5
}
