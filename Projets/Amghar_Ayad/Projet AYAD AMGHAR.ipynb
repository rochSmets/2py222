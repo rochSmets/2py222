{
 "cells": [
  {
   "cell_type": "markdown",
   "id": "9c2a9396-cc7c-4282-aa19-9580532821e6",
   "metadata": {},
   "source": [
    "# <u> Projet : Collision entre deux boules de pétanques<u>"
   ]
  },
  {
   "cell_type": "markdown",
   "id": "d12fe571-b74e-443c-8d64-4db521b38dbc",
   "metadata": {},
   "source": [
    "## <u>Introduction : <u>"
   ]
  },
  {
   "cell_type": "markdown",
   "id": "3c7d9dad-e94e-410b-aa9c-7a31b3cc3075",
   "metadata": {},
   "source": [
    "Conditions initiales :\n",
    "\n",
    "Vitesse de lancer $v_0 = 8$ m/s\n",
    "\n",
    "Masse $m$ de la boule de pétanque : $m = 0.8$kg \n",
    "\n",
    "diamètre de la boule =$75 * 10^-3$ m\n",
    "\n",
    "Surface de la boule $S = 2*10^-3$ m$^3$\n",
    "\n",
    "Accélération de la pesanteur sur Terre $g = 9.81$ m/s\n",
    "\n",
    "Angle initial avec l'horizontal $\\theta = 45° = \\frac{\\pi}{4}$\n",
    "\n",
    "Hauteur de lancée : $y_0 = 0.8$ m"
   ]
  },
  {
   "cell_type": "markdown",
   "id": "6ff9d987-8048-4a91-ae40-9ddc6a5d962d",
   "metadata": {},
   "source": [
    "## <u>Partie 1 : Lancer<u>"
   ]
  },
  {
   "cell_type": "markdown",
   "id": "2f82708a-a7c1-4069-9756-49b564c3f638",
   "metadata": {},
   "source": [
    "Force de trainée $F = \\frac{1}{2} \\rho S C_x v^2$\n",
    "\n",
    "Coéfficient de traînée de la boule : $C_x = 0.45$\n",
    "\n",
    "Masse volumique de l'air : $\\rho_{air} = 1.2$ kg/ m$^3$\n",
    "\n",
    "Poids de la boule : $P = mg$\n",
    "\n",
    "Principe fondamental de la dynamique : $m a = P - F = mg -  \\frac{1}{2} \\rho S C_x v_0^2$\n",
    "\n",
    "Après intégration : $y(t) = \\frac{1}{2} gt^2 - \\frac{\\rho S C_x v_o^2 t^2}{4m}  + v_ot + y_0$\n",
    "\n",
    "Equation diiférentielle à résoudre :\n",
    "\n",
    "$$\\frac{d^2y}{dt^2}(\\frac{g}{2}-\\frac{\\rho S C_x v_0^2}{4m}) + \\frac{dy}{dt} v_o = - y_0$$"
   ]
  },
  {
   "cell_type": "code",
   "execution_count": 2,
   "id": "6b9c3c75-8694-4d9d-a029-e71ac703692a",
   "metadata": {
    "tags": []
   },
   "outputs": [],
   "source": [
    "import numpy as np\n",
    "import matplotlib.pyplot as plt\n",
    "from scipy.interpolate import make_interp_spline, PPoly\n",
    "import matplotlib.animation as animation\n",
    "from IPython.display import HTML"
   ]
  },
  {
   "cell_type": "code",
   "execution_count": 3,
   "id": "ec8a1cd6-9066-4a43-b195-776f8a9a63d9",
   "metadata": {
    "tags": []
   },
   "outputs": [],
   "source": [
    "# Définition des paramètres\n",
    "\n",
    "ti = 0 \n",
    "te = 1.9\n",
    "step = 0.01\n",
    "v_0 = 6  # vitesse initiale en m/s\n",
    "theta = np.pi / 4  # angle de tir en radians\n",
    "g = 9.81  # accélération due à la gravité en m/s^2\n",
    "m = 0.8  # masse de la boule de pétanque en kg\n",
    "k = 0.03  # coefficient de frottement de l'air en N*s/m"
   ]
  },
  {
   "cell_type": "code",
   "execution_count": 4,
   "id": "0e1bbbfd-ec30-460f-8b87-ae048af546f1",
   "metadata": {
    "tags": []
   },
   "outputs": [],
   "source": [
    "def derivee_u(u, t, k, m, g):\n",
    "    # u est un vecteur [x, y, v_x, v_y]\n",
    "    dxdt = u[2] \n",
    "    dydt = u[3] \n",
    "    dvxdt = - (k / 4*m) * u[2] \n",
    "    dvydt = - (g/2) - (k / 4*m) * u[3]\n",
    "    return np.array([dxdt, dydt, dvxdt, dvydt])\n",
    "\n",
    "u_ini = np.array([0, 0.8, v_0 * np.cos(theta), v_0 * np.sin(theta)])  # Conditions initiales sur u [x0, y0, vx0, vy0]"
   ]
  },
  {
   "cell_type": "code",
   "execution_count": 5,
   "id": "5bfc6d6f-1057-48b0-9bb9-f8dd1dfa14c6",
   "metadata": {
    "tags": []
   },
   "outputs": [],
   "source": [
    "#Méthode Runge-Kutta\n",
    "\n",
    "def rk4(start, end, step, k, m, g, u_ini):\n",
    "    interval = end - start\n",
    "    num_points = int(interval / step) + 1\n",
    "    t = np.linspace(start, end, num_points)\n",
    "    ordre = len(u_ini)\n",
    "    u = np.empty((ordre, num_points))\n",
    "    u[:, 0] = u_ini\n",
    "\n",
    "    for i in range(num_points - 1):\n",
    "        d1 = derivee_u(u[:, i], t[i], k, m, g)\n",
    "        d2 = derivee_u(u[:, i] + step / 2 * d1, t[i] + step / 2, k, m, g)\n",
    "        d3 = derivee_u(u[:, i] + step / 2 * d2, t[i] + step / 2, k, m, g)\n",
    "        d4 = derivee_u(u[:, i] + step * d3, t[i] + step, k, m, g)\n",
    "        u[:, i + 1] = u[:, i] + step / 6 * (d1 + 2 * d2 + 2 * d3 + d4)\n",
    "\n",
    "    return t, u\n",
    "\n",
    "# Appeler la fonction rk4\n",
    "t, urk4 = rk4(ti, te, step, k, m, g, u_ini)"
   ]
  },
  {
   "cell_type": "code",
   "execution_count": 6,
   "id": "c51ff12b-5d7d-4c92-80a5-32b4a39d163a",
   "metadata": {
    "tags": []
   },
   "outputs": [
    {
     "data": {
      "image/png": "[encoded data removed]",
      "text/plain": [
       "<Figure size 432x288 with 1 Axes>"
      ]
     },
     "metadata": {
      "needs_background": "light"
     },
     "output_type": "display_data"
    }
   ],
   "source": [
    "# On trace la courbe\n",
    "plt.plot(urk4[0, :], urk4[1, :])\n",
    "plt.xlabel('Position horizontale (m)')\n",
    "plt.ylabel('Position verticale (m)')\n",
    "plt.title('Trajectoire de la boule de pétanque avec frottements de l\\'air')\n",
    "plt.grid(True)\n",
    "plt.show()"
   ]
  },
  {
   "cell_type": "markdown",
   "id": "b78b7f13-0691-4a2d-8401-453e5db07673",
   "metadata": {
    "tags": []
   },
   "source": [
    "Le lancer dure 1,28 secondes donc le point d'impact est le 128ème point."
   ]
  },
  {
   "cell_type": "code",
   "execution_count": 7,
   "id": "9cebff0a-210a-4deb-b17e-67f8c4817592",
   "metadata": {
    "tags": []
   },
   "outputs": [
    {
     "name": "stdout",
     "output_type": "stream",
     "text": [
      "Vitesse sur x avant l'impact : 4.194549225447061 en m/s\n"
     ]
    }
   ],
   "source": [
    "print(\"Vitesse sur x avant l'impact :\", urk4[2, 190], \"en m/s\")"
   ]
  },
  {
   "cell_type": "markdown",
   "id": "9c1059a0-1ed1-47e3-acd8-07f5d9d65191",
   "metadata": {},
   "source": [
    "## 2. Impact sur le sol"
   ]
  },
  {
   "cell_type": "code",
   "execution_count": 8,
   "id": "f004a2dc-33e2-4445-8622-a9736acb6021",
   "metadata": {
    "tags": []
   },
   "outputs": [
    {
     "name": "stdout",
     "output_type": "stream",
     "text": [
      "Point d'impact : 8.015243612037729 en m\n"
     ]
    }
   ],
   "source": [
    "print(\"Point d'impact :\", urk4[0, 190], \"en m\")          # Point qui correspond à notre interpolation "
   ]
  },
  {
   "cell_type": "code",
   "execution_count": 9,
   "id": "4f30d24b-4048-4b88-9848-868458aa8107",
   "metadata": {
    "tags": []
   },
   "outputs": [
    {
     "name": "stdout",
     "output_type": "stream",
     "text": [
      "[8.01524361]\n"
     ]
    }
   ],
   "source": [
    "spline = make_interp_spline(urk4[0, ], urk4[1, ], k=0) # Module trouvé sur stackoverflow pour interpoler\n",
    "curve  = PPoly.from_spline(spline)    \n",
    "print(curve.solve(y=0))"
   ]
  },
  {
   "cell_type": "markdown",
   "id": "368c09dd-3692-45df-ad89-390cb6da088b",
   "metadata": {},
   "source": [
    "coefficient de restitution acier-sable : $e_1 = 0.2$ source ChatGpt\n",
    "\n",
    "Impact à $x\\approx 8.02 $m"
   ]
  },
  {
   "cell_type": "markdown",
   "id": "245220f5-5a51-46c1-99d9-c097dfa21d09",
   "metadata": {},
   "source": [
    "Vitesse sur x après impact : $v_{x1} = v_{xf} e_1 ^2 = 0.17 $ m/s\n",
    "\n",
    "vitesse sur y après impact : $v_{y1} = 0$ m/s"
   ]
  },
  {
   "cell_type": "markdown",
   "id": "3f33e169-1616-4675-9bac-df51c0a702f3",
   "metadata": {},
   "source": [
    "## 3. Roulement sur le sol"
   ]
  },
  {
   "cell_type": "markdown",
   "id": "9567e493-a1e6-49d4-853b-2913fc3089a9",
   "metadata": {},
   "source": [
    "Ralentissement de la boule lors du roulement contre le sable : \n",
    "\n",
    "$$-\\mu v$$\n",
    "\n",
    "\n",
    "coefficient de frottement de l'acier contre le sable $\\mu = 0.5$ source : http://guilhem.mollon.free.fr/Telechargements/Mecanique_des_Materiaux_Granulaires.pdf"
   ]
  },
  {
   "cell_type": "code",
   "execution_count": 10,
   "id": "7c9c7536-e226-49a7-b14f-575dd1bf9c21",
   "metadata": {
    "tags": []
   },
   "outputs": [],
   "source": [
    "# Définition des nouveaux paramètres\n",
    "\n",
    "te = 14\n",
    "k_s = 0.5  # coefficient de frottement de l'acier contre le sable\n",
    "v_ini = np.array([8.02, 0, 0.17, 0])  # Conditions initiales [x0, y0, vx0, vy0]"
   ]
  },
  {
   "cell_type": "code",
   "execution_count": 11,
   "id": "20fd1280-95b2-4325-a71a-d3886323848c",
   "metadata": {
    "tags": []
   },
   "outputs": [],
   "source": [
    "def derivee_v(v, t, k_s, g):\n",
    "    # v est un vecteur [x, y, vx, vy]\n",
    "    dxdt = v[2] \n",
    "    dydt = 0\n",
    "    dvxdt = -k_s * v[2] \n",
    "    dvydt = 0\n",
    "    return np.array([dxdt, dydt, dvxdt, dvydt])"
   ]
  },
  {
   "cell_type": "code",
   "execution_count": 12,
   "id": "7262bcd7-c389-490a-8277-db83be118419",
   "metadata": {
    "tags": []
   },
   "outputs": [],
   "source": [
    "#Méthode Runge-Kutta\n",
    "\n",
    "def rk4_2(start, end, step, k_s, g, v_ini):\n",
    "    interval = end - start\n",
    "    num_points = int(interval / step) + 1\n",
    "    t = np.linspace(start, end, num_points)\n",
    "    ordre = len(v_ini)\n",
    "    v = np.empty((ordre, num_points))\n",
    "    v[:, 0] = v_ini\n",
    "\n",
    "    for i in range(num_points - 1):\n",
    "        d1 = derivee_v(v[:, i], t[i], k_s, g)\n",
    "        d2 = derivee_v(v[:, i] + step / 2 * d1, t[i] + step / 2, k_s, g)\n",
    "        d3 = derivee_v(v[:, i] + step / 2 * d2, t[i] + step / 2, k_s, g)\n",
    "        d4 = derivee_v(v[:, i] + step * d3, t[i] + step, k_s, g)\n",
    "        v[:, i + 1] = v[:, i] + step / 6 * (d1 + 2 * d2 + 2 * d3 + d4)\n",
    "\n",
    "    return t, v\n",
    "\n",
    "t, urk4_2 = rk4_2(ti, te, step, k_s, g, v_ini)"
   ]
  },
  {
   "cell_type": "code",
   "execution_count": 13,
   "id": "26146416-c2f6-481f-acb7-8b73d8a38601",
   "metadata": {
    "tags": []
   },
   "outputs": [
    {
     "data": {
      "image/png": "[encoded data removed]",
      "text/plain": [
       "<Figure size 432x288 with 1 Axes>"
      ]
     },
     "metadata": {
      "needs_background": "light"
     },
     "output_type": "display_data"
    }
   ],
   "source": [
    "# On trace le résultat\n",
    "plt.plot(t, urk4_2[0, :])\n",
    "plt.xlabel('Temps (s)')\n",
    "plt.ylabel('Position horizontale (m)')\n",
    "plt.title('Position horizontale de la boule de pétanque lors du roulement sur le sol en fonction du temps')\n",
    "plt.xlim(0, 0.69)\n",
    "plt.ylim(8.02, 8.12)\n",
    "plt.grid()\n",
    "plt.show()"
   ]
  },
  {
   "cell_type": "code",
   "execution_count": 14,
   "id": "18469f9f-ed68-49d5-adc6-ee0e5b49e38a",
   "metadata": {
    "tags": []
   },
   "outputs": [
    {
     "name": "stdout",
     "output_type": "stream",
     "text": [
      "0.12039746008974321\n",
      "8.119205079820514\n"
     ]
    }
   ],
   "source": [
    "print(urk4_2[2, 69])\n",
    "print(urk4_2[0, 69])"
   ]
  },
  {
   "cell_type": "markdown",
   "id": "ec6adc3c-2015-407b-b9be-54dd7cc99c17",
   "metadata": {},
   "source": [
    "Vitesse sur l'axe x avant la collision  $\\approx 0.12$ m/s."
   ]
  },
  {
   "cell_type": "markdown",
   "id": "f1492622-900f-4950-9b1c-357c06b15ab2",
   "metadata": {},
   "source": [
    "## 4. Collision avec l'autre boule"
   ]
  },
  {
   "cell_type": "markdown",
   "id": "7bf62cd3-3785-433c-be58-4073059dea51",
   "metadata": {},
   "source": [
    "Conservation de l'énergie cinétique ($\\Delta E_c = 0$).\n",
    "\n",
    "$ E_{c,i} = E_{c,f}$\n",
    "\n",
    "$\\frac{1}{2} m_1 v_{1,i} ^2 + \\frac{1}{2} m_2 v_{2,i} ^2 = \\frac{1}{2} m_1 v_{1,f}^2 + \\frac{1}{2} m_2 v_{2,i} ^2$\n",
    "\n",
    "Or $v_{2,i} = 0$ et les deux boules ont la même masse donc  $$v_{1,i} = v_{1,f} + v_{2,f} $$\n",
    "\n",
    "\n",
    "coefficient de restitution entre les deux boules en acier : $e_2 = 0.95$, donc la boule $1$ donnera 95% de sa vitesse a la boule $2$\n",
    "\n",
    "$v_{1,i} = 0.05v_{1,f} + 0.95v_{2,f}$"
   ]
  },
  {
   "cell_type": "markdown",
   "id": "e1e78517-817a-4a18-933d-42d14a173931",
   "metadata": {},
   "source": [
    "Donc $v_{2f} = 0.16$ m/s\n",
    "\n",
    "et $v_{1f} = 0.01$ m/s"
   ]
  },
  {
   "cell_type": "markdown",
   "id": "0d52a940-7bf1-4d24-b429-983788691a04",
   "metadata": {},
   "source": [
    "## 5. Positions finales des boules"
   ]
  },
  {
   "cell_type": "code",
   "execution_count": 15,
   "id": "f821819d-bbb6-4245-be3b-80c09c56cb9e",
   "metadata": {
    "tags": []
   },
   "outputs": [
    {
     "data": {
      "image/png": "[encoded data removed]",
      "text/plain": [
       "<Figure size 432x288 with 1 Axes>"
      ]
     },
     "metadata": {
      "needs_background": "light"
     },
     "output_type": "display_data"
    }
   ],
   "source": [
    "def derivee_v_1(v_1, t, ks):\n",
    "   \n",
    "    dxdt = v_1[2] * 0.05\n",
    "    dydt = 0 \n",
    "    dvxdt = -ks * v_1[2]\n",
    "    dvydt = 0\n",
    "    return np.array([dxdt, dydt, dvxdt, dvydt])\n",
    "\n",
    "def rk4_3(start, end, step, ks, v_1_ini):\n",
    "    interval = end - start\n",
    "    num_points = int(interval / step) + 1\n",
    "    t = np.linspace(start, end, num_points)\n",
    "    ordre = len(v_1_ini)\n",
    "    v_1 = np.empty((ordre, num_points))\n",
    "    v_1[:, 0] = v_1_ini\n",
    "\n",
    "    for i in range(num_points - 1):\n",
    "        d1 = derivee_v_1(v_1[:, i], t[i], ks)\n",
    "        d2 = derivee_v_1(v_1[:, i] + step / 2 * d1, t[i] + step / 2, ks)\n",
    "        d3 = derivee_v_1(v_1[:, i] + step / 2 * d2, t[i] + step / 2, ks)\n",
    "        d4 = derivee_v_1(v_1[:, i] + step * d3, t[i] + step, ks)\n",
    "        v_1[:, i + 1] = v_1[:, i] + step / 6 * (d1 + 2 * d2 + 2 * d3 + d4)\n",
    "\n",
    "    return t, v_1\n",
    "\n",
    "\n",
    "ti = 0\n",
    "te = 12\n",
    "step = 0.01\n",
    "v_0 = 8  # vitesse initiale en m/s\n",
    "theta = np.pi / 4  # angle de tir en radians\n",
    "g = 9.81  # accélération due à la gravité en m/s^2\n",
    "m = 0.8  # masse de la boule de pétanque en kg\n",
    "ks = 0.5  # force de frottement de l'air en N*s/m\n",
    "v_1 = np.array([0, 0, 0.12, 0])  # Conditions initiales [x0, y0, vx0, vy0]\n",
    "\n",
    "\n",
    "t, vrk4_1 = rk4_3(ti, te, step, ks, v_1)\n",
    "\n",
    "\n",
    "plt.plot(t, vrk4_1[0, :])\n",
    "plt.xlabel('Temps(s)')\n",
    "plt.ylabel('Position horizontale (m)')\n",
    "plt.title(\"Position de la boule 1 après la collision en fonction du tempsr\")\n",
    "plt.grid()\n",
    "plt.show()"
   ]
  },
  {
   "cell_type": "code",
   "execution_count": 16,
   "id": "143e7f65-1449-408a-8de7-4e8611f67467",
   "metadata": {
    "tags": []
   },
   "outputs": [
    {
     "name": "stdout",
     "output_type": "stream",
     "text": [
      "0.011970254973879034\n"
     ]
    }
   ],
   "source": [
    "print(vrk4_1[0, 1200])"
   ]
  },
  {
   "cell_type": "code",
   "execution_count": 17,
   "id": "51cb4f93-9e8b-4a91-a38c-bd59790fea0f",
   "metadata": {
    "tags": []
   },
   "outputs": [
    {
     "data": {
      "image/png": "[encoded data removed]",
      "text/plain": [
       "<Figure size 432x288 with 1 Axes>"
      ]
     },
     "metadata": {
      "needs_background": "light"
     },
     "output_type": "display_data"
    }
   ],
   "source": [
    "def derivee_v_1(v_1, t, ks):\n",
    "   \n",
    "    dxdt = v_1[2] * 0.95\n",
    "    dydt = 0 \n",
    "    dvxdt = -ks * v_1[2]\n",
    "    dvydt = 0\n",
    "    return np.array([dxdt, dydt, dvxdt, dvydt])\n",
    "\n",
    "def rk4_3(start, end, step, ks, v_1_ini):\n",
    "    interval = end - start\n",
    "    num_points = int(interval / step) + 1\n",
    "    t = np.linspace(start, end, num_points)\n",
    "    ordre = len(v_1_ini)\n",
    "    v_1 = np.empty((ordre, num_points))\n",
    "    v_1[:, 0] = v_1_ini\n",
    "\n",
    "    for i in range(num_points - 1):\n",
    "        d1 = derivee_v_1(v_1[:, i], t[i], ks)\n",
    "        d2 = derivee_v_1(v_1[:, i] + step / 2 * d1, t[i] + step / 2, ks)\n",
    "        d3 = derivee_v_1(v_1[:, i] + step / 2 * d2, t[i] + step / 2, ks)\n",
    "        d4 = derivee_v_1(v_1[:, i] + step * d3, t[i] + step, ks)\n",
    "        v_1[:, i + 1] = v_1[:, i] + step / 6 * (d1 + 2 * d2 + 2 * d3 + d4)\n",
    "\n",
    "    return t, v_1\n",
    "\n",
    "\n",
    "ti = 0\n",
    "te = 18\n",
    "step = 0.01\n",
    "ks = 0.5  # force de frottement de l'air en N*s/m\n",
    "v_1 = np.array([0, 0, 0.17, 0])  # Conditions initiales [x0, y0, vx0, vy0]\n",
    "\n",
    "\n",
    "t, vrk4_2 = rk4_3(ti, te, step, ks, v_1)\n",
    "\n",
    "\n",
    "plt.plot(t, vrk4_2[0, :])\n",
    "plt.xlabel('Temps(s)')\n",
    "plt.ylabel('Position horizontale (m)')\n",
    "plt.title(\"Position de la boule 2 après la collision en fonction du temps\")\n",
    "plt.grid()\n",
    "plt.show()"
   ]
  },
  {
   "cell_type": "code",
   "execution_count": 18,
   "id": "564105cc-c779-44e7-baf8-e20f5be8328d",
   "metadata": {
    "tags": []
   },
   "outputs": [
    {
     "name": "stdout",
     "output_type": "stream",
     "text": [
      "0.3228213537484352\n"
     ]
    }
   ],
   "source": [
    "print(vrk4_2[0, 1500])"
   ]
  },
  {
   "cell_type": "markdown",
   "id": "6c47fa28-e03d-494f-8a86-752a0459fbac",
   "metadata": {},
   "source": [
    "Position finale de la première boule : $8.02 + 0.1 +0.012 \\approx 8.14$ m\n",
    "\n",
    "Position finale de la deuxième boule : $8.02 + 0.1 + 0.32 \\approx 8.44$ m"
   ]
  },
  {
   "cell_type": "code",
   "execution_count": 20,
   "id": "e5702fc4-4615-4d8b-9566-a518adb2336c",
   "metadata": {
    "tags": []
   },
   "outputs": [
    {
     "data": {
      "text/html": [
       "<img src=\"courbes.gif\" />"
      ],
      "text/plain": [
       "<IPython.core.display.HTML object>"
      ]
     },
     "execution_count": 20,
     "metadata": {},
     "output_type": "execute_result"
    },
    {
     "data": {
      "image/png": "[encoded data removed]",
      "text/plain": [
       "<Figure size 432x288 with 1 Axes>"
      ]
     },
     "metadata": {
      "needs_background": "light"
     },
     "output_type": "display_data"
    }
   ],
   "source": [
    "# Données pour la première courbe\n",
    "x_1 = urk4[0, :190]\n",
    "y_1 = urk4[1, :190]\n",
    "\n",
    "# Données pour la deuxième courbe\n",
    "x_2 = urk4_2[0, :]\n",
    "y_2 = np.zeros(len(vrk4_2[0, :])) \n",
    "\n",
    "plt.rcParams[\"animation.writer\"] = \"pillow\"\n",
    "\n",
    "fig, ax = plt.subplots()\n",
    "\n",
    "line_1, = ax.plot([],[], color='blue')\n",
    "line_2, = ax.plot([],[], color='red')  # Deuxième courbe en rouge\n",
    "point_1, = ax.plot([], [], ls=\"none\", marker=\"o\", color='blue')\n",
    "point_2, = ax.plot([], [], ls=\"none\", linewidth = 3, marker=\"o\", color='red')  # Point pour la deuxième courbe\n",
    "\n",
    "ax.set_xlim(0, 10)\n",
    "ax.set_ylim(0, 3)\n",
    "\n",
    "# Création d'une fonction pour l'animation\n",
    "def animate(k):\n",
    "    i = min(k, x_1.size)\n",
    "    if i < x_1.size:  # Trace la première courbe\n",
    "        line_1.set_data([x_1[:i]], [y_1[:i]])\n",
    "        point_1.set_data([x_1[i]], [y_1[i]])\n",
    "        \n",
    "        line_2.set_data([], [])  # Ne trace pas la deuxième courbe\n",
    "        point_2.set_data([], [])  # Ne trace pas le point pour la deuxième courbe\n",
    "    else:  # Commence à tracer la deuxième courbe\n",
    "        j = min(i - x_1.size, x_2.size)\n",
    "        line_2.set_data([x_2[:j]], [y_2[:j]])\n",
    "        point_2.set_data([x_2[j]], [y_2[j]])\n",
    "        \n",
    "        line_1.set_data([x_1], [y_1])  # Trace la première courbe \n",
    "        point_1.set_data([x_1[-1]], [y_1[-1]])  # Dernier point de la première courbe\n",
    "        \n",
    "    return line_1, line_2, point_1, point_2\n",
    "\n",
    "ani = animation.FuncAnimation(fig=fig, func=animate, frames=range(x_1.size + x_2.size), interval=50, blit=True)\n",
    "\n",
    "ani.save(filename=\"courbes.gif\", fps=20)\n",
    "\n",
    "HTML(\"\"\"<img src=\"courbes.gif\" />\"\"\")"
   ]
  },
  {
   "cell_type": "code",
   "execution_count": null,
   "id": "94d025f3",
   "metadata": {},
   "outputs": [],
   "source": []
  }
 ],
 "metadata": {
  "kernelspec": {
   "display_name": "Python 3 (ipykernel)",
   "language": "python",
   "name": "python3"
  },
  "language_info": {
   "codemirror_mode": {
    "name": "ipython",
    "version": 3
   },
   "file_extension": ".py",
   "mimetype": "text/x-python",
   "name": "python",
   "nbconvert_exporter": "python",
   "pygments_lexer": "ipython3",
   "version": "3.11.6"
  }
 },
 "nbformat": 4,
 "nbformat_minor": 5
}
