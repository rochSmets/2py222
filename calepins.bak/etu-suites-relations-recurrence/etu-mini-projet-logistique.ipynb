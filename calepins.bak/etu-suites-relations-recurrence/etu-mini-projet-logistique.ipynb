{
 "cells": [
  {
   "cell_type": "markdown",
   "metadata": {},
   "source": [
    "# Un exemple de système chaotique\n",
    "Une des particularités d'un système chaotique est de présenter une sensibilité extrême à ses conditions initiales. Cela signifie qu'une\n",
    "perturbation, aussi faible soit-elle, sur la condition initiale d'un système dynamique aura une conséquence importante sur son évolution\n",
    "temporelle. C'est ce comportement que l'on va illustrer dans ce notebook.\n",
    "\n",
    "Pour être précis, nous parlons ici de chaos déterministe, c'est-à-dire du comportement chaotique d'un système dynamique dont les équations\n",
    "du mouvement sont déterministes : pour une même condition initiale idéale, le système évoluera toujours de la même manière. L'évolution chaotique\n",
    "d'un système ne tient donc pas à la complexité des équations, la multiplicité des variables, ou encore à l'introduction de paramètres\n",
    "définis de manière aléatoire, mais bien à la sensibilité extrême aux conditions initiales.\n",
    "\n",
    "Le système chaotique le plus largement connu est l'équation logistique. C'est une équation extrêmement simple... même si l'apparition d'un\n",
    "comportement chaotique ne peut résulter que de non-linéarités. Cette équation est celle qui régit l'évolution d'une population,\n",
    "par exemple celle de certains poissons. Leur reproduction conduit à faire croître leur nombre, mais la quantité limitée de nourriture va\n",
    "limiter cette croissance."
   ]
  },
  {
   "cell_type": "markdown",
   "metadata": {},
   "source": [
    "## Présentation mathématique du problème\n",
    "On suppose que cette dynamique décrit correctement une population de lapins. On note $n_i$ la population de lapins l'année $i$, et $\\alpha$ le nombre de petits par portée (une par an). Alors, $n_{i+1} = \\alpha n_i$. Si $\\alpha$ est une constante, alors, on obtiendra l'année $p$\n",
    "\n",
    "$$ n_p = \\alpha^p n_0 $$\n",
    "\n",
    "c'est-à-dire une croissance exponentielle de la population de lapins.\n",
    "\n",
    "Mais la quantité finie de ressources ainsi que les prédateurs va limiter cette croissance séculaire. Cela se traduit mathématiquement par le fait que $\\alpha$ ne puisse plus être une constante, mais est une fonction de $n_i$ ainsi que d'autres paramètres. Si l'on note $r$ le taux de croissance maximal et $n_{\\max}$ le nombre maximal de lapins qu'il peut exister (en consommant donc toutes les ressources), alors le coefficient $\\alpha$ pourrait s'écrire\n",
    "\n",
    "$$ \\alpha = r \\left( 1 - \\frac{n_i}{n_{\\max}} \\right) $$\n",
    "\n",
    "La forme de l'équation d'évolution de la population devient alors\n",
    "\n",
    "$$ n_{i+1} = r \\left( 1 - \\frac{n_i}{n_{\\max}} \\right) n_i $$\n",
    "\n",
    "et peut se réécrire avec la nouvelle variable $x_i = n_i / n_{\\max}$\n",
    "\n",
    "$$ x_{i+1} = r (1-x_i)x_i $$\n",
    "\n",
    "que l'on appelle « l'équation logistique ». Pour l'étude de cette équation, on introduit la fonction\n",
    "\n",
    "$$ f(x) = r (1-x) x $$\n",
    "\n",
    "dont le seul paramètre est donc $r$. Nous allons voir que suivant les valeurs de $r$, le comportement asymptotique de la suite\n",
    "\n",
    "$$ x_{i+1} = f(x_i) $$\n",
    "\n",
    "présente un comportement chaotique. $r$ est compris entre 1 et 4."
   ]
  },
  {
   "cell_type": "markdown",
   "metadata": {},
   "source": [
    "## Comportement de la suite\n",
    "Comme expliqué dans le cours *Représentation graphique d'une suite mathématique*, représenter de façon graphique le comportement de la suite\n",
    "pour $r=2.5$ et $x_0=0.1$. La suite tend-elle vers une limite finie ?\n",
    "\n",
    "Choisir d'autres valeurs de $r$ comprises entre 2.5 et 4. Que constatez-vous ?"
   ]
  },
  {
   "cell_type": "markdown",
   "metadata": {},
   "source": [
    "## Diagramme de bifurcation\n",
    "On souhaite dans cette partie étudier la limite (lorsqu'elle existe) de la suite des $x_i$ définie par l'équation logistique, de\n",
    "façon systématique. Plus précisément, on souhaite étudier la manière dont cette limite dépend de la valeur de $r$.\n",
    "\n",
    "Pour cela, vous allez prendre un grand nombre de valeurs de $r$ comprises entre 2.5 et 4, mais toujours $x_0=0.00001$. Pour\n",
    "chaque valeur de $r$, calculez les 1000 premiers termes de la suite, et gardez uniquement les 100 derniers termes. Si la limite est\n",
    "bien définie, ces 100 derniers termes devraient être très semblables, ce qui n'est pas toujours le cas.\n",
    "\n",
    "Vous allez créer un diagramme de bifurcation. Pour cela il faut tracer sur un graphique :\n",
    "\n",
    "- pour une valeur de $r$ donnée en abscisses, tracer les 100 derniers termes de la suite en ordonnée (avec des petits points)\n",
    "- répéter cette opération pour toutes les valeurs de $r$ choisies\n",
    "\n",
    "Vous devriez obtenir un diagramme qui ressemble à :\n",
    "\n",
    "![title](./diagramme_bifurcation.png)\n",
    "\n",
    "Que pouvez-vous en conclure sur la manière dont la limite de l'équation logistique dépend du paramètre $r$ ? Est-ce que le diagramme\n",
    "de bifurcation dépend de la valeur de $x_0$ ?"
   ]
  },
  {
   "cell_type": "markdown",
   "metadata": {},
   "source": [
    "## Exposant de Lyapunov\n",
    "Nous avons dit plus haut que le caractère chaotique d'un système dynamique tient à la manière dont une différence, aussi petite soit-elle,\n",
    "sur deux conditions initiales va pouvoir conduire à une divergence sévère de leur comportement asymptotique. Mathématiquement, cela\n",
    "signifie que la distance entre ces deux solutions va augmenter de manière exponentielle.\n",
    "\n",
    "On cherche une forme en\n",
    "\n",
    "$$ e^{t \\lambda(r)} $$\n",
    "\n",
    "de cette croissance, sachant qu'elle va dépendre de la valeur de $r$. Lorsque $\\lambda$ est une fonction à valeur négative, la\n",
    "suite associée à l'équation logistique est convergente. À l'inverse, pour les valeurs positives de $\\lambda$, la suite diverge.\n",
    "Cette divergence peut se traduire de plusieurs manières. Comme vous l'avez vu sur le diagramme de bifurcation, suivant les valeurs de\n",
    "$r$, on peut avoir 1, 2, 4 ou plus limites à la suite des $x_i$.\n",
    "\n",
    "La manière de calculer cet exposant est due à Aleksander Lyapunov (1857-1918). L'expression de $\\lambda(r)$ est\n",
    "\n",
    "$$ \\lambda = \\lim\\limits_{n \\rightarrow \\infty} \\frac{1}{n} \\sum_{i=0}^{n-1} \\log | f^{\\prime} (x_i)| $$\n",
    "\n",
    "Vous allez calculer pour chacune des valeurs de $r$ uniformément distribuées entre 2.5 et 4 la valeur de l'exposant de Lyapunov.\n",
    "Sur un graphique, vous tracerez un point pour chacun des couples $(r, \\lambda)$ que vous avez obtenu. Pour rendre le graphique plus\n",
    "lisible, vous pourrez tracer un point noir lorsque $\\lambda < 0$ et un point rouge lorsque $\\lambda > 0$. Vous pourrez aussi\n",
    "tracer sur votre graphique une ligne horizontale bleue pour $\\lambda = 0$ pour marquer la différence entre les valeurs stables et\n",
    "instables de $\\lambda$.\n",
    "\n",
    "Vous devriez obtenir un graphique qui ressemble à :\n",
    "\n",
    "![title](./lyapunov.png)\n",
    "\n",
    "Comparez ce graphique au diagramme de bifurcation. Que pouvez-vous en conclure sur la stabilité de l'équation logistique ?"
   ]
  },
  {
   "cell_type": "markdown",
   "metadata": {},
   "source": [
    "## Compte-rendu\n",
    "Vous rendrez un compte-rendu sous la forme d'un Jupyter Notebook (et d'une partie rédigée à la main si vous le souhaitez).\n",
    "Vous apporterez un soin particulier à la rédaction, à l'explication de la résolution du problème, et à l'explication du script (code commenté).\n",
    "\n",
    "Vous rendrez votre compte-rendu dans l'activité devoir correspondante de Moodle. Si votre compte-rendu\n",
    "comporte une partie rédigée à la main, vous devrez la scanner (par exemple avec une application de votre téléphone\n",
    "intelligent) et la rendre sous format pdf, en plus de votre Jupyter Notebook, dans Moodle."
   ]
  }
 ],
 "metadata": {
  "kernelspec": {
   "display_name": "Python 3 (ipykernel)",
   "language": "python",
   "name": "python3"
  },
  "language_info": {
   "codemirror_mode": {
    "name": "ipython",
    "version": 3
   },
   "file_extension": ".py",
   "mimetype": "text/x-python",
   "name": "python",
   "nbconvert_exporter": "python",
   "pygments_lexer": "ipython3",
   "version": "3.8.12"
  }
 },
 "nbformat": 4,
 "nbformat_minor": 2
}
