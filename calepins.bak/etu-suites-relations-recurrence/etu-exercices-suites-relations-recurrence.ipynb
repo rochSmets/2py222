{
 "cells": [
  {
   "cell_type": "markdown",
   "metadata": {},
   "source": [
    "# Suite de Fibonacci"
   ]
  },
  {
   "cell_type": "markdown",
   "metadata": {},
   "source": [
    "Leonardo Fibonacci (*circa* 1175 – 1250), mathématicien italien, proposa comme un exercice mathématique amusant le modèle suivant pour décrire la croissance naturelle d’une population de lapins. On suppose qu’on dispose d’un couple de lapins tout juste nés, maintenus isolés de leurs congénères. On suppose de plus que chaque mois, chaque couple âgé d’au moins deux mois engendre un nouveau couple de lapins. On ne tient pas compte de la mortalité naturelle des lapins. Le nombre $C_n$ de couples de lapins suit par conséquent une relation de récurrence,\n",
    "\n",
    "$$\n",
    "C_0 = C_1 = 1 \\ \\ \\ , \\ \\ \\  C_n = C_{n-1}+C_{n-2}\n",
    "$$\n",
    "\n",
    "La suite d’entiers $C_n$ est connue comme la suite de Fibonacci. On commence par inclure les paquets `numpy` et `matplotlib`"
   ]
  },
  {
   "cell_type": "code",
   "execution_count": null,
   "metadata": {
    "tags": [
     "hide-input"
    ]
   },
   "outputs": [],
   "source": [
    "import numpy as np\n",
    "import matplotlib.pyplot as plt"
   ]
  },
  {
   "cell_type": "markdown",
   "metadata": {},
   "source": [
    "1. Créez un tableau `ns` de 50 entiers de 0 à 49 inclus."
   ]
  },
  {
   "cell_type": "markdown",
   "metadata": {},
   "source": [
    "2. En utilisant une boucle `for`, la valeur des deux premiers termes $C_0$ et $C_1$, et la relation de récurrence, calculez les 50 premières valeurs de cette suite, et stockez-les dans un tableau numpy `C`."
   ]
  },
  {
   "cell_type": "markdown",
   "metadata": {},
   "source": [
    "3. Représentez l’évolution du nombre de couples de lapins en fonction du temps (exprimé en mois), pendant 50 mois. Pensez à ajouter un titre, à indiquer les axes et les unités."
   ]
  },
  {
   "cell_type": "markdown",
   "metadata": {},
   "source": [
    "4. Ajoutez dans votre programme le calcul de la suite des rapports $r_n$ entre deux termes successifs de la suite de Fibonacci (pour $n$ allant de 1 à 49 inclus) :\n",
    "$$\n",
    "r_n = \\frac{C_{n + 1}}{C_n}\n",
    "$$"
   ]
  },
  {
   "cell_type": "markdown",
   "metadata": {},
   "source": [
    "5. Tracez le graphe de ce rapport $r_n$ en fonction du mois $n$, pour $n$ allant de 1 à 49 inclus."
   ]
  },
  {
   "cell_type": "markdown",
   "metadata": {},
   "source": [
    "On peut montrer que le rapport $r_n$ a pour limite le nombre d’or $\\phi = \\frac{1}{2} \\left(1+\\sqrt{5}\\right)$. Pour des $n$ suffisamment grands, la suite $C_n$ tend donc vers une suite géométrique de la forme $D_n = A \\phi^n$.\n",
    "\n",
    "6. Tracez les 50 premiers termes de la suite de Fibonacci sur un graphe semi-logarithmique (échelle log selon les ordonnées). La suite de Fibonacci tend-elle bien vers une suite géométrique ?"
   ]
  },
  {
   "cell_type": "markdown",
   "metadata": {},
   "source": [
    "Comme $\\displaystyle C_n\\underset{n\\to\\infty}{\\sim} D_n$ et $\\displaystyle \\lim_{n\\to\\infty}C_n = +\\infty$, on a :\n",
    "$$\n",
    "\\log(C_n) \\underset{n\\to\\infty}{\\sim} \\log(D_n) = \\log A + n \\log \\phi\n",
    "$$\n",
    "\n",
    "7. Calculez la suite $D_n$ et stockez-la dans un tableau numpy."
   ]
  }
 ],
 "metadata": {
  "kernelspec": {
   "display_name": "Python 3 (ipykernel)",
   "language": "python",
   "name": "python3"
  },
  "language_info": {
   "codemirror_mode": {
    "name": "ipython",
    "version": 3
   },
   "file_extension": ".py",
   "mimetype": "text/x-python",
   "name": "python",
   "nbconvert_exporter": "python",
   "pygments_lexer": "ipython3",
   "version": "3.8.10"
  }
 },
 "nbformat": 4,
 "nbformat_minor": 4
}
