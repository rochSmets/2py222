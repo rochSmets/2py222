{
 "cells": [
  {
   "cell_type": "markdown",
   "id": "dc8427e1-2017-41ec-a490-726057c110e1",
   "metadata": {},
   "source": [
    "# <u>Système chaotique d'une population de lapins.<u>"
   ]
  },
  {
   "cell_type": "markdown",
   "id": "2be57727-c902-4837-884e-7323b006905f",
   "metadata": {},
   "source": [
    "### <u>Introduction<u>"
   ]
  },
  {
   "cell_type": "markdown",
   "id": "0570fdee-b79b-42d2-b0e0-eded10cdf7db",
   "metadata": {},
   "source": [
    "La particularité d'un système chaotique est la sensibilité extrême à ses conditions initiales, c'est à dire qu'une légère perturbation peut radicalement changé l'évolution du système au cours du temps. \n",
    "<br>\n",
    "Dans notre cas nous allons nous intéresser au système chaotique d'une population de lapins, et nous essaierons de modéliser ce phénomène."
   ]
  },
  {
   "cell_type": "markdown",
   "id": "1b223e1d-e58b-4be1-bcc2-1382d05e653a",
   "metadata": {},
   "source": [
    "Nous allons modéliser ce système par une suite mathématique."
   ]
  },
  {
   "cell_type": "markdown",
   "id": "a4f44116-6aec-4cf1-8649-a49efded338a",
   "metadata": {},
   "source": [
    "### <u>Modélisation<u>"
   ]
  },
  {
   "cell_type": "markdown",
   "id": "ff82ae7f-0ada-43ab-95b4-4aefa16e8f06",
   "metadata": {},
   "source": [
    "On associe l'évolution de la population de lapins à une suite telle que :"
   ]
  },
  {
   "cell_type": "markdown",
   "id": "a7951b1c-3f7d-45a7-8fb1-aa45e860c676",
   "metadata": {},
   "source": [
    "$n_{i+1} = r(1-\\frac{n_i}{n_{max}})n_i$"
   ]
  },
  {
   "cell_type": "markdown",
   "id": "91bd65e6-3bbe-448e-a98d-d11ba8a9bc97",
   "metadata": {},
   "source": [
    "$n_i$ : population de lapins à l'année i\n",
    "<br>\n",
    "<br>\n",
    "$r$ : taux de croissance maximal\n",
    "<br>\n",
    "<br>\n",
    "$n_{max}$ : nombre maximal de lapins en fonction des ressources existantes\n",
    "<br>\n",
    "<br>\n",
    "$r(1-\\frac{n_i}{n_{max}}$) : nombre de petit par portée, on estime à une portée par an"
   ]
  },
  {
   "cell_type": "markdown",
   "id": "4d45eb80-4ef5-4e88-a9e7-3ccbfb3fa0ec",
   "metadata": {
    "tags": []
   },
   "source": [
    "Nous avons déterminer cette expression en prenant en compte des facteurs limitants tels que les prédateurs et la quantité finie de ressource. Cela induit que le nombre d'enfants par portée ne peut pas être considérer comme une constante donc ce terme devient une fonction de $n_i$ et d'autres paramètres."
   ]
  },
  {
   "cell_type": "markdown",
   "id": "20f7c84b-d351-4c72-9c26-f653d0480455",
   "metadata": {},
   "source": [
    "Pour simplifier l'expression on la réécrit en associant $\\frac{n_i}{n_{max}}$ à la variable $x_i$.\n",
    "<br>\n",
    "On obtient donc :"
   ]
  },
  {
   "cell_type": "markdown",
   "id": "8afdb68d-8fa8-4299-8b1d-299c2fefa13f",
   "metadata": {},
   "source": [
    "$x_{i+1} = r(1-x_i)x_i$"
   ]
  },
  {
   "cell_type": "markdown",
   "id": "a76cc502-30a9-4a65-8ff6-a98592f40f79",
   "metadata": {},
   "source": [
    "que l'on appelle \"l'équation logistique\", pour étudier cette équation il faut introduire la fonction :"
   ]
  },
  {
   "cell_type": "markdown",
   "id": "940e9e22-510b-402c-9872-0d1e677e5d43",
   "metadata": {},
   "source": [
    "$f(x) = r(1-x)x$"
   ]
  },
  {
   "cell_type": "markdown",
   "id": "402d2c53-54cd-4b1d-bef6-a9c4a80c3e3d",
   "metadata": {},
   "source": [
    "Donc on a : $x_{i+1} = f(x_i)$"
   ]
  },
  {
   "cell_type": "markdown",
   "id": "45da8df5-ba95-40d7-9d58-ad2819b55cb3",
   "metadata": {},
   "source": [
    "Nous avons donc une fonction dont le seul paramètre est $r$, qui va varier entre 1 et 4."
   ]
  },
  {
   "cell_type": "markdown",
   "id": "922c29d9-a9af-4428-a7bb-215828d81410",
   "metadata": {},
   "source": [
    "### <u>Représentation graphique du comportement de la suite.<u>"
   ]
  },
  {
   "cell_type": "code",
   "execution_count": 41,
   "id": "f0a42f0e-7805-432c-a119-6b24d1f148e7",
   "metadata": {
    "tags": []
   },
   "outputs": [
    {
     "data": {
      "image/png": "[encoded data removed]",
      "text/plain": [
       "<Figure size 640x480 with 1 Axes>"
      ]
     },
     "metadata": {},
     "output_type": "display_data"
    }
   ],
   "source": [
    "# On importe les modules nécessaires\n",
    "import numpy as np\n",
    "import matplotlib.pyplot as plt\n",
    "\n",
    "N = 100                           # Nombre de termes\n",
    "r = 2.5                           # Valeur de r\n",
    "x0 = 0.1                          # Premier terme de la suite\n",
    "\n",
    "\n",
    "def f(x):                         # On définit la fonction f\n",
    "    x1 = r*(1-x)*x\n",
    "    return(x1)\n",
    "\n",
    "plt.plot([x0], [x0])              # Initialisation\n",
    "\n",
    "# Récurrence de la suite\n",
    "for i in range(N):\n",
    "    \n",
    "    x1 = f(x0)                    # On associe le second terme au premier en utilisant la suite f(x)\n",
    "    plt.plot([x0, x0], [x0, x1])  # Etapes nécessaires à la récurrence\n",
    "    plt.plot([x0], [x1])          \n",
    "    plt.plot([x0, x1], [x1, x1])  \n",
    "    plt.plot([x1], [x1])          \n",
    "    x0 = x1                       \n",
    "\n",
    "plt.ylim(0, 0.8)                  # Limites de l'axe des ordonnées\n",
    "plt.plot(f(i))                    # On trace la courbe f(x)\n",
    "plt.xlabel('Temps(années)')       # Titre de l'axe des abscisses\n",
    "plt.ylabel('Nombre de lapins')    # Titre de l'axe des ordonées\n",
    "plt.title('Evolution du nombre de lapin en fonction du temps')  # Titre du graphique\n",
    "plt.show()                        # On affiche la fonction à l'écran"
   ]
  },
  {
   "cell_type": "markdown",
   "id": "25ed7238-bcad-468b-8e4a-5cc70b7cadd4",
   "metadata": {},
   "source": [
    "On observe que la courbe représentant la population de lapin en fonction du temps est croissante et tend vers une limite, ce qui indique que la population de lapin a un plafond.\n",
    "<br> On constate que même si on fait varier $r$ entre 2.5 et 4 cela ne change rien à la croissance de la fonction mais la limite a l'air différente.\n",
    "<br> pour $r$ = 2.5 on a une limite proche de 0.6\n",
    "<br> pour $r$ = 3 on a une limite proche de 0.65\n",
    "<br> pour $r$ = 3.5 on a une limite proche de 0.7\n",
    "<br> et pour $r$ = 4 on a une limite proche de 0.8"
   ]
  },
  {
   "cell_type": "markdown",
   "id": "c27aeb56-4084-435e-8371-77c9bfcf701a",
   "metadata": {},
   "source": [
    "### <u>Diagramme de bifurcation<u>"
   ]
  },
  {
   "cell_type": "markdown",
   "id": "a4f7bb04-b169-4781-abad-9ca3315e51a8",
   "metadata": {},
   "source": [
    "L'objectif va être d'étudier la limite de notre suite, pour cela nous allons garder une valeur fixe pour $x_0$ telle que $x_0 = 0.00001$ et nous allons faire varier $r$ entre 2.5 et 4 de façon à déterminer la dépendance de la limite à la valeur de $r$. "
   ]
  },
  {
   "cell_type": "code",
   "execution_count": 44,
   "id": "bad916fb-eb9b-4209-bd7d-3a2c5d64ef85",
   "metadata": {
    "tags": []
   },
   "outputs": [
    {
     "data": {
      "image/png": "[encoded data removed]",
      "text/plain": [
       "<Figure size 640x480 with 1 Axes>"
      ]
     },
     "metadata": {},
     "output_type": "display_data"
    }
   ],
   "source": [
    "# On importe les modules nécessaires\n",
    "import numpy as np\n",
    "import matplotlib.pyplot as plt\n",
    "\n",
    "N = 100 # Nombre de termes\n",
    "r1 = 2.5  # Première valeur de r choisie\n",
    "r2 = 3    # Seconde valeur de r choisie\n",
    "r3 = 3.5  # Troisième valeur de r choisie\n",
    "r4 = 4    # Quatrième valeur de r choisie\n",
    "x0 = 0.0001 # Premier terme de la suite\n",
    "\n",
    "# Définition de la fonction f1(x)\n",
    "def f1(x):\n",
    "    X1 = r1*(1-x)*x\n",
    "    return(X1)                    \n",
    "\n",
    "\n",
    "# Récurrence de la suite\n",
    "for i in range(N):\n",
    "    \n",
    "    x1 = f1(x0)                    # On associe le second terme au premier en utilisant la suite f(x)\n",
    "    plt.plot([x0, x0], [x0, x1])   # Etapes nécessaires à la récurrence\n",
    "    plt.plot([x0], [x1])           \n",
    "    plt.plot([x0, x1], [x1, x1])   \n",
    "    plt.plot([x1], [x1])               \n",
    "    x2 = f1(x1)\n",
    "    \n",
    "\n",
    "# Définition de la fonction f2(x)\n",
    "def f2(x):\n",
    "    X2 = r2*(1-x)*x\n",
    "    return(X2)\n",
    "\n",
    "\n",
    "# Récurrence de la suite\n",
    "for i in range(N):\n",
    "    \n",
    "    x1 = f2(x0)                    # On associe le second terme au premier en utilisant la suite f(x)\n",
    "    plt.plot([x0, x0], [x0, x1])   # Etapes nécessaires à la récurrence\n",
    "    plt.plot([x0], [x1])           \n",
    "    plt.plot([x0, x1], [x1, x1])   \n",
    "    plt.plot([x1], [x1])           \n",
    "    x2 = f2(x1)\n",
    "\n",
    "\n",
    "# Définition de la fonction f3(x)\n",
    "def f3(x):\n",
    "    X3 = r3*(1-x)*x\n",
    "    return(X3)\n",
    "\n",
    "    \n",
    "    \n",
    "# Récurrence de la suite\n",
    "for i in range(N):\n",
    "    x1 = f3(x0)                    # On associe le second terme au premier en utilisant la suite f(x)\n",
    "    plt.plot([x0, x0], [x0, x1])   # Etapes nécessaires à la récurrence\n",
    "    plt.plot([x0], [x1])           \n",
    "    plt.plot([x0, x1], [x1, x1])   \n",
    "    plt.plot([x1], [x1])           \n",
    "    x2 = f3(x1)\n",
    "    \n",
    "\n",
    "# Définition de la fonction f4(x)\n",
    "def f4(x):\n",
    "    X4 = r4*(1-x)*x\n",
    "    return(X4)\n",
    "\n",
    "\n",
    "# Récurrence de la suite\n",
    "for i in range(N):\n",
    "    \n",
    "    x1 = f4(x0)                    # On associe le second terme au premier en utilisant la suite f(x)\n",
    "    plt.plot([x0, x0], [x0, x1])   # Etapes nécessaires à la récurrence\n",
    "    plt.plot([x0], [x1])           \n",
    "    plt.plot([x0, x1], [x1, x1])   \n",
    "    plt.plot([x1], [x1])           \n",
    "    x2 = f4(x1)\n",
    "\n",
    "    \n",
    "\n",
    "    \n",
    "x = np.linspace(0, 100, 1000)                      # On définit le nombre de valeur que l'on prend et le pas entre elles\n",
    "\n",
    "plt.plot(f1(x))                                    # On trace les 4 fonctions f1, f2, f3 et f4\n",
    "plt.plot(f2(x))\n",
    "plt.plot(f3(x))\n",
    "plt.plot(f4(x))                                    \n",
    "plt.xlim(2.5, 4)                                   # Limites de l'axe des abscisses\n",
    "plt.ylim(0, 1)                                     # Limites de l'axe des ordonnées\n",
    "plt.xlabel('Valeur de r')                          # Titre de l'axe des abscisses\n",
    "plt.ylabel('100 derniers termes de la suite')      # Titre de l'axe des ordonnées\n",
    "plt.title('Diagramme de bifurcation')              # Titre du graphique\n",
    "plt.grid()                                         # Affichage d'un quadrillage\n",
    "plt.show()                                         # On affiche le graphique à l'écran"
   ]
  },
  {
   "cell_type": "markdown",
   "id": "89274f2f-4d72-4d79-8195-f253ec3cd208",
   "metadata": {},
   "source": [
    "On remarque que les quatres fonctions pour une valeur de r compris entre 2.5 et 4 n'admettent pas la même limite.\n",
    "<br> La courbe bleue correspond à la fonction $f_1$ donc pour r = 2.5\n",
    "<br> La courbe orange correspond à la fonction $f_2$ donc pour r = 3\n",
    "<br> La courbe verte correspond à la fonction $f_3$ donc pour r = 3.5\n",
    "<br> La courbe rouge correspond à la fonction $f_4$ donc pour r = 4"
   ]
  },
  {
   "cell_type": "markdown",
   "id": "ddb8188f-c32e-4fa3-ac36-bbd1146a038b",
   "metadata": {},
   "source": [
    "La limite pour $r$ = 2.5 sur les 100 derniers termes est d'environ 0.6\n",
    "<br>La limite pour $r$ = 3 sur les 100 derniers termes est d'environ 0.7\n",
    "<br>La limite pour $ r$ = 3.5 sur les 100 derniers termes est d'environ 0.825\n",
    "<br>La limite pour $r$ = 4 sur les 100 derniers termes est d'environ 0.975"
   ]
  },
  {
   "cell_type": "markdown",
   "id": "6064d9b4-a99f-4abd-b6eb-32588e65c2b2",
   "metadata": {},
   "source": [
    "Si on compare les résultats obtenus pour une valeur de $x$ = 0.1 et ceux pour $x$ = 0.00001 on constate que les limites ont l'air d'être équivalentes, donc on peut en conclure que le diagramme de bifurcation ne dépend pas de la valeur de $x_0$ mais seulement de celle de $r$. "
   ]
  },
  {
   "cell_type": "markdown",
   "id": "c94ddf61-c701-420c-a336-94073d2b2883",
   "metadata": {},
   "source": [
    "### <u>Caractère chaotique du système.<u>"
   ]
  },
  {
   "cell_type": "markdown",
   "id": "e28c4c00-74fd-4173-a4a0-8f1fa448c248",
   "metadata": {},
   "source": [
    "Dans cette partie le but est d'illustrer le caractère chaotique de notre système, c'est à dire la façon à laquelle un faible changement dans les conditions initiales peut changer radicalement l'évolution du système.\n",
    "<br>Cela correspond mathématiquement à une différence entre les deux fonctions qui va croître de manière exponentielle, et dépendant de la valeur de $r$, donc de la forme : \n",
    "$$e^{t\\lambda(r)}$$"
   ]
  },
  {
   "cell_type": "markdown",
   "id": "460523df-b366-457b-8ce5-b140c22250b2",
   "metadata": {},
   "source": [
    "Lorsque $\\lambda$ est une fonction à valeur négative la suite associée $x_i$ va converger or lorsque $\\lambda$ est une fonction à valeur positive la suite va diverger. Comme nous avons pu le voir avec le diagramme de bifurcation on peut avoir plusioeurs limites pour différentes valeurs de $r$. "
   ]
  },
  {
   "cell_type": "markdown",
   "id": "9756c511-dcd5-442e-9717-4bf11941797d",
   "metadata": {},
   "source": [
    "L'expression $\\lambda(r)$ est : $$\\lambda = \\lim_{n \\to \\infty} \\frac{1}{n}\\sum_{i=0}^{n-1} log |f'(x_i)|$$\n",
    "\n",
    "<br> La manière de calculer cet exposant est due à Aleksander Lyapunov, on nommera donc $\\lambda(r)$ l'exposant de Lyapunov."
   ]
  },
  {
   "cell_type": "code",
   "execution_count": 52,
   "id": "9935ebe6-11c7-4ea9-b2eb-c93e72477840",
   "metadata": {
    "tags": []
   },
   "outputs": [
    {
     "data": {
      "image/png": "[encoded data removed]",
      "text/plain": [
       "<Figure size 640x480 with 1 Axes>"
      ]
     },
     "metadata": {},
     "output_type": "display_data"
    }
   ],
   "source": [
    "# On importe les modules nécessaires\n",
    "import numpy as np\n",
    "import matplotlib.pyplot as plt\n",
    "\n",
    "x0 = 0.0001\n",
    "n = 100\n",
    "r = np.linspace(2.5, 4, 100)\n",
    "\n",
    "# Récurrence de x_i\n",
    "def f(x):\n",
    "    for k in range(n):\n",
    "        x = r*(1-x0)*x0 \n",
    "        return(x)\n",
    "\n",
    "# Définition de la fonction f1(x) qui correspond à f'(x_i)\n",
    "def f1(x):\n",
    "    X = r*(-2*f(x) + 1)\n",
    "    return(X)\n",
    "\n",
    "# Calcul du produit de 1/n et de la somme de 0 à n-1 de log|f'(x_i)| \n",
    "def f2(x):\n",
    "    for i in range(n-1):\n",
    "        l = ((1/n)*np.sum(np.log(np.fabs(f1(x)))))\n",
    "        return(l)\n",
    "        \n",
    "\n",
    "plt.plot(l > 0, color = 'r', linestyle = '-.', linewidth = 2)\n",
    "plt.plot(l < 0, color ='g', linestyle = '-.', linewidth = 2)\n",
    "plt.axhline(y = 0, color = 'b', linestyle = '-', linewidth = 2)   # On trace une ligne horizontale bleue pour lambda = 0\n",
    "plt.xlim(2.5, 4)                                                  # Limites de l'axe des abscisses\n",
    "plt.ylim(-2, 1)                                                   # Limites de l'axe des ordonnées\n",
    "plt.xlabel('Valeur de r')                                         # Titre de l'axe des abscisses\n",
    "plt.ylabel('Lambda')                                              # Titre de l'axe des ordonnées\n",
    "plt.title('Exposant de Lyapunov')                                 # Titre du graphique\n",
    "plt.show() "
   ]
  },
  {
   "cell_type": "markdown",
   "id": "05eb5f53-db79-4106-9cff-4d2fbde23f05",
   "metadata": {},
   "source": [
    "On a vu dans le diagramme de bifurcation que nous pouvons avoir des évolutions assez différentes pour les valeurs de r que nous avons exploités.\n",
    "<br>Dans ce graphique on voit que l'on a des valeurs de lambda qui varient beaucoup on peut notamment avoir des changements de signe, il y a des valeurs positives et négatives donc cela a un gros impact sur l'évolution du système.\n",
    "<br>(Observations faites à partir du modèle présent sur le site MNP)"
   ]
  },
  {
   "cell_type": "markdown",
   "id": "b721f50d-14c2-4542-bda8-4aff69693051",
   "metadata": {},
   "source": [
    "### <u>Conclusion<u>"
   ]
  },
  {
   "cell_type": "markdown",
   "id": "75706c47-8211-4155-84ac-2bd79d233e69",
   "metadata": {},
   "source": [
    "On peut donc on conclure que l'équation logistique est assez peu stable car en faisant varier la valeur d'un seul terme (r) on a pu avoir des résultats assez différents.\n",
    "<br>L'évolution de la population de lapin au cours du temps est donc assez dépendante du taux de croissance maximal (r)."
   ]
  }
 ],
 "metadata": {
  "kernelspec": {
   "display_name": "Python [conda env:data_mining]",
   "language": "python",
   "name": "conda-env-data_mining-py"
  },
  "language_info": {
   "codemirror_mode": {
    "name": "ipython",
    "version": 3
   },
   "file_extension": ".py",
   "mimetype": "text/x-python",
   "name": "python",
   "nbconvert_exporter": "python",
   "pygments_lexer": "ipython3",
   "version": "3.12.1"
  }
 },
 "nbformat": 4,
 "nbformat_minor": 5
}
