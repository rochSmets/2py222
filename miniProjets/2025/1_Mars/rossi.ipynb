{
 "cells": [
  {
   "cell_type": "markdown",
   "id": "5c5e8d07-c870-4e78-b0ef-c0f6cfd3de9e",
   "metadata": {},
   "source": [
    "###### Mélodie ROSSI, L2 SPRINT-B\n"
   ]
  },
  {
   "cell_type": "markdown",
   "id": "703691ac-eab4-4938-a458-6ae7f5666fee",
   "metadata": {},
   "source": [
    "# Mini-Projet 1 : Mouvement rétrograde de Mars\n"
   ]
  },
  {
   "cell_type": "markdown",
   "id": "ce858ed4-cbbd-4258-a84d-c0c8882d868a",
   "metadata": {},
   "source": [
    "## Présentation du sujet\n",
    "\n",
    "Nous cherchons à créer un modèle qui représente le mouvement rétrogarde de Mars. Pour cela nous avons des données dans un document en format CSV que nous allons comparer au modèle que nous construirons."
   ]
  },
  {
   "cell_type": "markdown",
   "id": "9daa84c7-a6c8-43ee-9292-5511934957bd",
   "metadata": {},
   "source": [
    "---"
   ]
  },
  {
   "cell_type": "markdown",
   "id": "d9b3c2df-457d-45d5-90a9-e54217dd72b2",
   "metadata": {},
   "source": [
    "## Mouvement circulaire uniforme"
   ]
  },
  {
   "cell_type": "markdown",
   "id": "a763fac8-98f6-47d1-8757-5c5d1d4cd264",
   "metadata": {},
   "source": [
    "Les équations du mouvement pour un mouvement circulaire uniforme des astres par rapport $\\textbf{au Soleil}$ :"
   ]
  },
  {
   "cell_type": "markdown",
   "id": "f35676ae-4413-4e40-ba9a-4a1fd5e3d3f2",
   "metadata": {
    "tags": []
   },
   "source": [
    "Terre :\n",
    "\n",
    "\\begin{cases}\n",
    "X(t) = R_T cos(\\omega_T t+ \\phi) \\\\\n",
    "Y(t) = R_T sin(\\omega_T t+ \\phi)\n",
    "\\end{cases}\n"
   ]
  },
  {
   "cell_type": "markdown",
   "id": "7d8ec9d4-ba5c-424e-9d7f-29ddf2f0982b",
   "metadata": {
    "tags": []
   },
   "source": [
    "\n",
    "Mars :\n",
    "\\begin{cases}\n",
    "X(t) = R_M cos(\\omega_M t+ \\phi) \\\\\n",
    "Y(t) = R_M sin(\\omega_M t+ \\phi)\n",
    "\\end{cases}\n"
   ]
  },
  {
   "cell_type": "markdown",
   "id": "69d73679-1c09-44a7-bb79-6f7cb85fb881",
   "metadata": {},
   "source": [
    "avec $\\omega=\\frac{2\\pi}{T}$ :      \n",
    "$\\omega_T=\\frac{2\\pi}{T_T}$           \n",
    "$\\omega_M=\\frac{2\\pi}{T_M}$"
   ]
  },
  {
   "cell_type": "markdown",
   "id": "9ade5d7f-72ce-4f82-ba48-67942cc5e2d9",
   "metadata": {},
   "source": [
    "Si $t=0$, on a :      \n",
    "$X(t=0)=Rcos(0 \\times \\omega+\\phi)=Rcos(\\phi)$,            \n",
    "$Y(t=0)=Rsin(0 \\times \\omega+\\phi)=Rsin(\\phi)$.          "
   ]
  },
  {
   "cell_type": "markdown",
   "id": "05471080-902a-4971-ab57-55f63ff38436",
   "metadata": {},
   "source": [
    "---"
   ]
  },
  {
   "cell_type": "markdown",
   "id": "45d4689a-bec5-4119-b973-6e0bf14b51e7",
   "metadata": {},
   "source": [
    "## Modèle bidimensionnel"
   ]
  },
  {
   "cell_type": "markdown",
   "id": "4df8627c-44e0-4705-b73a-0927ccb2201d",
   "metadata": {},
   "source": [
    "### Grandeurs utiles :\n",
    "\n",
    "Rayon de l'orbite de la Terre : 1 UA  \n",
    "Période de révolution de la Terre : 365.256 jours  \n",
    "Rayon de l'orbite de Mars : 1.52371 UA  \n",
    "Période de révolution de Mars : 686.885 jours"
   ]
  },
  {
   "cell_type": "markdown",
   "id": "097803c3-8618-416f-9d09-ba7452de7ccf",
   "metadata": {},
   "source": [
    "![solar.png](solar.png)"
   ]
  },
  {
   "cell_type": "code",
   "execution_count": 1,
   "id": "3da9b5af-22ad-4855-a1e2-1a70d8da69e7",
   "metadata": {},
   "outputs": [],
   "source": [
    "import numpy as np\n",
    "import matplotlib.pyplot as plt\n",
    "import pandas as pd\n",
    "import math as m\n",
    "\n",
    "#Paramètres\n",
    "R_T = 1 #UA\n",
    "T_T = 365.256 #jours\n",
    "R_M = 1.52371 #UA\n",
    "T_M = 686.885 #jours"
   ]
  },
  {
   "cell_type": "markdown",
   "id": "76b1c6fa-99c0-4b28-8383-f95d258762db",
   "metadata": {},
   "source": [
    "avec les périodes respectives $T_T$ et $T_M$, nous pouvons calculer $\\omega_T$ et $\\omega_M$ :     "
   ]
  },
  {
   "cell_type": "code",
   "execution_count": 2,
   "id": "5dcb6869-13f3-498d-92b6-fef05e5afb9e",
   "metadata": {
    "tags": []
   },
   "outputs": [
    {
     "name": "stdout",
     "output_type": "stream",
     "text": [
      "0.01720214125758259 0.009147361359149765\n"
     ]
    }
   ],
   "source": [
    "omega_T = 2*np.pi/T_T #en jours^-1\n",
    "omega_M = 2*np.pi/T_M #en jours^-1\n",
    "\n",
    "print(omega_T, omega_M) "
   ]
  },
  {
   "cell_type": "markdown",
   "id": "5d230491-ce9d-48da-9992-66b50e1f2a6e",
   "metadata": {
    "tags": []
   },
   "source": [
    "On cherche l'angle $\\phi_{app}(t)$."
   ]
  },
  {
   "cell_type": "markdown",
   "id": "309080c0-f55c-41e6-aab9-ee87ff356888",
   "metadata": {},
   "source": [
    "Nous cherchons les données par rapport à la Terre, or nous les avons seulement par rapport au Soleil :"
   ]
  },
  {
   "cell_type": "markdown",
   "id": "e6e92399-e375-4d80-9263-29032653bca4",
   "metadata": {
    "tags": []
   },
   "source": [
    "\\begin{cases}\n",
    "X(t) = R_{M/T} cos(\\omega_{M/T} t+ \\phi) \\\\\n",
    "Y(t) = R_{M/T} sin(\\omega_{M/T} t+ \\phi)\n",
    "\\end{cases}\n"
   ]
  },
  {
   "cell_type": "markdown",
   "id": "f82cb6f5-7a2f-49d6-b894-a4514cf4e8e9",
   "metadata": {},
   "source": [
    "Rappelons que $\\phi_{app}(t) \\ne \\phi$"
   ]
  },
  {
   "cell_type": "markdown",
   "id": "6a8a6c22-08b4-4fb8-889d-26099ef99316",
   "metadata": {
    "tags": []
   },
   "source": [
    "On fait ensuite le rapport des deux coordonnées :\n",
    "$$\\frac{Y_{M/T}}{X_{M/T}} = tan(\\omega_{M/T}+\\phi_{app})$$\n",
    "or $\\omega_{M/T}t=\\phi_{M/T}$        \n",
    "et $\\phi_{app}(t)=\\phi_{M/T} + \\phi_{app}$"
   ]
  },
  {
   "cell_type": "markdown",
   "id": "6ccf3f56-174b-42ec-b4e0-045efe851e99",
   "metadata": {},
   "source": [
    "$$\\phi_{app}(t) = arctan(\\frac{Y_{M/T}}{X_{M/T}})$$\n",
    "or nous ne connaissons pas $Y_{M/T}$ et $X_{M/T}$"
   ]
  },
  {
   "cell_type": "markdown",
   "id": "fa4998ce-d7e8-4666-b1b2-8a5f2c1652d8",
   "metadata": {},
   "source": [
    "Nous utilisons donc la Transformée de Galilée :\n",
    "$$X_{M/T}=X_{M}+X_{Soleil/T}$$ \n",
    "or on a :\n",
    "$$X_{M/T}=X_{M}-X_{T}$$ \n",
    "\n",
    "d'où :\n",
    "\\begin{cases}\n",
    "X_{M/T}(t) = X_{M}-X_{T} \\\\\n",
    "Y_{M/T}(t) = Y_{M}-Y_{T}\n",
    "\\end{cases}"
   ]
  },
  {
   "cell_type": "markdown",
   "id": "bbff8533-857e-46fd-9d5e-a76dae8294d5",
   "metadata": {},
   "source": [
    "On finalement : \n",
    "$$\\phi_{app}(t) = arctan(\\frac{Y_{M}-Y_{T}}{X_{M}-X_{T}})$$\n",
    "\n",
    "$$\\phi_{app}(t) = arctan(\\frac{R_M sin(\\omega_M t+ \\phi)-R_T sin(\\omega_T t+ \\phi)}{ R_M cos(\\omega_M t+ \\phi)-R_T cos(\\omega_T t+ \\phi)})$$"
   ]
  },
  {
   "cell_type": "code",
   "execution_count": 4,
   "id": "67103208-df7e-4df1-985a-377e47bbdd24",
   "metadata": {
    "tags": []
   },
   "outputs": [],
   "source": [
    "def phi_app(t1, R_T=1):\n",
    "    t = (t1 - start_np).astype('timedelta64[D]').astype(float) #days_elasped\n",
    "    b = R_M*np.sin(omega_M*t+phi)-R_T*np.sin(omega_T*t+phi)\n",
    "    a = R_M*np.cos(omega_M*t+phi)-R_T*np.cos(omega_T*t+phi)\n",
    "    return np.degrees(np.arctan2(b, a))+180"
   ]
  },
  {
   "cell_type": "markdown",
   "id": "b76e54f8-968a-4089-8ff9-9762c86b35ce",
   "metadata": {},
   "source": [
    "---"
   ]
  },
  {
   "cell_type": "markdown",
   "id": "a15c0af4-48da-41dc-8abd-d660bfc8e096",
   "metadata": {},
   "source": [
    "## Données"
   ]
  },
  {
   "cell_type": "markdown",
   "id": "ea2b0263-ba91-49ed-ac62-0433c14209b9",
   "metadata": {},
   "source": [
    "Le fichier DataMars.csv contient les coordonnées (longitude et latitude) de la position de Mars par rapport au centre de la Terre en fonction de la date entre 2015 et 2017. Notons que la latitude est définie ici par rapport au plan de l'écliptique.    \n",
    "Le centre de la boucle peut s'observer à la date du 25 mai 2016, à la longitude de 240.5°."
   ]
  },
  {
   "cell_type": "code",
   "execution_count": 5,
   "id": "4ee363e6-1c0f-42a4-a0aa-6b62993a0c58",
   "metadata": {
    "tags": []
   },
   "outputs": [
    {
     "data": {
      "text/html": [
       "<div>\n",
       "<style scoped>\n",
       "    .dataframe tbody tr th:only-of-type {\n",
       "        vertical-align: middle;\n",
       "    }\n",
       "\n",
       "    .dataframe tbody tr th {\n",
       "        vertical-align: top;\n",
       "    }\n",
       "\n",
       "    .dataframe thead th {\n",
       "        text-align: right;\n",
       "    }\n",
       "</style>\n",
       "<table border=\"1\" class=\"dataframe\">\n",
       "  <thead>\n",
       "    <tr style=\"text-align: right;\">\n",
       "      <th></th>\n",
       "      <th>Target</th>\n",
       "      <th>Date</th>\n",
       "      <th>Longitude (d:m:s)</th>\n",
       "      <th>Longitude (decimal)</th>\n",
       "      <th>Latitude (d:m:s)</th>\n",
       "      <th>Latitude (decimal)</th>\n",
       "    </tr>\n",
       "  </thead>\n",
       "  <tbody>\n",
       "    <tr>\n",
       "      <th>0</th>\n",
       "      <td>Mars</td>\n",
       "      <td>2015-03-01</td>\n",
       "      <td>6 41 13.6229</td>\n",
       "      <td>6.687117</td>\n",
       "      <td>-00 29 17.9130</td>\n",
       "      <td>-0.488309</td>\n",
       "    </tr>\n",
       "    <tr>\n",
       "      <th>1</th>\n",
       "      <td>Mars</td>\n",
       "      <td>2015-03-02</td>\n",
       "      <td>7 27 2.2465</td>\n",
       "      <td>7.450624</td>\n",
       "      <td>-00 28 35.5370</td>\n",
       "      <td>-0.476538</td>\n",
       "    </tr>\n",
       "    <tr>\n",
       "      <th>2</th>\n",
       "      <td>Mars</td>\n",
       "      <td>2015-03-03</td>\n",
       "      <td>8 12 48.4061</td>\n",
       "      <td>8.213446</td>\n",
       "      <td>-00 27 53.1443</td>\n",
       "      <td>-0.464762</td>\n",
       "    </tr>\n",
       "    <tr>\n",
       "      <th>3</th>\n",
       "      <td>Mars</td>\n",
       "      <td>2015-03-04</td>\n",
       "      <td>8 58 32.0880</td>\n",
       "      <td>8.975580</td>\n",
       "      <td>-00 27 10.7400</td>\n",
       "      <td>-0.452983</td>\n",
       "    </tr>\n",
       "    <tr>\n",
       "      <th>4</th>\n",
       "      <td>Mars</td>\n",
       "      <td>2015-03-05</td>\n",
       "      <td>9 44 13.2819</td>\n",
       "      <td>9.737023</td>\n",
       "      <td>-00 26 28.3298</td>\n",
       "      <td>-0.441203</td>\n",
       "    </tr>\n",
       "    <tr>\n",
       "      <th>...</th>\n",
       "      <td>...</td>\n",
       "      <td>...</td>\n",
       "      <td>...</td>\n",
       "      <td>...</td>\n",
       "      <td>...</td>\n",
       "      <td>...</td>\n",
       "    </tr>\n",
       "    <tr>\n",
       "      <th>895</th>\n",
       "      <td>Mars</td>\n",
       "      <td>2017-08-12</td>\n",
       "      <td>134 12 33.4912</td>\n",
       "      <td>134.209303</td>\n",
       "      <td>+01 8 6.1441</td>\n",
       "      <td>1.135040</td>\n",
       "    </tr>\n",
       "    <tr>\n",
       "      <th>896</th>\n",
       "      <td>Mars</td>\n",
       "      <td>2017-08-13</td>\n",
       "      <td>134 50 55.6253</td>\n",
       "      <td>134.848785</td>\n",
       "      <td>+01 8 12.7600</td>\n",
       "      <td>1.136878</td>\n",
       "    </tr>\n",
       "    <tr>\n",
       "      <th>897</th>\n",
       "      <td>Mars</td>\n",
       "      <td>2017-08-14</td>\n",
       "      <td>135 29 17.1024</td>\n",
       "      <td>135.488084</td>\n",
       "      <td>+01 8 19.2188</td>\n",
       "      <td>1.138672</td>\n",
       "    </tr>\n",
       "    <tr>\n",
       "      <th>898</th>\n",
       "      <td>Mars</td>\n",
       "      <td>2017-08-15</td>\n",
       "      <td>136 7 37.9459</td>\n",
       "      <td>136.127207</td>\n",
       "      <td>+01 8 25.5227</td>\n",
       "      <td>1.140423</td>\n",
       "    </tr>\n",
       "    <tr>\n",
       "      <th>899</th>\n",
       "      <td>Mars</td>\n",
       "      <td>2017-08-16</td>\n",
       "      <td>136 45 58.1727</td>\n",
       "      <td>136.766159</td>\n",
       "      <td>+01 8 31.6734</td>\n",
       "      <td>1.142132</td>\n",
       "    </tr>\n",
       "  </tbody>\n",
       "</table>\n",
       "<p>900 rows × 6 columns</p>\n",
       "</div>"
      ],
      "text/plain": [
       "    Target        Date Longitude (d:m:s)  Longitude (decimal)  \\\n",
       "0     Mars  2015-03-01      6 41 13.6229             6.687117   \n",
       "1     Mars  2015-03-02       7 27 2.2465             7.450624   \n",
       "2     Mars  2015-03-03      8 12 48.4061             8.213446   \n",
       "3     Mars  2015-03-04      8 58 32.0880             8.975580   \n",
       "4     Mars  2015-03-05      9 44 13.2819             9.737023   \n",
       "..     ...         ...               ...                  ...   \n",
       "895   Mars  2017-08-12    134 12 33.4912           134.209303   \n",
       "896   Mars  2017-08-13    134 50 55.6253           134.848785   \n",
       "897   Mars  2017-08-14    135 29 17.1024           135.488084   \n",
       "898   Mars  2017-08-15     136 7 37.9459           136.127207   \n",
       "899   Mars  2017-08-16    136 45 58.1727           136.766159   \n",
       "\n",
       "    Latitude (d:m:s)  Latitude (decimal)  \n",
       "0     -00 29 17.9130           -0.488309  \n",
       "1     -00 28 35.5370           -0.476538  \n",
       "2     -00 27 53.1443           -0.464762  \n",
       "3     -00 27 10.7400           -0.452983  \n",
       "4     -00 26 28.3298           -0.441203  \n",
       "..               ...                 ...  \n",
       "895     +01 8 6.1441            1.135040  \n",
       "896    +01 8 12.7600            1.136878  \n",
       "897    +01 8 19.2188            1.138672  \n",
       "898    +01 8 25.5227            1.140423  \n",
       "899    +01 8 31.6734            1.142132  \n",
       "\n",
       "[900 rows x 6 columns]"
      ]
     },
     "execution_count": 5,
     "metadata": {},
     "output_type": "execute_result"
    }
   ],
   "source": [
    "df_DataMars=pd.read_csv(\"DataMars.csv\", comment=\"#\", delimiter=\",\")\n",
    "\n",
    "df_DataMars"
   ]
  },
  {
   "cell_type": "markdown",
   "id": "de5b5a2f-d250-427b-ae30-14caab1a4831",
   "metadata": {},
   "source": [
    "---"
   ]
  },
  {
   "cell_type": "markdown",
   "id": "1993f6ba-2e3d-4a96-9014-6d8a1ba7f7f4",
   "metadata": {},
   "source": [
    "## Représentation graphique"
   ]
  },
  {
   "cell_type": "markdown",
   "id": "6c3512ba-fc9d-4965-9b24-7496774eac99",
   "metadata": {},
   "source": [
    "### Tracer les données"
   ]
  },
  {
   "cell_type": "markdown",
   "id": "38e22473-dfdd-4805-b4ca-d29e4080a849",
   "metadata": {},
   "source": [
    "Nous avons besoin de vérifier la taille des abscisses et des ordonnées.        "
   ]
  },
  {
   "cell_type": "code",
   "execution_count": 6,
   "id": "6405d88d-9eee-4713-b728-fafac3ff404b",
   "metadata": {
    "tags": []
   },
   "outputs": [
    {
     "data": {
      "text/plain": [
       "900"
      ]
     },
     "execution_count": 6,
     "metadata": {},
     "output_type": "execute_result"
    }
   ],
   "source": [
    "type(df_DataMars[\"Date\"])\n",
    "df_DataMars[\"Date\"].shape[0]"
   ]
  },
  {
   "cell_type": "code",
   "execution_count": 7,
   "id": "d16abb6d-df2d-4a3e-87e2-f35f8399da95",
   "metadata": {
    "tags": []
   },
   "outputs": [
    {
     "data": {
      "text/plain": [
       "900"
      ]
     },
     "execution_count": 7,
     "metadata": {},
     "output_type": "execute_result"
    }
   ],
   "source": [
    "type(df_DataMars[\"Longitude (decimal)\"])\n",
    "df_DataMars[\"Longitude (decimal)\"].shape[0]"
   ]
  },
  {
   "cell_type": "code",
   "execution_count": 8,
   "id": "b4b2ee79-220a-4264-8057-f537bc7d7c04",
   "metadata": {
    "tags": []
   },
   "outputs": [],
   "source": [
    "dfd1=pd.to_datetime(df_DataMars[\"Date\"])"
   ]
  },
  {
   "cell_type": "markdown",
   "id": "feba4b4f-22c2-4b46-ac77-f9f9956e3c85",
   "metadata": {},
   "source": [
    "Nous avons besoin de convertir en np.array pour pouvoir tracer le graph :"
   ]
  },
  {
   "cell_type": "code",
   "execution_count": 9,
   "id": "10ecb384-f4f5-4a02-a999-c6306288da92",
   "metadata": {
    "tags": []
   },
   "outputs": [],
   "source": [
    "dflongitude=np.array(df_DataMars[\"Longitude (decimal)\"])\n",
    "dfdate=np.array(dfd1)"
   ]
  },
  {
   "cell_type": "code",
   "execution_count": 10,
   "id": "65d82f3c-3a9e-4c14-acc9-f260ea2f4508",
   "metadata": {
    "tags": []
   },
   "outputs": [
    {
     "name": "stdout",
     "output_type": "stream",
     "text": [
      "<class 'numpy.datetime64'> (900,)\n"
     ]
    }
   ],
   "source": [
    "print(type(dfdate[0]), dfdate.shape)"
   ]
  },
  {
   "cell_type": "code",
   "execution_count": 11,
   "id": "0748fe3e-e89b-4316-8551-0537bdbea8e5",
   "metadata": {
    "tags": []
   },
   "outputs": [
    {
     "data": {
      "text/plain": [
       "(900,)"
      ]
     },
     "execution_count": 11,
     "metadata": {},
     "output_type": "execute_result"
    }
   ],
   "source": [
    "type(dflongitude)\n",
    "dflongitude.shape"
   ]
  },
  {
   "cell_type": "code",
   "execution_count": 12,
   "id": "fabdee45-7660-456d-af78-985d2f1627dc",
   "metadata": {},
   "outputs": [
    {
     "data": {
      "image/png": "[encoded data removed]",
      "text/plain": [
       "<Figure size 1000x600 with 1 Axes>"
      ]
     },
     "metadata": {},
     "output_type": "display_data"
    }
   ],
   "source": [
    "from datetime import datetime\n",
    "\n",
    "plt.figure(figsize=(10, 6))\n",
    "plt.plot(dfdate, dflongitude, 'r', label=\"données\", marker=\".\")\n",
    "\n",
    "plt.xlim(datetime(2016, 1, 1),datetime(2016, 12, 31))\n",
    "plt.ylim(200, 300)\n",
    "\n",
    "plt.xlabel(\"date\")\n",
    "plt.ylabel(\"longitude(°)\")\n",
    "plt.title(\"Comparaison modèle-data du mouvement de rétrograde de Mars\")\n",
    "plt.grid()\n",
    "plt.legend()\n",
    "plt.show()"
   ]
  },
  {
   "cell_type": "markdown",
   "id": "ee77e2c7-049c-47dc-abae-2d391bfce410",
   "metadata": {},
   "source": [
    "### Tracer le modèle et les données"
   ]
  },
  {
   "cell_type": "code",
   "execution_count": 13,
   "id": "ce924abf-83c6-4dae-a6ed-bddd01f9a9ea",
   "metadata": {
    "tags": []
   },
   "outputs": [],
   "source": [
    "start_date=datetime(2014, 4, 5) #changement pour avoir une date d'initialisation au 25 mai 2016\n",
    "end_date=datetime(2017, 12, 31)\n",
    "\n",
    "#pour les limites du graphique\n",
    "start_gen=datetime(2016, 1, 1)\n",
    "end_gen=datetime(2016, 12, 31)\n",
    "\n",
    "#transformation en type datetime64 pour pouvoir tracer\n",
    "start_np=np.datetime64(start_date)\n",
    "end_np=np.datetime64(end_date)"
   ]
  },
  {
   "cell_type": "code",
   "execution_count": 14,
   "id": "c7c4bf73-f39d-4709-9054-38e1f22a4cfb",
   "metadata": {
    "tags": []
   },
   "outputs": [
    {
     "name": "stdout",
     "output_type": "stream",
     "text": [
      "[-330] jours\n"
     ]
    }
   ],
   "source": [
    "c=np.datetime64(datetime(2014,4,5))\n",
    "e=c-np.datetime64(datetime(2015,3,1))\n",
    "print(np.array([e])/ 86400000000, \"jours\") # conversion ms à jours"
   ]
  },
  {
   "cell_type": "markdown",
   "id": "a1bc3d3c-6b77-4fc0-a97f-a198ef0f28ae",
   "metadata": {},
   "source": [
    "Pour aligner $t=0$ (l'origine des dates) avec la date 2016-05-25, on a décalé le début des dates à -330 jours, c'est-à-dire que nous avons mis en place un décalage de 330 jours avec l'origine initiale des dates (2015-03-01)."
   ]
  },
  {
   "cell_type": "code",
   "execution_count": 15,
   "id": "394533e9-6a3b-4301-9792-7ab42856c537",
   "metadata": {
    "tags": []
   },
   "outputs": [],
   "source": [
    "# phi_app utilise une date au lieu d'un tableau np.linspace\n",
    "step = np.timedelta64(1, 'D')\n",
    "dates = np.arange(start_np, end_np, step)"
   ]
  },
  {
   "cell_type": "markdown",
   "id": "e1d20165-ccd7-468c-8f14-4a2b42ab8df6",
   "metadata": {},
   "source": [
    "Le centre de la boucle peut s'observer à la date du 25 mai 2016, à la longitude de 240.5°. Donc $\\phi=0$ à la date du 25 mai 2016 et $\\phi_{app}(2016/05/25)= 240.5°$"
   ]
  },
  {
   "cell_type": "markdown",
   "id": "612184de-f4e8-40f1-88b8-8c963c2ee799",
   "metadata": {},
   "source": [
    "On cherche $\\phi$ avec les conditions initiales citées au-dessus.\n",
    "\n",
    "$$\\phi = \\frac{240.5 \\pi}{180} + n\\pi$$"
   ]
  },
  {
   "cell_type": "code",
   "execution_count": 16,
   "id": "b355f2e8-a7f5-472d-b653-5332987fd1ff",
   "metadata": {
    "tags": []
   },
   "outputs": [],
   "source": [
    "phi=np.degrees(240.5*np.pi/180+2*np.pi)"
   ]
  },
  {
   "cell_type": "code",
   "execution_count": 17,
   "id": "4c3cbba4-153c-4eee-b523-2272069d0705",
   "metadata": {
    "tags": []
   },
   "outputs": [
    {
     "name": "stdout",
     "output_type": "stream",
     "text": [
      "600.5 degrés\n"
     ]
    }
   ],
   "source": [
    "print(phi, \"degrés\")"
   ]
  },
  {
   "cell_type": "code",
   "execution_count": 18,
   "id": "a77f0eb1-6517-41f0-a785-ff496c99f293",
   "metadata": {
    "tags": []
   },
   "outputs": [
    {
     "name": "stdout",
     "output_type": "stream",
     "text": [
      "[781] jours\n"
     ]
    }
   ],
   "source": [
    "d=np.datetime64(datetime(2016,5,25))-start_np\n",
    "print(np.array([d])/ 86400000000, \"jours\") # conversion ms à jours"
   ]
  },
  {
   "cell_type": "markdown",
   "id": "e9c4fe89-05b1-4e31-b263-35fd546d5202",
   "metadata": {},
   "source": [
    "$\\phi=0$ au 451ème jour"
   ]
  },
  {
   "cell_type": "code",
   "execution_count": 19,
   "id": "262aa45e-2cde-41c7-9029-d52412ef37b8",
   "metadata": {
    "tags": []
   },
   "outputs": [
    {
     "data": {
      "text/plain": [
       "453.57933015165185"
      ]
     },
     "execution_count": 19,
     "metadata": {},
     "output_type": "execute_result"
    }
   ],
   "source": [
    "phi_app(dates[451])+180 #on ajoute 180° pour que les données et le modèle soient dans le même intervalle"
   ]
  },
  {
   "cell_type": "markdown",
   "id": "1d17c316-b46e-400a-90da-6a7e8d77d504",
   "metadata": {},
   "source": [
    "---"
   ]
  },
  {
   "cell_type": "markdown",
   "id": "9865d7b3-317c-4614-84fe-c10039c05851",
   "metadata": {},
   "source": [
    "$$\\phi_{\\text{app}}(0) = \\arctan\\left(\\tan(\\phi)\\right) = \\phi$$"
   ]
  },
  {
   "cell_type": "code",
   "execution_count": 20,
   "id": "7fea2f2d-05fd-4af3-a054-0aff0495c563",
   "metadata": {
    "tags": []
   },
   "outputs": [
    {
     "data": {
      "text/plain": [
       "26.115597605933687"
      ]
     },
     "execution_count": 20,
     "metadata": {},
     "output_type": "execute_result"
    }
   ],
   "source": [
    "phi_app(dates[0])"
   ]
  },
  {
   "cell_type": "code",
   "execution_count": 22,
   "id": "3e0dab28-d68e-40ce-a67b-7d96633d5d87",
   "metadata": {},
   "outputs": [
    {
     "data": {
      "image/png": "[encoded data removed]",
      "text/plain": [
       "<Figure size 1000x600 with 1 Axes>"
      ]
     },
     "metadata": {},
     "output_type": "display_data"
    }
   ],
   "source": [
    "plt.figure(figsize=(10, 6))\n",
    "\n",
    "plt.plot(dfdate, dflongitude, 'r', label=\"data\", marker=\".\")\n",
    "plt.plot(dates, phi_app(dates)+166, 'b', label='modèle') #changement, ajout de 166° à phi_app du modèle afin que les deux soient dans la plage 0 à 360°\n",
    "\n",
    "plt.xlim(start_gen, end_gen)\n",
    "plt.ylim(200, 300)\n",
    "\n",
    "plt.xlabel(\"date\")\n",
    "plt.ylabel(\"longitude(°)\")\n",
    "plt.title(\"Comparaison modèle-data du mouvement de rétrograde de Mars\")\n",
    "plt.grid()\n",
    "plt.legend()\n",
    "plt.show()"
   ]
  },
  {
   "cell_type": "code",
   "execution_count": null,
   "id": "b6c2b750-3438-463e-88ef-6065b683fe6f",
   "metadata": {},
   "outputs": [],
   "source": []
  }
 ],
 "metadata": {
  "kernelspec": {
   "display_name": "Python 3 (ipykernel)",
   "language": "python",
   "name": "python3"
  },
  "language_info": {
   "codemirror_mode": {
    "name": "ipython",
    "version": 3
   },
   "file_extension": ".py",
   "mimetype": "text/x-python",
   "name": "python",
   "nbconvert_exporter": "python",
   "pygments_lexer": "ipython3",
   "version": "3.12.8"
  }
 },
 "nbformat": 4,
 "nbformat_minor": 5
}
