{
 "cells": [
  {
   "cell_type": "markdown",
   "id": "39adc00c-4bd3-4073-aa4b-b155d587f0e5",
   "metadata": {
    "tags": []
   },
   "source": [
    "# Compte rendu mini-projet Eisa Leblond 21302500\n",
    "Le but de ce mini projet et de construire un modèle représentant le mouvement rétrograde de mars illustré ci-dessous :\n"
   ]
  },
  {
   "cell_type": "markdown",
   "id": "84aada8c-3c56-462d-ae04-b82ee7d24b87",
   "metadata": {},
   "source": [
    "![2014-2016-mars-retrograde-earth-night-sky-samples.jpg](./2014-2016-mars-retrograde-earth-night-sky-samples.jpg)"
   ]
  },
  {
   "cell_type": "markdown",
   "id": "5f116b2a-920c-4d8b-ba5a-b353b1031452",
   "metadata": {
    "tags": []
   },
   "source": [
    "Tout d'abord rappelons les équations d'un mouvement circulaire uniforme de rayon $R$ , de période $T$ et de phase à l'orgine $\\varphi$  : "
   ]
  },
  {
   "cell_type": "markdown",
   "id": "7302002d-7de2-4043-837a-4e6471a7d9ab",
   "metadata": {
    "tags": []
   },
   "source": [
    "\n",
    "\\begin{cases}\n",
    "X(t) = R \\cos\\left( \\frac{2\\pi t}{T} + \\varphi \\right) \\\\\n",
    "Y(t) = R \\sin\\left( \\frac{2\\pi t}{T} + \\varphi \\right)\n",
    "\\end{cases}\n"
   ]
  },
  {
   "cell_type": "markdown",
   "id": "2f9b89db-9047-4073-99e5-998a62400ac3",
   "metadata": {
    "tags": []
   },
   "source": [
    "Dans cette première partie nous allons déterminer théoriquement $\\varphi_{app}$ en ce basant sur ce modèle :"
   ]
  },
  {
   "cell_type": "markdown",
   "id": "48df30da-86fd-4afc-ab2e-64b9ee3ff7f4",
   "metadata": {},
   "source": [
    "![solar.png](solar.png)"
   ]
  },
  {
   "cell_type": "markdown",
   "id": "c14dc28b-1a99-43e4-85b9-42d0f780b361",
   "metadata": {},
   "source": [
    "## Les constantes du problème :"
   ]
  },
  {
   "cell_type": "code",
   "execution_count": 1,
   "id": "a6d4ecda-f698-48b9-a5d1-dc6b85e51819",
   "metadata": {
    "tags": []
   },
   "outputs": [],
   "source": [
    "import numpy as np \n",
    "import matplotlib.pyplot as plt\n",
    "import math \n",
    "import pandas as pd \n",
    "\n",
    "pi=np.pi \n",
    "RO_T=1.5e8          #rayon de l'orbite de la Terre en m\n",
    "RO_M=1.52371*RO_T   #rayon de l'orbite de Mars en m\n",
    "P_terre= 365.256    #période de révolution de la Terre en jours \n",
    "P_mars= 686.885     #période de révolution de Mars en jours\n"
   ]
  },
  {
   "cell_type": "markdown",
   "id": "b780b9d1-9187-4ee2-bc3d-a386b55c6530",
   "metadata": {
    "tags": []
   },
   "source": [
    "## Détermination de $\\varphi(0)$: \n",
    "On ouvre le ficher DataMars.csv qui contient les coordonnées (longitude et latitude) de la position de Mars par rapport au centre de la Terre en fonction de la date entre 2015 et 2017. On sait que le 25 mai 2015 le centre de la boucle on peut observer le centre de la boucle, à la longitude de 240.5°.\n",
    "\n",
    " \n"
   ]
  },
  {
   "cell_type": "code",
   "execution_count": 2,
   "id": "8482fee3-1a55-4433-b931-dcd9e6e1d760",
   "metadata": {
    "tags": []
   },
   "outputs": [],
   "source": [
    "data = pd.read_csv(\"DataMars.csv\", comment='#') \n",
    "\n",
    "npDate=np.array(data[\"Date\"])       \n",
    "t0=np.where(npDate==\"2016-05-25\")[0][0] \n",
    "\n",
    "temps=np.arange(0,len(data))\n",
    "phi_m0=2*pi*t0*(1/P_terre -1/P_mars) \n",
    "\n",
    "phi_t=2*np.pi*temps/P_terre  #on exprime phi de la Terre en fonction du temps\n",
    "phi_m=phi_m0 + 2*pi*temps/P_mars #on exprime phi de mars en fonction du temps \n"
   ]
  },
  {
   "cell_type": "markdown",
   "id": "e03c8bcc-256b-4537-a3db-9c355e007e63",
   "metadata": {
    "tags": []
   },
   "source": [
    "## Conversion de l'intervalle en dates:\n",
    "On souhaite étudier les trajectoires seulement durant l'année 2016, on crée un intervalle entre janvier 2016 et décembre 2016"
   ]
  },
  {
   "cell_type": "code",
   "execution_count": 3,
   "id": "42b8d86a-b216-4018-8e91-a609216fe102",
   "metadata": {
    "tags": []
   },
   "outputs": [],
   "source": [
    "date_initiale=\"2016-01-01\"\n",
    "date_finale=\"2016-12-12\"\n",
    "date=pd.date_range(start=date_initiale, end=date_finale, freq=\"D\") #on choisit une fréquence de jours "
   ]
  },
  {
   "cell_type": "markdown",
   "id": "c540d915-4b42-4b96-8918-a2e39a0e17f3",
   "metadata": {
    "tags": []
   },
   "source": [
    "## Expression de la trajectoire de la Terre :\n"
   ]
  },
  {
   "cell_type": "code",
   "execution_count": 4,
   "id": "b26c1755-ea4b-4d08-b486-05779f947333",
   "metadata": {
    "tags": []
   },
   "outputs": [],
   "source": [
    "X_T=RO_T *np.cos(phi_t)\n",
    "Y_T=RO_T *np.sin(phi_t) "
   ]
  },
  {
   "cell_type": "markdown",
   "id": "645b5751-c774-4d55-a6da-d2d41a6d5ff2",
   "metadata": {},
   "source": [
    "## Expression de la trajectoire de Mars : "
   ]
  },
  {
   "cell_type": "code",
   "execution_count": 5,
   "id": "d81e07c4-3a25-435d-b879-76bc61d7f776",
   "metadata": {
    "tags": []
   },
   "outputs": [],
   "source": [
    "X_M=RO_M*np.cos(phi_m) \n",
    "Y_M=RO_M*np.sin(phi_m)"
   ]
  },
  {
   "cell_type": "markdown",
   "id": "241bd043-3a30-4b38-9fbb-995993bf35bb",
   "metadata": {},
   "source": [
    "## Détermination théorique de la longitude: "
   ]
  },
  {
   "cell_type": "code",
   "execution_count": 6,
   "id": "38aaf314-258e-4b89-941c-834997fde37c",
   "metadata": {
    "tags": []
   },
   "outputs": [],
   "source": [
    "phi_apparent=np.arctan2((Y_M - Y_T) , (X_M - X_T)) #on obtient la longitude calculée\n",
    "phi_deg=phi_apparent*180/pi +180                   #on convertit l'angle en dégrés\n",
    "phi_deg=phi_apparent*180/pi +180\n"
   ]
  },
  {
   "cell_type": "markdown",
   "id": "af25ff5b-04d9-4cfe-bb93-541c541789a0",
   "metadata": {},
   "source": [
    "## Extraction des dates et de la longitude mesurée:"
   ]
  },
  {
   "cell_type": "code",
   "execution_count": 8,
   "id": "058dc21a-86c4-48fe-8687-87ccea5ba646",
   "metadata": {
    "tags": []
   },
   "outputs": [],
   "source": [
    "#On extrait du ficher DataMars.csv les dates et la longitude expérimentale\n",
    "dates_data = pd.to_datetime(data['Date']) \n",
    "longitude_data = data['Longitude (decimal)'] \n",
    "\n",
    "#On sélectionne uniquement les valeurs de longitude entre les indices 306 et 672 ce qui correspond à la période janvier à décembre 2016\n",
    "dates_data_bis = dates_data[306:672]\n",
    "longitude_data_bis= longitude_data[306:672]"
   ]
  },
  {
   "cell_type": "markdown",
   "id": "dc64b7d1-31a3-4238-84b1-0a232bcee1a7",
   "metadata": {
    "tags": []
   },
   "source": [
    "## L'ajustement de  $\\varphi$  : \n"
   ]
  },
  {
   "cell_type": "code",
   "execution_count": 9,
   "id": "90f4d345-6706-4657-813c-d04314c50567",
   "metadata": {
    "tags": []
   },
   "outputs": [],
   "source": [
    "A=longitude_data[t0]-phi_deg[t0]\n",
    "phi_deg=phi_deg+A"
   ]
  },
  {
   "cell_type": "markdown",
   "id": "e4fbcfe5-afd4-4848-b776-610bd11e9b6c",
   "metadata": {},
   "source": [
    "## Comparaison graphique entre modèle et données: "
   ]
  },
  {
   "cell_type": "code",
   "execution_count": 10,
   "id": "a0d95073-22ed-4141-9e4f-e054ca07da9c",
   "metadata": {
    "tags": []
   },
   "outputs": [
    {
     "data": {
      "image/png": "[encoded data removed]",
      "text/plain": [
       "<Figure size 1000x500 with 1 Axes>"
      ]
     },
     "metadata": {},
     "output_type": "display_data"
    }
   ],
   "source": [
    "plt.figure(figsize=(10, 5))\n",
    "plt.plot(dates_data, phi_deg, label=\"Modèle\", color=\"blue\") # on trace les dates en fonction de la longitude de Mars\n",
    "plt.scatter(dates_data, longitude_data, label=\"Données\", color=\"red\", s=1)\n",
    "plt.xlim(np.datetime64(\"2016-01\"), np.datetime64(\"2016-12\")) #on ajoute une limite pour restreintre le graphique à l'année 2016\n",
    "plt.xlabel(\"Date\")\n",
    "plt.ylabel(\"Longitude (en °)\")\n",
    "plt.ylim(150)                   \n",
    "plt.title(\"Comparaison de la longitude de Mars (Modèle vs Données)\")\n",
    "plt.legend()\n",
    "plt.show()"
   ]
  },
  {
   "cell_type": "markdown",
   "id": "f5c70a90-ab82-41b6-bc74-529908d404dd",
   "metadata": {},
   "source": [
    "On a obtenu un graphique cohérent avec deux courbes très proches, on remarque que la courbe des données est légérement supérieure cela peut être du à la précision des instruments qui ont permis de réaliser ces mesures expérimentales"
   ]
  }
 ],
 "metadata": {
  "kernelspec": {
   "display_name": "Python 3 (ipykernel)",
   "language": "python",
   "name": "python3"
  },
  "language_info": {
   "codemirror_mode": {
    "name": "ipython",
    "version": 3
   },
   "file_extension": ".py",
   "mimetype": "text/x-python",
   "name": "python",
   "nbconvert_exporter": "python",
   "pygments_lexer": "ipython3",
   "version": "3.12.8"
  }
 },
 "nbformat": 4,
 "nbformat_minor": 5
}
