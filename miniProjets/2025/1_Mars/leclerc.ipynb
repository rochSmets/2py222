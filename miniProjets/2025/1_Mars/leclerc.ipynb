{
 "cells": [
  {
   "cell_type": "markdown",
   "id": "dc89feb2-399b-43c9-b17b-4f4a0bf413bb",
   "metadata": {
    "tags": []
   },
   "source": [
    "# __Mouvement Rétrograde de Mars__\n",
    "#### On cherche à expliquer un phénomène qui se produit tous les deux ans où Mars seble faire un demi-tour sur la sphère céleste puis repartir dans sa direction initiale: "
   ]
  },
  {
   "cell_type": "markdown",
   "id": "ac494676-bd76-4429-a170-ebcf7656efec",
   "metadata": {
    "tags": []
   },
   "source": [
    "![retrograde.png](retrograde.png)"
   ]
  },
  {
   "cell_type": "markdown",
   "id": "a329be02-3686-450c-b447-90d2e6e3bd37",
   "metadata": {
    "tags": []
   },
   "source": [
    "On modèlise les orbites de la Terre et de Mars autour du Soleil par des cercles de rayon et de périodes $R_T$, $T_T$ et $R_M$, $T_M$ respectivement:"
   ]
  },
  {
   "cell_type": "markdown",
   "id": "39156e52-3fd5-4c4d-b0d8-bd9a2026a6da",
   "metadata": {
    "tags": []
   },
   "source": [
    "![solar.png](solar.png)"
   ]
  },
  {
   "cell_type": "markdown",
   "id": "182c11ef-f740-4b20-b064-802270564e2a",
   "metadata": {},
   "source": [
    "On négligle les interractions gravitationnelles entre Mars et la Terre devant celle du Soleil (la masse du Soleil\\\n",
    "étant très grande devant les deux autres), de même on considère la position du Soleil fixe dans tous référentiel.\\\n",
    "On assimile le Soleil, la Terre et Mars à des particules ponctuelles."
   ]
  },
  {
   "cell_type": "markdown",
   "id": "8b628ef0-518b-47bf-8ec1-a91d5550b6ea",
   "metadata": {},
   "source": [
    "On utilisera les coordonnées polaires.\\\n",
    "L'angle $\\Phi_{app}$ est l'angle apparent de Mars dans le référentiel depuis la terre, il correspond à la longitude de Mars sur la sphère céleste.\\\n",
    "Il correspond aussi à l'angle entre le vecteur position de Mars dans le référentiel géocentrique $\\vec{r'}$ et l'axe ($Ox$), où $O$ est le centre du Soleil.\\\n",
    "Le vecteur position de la Terre dans le référentiel héliocentrique est $\\vec{r_T}$ et l'angle avec ($Ox$) est $\\phi$, le vecteur position de Mars dans le référentiel héliocentrique est $\\vec{r_M}$ et l'angle avec ($Ox$) est $\\theta$.\n",
    "\n",
    "On va donc avoir $\\vec{r}'=\\vec{r_M}-\\vec{r_T}$."
   ]
  },
  {
   "cell_type": "markdown",
   "id": "0ec24303-a471-4fb7-ad6a-b08e54a07b3e",
   "metadata": {
    "tags": []
   },
   "source": [
    "#### __Référentiel héliocentrique:__"
   ]
  },
  {
   "cell_type": "markdown",
   "id": "5afd7e6c-ddfe-43b3-8313-2be1c551d836",
   "metadata": {},
   "source": [
    "$\\phi(t)=\\phi _0 +2\\pi \\dfrac{t}{T_T} $\\\n",
    "$\\theta(t)=\\theta _0 +2\\pi \\dfrac{t}{T_M} $, où $\\phi_0$ et $\\theta_0$ sont les angles au début de l'expérience et $T_T$ et $T_M$ les périodes de révolutions de la Terre et de Mars.\n",
    "\n",
    "On a donc :\\\n",
    "$x_T(t)=R_Tcos(\\phi(t)), \\quad x_M(t)=R_Mcos(\\theta(t))$\n",
    "\\\n",
    "$y_T(t)=R_Tsin(\\phi(t)), \\quad y_M(t)=R_Msin(\\theta(t))$\n",
    "\\\n",
    "\\\n",
    "D'où: \\\n",
    "$\\vec{r}'=(x_M(t)-x_T(t))\\vec{e_x} + (y_M(t)-y_T(t))\\vec{e_y}$"
   ]
  },
  {
   "cell_type": "markdown",
   "id": "88a10280-5b79-405a-9c7d-86acc7aa527e",
   "metadata": {
    "tags": []
   },
   "source": [
    "#### __Référentiel géocentrique:__"
   ]
  },
  {
   "cell_type": "markdown",
   "id": "6bc8752a-8a1d-494f-9ef1-7c349e337f61",
   "metadata": {},
   "source": [
    "$x'_M(t)=r'cos(\\Phi_{app}(t))$\n",
    "\\\n",
    "$y'_M(t)=r'sin(\\Phi_{app}(t))$\n",
    "\\\n",
    "$\\Rightarrow tan(\\Phi_{app})=\\dfrac{y'_M(t)}{x'_M(t)}$\\\n",
    "\\\n",
    "$\\Rightarrow \\Phi_{app}=arctan\\bigl(\\frac{y'_M(t)}{x'_M(t)}\\bigr)$"
   ]
  },
  {
   "cell_type": "markdown",
   "id": "773458bb-9b29-4b13-991d-006ea1ad8b61",
   "metadata": {},
   "source": [
    "$\\dfrac{y'_M(t)}{x'_M(t)}=\\dfrac{y_M(t)-y_T(t)}{x_M(t)-x_T(t)}=\\dfrac{R_Msin\\Bigl(\\theta _0 +2\\pi \\dfrac{t}{T_M}\\Bigr)-R_Tsin\\Bigl(\\phi _0 +2\\pi \\dfrac{t}{T_T}\\Bigr)}{R_Mcos\\Bigl(\\theta _0 +2\\pi \\dfrac{t}{T_M}\\Bigr)-R_Tcos\\Bigl(\\phi _0 +2\\pi \\dfrac{t}{T_T}\\Bigr)}$"
   ]
  },
  {
   "cell_type": "markdown",
   "id": "700f01e6-8f06-48cf-a6a9-2b1a9ea3258d",
   "metadata": {
    "tags": []
   },
   "source": [
    "\n",
    "\n",
    "### __Hypothèse__:\n",
    "On fait maintenant l'hypothèse que le mouvement rétrograde de Mars correspond au fait que la Terre dépasse Mars dans le référentiel héliocentrique,\n",
    "si c'est effectivement le cas alors, en traçant $\\Phi_{app}$, on devrait voir l'angle diminuer au moment du mouvement rétrograde.\\\n",
    "La suite va servir à tester cette hypothèse."
   ]
  },
  {
   "cell_type": "markdown",
   "id": "51f26519-26d0-4df7-a7a0-d6a26b9e8e5d",
   "metadata": {},
   "source": [
    "### __Détermination de $\\phi_0$ et $\\theta_0$__:\n",
    "\n",
    "On choisit l'axe ($Ox$) de manière à avoir $\\phi_0=0$ à $t=0$.\\\n",
    "La date de 25-05-2016 correspond au début du mouvement rétrograde en 2016, selon l'hypothèse ci-dessus la Terre et Mars étaient alignées à cette date.\\\n",
    "On note cette date $t_i$:\\\n",
    "$\\theta(t_i)=\\phi(t_i)$\\\n",
    "$\\Rightarrow \\dfrac{2\\pi}{T_M}t_i + \\theta_0=\\dfrac{2\\pi}{T_T}t_i$\\\n",
    "$\\Rightarrow \\theta_0=2\\pi t_i(\\dfrac{1}{T_T} - \\dfrac{1}{T_M})$"
   ]
  },
  {
   "cell_type": "code",
   "execution_count": 1,
   "id": "1a01247a-87eb-400c-ac7b-a4201ab822eb",
   "metadata": {
    "tags": []
   },
   "outputs": [],
   "source": [
    "import pandas as pd\n",
    "import numpy as np\n",
    "from matplotlib import pyplot as plt"
   ]
  },
  {
   "cell_type": "code",
   "execution_count": 2,
   "id": "39ac6048-b9da-424a-bba8-c46ece07058f",
   "metadata": {
    "tags": []
   },
   "outputs": [
    {
     "data": {
      "text/html": [
       "<div>\n",
       "<style scoped>\n",
       "    .dataframe tbody tr th:only-of-type {\n",
       "        vertical-align: middle;\n",
       "    }\n",
       "\n",
       "    .dataframe tbody tr th {\n",
       "        vertical-align: top;\n",
       "    }\n",
       "\n",
       "    .dataframe thead th {\n",
       "        text-align: right;\n",
       "    }\n",
       "</style>\n",
       "<table border=\"1\" class=\"dataframe\">\n",
       "  <thead>\n",
       "    <tr style=\"text-align: right;\">\n",
       "      <th></th>\n",
       "      <th>Target</th>\n",
       "      <th>Date</th>\n",
       "      <th>Longitude (d:m:s)</th>\n",
       "      <th>Longitude (decimal)</th>\n",
       "      <th>Latitude (d:m:s)</th>\n",
       "      <th>Latitude (decimal)</th>\n",
       "    </tr>\n",
       "  </thead>\n",
       "  <tbody>\n",
       "    <tr>\n",
       "      <th>0</th>\n",
       "      <td>Mars</td>\n",
       "      <td>2015-03-01</td>\n",
       "      <td>6 41 13.6229</td>\n",
       "      <td>6.687117</td>\n",
       "      <td>-00 29 17.9130</td>\n",
       "      <td>-0.488309</td>\n",
       "    </tr>\n",
       "    <tr>\n",
       "      <th>1</th>\n",
       "      <td>Mars</td>\n",
       "      <td>2015-03-02</td>\n",
       "      <td>7 27 2.2465</td>\n",
       "      <td>7.450624</td>\n",
       "      <td>-00 28 35.5370</td>\n",
       "      <td>-0.476538</td>\n",
       "    </tr>\n",
       "    <tr>\n",
       "      <th>2</th>\n",
       "      <td>Mars</td>\n",
       "      <td>2015-03-03</td>\n",
       "      <td>8 12 48.4061</td>\n",
       "      <td>8.213446</td>\n",
       "      <td>-00 27 53.1443</td>\n",
       "      <td>-0.464762</td>\n",
       "    </tr>\n",
       "    <tr>\n",
       "      <th>3</th>\n",
       "      <td>Mars</td>\n",
       "      <td>2015-03-04</td>\n",
       "      <td>8 58 32.0880</td>\n",
       "      <td>8.975580</td>\n",
       "      <td>-00 27 10.7400</td>\n",
       "      <td>-0.452983</td>\n",
       "    </tr>\n",
       "    <tr>\n",
       "      <th>4</th>\n",
       "      <td>Mars</td>\n",
       "      <td>2015-03-05</td>\n",
       "      <td>9 44 13.2819</td>\n",
       "      <td>9.737023</td>\n",
       "      <td>-00 26 28.3298</td>\n",
       "      <td>-0.441203</td>\n",
       "    </tr>\n",
       "    <tr>\n",
       "      <th>...</th>\n",
       "      <td>...</td>\n",
       "      <td>...</td>\n",
       "      <td>...</td>\n",
       "      <td>...</td>\n",
       "      <td>...</td>\n",
       "      <td>...</td>\n",
       "    </tr>\n",
       "    <tr>\n",
       "      <th>895</th>\n",
       "      <td>Mars</td>\n",
       "      <td>2017-08-12</td>\n",
       "      <td>134 12 33.4912</td>\n",
       "      <td>134.209303</td>\n",
       "      <td>+01 8 6.1441</td>\n",
       "      <td>1.135040</td>\n",
       "    </tr>\n",
       "    <tr>\n",
       "      <th>896</th>\n",
       "      <td>Mars</td>\n",
       "      <td>2017-08-13</td>\n",
       "      <td>134 50 55.6253</td>\n",
       "      <td>134.848785</td>\n",
       "      <td>+01 8 12.7600</td>\n",
       "      <td>1.136878</td>\n",
       "    </tr>\n",
       "    <tr>\n",
       "      <th>897</th>\n",
       "      <td>Mars</td>\n",
       "      <td>2017-08-14</td>\n",
       "      <td>135 29 17.1024</td>\n",
       "      <td>135.488084</td>\n",
       "      <td>+01 8 19.2188</td>\n",
       "      <td>1.138672</td>\n",
       "    </tr>\n",
       "    <tr>\n",
       "      <th>898</th>\n",
       "      <td>Mars</td>\n",
       "      <td>2017-08-15</td>\n",
       "      <td>136 7 37.9459</td>\n",
       "      <td>136.127207</td>\n",
       "      <td>+01 8 25.5227</td>\n",
       "      <td>1.140423</td>\n",
       "    </tr>\n",
       "    <tr>\n",
       "      <th>899</th>\n",
       "      <td>Mars</td>\n",
       "      <td>2017-08-16</td>\n",
       "      <td>136 45 58.1727</td>\n",
       "      <td>136.766159</td>\n",
       "      <td>+01 8 31.6734</td>\n",
       "      <td>1.142132</td>\n",
       "    </tr>\n",
       "  </tbody>\n",
       "</table>\n",
       "<p>900 rows × 6 columns</p>\n",
       "</div>"
      ],
      "text/plain": [
       "    Target        Date Longitude (d:m:s)  Longitude (decimal)  \\\n",
       "0     Mars  2015-03-01      6 41 13.6229             6.687117   \n",
       "1     Mars  2015-03-02       7 27 2.2465             7.450624   \n",
       "2     Mars  2015-03-03      8 12 48.4061             8.213446   \n",
       "3     Mars  2015-03-04      8 58 32.0880             8.975580   \n",
       "4     Mars  2015-03-05      9 44 13.2819             9.737023   \n",
       "..     ...         ...               ...                  ...   \n",
       "895   Mars  2017-08-12    134 12 33.4912           134.209303   \n",
       "896   Mars  2017-08-13    134 50 55.6253           134.848785   \n",
       "897   Mars  2017-08-14    135 29 17.1024           135.488084   \n",
       "898   Mars  2017-08-15     136 7 37.9459           136.127207   \n",
       "899   Mars  2017-08-16    136 45 58.1727           136.766159   \n",
       "\n",
       "    Latitude (d:m:s)  Latitude (decimal)  \n",
       "0     -00 29 17.9130           -0.488309  \n",
       "1     -00 28 35.5370           -0.476538  \n",
       "2     -00 27 53.1443           -0.464762  \n",
       "3     -00 27 10.7400           -0.452983  \n",
       "4     -00 26 28.3298           -0.441203  \n",
       "..               ...                 ...  \n",
       "895     +01 8 6.1441            1.135040  \n",
       "896    +01 8 12.7600            1.136878  \n",
       "897    +01 8 19.2188            1.138672  \n",
       "898    +01 8 25.5227            1.140423  \n",
       "899    +01 8 31.6734            1.142132  \n",
       "\n",
       "[900 rows x 6 columns]"
      ]
     },
     "execution_count": 2,
     "metadata": {},
     "output_type": "execute_result"
    }
   ],
   "source": [
    "#Données du problème\n",
    "\n",
    "DataMars=pd.read_csv(\"DataMars.csv\", sep=\",\", comment=\"#\") #import des données sur Mars\n",
    "Date=np.array(DataMars[\"Date\"], dtype=\"datetime64\")\n",
    "Longitude=np.array(DataMars[\"Longitude (decimal)\"])\n",
    "\n",
    "R_T=1.5e8 #km \n",
    "T_T=365.256 #jours  \n",
    "R_M=1.52371*R_T \n",
    "T_M=686.885 #jours\n",
    "\n",
    "DataMars"
   ]
  },
  {
   "cell_type": "code",
   "execution_count": 3,
   "id": "38be9abe-ad4c-4cb3-9e7a-ce1980b935cd",
   "metadata": {
    "tags": []
   },
   "outputs": [
    {
     "name": "stdout",
     "output_type": "stream",
     "text": [
      "451\n"
     ]
    }
   ],
   "source": [
    "npDate=np.array(DataMars[\"Date\"])\n",
    "ti=np.where(npDate==\"2016-05-25\")[0][0]\n",
    "print(ti)"
   ]
  },
  {
   "cell_type": "code",
   "execution_count": 4,
   "id": "d341e819-9837-4bff-ac90-18dd1529a560",
   "metadata": {
    "tags": []
   },
   "outputs": [],
   "source": [
    "t=np.arange(0,len(Date)) #On discrétise le temps durant l'année 2016 jours par jours\n",
    "\n",
    "theta_0=2*np.pi*ti*(1/T_T - 1/T_M)\n",
    "\n",
    "phi_t=2*np.pi*t/T_T\n",
    "theta_t=theta_0 + 2*np.pi*t/T_M\n",
    "\n",
    "X_T=R_T*np.cos(phi_t)\n",
    "Y_T=R_T*np.sin(phi_t)\n",
    "\n",
    "X_M=R_M*np.cos(theta_t)\n",
    "Y_M=R_M*np.sin(theta_t)\n",
    "\n",
    "y_t=Y_M - Y_T #y'_M(t)\n",
    "x_t=X_M - X_T #x'_M(t)\n",
    "\n",
    "Phi_app=np.arctan2(y_t,x_t)*180/np.pi + 180 #Longitude de Mars sur la sphère céleste prédite par le modèle (convertie en degrès)\n",
    "Aj=Longitude[ti] - Phi_app[ti] #Valeur d'ajustement des données à t0 correspondant au décalage des axes à ajouter à Phi_app\n",
    "Phi_app+=Aj"
   ]
  },
  {
   "cell_type": "code",
   "execution_count": 5,
   "id": "2d07040b-9fe0-454c-8633-4f9df5358dcd",
   "metadata": {
    "tags": []
   },
   "outputs": [
    {
     "data": {
      "image/png": "[encoded data removed]",
      "text/plain": [
       "<Figure size 984.252x590.551 with 1 Axes>"
      ]
     },
     "metadata": {},
     "output_type": "display_data"
    }
   ],
   "source": [
    "#Affichage de Phi_app\n",
    "\n",
    "cm = 1/2.54  # centimètres en pouces\n",
    "plt.subplots(figsize=(25*cm, 15*cm)) #figsize adapte la taille du graphe pour que les dates soient lisibles\n",
    "\n",
    "plt.plot(Date, Longitude, marker=\".\", markersize=2, color=\"r\", linestyle=\" \", label = 'Données')\n",
    "plt.plot(Date, Phi_app, label = 'Modèle')\n",
    "\n",
    "# Titres et autres\n",
    "plt.title('Longitude de Mars durant 2016')\n",
    "plt.xlabel('Date', fontsize=12)\n",
    "plt.ylabel('Longitude (degrès)', fontsize=12)\n",
    "plt.ylim(200,350)\n",
    "plt.xlim(np.datetime64('2016-01'), np.datetime64('2016-12'))\n",
    "plt.legend()\n",
    "plt.show()"
   ]
  },
  {
   "cell_type": "markdown",
   "id": "65c85fd3-4ee7-473b-a64d-faa3342239f7",
   "metadata": {},
   "source": [
    "On obtient une courbe pour le modèle correspondant presque parfaitement aux points des données, les points sont sur la courbe aux alentours du mouvement rétrograde (ce qui montre que l'hypothèse était bonne) et il y a un écart suffisement petit le reste du temps pour l'attribuer aux erreurs sur les mesures."
   ]
  }
 ],
 "metadata": {
  "kernelspec": {
   "display_name": "Python 3 (ipykernel)",
   "language": "python",
   "name": "python3"
  },
  "language_info": {
   "codemirror_mode": {
    "name": "ipython",
    "version": 3
   },
   "file_extension": ".py",
   "mimetype": "text/x-python",
   "name": "python",
   "nbconvert_exporter": "python",
   "pygments_lexer": "ipython3",
   "version": "3.12.8"
  }
 },
 "nbformat": 4,
 "nbformat_minor": 5
}
