{
 "cells": [
  {
   "cell_type": "markdown",
   "metadata": {},
   "source": [
    "# Calcul des forces de pression sur une digue\n",
    "\n",
    "Une digue est un petit barrage permettant de retenir une étendue d'eau (mer, lac, rivière) par exemple pour protéger des habitations ou des installations en zone inondable. \n",
    "\n",
    "Dans ce mini-projet vous allez calculer numériquement les forces appliquées à une digue de forme arbitraire."
   ]
  },
  {
   "cell_type": "markdown",
   "metadata": {},
   "source": [
    "## Préliminaires mécaniques\n",
    "\n",
    "La digue que nous allons modéliser est un bloc de béton (masse volumique : 3000 kg/m$^3$) posé sur le sol rocheux (coefficient de friction statique béton - roche : 0.5). D'un côté la digue retient une masse d'eau de hauteur $H$, l'autre côté étant exposé à l'air. On prendra $H=10$ m dans toute la suite. \n",
    "\n",
    "Pour simplifier, on se placera en deux dimensions (la digue est de longueur unitaire suivant l'axe perpendiculaire au schéma ci-dessus et on ne considérera pas les bords suivant cette direction).\n",
    "\n",
    "De plus on ne considérera que les forces de pressions dues à la hauteur d'eau (la pression de l'air étant négligée)."
   ]
  },
  {
   "cell_type": "markdown",
   "metadata": {},
   "source": [
    "a. Faites un bilan des forces appliquées à la digue en 2D. Quelle force permet à la digue de ne pas glisser sur le sol rocheux ?"
   ]
  },
  {
   "cell_type": "markdown",
   "metadata": {},
   "source": [
    "Les forces agissant sur la digue en 2D sont :\n",
    "\n",
    "- Le poids, qui est lié à la masse de béton ;\n",
    "- La réaction normale N du sol qui compense le poids ;\n",
    "- La force de frottement T (provenant du contact entre le béton et le sol) qui empêche la digue de glisser ;\n",
    "- La force de pression de l’eau P qui varie avec la hauteur d’eau."
   ]
  },
  {
   "cell_type": "markdown",
   "metadata": {},
   "source": [
    "b. Rappelez l'expression de la pression hydrostatique dans l'eau $P_{eau} (x)$ en fonction de la hauteur par rapport au sol $x$."
   ]
  },
  {
   "cell_type": "markdown",
   "metadata": {},
   "source": [
    "La loi de Pascal nous donne, pour une profondeur y (avec y mesuré depuis le sol et H la hauteur totale d’eau):\n",
    "$$P(y) = \\rho g (H-y)$$ \n",
    "\n",
    "La pression est nullle à la surface de l'eau, donc $P(H) = 0$."
   ]
  },
  {
   "cell_type": "markdown",
   "metadata": {},
   "source": [
    "c. Rappelez la (les) équation(s) d'équilibre statique de la digue."
   ]
  },
  {
   "cell_type": "markdown",
   "metadata": {},
   "source": [
    "- Équilibre vertical : le poids de la digue est compensé par la réaction normale du sol.\n",
    "\n",
    "- Équilibre horizontal : la somme des forces horizontales doit être nulle. En particulier, il faut que la force de frottement (T = μN) compense la composante horizontale de la pression d’eau.\n",
    "On obtient ainsi, pour le côté eau\n",
    "\n",
    "$- T >= - P_{eau}$ **=>** $\\mu N >= \\rho g (H-y)$ **=>** $ y >= H - \\frac{ \\mu N}{\\rho g}$ "
   ]
  },
  {
   "cell_type": "markdown",
   "metadata": {},
   "source": [
    "### Modélisation"
   ]
  },
  {
   "cell_type": "markdown",
   "metadata": {},
   "source": [
    "Pour considérer une digue de forme arbitraire, on modélisera les pentes côté air et côté eau par des fonctions mathématiques. Dans ce projet nous allons intégrer des fonctions suivant la direction donnée par l'axe vertical $y$. Il sera donc plus pratique de définir les pentes de la digue comme étant $x$ en fonction de $y$."
   ]
  },
  {
   "cell_type": "markdown",
   "metadata": {},
   "source": [
    "\n",
    "On définit donc :\n",
    "\n",
    "* une fonction croissante $f_{air}(y)$ représentant l'interface air-béton définie pour $0 \\leq y \\leq H$ et allant de $x_a$ à $0$,\n",
    "* une autre fonction décroissante $f_{eau}(y)$ représentant l'interface eau-béton définie sur le même intervalle et allant de $x_e$ à $0$. \n",
    "\n",
    "On ne considérera ici que des fonctions monotones.\n",
    "\n",
    "On donne l'expression de la courbe côté eau pour une digue représentée par une fonction affine :\n",
    "\n",
    "$$\n",
    "f_{air}(y) = -\\frac{x_a}{H}.(y-H)\n",
    "$$\n",
    "\n",
    "d. Donnez l'expression de la fonction côté air dans le cas d'une fonction affine, et tracez-la avec le code suivant."
   ]
  },
  {
   "cell_type": "markdown",
   "metadata": {},
   "source": [
    "$$f_{eau}(y) = (y-H) \\frac{-x_e}{H} $$"
   ]
  },
  {
   "cell_type": "markdown",
   "metadata": {},
   "source": [
    "## Calcul des forces et équilibre\n",
    "\n",
    "On rappelle que les forces de pression s'exercent perpendiculairement à la surface d'application. Il faut donc pouvoir trouver un vecteur normal à la tangente de ces deux fonctions en tout point, qui sera le vecteur directeur de la force de pression locale."
   ]
  },
  {
   "cell_type": "markdown",
   "metadata": {},
   "source": [
    "On rappelle que l'angle $\\theta$ entre la tangente en un point et l'axe des abscisses (voir schéma ci-dessus) est relié à la dérivée de la courbe par :\n",
    "\n",
    "$$\n",
    "tan(\\theta) = f'(y)\n",
    "$$\n",
    "\n",
    "Les vecteurs $\\vec t$ et $\\vec n$ sont alors donnés par :\n",
    "\n",
    "$$\n",
    "\\vec t = \\cos(\\theta).\\vec{u_y} + \\sin(\\theta).\\vec{u_x}\n",
    "$$\n",
    "\n",
    "$$\n",
    "\\vec n = \\sin(\\theta).\\vec{u_y} - \\cos(\\theta).\\vec{u_x} \n",
    "$$\n"
   ]
  },
  {
   "cell_type": "markdown",
   "metadata": {},
   "source": [
    "Pour pouvoir calculer la résultante des forces de pression sur une surface de forme arbitraire, il nous faut intégrer les forces infinitésimales $\\vec{\\mathrm{d}F}$ s'appliquant à chaque élément de surface $\\mathrm{d}S$. Comme nous sommes en deux dimensions, nous pouvons simplifier le problème en considérant que l'élément de surface est $\\mathrm{d}S = L \\mathrm{d}l$, avec $L = 1$ la longueur unitaire de la digue suivant $z$, ce qui nous ramène à une intégrale 1D (on n'écrira pas $L$ dans la suite).\n",
    "\n",
    "On obtient donc, pour l'interface eau-béton :\n",
    "\n",
    "$$\n",
    "\\vec{F} = \\iint_S \\vec{\\mathrm{d}F} =\\int_0^H P(y) \\mathrm{d}l . \\vec{n}\n",
    "$$\n",
    "\n",
    "avec $\\vec{n}$ le vecteur normal rentrant au point de coordonnées $(f(y),y)$, et $\\mathrm{d}l$ la longueur infinitésimale de la courbe pour une variation $\\mathrm{d}x$. On montre facilement la relation avec l'angle $\\theta$ défini avant :\n",
    "\n",
    "$$\n",
    "\\mathrm{d}l = \\frac{\\mathrm{d}y}{\\cos(\\theta)}\n",
    "$$"
   ]
  },
  {
   "cell_type": "markdown",
   "metadata": {},
   "source": [
    "### Import et fonctions utiles"
   ]
  },
  {
   "cell_type": "code",
   "execution_count": 49,
   "metadata": {},
   "outputs": [],
   "source": [
    "import numpy as np\n",
    "import matplotlib.pyplot as plt"
   ]
  },
  {
   "cell_type": "code",
   "execution_count": 50,
   "metadata": {},
   "outputs": [],
   "source": [
    "def trap_integral(f, interval, n):\n",
    "    a, b = interval\n",
    "    dx = (b - a) / n\n",
    "    I = 0\n",
    "    for i in range(n):\n",
    "        I += (f(a + i * dx) + f(a + (i+1) * dx))/2 * dx\n",
    "    return I\n",
    "\n",
    "def central_df(f, interval, n, include_start_end=False):\n",
    "    if include_start_end:\n",
    "        a, b = interval\n",
    "        dx = (b - a) / (n+2)\n",
    "        xs = np.linspace(a-dx, b+dx, n+2)\n",
    "    else:\n",
    "        xs = np.linspace(*interval, n)\n",
    "    ys = f(xs)\n",
    "    dy = np.ndarray(len(xs)-2)\n",
    "    for i in range(1, len(ys)-1):\n",
    "        dy[i-1] = (ys[i+1] - ys[i-1]) / (xs[i+1] - xs[i-1])\n",
    "    return dy"
   ]
  },
  {
   "cell_type": "markdown",
   "metadata": {},
   "source": [
    "### Cas des digues en pentes droites\n",
    "\n",
    "a. Calculez le volume de la digue par intégration de la largeur de la digue en fonction de $y$. Comparez avec le calcul analytique (ici, l'aire du triangle multipliée par la longueur $L=1$). En déduire la force de gravité exercée sur la digue."
   ]
  },
  {
   "cell_type": "markdown",
   "metadata": {},
   "source": [
    "Le volume de la digue en pentes droites est donnée par l'air du triangle:\n",
    "\n",
    "ici $V = H x_e = 50 m^3$\n",
    "$$M_{digue} = \\rho_b V = 3000 \\times 50 = 150 \\cdot 10^{3} Kg$$\n",
    "$$P_{oids} = M g = 9.81 \\times 150 \\times 10^{3} = 1.47 \\cdot 10^6 N$$"
   ]
  },
  {
   "cell_type": "code",
   "execution_count": 51,
   "metadata": {
    "tags": []
   },
   "outputs": [],
   "source": [
    "# Définition des constantes\n",
    "H = 10\n",
    "xa = -5\n",
    "xe = +5\n",
    "rho_eau = 1000\n",
    "rho_b = 3000\n",
    "g = 9.81"
   ]
  },
  {
   "cell_type": "code",
   "execution_count": 52,
   "metadata": {},
   "outputs": [],
   "source": [
    "# On définit les fonctions côté eau et côté air, ici les courbes concaves\n",
    "def fair(y, H=H, xa=-5):\n",
    "    return -(y - H) * xa / H\n",
    "\n",
    "def feau(y, H=H, xe=5):\n",
    "    return -(y-H) * xe/ H"
   ]
  },
  {
   "cell_type": "code",
   "execution_count": 53,
   "metadata": {},
   "outputs": [
    {
     "data": {
      "image/png": "[encoded data removed]",
      "text/plain": [
       "<Figure size 640x480 with 1 Axes>"
      ]
     },
     "metadata": {},
     "output_type": "display_data"
    }
   ],
   "source": [
    "y = np.linspace(0, H, 1000)\n",
    "\n",
    "plt.plot(fair(y), y, '-b') \n",
    "plt.plot(feau(y), y, '-b')  ## Décommenter après avoir codé la fonction feau(x)\n",
    " \n",
    "plt.plot([xe, xa], [0, 0], '-b') # Bas de la digue\n",
    "plt.xlabel('x (m)') \n",
    "plt.ylabel('y (m)')\n",
    "plt.text(xe, 8, 'eau')\n",
    "plt.text(xa, 8, 'air')\n",
    "plt.axis('equal') # Permet d'avoir un plot isométrique\n",
    "plt.axhline(0, color = \"black\")\n",
    "plt.axvline(0, color = \"black\")\n",
    "plt.xlim(-8, 8)\n",
    "plt.title('Profil de la digue')\n",
    "plt.show()"
   ]
  },
  {
   "cell_type": "markdown",
   "metadata": {},
   "source": [
    "b. Pour le cas des fonctions affines, calculez la résultante (vectorielle ; il y a une composante suivant $x$ et une composante suivant $y$) des forces de pression côté eau. On prendra $x_a = -5$, $x_e = +5$, $H=10$."
   ]
  },
  {
   "cell_type": "markdown",
   "metadata": {},
   "source": [
    "### Définition de l'objet digue"
   ]
  },
  {
   "cell_type": "code",
   "execution_count": 54,
   "metadata": {
    "tags": []
   },
   "outputs": [],
   "source": [
    "class Digue:\n",
    "    def __init__(self, f_eau, f_air, mu, H, rho_b=rho_b, rho_eau=rho_eau,):\n",
    "        self.H = H\n",
    "        self.mu = mu\n",
    "        self.rho_b = rho_b\n",
    "        self.rho_eau = rho_eau\n",
    "        self.f_eau = f_eau\n",
    "        self.f_air = f_air\n",
    "        self.vol = None\n",
    "        self.masse = None\n",
    "        self.df_eau = central_df(self.f_eau, (0, H), 10000*H+1, include_start_end=True)\n",
    "\n",
    "    def calc_volume(self):\n",
    "        self.volume = np.abs(trap_integral(self.f_eau, (0, self.H), 1000)) + np.abs(trap_integral(self.f_air, (0, self.H), 1000))\n",
    "        return self.volume\n",
    "    \n",
    "    def calc_masse(self):\n",
    "        if self.vol is None:\n",
    "            self.calc_volume()\n",
    "        self.masse = self.volume * self.rho_b\n",
    "        return self.masse\n",
    "\n",
    "    def calc_poids(self):\n",
    "        if self.masse is None:\n",
    "            self.calc_masse()\n",
    "        return - self.masse * g\n",
    "    \n",
    "    def calc_pression(self):\n",
    "        integrand_x = lambda y: -self.rho_eau * g * (self.H - y)\n",
    "        integrand_y = lambda y: (self.rho_eau * g * (self.H - y)) * self.df_eau[int(y * 10000 - 1)]\n",
    "        px = trap_integral(integrand_x, (0, self.H), 1000)\n",
    "        py = trap_integral(integrand_y, (0, self.H), 1000)\n",
    "        return (px, py)\n",
    "    \n",
    "    def calc_resultante(self):\n",
    "        px, py = self.calc_pression()\n",
    "        return (px, py + self.calc_poids())\n",
    "    \n",
    "    def is_stable(self):\n",
    "        f_tot_x, f_tot_y = self.calc_resultante()\n",
    "        # T est la force tangentielle (donc la composante horizontale) et N provient du poids et\n",
    "        # de la composante verticale de la pression.\n",
    "        self.T_over_N = -f_tot_x / -f_tot_y\n",
    "        return self.T_over_N < self.mu\n",
    "    \n",
    "    def __str__(self):\n",
    "        is_stable, order = (\"stable\", \"<=\") if self.is_stable() else (\"instable\", \">\")\n",
    "        return f\"La digue est {is_stable} car T/N = {self.T_over_N:.3f} {order} {self.mu}\""
   ]
  },
  {
   "cell_type": "markdown",
   "metadata": {},
   "source": [
    "En rassemblant les formules on a:\n",
    "$$\\vec{P(y)} = \\int_0^H \\frac{\\rho_e g (H-y) \\cdot dy}{cos(tan^{-1}(f_{eau}'(y)))} \\vec{n} =  \\int_0^H \\frac{\\rho_e g (H-y) \\cdot dy}{cos(tan^{-1}(\\frac{-x_e}{H}))} \\vec{n}  $$\n",
    "\n",
    "En posant $theta = tan^{-1}(\\frac{-x_e}{H})$ on a:\n",
    "\n",
    "$$\\vec{P(y)} =  \\int_0^H \\frac{\\rho_e g (H-y) \\cdot dy}{cos(\\theta)} \\vec{n}  $$\n",
    "\n",
    "Suivant x:\n",
    "\n",
    "$$P_x(y) = \\int_0^H \\frac{\\rho_e g (H-y) \\cdot dy \\cdot (-cos(\\theta))}{cos(\\theta)} = - \\rho_e g \\int_0^H (H-y) \\cdot dy =  \\rho_e g (\\frac{H^2}{2} - H)$$\n",
    "\n",
    "Suivant y:\n",
    "\n",
    "$$P_y(y) = \\int_0^H \\frac{\\rho_e g (H-y) \\cdot dy \\cdot (sin(\\theta))}{cos(\\theta)} = \\frac{-x_e}{H} \\rho_e g \\int_0^H (H-y)  \\cdot dy =  x_e \\rho_e g (\\frac{H^2}{2} - H)$$"
   ]
  },
  {
   "cell_type": "markdown",
   "metadata": {},
   "source": [
    "c. En supposant que la digue est en équilibre statique translationnel, calculez avec le principe fondamental de la dynamique les deux composantes (normale et tangentielle) de la force de réaction du sol, puis le rapport de ces composantes $T/N$. En considérant le coefficient de frottement roche/béton de 0.5, la digue est-elle en équilibre translationnel ?"
   ]
  },
  {
   "cell_type": "markdown",
   "metadata": {},
   "source": [
    "PFD:\n",
    "\n",
    "$$ N = - P_{oids} - P_x = g \\rho_b  H x_e +  \\rho_e g (\\frac{H^2}{2} - H)$$\n",
    "\n",
    "$$ T = - P_y = x_e \\rho_e g (\\frac{H^2}{2} - H)$$\n",
    "\n",
    "\n",
    "$$\\frac{T}{N} =  \\frac{(\\frac{H^2}{2} - H) x_e \\rho_e g }{g \\rho_b  H x_e + \\rho_e g (\\frac{H^2}{2} - H)} $$"
   ]
  },
  {
   "cell_type": "markdown",
   "metadata": {},
   "source": [
    "### Verification et validation"
   ]
  },
  {
   "cell_type": "code",
   "execution_count": 55,
   "metadata": {},
   "outputs": [
    {
     "name": "stdout",
     "output_type": "stream",
     "text": [
      "--OBJ-- le poids de la digue est -1.47e+06 N\n",
      "--OBJ-- la pression en x est -4.90e+05 N\n",
      "--OBJ-- la pression en y est -2.45e+05 N\n",
      "--OBJ-- La digue est stable car T/N = 0.286 <= 0.5\n",
      "le poids de la digue est -1.47e+06 N\n",
      "la pression en x est -4.90e+05 N\n",
      "la pression en y est -2.45e+05 N\n",
      "la digue est stable\n",
      "le rapport T/N est 2.86e-01\n"
     ]
    }
   ],
   "source": [
    "digue = Digue(feau, fair, 0.5, H)\n",
    "\n",
    "print(f\"--OBJ-- le poids de la digue est {digue.calc_poids():.2e} N\")\n",
    "print(f\"--OBJ-- la pression en x est {digue.calc_pression()[0]:.2e} N\")\n",
    "print(f\"--OBJ-- la pression en y est {digue.calc_pression()[1]:.2e} N\")\n",
    "print(f\"--OBJ-- {digue}\")\n",
    "\n",
    "def poids(g=g, H=H, rho_b=rho_b, x_e=xe, x_a=xa):\n",
    "    return - g*H*rho_b*(x_e-x_a)/2\n",
    "\n",
    "def pression_x(g=g, H=H, rho_eau=rho_eau):\n",
    "    return -g*rho_eau*H**2/2\n",
    "\n",
    "def pression_y(g=g, H=H, rho_eau=rho_eau, x_e=xe):\n",
    "    return -g*x_e*rho_eau*H/2\n",
    "\n",
    "T = - pression_x()\n",
    "N = - (pression_y()  + poids())\n",
    "\n",
    "print(f\"le poids de la digue est {poids():.2e} N\")\n",
    "print(f\"la pression en x est {pression_x():.2e} N\")\n",
    "print(f\"la pression en y est {pression_y():.2e} N\")\n",
    "is_stable = T/N <= 0.5\n",
    "print(f\"la digue est {'stable' if is_stable else 'instable'}\")\n",
    "print(f\"le rapport T/N est {T/N:.2e}\")"
   ]
  },
  {
   "cell_type": "markdown",
   "metadata": {},
   "source": [
    "d. Reprenez le calcul du rapport $T/N$ et du volume de béton en imposant $x_a=-5$ et $x_e=0$. La digue est-elle stable ?"
   ]
  },
  {
   "cell_type": "code",
   "execution_count": 56,
   "metadata": {},
   "outputs": [
    {
     "name": "stdout",
     "output_type": "stream",
     "text": [
      "La digue est instable car T/N = 0.667 > 0.5\n"
     ]
    }
   ],
   "source": [
    "def fair(y, H=H, xa=-5):\n",
    "    return -(y - H) * xa / H\n",
    "\n",
    "def feau(y, H=H, xe=0):\n",
    "    return -(y-H) * xe/ H\n",
    "\n",
    "print(Digue(f_eau=feau, f_air=fair, mu=0.5, H=H))"
   ]
  },
  {
   "cell_type": "markdown",
   "metadata": {},
   "source": [
    "e. Reprenez le calcul avec $x_a=0$ et $x_e=+5$. Que constatez-vous ? Expliquez pourquoi la digue est stable dans un cas mais pas l'autre."
   ]
  },
  {
   "cell_type": "code",
   "execution_count": 57,
   "metadata": {},
   "outputs": [
    {
     "name": "stdout",
     "output_type": "stream",
     "text": [
      "La digue est stable car T/N = 0.500 <= 0.5\n"
     ]
    }
   ],
   "source": [
    "def fair(y, H=H, xa=0):\n",
    "    return -(y - H) * xa / H\n",
    "\n",
    "def feau(y, H=H, xe=5):\n",
    "    return -(y-H) * xe/ H\n",
    "\n",
    "print(Digue(f_eau=feau, f_air=fair, mu=0.5, H=H))"
   ]
  },
  {
   "cell_type": "markdown",
   "metadata": {},
   "source": [
    "La digue est stable dans ce cas car la pente est dans l'eau ce qui applique une force de pression sur la digue qui la pousse vers le sol ce qui la stabilise."
   ]
  },
  {
   "cell_type": "markdown",
   "metadata": {},
   "source": [
    "### Cas des digues convexes\n",
    "\n",
    "On considère maintenant que l'interface entre l'eau et le béton n'est plus une fonction affine mais une fonction de la forme :\n",
    "\n",
    "$$\n",
    "f_{eau} (y)=a \\left(\\frac{y}{H}\\right)^2-(a+x_e)\\left(\\frac{y}{H}\\right) +x_e\n",
    "$$\n",
    "\n",
    "\n",
    "on donne également la dérivée :\n",
    "\n",
    "$$\n",
    "f'_{eau} (y)=\\frac{2ay}{H^2}-\\frac{a+x_e}{H}\n",
    "$$\n",
    "\n",
    "(on peut vérifier aisément que cette fonction relie bien les points de coordonées $[x_e,0]$ et $[0,H]$). Dans la suite nous prendrons $a=3$."
   ]
  },
  {
   "cell_type": "code",
   "execution_count": 58,
   "metadata": {},
   "outputs": [
    {
     "data": {
      "image/png": "[encoded data removed]",
      "text/plain": [
       "<Figure size 640x480 with 1 Axes>"
      ]
     },
     "metadata": {},
     "output_type": "display_data"
    }
   ],
   "source": [
    "# Ce code permet d'afficher les courbes représentant la digue\n",
    "H = 10\n",
    "xe = 5\n",
    "xa = 0\n",
    "\n",
    "# On définit les fonctions côté eau et côté air, ici les courbes concaves\n",
    "a = 3\n",
    "def feau(y, H=H, xe=5, a=a):\n",
    "    return a * (y / H) ** 2 - (a + xe) * (y / H) + xe\n",
    "def fair(y, H=H, xa=0):\n",
    "    return (H - y) * xa / H\n",
    "\n",
    "\n",
    "# On crée un tableau de y\n",
    "y = np.linspace(0, H, 1000)\n",
    "\n",
    "# On trace\n",
    "plt.plot(feau(y), y, '-b')\n",
    "plt.plot(fair(y), y, '-b')\n",
    "plt.plot([xe, xa], [0, 0], '-b')\n",
    "plt.xlabel('x (m)')\n",
    "plt.ylabel('y (m)')\n",
    "plt.text(3, 8, 'eau')\n",
    "plt.text(-3, 8, 'air')\n",
    "plt.axis('equal') # Permet d'avoir un plot isométrique\n",
    "plt.axhline(0, color = \"black\")\n",
    "plt.axvline(0, color = \"black\")\n",
    "plt.xlim(-8, 8)\n",
    "plt.title(\"Digue convexe\")\n",
    "plt.show()"
   ]
  },
  {
   "cell_type": "markdown",
   "metadata": {},
   "source": [
    "e. Calculez, pour $a=3$, $x_a=0$ et $x_e=5$, la résultante des forces de pression, le volume de béton, et le rapport $T/N$ dans l'hypothèse de l'équilibre statique. La digue est-elle en équilibre translationnel ?"
   ]
  },
  {
   "cell_type": "code",
   "execution_count": null,
   "metadata": {},
   "outputs": [
    {
     "name": "stdout",
     "output_type": "stream",
     "text": [
      "La digue est instable car T/N = 0.556 > 0.5\n"
     ]
    }
   ],
   "source": [
    "print(Digue(feau, fair, 0.5, H))"
   ]
  },
  {
   "cell_type": "markdown",
   "metadata": {},
   "source": [
    "f. Reprenons le calcul avec $x_e=6$. La digue est-elle en équilibre ? Comparez avec le cas de la pente affine avec $x_a=0$ et $x_e=5$. Laquelle est la plus favorable ?"
   ]
  },
  {
   "cell_type": "code",
   "execution_count": null,
   "metadata": {},
   "outputs": [
    {
     "name": "stdout",
     "output_type": "stream",
     "text": [
      "La digue est stable car T/N = 0.455 <= 0.5\n"
     ]
    }
   ],
   "source": [
    "def feau(y, H=H, xe=6, a=a):\n",
    "    return a * (y / H) ** 2 - (a + xe) * (y / H) + xe\n",
    "print(Digue(feau, fair, 0.5, H))"
   ]
  },
  {
   "cell_type": "markdown",
   "metadata": {},
   "source": [
    "g. Utilisez une boucle pour calculer le volume et le rapport $T/N$ en faisant varier $x_e$ dans l'intervalle $[5,6]$. On pourra ainsi tracer le rapport $T/N$ en fonction du volume. Déterminez graphiquement le volume minimal pour garder le rapport $T/N$ inférieur à 0.5 dans le cas courbe."
   ]
  },
  {
   "cell_type": "markdown",
   "metadata": {},
   "source": [
    "Une boucle permettant de faire varier xₑ dans un intervalle (ici [5,6]) permet de tracer T/N en fonction du volume de béton et de déterminer graphiquement le volume minimal pour que T/N < 0.5."
   ]
  },
  {
   "cell_type": "code",
   "execution_count": null,
   "metadata": {},
   "outputs": [],
   "source": [
    "xes = np.linspace(5, 6, 50)\n",
    "T_over_N = np.zeros_like(xes)\n",
    "vols = np.zeros_like(xes)\n",
    "for i, xe_local in enumerate(xes):\n",
    "    def feau(y, H=H, xe=xe_local, a=a):\n",
    "        return a * (y / H) ** 2 - (a + xe) * (y / H) + xe\n",
    "    digue_convex = Digue(feau, fair, 0.5, H)\n",
    "    digue_convex.is_stable()\n",
    "    T_over_N[i] = digue_convex.T_over_N\n",
    "    vols[i] = digue_convex.volume"
   ]
  },
  {
   "cell_type": "code",
   "execution_count": 62,
   "metadata": {},
   "outputs": [
    {
     "data": {
      "image/png": "[encoded data removed]",
      "text/plain": [
       "<Figure size 640x480 with 1 Axes>"
      ]
     },
     "metadata": {},
     "output_type": "display_data"
    }
   ],
   "source": [
    "plt.plot(vols, T_over_N, label=\"T/N\")\n",
    "plt.plot(vols, np.ones_like(vols) * 0.5, '--r', label=\"equilibre\")\n",
    "plt.xlabel(\"Volume de la digue (m^3)\")\n",
    "plt.ylabel(\"T/N\")\n",
    "plt.title(\"Stabilité de la digue en fonction de son volume\")\n",
    "plt.legend()\n",
    "plt.show()"
   ]
  },
  {
   "cell_type": "markdown",
   "metadata": {},
   "source": [
    "h. Expliquez pourquoi la forme courbe de l'interface aide à réduire le volume de béton nécessaire à garder la digue en équilibre."
   ]
  },
  {
   "cell_type": "markdown",
   "metadata": {},
   "source": [
    "En fonction de la forme de la courbe de l'interface, le volume de beton nécessaire change. Si la courbe est convexe, la pression de l'eau sur la digue s'ajoute au poids de la digue ce qui rend le rapport T/N plus faible et donc la digue plus stable."
   ]
  },
  {
   "cell_type": "markdown",
   "metadata": {},
   "source": [
    "## Conclusion"
   ]
  },
  {
   "cell_type": "markdown",
   "metadata": {},
   "source": [
    "On a vu dans ce projet comment calculer les forces de pression sur une digue de forme arbitraire, et comment déterminer si la digue est en équilibre statique. On a vu que la forme de la digue peut grandement influencer le volume de béton nécessaire pour garder la digue en équilibre."
   ]
  },
  {
   "cell_type": "markdown",
   "metadata": {},
   "source": [
    "## Parenthèse\n",
    "\n",
    "Nous avons ici omis la deuxième équation d'équilibre statique : le théorème du moment cinétique (ou équilibre du moment des forces dans le cas statique).\n",
    "\n",
    "Pour vérifier que la digue ne bascule pas sous la pression de l'eau, il faudrait en effet vérifier que le moment des forces qui s'applique à la digue soit nul.\n",
    "\n",
    "Pour cela, il faudrait :\n",
    "\n",
    "- trouver le point d'application du poids (le centre de gravité de la digue),\n",
    "- calculer le moment du poids par rapport à un point,\n",
    "- calculer la résultante du moment des forces de pression par rapport au même point,\n",
    "- trouver le point d'application de la réaction du sol qui annule la somme des moments des forces (par rapport à un point quelconque) \n",
    "- vérifier que ce point d'application est bien situé quelque part entre la digue et le sol (sinon la digue bascule...)\n",
    "\n",
    "\n"
   ]
  }
 ],
 "metadata": {
  "kernelspec": {
   "display_name": "Python 3",
   "language": "python",
   "name": "python3"
  },
  "language_info": {
   "codemirror_mode": {
    "name": "ipython",
    "version": 3
   },
   "file_extension": ".py",
   "mimetype": "text/x-python",
   "name": "python",
   "nbconvert_exporter": "python",
   "pygments_lexer": "ipython3",
   "version": "3.12.1"
  }
 },
 "nbformat": 4,
 "nbformat_minor": 4
}
