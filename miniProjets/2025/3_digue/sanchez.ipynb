{
 "cells": [
  {
   "cell_type": "markdown",
   "id": "870b07d5-4eea-436b-8207-39523ed7de5e",
   "metadata": {},
   "source": [
    "# Compte rendu MP3: Calcul des forces de pression sur une digue"
   ]
  },
  {
   "cell_type": "markdown",
   "id": "787732da-bbcf-41c2-9d17-b8c0ebdb30cd",
   "metadata": {},
   "source": [
    "Notre objectif sera de calculer numériquement les forces s'appliquant à une digue de forme arbitraire. \n",
    "\n",
    "Les forces s'appliquant sur la digue sont: \n",
    "\n",
    "- Poids de la digue $\\vec{P_{digue}} = - P_{digue} \\cdot \\vec{e_{y}} = -m_{digue} g \\cdot \\vec{e_{y}}$\n",
    "- Force de pression de l'eau sur la digue $\\vec{F_{p}}= -( F_{p_{x}} \\cdot \\vec{e_{x}} + F_{p_{y}}\\vec{e_{y}}) $   \n",
    "- Réaction tangente $\\vec{T} = T \\cdot \\vec{e_{x}}$ (force de frottement)\n",
    "- Réaction normale $\\vec{N}= N \\cdot \\vec{e_{y}}$\n",
    " \n",
    "La force qui empéche à la digue de glisser c'est la force de frottement de la force de réaction du sol par le contact avec la digue.  \n",
    "\n",
    "La digue sera à l'équilibre si:\n",
    "\n",
    "Condition d'équilibre sur le frottement: $$T\\leq \\mu N  \\rightarrow  \\mu \\geq \\frac{T}{N}$$\n",
    "\n",
    "En appliquant la 1ère Loi de Newton, $$\\sum \\vec{F_{ext}} = 0  \\rightarrow  \\vec{P_{digue}}+\\vec{F_{p}}+\\vec{T}+\\vec{N}=0$$  \n",
    "\n",
    "Si on projette sur les axes on a: \n",
    "\n",
    "$$\n",
    "\\begin{cases}\n",
    "F_{p_x}=\\int_0^H P(y)\\mathrm{d}y \\\\\n",
    "F_{p_y}=\\int_0^H P(y) \\tan(\\theta) \\mathrm{d}y = \\int_0^H P(y) f'(y) \\mathrm{d}y\n",
    "\\end{cases}\n",
    "$$  \n",
    "\n",
    "Avec la loi fondamentalle de l'hydrostatique: $P(y)-P_{0}=\\rho g (H-y) \\rightarrow P(y)=\\rho \\cdot g (H-y)$   \n",
    "*(En fixant le 0 en H)*\n",
    "\n",
    "Soit en forme différentielle:  \n",
    "\n",
    "**Cas des pentes droites**\n",
    "$$\n",
    "\\begin{cases}\n",
    "\\vec{dF_{p_x}}= -\\rho g (H-y) \\mathrm{d}y\\\\\n",
    "\\vec{dF_{p_y}}= \\rho g x_{e}\\cdot (1-\\frac{y}{H})  \\mathrm{d}y \n",
    "\\end{cases}\n",
    "$$\n",
    "\n",
    "Avec:  $f'(y)=\\frac{-x_{e}}{H}$ \n",
    "\n",
    "**Cas des pentes convexes**\n",
    "\n",
    "\n"
   ]
  },
  {
   "cell_type": "markdown",
   "id": "7f0bebfb-910e-4f58-aa60-9f29ea6f8014",
   "metadata": {
    "tags": []
   },
   "source": [
    "#### Données: "
   ]
  },
  {
   "cell_type": "markdown",
   "id": "916e4f24-22ce-4a72-95df-cd181f3b33f4",
   "metadata": {},
   "source": [
    "Masse volumique du beton $\\rho_{digue}=3000  Kg/m^{3}$  \n",
    "Coeff de friction statique béton - roche $\\mu=0.5$  \n",
    "Hauteur de la masse d'eau contenue $H=10 m$ "
   ]
  },
  {
   "cell_type": "markdown",
   "id": "569d352c-10b6-43e4-8825-7a54b889ec80",
   "metadata": {
    "tags": []
   },
   "source": [
    "#### Hypothèses: "
   ]
  },
  {
   "cell_type": "markdown",
   "id": "7f9892b1-04ac-436f-ae37-a106078c24f7",
   "metadata": {},
   "source": [
    "- Situation à 2D\n",
    "- Force de pression de l'air sur la digue négligéables, pression de l'eau la seule à considérer "
   ]
  },
  {
   "cell_type": "markdown",
   "id": "d099ab05-178a-46ab-865e-0d21f8b51b23",
   "metadata": {},
   "source": [
    "#### Schéma du problème"
   ]
  },
  {
   "attachments": {
    "6ce44a86-e887-4cca-9a5d-1873277f217a.png": {
     "image/png": "[encoded data removed]"
    }
   },
   "cell_type": "markdown",
   "id": "c498ebd9-60a3-448e-a61e-115ab120dcc8",
   "metadata": {},
   "source": [
    "![DigueSchema.png](attachment:6ce44a86-e887-4cca-9a5d-1873277f217a.png)"
   ]
  },
  {
   "cell_type": "code",
   "execution_count": 1,
   "id": "7f73f307-dc09-4037-b21b-fe79b7bce598",
   "metadata": {
    "tags": []
   },
   "outputs": [],
   "source": [
    "# Import des modules\n",
    "import numpy as np\n",
    "import matplotlib.pyplot as plt"
   ]
  },
  {
   "cell_type": "code",
   "execution_count": 2,
   "id": "e2beed7d-e14c-40bb-a136-7f7d74ac2817",
   "metadata": {
    "tags": []
   },
   "outputs": [],
   "source": [
    "# Création d'une classe pour contenir les variables\n",
    "class constantes:\n",
    "    def __init__(self):\n",
    "        self.rho = 3000 # Kg/m**3\n",
    "        self.g   = 9.8  # m/s**2 \n",
    "        self.rho_eau = 1000 # Kg/m**3\n",
    "        self.mu = 0.5\n",
    "        self.H = 10 # en m\n",
    "        self.a = 3\n",
    "\n",
    "cte = constantes()"
   ]
  },
  {
   "cell_type": "markdown",
   "id": "441ac544-bfec-4a55-9459-0ffac6c6f661",
   "metadata": {
    "tags": []
   },
   "source": [
    "#### Fonctions:"
   ]
  },
  {
   "cell_type": "code",
   "execution_count": 3,
   "id": "3cec8261-d673-4303-bd04-a26fc5af1927",
   "metadata": {
    "tags": []
   },
   "outputs": [],
   "source": [
    "# Intégrale par la méthode des rectangles\n",
    "def integrale(y,a,b,pas):\n",
    "    \"\"\"integral, coge la funcion a integrar, los intervalos deintegracion y los pasos\"\"\"\n",
    "    volume  = 0\n",
    "    delta_x = abs(b-a)/pas\n",
    "    for i in range(pas-1):\n",
    "        aire  = y[i+1]*delta_x\n",
    "        volume += aire\n",
    "    return volume"
   ]
  },
  {
   "cell_type": "code",
   "execution_count": 4,
   "id": "ed198220-f4a9-4e94-9d12-1ef661efe132",
   "metadata": {
    "tags": []
   },
   "outputs": [],
   "source": [
    "def derivee(x, y):\n",
    "    \"\"\"Calcule la fonction derivée par rapport au point à droite\"\"\"\n",
    "    derivee_ = np.zeros(len(x))\n",
    "    for i in range(len(x)-1):\n",
    "        derivee_[i] = (y[i+1] - y[i]) / (x[i+1] - x[i])\n",
    "    \n",
    "    # Pour le dernier point on calcule la dérivée gauche\n",
    "    derivee_[-1] = (y[-2] - y[-1]) / (x[-2] - x[-1])\n",
    "    return derivee_"
   ]
  },
  {
   "cell_type": "code",
   "execution_count": 5,
   "id": "a49eb6f6-4e9c-4ff7-aa27-be6f346f3f5a",
   "metadata": {
    "tags": []
   },
   "outputs": [],
   "source": [
    "# Définition de la fonction de pression\n",
    "def P(y):\n",
    "    \"\"\"Fonction de la pression\"\"\"\n",
    "    return(cte.rho_eau * cte.g * (cte.H-y))"
   ]
  },
  {
   "cell_type": "markdown",
   "id": "6f5706e2-bc6b-4de9-bf7b-5fc6024e3afb",
   "metadata": {
    "tags": []
   },
   "source": [
    "## Cas des digues en pentes droites"
   ]
  },
  {
   "cell_type": "markdown",
   "id": "1ede4e22-5ef5-45e4-a1ff-e7f6f049d776",
   "metadata": {
    "tags": []
   },
   "source": [
    "#### Expression des courbes côté air et côté eau: "
   ]
  },
  {
   "cell_type": "markdown",
   "id": "de960e9f-67ca-4787-ada8-8d89b2bdc169",
   "metadata": {},
   "source": [
    "Avec y en abscises:\n",
    "\n",
    "$$\n",
    "\\begin{cases}\n",
    "x_{air}(y) = x_a \\cdot (1-\\frac{y}{H}) \\\\  x_{eau}(y) = x_{e} \\cdot (1-\\frac{y}{H})\n",
    "\\end{cases}\n",
    "$$   "
   ]
  },
  {
   "cell_type": "code",
   "execution_count": 6,
   "id": "762de96a-6572-4566-aa67-627c97eca44a",
   "metadata": {
    "tags": []
   },
   "outputs": [],
   "source": [
    "# Fonctions côté air et eau y en abscises\n",
    "def xeau(y):\n",
    "    \"\"\"xeau avec y en abscises\"\"\"\n",
    "    return xe*(1-(y/cte.H))\n",
    "def xair(y):\n",
    "    \"\"\"xair avec y en abscises\"\"\"\n",
    "    return xa*(1-(y/cte.H))"
   ]
  },
  {
   "cell_type": "markdown",
   "id": "900dcabb-f357-4332-b082-644c35aaa0fe",
   "metadata": {
    "tags": []
   },
   "source": [
    "#### Affichage de la digue"
   ]
  },
  {
   "cell_type": "markdown",
   "id": "f7c0558c-fa56-4aff-b577-bdb8fc1f92b5",
   "metadata": {},
   "source": [
    "Schéma du problème:"
   ]
  },
  {
   "cell_type": "code",
   "execution_count": 7,
   "id": "c0b42c8a-da7c-4690-9d2a-bf0b9922b03e",
   "metadata": {
    "tags": []
   },
   "outputs": [
    {
     "data": {
      "image/png": "[encoded data removed]",
      "text/plain": [
       "<Figure size 640x480 with 1 Axes>"
      ]
     },
     "metadata": {},
     "output_type": "display_data"
    }
   ],
   "source": [
    "# Ce code permet d'afficher les courbes représentant la digue\n",
    "H = 10\n",
    "xa = -5\n",
    "xe = +5\n",
    "\n",
    "# On crée un tableau de y\n",
    "y = np.linspace(0, H, 1000)\n",
    "\n",
    "# On trace\n",
    "plt.plot(xair(y), y, '-b') \n",
    "plt.plot(xeau(y), y, '-r')  ## Décommenter après avoir codé la fonction feau(x)\n",
    " \n",
    "plt.plot([xe, xa], [0, 0], '-b') # Bas de la digue\n",
    "plt.xlabel('x (m)') \n",
    "plt.ylabel('y (m)')\n",
    "plt.text(xe, 8, 'eau')\n",
    "plt.text(xa, 8, 'air')\n",
    "plt.axis('equal') # Permet d'avoir un plot isométrique\n",
    "plt.axhline(0, color = \"black\")\n",
    "plt.axvline(0, color = \"black\")\n",
    "plt.xlim(-8, 8)\n",
    "plt.show()"
   ]
  },
  {
   "cell_type": "markdown",
   "id": "8718a581-23df-40a7-a1c8-f60480cdb7d0",
   "metadata": {
    "tags": []
   },
   "source": [
    "#### Calcul du volume et poids de la digue en fonction de y"
   ]
  },
  {
   "cell_type": "markdown",
   "id": "fb111a3b-c102-491c-8b31-bdf4a1105f36",
   "metadata": {},
   "source": [
    "**Calcul numérique**"
   ]
  },
  {
   "cell_type": "code",
   "execution_count": 8,
   "id": "b649a8d7-d2a4-4074-9899-9f58735b5b9f",
   "metadata": {
    "tags": []
   },
   "outputs": [],
   "source": [
    "# On définit les bornes et pas d'intégration\n",
    "xa=-5; xe=+5; pas = 2000\n",
    "j=0\n",
    "\n",
    "y_air = np.linspace(j,cte.H,pas)\n",
    "y_eau = np.linspace(j,cte.H,pas)\n",
    "x_air = xair(y_air)\n",
    "x_eau = xeau(y_air)"
   ]
  },
  {
   "cell_type": "code",
   "execution_count": 9,
   "id": "59f3430a-d214-4714-bfcb-eecd17f0f45b",
   "metadata": {
    "tags": []
   },
   "outputs": [],
   "source": [
    "\n",
    "# Calcul du volume, masse et poids\n",
    "v_digue = ((integrale(x_eau,j,cte.H,pas) - integrale(x_air,j,cte.H,pas))) * 1 # m**3\n",
    "m_digue = cte.rho * v_digue * 1 # en Kg\n",
    "P_digue = m_digue * cte.g\n",
    "\n",
    "# Poids en forme vectorielle\n",
    "P_digue_vect = -P_digue"
   ]
  },
  {
   "cell_type": "code",
   "execution_count": 10,
   "id": "169e5a23-da71-47b4-b7d6-764a22fd92ce",
   "metadata": {
    "tags": []
   },
   "outputs": [
    {
     "name": "stdout",
     "output_type": "stream",
     "text": [
      "Volume de la digue:50 m**2\n",
      "Masse de la digue: 149850.0 kg\n",
      "Poids de la digue: 1468530 N\n"
     ]
    }
   ],
   "source": [
    "# Plot du volume, masse et poids\n",
    "print(\"Volume de la digue:{:.0f} m**2\".format(v_digue))\n",
    "print(\"Masse de la digue:\",m_digue,\"kg\")\n",
    "print(\"Poids de la digue: {:.0f} N\".format(P_digue))"
   ]
  },
  {
   "cell_type": "markdown",
   "id": "02bd86b1-7600-400c-aee2-252bcb0e8da6",
   "metadata": {},
   "source": [
    "**Calcul analytique**"
   ]
  },
  {
   "cell_type": "markdown",
   "id": "e6a31516-4f30-4656-96d6-75c99642b2e8",
   "metadata": {},
   "source": [
    "On obtient les mêmes résultats par un calcul analytique de la formule:\n",
    "\n",
    "$$\n",
    "V=\\iiint_V dx dy dz = \\int_{0}^{1} \\int_{0}^{x_{e}} \\int_{0}^{H(1-\\frac{x}{x_{e}})} dy dx dz \n",
    "$$"
   ]
  },
  {
   "cell_type": "markdown",
   "id": "20361a6e-ea13-4906-b891-d94241acc94c",
   "metadata": {
    "tags": []
   },
   "source": [
    "#### Calcul de la résultante des forces de pression (côté eau)"
   ]
  },
  {
   "cell_type": "markdown",
   "id": "da13c788-b183-4cdc-98d6-8a2e83a32d79",
   "metadata": {},
   "source": [
    "Avec: \n",
    "$$\\vec{F_{p_x}}=-\\int_{0}^{H} \\rho_{eau} g (H-y) \\mathrm{d}y \\cdot \\vec{e_{x}}$$\n",
    "$$\\vec{F_{p_y}}=-\\int_{0}^{H} \\rho_{eau} g x_{e}\\cdot (1-\\frac{y}{H})  \\mathrm{d}y \\cdot \\vec{e_{y}}$$"
   ]
  },
  {
   "cell_type": "code",
   "execution_count": 11,
   "id": "135df76a-5b8e-4620-8129-baebfbd3dbdc",
   "metadata": {
    "tags": []
   },
   "outputs": [],
   "source": [
    "# Calcul de la dérivée côté eau\n",
    "def dFy(y):\n",
    "    \"\"\"Élément de force de pression selon y cas affine\"\"\"\n",
    "    return -(cte.rho_eau * cte.g * xe * (1-y/cte.H))\n",
    "def dFx(y):\n",
    "    \"\"\"Élément de force de pression selon x cas affine\"\"\"\n",
    "    return (cte.rho_eau * cte.g * (cte.H-y))"
   ]
  },
  {
   "cell_type": "code",
   "execution_count": 12,
   "id": "b4b6cb30-ec03-414f-a5d2-93b15d473660",
   "metadata": {
    "tags": []
   },
   "outputs": [],
   "source": [
    "# Calcul des forces de pression\n",
    "F_y = integrale(dFy(y_eau),0,cte.H,pas)\n",
    "F_x = integrale(dFx(y_eau),0,cte.H,pas)\n",
    "F_x_vect = -F_x\n",
    "F_y_vect = F_y"
   ]
  },
  {
   "cell_type": "code",
   "execution_count": 13,
   "id": "14458708-8f93-4587-9b77-29b042b24a60",
   "metadata": {
    "tags": []
   },
   "outputs": [
    {
     "name": "stdout",
     "output_type": "stream",
     "text": [
      "Normes des forces de pression:\n",
      "Fpx:4.90e+05\n",
      "Fpy:-2.45e+05\n",
      "\n",
      "Forces de pression sous forme vectorielle:\n",
      "Fpx:-4.90e+05\n",
      "Fpy:-2.45e+05\n"
     ]
    }
   ],
   "source": [
    "# Plot des forces de pression\n",
    "print(f\"Normes des forces de pression:\\nFpx:{F_x:.2e}\\nFpy:{F_y:.2e}\\n\")\n",
    "print(\"Forces de pression sous forme vectorielle:\\nFpx:{:.2e}\\nFpy:{:.2e}\".format(F_x_vect,F_y_vect))"
   ]
  },
  {
   "cell_type": "markdown",
   "id": "c031d6fb-c2b4-498c-b836-4943f9ece19c",
   "metadata": {
    "tags": []
   },
   "source": [
    "#### PFD de la réaction T et N et rapport T/N, équilibre de la digue"
   ]
  },
  {
   "cell_type": "markdown",
   "id": "7c956b3b-5040-41c9-a2ea-8d0e2829145c",
   "metadata": {},
   "source": [
    "En appliquant le PFD:  \n",
    "$$\n",
    "\\begin{cases}\n",
    "T=-\\vec{F_{p_{x}}} \\\\  N=-\\vec{F_{p_{y}}}-\\vec{P_{digue}}\n",
    "\\end{cases}\n",
    "$$"
   ]
  },
  {
   "cell_type": "code",
   "execution_count": 14,
   "id": "dad8dbe4-9752-400b-b5e5-ca11ac2b528e",
   "metadata": {
    "tags": []
   },
   "outputs": [
    {
     "name": "stdout",
     "output_type": "stream",
     "text": [
      "Réaction tangentielle:4.90e+05N\n",
      "Réaction normale:1.71e+06N\n"
     ]
    }
   ],
   "source": [
    "# Composantes de la réaction du sol\n",
    "T_vect = -F_x_vect\n",
    "N_vect = -F_y_vect-P_digue_vect\n",
    "\n",
    "print(f\"Réaction tangentielle:{T_vect:.2e}N\",f\"Réaction normale:{N_vect:.2e}N\",sep=\"\\n\")"
   ]
  },
  {
   "cell_type": "markdown",
   "id": "6586c9ed-41b5-4325-b4bb-715d314efd8f",
   "metadata": {},
   "source": [
    "Équilibre de la digue:  \n",
    "\n",
    "Il y équilibre si  $$\\mu \\geq \\frac{T}{N}$$"
   ]
  },
  {
   "cell_type": "code",
   "execution_count": 15,
   "id": "6abe8f34-a25f-440c-88b4-9720a34b1184",
   "metadata": {
    "tags": []
   },
   "outputs": [
    {
     "name": "stdout",
     "output_type": "stream",
     "text": [
      "Rapport T/N:0.2857142857142857\n",
      "Est-ce qu'elle atteint la condition d'équilibre translattionnel?: True\n"
     ]
    }
   ],
   "source": [
    "# Calcul du rapport T/N\n",
    "rapport_TN = abs(T_vect/N_vect)\n",
    "print(f\"Rapport T/N:{rapport_TN}\")\n",
    "print(\"Est-ce qu'elle atteint la condition d'équilibre translattionnel?:\",cte.mu>=abs(T_vect/N_vect))"
   ]
  },
  {
   "cell_type": "markdown",
   "id": "8b22174a-f694-4790-bf04-9e12c639ffab",
   "metadata": {
    "tags": []
   },
   "source": [
    "#### Fonction résumé des calculs"
   ]
  },
  {
   "cell_type": "code",
   "execution_count": 34,
   "id": "d9bbaa7d-a1b1-4164-8182-91f563f529f4",
   "metadata": {
    "tags": []
   },
   "outputs": [],
   "source": [
    "def calcul (xa,xe,pas, lineal = True, calculate = False):\n",
    "    \"\"\"Calcul du volume, poids, forces de pression et rapport T/N\"\"\"\n",
    "    \n",
    "    # Plages de données\n",
    "    y_air = np.linspace(cte.H,0,pas)\n",
    "    y_eau = np.linspace(cte.H,0,pas)\n",
    "    if lineal == False:\n",
    "        x_air = fair(y_air)\n",
    "        x_eau = feau(y_air)\n",
    "    else:\n",
    "        x_air = xair(y_air)\n",
    "        x_eau = xeau(y_air)\n",
    "    \n",
    "    #QUESTION 1\n",
    "    \n",
    "    # Calcul du volume, masse et poids\n",
    "    v_digue = ((integrale(x_eau,0,cte.H,pas) - integrale(x_air,0,cte.H,pas))) * 1 # m**3\n",
    "    m_digue = cte.rho * v_digue * 1 # en Kg\n",
    "    P_digue = m_digue * cte.g\n",
    "\n",
    "    # Poids en forme vectorielle\n",
    "    P_digue_vect = -P_digue\n",
    "\n",
    " \n",
    "    \n",
    "    # QUESTION 2\n",
    "    \n",
    "    # Calcul des forces de pression\n",
    "    if lineal == False:\n",
    "        F_y = integrale(P(y_eau) * feau_prime(y_eau), 0, cte.H, pas)  \n",
    "        F_x = integrale(P(y_eau), 0, cte.H, pas)\n",
    "    else:\n",
    "        F_y = integrale(dFy(y_eau),0,cte.H,pas)\n",
    "        F_x = integrale(dFx(y_eau),0,cte.H,pas)\n",
    "        \n",
    "    F_x_vect = -F_x\n",
    "    F_y_vect = F_y\n",
    "    \n",
    "    \n",
    "    #QUESTION 3\n",
    "    \n",
    "    # Composantes de la réaction du sol\n",
    "    T_vect = -F_x_vect\n",
    "    N_vect = -F_y_vect-P_digue_vect\n",
    "    \n",
    "    \n",
    "    # Calcul du rapport T/N\n",
    "    rapport_TN = abs(T_vect/N_vect)\n",
    "    \n",
    "    \n",
    "    if calculate == True:\n",
    "        return [v_digue, rapport_TN]\n",
    "    else:\n",
    "        # Print du volume, masse et poids\n",
    "        print(\"Volume de la digue:{:.0f} m**2\".format(v_digue))\n",
    "        print(\"Masse de la digue:{} kg\".format(m_digue))\n",
    "        print(\"Force de gravité sur la digue: {:.0f} N\".format(P_digue))\n",
    "        # Plot des forces de pression\n",
    "        print(f\"Normes des forces de pression:\\nFpx:{F_x:.2e}\\nFpy:{F_y:.2e}\\n\")\n",
    "        print(\"Forces de pression sous forme vectorielle:\\nFpx:{:.2e}\\nFpy:{:.2e}\".format(F_x_vect,F_y_vect))\n",
    "        # Composantes de la réaction\n",
    "        print(f\"Réaction tangentielle:{T_vect:.2e}N\",f\"Réaction normale:{N_vect:.2e}N\",sep=\"\\n\")\n",
    "        # Rapport T/N\n",
    "        print(f\"Rapport T/N:{round(rapport_TN,2)}\")\n",
    "        print(\"Est-ce qu'elle atteint la condition d'équilibre translationnel?:\",cte.mu>=round(rapport_TN,2))"
   ]
  },
  {
   "cell_type": "markdown",
   "id": "a1d35cd5-2c79-4578-8e4e-6fb76d9407ae",
   "metadata": {
    "tags": []
   },
   "source": [
    "#### Calcul avec nouvelles CI"
   ]
  },
  {
   "cell_type": "code",
   "execution_count": 31,
   "id": "4d1bf548-7727-45d2-a56a-7ac746c2b31a",
   "metadata": {
    "tags": []
   },
   "outputs": [
    {
     "name": "stdout",
     "output_type": "stream",
     "text": [
      "Volume de la digue:25 m**2\n",
      "Masse de la digue:75000.0 kg\n",
      "Force de gravité sur la digue: 735000 N\n",
      "Normes des forces de pression:\n",
      "Fpx:4.90e+05\n",
      "Fpy:0.00e+00\n",
      "\n",
      "Forces de pression sous forme vectorielle:\n",
      "Fpx:-4.90e+05\n",
      "Fpy:0.00e+00\n",
      "Réaction tangentielle:4.90e+05N\n",
      "Réaction normale:7.35e+05N\n",
      "Rapport T/N:0.67\n",
      "Est-ce qu'elle atteint la condition d'équilibre translationnel?: False\n"
     ]
    }
   ],
   "source": [
    "xa = -5; xe = 0; pas = 2000\n",
    "calcul(xa,xe,pas)"
   ]
  },
  {
   "cell_type": "code",
   "execution_count": 32,
   "id": "baf5c45e-3cae-475c-9050-d95c79df73c3",
   "metadata": {
    "tags": []
   },
   "outputs": [
    {
     "name": "stdout",
     "output_type": "stream",
     "text": [
      "Volume de la digue:25 m**2\n",
      "Masse de la digue:75000.0 kg\n",
      "Force de gravité sur la digue: 735000 N\n",
      "Normes des forces de pression:\n",
      "Fpx:4.90e+05\n",
      "Fpy:-2.45e+05\n",
      "\n",
      "Forces de pression sous forme vectorielle:\n",
      "Fpx:-4.90e+05\n",
      "Fpy:-2.45e+05\n",
      "Réaction tangentielle:4.90e+05N\n",
      "Réaction normale:9.80e+05N\n",
      "Rapport T/N:0.5\n",
      "Est-ce qu'elle atteint la condition d'équilibre translationnel?: True\n"
     ]
    }
   ],
   "source": [
    "xa = 0; xe = 5; pas = 1000\n",
    "calcul(xa,xe,pas)"
   ]
  },
  {
   "cell_type": "markdown",
   "id": "233b6d57-9a74-4657-9c46-2a2f79556f94",
   "metadata": {},
   "source": [
    "On constate que dans ce cas la digue est à la limite de l'équilibre au contraire que la digue précedente, même quand les deux ont même volume et masse. Cela vient du fait que dans ce cas il y a une force de pression selon y, celle-ci implique l'augmentation de la norme de la réaction normale au sol ce qui implique un plus grand frottement du béton avec le sol et une opposition plus grande au glissement."
   ]
  },
  {
   "cell_type": "markdown",
   "id": "5f31657d-a1a9-42bf-817f-32a70944e35d",
   "metadata": {},
   "source": [
    "## Cas des digues convexes"
   ]
  },
  {
   "cell_type": "markdown",
   "id": "7af57cfe-f237-4714-8f12-820b23a27d27",
   "metadata": {},
   "source": [
    "L'interface entre l'eau et le béton n'est plus une fonction affine mais une fonction de la forme :\n",
    "$$\n",
    "f_{eau} (y)=a \\left(\\frac{y}{H}\\right)^2-(a+x_e)\\left(\\frac{y}{H}\\right) +x_e\n",
    "$$\n",
    "\n",
    "Également la dérivée est:\n",
    "\n",
    "$$\n",
    "f'_{eau}(y)=\\frac{2ay}{H^2}-\\frac{a+x_e}{H}\n",
    "$$\n",
    "\n",
    "Avec $a=3$."
   ]
  },
  {
   "cell_type": "markdown",
   "id": "a867025a-b09b-4cf6-b817-62cbf1630d4a",
   "metadata": {
    "tags": []
   },
   "source": [
    "#### Fonctions"
   ]
  },
  {
   "cell_type": "code",
   "execution_count": 23,
   "id": "d3b932bd-26bb-464b-8550-d05022af3bc2",
   "metadata": {
    "tags": []
   },
   "outputs": [],
   "source": [
    "def feau(y):\n",
    "    return cte.a * (y / cte.H) ** 2 - (cte.a + xe) * (y / cte.H) + xe\n",
    "\n",
    "def feau_prime(y):\n",
    "    return (2*cte.a*y)/(cte.H**2)-(cte.a+xe)/cte.H\n",
    "\n",
    "def fair(y):\n",
    "    return (cte.H - y) * xa / cte.H"
   ]
  },
  {
   "cell_type": "markdown",
   "id": "e6677025-03ce-4b27-a101-f5c86e7c5f22",
   "metadata": {
    "tags": []
   },
   "source": [
    "#### Affichage de la digue"
   ]
  },
  {
   "cell_type": "code",
   "execution_count": 24,
   "id": "aacdd4e2-990d-4693-8105-969861dd87ed",
   "metadata": {
    "tags": []
   },
   "outputs": [
    {
     "data": {
      "image/png": "[encoded data removed]",
      "text/plain": [
       "<Figure size 640x480 with 1 Axes>"
      ]
     },
     "metadata": {},
     "output_type": "display_data"
    }
   ],
   "source": [
    "# Ce code permet d'afficher les courbes représentant la digue\n",
    "\n",
    "H = 10\n",
    "xe = 5\n",
    "xa = 0\n",
    "\n",
    "# On définit les fonctions côté eau et côté air, ici les courbes concaves\n",
    "# On crée un tableau de y\n",
    "y = np.linspace(0, H, 1000)\n",
    "\n",
    "# On trace\n",
    "plt.plot(feau(y), y, '-b')\n",
    "plt.plot(fair(y), y, '-b')\n",
    "plt.plot([xe, xa], [0, 0], '-b')\n",
    "plt.xlabel('x (m)')\n",
    "plt.ylabel('y (m)')\n",
    "plt.text(3, 8, 'eau')\n",
    "plt.text(-3, 8, 'air')\n",
    "plt.axis('equal') # Permet d'avoir un plot isométrique\n",
    "plt.axhline(0, color = \"black\")\n",
    "#plt.axvline(0, color = \"black\")\n",
    "plt.xlim(-8, 8)\n",
    "plt.show()"
   ]
  },
  {
   "cell_type": "markdown",
   "id": "bc5bcffe-1ef9-4ae6-b01b-40d070f09355",
   "metadata": {
    "tags": []
   },
   "source": [
    "#### Résultante des forces de pression, volume du béton et rapport T/N (équilibre statique)"
   ]
  },
  {
   "cell_type": "code",
   "execution_count": 25,
   "id": "29055cb8-4fed-4bb6-b2ac-007896ce57da",
   "metadata": {
    "tags": []
   },
   "outputs": [
    {
     "name": "stdout",
     "output_type": "stream",
     "text": [
      "Volume de la digue:20 m**2\n",
      "Masse de la digue:60015.015015015 kg\n",
      "Force de gravité sur la digue: 588147 N\n",
      "Normes des forces de pression:\n",
      "Fpx:4.90e+05\n",
      "Fpy:-2.94e+05\n",
      "\n",
      "Forces de pression sous forme vectorielle:\n",
      "Fpx:-4.90e+05\n",
      "Fpy:-2.94e+05\n",
      "Réaction tangentielle:4.90e+05N\n",
      "Réaction normale:8.82e+05N\n",
      "Rapport T/N:0.56\n",
      "Est-ce qu'elle atteint la condition d'équilibre translationnel?: False\n"
     ]
    }
   ],
   "source": [
    "xa = 0; xe = 5; pas = 1000\n",
    "calcul(xa, xe, pas, False)"
   ]
  },
  {
   "cell_type": "markdown",
   "id": "810450bc-b969-4cea-bba4-9992989c0bbe",
   "metadata": {
    "tags": []
   },
   "source": [
    "#### Cas xe = 6 et comparation avec la pente affine"
   ]
  },
  {
   "cell_type": "code",
   "execution_count": 26,
   "id": "70bde52b-f445-4e47-87a3-d6e82f27b580",
   "metadata": {},
   "outputs": [
    {
     "name": "stdout",
     "output_type": "stream",
     "text": [
      "Volume de la digue:25 m**2\n",
      "Masse de la digue:75007.5037518758 kg\n",
      "Force de gravité sur la digue: 735074 N\n",
      "Normes des forces de pression:\n",
      "Fpx:4.90e+05\n",
      "Fpy:-3.43e+05\n",
      "\n",
      "Forces de pression sous forme vectorielle:\n",
      "Fpx:-4.90e+05\n",
      "Fpy:-3.43e+05\n",
      "Réaction tangentielle:4.90e+05N\n",
      "Réaction normale:1.08e+06N\n",
      "Rapport T/N:0.45\n",
      "Est-ce qu'elle atteint la condition d'équilibre translationnel?: True\n"
     ]
    }
   ],
   "source": [
    "xa = 0; xe = 6; pas = 2000\n",
    "calcul(xa, xe,pas, False)"
   ]
  },
  {
   "cell_type": "markdown",
   "id": "b414cf3b-4185-4a24-b4af-cb08110491cf",
   "metadata": {},
   "source": [
    "Si on compare avec le cas de la pente affine pour $x_{a}=0$ et $x_{e}=5$ afin de déterminer lequel est le cas le plus favorable on devrait comparer le rapport $T/N$ de chacun de cas. Celui avec le rapport le plus grand sera le plus proche à la perte de l'équilibre ou, dans d'autres mots, le moins stable des deux. On donc:\n",
    "\n",
    "$$(\\frac{T}{N})_{affine} = 0.5 \\leq 0.4 = (\\frac{T}{N})_{convexe}$$  \n",
    "\n",
    "La digue de pente convexe est la plus stable."
   ]
  },
  {
   "cell_type": "markdown",
   "id": "ca55d5d2-62b1-4038-9a93-82e4d2394493",
   "metadata": {},
   "source": [
    "#### $T/N$ en fonction du volume"
   ]
  },
  {
   "cell_type": "code",
   "execution_count": 37,
   "id": "cd9a9ded-0320-4d54-8de1-96ed2e6dfb2b",
   "metadata": {
    "tags": []
   },
   "outputs": [],
   "source": [
    "xe_list = np.linspace(5,6,20)\n",
    "volume  = np.ones(xe_list.size)\n",
    "T_N     = np.ones(xe_list.size)\n",
    "\n",
    "for i in range(xe_list.size):\n",
    "    xe = xe_list[i]\n",
    "    data = calcul(0,xe,2000,False,True)\n",
    "    volume[i] = data[0]\n",
    "    T_N[i]    = data[1]"
   ]
  },
  {
   "cell_type": "code",
   "execution_count": 38,
   "id": "a8f5c7b5-0c71-411a-9445-dad6a6e2d14d",
   "metadata": {
    "tags": []
   },
   "outputs": [
    {
     "data": {
      "image/png": "[encoded data removed]",
      "text/plain": [
       "<Figure size 640x480 with 1 Axes>"
      ]
     },
     "metadata": {},
     "output_type": "display_data"
    }
   ],
   "source": [
    "# Rapport maximal pour l'équilibre\n",
    "T_N_lim = 0.5\n",
    "\n",
    "#Plot\n",
    "plt.scatter(volume,T_N, label=\"T/N\")\n",
    "plt.plot(volume,0.5*np.ones(volume.size), color = \"orange\")\n",
    "plt.title(\"Rapport $T/N$ en fonction du volume\")\n",
    "plt.xlabel(\"Volume en $m^3$\");plt.ylabel(\"Rapport T/N\")\n",
    "plt.grid()\n",
    "plt.show()"
   ]
  },
  {
   "cell_type": "markdown",
   "id": "89e86237-734b-49da-9185-d989afd020e4",
   "metadata": {},
   "source": [
    "On remaruqe visuellement que le volume minimal pour garder la digue en équilibre est d'approximativement $22.5 m^{3}$ "
   ]
  },
  {
   "cell_type": "markdown",
   "id": "0a6ef90e-bd8f-4af8-81a8-e709f53638b2",
   "metadata": {},
   "source": [
    "On voit par rappoer au cas affine que la forme courbe aide à réduire le volume nécéssaire pour maintenir la digue en équilibre du à une meilleure distribution de forces. La surface courbe augmente la proportion de force de pression dirirgées vers le bas augmentant de cette manière la réaction normalle et la force frottement de la digue (et donc sa résistence au glissement)."
   ]
  }
 ],
 "metadata": {
  "kernelspec": {
   "display_name": "Python 3 (ipykernel)",
   "language": "python",
   "name": "python3"
  },
  "language_info": {
   "codemirror_mode": {
    "name": "ipython",
    "version": 3
   },
   "file_extension": ".py",
   "mimetype": "text/x-python",
   "name": "python",
   "nbconvert_exporter": "python",
   "pygments_lexer": "ipython3",
   "version": "3.9.7"
  }
 },
 "nbformat": 4,
 "nbformat_minor": 5
}
