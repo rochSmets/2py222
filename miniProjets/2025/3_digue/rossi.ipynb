{
 "cells": [
  {
   "metadata": {},
   "cell_type": "markdown",
   "source": "#### Mélodie ROSSI L2 SPRINT B",
   "id": "dc34980c9df5d385"
  },
  {
   "metadata": {
    "tags": []
   },
   "cell_type": "markdown",
   "source": [
    "# Calcul des forces de pression sur une digue\n",
    "\n",
    "Dans ce mini-projet nous allons calculer numériquement les forces appliquées à une digue de forme arbitraire."
   ],
   "id": "5f7ce2e0-b4d7-4af3-b7a4-f61623e8139f"
  },
  {
   "metadata": {},
   "cell_type": "markdown",
   "source": "![Digue.png](./Digue.png) #déjà dans le notebook miniprojet",
   "id": "7cf30305-21cf-4336-b6f3-321fa461dd2f"
  },
  {
   "metadata": {
    "tags": []
   },
   "cell_type": "markdown",
   "source": "___",
   "id": "601f4a5b-6c9a-438c-be6e-fb189d0e50a2"
  },
  {
   "metadata": {},
   "cell_type": "markdown",
   "source": "## Travail préparatoire",
   "id": "2259672c-1933-4308-bb44-6d95bd9d69b8"
  },
  {
   "metadata": {},
   "cell_type": "markdown",
   "source": [
    "La digue que nous allons modéliser est un bloc de béton ($\\rho= 3000 kg/m^3$) posé sur le sol rocheux ($\\mu_{statique roche}= 0.5$). D'un côté la digue retient une masse d'eau de hauteur $H$, l'autre côté étant exposé à l'air. On prendra $H=10$ m dans toute la suite.\n",
    "\n",
    "Pour simplifier, on se placera en $2D$ (la digue est de longueur unitaire suivant l'axe perpendiculaire au schéma ci-dessus et on ne considérera pas les bords suivant cette direction).\n",
    "\n",
    "De plus on ne considérera que les forces de pressions dues à la hauteur d'eau (la pression de l'air étant négligée)."
   ],
   "id": "3400ce52-946a-4120-84bb-c25b27e2e888"
  },
  {
   "metadata": {
    "tags": []
   },
   "cell_type": "markdown",
   "source": "a. Faites un bilan des forces appliquées à la digue en 2D. Quelle force permet à la digue de ne pas glisser sur le sol rocheux ?",
   "id": "5b79ef78-fdc7-490b-bf3e-d9f0c11b31d2"
  },
  {
   "metadata": {},
   "cell_type": "markdown",
   "source": [
    "Bilan des forces:\n",
    "\n",
    "1. Poids de la digue:\n",
    "    Il s'exerce vers le bas\n",
    "    $P= \\rho Vg$\n",
    "2. Force de pression de l'eau sur la face en contact avec l'eau:\n",
    "    La pression hydrostatique qui s'exerce sur la face en contact avec l'eau est donnée par la loi de la statique des fluides:\n",
    "        $P_{eau}(y)= \\rho_{eau}g(H-y)$\n",
    "    Cette pression engendre une force résultante $F_{Peau}$ vers la droite\n",
    "3. Réaction du sol rocheux:\n",
    "    Elle se décompose en deux:\n",
    "    - Force normale $N$ exercée par le sol sur la digue (vers le haut)\n",
    "    - Force de frottement statique $T=\\mu N$ avec $\\mu = 0.5$, le coefficient de frottement béton-roche (vers la gauche)\n",
    "\n",
    "La force empêchant la digue de glisser est la force de frottement statique $T=\\mu N$; avec l'équilibre statique, cette force contrebalance la force de pression $F_{Peau}$\n"
   ],
   "id": "f78105fd-33f2-4b9e-bd02-aff1acae6401"
  },
  {
   "metadata": {
    "tags": []
   },
   "cell_type": "markdown",
   "source": "b. Rappelez l'expression de la pression hydrostatique dans l'eau $P_{eau} (y)$ en fonction de la hauteur par rapport au sol $x$.",
   "id": "5ef8bd7d-c59d-4000-9c2f-e1008f8bb18a"
  },
  {
   "metadata": {},
   "cell_type": "markdown",
   "source": [
    "La pression hydrostatique à une profondeur $x$ sous la surface de l'eau est :\n",
    "$$P_{eau}(y)= \\rho_{eau}g(H-y)$$\n",
    "avec :\n",
    "- $\\rho{eau}=1000 kg/m^3$\n",
    "- $g=9.81 m/s^2$\n",
    "- $H =10 m$\n",
    "- $y$ (hauteur depuis le sol)"
   ],
   "id": "36705909-c3f5-43a6-a1b3-65842db6b4ed"
  },
  {
   "metadata": {},
   "cell_type": "markdown",
   "source": "c. Rappelez la (les) équation(s) d'équilibre statique de la digue.",
   "id": "f234376e-a066-42dd-9ba2-cf22e47377ec"
  },
  {
   "metadata": {},
   "cell_type": "markdown",
   "source": [
    "La digue est en équilibre sous l'effet des forces appliquées, on a donc:\n",
    "1. Equilibre des forces horizontales:\n",
    "    $T=F_{eau,x}$\n",
    "2. Equilibre des forces verticales:\n",
    "    $N=P$\n",
    "3. Somme des forces nulle:\n",
    "    $\\sum \\vec F = \\vec 0$"
   ],
   "id": "3cf09d02-6246-4cdd-972d-dde366d0a695"
  },
  {
   "metadata": {},
   "cell_type": "markdown",
   "source": "___",
   "id": "193b17d4-f6fc-4ad2-8753-fe3de3a02d38"
  },
  {
   "metadata": {},
   "cell_type": "markdown",
   "source": [
    "## Modélisation\n",
    "On définit les pentes de la digue avec $x$ en fonction de $y$ :"
   ],
   "id": "698c41d8-c552-482f-8c36-e9302e20ca6e"
  },
  {
   "metadata": {
    "tags": []
   },
   "cell_type": "markdown",
   "source": "![DigueSchema.png](./DigueSchema.png) #déjà dans le notebook miniprojet",
   "id": "d7ad05bf-ff01-48ca-a652-d4d2c832bb9d"
  },
  {
   "metadata": {},
   "cell_type": "markdown",
   "source": [
    "On définit donc :\n",
    "\n",
    "* une fonction croissante $f_{air}(y)$ représentant l'interface air-béton définie pour $0 \\leq y \\leq H$ et allant de $x_a$ à $0$,\n",
    "* une autre fonction décroissante $f_{eau}(y)$ représentant l'interface eau-béton définie sur le même intervalle et allant de $x_e$ à $0$.\n",
    "\n",
    "On ne considérera ici que des fonctions monotones.\n",
    "\n",
    "On donne l'expression de la courbe côté eau pour une digue représentée par une fonction affine :\n",
    "\n",
    "$$\n",
    "f_{air}(y) = \\frac{(H-y).x_a}{H}\n",
    "$$\n",
    "\n",
    "d. Donnez l'expression de la fonction côté air dans le cas d'une fonction affine, et tracez-la avec le code suivant."
   ],
   "id": "66441d52-e965-41bd-99b4-cd885df88f2e"
  },
  {
   "metadata": {},
   "cell_type": "markdown",
   "source": "$$f_{eau}(y)=\\frac{(H-y).x_e}{H}$$",
   "id": "d599925d-f82f-421c-8149-3c9a588c0c05"
  },
  {
   "metadata": {
    "tags": [],
    "ExecuteTime": {
     "end_time": "2025-03-10T17:40:08.520088Z",
     "start_time": "2025-03-10T17:40:08.515723Z"
    }
   },
   "cell_type": "code",
   "source": [
    "import numpy as np\n",
    "import matplotlib.pyplot as plt"
   ],
   "id": "f7ed6604-a409-4012-a685-d800e62d7a4b",
   "outputs": [],
   "execution_count": 36
  },
  {
   "metadata": {
    "tags": [],
    "ExecuteTime": {
     "end_time": "2025-03-10T17:40:08.942396Z",
     "start_time": "2025-03-10T17:40:08.936285Z"
    }
   },
   "cell_type": "code",
   "source": [
    "# Ce code permet d'afficher les courbes représentant la digue\n",
    "\n",
    "H = 10\n",
    "xa = -5\n",
    "xe = 5"
   ],
   "id": "69f1a06d-f7df-4f91-a71e-e228c1eb562c",
   "outputs": [],
   "execution_count": 37
  },
  {
   "metadata": {
    "tags": [],
    "ExecuteTime": {
     "end_time": "2025-03-10T17:40:09.626500Z",
     "start_time": "2025-03-10T17:40:09.619472Z"
    }
   },
   "cell_type": "code",
   "source": [
    "# On définit les fonctions côté eau et côté air, ici les courbes concaves\n",
    "def fair(y):\n",
    "    return -(y - H) * xa / H\n",
    "\n",
    "def feau(y):\n",
    "    return (H-y)*xe/H"
   ],
   "id": "55d825c2-81e0-4666-a465-ec674036d6ac",
   "outputs": [],
   "execution_count": 38
  },
  {
   "metadata": {
    "tags": [],
    "ExecuteTime": {
     "end_time": "2025-03-10T17:40:11.534717Z",
     "start_time": "2025-03-10T17:40:11.529036Z"
    }
   },
   "cell_type": "code",
   "source": [
    "# On crée un tableau de y\n",
    "y = np.linspace(0, H, 1000)"
   ],
   "id": "96868210-7de6-4646-83f9-5fa5267215c0",
   "outputs": [],
   "execution_count": 39
  },
  {
   "metadata": {
    "tags": [],
    "ExecuteTime": {
     "end_time": "2025-03-10T17:40:13.287865Z",
     "start_time": "2025-03-10T17:40:13.062275Z"
    }
   },
   "cell_type": "code",
   "source": [
    "# On trace\n",
    "plt.plot(fair(y), y, '-b')\n",
    "plt.plot(feau(y), y, '-r')\n",
    "\n",
    "plt.plot([xe, xa], [0, 0], '-b') # Bas de la digue\n",
    "plt.xlabel('x (m)')\n",
    "plt.ylabel('y (m)')\n",
    "plt.text(xe, 8, 'eau')\n",
    "plt.text(xa, 8, 'air')\n",
    "plt.axis('equal') # Permet d'avoir un plot isométrique\n",
    "plt.axhline(0, color = \"black\")\n",
    "plt.axvline(0, color = \"black\")\n",
    "plt.xlim(-8, 8)\n",
    "plt.show()"
   ],
   "id": "35144a80-5dbc-4f88-b60a-9399e934ffa1",
   "outputs": [
    {
     "data": {
      "text/plain": [
       "<Figure size 640x480 with 1 Axes>"
      ],
      "image/png": "[encoded data removed]"
     },
     "metadata": {},
     "output_type": "display_data"
    }
   ],
   "execution_count": 40
  },
  {
   "metadata": {},
   "cell_type": "markdown",
   "source": "___",
   "id": "e0340af2-39f1-4ae7-b8d5-a4be1a4335d7"
  },
  {
   "metadata": {},
   "cell_type": "markdown",
   "source": [
    "## Travail en séance\n",
    "\n",
    "On rappelle que les forces de pression s'exercent perpendiculairement à la surface d'application. $\\textbf{Il faut donc pouvoir trouver un vecteur normal à la tangente de ces deux fonctions en tout point}$, qui sera le vecteur directeur de la force de pression locale."
   ],
   "id": "d1b2f484-695f-4f79-8123-f0abd6a748c0"
  },
  {
   "metadata": {
    "tags": []
   },
   "cell_type": "markdown",
   "source": "![DigueAngles.png](./DigueAngles.png) #déjà dans le notebook miniprojet",
   "id": "20373c4b-3a20-49fd-812c-114b16859b58"
  },
  {
   "metadata": {
    "tags": []
   },
   "cell_type": "markdown",
   "source": [
    "On rappelle que l'angle $\\theta$ entre la tangente en un point et l'axe des abscisses (voir schéma ci-dessus) est relié à la $\\textbf{dérivée}$ de la courbe par :\n",
    "\n",
    "$$\n",
    "tan(\\theta) = f'(y)\n",
    "$$\n",
    "\n",
    "Les vecteurs $\\vec t$ et $\\vec n$ sont alors donnés par :\n",
    "\n",
    "$$\n",
    "\\vec t = \\cos(\\theta).\\vec{u_y} + \\sin(\\theta).\\vec{u_x}\n",
    "$$\n",
    "\n",
    "$$\n",
    "\\vec n = \\sin(\\theta).\\vec{u_y} - \\cos(\\theta).\\vec{u_x}\n",
    "$$\n"
   ],
   "id": "cb6f0ea5-ea9f-4482-a040-ad94118b6c29"
  },
  {
   "metadata": {},
   "cell_type": "markdown",
   "source": [
    "Pour pouvoir calculer la résultante des forces de pression sur une surface de forme arbitraire, il nous faut intégrer les forces infinitésimales $\\vec{\\mathrm{d}F}$ s'appliquant à chaque élément de surface $\\mathrm{d}S$. Comme nous sommes en deux dimensions, nous pouvons simplifier le problème en considérant que l'élément de surface est $\\mathrm{d}S = L \\mathrm{d}l$, avec $L = 1$ la longueur unitaire de la digue suivant $z$, ce qui nous ramène à une intégrale 1D (on n'écrira pas $L$ dans la suite).\n",
    "\n",
    "On obtient donc, pour l'interface eau-béton :\n",
    "\n",
    "$$\n",
    "\\vec{F} = \\iint_S \\vec{\\mathrm{d}F} =\\int_0^H P(y) \\mathrm{d}l . \\vec{n}\n",
    "$$\n",
    "\n",
    "avec $\\vec{n}$ le vecteur normal rentrant au point de coordonnées $(f(y),y)$, et $\\mathrm{d}l$ la longueur infinitésimale de la courbe pour une variation $\\mathrm{d}x$. On montre facilement la relation avec l'angle $\\theta$ défini avant :\n",
    "\n",
    "$$\n",
    "\\mathrm{d}l = \\frac{\\mathrm{d}y}{\\cos(\\theta)}\n",
    "$$"
   ],
   "id": "b38b905a-7399-4133-9887-a80251dc862b"
  },
  {
   "metadata": {},
   "cell_type": "markdown",
   "source": [
    "### Cas des digues en pentes droites\n",
    "\n",
    "$\\textbf{a.}$ Calculez le volume de la digue par intégration de la largeur de la digue en fonction de $y$. Comparez avec le calcul analytique (ici, l'aire du triangle multipliée par la longueur $L=1$). En déduire la force de gravité exercée sur la digue."
   ],
   "id": "c6e4c9b3-f455-4284-bec0-89bc6a3eae17"
  },
  {
   "metadata": {},
   "cell_type": "markdown",
   "source": "On réinverse les axes : y en ordonnée et x en abscisse",
   "id": "1752314b-dcbd-4ae4-9373-1eef17c2daed"
  },
  {
   "metadata": {
    "tags": [],
    "ExecuteTime": {
     "end_time": "2025-03-10T17:40:16.080285Z",
     "start_time": "2025-03-10T17:40:16.074481Z"
    }
   },
   "cell_type": "code",
   "source": [
    "xe = 5\n",
    "xa = -5"
   ],
   "id": "f5ff7a27-9b36-437c-8a35-e93ac9430bc6",
   "outputs": [],
   "execution_count": 41
  },
  {
   "metadata": {
    "tags": [],
    "ExecuteTime": {
     "end_time": "2025-03-10T17:40:16.489897Z",
     "start_time": "2025-03-10T17:40:16.484248Z"
    }
   },
   "cell_type": "code",
   "source": [
    "def f_air(x, H=10):\n",
    "    \"\"\"côté air, négatif\"\"\"\n",
    "    a_=H*(1-x/xa)\n",
    "    return a_\n",
    "\n",
    "def f_eau(x):\n",
    "    \"\"\"côté eau, positif\"\"\"\n",
    "    e_=H*(1-x/xe)\n",
    "    return e_"
   ],
   "id": "74cfadcd-2017-456f-8e78-b6445b1aeb6a",
   "outputs": [],
   "execution_count": 42
  },
  {
   "metadata": {
    "tags": [],
    "ExecuteTime": {
     "end_time": "2025-03-10T17:40:16.707690Z",
     "start_time": "2025-03-10T17:40:16.701286Z"
    }
   },
   "cell_type": "code",
   "source": [
    "def int_f(f, a, b, n):\n",
    "    \"\"\"calcul de l'intégrale de f\"\"\"\n",
    "    deltax = (b - a) / n\n",
    "    output = 0 # Initialisation de la somme à zéro\n",
    "    for i in range(n):\n",
    "        output = output + f(a + i * deltax) * deltax\n",
    "    return output"
   ],
   "id": "1cf32bf7-82d7-4c2a-a04e-99693069153e",
   "outputs": [],
   "execution_count": 43
  },
  {
   "metadata": {
    "tags": [],
    "ExecuteTime": {
     "end_time": "2025-03-10T17:40:16.894076Z",
     "start_time": "2025-03-10T17:40:16.888543Z"
    }
   },
   "cell_type": "code",
   "source": [
    "pas = 1000\n",
    "L=1"
   ],
   "id": "dea484b5-8dc3-4f92-b42b-892e8baead94",
   "outputs": [],
   "execution_count": 44
  },
  {
   "metadata": {
    "tags": [],
    "ExecuteTime": {
     "end_time": "2025-03-10T17:40:17.068146Z",
     "start_time": "2025-03-10T17:40:17.059972Z"
    }
   },
   "cell_type": "code",
   "source": [
    "print(int_f(f_eau, 0, xe, pas))\n",
    "\n",
    "V_digue_droite=int_f(f_eau, 0, xe, pas)*L*2 # on multiplie par 2 car on suppose que les deux cotés sont égaux\n",
    "\n",
    "print(V_digue_droite)"
   ],
   "id": "be113de5-a51e-41cb-af3d-bb08d88ae987",
   "outputs": [
    {
     "name": "stdout",
     "output_type": "stream",
     "text": [
      "25.025000000000006\n",
      "50.05000000000001\n"
     ]
    }
   ],
   "execution_count": 45
  },
  {
   "metadata": {},
   "cell_type": "markdown",
   "source": [
    "Calcul analytique :\n",
    "$$\n",
    "V= \\iiint_V \\mathrm{d}x \\mathrm{d}y \\mathrm{d}z\n",
    "$$\n",
    "\n",
    "$$\n",
    "V= \\int_{0}^{1} \\int_{0}^{x_e} \\int_{0}^{H(1-\\frac{x}{x_e})} \\mathrm{d}y \\mathrm{d}x \\mathrm{d}z\n",
    "$$\n",
    "\n",
    "avec :\n",
    "\\begin{cases}\n",
    "x \\in [0, x_e]\\\\\n",
    "y \\in [0, H(1-\\frac{x}{x_e})] \\\\\n",
    "z \\in [0,1]\n",
    "\\end{cases}\n"
   ],
   "id": "a5257a9f-f1e3-4f0c-8b67-8686c0782c16"
  },
  {
   "metadata": {},
   "cell_type": "markdown",
   "source": [
    "Verification :\n",
    "\n",
    "$$\n",
    "V = x_e.H.L\n",
    "$$\n",
    "or $L=1$"
   ],
   "id": "e8b99ee6-1c18-496d-9ba9-d785bf92bc34"
  },
  {
   "metadata": {
    "ExecuteTime": {
     "end_time": "2025-03-10T17:40:17.598457Z",
     "start_time": "2025-03-10T17:40:17.591343Z"
    }
   },
   "cell_type": "code",
   "source": [
    "volume_analytique=xe*H\n",
    "print(\"volume =\", volume_analytique, \"m3\")"
   ],
   "id": "5f95735c-a771-49a5-a6f1-07d9c58388f1",
   "outputs": [
    {
     "name": "stdout",
     "output_type": "stream",
     "text": [
      "volume = 50 m3\n"
     ]
    }
   ],
   "execution_count": 46
  },
  {
   "metadata": {},
   "cell_type": "markdown",
   "source": "Calcul de la masse de la digue :",
   "id": "5131a2f9-d2fc-4825-9475-7fc8c83cd052"
  },
  {
   "metadata": {
    "tags": [],
    "ExecuteTime": {
     "end_time": "2025-03-10T17:40:17.866096Z",
     "start_time": "2025-03-10T17:40:17.861266Z"
    }
   },
   "cell_type": "code",
   "source": [
    "rho_e = 1000 #kg/m3 EAU\n",
    "rho_b = 3000 #kg/m3 BETON"
   ],
   "id": "721c379a-90a2-49df-8e90-dfc8eaf485cd",
   "outputs": [],
   "execution_count": 47
  },
  {
   "metadata": {
    "tags": [],
    "ExecuteTime": {
     "end_time": "2025-03-10T17:40:18.085909Z",
     "start_time": "2025-03-10T17:40:18.079158Z"
    }
   },
   "cell_type": "code",
   "source": [
    "M_digue_droite = rho_b* V_digue_droite\n",
    "\n",
    "print(M_digue_droite, \"kg\")"
   ],
   "id": "59acf114-2323-4f9c-9ab4-897c286f4bc6",
   "outputs": [
    {
     "name": "stdout",
     "output_type": "stream",
     "text": [
      "150150.00000000003 kg\n"
     ]
    }
   ],
   "execution_count": 48
  },
  {
   "metadata": {},
   "cell_type": "markdown",
   "source": "Calcul du poids la digue :",
   "id": "1378d409-ba7b-471a-a191-1e312b2310ee"
  },
  {
   "metadata": {
    "tags": [],
    "ExecuteTime": {
     "end_time": "2025-03-10T17:40:18.427797Z",
     "start_time": "2025-03-10T17:40:18.421662Z"
    }
   },
   "cell_type": "code",
   "source": "g = 9.81 # m/s2",
   "id": "1115a23a-3691-4f2a-9f31-6915dd7b7a02",
   "outputs": [],
   "execution_count": 49
  },
  {
   "metadata": {
    "tags": [],
    "ExecuteTime": {
     "end_time": "2025-03-10T17:40:18.629710Z",
     "start_time": "2025-03-10T17:40:18.623090Z"
    }
   },
   "cell_type": "code",
   "source": [
    "P_digue_droite = g * M_digue_droite\n",
    "\n",
    "print(P_digue_droite, \"N\")"
   ],
   "id": "99bf93db-4d3d-4fa9-a7e4-77c2b2df44af",
   "outputs": [
    {
     "name": "stdout",
     "output_type": "stream",
     "text": [
      "1472971.5000000005 N\n"
     ]
    }
   ],
   "execution_count": 50
  },
  {
   "metadata": {},
   "cell_type": "markdown",
   "source": "$\\textbf{b.}$ Pour le cas des fonctions affines, calculez la résultante (vectorielle ; il y a une composante suivant $x$ et une composante suivant $y$) des forces de pression côté eau. On prendra $x_a = -5$, $x_e = +5$, $H=10$. (On ne cherchera pas à faire le calcul analytique !)",
   "id": "c00611cc-ae54-46c1-a4d7-24b705b74a19"
  },
  {
   "metadata": {
    "tags": [],
    "ExecuteTime": {
     "end_time": "2025-03-10T17:40:18.932697Z",
     "start_time": "2025-03-10T17:40:18.925707Z"
    }
   },
   "cell_type": "code",
   "source": [
    "xe = 5\n",
    "xa = -5\n",
    "H = 10\n",
    "\n",
    "y=np.linspace(0, H, 1000)"
   ],
   "id": "d3bb058d-7fa8-444c-b2df-840a5628192c",
   "outputs": [],
   "execution_count": 51
  },
  {
   "metadata": {},
   "cell_type": "markdown",
   "source": [
    "La pression hydrostatique à une profondeur $y$ sous la surface de l'eau est :\n",
    "$$P_{eau}(y)= \\rho_{eau}g(H-y)$$\n",
    "avec :\n",
    "- $\\rho{eau}=1000 kg/m^3$\n",
    "- $g=9.81 m/s^2$\n",
    "- $H =10 m$\n",
    "- $y$ (hauteur depuis le fond de la digue)"
   ],
   "id": "3edcc2cf-50e4-4cea-98e6-b29e94b6bc27"
  },
  {
   "metadata": {},
   "cell_type": "markdown",
   "source": "On calcule la résultante des forces de pression exercées sur la digue, en intégrant :  $$dF_{px} = P_0 - \\rho gy =  \\rho_{eau}g(H-y)$$ puis $$dF_{py} = (P_0 - \\rho gy)tan(\\theta) = (P_0 - \\rho gy)\\frac{xe}{H}  = -\\frac{xe}{H} \\rho_{eau}g(H-y) $$",
   "id": "2bc321f5cad7421d"
  },
  {
   "metadata": {
    "ExecuteTime": {
     "end_time": "2025-03-10T17:40:19.492106Z",
     "start_time": "2025-03-10T17:40:19.479216Z"
    }
   },
   "cell_type": "code",
   "source": [
    "#Fonction force élémentaire selon y:\n",
    "def dFpy(y):\n",
    "    return -rho_e*g*(H-y)*xe/H\n",
    "\n",
    "#Fonction force élémentaire selon x:\n",
    "def dFpx(y):\n",
    "    return rho_e*g*(H-y)\n",
    "\n",
    "Fpy = int_f(dFpy,0,H,1000)\n",
    "Fpx = int_f(dFpx,0,H,1000)\n",
    "print('Résultante des forces de pression selon y :', Fpy, 'N')\n",
    "print('Résultante des forces de pression selon x :', Fpx, 'N')"
   ],
   "id": "f1fe9d85b1fe7336",
   "outputs": [
    {
     "name": "stdout",
     "output_type": "stream",
     "text": [
      "Résultante des forces de pression selon y : -245495.2500000004 N\n",
      "Résultante des forces de pression selon x : 490990.5000000008 N\n"
     ]
    }
   ],
   "execution_count": 52
  },
  {
   "metadata": {},
   "cell_type": "markdown",
   "source": "$\\textbf{c.}$ En supposant que la digue est en équilibre statique translationnel, calculez avec le principe fondamental de la dynamique les deux composantes (normale et tangentielle) de la force de réaction du sol, puis le rapport de ces composantes $T/N$. En considérant le coefficient de frottement roche/béton de 0.5, la digue est-elle en équilibre translationnel ?",
   "id": "c4e2cac8-b0d7-455a-8f58-5f43e137fc71"
  },
  {
   "metadata": {},
   "cell_type": "markdown",
   "source": [
    "$$Fpx = 250500 N$$\n",
    "\n",
    "$$Fpy =500000 N$$"
   ],
   "id": "f257edbd7e005129"
  },
  {
   "metadata": {},
   "cell_type": "markdown",
   "source": "On a $$-mg  + F_{py} + N = 0$$ et $$F_{px} + T = 0$$",
   "id": "2834fcf9647e25a4"
  },
  {
   "metadata": {
    "ExecuteTime": {
     "end_time": "2025-03-10T17:40:20.229855Z",
     "start_time": "2025-03-10T17:40:20.221190Z"
    }
   },
   "cell_type": "code",
   "source": [
    "N = P_digue_droite - Fpy\n",
    "T = - Fpx\n",
    "\n",
    "T_N=abs(T/N)\n",
    "print(T_N)"
   ],
   "id": "2123cd04214547e2",
   "outputs": [
    {
     "name": "stdout",
     "output_type": "stream",
     "text": [
      "0.28571428571428603\n"
     ]
    }
   ],
   "execution_count": 53
  },
  {
   "metadata": {},
   "cell_type": "markdown",
   "source": [
    "$\\frac {T}{N}$ est inférieur à $\\mu$=0.5, donc la digue est en équilibre translationnel.\n",
    "\n",
    "On a $\\lvert \\mu \\rvert = \\lvert T/N \\rvert= 0.286 < 0.5$\n",
    "\n",
    "On peut en déduire que, dans ces conditions, la digue n'est pas à l'équilibre translationnel, car la condition  $\\lvert \\mu \\rvert = 0.286 \\le 0.5$ est vérifiée."
   ],
   "id": "bdf8ed44-e05c-4b5e-9cc3-868f545ade51"
  },
  {
   "metadata": {},
   "cell_type": "markdown",
   "source": "$\\textbf{d.}$ Reprenez le calcul du rapport $T/N$ et du volume de béton en imposant $x_a=-5$ et $x_e=0$. La digue est-elle stable ? (Il sera utile d'écrire une fonction résumant les calculs des questions a. b. c.)",
   "id": "dadc2b1c-9a18-4aea-8e49-392cc59f2593"
  },
  {
   "metadata": {
    "ExecuteTime": {
     "end_time": "2025-03-10T17:40:20.836653Z",
     "start_time": "2025-03-10T17:40:20.830396Z"
    }
   },
   "cell_type": "code",
   "source": [
    "x_a = -5\n",
    "x_e = 0\n",
    "H = 10\n",
    "y=np.linspace(0, H, 1000)"
   ],
   "id": "cf21732c-f51b-4985-9076-d1ceff3ef2f3",
   "outputs": [],
   "execution_count": 54
  },
  {
   "metadata": {
    "ExecuteTime": {
     "end_time": "2025-03-10T17:40:21.060825Z",
     "start_time": "2025-03-10T17:40:21.052333Z"
    }
   },
   "cell_type": "code",
   "source": [
    "def volume_beton(f_eau, x_a, x_e, H):\n",
    "    V_=int_f(f_eau, x_a, x_e, pas)*L\n",
    "    return V_\n",
    "\n",
    "#Fonction force élémentaire selon y:\n",
    "def dFpy(y, H=10, rho_e=1000):\n",
    "    return -rho_e*g*(H-y)*x_e/H\n",
    "\n",
    "#Fonction force élémentaire selon x:\n",
    "def dFpx(y, H=10, rho_e=1000, g=9.81):\n",
    "    return rho_e*g*(H-y)\n",
    "\n",
    "\n",
    "def TN(x_a, x_e,volume, y, H=10, rho_e=1000, rho_b=3000, g=9.81):\n",
    "    poids=volume*g*rho_b\n",
    "    F_py_ = int_f(dFpy,0,H,1000)\n",
    "    F_px_ = int_f(dFpx,0,H,1000)\n",
    "    T= - F_px_\n",
    "    N=poids-F_py_\n",
    "    return abs(T/N)"
   ],
   "id": "6dcfccc2cd57c3fa",
   "outputs": [],
   "execution_count": 55
  },
  {
   "metadata": {
    "ExecuteTime": {
     "end_time": "2025-03-10T17:40:21.230058Z",
     "start_time": "2025-03-10T17:40:21.222010Z"
    }
   },
   "cell_type": "code",
   "source": "print(TN(-5, 0, volume_beton(f_eau, -5, 0, 10), y))",
   "id": "477fa7acddbe594a",
   "outputs": [
    {
     "name": "stdout",
     "output_type": "stream",
     "text": [
      "0.2223703210041101\n"
     ]
    }
   ],
   "execution_count": 56
  },
  {
   "metadata": {},
   "cell_type": "markdown",
   "source": [
    "On a $\\lvert \\mu \\rvert = \\lvert T/N \\rvert= 0.22 < 0.5$\n",
    "Donc la digue est stable."
   ],
   "id": "e6a4726f6ff7958d"
  },
  {
   "metadata": {},
   "cell_type": "markdown",
   "source": "$\\textbf{e.}$ Reprenez le calcul avec $x_a=0$ et $x_e=+5$. Que constatez-vous ? Expliquez pourquoi la digue est stable dans un cas mais pas l'autre.",
   "id": "9767f9ee-3f5c-41ae-adcd-beda90228d9a"
  },
  {
   "metadata": {
    "ExecuteTime": {
     "end_time": "2025-03-10T17:40:21.789016Z",
     "start_time": "2025-03-10T17:40:21.780164Z"
    }
   },
   "cell_type": "code",
   "source": "print(TN(0, 5, volume_beton(f_eau, 0, 5, 10), y))",
   "id": "2bb9b94aaa5796e",
   "outputs": [
    {
     "name": "stdout",
     "output_type": "stream",
     "text": [
      "0.6666666666666676\n"
     ]
    }
   ],
   "execution_count": 57
  },
  {
   "metadata": {},
   "cell_type": "markdown",
   "source": [
    "On a $\\lvert \\mu \\rvert = \\lvert T/N \\rvert= 0.67 < 0.5$\n",
    "Donc la digue n'est pas stable. La digue est stable dans le cas précédent car seul le volume du côté négatif ($x_a>0$) est important pour la stabilité. C'est à cause de la hauteur H du côté de l'eau, il faut une masse importante pour contrabalancer la force de pression de l'eau sur la digue."
   ],
   "id": "db9d2d7644c3ce1f"
  },
  {
   "metadata": {},
   "cell_type": "markdown",
   "source": [
    "### Cas des digues convexes\n",
    "\n",
    "On considère maintenant que l'interface entre l'eau et le béton n'est plus une fonction affine mais une fonction de la forme :\n",
    "\n",
    "$$\n",
    "f_{eau} (y)=a \\left(\\frac{y}{H}\\right)^2-(a+x_e)\\left(\\frac{y}{H}\\right) +x_e\n",
    "$$\n",
    "\n",
    "\n",
    "on donne également la dérivée :\n",
    "\n",
    "$$\n",
    "f'_{eau} (y)=\\frac{2ay}{H^2}-\\frac{a+x_e}{H}\n",
    "$$\n",
    "\n",
    "(on peut vérifier aisément que cette fonction relie bien les points de coordonées $[x_e,0]$ et $[0,H]$). Dans la suite nous prendrons $a=3$."
   ],
   "id": "8596dbe04eef406a"
  },
  {
   "metadata": {
    "ExecuteTime": {
     "end_time": "2025-03-10T17:40:22.371176Z",
     "start_time": "2025-03-10T17:40:22.365673Z"
    }
   },
   "cell_type": "code",
   "source": [
    "import numpy as np\n",
    "import matplotlib.pyplot as plt"
   ],
   "id": "c14de71dadcb0e96",
   "outputs": [],
   "execution_count": 58
  },
  {
   "metadata": {
    "ExecuteTime": {
     "end_time": "2025-03-10T17:40:22.836822Z",
     "start_time": "2025-03-10T17:40:22.596381Z"
    }
   },
   "cell_type": "code",
   "source": [
    "# Ce code permet d'afficher les courbes représentant la digue\n",
    "\n",
    "H = 10\n",
    "xe = 5\n",
    "xa = 0\n",
    "\n",
    "# On définit les fonctions côté eau et côté air, ici les courbes concaves\n",
    "a = 3\n",
    "def feau(y):\n",
    "    return a * (y / H) ** 2 - (a + xe) * (y / H) + xe\n",
    "def fair(y):\n",
    "    return (H - y) * xa / H\n",
    "\n",
    "# On crée un tableau de y\n",
    "y = np.linspace(0, H, 1000)\n",
    "\n",
    "# On trace\n",
    "plt.plot(feau(y), y, '-b')\n",
    "plt.plot(fair(y), y, '-b')\n",
    "plt.plot([xe, xa], [0, 0], '-b')\n",
    "plt.xlabel('x (m)')\n",
    "plt.ylabel('y (m)')\n",
    "plt.text(3, 8, 'eau')\n",
    "plt.text(-3, 8, 'air')\n",
    "plt.axis('equal') # Permet d'avoir un plot isométrique\n",
    "plt.axhline(0, color = \"black\")\n",
    "#plt.axvline(0, color = \"black\")\n",
    "plt.xlim(-8, 8)\n",
    "plt.show()"
   ],
   "id": "59ba506e441d3928",
   "outputs": [
    {
     "data": {
      "text/plain": [
       "<Figure size 640x480 with 1 Axes>"
      ],
      "image/png": "[encoded data removed]"
     },
     "metadata": {},
     "output_type": "display_data"
    }
   ],
   "execution_count": 59
  },
  {
   "metadata": {},
   "cell_type": "markdown",
   "source": "f. Calculez, pour $a=3$, $x_a=0$ et $x_e=5$, la résultante des forces de pression, le volume de béton, et le rapport $T/N$ dans l'hypothèse de l'équilibre statique. La digue est-elle en équilibre translationnel ?",
   "id": "c05cd4bb114e238f"
  },
  {
   "metadata": {
    "ExecuteTime": {
     "end_time": "2025-03-10T17:40:22.995851Z",
     "start_time": "2025-03-10T17:40:22.988003Z"
    }
   },
   "cell_type": "code",
   "source": [
    "a=3\n",
    "x_a=0\n",
    "x_e=5\n",
    "H=10"
   ],
   "id": "fe440b2069d969c8",
   "outputs": [],
   "execution_count": 60
  },
  {
   "metadata": {},
   "cell_type": "markdown",
   "source": "$$F_{py} = \\int_{0}^H \\rho g(H - y)f'_{eau}dy = \\int_{0}^H \\rho g(H - y)(\\frac{2ay}{H^2}-\\frac{a+x_e}{H})dy$$ $$F_{px} = -\\int_{0}^H \\rho g(H - y)dy$$",
   "id": "679187eca399fa1"
  },
  {
   "metadata": {
    "ExecuteTime": {
     "end_time": "2025-03-10T17:40:23.274545Z",
     "start_time": "2025-03-10T17:40:23.267554Z"
    }
   },
   "cell_type": "code",
   "source": [
    "def dFpy(y):\n",
    "    return rho_e*g*(H-y)*(2*a*y/H**2 - (a+x_e)/H)\n",
    "\n",
    "def dFpx(y):\n",
    "    return rho_e*g*(H-y)\n",
    "\n",
    "def volume_concave(f_eau, x_a, x_e, H=10):\n",
    "    A_e =int_f(f_eau, 0, x_e, 1000)\n",
    "    A_a = int_f(fair, x_a, 0, 1000)\n",
    "    Volume_= A_e+A_a\n",
    "    return Volume_"
   ],
   "id": "27018ab64eeef2c5",
   "outputs": [],
   "execution_count": 61
  },
  {
   "metadata": {
    "ExecuteTime": {
     "end_time": "2025-03-10T17:40:23.508853Z",
     "start_time": "2025-03-10T17:40:23.501352Z"
    }
   },
   "cell_type": "code",
   "source": [
    "def TN(x_a, x_e, volume, y, H=10, rho_e=1000, rho_b=3000, g=9.81):\n",
    "    poids = volume*g*rho_b\n",
    "    F_py_ = int_f(dFpy,0,H,1000)\n",
    "    F_px_ = int_f(dFpx,0,H,1000)\n",
    "    T= - F_px_\n",
    "    N= F_py_ - poids\n",
    "    return (abs(T/N), F_py_, F_px_)"
   ],
   "id": "7a5ea87e6e7f8566",
   "outputs": [],
   "execution_count": 62
  },
  {
   "metadata": {
    "ExecuteTime": {
     "end_time": "2025-03-10T17:40:23.703520Z",
     "start_time": "2025-03-10T17:40:23.693031Z"
    }
   },
   "cell_type": "code",
   "source": [
    "T_N1, F_py1, F_px1 = TN(x_a, x_e, volume_concave(f_eau, x_a, x_e), y)\n",
    "\n",
    "print(\"V =\", volume_concave(feau, x_a, x_e, H), \"m3\")\n",
    "print(\"T/N =\", T_N1)\n",
    "print(\"F_py =\", F_py1)\n",
    "print(\"F_px =\", F_px1)"
   ],
   "id": "5e2317612ba84008",
   "outputs": [
    {
     "name": "stdout",
     "output_type": "stream",
     "text": [
      "V = 16.258125625000005 m3\n",
      "T/N = 0.4761451290353302\n",
      "F_py = -294692.49810000113\n",
      "F_px = 490990.5000000008\n"
     ]
    }
   ],
   "execution_count": 63
  },
  {
   "metadata": {},
   "cell_type": "markdown",
   "source": "Pour un volume de $16.26 m^3$, on a un rapport T/N de $0.48$ ce qui est très proche de $\\mu=0.5$. Il est inférieur à $0.5$ donc la digue est stable.",
   "id": "a1ff1cfb4bdf0f35"
  },
  {
   "metadata": {},
   "cell_type": "markdown",
   "source": "g. Reprenons le calcul avec $x_e=6$. La digue est-elle en équilibre ? Comparez avec le cas de la pente affine avec $x_a=0$ et $x_e=5$. Laquelle est la plus favorable ?",
   "id": "b07bc57cc7fb8181"
  },
  {
   "metadata": {
    "ExecuteTime": {
     "end_time": "2025-03-10T17:40:24.194622Z",
     "start_time": "2025-03-10T17:40:24.180498Z"
    }
   },
   "cell_type": "code",
   "source": [
    "x_e=6\n",
    "\n",
    "T_N2, F_py2, F_px2 = TN(x_a, 6, volume_concave(f_eau, x_a, 6, H), y)\n",
    "\n",
    "print(\"V =\", volume_concave(feau, x_a, 6, H), \"m3\")\n",
    "print(\"T/N =\", T_N2)\n",
    "print(\"F_py =\", F_py2)\n",
    "print(\"F_px =\", F_px2)"
   ],
   "id": "d813151572ee2383",
   "outputs": [
    {
     "name": "stdout",
     "output_type": "stream",
     "text": [
      "V = 17.771161080000024 m3\n",
      "T/N = 0.46708907197287436\n",
      "F_py = -343791.54809999955\n",
      "F_px = 490990.5000000008\n"
     ]
    }
   ],
   "execution_count": 64
  },
  {
   "metadata": {},
   "cell_type": "markdown",
   "source": "Dans le cas de la pente affine, la digue n'était pas stable. Ici, le rapport T/N est de $0.47$, ce qui montre que la digue est stable.",
   "id": "fc8319cf831b00c"
  },
  {
   "metadata": {},
   "cell_type": "markdown",
   "source": "h. Utilisez une boucle pour calculer le volume et le rapport $T/N$ en faisant varier $x_e$ dans l'intervalle $[5,6]$. On pourra ainsi tracer le rapport $T/N$ en fonction du volume. Déterminez graphiquement le volume minimal pour garder le rapport $T/N$ inférieur à 0.5 dans le cas courbe.",
   "id": "62c27c4c5a851681"
  },
  {
   "metadata": {},
   "cell_type": "markdown",
   "source": [
    "$$\\textbf{Pour la fin, je ne comprends pas où est mon erreur.}$$\n",
    "Je suis censée trouver une courbe de T/N en fonction de V qui coupe y=0.5 mais ce n'est pas le cas."
   ],
   "id": "eb0f8995edb0e5c1"
  },
  {
   "metadata": {
    "ExecuteTime": {
     "end_time": "2025-03-10T17:40:24.958297Z",
     "start_time": "2025-03-10T17:40:24.952399Z"
    }
   },
   "cell_type": "code",
   "source": "x_e_boucle=np.linspace(5, 6, 1000)",
   "id": "c82e8a9df28937e0",
   "outputs": [],
   "execution_count": 65
  },
  {
   "metadata": {
    "ExecuteTime": {
     "end_time": "2025-03-10T17:40:32.554535Z",
     "start_time": "2025-03-10T17:40:25.168567Z"
    }
   },
   "cell_type": "code",
   "source": [
    "V=[]\n",
    "T_N=[]\n",
    "for x_e1 in x_e_boucle:\n",
    "    V_=volume_concave(feau, 0, x_e1, H)\n",
    "    T_N3, F_py3, F_px3 = TN(0, x_e1, volume_concave(f_eau, x_a, x_e1, H), y)\n",
    "    V.append(V_)\n",
    "    T_N.append(T_N3)"
   ],
   "id": "6519d18ead5c673",
   "outputs": [],
   "execution_count": 66
  },
  {
   "metadata": {
    "ExecuteTime": {
     "end_time": "2025-03-10T17:40:32.759157Z",
     "start_time": "2025-03-10T17:40:32.564104Z"
    }
   },
   "cell_type": "code",
   "source": [
    "plt.plot(V, T_N)\n",
    "print(V)\n",
    "\n",
    "plt.plot(V, 0.5*np.ones(len(V)), 'r', label=\"$\\mu=0.5$\")\n",
    "plt.legend()\n",
    "plt.show()"
   ],
   "id": "d48f3e9212311c5f",
   "outputs": [
    {
     "name": "stdout",
     "output_type": "stream",
     "text": [
      "[16.258125625000005, 16.25988000468971, 16.26163388378883, 16.263387262357508, 16.265140140455795, 16.266892518143788, 16.268644395481573, 16.270395772529234, 16.272146649346904, 16.27389702599466, 16.275646902532532, 16.27739627902069, 16.279145155519146, 16.280893532088093, 16.282641408787526, 16.284388785677564, 16.286135662818342, 16.287882040269874, 16.289627918092293, 16.29137329634569, 16.293118175090125, 16.294862554385748, 16.29660643429257, 16.298349814870786, 16.300092696180354, 16.301835078281503, 16.303576961234214, 16.305318345098623, 16.307059229934808, 16.30879961580286, 16.310539502762918, 16.31227889087498, 16.3140177801992, 16.315756170795677, 16.317494062724446, 16.319231456045635, 16.320968350819335, 16.322704747105636, 16.32444064496458, 16.326176044456357, 16.327910945640966, 16.32964534857852, 16.33137925332913, 16.333112659952878, 16.33484556850987, 16.336577979060163, 16.338309891663837, 16.34004130638099, 16.341772223271775, 16.343502642396228, 16.345232563814484, 16.346961987586507, 16.348690913772515, 16.35041934243256, 16.35214727362675, 16.353874707415116, 16.355601643857803, 16.357328083014888, 16.359054024946484, 16.360779469712632, 16.362504417373437, 16.36422886798903, 16.365952821619445, 16.367676278324815, 16.36939923816519, 16.3711217012007, 16.372843667491402, 16.374565137097402, 16.376286110078798, 16.378006586495697, 16.379726566408127, 16.381446049876214, 16.383165036960065, 16.384883527719765, 16.386601522215344, 16.38831902050701, 16.39003602265475, 16.391752528718655, 16.393468538758885, 16.395184052835496, 16.39689907100857, 16.398613593338215, 16.400327619884493, 16.40204115070752, 16.40375418586734, 16.40546672542411, 16.40717876943787, 16.408890317968805, 16.41060137107684, 16.412311928822202, 16.414021991264928, 16.415731558465097, 16.417440630482794, 16.4191492073782, 16.420857289211277, 16.422564876042212, 16.424271967931016, 16.425978564937864, 16.427684667122804, 16.429390274545888, 16.431095387267277, 16.432800005347005, 16.43450412884519, 16.43620775782193, 16.437910892337282, 16.439613532451386, 16.441315678224274, 16.44301732971605, 16.444718486986833, 16.44641915009674, 16.448119319105764, 16.449818994074075, 16.45151817506172, 16.453216862128844, 16.45491505533547, 16.456612754741737, 16.458309960407682, 16.460006672393472, 16.461702890759156, 16.463398615564806, 16.46509384687052, 16.466788584736403, 16.468482829222566, 16.470176580389033, 16.471869838295977, 16.473562603003376, 16.475254874571444, 16.476946653060235, 16.47863793852978, 16.48032873104023, 16.482019030651653, 16.483708837424135, 16.485398151417776, 16.487086972692673, 16.488775301308873, 16.49046313732653, 16.492150480805662, 16.493837331806454, 16.495523690388904, 16.49720955661316, 16.498894930539304, 16.500579812227368, 16.50226420173751, 16.5039480991298, 16.505631504464315, 16.507314417801176, 16.508996839200453, 16.510678768722194, 16.512360206426596, 16.514041152373675, 16.515721606623522, 16.51740156923623, 16.519081040271907, 16.520760019790586, 16.522438507852463, 16.524116504517522, 16.525794009845903, 16.527471023897732, 16.52914754673302, 16.530823578411944, 16.532499118994497, 16.53417416854083, 16.535848727111063, 16.537522794765195, 16.53919637156336, 16.54086945756568, 16.542542052832236, 16.54421415742305, 16.545885771398282, 16.547556894818022, 16.54922752774232, 16.550897670231308, 16.552567322345045, 16.55423648414364, 16.555905155687196, 16.557573337035752, 16.559241028249414, 16.560908229388346, 16.562574940512505, 16.564241161682077, 16.565906892957177, 16.567572134397754, 16.569236886064076, 16.570901148016127, 16.572564920314026, 16.574228203017793, 16.57589099618768, 16.577553299883615, 16.57921511416577, 16.580876439094222, 16.582537274729038, 16.584197621130336, 16.585857478358232, 16.58751684647273, 16.589175725534012, 16.590834115602092, 16.5924920167371, 16.594149428999103, 16.595806352448268, 16.597462787144593, 16.59911873314817, 16.60077419051916, 16.602429159317616, 16.60408363960361, 16.60573763143724, 16.607391134878622, 16.60904414998781, 16.610696676824954, 16.612348715450054, 16.61400026592329, 16.615651328304637, 16.61730190265432, 16.618951989032357, 16.620601587498868, 16.62225069811387, 16.623899320937568, 16.625547456029896, 16.627195103451136, 16.62884226326126, 16.630488935520397, 16.63213512028856, 16.63378081762597, 16.63542602759261, 16.63707075024858, 16.638714985654033, 16.640358733869032, 16.642001994953613, 16.643644768967928, 16.64528705597205, 16.64692885602609, 16.64857016919007, 16.650210995524155, 16.651851335088434, 16.653491187942937, 16.655130554147814, 16.656769433763074, 16.65840782684891, 16.660045733465356, 16.66168315367252, 16.66332008753047, 16.664956535099286, 16.666592496439073, 16.668227971609976, 16.66986296067205, 16.671497463685334, 16.67313148070997, 16.674765011806002, 16.676398057033577, 16.678030616452766, 16.679662690123635, 16.681294278106314, 16.682925380460876, 16.68455599724737, 16.686186128525982, 16.687815774356732, 16.689444934799678, 16.691073609914966, 16.692701799762684, 16.69432950440293, 16.695956723895737, 16.697583458301274, 16.699209707679547, 16.700835472090755, 16.702460751594874, 16.704085546252045, 16.705709856122382, 16.707333681265936, 16.708957021742837, 16.710579877613103, 16.712202248936894, 16.713824135774292, 16.71544553818536, 16.71706645623022, 16.718686889968883, 16.72030683946151, 16.72192630476822, 16.723545285949072, 16.725163783064097, 16.726781796173462, 16.72839932533723, 16.73001637061548, 16.731632932068315, 16.733249009755824, 16.734864603738128, 16.7364797140753, 16.738094340827338, 16.739708484054418, 16.741322143816625, 16.742935320174094, 16.744548013186836, 16.74616022291498, 16.74777194941862, 16.74938319275785, 16.75099395299267, 16.752604230183294, 16.75421402438975, 16.75582333567215, 16.757432164090584, 16.759040509705095, 16.760648372575826, 16.762255752762883, 16.763862650326335, 16.76546906532619, 16.76707499782267, 16.768680447875802, 16.770285415545686, 16.771889900892386, 16.773493903976018, 16.775097424856654, 16.776700463594402, 16.77830302024937, 16.779905094881585, 16.781506687551186, 16.783107798318273, 16.784708427242958, 16.786308574385192, 16.787908239805233, 16.78950742356305, 16.791106125718827, 16.79270434633258, 16.794302085464476, 16.79589934317453, 16.79749611952289, 16.79909241456958, 16.800688228374707, 16.802283560998436, 16.803878412500794, 16.805472782941848, 16.80706667238176, 16.808660080880554, 16.81025300849836, 16.811845455295273, 16.81343742133132, 16.815028906666665, 16.816619911361343, 16.81821043547551, 16.81980047906921, 16.82139004220256, 16.822979124935554, 16.8245677273284, 16.826155849441157, 16.827743491333884, 16.82933065306672, 16.830917334699688, 16.832503536292958, 16.834089257906573, 16.83567449960062, 16.837259261435182, 16.838843543470368, 16.840427345766276, 16.842010668382965, 16.843593511380572, 16.845175874819112, 16.84675775875881, 16.848339163259595, 16.849920088381676, 16.85150053418508, 16.853080500729913, 16.8546599880763, 16.85623899628424, 16.857817525413914, 16.859395575525394, 16.860973146678756, 16.862550238934062, 16.864126852351472, 16.865702986990996, 16.867278642912765, 16.86885382017692, 16.87042851884345, 16.872002738972522, 16.87357648062416, 16.87514974385847, 16.876722528735637, 16.87829483531563, 16.879866663658607, 16.88143801382464, 16.88300888587377, 16.884579279866223, 16.886149195861943, 16.88771863392113, 16.889287594103717, 16.89085607646999, 16.892424081079923, 16.893991607993623, 16.89555865727118, 16.897125228972687, 16.898691323158303, 16.900256939887992, 16.901822079221944, 16.9033867412202, 16.904950925942828, 16.906514633449984, 16.908077863801694, 16.909640617058116, 16.911202893279345, 16.912764692525347, 16.914326014856346, 16.91588686033235, 16.91744722901349, 16.919007120959883, 16.92056653623155, 16.922125474888617, 16.923683936991175, 16.925241922599326, 16.92679943177313, 16.92835646457268, 16.929913021058063, 16.93146910128943, 16.933024705326826, 16.934579833230305, 16.93613448506001, 16.937688660876, 16.939242360738408, 16.940795584707253, 16.942348332842673, 16.943900605204792, 16.94545240185368, 16.947003722849306, 16.94855456825196, 16.95010493812159, 16.951654832518315, 16.953204251502253, 16.95475319513351, 16.956301663472118, 16.957849656578208, 16.959397174511857, 16.960944217333143, 16.96249078510215, 16.96403687787904, 16.965582495723847, 16.967127638696613, 16.96867230685752, 16.970216500266623, 16.971760218983977, 16.973303463069712, 16.97484623258392, 16.97638852758668, 16.977930348138063, 16.97947169429819, 16.981012566127156, 16.982552963685023, 16.984092887031938, 16.985632336227837, 16.987171311333007, 16.98870981240739, 16.990247839511184, 16.99178539270442, 16.993322472047172, 16.994859077599564, 16.996395209421696, 16.997930867573636, 16.999466052115515, 17.001000763107324, 17.00253500060927, 17.004068764681328, 17.005602055383708, 17.007134872776437, 17.008667216919587, 17.01019908787327, 17.011730485697594, 17.01326141045265, 17.014791862198443, 17.01632184099519, 17.017851346902884, 17.019380379981715, 17.020908940291655, 17.02243702789286, 17.02396464284542, 17.02549178520943, 17.027018455044953, 17.028544652412037, 17.03007037737087, 17.031595629981517, 17.033120410304036, 17.03464471839853, 17.036168554325123, 17.037691918143818, 17.03921480991477, 17.040737229698102, 17.042259177553817, 17.043780653542083, 17.045301657722927, 17.04682219015649, 17.0483422509028, 17.049861840021997, 17.0513809575742, 17.052899603619416, 17.054417778217804, 17.05593548142945, 17.05745271331439, 17.058969473932745, 17.060485763344634, 17.062001581610136, 17.063516928789266, 17.06503180494224, 17.06654621012905, 17.068060144409788, 17.06957360784464, 17.071086600493608, 17.072599122416815, 17.074111173674318, 17.07562275432622, 17.077133864432625, 17.07864450405366, 17.080154673249364, 17.081664372079793, 17.083173600605075, 17.084682358885356, 17.086190646980675, 17.08769846495114, 17.089205812856743, 17.09071269075775, 17.0922190987141, 17.093725036785987, 17.0952305050334, 17.096735503516545, 17.098240032295397, 17.099744091430132, 17.101247680980784, 17.102750801007492, 17.104253451570322, 17.105755632729338, 17.10725734454465, 17.108758587076426, 17.110259360384624, 17.111759664529394, 17.11325949957087, 17.114758865569005, 17.116257762584077, 17.117756190676033, 17.119254149905036, 17.120751640331143, 17.122248662014478, 17.123745215015052, 17.125241299393075, 17.126736915208514, 17.12823206252154, 17.12972674139221, 17.13122095188063, 17.132714694046886, 17.134207967951053, 17.135700773653266, 17.13719311121358, 17.138684980692055, 17.140176382148823, 17.14166731564395, 17.14315778123761, 17.14464777898977, 17.146137308960583, 17.147626371210123, 17.14911496579855, 17.150603092785804, 17.152090752232102, 17.15357794419746, 17.155064668742057, 17.156550925925895, 17.158036715809146, 17.159522038451815, 17.161006893914053, 17.162491282255903, 17.163975203537507, 17.165458657818895, 17.166941645160215, 17.1684241656215, 17.169906219262927, 17.171387806144505, 17.172868926326327, 17.17434957986855, 17.175829766831185, 17.17730948727434, 17.178788741258128, 17.18026752884268, 17.18174585008801, 17.183223705054232, 17.184701093801454, 17.186178016389775, 17.187654472879228, 17.189130463329967, 17.190605987802048, 17.192081046355526, 17.193555639050555, 17.19502976594722, 17.19650342710564, 17.197976622585777, 17.199449352447832, 17.200921616751863, 17.202393415557964, 17.203864748926268, 17.205335616916773, 17.206806019589607, 17.20827595700492, 17.20974542922273, 17.21121443630316, 17.21268297830631, 17.214151055292188, 17.21561866732096, 17.217085814452716, 17.21855249674755, 17.22001871426553, 17.221484467066727, 17.222949755211314, 17.224414578759248, 17.225878937770744, 17.227342832305833, 17.2288062624246, 17.23026922818715, 17.2317317296536, 17.233193766883993, 17.234655339938406, 17.236116448876963, 17.237577093759803, 17.23903727464693, 17.240496991598484, 17.241956244674544, 17.243415033935182, 17.244873359440536, 17.246331221250617, 17.24778861942554, 17.249245554025524, 17.250702025110446, 17.25215803274057, 17.253613576975912, 17.255068657876517, 17.25652327550256, 17.257977429914114, 17.259431121171257, 17.260884349334024, 17.262337114462557, 17.263789416617005, 17.265241255857365, 17.26669263224372, 17.268143545836224, 17.26959399669497, 17.271043984880016, 17.27249351045146, 17.273942573469387, 17.275391173993874, 17.276839312085034, 17.278286987802932, 17.27973420120768, 17.28118095235944, 17.28262724131812, 17.284073068143943, 17.285518432896982, 17.28696333563731, 17.288407776425068, 17.289851755320274, 17.291295272383028, 17.292738327673497, 17.294180921251645, 17.295623053177668, 17.297064723511614, 17.298505932313585, 17.299946679643654, 17.30138696556192, 17.302826790128464, 17.3042661534034, 17.305705055446772, 17.30714349631874, 17.30858147607934, 17.310018994788702, 17.311456052506877, 17.31289264929398, 17.31432878521007, 17.315764460315265, 17.317199674669677, 17.31863442833333, 17.320068721366372, 17.321502553828882, 17.322935925780936, 17.32436883728259, 17.32580128839398, 17.327233279175253, 17.328664809686405, 17.33009587998758, 17.331526490138785, 17.332956640200223, 17.334386330231904, 17.33581556029396, 17.337244330446435, 17.338672640749486, 17.34010049126318, 17.341527882047533, 17.342954813162763, 17.344381284668845, 17.345807296625956, 17.34723284909416, 17.348657942133467, 17.350082575804084, 17.351506750166095, 17.35293046527945, 17.3543537212044, 17.355776518000976, 17.35719885572925, 17.358620734449318, 17.36004215422128, 17.361463115105245, 17.36288361716125, 17.364303660449472, 17.365723245029887, 17.367142370962704, 17.36856103830791, 17.36997924712564, 17.371396997475976, 17.37281428941907, 17.3742311230149, 17.375647498323648, 17.377063415405342, 17.37847887432015, 17.37989387512807, 17.381308417889233, 17.38272250266374, 17.384136129511703, 17.385549298493117, 17.38696200966816, 17.38837426309695, 17.389786058839498, 17.39119739695586, 17.39260827750628, 17.394018700550642, 17.395428666149282, 17.396838174362063, 17.398247225249186, 17.39965581887078, 17.401063955286837, 17.402471634557493, 17.403878856742786, 17.405285621902944, 17.40669193009792, 17.408097781387873, 17.40950317583289, 17.410908113493004, 17.412312594428347, 17.413716618699034, 17.415120186365073, 17.416523297486673, 17.417925952123845, 17.419328150336664, 17.4207298921853, 17.422131177729742, 17.42353200703017, 17.42493238014663, 17.426332297139204, 17.427731758068024, 17.429130762993147, 17.4305293119746, 17.431927405072653, 17.433325042347203, 17.434722223858447, 17.43611894966645, 17.437515219831315, 17.438911034413113, 17.44030639347195, 17.441701297067873, 17.443095745261033, 17.4444897381115, 17.445883275679343, 17.44727635802463, 17.448668985207537, 17.450061157288108, 17.451452874326435, 17.452844136382545, 17.45423494351663, 17.45562529578872, 17.457015193258933, 17.458404635987318, 17.459793624034052, 17.461182157459138, 17.462570236322648, 17.463957860684765, 17.46534503060556, 17.466731746145054, 17.468118007363376, 17.46950381432068, 17.47088916707693, 17.47227406569232, 17.47365851022689, 17.475042500740738, 17.476426037293944, 17.47780911994665, 17.47919174875889, 17.480573923790782, 17.48195564510241, 17.4833369127538, 17.484717726805194, 17.486098087316506, 17.487477994347994, 17.488857447959656, 17.49023644821157, 17.491614995163815, 17.49299308887655, 17.494370729409823, 17.495747916823724, 17.497124651178346, 17.498500932533812, 17.49987676095015, 17.5012521364875, 17.50262705920592, 17.504001529165528, 17.505375546426382, 17.506749111048617, 17.508122223092283, 17.509494882617506, 17.510867089684297, 17.512238844352854, 17.513610146683188, 17.514980996735495, 17.516351394569682, 17.51772134024604, 17.519090833824514, 17.520459875365223, 17.521828464928294, 17.523196602573833, 17.524564288361887, 17.525931522352543, 17.52729830460593, 17.528664635182068, 17.530030514141156, 17.531395941543163, 17.532760917448268, 17.534125441916487, 17.535489515008027, 17.53685313678284, 17.538216307301127, 17.539579026622903, 17.54094129480831, 17.542303111917427, 17.543664478010317, 17.545025393147128, 17.54638585738779, 17.547745870792625, 17.549105433421524, 17.550464545334705, 17.55182320659223, 17.553181417254166, 17.55453917738059, 17.555896487031617, 17.557253346267352, 17.55860975514786, 17.559965713733238, 17.56132122208358, 17.562676280258973, 17.564030888319476, 17.565385046325247, 17.566738754336303, 17.568092012412826, 17.569444820614798, 17.570797179002398, 17.572149087635644, 17.573500546574632, 17.574851555879555, 17.576202115610453, 17.577552225827333, 17.578901886590348, 17.58025109795956, 17.581599859995162, 17.582948172757114, 17.584296036305545, 17.585643450700598, 17.58699041600227, 17.58833693227075, 17.589682999566058, 17.591028617948318, 17.592373787477634, 17.593718508214035, 17.595062780217653, 17.59640660354861, 17.59774997826693, 17.59909290443273, 17.600435382106102, 17.601777411347115, 17.60311899221593, 17.604460124772622, 17.605800809077202, 17.607141045189795, 17.60848083317052, 17.609820173079434, 17.611159064976658, 17.612497508922274, 17.613835504976333, 17.615173053198973, 17.616510153650257, 17.617846806390293, 17.619183011479173, 17.620518768977014, 17.621854078943816, 17.623188941439725, 17.624523356524854, 17.625857324259268, 17.627190844703044, 17.62852391791629, 17.629856543959118, 17.631188722891547, 17.632520454773754, 17.633851739665747, 17.63518257762767, 17.63651296871963, 17.637842913001663, 17.63917241053385, 17.640501461376388, 17.641830065589218, 17.64315822323253, 17.644485934366408, 17.64581319905094, 17.647140017346178, 17.648466389312222, 17.649792315009215, 17.651117794497157, 17.65244282783623, 17.653767415086477, 17.655091556307934, 17.656415251560805, 17.65773850090512, 17.659061304400936, 17.660383662108423, 17.66170557408761, 17.663027040398607, 17.664348061101496, 17.66566863625637, 17.66698876592334, 17.668308450162463, 17.66962768903388, 17.67094648259765, 17.672264830913804, 17.673582734042547, 17.6749001920439, 17.676217204977952, 17.677533772904834, 17.67884989588452, 17.680165573977256, 17.681480807243055, 17.68279559574199, 17.684109939534203, 17.6854238386798, 17.686737293238743, 17.68805030327123, 17.689362868837314, 17.69067498999717, 17.691986666810767, 17.693297899338276, 17.694608687639725, 17.695919031775237, 17.6972289318049, 17.69853838778886, 17.699847399787092, 17.701155967859737, 17.70246409206692, 17.703771772468738, 17.70507900912519, 17.706385802096474, 17.70769215144264, 17.708998057223674, 17.710303519499877, 17.711608538331184, 17.712913113777688, 17.714217245899558, 17.71552093475679, 17.7168241804096, 17.718126982917976, 17.719429342342025, 17.72073125874182, 17.722032732177556, 17.7233337627092, 17.724634350396858, 17.725934495300738, 17.727234197480755, 17.728533456997123, 17.729832273909906, 17.731130648279155, 17.73242858016501, 17.73372606962756, 17.735023116726857, 17.736319721522992, 17.737615884076085, 17.738911604446265, 17.740206882693517, 17.741501718877974, 17.74279611305977, 17.744090065298966, 17.74538357565561, 17.74667664418989, 17.74796927096179, 17.749261456031448, 17.750553199458988, 17.751844501304394, 17.753135361627884, 17.75442578048948, 17.755715757949297, 17.757005294067373, 17.758294388903902, 17.75958304251884, 17.76087125497241, 17.762159026324614, 17.763446356635548, 17.764733245965342, 17.76601969437404, 17.767305701921785, 17.76859126866863, 17.769876394674682, 17.771161080000024]\n"
     ]
    },
    {
     "name": "stderr",
     "output_type": "stream",
     "text": [
      "<>:4: SyntaxWarning: invalid escape sequence '\\m'\n",
      "<>:4: SyntaxWarning: invalid escape sequence '\\m'\n",
      "C:\\Users\\Administrateur\\AppData\\Local\\Temp\\ipykernel_20204\\2400818605.py:4: SyntaxWarning: invalid escape sequence '\\m'\n",
      "  plt.plot(V, 0.5*np.ones(len(V)), 'r', label=\"$\\mu=0.5$\")\n"
     ]
    },
    {
     "data": {
      "text/plain": [
       "<Figure size 640x480 with 1 Axes>"
      ],
      "image/png": "[encoded data removed]"
     },
     "metadata": {},
     "output_type": "display_data"
    }
   ],
   "execution_count": 67
  },
  {
   "metadata": {},
   "cell_type": "markdown",
   "source": "i. Expliquez pourquoi la forme courbe de l'interface aide à réduire le volume de béton nécessaire à garder la digue en équilibre.",
   "id": "b449114248b14030"
  },
  {
   "metadata": {},
   "cell_type": "markdown",
   "source": "Il y a plus de surface à l'interface permettant de mieux distribuer la force de pression de l'eau sur la digue.",
   "id": "3738d8796047448d"
  }
 ],
 "metadata": {
  "kernelspec": {
   "display_name": "Python 3 (ipykernel)",
   "language": "python",
   "name": "python3"
  },
  "language_info": {
   "codemirror_mode": {
    "name": "ipython",
    "version": 3
   },
   "file_extension": ".py",
   "mimetype": "text/x-python",
   "name": "python",
   "nbconvert_exporter": "python",
   "pygments_lexer": "ipython3",
   "version": "3.9.7"
  }
 },
 "nbformat": 4,
 "nbformat_minor": 5
}
