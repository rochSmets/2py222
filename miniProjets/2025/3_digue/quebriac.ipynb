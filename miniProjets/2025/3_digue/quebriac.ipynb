{
 "cells": [
  {
   "cell_type": "markdown",
   "id": "94d7f764-f7e9-4e3d-91cc-44eec5eadc1e",
   "metadata": {},
   "source": [
    "# Indroduction"
   ]
  },
  {
   "cell_type": "markdown",
   "id": "c53ffff4-6bc9-429a-ab4d-e99891871988",
   "metadata": {},
   "source": [
    "Une digue est un petit barrage permettant de retenir une étendue d’eau (mer, lac, rivière) par exemple pour protéger des habitations ou des installations en zone inondable.\n",
    "\n",
    "L'objecif de ce mini-projet est de calculer numériquement les forces appliquées à une digue de forme arbitraire."
   ]
  },
  {
   "cell_type": "markdown",
   "id": "ed70fe41-d9fc-4db0-94d1-b65b61561d65",
   "metadata": {},
   "source": [
    "## Modèlisation"
   ]
  },
  {
   "cell_type": "markdown",
   "id": "0088ba83-df52-4259-8f90-3cecfceba6b4",
   "metadata": {},
   "source": [
    "### Caractéristiques de la digues"
   ]
  },
  {
   "cell_type": "markdown",
   "id": "db839a91-d1d7-4065-85f3-3947acdb03c6",
   "metadata": {},
   "source": [
    "#### La digue que nous allons modéliser est un bloc de béton posé sur le sol rocheux qui retient d'un côté une masse d'eau et de l'autre coté est exposée à l'air.\n",
    "\n",
    "* Masse volumique du béton:$\\rho_{beton}$=3000 kg/m$^3$\n",
    "\n",
    "* Coefficient de friction statique béton - roche: $\\mu$=0.5\n",
    "\n",
    "* Hauteur de la masse d'eau: $H$=10m"
   ]
  },
  {
   "cell_type": "markdown",
   "id": "bad606be-d5c9-495c-8367-d6fcc483189e",
   "metadata": {},
   "source": [
    "### Modèle utilisé"
   ]
  },
  {
   "cell_type": "markdown",
   "id": "5605ea94-196f-416c-92e0-adfad6948cfe",
   "metadata": {},
   "source": [
    "On se place en 2D ce qui signifie que la digue est de longueur unitaire suivant l'axe perpendiculaire au sol.\n",
    "\n",
    "On considère une digue de forme arbitraire, donc on modélisera les pentes côté air et côté eau par des fonctions mathématiques. Dans ce projet nous allons intégrer des fonctions suivant la direction donnée par l'axe vertical $y$. Il sera donc plus pratique de définir les pentes de la digue comme étant $x$ en fonction de $y$ (schéma ci-dessous).\n"
   ]
  },
  {
   "cell_type": "markdown",
   "id": "fabc7b1a-6efb-410f-badc-2aa31c29e262",
   "metadata": {
    "tags": []
   },
   "source": [
    "![DigueSchema.png](./DigueSchema.png)"
   ]
  },
  {
   "cell_type": "markdown",
   "id": "50853512-75a0-43b5-858c-685dc5b6e730",
   "metadata": {},
   "source": [
    "On définit donc :\n",
    "\n",
    "* une fonction croissante $f_{air}(y)$ représentant l'interface air-béton définie pour $0 \\leq y \\leq H$ et allant de $x_a$ à $0$,\n",
    "* une autre fonction décroissante $f_{eau}(y)$ représentant l'interface eau-béton définie sur le même intervalle et allant de $x_e$ à $0$. \n",
    "\n",
    "Les fonctions modélisées sont monotones.\n",
    "\n",
    "Expression des courbes:\n",
    "\n",
    "$$\n",
    "f_{eau}(y) = \\frac{x_a}{H}.(y-H)\n",
    "$$\n",
    "$$\n",
    "f_{air}(y)=-\\frac{x_a}{H}.(y-H)\n",
    "$$"
   ]
  },
  {
   "cell_type": "markdown",
   "id": "4dd3f852-3167-4e05-9dfb-6af44ed12a09",
   "metadata": {},
   "source": [
    "## Outils physiques pour résoudre le problème"
   ]
  },
  {
   "cell_type": "markdown",
   "id": "d07aba58-f861-40c9-9d87-9a514d204a7d",
   "metadata": {},
   "source": [
    "### Bilan des forces sur la digue"
   ]
  },
  {
   "cell_type": "markdown",
   "id": "dae64686-2c41-432a-b8b7-eac003d1deda",
   "metadata": {},
   "source": [
    "* Poid de la digue: $P_{digue}$=$-$$M_{beton}$*$g$"
   ]
  },
  {
   "cell_type": "markdown",
   "id": "003f1fc9-6c2a-4800-9072-4f77386d46e6",
   "metadata": {},
   "source": [
    "\n",
    "Accélèration de la pesanteur: $g$=9.81 m/s$^-2$"
   ]
  },
  {
   "cell_type": "markdown",
   "id": "3bb7c8cf-535e-4234-b1e6-b9ca4aba03b3",
   "metadata": {},
   "source": [
    "* Réaction du sol: $R$=$N$+$T$"
   ]
  },
  {
   "cell_type": "markdown",
   "id": "7dd9fa62-f390-45a5-b563-27dfd79991d4",
   "metadata": {},
   "source": [
    "$T$ la force de frottement telle que $T$$ \\leq $$\\mu$*$N$"
   ]
  },
  {
   "cell_type": "markdown",
   "id": "f9c05f95-87ec-4153-bb95-3ea56b4ec9f7",
   "metadata": {},
   "source": [
    "* Force de pression hydrostatique: $F_{P_{eau}}$=$P{_{eau}}$*$S$*$n$"
   ]
  },
  {
   "cell_type": "markdown",
   "id": "ee819f30-2713-449a-ab03-dd4ecc19bb6b",
   "metadata": {},
   "source": [
    "-$P{_{eau}}$=$\\rho_{eau}$*$g$*($H$-$y$)+$P{_0}$\n",
    "\n",
    "-$P{_0}$ la pression atmosphérique exercée sur la digue\n",
    "\n",
    "-$S$ la surface\n",
    "\n",
    "-$\\vec n = \\sin(\\theta).\\vec{u_y} - \\cos(\\theta).\\vec{u_x}$ un vecteur unitaire ayant des composantes selon x et y"
   ]
  },
  {
   "cell_type": "markdown",
   "id": "5d984735-4259-4fca-a311-80d1df84c70e",
   "metadata": {},
   "source": [
    "### Equations d'équilibre statique de la digue"
   ]
  },
  {
   "cell_type": "markdown",
   "id": "05c4ba7d-3f35-4306-9d5b-20011069942e",
   "metadata": {},
   "source": [
    "- $P_{eau}$+$N$+$T$+$F_{P_{eau}}$=0"
   ]
  },
  {
   "cell_type": "markdown",
   "id": "d6da99f9-0fd8-44be-a0d4-babc7eb1b887",
   "metadata": {},
   "source": [
    "### On affiche les courbes représantant la digue"
   ]
  },
  {
   "cell_type": "markdown",
   "id": "a304910e-0977-48a3-a77d-42bf5d56b535",
   "metadata": {},
   "source": [
    "#### On import les biliothèques utiles"
   ]
  },
  {
   "cell_type": "code",
   "execution_count": 1,
   "id": "91a78b15-1dec-4df8-908b-3d95e89cfff2",
   "metadata": {
    "tags": []
   },
   "outputs": [],
   "source": [
    "import numpy as np\n",
    "import matplotlib.pyplot as plt"
   ]
  },
  {
   "cell_type": "code",
   "execution_count": 2,
   "id": "99b27ae6-82bc-4cb3-976b-796dfe741d17",
   "metadata": {
    "tags": []
   },
   "outputs": [
    {
     "data": {
      "image/png": "[encoded data removed]",
      "text/plain": [
       "<Figure size 640x480 with 1 Axes>"
      ]
     },
     "metadata": {},
     "output_type": "display_data"
    }
   ],
   "source": [
    "H = 10\n",
    "xa = -5\n",
    "xe = +5\n",
    "\n",
    "# On définit les fonctions côté eau et côté air, ici les courbes concaves\n",
    "def fair(y):\n",
    "    return -(y - H) * xa / H\n",
    "\n",
    "def feau(y):\n",
    "    return  (y - H) * xa / H\n",
    "\n",
    "# On crée un tableau de y\n",
    "y = np.linspace(0, H, 1000)\n",
    "\n",
    "# On trace\n",
    "plt.plot(fair(y), y, '-b') \n",
    "plt.plot(feau(y), y, '-b')\n",
    " \n",
    "plt.plot([xe, xa], [0, 0], '-b') # Bas de la digue\n",
    "plt.xlabel('x (m)') \n",
    "plt.ylabel('y (m)')\n",
    "plt.text(xe, 8, 'eau')\n",
    "plt.text(xa, 8, 'air')\n",
    "plt.axis('equal') # Permet d'avoir un plot isométrique\n",
    "plt.axhline(0, color = \"black\")\n",
    "plt.axvline(0, color = \"black\")\n",
    "plt.xlim(-8, 8)\n",
    "plt.show()"
   ]
  },
  {
   "cell_type": "markdown",
   "id": "19160ad2-937f-4902-96c7-7bcb00223c59",
   "metadata": {},
   "source": [
    "### Précisions sur la force de pression"
   ]
  },
  {
   "cell_type": "markdown",
   "id": "785388ee-9e4a-4884-8a5d-8cc7c2dba21f",
   "metadata": {},
   "source": [
    "La force de pression écrite plus haut est en réalité pas tout à fait exacte.\n",
    "\n",
    "En effet, les forces de pression s'exercent perpendiculairement à la surface d'application. Il faut donc pouvoir trouver un vecteur normal à la tangente de ces deux fonctions en tout point, qui sera le vecteur directeur de la force de pression locale.\n",
    "\n",
    "On rappelle que l'angle $\\theta$ entre la tangente en un point et l'axe des abscisses (voir schéma ci-dessus) est relié à la dérivée de la courbe par :\n",
    "\n",
    "$$\n",
    "tan(\\theta) = f'(y)\n",
    "$$\n",
    "\n",
    "Les vecteurs $\\vec t$ et $\\vec n$ sont alors donnés par :\n",
    "\n",
    "$$\n",
    "\\vec t = \\cos(\\theta).\\vec{u_y} + \\sin(\\theta).\\vec{u_x}\n",
    "$$\n",
    "\n",
    "$$\n",
    "\\vec n = \\sin(\\theta).\\vec{u_y} - \\cos(\\theta).\\vec{u_x} \n",
    "$$\n",
    "\n",
    "Donc pour pouvoir calculer la résultante des forces de pression sur une surface de forme arbitraire, il nous faut intégrer les forces infinitésimales $\\vec{\\mathrm{d}F}$ s'appliquant à chaque élément de surface $\\mathrm{d}S$. Comme nous sommes en deux dimensions, nous pouvons simplifier le problème en considérant que l'élément de surface est $\\mathrm{d}S = L \\mathrm{d}l$, avec $L = 1$ la longueur unitaire de la digue suivant $z$, ce qui nous ramène à une intégrale 1D (on n'écrira pas $L$ dans la suite).\n",
    "\n",
    "On obtient donc, pour l'interface eau-béton :\n",
    "\n",
    "$$\n",
    "\\vec{F} = \\iint_S \\vec{\\mathrm{d}F} =\\int_0^H P(y) \\mathrm{d}l . \\vec{n}\n",
    "$$\n",
    "\n",
    "avec $\\vec{n}$ le vecteur normal rentrant au point de coordonnées $(f(y),y)$, et $\\mathrm{d}l$ la longueur infinitésimale de la courbe pour une variation $\\mathrm{d}x$. On montre facilement la relation avec l'angle $\\theta$ défini comme l'angle entre la tangente en un point et l'axe des abscisses :\n",
    "$$\n",
    "\\mathrm{d}l = \\frac{\\mathrm{d}y}{\\cos(\\theta)}\n",
    "$$"
   ]
  },
  {
   "cell_type": "markdown",
   "id": "897f34cb-40d0-430e-ab3c-1a963c101fe6",
   "metadata": {},
   "source": [
    "# Résolution du projet"
   ]
  },
  {
   "cell_type": "markdown",
   "id": "9fe48671-e941-4826-a5b5-0bcdbbd93f25",
   "metadata": {},
   "source": [
    "## Etude des digues en pente droite"
   ]
  },
  {
   "cell_type": "markdown",
   "id": "6f67c078-d3e6-4620-8b78-2740cf7e96d2",
   "metadata": {},
   "source": [
    "### On calcule le volume de la digue par intégration de la largeur de la digue en fonction de $y$"
   ]
  },
  {
   "cell_type": "markdown",
   "id": "0b066156-070a-44d6-b7ea-3efa2a1579d6",
   "metadata": {},
   "source": [
    "#### Valeurs numériques utilisées"
   ]
  },
  {
   "cell_type": "code",
   "execution_count": 3,
   "id": "1d7290d2-b8a6-4d7d-8c57-76faa29599e3",
   "metadata": {
    "tags": []
   },
   "outputs": [],
   "source": [
    "L=1 #m\n",
    "H=10 #m\n",
    "\n",
    "xa = -5\n",
    "xe = 5\n",
    "x0=0\n",
    "\n",
    "g=9.81 #m/s^2\n",
    "rho_beton=3000 #kg/m^3\n",
    "rho_eau=1000 #kg/m^3"
   ]
  },
  {
   "cell_type": "markdown",
   "id": "f6232b42-63c1-409e-a2da-203d886127e6",
   "metadata": {},
   "source": [
    "#### Expression de la pression exercée  sur la digue par l'eau"
   ]
  },
  {
   "cell_type": "code",
   "execution_count": 4,
   "id": "cbdb25a6-3eae-46c1-8294-21bd96992be6",
   "metadata": {
    "tags": []
   },
   "outputs": [],
   "source": [
    "#Selon x   # ici changement\n",
    "def P_x(y):\n",
    "    return rho_eau*g*(H-y)\n",
    "\n",
    "#Selon y\n",
    "def P_y(y):\n",
    "    f_prime=-xa/H\n",
    "    return rho_eau*g*(H-y)*f_prime"
   ]
  },
  {
   "cell_type": "code",
   "execution_count": 5,
   "id": "da478b38-566f-429e-ac92-2d4637589386",
   "metadata": {
    "tags": []
   },
   "outputs": [
    {
     "name": "stdout",
     "output_type": "stream",
     "text": [
      "Surface calculée numériquement: 50.025 m^2\n",
      "Volume calculé numériquement: 50.025 m^3\n"
     ]
    }
   ],
   "source": [
    "#Question a\n",
    "\n",
    "# Calcul du pas d'intégration \n",
    "n = 1000 # Nombre de pas\n",
    "Delta_y = (xe - xa) / n\n",
    "\n",
    "# Initialisation de la somme à zéro\n",
    "surface_apro = 0 \n",
    "\n",
    "# On ajoute ensuite chaque terme de la somme par une boucle for\n",
    "for i in range(n):\n",
    "    # Valeur de la fonction en (y=a + i * Delta_y)\n",
    "    f_yi = ((xa + i * Delta_y)-H)*xa/H\n",
    "    # Aire approximative sous la courbe entre (xa + i * Delta_y) et (xa + (i + 1) * Delta_y)\n",
    "    aire = f_yi * Delta_y\n",
    "    # Somme des aires\n",
    "    surface_apro = surface_apro + aire\n",
    "\n",
    "print(\"Surface calculée numériquement: {:.3f}\".format(surface_apro),'m^2')\n",
    "    \n",
    "\n",
    "#Pour le volume il suffit de multiplier les résultats par la longueur unitaire L de la digue suivant  𝑧\n",
    "volume_apro=surface_apro*L\n",
    "print(\"Volume calculé numériquement: {:.3f}\".format(volume_apro),'m^3')\n",
    "\n"
   ]
  },
  {
   "cell_type": "markdown",
   "id": "2933d422-8fe6-4e95-a6db-1a0f34b13105",
   "metadata": {},
   "source": [
    "#### On le compare avec le calcul analytique"
   ]
  },
  {
   "cell_type": "code",
   "execution_count": 6,
   "id": "d1255b2d-b253-4d8e-9cf8-37bf5ede17ce",
   "metadata": {
    "tags": []
   },
   "outputs": [
    {
     "name": "stdout",
     "output_type": "stream",
     "text": [
      "Surface calculer analytiquement \t 50.0 m^2\n",
      "Volume calculé analytiquement \t 50.0 m^3\n"
     ]
    }
   ],
   "source": [
    "#On calcule le résultat analytique pour comparer \n",
    "\n",
    "##On intègre l'équation feau(y)=(y-H)*xa/H de 0 à H\n",
    "## On multiplie cette intégrale par deux car le contour total de la digue n'obéit pas à une même fonction: celle du côté négatif est l'opposée de celle du côté positif\n",
    "surface_ana = 2*(-H*xa/2)\n",
    "        \n",
    "print('Surface calculer analytiquement \\t', surface_ana,'m^2')\n",
    "\n",
    "volume_ana=surface_ana*L\n",
    "print('Volume calculé analytiquement \\t', volume_ana,'m^3')"
   ]
  },
  {
   "cell_type": "markdown",
   "id": "3c8466b6-edbe-4abe-b088-d9be96a1cd2c",
   "metadata": {},
   "source": [
    "On remarque que les résultats sont identiques à 0,025 m$^3$ près.\n",
    "On peut donc les considérer comme identiques pour le reste du problème.\n",
    "On utilisera pour le volume la valeur du volume calculée numériquement pour simplifier les calcules (50 est une valeur entière)."
   ]
  },
  {
   "cell_type": "code",
   "execution_count": 7,
   "id": "5fa7a09a-8739-4918-bdcb-c35d649452b3",
   "metadata": {
    "tags": []
   },
   "outputs": [],
   "source": [
    "volume_digue=50"
   ]
  },
  {
   "cell_type": "markdown",
   "id": "d111071a-83be-4384-8598-6a8df6915a2f",
   "metadata": {},
   "source": [
    "#### On peut alors déduire la force de gravité exercée sur la digue $P_{digue}$=$-$$M_{beton}$*$g$"
   ]
  },
  {
   "cell_type": "code",
   "execution_count": 8,
   "id": "b33633bf-b29b-4969-8e6a-4fd59afb8f96",
   "metadata": {
    "tags": []
   },
   "outputs": [
    {
     "name": "stdout",
     "output_type": "stream",
     "text": [
      "La force de gravité exercée sur la digue: P_digue=1471500 N\n"
     ]
    }
   ],
   "source": [
    "M_beton=rho_beton*volume_digue\n",
    "\n",
    "P_digue=M_beton*g\n",
    "\n",
    "print(\"La force de gravité exercée sur la digue: P_digue={:.0f}\".format(P_digue),\"N\")"
   ]
  },
  {
   "cell_type": "markdown",
   "id": "2b0831db-a701-4832-8e37-81e8fce08a75",
   "metadata": {},
   "source": [
    "#### On calcule la résultante vectorielle (il y a une composante suivant $x$ et une composante suivant $y$) des forces de pression côté eau."
   ]
  },
  {
   "cell_type": "code",
   "execution_count": 11,
   "id": "9f0ef483-23d2-4d72-9c09-628eb9097a01",
   "metadata": {
    "tags": []
   },
   "outputs": [],
   "source": [
    "#Question b\n",
    "\n",
    "# Méthode des trapèzes\n",
    "n = 1000\n",
    "def Inttrap(f, a, b, n):\n",
    "    deltax = (b - a) / n\n",
    "    outputx = 0 # Initialisation de la somme à zéro\n",
    "    for i in range(n):\n",
    "        outputx = outputx + (f(a + i * deltax) + f(a + (i + 1) * deltax)) * deltax / 2\n",
    "    return outputx\n",
    "\n",
    "F_x_eau=Inttrap(P_x, x0, H, n)\n",
    "F_y_eau=Inttrap(P_y, x0, H, n)\n",
    "resultante=np.sqrt(F_x_eau**2+F_y_eau**2)"
   ]
  },
  {
   "cell_type": "code",
   "execution_count": 12,
   "id": "3ec8117b-2465-4484-a0c8-8f5e7188f581",
   "metadata": {
    "tags": []
   },
   "outputs": [
    {
     "name": "stdout",
     "output_type": "stream",
     "text": [
      "Force de pression exercé par l'eau sur la digue selon x: F_x_eau= 490500 N\n",
      "Force de pression exercé par l'eau sur la digue selon y: F_y_eau= 245250 N\n",
      "Résultante des forces de pression exercé sur la digue: Résultante= 548396\n"
     ]
    }
   ],
   "source": [
    "print(\"Force de pression exercé par l'eau sur la digue selon x: F_x_eau= {:.0f}\".format(F_x_eau),\"N\")\n",
    "print(\"Force de pression exercé par l'eau sur la digue selon y: F_y_eau= {:.0f}\".format(F_y_eau),\"N\")\n",
    "print(\"Résultante des forces de pression exercé sur la digue: Résultante= {:.0f}\".format(resultante))"
   ]
  },
  {
   "cell_type": "markdown",
   "id": "d2ed30b2-0b2d-4aca-8648-bc257b8ada94",
   "metadata": {},
   "source": [
    "#### On calcul les composantes normales et tangentielles de la force de réaction du sol\n",
    "\n",
    "Pour se faire, un suppose que la digue est en équilibre statique translationnel."
   ]
  },
  {
   "cell_type": "markdown",
   "id": "05e0b497-c15f-44da-b182-81c7ac55d469",
   "metadata": {},
   "source": [
    "D'après le résulatat précédent: - $P_{eau}$+$N$+$T$+$F_{P_{eau}}$=0"
   ]
  },
  {
   "cell_type": "markdown",
   "id": "b49dc3de-71bb-4daa-a5ee-e97958b16248",
   "metadata": {},
   "source": [
    "On projette sur les axes:\n",
    "\n",
    "* $N$-$P_{eau}$+$P_y$=0\n",
    "* $T$-$P_x$=0\n",
    "\n",
    "Finalement:\n",
    "\n",
    "* $N$=$P_{eau}$-$P_y$\n",
    "* $T$=$P_x$"
   ]
  },
  {
   "cell_type": "code",
   "execution_count": 13,
   "id": "71db432b-7b2e-4a8a-97bc-c29c18059728",
   "metadata": {
    "tags": []
   },
   "outputs": [
    {
     "name": "stdout",
     "output_type": "stream",
     "text": [
      "Force normale de réaction du sol: : F_normale_sol= 1226250 N\n",
      "Force tangentielle de la réaction du sol: F_tangent_sol= 490500 N\n"
     ]
    }
   ],
   "source": [
    "#Question c\n",
    "\n",
    "N_sol=P_digue-F_y_eau\n",
    "T_sol=F_x_eau\n",
    "print(\"Force normale de réaction du sol: : F_normale_sol= {:.0f}\".format(N_sol),\"N\")\n",
    "print(\"Force tangentielle de la réaction du sol: F_tangent_sol= {:.0f}\".format(T_sol),\"N\")"
   ]
  },
  {
   "cell_type": "markdown",
   "id": "779cbad8-be4f-4e68-90db-8b0e54034eb9",
   "metadata": {},
   "source": [
    "#### On regarde si la digue est à l'équilibire"
   ]
  },
  {
   "cell_type": "code",
   "execution_count": 14,
   "id": "db93bdc4-3930-4d63-a678-626853b95b2d",
   "metadata": {
    "tags": []
   },
   "outputs": [
    {
     "name": "stdout",
     "output_type": "stream",
     "text": [
      "Rapport de ces forces:: 0.400 N\n"
     ]
    }
   ],
   "source": [
    "print(\"Rapport de ces forces:: {:.3f}\".format(T_sol/N_sol),\"N\")"
   ]
  },
  {
   "cell_type": "markdown",
   "id": "94b4806e-0465-4307-bc4d-3471b5a010c2",
   "metadata": {},
   "source": [
    "En considérant le coefficient de frottement roche/béton de 0.5, on voit qu'on est en équilibre translationelle car T/N<$\\mu$"
   ]
  },
  {
   "cell_type": "markdown",
   "id": "afd4ccc1-978d-4d8d-ba80-afe7632a3877",
   "metadata": {},
   "source": [
    "#### On calcul les composantes normales et tangentielles de la force exercée par l'air sur la digue"
   ]
  },
  {
   "cell_type": "code",
   "execution_count": 15,
   "id": "8e6926c5-9e99-4883-8390-bcdabd42a17f",
   "metadata": {
    "tags": []
   },
   "outputs": [
    {
     "name": "stdout",
     "output_type": "stream",
     "text": [
      "Le poids de l'air est: P_air= 735750 N\n"
     ]
    }
   ],
   "source": [
    "#Question d\n",
    "\n",
    "#On calcul P_air\n",
    "x_air=np.linspace(0,H,1000)\n",
    "y_air=fair(x_air)\n",
    "integrale_air=np.trapz(y_air,x_air)\n",
    "volume_air=np.fabs(integrale_air*L)\n",
    "P_air=g*volume_air*rho_beton\n",
    "\n",
    "print(\"Le poids de l'air est: P_air= {:.0f}\".format(P_air),\"N\")"
   ]
  },
  {
   "cell_type": "code",
   "execution_count": 16,
   "id": "06c9f6f3-242d-450b-a766-ae8b700718a3",
   "metadata": {
    "tags": []
   },
   "outputs": [
    {
     "name": "stdout",
     "output_type": "stream",
     "text": [
      "Force normale exercée par l'air: N_air=735750\n",
      "Force tangentielles ecercées par l'air: T_air=490500\n",
      "Rapport de ces forces: 0.667\n"
     ]
    }
   ],
   "source": [
    "N_air=P_air\n",
    "T_air=F_x_eau\n",
    "print(\"Force normale exercée par l'air: N_air={:.0f}\".format(N_air))\n",
    "print(\"Force tangentielles ecercées par l'air: T_air={:.0f}\".format(T_air))\n",
    "print(\"Rapport de ces forces: {:.3f}\".format(T_air/N_air))"
   ]
  },
  {
   "cell_type": "markdown",
   "id": "d02ab4e6-091c-4719-9de5-e850977e23a5",
   "metadata": {},
   "source": [
    "On voit que la digue est instable car T/N>$\\mu$"
   ]
  },
  {
   "cell_type": "markdown",
   "id": "190c5a0f-45a0-4f70-a6cb-0ed963e45bc1",
   "metadata": {},
   "source": [
    "#### On calcul les composantes normales et tangentielles de la force exercée par l'eau sur la digue"
   ]
  },
  {
   "cell_type": "code",
   "execution_count": 17,
   "id": "4d7b3cc0-868f-49bf-b1df-3c7065af0564",
   "metadata": {},
   "outputs": [
    {
     "name": "stdout",
     "output_type": "stream",
     "text": [
      "735750.0\n"
     ]
    }
   ],
   "source": [
    "#Question e\n",
    "\n",
    "#On calcul P_eau\n",
    "x_eau=np.linspace(0,H,1001)\n",
    "y_eau=feau(x_eau)\n",
    "integrale_eau=np.trapz(y_eau,x_eau)\n",
    "volume_eau=np.fabs(integrale_eau*L)\n",
    "P_eau=g*volume_eau*rho_beton\n",
    "print(P_eau)"
   ]
  },
  {
   "cell_type": "code",
   "execution_count": 18,
   "id": "a435b0d0-effe-462f-a007-bfd6aec7b458",
   "metadata": {
    "tags": []
   },
   "outputs": [
    {
     "name": "stdout",
     "output_type": "stream",
     "text": [
      "490500.0000000003\n",
      "490499.9999999994\n",
      "0.9999999999999982\n"
     ]
    }
   ],
   "source": [
    "N_eau=P_eau-F_y_eau\n",
    "T_eau=F_x_eau\n",
    "print(N_eau)\n",
    "print(T_eau)\n",
    "print(T_eau/N_eau)"
   ]
  },
  {
   "cell_type": "markdown",
   "id": "ce5e6686-3819-44d1-b184-f4419f12e94d",
   "metadata": {},
   "source": [
    "### On considère maintenant le cas des digues convexes\n",
    "\n",
    "L'interface entre l'eau et le béton n'est plus une fonction affine mais une fonction de la forme :\n",
    "\n",
    "$$\n",
    "f_{eau} (y)=a \\left(\\frac{y}{H}\\right)^2-(a+x_e)\\left(\\frac{y}{H}\\right) +x_e\n",
    "$$\n",
    "\n",
    "\n",
    "Sa dérivée est :\n",
    "\n",
    "$$\n",
    "f'_{eau} (y)=\\frac{2ay}{H^2}-\\frac{a+x_e}{H}\n",
    "$$\n",
    "\n",
    "Cette fonction relie les points de coordonées $[x_e,0]$ et $[0,H]$). \n",
    "Dans la suite nous prendrons $a=3$."
   ]
  },
  {
   "cell_type": "markdown",
   "id": "8d65ece2-e4c9-4fc3-9af9-1c9bd86bb87f",
   "metadata": {},
   "source": [
    "### On calcule la résultante des forces de pression, le volume de béton, et le rapport $T/N$ dans l'hypothèse de l'équilibre statique"
   ]
  },
  {
   "cell_type": "code",
   "execution_count": 19,
   "id": "f5804010-7c29-41bc-9a76-bcd93439f1d0",
   "metadata": {
    "tags": []
   },
   "outputs": [],
   "source": [
    "# On redéfinit les fonctions côté eau et côté air\n",
    "a = 3\n",
    "def feau2(y):\n",
    "    return a * (y / H) ** 2 - (a + xe) * (y / H) + xe\n",
    "def fair2(y):\n",
    "    return (H - y) * xa / H\n",
    "\n",
    "y = np.linspace(0, H, 1000)"
   ]
  },
  {
   "cell_type": "code",
   "execution_count": 20,
   "id": "ed8744eb-4d4f-46b9-8e66-cce9db9364ff",
   "metadata": {
    "tags": []
   },
   "outputs": [
    {
     "name": "stdout",
     "output_type": "stream",
     "text": [
      "Le volume total occupé par le beton: 50 m^3\n"
     ]
    }
   ],
   "source": [
    "#On calcule le volume de béton\n",
    "\n",
    "#Côté eau\n",
    "x_eau2=np.linspace(0,H,1001)\n",
    "y_eau2=feau2(x_eau2)\n",
    "integrale_eau2=np.trapz(y_eau2,x_eau2)\n",
    "volume_eau2=np.fabs(integrale_eau2*L)\n",
    "\n",
    "#Côté air\n",
    "x_air=np.linspace(0,H,1001)\n",
    "y_air=fair(x_air)\n",
    "integrale_air=np.trapz(y_air,x_air)\n",
    "volume_air=np.fabs(integrale_air*L)\n",
    "\n",
    "#Volume total de béton\n",
    "v_beton=volume_air+volume_eau\n",
    "print(\"Le volume total occupé par le beton: {:.0f}\".format(v_beton),\"m^3\")"
   ]
  },
  {
   "cell_type": "code",
   "execution_count": 21,
   "id": "e7fbaa68-b0ca-4d66-a982-0158cb79ff79",
   "metadata": {},
   "outputs": [
    {
     "name": "stdout",
     "output_type": "stream",
     "text": [
      "Force de gravité exercée sur la digue: P_digue2= 1471500 N\n"
     ]
    }
   ],
   "source": [
    "M_beton2=rho_beton*v_beton\n",
    "\n",
    "P_digue2=M_beton2*g\n",
    "\n",
    "print(\"Force de gravité exercée sur la digue: P_digue2= {:.0f}\".format(P_digue2),\"N\")"
   ]
  },
  {
   "cell_type": "code",
   "execution_count": 32,
   "id": "2c6ee929-8337-48df-a1ab-1f981b7d3c50",
   "metadata": {
    "tags": []
   },
   "outputs": [],
   "source": [
    "#Selon x\n",
    "def P_x2(y):\n",
    "    return rho_eau*g*(H-y)\n",
    "\n",
    "#Selon y\n",
    "def P_y2(y):\n",
    "    f_prime2=2*a*y/H**2-(a+xe)/H\n",
    "    return rho_eau*g*(H-y)*f_prime2"
   ]
  },
  {
   "cell_type": "code",
   "execution_count": 33,
   "id": "af6cdca1-1cce-4eab-a1f9-423ab8367826",
   "metadata": {
    "tags": []
   },
   "outputs": [],
   "source": [
    "F_x_eau2=Inttrap(P_x2, x0, H, n)\n",
    "F_y_eau2=Inttrap(P_y2, x0, H, n)"
   ]
  },
  {
   "cell_type": "code",
   "execution_count": 34,
   "id": "1015b6be-559f-49f7-aad9-56f2b708d062",
   "metadata": {
    "tags": []
   },
   "outputs": [
    {
     "name": "stdout",
     "output_type": "stream",
     "text": [
      "Force normale de réaction du sol: 1765800 N\n",
      "Force tangentielle de la réaction du sol: 490500 N\n",
      "Rapport de ces forces: 0.278 N\n"
     ]
    }
   ],
   "source": [
    "N=P_digue2-F_y_eau2\n",
    "T=F_x_eau2\n",
    "print(\"Force normale de réaction du sol: {:.0f}\".format(N),\"N\")\n",
    "print(\"Force tangentielle de la réaction du sol: {:.0f}\".format(T),\"N\")\n",
    "print(\"Rapport de ces forces: {:.3f}\".format(T/N),\"N\")"
   ]
  },
  {
   "cell_type": "markdown",
   "id": "62ad4f1e-546c-418f-bfdc-d89ff9451429",
   "metadata": {},
   "source": [
    "On remarque que la digue est à l'équilibre car T/N<$\\mu$"
   ]
  },
  {
   "cell_type": "markdown",
   "id": "40686653-380d-4f00-b1ad-78c50db7923d",
   "metadata": {},
   "source": [
    "### On reprends le calcul avec $x_e=6$"
   ]
  },
  {
   "cell_type": "code",
   "execution_count": 36,
   "id": "13dc8c8f-b9c5-4836-a464-795ef9a39ca7",
   "metadata": {
    "tags": []
   },
   "outputs": [],
   "source": [
    "xe3=6\n",
    "\n",
    "def feau3(y):\n",
    "    return a * (y / H) ** 2 - (a + xe3) * (y / H) + xe3\n",
    "def fair3(y):\n",
    "    return (H - y) * xa / H\n",
    "\n",
    "\n",
    "def P_x3(y):\n",
    "    return rho_eau*g*(H-y)\n",
    "\n",
    "#Selon y\n",
    "def P_y3(y):\n",
    "    f_prime3=2*a*y/H**2-(a+xe3)/H\n",
    "    return rho_eau*g*(H-y)*f_prime3\n",
    "\n",
    "F_x_eau3=Inttrap(P_x3, x0, H, n)\n",
    "F_y_eau3=Inttrap(P_y3, x0, H, n)"
   ]
  },
  {
   "cell_type": "code",
   "execution_count": 37,
   "id": "324df404-b471-494c-96c3-8cc128b9b9b5",
   "metadata": {
    "tags": []
   },
   "outputs": [
    {
     "name": "stdout",
     "output_type": "stream",
     "text": [
      "Force normale de réaction du sol: 1814850 N\n",
      "Force tangentielle de la réaction du sol: 490500 N\n",
      "Rapport de ces forces: 0.270\n"
     ]
    }
   ],
   "source": [
    "N=P_digue-F_y_eau3\n",
    "T=F_x_eau3\n",
    "print(\"Force normale de réaction du sol: {:.0f}\".format(N),\"N\")\n",
    "print(\"Force tangentielle de la réaction du sol: {:.0f}\".format(T),\"N\")\n",
    "print(\"Rapport de ces forces: {:.3f}\".format(T/N))"
   ]
  },
  {
   "cell_type": "markdown",
   "id": "7b85423f-3ac9-4501-8494-1e595452acce",
   "metadata": {},
   "source": [
    "Je ne compare pas car le résultat du cas de la pente affine avec $x_a=0$ et $x_e=5$ est faux"
   ]
  },
  {
   "cell_type": "markdown",
   "id": "2d80b679-8ded-4ed2-af5c-cacd3f867d3b",
   "metadata": {},
   "source": [
    "### On calcule le rapport $T/N$ en faisant varier $x_e$ dans l'intervalle $[5,6]$ et on le trace en fonction du volume de la digue"
   ]
  },
  {
   "cell_type": "code",
   "execution_count": 51,
   "id": "8365619d-48fe-4b40-bc8c-21950b8b3375",
   "metadata": {},
   "outputs": [
    {
     "data": {
      "image/png": "[encoded data removed]",
      "text/plain": [
       "<Figure size 640x480 with 1 Axes>"
      ]
     },
     "metadata": {},
     "output_type": "display_data"
    }
   ],
   "source": [
    "xe4=np.linspace(5,6,100)\n",
    "volume=[]\n",
    "rapport=[]\n",
    "for i in xe4:\n",
    "    def feau4(y):\n",
    "        return a * (y / H) ** 2 - (a + i) * (y / H) + i\n",
    "    def fair4(y):\n",
    "        return (H - y) * xa / H\n",
    "    def P_x4(y):\n",
    "        return rho_eau*g*(H-y)\n",
    "    def P_y4(y):\n",
    "        f_prime4=2*a*y/H**2-(a+i)/H\n",
    "        return rho_eau*g*(H-y)*f_prime4\n",
    "    F_x_eau4=Inttrap(P_x4, x0, H, n)\n",
    "    F_y_eau4=Inttrap(P_y4, x0, H, n)\n",
    "    N4=P_digue-F_y_eau4\n",
    "    T4=F_x_eau4\n",
    "    x_eau4=np.linspace(0,H,1001)\n",
    "    y_eau4=feau4(x_eau2)\n",
    "    integrale_eau4=np.trapz(y_eau4,x_eau4)\n",
    "    volume_eau4=np.fabs(integrale_eau4*L)\n",
    "    x_air4=np.linspace(0,H,1001)\n",
    "    y_air4=fair4(x_air4)\n",
    "    integrale_air4=np.trapz(y_air4,x_air4)\n",
    "    volume_air4=np.fabs(integrale_air4*L)\n",
    "    v_beton=volume_air4+volume_eau4\n",
    "    rapport.append(T4/N4)\n",
    "    volume.append(v_beton)\n",
    "    \n",
    "#print(rapport)\n",
    "#print(poids)\n",
    "\n",
    "plt.plot(rapport,volume)\n",
    "plt.xlabel(\"Volume occupé par la digue\")\n",
    "plt.ylabel(\"Rapport T/N\")\n",
    "plt.title(\"Evolution du rapport en fonction du poids\")\n",
    "plt.grid()"
   ]
  },
  {
   "cell_type": "markdown",
   "id": "60ea3f8e-4b5e-476e-bdaa-ebe670aa8559",
   "metadata": {},
   "source": [
    "### On détermine graphiquement le volume minimal pour garder le rapport $T/N$ inférieur à 0.5 dans le cas courbe."
   ]
  },
  {
   "cell_type": "markdown",
   "id": "b18a4f97-6f2f-4079-99fc-9025d2210d22",
   "metadata": {},
   "source": [
    "Je ne réponds pas à cette question dû à mes résultats incorrectes"
   ]
  },
  {
   "cell_type": "code",
   "execution_count": null,
   "id": "f040136b-8b76-49bb-bdc7-9a02f51b80f0",
   "metadata": {},
   "outputs": [],
   "source": []
  }
 ],
 "metadata": {
  "kernelspec": {
   "display_name": "Python 3 (ipykernel)",
   "language": "python",
   "name": "python3"
  },
  "language_info": {
   "codemirror_mode": {
    "name": "ipython",
    "version": 3
   },
   "file_extension": ".py",
   "mimetype": "text/x-python",
   "name": "python",
   "nbconvert_exporter": "python",
   "pygments_lexer": "ipython3",
   "version": "3.12.9"
  }
 },
 "nbformat": 4,
 "nbformat_minor": 5
}
