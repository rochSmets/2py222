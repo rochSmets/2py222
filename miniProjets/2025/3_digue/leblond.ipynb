{
 "cells": [
  {
   "cell_type": "markdown",
   "id": "a747e967-695f-4b4e-8575-bdf08b4b0308",
   "metadata": {},
   "source": [
    "# Compte rendu Mini projet 3 : Calcul des forces de pression sur une dingue"
   ]
  },
  {
   "cell_type": "markdown",
   "id": "750b2d9e-f619-4cd4-be35-3ea30a04a869",
   "metadata": {},
   "source": [
    "### Elisa leblond 21302500"
   ]
  },
  {
   "cell_type": "markdown",
   "id": "28c60ed7-3025-4ceb-aa51-05c41397d021",
   "metadata": {},
   "source": [
    "## Introduction :"
   ]
  },
  {
   "cell_type": "markdown",
   "id": "e6c54522-09bb-4cbd-ae9a-196d7dd7a01a",
   "metadata": {},
   "source": [
    "Une digue est un barrage utilisée pour retenir une étendue d'eau pour protéger des infrastructures en zone inondable. Dans ce projet, le but est d'étudier les forces qui s'appliquent sur des digues de 2 formes différentes. On veut aussi comprendre le lien entre le volume de la digue et son état d'équilibre translationnel."
   ]
  },
  {
   "cell_type": "code",
   "execution_count": 24,
   "id": "7cf7517d-0677-417d-bda1-2b1681628361",
   "metadata": {
    "tags": []
   },
   "outputs": [],
   "source": [
    "#importation des modules et des bibliothèques nécéssaires pour la réalisation de ce projet \n",
    "import numpy as np\n",
    "import matplotlib.pyplot as plt"
   ]
  },
  {
   "cell_type": "markdown",
   "id": "cbb10294-07d6-43fd-981c-308e479e13d9",
   "metadata": {},
   "source": [
    "## Modélisation :"
   ]
  },
  {
   "cell_type": "markdown",
   "id": "a5834f77-e590-4562-939a-340f6cc5f15a",
   "metadata": {},
   "source": [
    "On souhaite ici afficher les courbes représentant la digue"
   ]
  },
  {
   "cell_type": "code",
   "execution_count": 27,
   "id": "a07ce434-e8d7-4ab9-bab1-93c399bfc315",
   "metadata": {
    "tags": []
   },
   "outputs": [
    {
     "data": {
      "image/png": "[encoded data removed]",
      "text/plain": [
       "<Figure size 640x480 with 1 Axes>"
      ]
     },
     "metadata": {},
     "output_type": "display_data"
    }
   ],
   "source": [
    "#Paramètres\n",
    "H = 10\n",
    "xa = -5\n",
    "xe = +5\n",
    "\n",
    "#On définit les différentes fonctions pour les deux côtés de la digue\n",
    "def fair(y,xi):\n",
    "    return -(y - H) * xi / H \n",
    "\n",
    "def feau(y,xf):\n",
    "    return  -(y - H) * xf / H   \n",
    "\n",
    "Y = np.linspace(0, H, 1000)\n",
    "\n",
    "#On trace le graphique \n",
    "plt.plot(fair(Y,xa), Y, '-b') \n",
    "plt.plot(feau(Y,xe), Y, '-b') \n",
    " \n",
    "plt.plot([xe, xa], [0, 0], '-b') # Bas de la digue\n",
    "plt.xlabel('x (en m)') \n",
    "plt.ylabel('y (en m)')\n",
    "plt.text(xe, 8, 'eau')\n",
    "plt.text(xa, 8, 'air')\n",
    "\n",
    "plt.axis('equal') #on obtient un plot centré\n",
    "plt.axhline(0, color = \"black\")\n",
    "plt.axvline(0, color = \"black\")\n",
    "plt.xlim(-8, 8)\n",
    "plt.show()"
   ]
  },
  {
   "cell_type": "markdown",
   "id": "3e7af6be-d2d8-4ada-8d42-4d069d2b878d",
   "metadata": {},
   "source": [
    "## Première partie : digues en pentes droites"
   ]
  },
  {
   "cell_type": "code",
   "execution_count": 28,
   "id": "889e4620-d31d-414c-a694-3670f90970ce",
   "metadata": {
    "tags": []
   },
   "outputs": [],
   "source": [
    "#nouveaux paramètres\n",
    "L = 1\n",
    "g = 9.81\n",
    "rho_beton = 3000\n",
    "rho_eau = 1000   #on fait l'hypothèse que l'eau et le béton sont incomprésibles, leurs masses volumiques sont constantes\n",
    "mu_s = 0.500  # coefficient de frottement roche/béton donné dans l'énoncé\n",
    "\n",
    "N = 100"
   ]
  },
  {
   "cell_type": "markdown",
   "id": "3c048151-e5ac-4a7e-82ca-6a425f09ea45",
   "metadata": {},
   "source": [
    "### Volume et force gravitationnelle :"
   ]
  },
  {
   "cell_type": "markdown",
   "id": "9e41754f-b1e6-47ab-991a-e26412c3a303",
   "metadata": {},
   "source": [
    "On utilise une intégration pour obtenir le volume de la digue"
   ]
  },
  {
   "cell_type": "code",
   "execution_count": 29,
   "id": "58b70179-8100-463e-aaad-755a49353416",
   "metadata": {
    "tags": []
   },
   "outputs": [],
   "source": [
    "#Calcul du volume par intégration\n",
    "def integration(f,x_i,x_f,n,var_1):\n",
    "    delta = (x_f-x_i)/n\n",
    "    som = 0\n",
    "    for i in range(n):\n",
    "        som += (f(x_i + i*delta,var_1) + f(x_i + (i+1)*delta,var_1)) *delta/2 \n",
    "    return abs(som)"
   ]
  },
  {
   "cell_type": "code",
   "execution_count": 30,
   "id": "3585bfb8-9b01-4376-a186-df099a1ad44e",
   "metadata": {
    "tags": []
   },
   "outputs": [],
   "source": [
    "def Volume(A,L):\n",
    "    #on définit A (aire) et L(longueur) le produit des deux donne bien une longueur \n",
    "    return A*L"
   ]
  },
  {
   "cell_type": "markdown",
   "id": "3dcadd96-256d-4d50-94f0-9ce8b70897e9",
   "metadata": {},
   "source": [
    "On calcule ce même volume de manière analytique "
   ]
  },
  {
   "cell_type": "code",
   "execution_count": 31,
   "id": "ad1764ce-e720-4f12-ab45-1af0beda2d53",
   "metadata": {
    "tags": []
   },
   "outputs": [
    {
     "name": "stdout",
     "output_type": "stream",
     "text": [
      "Le Volume de la digue par intégration vaut 49.999999999999986 m^3\n",
      "Le Volume de la digue analytiquement vaut 50.0 m^3\n"
     ]
    }
   ],
   "source": [
    "\n",
    "Aire_d = integration(fair,0,H,1000,xa) + integration(feau,0,H,1000,xe)\n",
    "\n",
    "#Calcul analytique \n",
    "Aa = abs(xa*H/2)     \n",
    "Ae = abs(xe*H/2)    \n",
    "A_tot = Aa+Ae        \n",
    "V = abs(A_tot * L)  \n",
    " \n",
    "print(\"Le Volume de la digue par intégration vaut\", Volume(Aire_d ,L), \"m^3\")\n",
    "print(\"Le Volume de la digue analytiquement vaut\", V, \"m^3\")"
   ]
  },
  {
   "cell_type": "markdown",
   "id": "96ae3670-5420-44e7-b175-1965f3904a29",
   "metadata": {},
   "source": [
    "On retrouve un résultat similaire avec les deux méthodes. "
   ]
  },
  {
   "cell_type": "markdown",
   "id": "1aeb1c14-5c3f-4ed7-8125-617366404282",
   "metadata": {},
   "source": [
    "On souhaite désormais calculer la force de gravitation exercée sur la digue"
   ]
  },
  {
   "cell_type": "code",
   "execution_count": 32,
   "id": "bfffd096-5fe2-4b27-84f4-87e53bfd59d9",
   "metadata": {
    "tags": []
   },
   "outputs": [
    {
     "name": "stdout",
     "output_type": "stream",
     "text": [
      "la force de gravité exercée sur la digue vaut -1471500.0 N  (F_g est selon le vecteur unitaire Uy)\n"
     ]
    }
   ],
   "source": [
    "F_g = -g*rho_beton*V  \n",
    "print(\"la force de gravité exercée sur la digue vaut\", F_g, \"N  (F_g est selon le vecteur unitaire Uy)\")"
   ]
  },
  {
   "cell_type": "markdown",
   "id": "8955d934-1df2-4f99-8424-b870144075b0",
   "metadata": {},
   "source": [
    "### Forces de pression : "
   ]
  },
  {
   "cell_type": "markdown",
   "id": "4e4d75d3-8021-451e-a17a-91effa317012",
   "metadata": {},
   "source": [
    "On intérésse dans cette nouvelle section aux forces de pression. On négligera la pression de l'air sur la digue.  \n",
    "Ainsi on définit la pression en un point de hauteur y de la digue : $P(y)= \\rho_e g (H-y) $"
   ]
  },
  {
   "cell_type": "code",
   "execution_count": 33,
   "id": "eced32a4-aae3-4ea1-baf3-6c9a8f786c24",
   "metadata": {},
   "outputs": [],
   "source": [
    "\n",
    "def pression(y,h): #renvoie la pression \n",
    "    \n",
    "    return rho_eau*g*(h-y)\n",
    "\n",
    "dfeau = -xe/H    # dérivée de la fonction feau (pour une pente droite)\n",
    "theta = np.arctan(dfeau)  # l'angle  𝜃  entre la tangente en un point et l'axe des abscisses"
   ]
  },
  {
   "cell_type": "markdown",
   "id": "03a5210c-f926-44a7-8468-762744590154",
   "metadata": {},
   "source": [
    "Ensuite on calcule les composantes infinitésimales de la force de pression selon x et selon y"
   ]
  },
  {
   "cell_type": "code",
   "execution_count": 34,
   "id": "3755616e-ef41-4f96-9a23-14dceb4729cc",
   "metadata": {
    "tags": []
   },
   "outputs": [],
   "source": [
    "def dF_pression_ux(y,h): #expression infinitésimale selon x\n",
    "    \n",
    "    return (rho_eau*g*(y-h))\n",
    "\n",
    "def dF_pression_uy(y,x): #pression infinitesimale selon y\n",
    "    \n",
    "    return ((rho_eau*g*(y-H)))*(-x/H)"
   ]
  },
  {
   "cell_type": "markdown",
   "id": "b0209885-3180-49c1-8fbf-acf91708763f",
   "metadata": {},
   "source": [
    "On peut à présent définir l'expression des forces de pression sur les axes x et y.\n",
    "\n",
    "En effet : \n",
    "\n",
    "$$ \\vec{F_p} = \\int_0^H P(y)\\,dl.\\vec{n}  = \\int_0^H\\frac{P(y)}{cos(\\theta)}\\,dy.(sin(\\theta)\\vec{u_y}-cos(\\theta)\\vec{u_x}) =  tan(\\theta)\\int_0^HP(y)\\,dy.\\vec{u_y} - \\int_0^HP(y)\\,dy.\\vec{u_x}  = \\int_0^HP(y)f'(y)dy. \\vec{u_y} - \\int_0^HP(y)dy.\\vec{u_x} $$\n",
    "$$ =  -\\frac{x_e}{H}\\int_0^HP(y)\\,dy.\\vec{u_y}-\\int_0^HP(y)\\,dy.\\vec{u_x}$$\n",
    "\n",
    "$$  $$\n"
   ]
  },
  {
   "cell_type": "code",
   "execution_count": 35,
   "id": "97f3b6a1-0a32-4017-b1ed-7ab959f85c28",
   "metadata": {
    "tags": []
   },
   "outputs": [
    {
     "name": "stdout",
     "output_type": "stream",
     "text": [
      "Px = -490500.0 Pa\n",
      "Py = -245250.0 Pa\n"
     ]
    }
   ],
   "source": [
    "def F_pression_ux(y,n,var): \n",
    "    \n",
    "    return -integration(dF_pression_ux, 0, y, n,var)     \n",
    "    \n",
    "def F_pression_uy(y,n,var):\n",
    "   \n",
    "    return -integration(dF_pression_uy, 0, y, n,var)\n",
    "\n",
    "print(\"Px =\",F_pression_ex(H,100,H),\"Pa\")\n",
    "print(\"Py =\",F_pression_ey(H,100,xe),\"Pa\")\n"
   ]
  },
  {
   "cell_type": "markdown",
   "id": "69c34e15-98b1-438b-b830-d7311903becb",
   "metadata": {},
   "source": [
    "### Equilibre translationnel :\n"
   ]
  },
  {
   "cell_type": "markdown",
   "id": "99b918e5-f1f9-483a-9829-3ff83edc913a",
   "metadata": {},
   "source": [
    "D'après le principe fondamental de la dynamique on a : $\\sum \\vec{F} = \\vec{0} \\Leftrightarrow \\vec{P} + \\vec{F} + \\vec{R} = \\vec{0} $  \n",
    "\n",
    "On projette sur x puis sur y :  \n",
    "    \n",
    "$T = - F_{pression_x}$  \n",
    "\n",
    "$N =  -F_{pression_y} + mg$\n",
    "\n",
    "Et on a équilibre translationnel si et seulement si $\\frac{|T|}{N}< \\mu_s = 0.5 $"
   ]
  },
  {
   "cell_type": "code",
   "execution_count": 36,
   "id": "d833da41-f5dc-4eb9-ae57-6f776c627209",
   "metadata": {
    "tags": []
   },
   "outputs": [],
   "source": [
    "def Tangentielle(y,n,var): #définit la composante tangentielle de la réaction du sol\n",
    "    \n",
    "    return - F_pression_ex(y,n,var)\n",
    "\n",
    "def Normale(y,n,volume,var): #définit la composante normale de la réaction du sol\n",
    "    \n",
    "    return rho_beton*volume*g - F_pression_ey(y,n,var)\n",
    "\n",
    "def coeff_frott_stat(y,n,volume,var1,var2): #définit le coefficient de frottement statique\n",
    "    \n",
    "    return np.abs(Tangentielle(y,n,var1))/Normale(y,n,volume,var2)"
   ]
  },
  {
   "cell_type": "code",
   "execution_count": 37,
   "id": "1a51a7e5-2214-4334-85b9-7482d507807a",
   "metadata": {
    "tags": []
   },
   "outputs": [
    {
     "name": "stdout",
     "output_type": "stream",
     "text": [
      "T = 490500.0\n",
      "N = 1716750.0\n",
      "T/N = 0.286\n",
      "La digue est stable\n"
     ]
    }
   ],
   "source": [
    "#calcul de T et de N et du rapport T/N\n",
    "T_frot = Tangentielle(H,N,H)\n",
    "N_frot =  Normale(H,100,V,xe)\n",
    "mu = coeff_frott_stat(H,100,V,H,xe)\n",
    "\n",
    "print(\"T =\",T_frot)\n",
    "print(\"N =\",N_frot)\n",
    "print(\"T/N = {:.3f}\".format(mu))\n",
    "\n",
    "#pour déterminer si l'équilibre est satisfait:\n",
    "if mu<mu_s :\n",
    "    print(\"La digue est stable\")\n",
    "else : \n",
    "    print(\"La digue n'est pas stable\")"
   ]
  },
  {
   "cell_type": "markdown",
   "id": "e84b323e-afb6-42bd-9b2f-3fed0f3e789b",
   "metadata": {},
   "source": [
    "### Résolution similaire pour une demi-digue côté air:"
   ]
  },
  {
   "cell_type": "code",
   "execution_count": 38,
   "id": "d0d1f0ae-fbb3-47d8-976f-c77c8aaabd7f",
   "metadata": {
    "tags": []
   },
   "outputs": [
    {
     "name": "stdout",
     "output_type": "stream",
     "text": [
      "T/N = 0.667\n",
      "La digue n'est pas stable\n"
     ]
    }
   ],
   "source": [
    "#dans ce cas xa=-5 et xe = 0\n",
    "#l'aire de la digue ne comprend plus que la moitié côté air :\n",
    "Aire = integration(fair,0,H,1000,xa)\n",
    "V2 = Volume(Aire,L)\n",
    "\n",
    "# calcul explicite du rapport T/N\n",
    "mu2 = coeff_frott_stat(H,100,V2,H,0)\n",
    "print(\"T/N = {:.3f}\".format(mu2))\n",
    "\n",
    "#pour déterminer si l'équilibre est satisfait:\n",
    "if mu2<mu_s :\n",
    "    print(\"La digue est stable\")\n",
    "else : \n",
    "    print(\"La digue n'est pas stable\")"
   ]
  },
  {
   "cell_type": "markdown",
   "id": "4f9e5ccf-95d7-48ae-9565-3efdd4f1b8bb",
   "metadata": {},
   "source": [
    "### Résolution similaire pour une demi-digue côté eau:"
   ]
  },
  {
   "cell_type": "code",
   "execution_count": 39,
   "id": "6cf6453f-359a-4d0d-8647-ed4b0104e82e",
   "metadata": {
    "tags": []
   },
   "outputs": [
    {
     "name": "stdout",
     "output_type": "stream",
     "text": [
      "T/N = 0.500\n",
      "La digue est stable\n"
     ]
    }
   ],
   "source": [
    "#dans ce cas xa=0 et xe=5\n",
    "aire = integration(feau,0,H,1000,xe)\n",
    "V3 = Volume(aire,L)\n",
    "\n",
    "# calcul explicite du rapport T/N\n",
    "mu3 = coeff_frott_stat(H,100,V3,H,xe)\n",
    "print(\"T/N = {:.3f}\".format(mu3))\n",
    "print(\"La digue est stable\")"
   ]
  },
  {
   "cell_type": "markdown",
   "id": "747d29fe-3985-4a2c-872b-576848ee4a11",
   "metadata": {},
   "source": [
    "On remarque que pour un même volume, la demi-digue côté air n'est pas stable lorsque la demi-digue côté eau est stable."
   ]
  },
  {
   "cell_type": "markdown",
   "id": "0b08eb7e-1fe3-4b4a-80c7-9c388815d266",
   "metadata": {},
   "source": [
    "## Deuxième partie : les digues convexes "
   ]
  },
  {
   "cell_type": "markdown",
   "id": "307944a6-0c07-424c-980b-8cc797d068f5",
   "metadata": {
    "tags": []
   },
   "source": [
    "On change notre hypothèse de départ en considérant que l'interface entre l'eau et le béton n'est plus une fonction affine mais devient une fonction de la forme :\n",
    "\n",
    "$$\n",
    "f_{eau} (y)=a \\left(\\frac{y}{H}\\right)^2-(a+x_e)\\left(\\frac{y}{H}\\right) +x_e\n",
    "$$\n",
    "\n",
    "\n",
    "On exprime aussi sa dérivée :\n",
    "\n",
    "$$\n",
    "f'_{eau} (y)=\\frac{2ay}{H^2}-\\frac{a+x_e}{H}\n",
    "$$\n",
    "\n",
    "Pour la résolution on prendra $a=3$."
   ]
  },
  {
   "cell_type": "markdown",
   "id": "5a9f3d19-e9e8-4767-b9f0-f92fc94a0194",
   "metadata": {},
   "source": [
    "On affiche les courbes représentant cette nouvelle digue"
   ]
  },
  {
   "cell_type": "code",
   "execution_count": 40,
   "id": "b97aee1b-cecd-4627-ac57-ae8a8a0fd150",
   "metadata": {
    "tags": []
   },
   "outputs": [
    {
     "data": {
      "image/png": "[encoded data removed]",
      "text/plain": [
       "<Figure size 640x480 with 1 Axes>"
      ]
     },
     "metadata": {},
     "output_type": "display_data"
    }
   ],
   "source": [
    "#nouvelles variables \n",
    "\n",
    "H = 10\n",
    "xe = 5\n",
    "xa = 0\n",
    "a = 3\n",
    "\n",
    "#définition des courbes \n",
    "\n",
    "def feau_c(y,x): \n",
    "    return a * (y / H) ** 2 - (a + x) * (y / H) + x\n",
    "\n",
    "def fair_c(y,x):\n",
    "    return (H - y) * x / H\n",
    "\n",
    "Y = np.linspace(0, H, 1000)\n",
    "\n",
    "#On affiche le graphique avec le titre et les légendes \n",
    "plt.plot(feau_c(Y,xe), Y, '-b')\n",
    "plt.plot(fair_c(Y,xa), Y, '-b')\n",
    "plt.plot([xe, xa], [0, 0], '-b')\n",
    "plt.xlabel('x (m)')\n",
    "plt.ylabel('y (m)')\n",
    "plt.text(3, 8, 'eau')\n",
    "plt.text(-3, 8, 'air')\n",
    "plt.axis('equal') # Permet d'avoir un plot isométrique\n",
    "plt.axhline(0, color = \"black\")\n",
    "#plt.axvline(0, color = \"black\")\n",
    "plt.xlim(-8, 8)\n",
    "plt.show()"
   ]
  },
  {
   "cell_type": "markdown",
   "id": "03340e71-b00d-487f-94b8-b9fc942d9203",
   "metadata": {},
   "source": [
    "### Equilibre de la digue convexe pour xe=5 :"
   ]
  },
  {
   "cell_type": "code",
   "execution_count": 42,
   "id": "08f8f649-6aea-49dc-8529-c83f4b942e56",
   "metadata": {
    "tags": []
   },
   "outputs": [
    {
     "name": "stdout",
     "output_type": "stream",
     "text": [
      "Le volume de béton de la digue courbe est de 20.000 m^3\n",
      "Px = -490500.0 Pa\n",
      "py = -245250.0 Pa\n",
      "T/N = 0.588\n",
      "La digue n'est pas stable\n"
     ]
    }
   ],
   "source": [
    "#dans ce cas xa=0 et xe=5\n",
    "\n",
    "A1_conv = integration(feau_c,0,H,1000,xe)   #aire de la digue convexe\n",
    "\n",
    "V_conv = Volume(A1_conv,L)   #volume de la digue\n",
    "print(\"Le volume de béton de la digue courbe est de {:.3f}\".format(V_conv),\"m^3\")\n",
    "\n",
    "# on calcule la résultante des forces de pression sur la digue \n",
    "Fp_ux_c = F_pression_ux(H,100,H)\n",
    "Fp_uy_c = F_pression_uy(H,100,5)\n",
    "print(\"Px =\",Fp_ux_c,\"Pa\")\n",
    "print(\"py =\",Fp_uy_c,\"Pa\")\n",
    "\n",
    "#calcul du rapport T/N\n",
    "mu_c = coeff_frott_stat(H,100,V_conv,H,xe)\n",
    "print(\"T/N = {:.3f}\".format(mu_c))\n",
    "\n",
    "#pour déterminer si l'équilibre est satisfait:\n",
    "if mu_c<mu_s :\n",
    "    print(\"La digue est stable\")\n",
    "else : \n",
    "    print(\"La digue n'est pas stable\")"
   ]
  },
  {
   "cell_type": "markdown",
   "id": "e9336b68-c94f-4ef1-b1fb-913520c83577",
   "metadata": {},
   "source": [
    "### Equilibre de la digue convexe pour xe=6"
   ]
  },
  {
   "cell_type": "code",
   "execution_count": 43,
   "id": "81484478-8d44-4d65-8358-3bd460280e5c",
   "metadata": {
    "tags": []
   },
   "outputs": [
    {
     "name": "stdout",
     "output_type": "stream",
     "text": [
      "Le volume de béton de la digue courbe est de 25.000 m^3\n",
      "Px = -490500.0 Pa\n",
      "py = -294300.0 Pa\n",
      "T/N = 0.476\n",
      "La digue est stable\n"
     ]
    }
   ],
   "source": [
    "#dans ce cas xa=0 et xe=6\n",
    "xe2 = 6\n",
    "A2_conv= integration(feau_c,0,H,1000,xe2)   # on définit l'aire de la digue convexe\n",
    "\n",
    "V2_conv = Volume(A2_conv,L)   #on définit le volume de la digue\n",
    "print(\"Le volume de béton de la digue courbe est de {:.3f}\".format(V2_conv),\"m^3\")\n",
    "\n",
    "#on calcule la résultante des forces de pression sur la digue \n",
    "Fp_ux_c = F_pression_ux(H,100,H)\n",
    "Fp_uy_c = F_pression_uy(H,100,6)\n",
    "print(\"Px =\",Fp_ux_c,\"Pa\")\n",
    "print(\"py = {:.9}\".format(Fp_uy_c),\"Pa\")\n",
    "\n",
    "# calcul explicite du rapport T/N\n",
    "mu2_c = coeff_frott_stat(H,100,V2_conv,H,xe2)\n",
    "print(\"T/N = {:.3f}\".format(mu2_c))\n",
    "\n",
    "#pour déterminer si l'équilibre est satisfait:\n",
    "if mu2_c<mu_s :\n",
    "    print(\"La digue est stable\")\n",
    "else : \n",
    "    print(\"La digue n'est pas stable\")"
   ]
  },
  {
   "cell_type": "markdown",
   "id": "9137ea50-854e-4927-8206-e3ed6073c3fa",
   "metadata": {
    "tags": []
   },
   "source": [
    "Dans le cas où xe = 5, la digue, n'est pas en équilibre translationnel. Au contraire, pour xe = 6, la digue est à l'équilibre translationnel, elle ne va pas glisser. Le deuxième cas xe=6 est donc plus favorable, la digue est satisfaite."
   ]
  },
  {
   "cell_type": "markdown",
   "id": "974bea21-9471-41e1-b3bf-6706650778b8",
   "metadata": {},
   "source": [
    "### Limite de l'équilibre statique :"
   ]
  },
  {
   "cell_type": "code",
   "execution_count": 50,
   "id": "405f8bc2-8f1b-4ef2-9c19-4211629fd874",
   "metadata": {
    "tags": []
   },
   "outputs": [
    {
     "data": {
      "image/png": "[encoded data removed]",
      "text/plain": [
       "<Figure size 640x480 with 1 Axes>"
      ]
     },
     "metadata": {},
     "output_type": "display_data"
    }
   ],
   "source": [
    "#liste des différentes valeurs de xe \n",
    "Xe = np.linspace(5,6,50)\n",
    "\n",
    "for i in Xe:\n",
    "    A = integration(feau_c,0,H,1000,i)\n",
    "    mu = coeff_frott_stat(H,100,A,H,i)\n",
    "    plt.plot(A,mu,'bo')\n",
    "\n",
    "plt.plot([20,25],[0.50,0.50],'r',label = 'limite de non glissement')\n",
    "plt.title(\"Rapport T/N en fonciton du volume de la digue\")\n",
    "plt.xlabel(\"Volume de la digue [en m^3]\")\n",
    "plt.ylabel(\"Rapport T/N\")\n",
    "plt.legend()\n",
    "plt.grid()"
   ]
  },
  {
   "cell_type": "markdown",
   "id": "a26b340e-5c0f-45ef-8cec-fd92fe44ec5a",
   "metadata": {
    "tags": []
   },
   "source": [
    "Par lecture graphique, on peut avoir le volume minimum de la digue pour qu'elle soit en équilibre statique qui est de $23,8 m^3$ environ."
   ]
  },
  {
   "cell_type": "code",
   "execution_count": null,
   "id": "9cb8ad70-ef7e-443d-904a-79364da3beae",
   "metadata": {},
   "outputs": [],
   "source": [
    "#liste de valeurs de xe \n",
    "Xe = np.linspace(4.5,6.5,100)\n",
    "\n",
    "for i in Xe:\n",
    "    A = integration(feau_c,0,H,1000,i)\n",
    "    mu_c = coeff_frott_stat(H,100,A,H,i)\n",
    "    B = integration(feau,0,H,1000,i)\n",
    "    mu_d = coeff_frott_stat(H,100,B,H,i)\n",
    "    plt.plot(A,mu_c,'bo')\n",
    "    plt.plot(B,mu_d,'ko')\n",
    "\n",
    "plt.plot([10,30],[0.50,0.50],'r',label = 'limite de non glissement')\n",
    "plt.title(\"Rapport T/N en fonciton du volume de la digue\")\n",
    "plt.xlabel(\"Volume de la digue [m^3]\")\n",
    "plt.ylabel(\"T/N\")\n",
    "plt.xlim(20,27)\n",
    "plt.ylim(0.45,0.55)\n",
    "plt.legend([\"Digue convexe\", \"Digue affine\"])\n",
    "plt.grid()"
   ]
  }
 ],
 "metadata": {
  "kernelspec": {
   "display_name": "Python 3 (ipykernel)",
   "language": "python",
   "name": "python3"
  },
  "language_info": {
   "codemirror_mode": {
    "name": "ipython",
    "version": 3
   },
   "file_extension": ".py",
   "mimetype": "text/x-python",
   "name": "python",
   "nbconvert_exporter": "python",
   "pygments_lexer": "ipython3",
   "version": "3.9.7"
  }
 },
 "nbformat": 4,
 "nbformat_minor": 5
}
