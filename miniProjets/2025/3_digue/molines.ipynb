{
 "cells": [
  {
   "cell_type": "markdown",
   "id": "5a826e70-10dd-4b54-8c37-fa88eb3a5d87",
   "metadata": {},
   "source": [
    "# Compte Rendu mini-projet expérimental: Digue\n",
    "### Antoine Molines\n",
    "\n",
    "## Introduction\n",
    "Le but de ce mini-projet est de calculer et étudier l'équilibre d'une sigue en béton soumis à des forces de pression en utilisant des outils numériques. Nous allons premièrement modéliser avec des fonctions les géométries de la digue, puis avec des outils d'intégration numériques nous pourront étudier l'équilibire statique de la digue en fonction de sa géométrie.\n",
    "\n",
    "## I/Modélisation\n",
    "Dans un premier temps, nous allons modéliser la digue par des fonctions pour déterminer sa géométrie ainsi que les forces qu'elle subie.\n",
    "### Forces agissant sur le système:\n",
    "Il y a deux forces principales agissant sur le système: les forces de pressions de l'eau $\\vec{F_p}$ et le poid de la digue $\\vec{P}$. il y a aussi les forces de réaction: $\\vec{R}=\\vec{T}+\\vec{N}$ qui permettent à la digue de ne pas glisser\n",
    "Ces forces ont pour expressions:\n",
    "$$\\vec{F_p}=\\iint_S \\vec{\\mathrm{d}F} =\\iint_S P d\\vec{S}$$, avec $P(y)=\\rho g (H-y)$, $H$ la hauteur de la digue.\n",
    "En projetant sur les axes x (ici orienté vers le haut) et y (vers la droite), on obtient l'équilibre statique:\n",
    "$$-(P+F_{py})+N=0 ; -F_{py}+T=0$$\n",
    "### Modélisation de la géométrie par des fonctions:\n",
    "Pour cette première partie, nous allons modéliser la digue par deux fonction affine de cette manière:"
   ]
  },
  {
   "cell_type": "code",
   "execution_count": 2,
   "id": "2488918a-257a-444c-ac07-0a7e99672eeb",
   "metadata": {
    "tags": []
   },
   "outputs": [],
   "source": [
    "import numpy as np\n",
    "import matplotlib.pyplot as plt"
   ]
  },
  {
   "cell_type": "code",
   "execution_count": 3,
   "id": "7281c139-dc7b-4d3a-b010-addb551349ae",
   "metadata": {
    "tags": []
   },
   "outputs": [
    {
     "data": {
      "image/png": "[encoded data removed]",
      "text/plain": [
       "<Figure size 640x480 with 1 Axes>"
      ]
     },
     "metadata": {},
     "output_type": "display_data"
    }
   ],
   "source": [
    "# Ce code permet d'afficher les courbes représentant la digue\n",
    "\n",
    "H = 10\n",
    "xa = -5\n",
    "xe = +5\n",
    "\n",
    "\n",
    "# On définit les fonctions côté eau et côté air, ici les courbes concaves\n",
    "def fair(y):\n",
    "    return -(y - H) * xa / H\n",
    "\n",
    "def feau(y):\n",
    "    return  -(y - H) * xe / H \n",
    "\n",
    "# On crée un tableau de y\n",
    "y = np.linspace(0, H, 1000)\n",
    "\n",
    "# On trace\n",
    "plt.plot(fair(y), y, '-b') \n",
    "\n",
    "plt.plot(feau(y), y, '-b')  ## Décommenter après avoir codé la fonction feau(x)\n",
    "\n",
    "plt.plot([xe, xa], [0, 0], '-b') # Bas de la digue\n",
    "plt.xlabel('x (m)') \n",
    "plt.ylabel('y (m)')\n",
    "plt.text(xe, 8, 'eau')\n",
    "plt.text(xa, 8, 'air')\n",
    "plt.axis('equal') # Permet d'avoir un plot isométrique\n",
    "plt.axhline(0, color = \"black\")\n",
    "plt.axvline(0, color = \"black\")\n",
    "plt.xlim(-8, 8)\n",
    "plt.title(\"Modèle de la digue avec pente linéaire\")\n",
    "plt.show()"
   ]
  },
  {
   "cell_type": "markdown",
   "id": "0edb1a65-e6bf-424b-acaf-dd1013943020",
   "metadata": {},
   "source": [
    "où l'on a utilisé les fonctions: $$\n",
    "f_{air}(y) = -\\frac{x_a}{H}.(y-H); f_{eau}(y) = -\\frac{x_e}{H}.(y-H)\n",
    "$$\n",
    "avec $H=10$, $x_e=5$, $x_a=-5$"
   ]
  },
  {
   "cell_type": "markdown",
   "id": "890d49da-441c-457f-b051-9f931940d187",
   "metadata": {},
   "source": [
    "## II/Equilibre statique pour les pentes droites.\n",
    "Dans un premier temps, nous allons calculer le volume de la digue en pente droite par intégration des deux fonction tracées (en supposant qu'elle a pour épaisseur $1m$:"
   ]
  },
  {
   "cell_type": "code",
   "execution_count": 4,
   "id": "91ef10f6-bdb6-4548-b9f4-87f61f82c084",
   "metadata": {
    "tags": []
   },
   "outputs": [
    {
     "name": "stdout",
     "output_type": "stream",
     "text": [
      "le volume de la digue est: 50.000049999999995 m^3\n"
     ]
    }
   ],
   "source": [
    "n = 1000000             #nombre d'itération\n",
    "H = 10                  #définition des constantes/bornes\n",
    "xa, xe = -5, 5\n",
    "\n",
    "delta_y = H / n         #définition du pas\n",
    "\n",
    "volume_a = 0            #initilisaiton\n",
    "volume_e = 0\n",
    "\n",
    "for i in range(n):           #boucle sur tout les pas\n",
    "    y = i * delta_y  \n",
    "    aire_a = fair(y) * delta_y      #calcul des 2 aires simultanement\n",
    "    aire_e = feau(y) * delta_y  \n",
    "    volume_a += aire_a              #ajout\n",
    "    volume_e += aire_e\n",
    "\n",
    "print(\"le volume de la digue est:\",abs(volume_a) + abs(volume_e),\"m^3\") \n"
   ]
  },
  {
   "cell_type": "markdown",
   "id": "22c05582-6315-44c4-a1aa-4a4d9e9db508",
   "metadata": {},
   "source": [
    "Nous voyons bien que la valeur obtenue par intégration est proche de la valeur théoriqe: $V=0.5(base*hauteur)=0.5*(10*10)=50 m^3$."
   ]
  },
  {
   "cell_type": "markdown",
   "id": "1a52574e-f907-4220-adb2-344b4fc724b7",
   "metadata": {},
   "source": [
    "Nous pouvons donc maintenant, en définissant le repère ci dessous, calculer les resultantes des forces:"
   ]
  },
  {
   "cell_type": "markdown",
   "id": "5f62de94-4545-42bb-bbaf-585673f1f046",
   "metadata": {},
   "source": [
    "![DigueAngles.png](./DigueAngles.png)"
   ]
  },
  {
   "cell_type": "markdown",
   "id": "26872154-63b2-481e-95e1-9d004f7efe73",
   "metadata": {
    "tags": []
   },
   "source": [
    "et avecs les relations: $$\n",
    "tan(\\theta) = f'(y)\n",
    "$$\n",
    ";\n",
    "$$\n",
    "\\vec n = \\sin(\\theta).\\vec{u_y} - \\cos(\\theta).\\vec{u_x} \n",
    "$$\n"
   ]
  },
  {
   "cell_type": "markdown",
   "id": "d7a38e71-87e1-4de7-ac1d-55c01f055b93",
   "metadata": {},
   "source": [
    "Les forces de pressions se résument dans notre cas à:$$\n",
    "\\vec{F} = \\iint_S \\vec{\\mathrm{d}F} =\\int_0^H P(y) \\mathrm{d}l . \\vec{n}\n",
    "$$, et en utilisant :$$\n",
    "\\mathrm{d}l = \\frac{\\mathrm{d}y}{\\cos(\\theta)}\n",
    "$$ nous pouvons en déduire que:\n",
    "$$F_y=\\int_0^{H}-\\rho g (H-y)\\frac{x_e}{H}dy$$ et$$ F_x=\\int_0^{H}-\\rho g (H-y)dy$$\n",
    "\n",
    "Aisni, en intégrant numériquement on obtient:"
   ]
  },
  {
   "cell_type": "code",
   "execution_count": 5,
   "id": "acec579c-9f58-4a0a-bf05-871e542a5870",
   "metadata": {
    "tags": []
   },
   "outputs": [
    {
     "name": "stdout",
     "output_type": "stream",
     "text": [
      "Résultante des forces de pression de l'eau :\n",
      "Fy = -250002.50 N\n",
      "Fx = -500005.00 N\n"
     ]
    }
   ],
   "source": [
    "rho_g = 10000  # rho*g\n",
    "n = 100000  # nombre d'itérations\n",
    "\n",
    "#dérive de f_eau\n",
    "df_eau = -xe / H \n",
    "\n",
    "#défintion du pas\n",
    "delta_y = H / n\n",
    "\n",
    "#initialisation\n",
    "Fx, Fy = 0, 0\n",
    "\n",
    "#boucle\n",
    "for i in range(n):\n",
    "    y = i * delta_y\n",
    "    P = rho_g * (H - y)  #pression\n",
    "    dF_y = P * df_eau * delta_y  #composante en x\n",
    "    dF_x = -P * delta_y  #composante en y\n",
    "    Fx =Fx+ dF_x\n",
    "    Fy = Fy+dF_y\n",
    "\n",
    "print(\"Résultante des forces de pression de l'eau :\")\n",
    "print(f\"Fy = {Fy:.2f} N\")\n",
    "print(f\"Fx = {Fx:.2f} N\")"
   ]
  },
  {
   "cell_type": "markdown",
   "id": "c23bf96f-33c1-434a-9842-08b595105b4b",
   "metadata": {},
   "source": [
    "Nous voyons bien que ces résultats sont cohérents avec le repère choisis, car les forces sont toutes deux négatives, et celles en x et bien plus forte que celle en y."
   ]
  },
  {
   "cell_type": "markdown",
   "id": "e92fe1c1-b9fa-46ab-a430-280060a1300a",
   "metadata": {},
   "source": [
    "En utilisant le fait que $T=\\mu N$ avec $\\mu=0.5$, on peut étudier l'équilibre statique en calculant le rapport $T/N$:"
   ]
  },
  {
   "cell_type": "code",
   "execution_count": 6,
   "id": "a819cc85-7efd-4b71-8ab0-3139e74ba5c9",
   "metadata": {
    "tags": []
   },
   "outputs": [
    {
     "name": "stdout",
     "output_type": "stream",
     "text": [
      "le rapport T/N est: 0.285716734690379\n"
     ]
    }
   ],
   "source": [
    "g=10\n",
    "rhobeton=3000\n",
    "Vdigue=50\n",
    "Poiddigue=-rhobeton*Vdigue*g\n",
    "T=-Fx\n",
    "N=-Fy-Poiddigue\n",
    "print(\"le rapport T/N est:\",T/N)\n",
    "\n"
   ]
  },
  {
   "cell_type": "markdown",
   "id": "c1a2a929-4107-40c0-b4c0-47c5500d0711",
   "metadata": {},
   "source": [
    "Le rapport étant inférieur à $\\mu=0.5$, la digue est en équilibre statique."
   ]
  },
  {
   "cell_type": "markdown",
   "id": "f7a1b447-1fd4-4777-a883-1fdf4429f9f0",
   "metadata": {},
   "source": [
    "On peut reprendre ce calcul pour différente géométrie: premiérement avec $x_e=0$ et $x_a=-5$:"
   ]
  },
  {
   "cell_type": "code",
   "execution_count": 7,
   "id": "7a124de7-b987-4841-881b-5e15dbaba696",
   "metadata": {
    "tags": []
   },
   "outputs": [
    {
     "name": "stdout",
     "output_type": "stream",
     "text": [
      "Résultante des forces de pression côté eau :\n",
      "Fy = 0.00 N\n",
      "Fx = -500005.00 N\n",
      "le rapport T/N est: 0.6666733333333333\n"
     ]
    }
   ],
   "source": [
    "xa=-5\n",
    "xe=0\n",
    "h=10\n",
    "\n",
    "df_eau = -xe / H \n",
    "Vdigue=25\n",
    "Poiddigue=-rhobeton*Vdigue*g\n",
    "#défintion du pas\n",
    "delta_y = H / n\n",
    "#initialisation\n",
    "Fx, Fy = 0, 0\n",
    "#boucle\n",
    "for i in range(n):\n",
    "    y = i * delta_y\n",
    "    P = rho_g * (H - y)  #pression\n",
    "    dF_y = P * df_eau * delta_y  #composante en x\n",
    "    dF_x = -P * delta_y  #composante en y\n",
    "    Fx =Fx+ dF_x\n",
    "    Fy = Fy+dF_y\n",
    "\n",
    "print(\"Résultante des forces de pression côté eau :\")\n",
    "print(f\"Fy = {Fy:.2f} N\")\n",
    "print(f\"Fx = {Fx:.2f} N\")\n",
    "\n",
    "T=-Fx\n",
    "N=-Fy-Poiddigue\n",
    "print(\"le rapport T/N est:\",T/N)"
   ]
  },
  {
   "cell_type": "markdown",
   "id": "bf91de88-a907-4436-b3ee-b92a13d3ec3d",
   "metadata": {
    "tags": []
   },
   "source": [
    "Dans cette géométrie le rapport supérieur au coefficient statique, et ainsi la digue n'est pas en équilibre statique. \n",
    "Maintent, avec $x_e=5$ et $x_a=0$:"
   ]
  },
  {
   "cell_type": "code",
   "execution_count": 8,
   "id": "e2eb1d70-e249-4a77-9099-6ec02a29b227",
   "metadata": {
    "tags": []
   },
   "outputs": [
    {
     "name": "stdout",
     "output_type": "stream",
     "text": [
      "Résultante des forces de pression côté eau :\n",
      "Fy = -250002.50 N\n",
      "Fx = -500005.00 N\n",
      "le rapport T/N est: 0.500003749990625\n"
     ]
    }
   ],
   "source": [
    "xa=0\n",
    "xe=5\n",
    "h=10\n",
    "\n",
    "df_eau = -xe / H \n",
    "\n",
    "#défintion du pas\n",
    "delta_y = H / n\n",
    "\n",
    "Vdigue=25\n",
    "Poiddigue=-rhobeton*Vdigue*g\n",
    "#initialisation\n",
    "Fx, Fy = 0, 0\n",
    "#boucle\n",
    "for i in range(n):\n",
    "    y = i * delta_y\n",
    "    P = rho_g * (H - y)  #pression\n",
    "    dF_y = P * df_eau * delta_y  #composante en x\n",
    "    dF_x = -P * delta_y  #composante en y\n",
    "    Fx =Fx+ dF_x\n",
    "    Fy = Fy+dF_y\n",
    "\n",
    "print(\"Résultante des forces de pression côté eau :\")\n",
    "print(f\"Fy = {Fy:.2f} N\")\n",
    "print(f\"Fx = {Fx:.2f} N\")\n",
    "\n",
    "T=-Fx\n",
    "N=-Fy-Poiddigue\n",
    "print(\"le rapport T/N est:\",T/N)"
   ]
  },
  {
   "cell_type": "markdown",
   "id": "dc6e693e-d68c-4a3f-9fe0-869ccadde5bb",
   "metadata": {},
   "source": [
    "En revanche, ici la digue est en équilibre statique, car elle est à la limite du coefficient statique (la faible erreur vient de l'intégration)"
   ]
  },
  {
   "cell_type": "markdown",
   "id": "8d875d7d-d08e-4798-bed6-b922c3b0ef59",
   "metadata": {},
   "source": [
    "Dans le premier cas, la digue n'est pas en équilibre car elle fait une pente verticale avec l'eau, et ainsi il n'y a pas de force selon y pour compenser les pressions, alors que dans le second cas la digue fait une pente ce qui permet l'apparition d'une force selon y qui va aider à l'équilibre.\n"
   ]
  },
  {
   "cell_type": "markdown",
   "id": "4fa78cce-0367-4ea5-90e3-d8a449a60104",
   "metadata": {},
   "source": [
    "## III/Equilibre statique pour les pentes courbes.\n",
    "Dans cette partie, nous allons changer de modèle de digue pour change la symétrie de l'interface eau-béton pour avoir une pente convexe.\n",
    "L'expression de la fonction décrivant cette pente est:\n",
    "$$f_{eau} (y)=a \\left(\\frac{y}{H}\\right)^2-(a+x_e)\\left(\\frac{y}{H}\\right) +x_e$$\n",
    "Sa dérivé est donné par:\n",
    "$$\n",
    "f'_{eau} (y)=\\frac{2ay}{H^2}-\\frac{a+x_e}{H}\n",
    "$$\n",
    "\n",
    "Affichons dans un premier temps ce nouveau modèle:"
   ]
  },
  {
   "cell_type": "code",
   "execution_count": 9,
   "id": "ef4219bb-f012-4628-b243-b43f39d37991",
   "metadata": {
    "tags": []
   },
   "outputs": [
    {
     "data": {
      "image/png": "[encoded data removed]",
      "text/plain": [
       "<Figure size 640x480 with 1 Axes>"
      ]
     },
     "metadata": {},
     "output_type": "display_data"
    }
   ],
   "source": [
    "# Ce code permet d'afficher les courbes représentant la digue\n",
    "\n",
    "H = 10\n",
    "xe = 5\n",
    "xa = 0\n",
    "\n",
    "# On définit les fonctions côté eau et côté air, ici les courbes concaves\n",
    "a = 3\n",
    "def feau(y):\n",
    "    return a * (y / H) ** 2 - (a + xe) * (y / H) + xe\n",
    "def fair(y):\n",
    "    return (H - y) * xa / H\n",
    "\n",
    "# On crée un tableau de y\n",
    "y = np.linspace(0, H, 1000)\n",
    "\n",
    "# On trace\n",
    "plt.plot(feau(y), y, '-b')\n",
    "plt.plot(fair(y), y, '-b')\n",
    "plt.plot([xe, xa], [0, 0], '-b')\n",
    "plt.xlabel('x (m)')\n",
    "plt.ylabel('y (m)')\n",
    "plt.text(3, 8, 'eau')\n",
    "plt.text(-3, 8, 'air')\n",
    "plt.axis('equal') # Permet d'avoir un plot isométrique\n",
    "plt.axhline(0, color = \"black\")\n",
    "#plt.axvline(0, color = \"black\")\n",
    "plt.xlim(-8, 8)\n",
    "plt.title(\"Modèle de la digue avec pente convexe\")\n",
    "plt.show()\n"
   ]
  },
  {
   "cell_type": "markdown",
   "id": "b6c0588d-f84e-4919-95b8-5b84e7de18cc",
   "metadata": {},
   "source": [
    "De façon similaire à avant, nous pouvons étudier l'équilibre statique de la digue en calculant les forces de pression et de poid:"
   ]
  },
  {
   "cell_type": "markdown",
   "id": "cacc2e28-e4fd-4483-9923-8b77e17ec902",
   "metadata": {},
   "source": [
    "Volume de béton:"
   ]
  },
  {
   "cell_type": "code",
   "execution_count": 10,
   "id": "35fe99d1-e00a-4454-9352-b64a9cff1410",
   "metadata": {
    "tags": []
   },
   "outputs": [
    {
     "name": "stdout",
     "output_type": "stream",
     "text": [
      "Le volume de la nouvelle digue est: 20.000025000005838\n"
     ]
    }
   ],
   "source": [
    "n = 1000000\n",
    "H = 10\n",
    "xa, xe = 0, 5\n",
    "\n",
    "delta_y = H / n\n",
    "\n",
    "volume = 0\n",
    "\n",
    "\n",
    "for i in range(n):\n",
    "    y = i * delta_y  \n",
    "    \n",
    "    aire = feau(y) * delta_y  \n",
    "    volume += aire\n",
    "    \n",
    "\n",
    "print(\"Le volume de la nouvelle digue est:\",volume)"
   ]
  },
  {
   "cell_type": "markdown",
   "id": "cbfe2177-5f87-44f4-9d6d-11f0791e2c4b",
   "metadata": {},
   "source": [
    "Les forces de pressions sont:"
   ]
  }
 ],
 "metadata": {
  "kernelspec": {
   "display_name": "Python 3 (ipykernel)",
   "language": "python",
   "name": "python3"
  },
  "language_info": {
   "codemirror_mode": {
    "name": "ipython",
    "version": 3
   },
   "file_extension": ".py",
   "mimetype": "text/x-python",
   "name": "python",
   "nbconvert_exporter": "python",
   "pygments_lexer": "ipython3",
   "version": "3.12.9"
  }
 },
 "nbformat": 4,
 "nbformat_minor": 5
}
