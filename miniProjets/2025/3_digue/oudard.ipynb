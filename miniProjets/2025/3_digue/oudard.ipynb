{
 "cells": [
  {
   "cell_type": "markdown",
   "id": "40750453-b686-4b40-8883-1d1bd265f3e5",
   "metadata": {
    "tags": []
   },
   "source": [
    "# Mini-Projet : Digue - Compte-rendu\n",
    "\n",
    "## Introduction\n",
    "\n",
    "La géométrie d'une digue est un paramètre important à considérer lors de sa construction : elle va déterminer sa tenue face aux forces de pression exercées par l'eau qu'elle retient, et donc sa solidité. Au cours de ce mini-projet, nous allons mettre en oeuvre nos compétences mathématique et informatique dans l'optique de calculer numériquement les forces subies par une digue de forme arbitraire, de sorte à déterminer la géométrie à privilégier.\n",
    "\n",
    "Avant de débuter l'exercice de modélisation, il est nécessaire de rappeler les formules et informations clés du problème.\n",
    "\n",
    "### a) Bilan des forces\n",
    "\n",
    "Nous modéliserons la digue comme un bloc de béton posé sur un sol rocheux. Dans un problème de simplification, nous nous placerons en deux dimensions, et considérerons une longueur unitaire suivant l'axe perpendiculaire au plan. D'un côté, la digue retient une masse d'eau de hauteur $H$, tandis que l'autre côté est exposé à l'air. \n",
    "Voici les forces subies par la digue :\n",
    "\n",
    "\n",
    "- Poids de la digue $\\vec{P} = m\\vec{g}$, avec $m$ la masse de la digue\n",
    "- Réaction du sol rocheux $\\vec{R} = \\vec{N} + \\vec{T}$ où $\\vec{T}$ est la force de frottement (tangentielle au sol) du béton sur la roche (permettant à la digue ne pas glisser sur le sol rocheux), avec $T \\le \\mu_s N$, où $\\mu_s$ est le coefficient de frottement statique, et $\\vec{N}$ lui est normale\n",
    "- Forces de pression de l'eau sur la digue $\\vec{F_{P}}=P_{eau}.{S}.\\vec{n}$, où $\\vec{n}$ est un vecteur unitaire et $P_{eau}(x) = \\rho g (H-x) + P_0$, où $P_0$ est la pression à la surface, c'est-à-dire à $H=10m$\n",
    "- Forces de pression de l'air sur la digue\n",
    "\n",
    "Nous considèrerons que les forces de pression dûes à l'air sont négligeables.\n",
    "\n",
    "\n",
    "### b) Equilibre translationnel\n",
    "\n",
    "A l'équilibre translationnel, nous avons d'après le Principe Fondamental de la Dynamique $\\sum F_{ext} = m \\vec{a}$. Or, $\\vec{a} = \\vec{0}$ d'où :\n",
    "\n",
    "$\\sum \\vec{F_{ext}} = \\vec{0} \\implies \\vec{R} + \\vec{P} + \\vec{F_{P}} = \\vec{0} \\implies \\vec{N} + \\vec{T} + m\\vec{g} + \\frac{P_{eau}}{S}\\vec{n} = \\vec{0}$\n",
    "\n",
    "### c) Constantes du problème\n",
    "\n",
    "Les grandeurs utiles que nous utiliserons pendant notre effort de modélisation sont les suivantes :\n",
    "\n",
    "- Coefficient de friction statique béton - roche : $\\mu = 0.5$\n",
    "- Masse volumique du béton : $\\rho_{beton}=3000 kg/{m^3}$\n",
    "- Hauteur de la digue $H = 10m$\n",
    "- Accélération de la pesanteur $g = 9.81 m^2/s^{-1}$\n",
    "- Coordonnée de la digue côté eau $x_e = -5m$\n",
    "- Coordonnée de la digue côté air $x_a = 5m$\n",
    "\n",
    "## I. Digue en pente droite\n",
    "\n",
    "Afin d'intégrer, dériver et projeter suivant les pentes côté air et eau, nous devons les caractériser par des fonctions mathématiques. Comme nous allons intégrer suivant la direction $y$, il est plus pertinent de définir les pentes de la digue comme étant $x = f(y)$. Nous définissons ainsi les fonctions monotones suivantes :\n",
    "\n",
    "- $f_{air}(y)= -\\frac{x_a}{H}.(y-H)$ croissante, représentant l'interface air-béton définie pour $0 \\leq y \\leq H$ et allant de $x_a$ à $0$,\n",
    "- $f_{eau}(y) = \\frac{x_e}{H}.(y-H)$ décroissante, représentant l'interface eau-béton définie sur le même intervalle et allant de $x_e$ à $0$.\n",
    "\n",
    "Définissons les fonctions données ci-dessus :"
   ]
  },
  {
   "cell_type": "code",
   "execution_count": 1,
   "id": "46dc3b7d-7717-4856-9871-a1daa5d93433",
   "metadata": {
    "tags": []
   },
   "outputs": [],
   "source": [
    "import numpy as np\n",
    "import matplotlib.pyplot as plt\n",
    "\n",
    "# Dimensions clés\n",
    "H = 10\n",
    "xa = -5\n",
    "xe = +5\n",
    "\n",
    "# Fonctions\n",
    "def fair(y):\n",
    "    return -(y - H) * xa / H\n",
    "\n",
    "def feau(y):\n",
    "    a1 = 3\n",
    "    return (y - H) * xa / H"
   ]
  },
  {
   "cell_type": "markdown",
   "id": "107a4f9d-8a32-4e32-a421-628b0b64bf48",
   "metadata": {},
   "source": [
    "Créons un tableau de $y$, regroupant toutes les altitudes comprises entre 0 et $H$, puis représentons la digue sous forme graphique."
   ]
  },
  {
   "cell_type": "code",
   "execution_count": 2,
   "id": "4cb65ef4-106c-4ae8-87e8-e7e5391b582f",
   "metadata": {
    "tags": []
   },
   "outputs": [
    {
     "data": {
      "image/png": "[encoded data removed]",
      "text/plain": [
       "<Figure size 640x480 with 1 Axes>"
      ]
     },
     "metadata": {},
     "output_type": "display_data"
    }
   ],
   "source": [
    "# Création du tableau de y\n",
    "y = np.linspace(0, H, 1000)\n",
    "\n",
    "# Tracé graphique\n",
    "plt.plot(fair(y), y, '-b') \n",
    "plt.plot(feau(y), y, '-b')\n",
    "plt.plot([xe, xa], [0, 0], '-b')\n",
    "\n",
    "plt.xlabel('x (m)')\n",
    "plt.ylabel('y (m)')\n",
    "plt.text(xe, 8, 'eau')\n",
    "plt.text(xa, 8, 'air')\n",
    "plt.axis('equal')\n",
    "plt.axhline(0, color = \"black\")\n",
    "plt.axvline(0, color = \"black\")\n",
    "plt.xlim(-8, 8)\n",
    "plt.show()"
   ]
  },
  {
   "cell_type": "markdown",
   "id": "04094e2a-67a3-4c00-82bc-92d4c79e65ed",
   "metadata": {},
   "source": [
    "Afin de calculer le poids exercé par la digue, nous devons intégrer ces fonctions sur leurs bornes de définition. Pour savoir à quel résultat nous devons nous attendre, procédons à une résolution analytique :\n",
    "\n",
    "$$\\int_{0}^{10}f_{air} = -\\int_{0}^{10}f_{eau}= [-\\frac{x_a}{2H}.(y-H)^2]_0^{10}= 25$$\n",
    "\n",
    "La surface doit ainsi correspondre, pour chaque partie de la digue, à $25 m^2$. La digue doit donc être de surface totale égale à $50 m^2$\n",
    "Vérifions-le par le code :"
   ]
  },
  {
   "cell_type": "code",
   "execution_count": 3,
   "id": "6f2f5cbe-b6d0-4c75-830f-bd9aefba802b",
   "metadata": {
    "tags": []
   },
   "outputs": [
    {
     "name": "stdout",
     "output_type": "stream",
     "text": [
      "L'aire de la digue vaut 50.00 m2\n",
      "En posant L = 1m, le volume de la digue vaut 50.00 m3\n"
     ]
    }
   ],
   "source": [
    "# Bornes\n",
    "a = -5\n",
    "b = 0\n",
    "c = 5\n",
    "\n",
    "# Nombre de pas et delta_x\n",
    "n = 1000\n",
    "Delta_air = (b - a) / n\n",
    "Delta_eau = (c - b) / n\n",
    "\n",
    "# Nous initialisons l'intégrale\n",
    "integrale = 0 \n",
    "\n",
    "# Méthode des trapèzes (dans l'avenir, nous utiliserons la fonction np.trapz)\n",
    "for i in range(n):\n",
    "    f = (fair(a + (i+1) * Delta_air) + fair(a + i * Delta_air))/2\n",
    "    aire_air = f * Delta_air\n",
    "    integrale = integrale + np.fabs(aire_air)\n",
    "\n",
    "for i in range(n):\n",
    "    g = (feau(b + (i+1) * Delta_eau) + feau(b + i * Delta_eau))/2\n",
    "    aire_eau = g * Delta_eau\n",
    "    integrale = integrale + np.fabs(aire_eau)\n",
    "\n",
    "# Longueur unitaire de la digue\n",
    "L = 1\n",
    "\n",
    "print(f\"L'aire de la digue vaut {integrale:.2f} m2\")\n",
    "print(f\"En posant L = 1m, le volume de la digue vaut {L*integrale:.2f} m3\")"
   ]
  },
  {
   "cell_type": "markdown",
   "id": "d89ab680-c9ad-4cbb-baac-da183a17f761",
   "metadata": {},
   "source": [
    "Pour calculer son poids, il suffit de suivre l'équation $P = mg = g V \\rho_{beton}$, et d'utiliser les constantes données dans l'introduction."
   ]
  },
  {
   "cell_type": "code",
   "execution_count": 4,
   "id": "3bcb98c2-5d14-458e-945d-e10eaadef2d8",
   "metadata": {
    "tags": []
   },
   "outputs": [
    {
     "name": "stdout",
     "output_type": "stream",
     "text": [
      "Le poids exercé sur la digue est de 1.472e+06 N\n"
     ]
    }
   ],
   "source": [
    "p_beton =  3000 # kg/m3\n",
    "\n",
    "m_digue = L * integrale * p_beton\n",
    "Poids = 9.81 * m_digue\n",
    "print(f\"Le poids exercé sur la digue est de {Poids:.3e} N\")"
   ]
  },
  {
   "cell_type": "markdown",
   "id": "1a73c4c2-46fa-4ddc-a6db-7e8cbe621ca0",
   "metadata": {},
   "source": [
    "Afin de décomposer les forces de pression selon les axes du problème, nous devons trouver des vecteurs normaux aux tangentes des fonctions en tout point, qui corresponderont aux vecteurs directeurs de la force de pression locale. Soit l'angle $\\theta$ entre la tangente en un point et l'axe des abscisses, s'exprimant en fonction de la dérivée de la courbe par :\n",
    "\n",
    "$$\\theta = arctan(f'(y))$$\n",
    "\n",
    "Comme la dérivée de $f_{air}$ est constante, $\\theta$ est nécessairement constant en tout point.\n",
    "De plus, la projection du vecteur $\\vec n$ selon $\\vec{u_x}$ et $\\vec{u_y}$ donne :\n",
    "\n",
    "$$\\vec n = - \\sin(\\theta).\\vec{u_y} - \\cos(\\theta).\\vec{u_x}$$\n",
    "\n",
    "Nous pouvons ainsi calculer la résultante des forces de pression en intégrant les forces infinitésimales $\\vec{\\mathrm{d}F}$ s'appliquant à chaque élément de surface $\\mathrm{d}S$. Cependant, comme nous sommes en deux dimensions, nous pouvons poser $\\mathrm{d}S = L \\mathrm{d}l = \\mathrm{d}l$, puisque $L = 1$.\n",
    "Nous obtenons ainsi :\n",
    "\n",
    "$$\\vec{F} = \\iint_S \\vec{\\mathrm{d}F} =\\int_0^H P(y) \\mathrm{d}l . \\vec{n}$$\n",
    "\n",
    "avec $\\vec{n}$ le vecteur normal rentrant au point de coordonnées $(f(y),y)$, et $\\mathrm{d}l$ la longueur infinitésimale de la courbe pour une variation $\\mathrm{d}x$. \n",
    "De plus, nous pouvons montrer que :\n",
    "\n",
    "$$\\mathrm{d}l = \\frac{\\mathrm{d}y}{\\cos(\\theta)}$$\n",
    "\n",
    "Cela implique ainsi :\n",
    "\n",
    "- Composante selon $\\vec{u_x}$: $F_{px}= \\int_{0}^{H}P(y)\\frac{dy}{\\cos(\\theta)}(-\\cos(\\theta))=-\\int_{0}^{H}P(y)dy=-\\rho_{eau}g\\int_{0}^{H}ydy$ ;\n",
    "\n",
    "- Composante selon $\\vec{u_y}$: $F_{py}= \\int_{0}^{H}P(y)\\frac{dy}{\\cos(\\theta)}(-\\sin(\\theta))=-\\tan{\\theta}\\int_{0}^{H}P(y)dy=\\rho_{eau}g\\frac{x_e}{H}\\int_{0}^{H}ydy$ comme $\\tan{\\theta}=f'(y)$.\n",
    "\n",
    "Codons et calculons donc tous ces termes via Python. Débutons par le calcul de $\\theta$ :"
   ]
  },
  {
   "cell_type": "code",
   "execution_count": 5,
   "id": "1a3c594f-47c3-4b51-a8cd-e5a4bf14e034",
   "metadata": {
    "tags": []
   },
   "outputs": [
    {
     "name": "stdout",
     "output_type": "stream",
     "text": [
      "L'angle theta vaut, pour tout point, -0.4636 rad\n"
     ]
    }
   ],
   "source": [
    "feau_derivee = (feau(H) - feau(0)) / (H - 0)\n",
    "\n",
    "# Nous appliquons la relation theta = arctan(f'(y))\n",
    "theta = np.arctan(feau_derivee)\n",
    "\n",
    "print(f\"L'angle theta vaut, pour tout point, {np.mean(theta):.4f} rad\")"
   ]
  },
  {
   "cell_type": "markdown",
   "id": "ede53035-6a3e-46ea-8019-e89992141d34",
   "metadata": {},
   "source": [
    "Comme $f_{eau}$ est de dérivée constante, $\\theta$ est une constante : nous sommes donc dans notre droit de l'afficher en passant par sa moyenne."
   ]
  },
  {
   "cell_type": "code",
   "execution_count": 6,
   "id": "6caa83c8-9ccf-4140-bc63-13563a737615",
   "metadata": {
    "tags": []
   },
   "outputs": [
    {
     "name": "stdout",
     "output_type": "stream",
     "text": [
      "Les forces de pression valent, en u_x, 4.905e+05 N\n",
      "Les forces de pression valent, en u_y, 2.453e+05 N\n",
      "La résultante des forces de pression vaut 5.484e+05 N\n"
     ]
    }
   ],
   "source": [
    "import math as m\n",
    "\n",
    "# Pression hydrostatique\n",
    "def P(y):\n",
    "    rho_eau = 1000\n",
    "    g = 9.81\n",
    "    H = 10\n",
    "    return rho_eau * g * (H - y)\n",
    "\n",
    "# Application de la formule de l'énoncé\n",
    "cos_theta = np.cos(theta)\n",
    "dl = 1 / cos_theta\n",
    "\n",
    "# Composantes de la force de pression\n",
    "F_px = -np.trapz(P(y) * np.cos(theta) * dl, y)\n",
    "F_py = np.trapz(P(y) * np.sin(theta) * dl, y)\n",
    "\n",
    "print(f\"Les forces de pression valent, en u_x, {np.fabs(F_px):.3e} N\")\n",
    "print(f\"Les forces de pression valent, en u_y, {np.fabs(F_py):.3e} N\")\n",
    "\n",
    "F_p = m.sqrt(F_px**2 + F_py**2)\n",
    "\n",
    "print(f\"La résultante des forces de pression vaut {np.fabs(F_p):.3e} N\")"
   ]
  },
  {
   "cell_type": "markdown",
   "id": "b1dbccca-bf5e-4208-ab8c-32079590743c",
   "metadata": {},
   "source": [
    "Supposons que la digue est à l'équilibre statique translationnel. D'après le Principe Fondamental de la Dynamique, comme l'accélération est nulle, nous avons l'égalité : \n",
    "\n",
    "$$\\sum \\vec{F_{ext}} = m.\\vec{a} = \\vec{0}$$\n",
    "\n",
    "Ainsi :\n",
    "\n",
    "$$\\sum\\vec{F_{ext}}=m.\\vec{0} \\implies \\vec{N} + \\vec{P} + \\vec{T} + \\vec{P_{eau}} = N\\vec{u_x} -mg\\vec{u_x} + \\mu_sN\\vec{u_y} + F_{px}\\vec{u_x} + F_{py}\\vec{u_y} = \\vec{0}$$\n",
    "\n",
    "En projetant ces différentes forces sur leurs axes, nous avons :\n",
    "\n",
    "$$ \\begin{cases} N\\vec{u_x} -mg\\vec{u_x} + F_{px}\\vec{u_x} = \\vec{0} \\\\ T\\vec{u_y} + F_{py}\\vec{u_y} = \\vec{0} \\\\ \\end{cases} \\implies \\begin{cases} N = mg - F_{px}\\\\ T = F_{py} \\\\ \\end{cases}$$\n",
    "\n",
    "Utilisons cette égalité afin de calculer les composantes normales et tangentielles de la force de réaction du sol, et d'en déduire le rapport $\\frac{T}{N}$, permettant de caractériser la stabilité de la digue."
   ]
  },
  {
   "cell_type": "code",
   "execution_count": 7,
   "id": "34b2f85b-8aee-49c5-bfda-8dcd4ad5c910",
   "metadata": {
    "tags": []
   },
   "outputs": [
    {
     "name": "stdout",
     "output_type": "stream",
     "text": [
      "Réaction normale (N) : 1.72e+06 N\n",
      "Réaction tangentielle (T) : 4.91e+05 N\n",
      "Rapport T/N : 0.286\n"
     ]
    }
   ],
   "source": [
    "# Équilibre mécanique\n",
    "N = Poids - F_py # Réaction normale\n",
    "T = F_px # Réaction tangentielle\n",
    "\n",
    "print(f\"Réaction normale (N) : {N:.2e} N\")\n",
    "print(f\"Réaction tangentielle (T) : {np.fabs(T):.2e} N\")\n",
    "print(f\"Rapport T/N : {abs(T/N):.3f}\")"
   ]
  },
  {
   "cell_type": "markdown",
   "id": "570b110a-78b8-49dc-adb4-a5f343c1b67b",
   "metadata": {},
   "source": [
    "Nous avons ainsi la relation $T = 0.286N$. Or, pour que la digue soit stable, il faut que ces deu variables respectent la relation $T \\le \\mu N$, où $\\mu = 0.5$ est le coefficient de friction statique béton-roche.\n",
    "Dans le cas présent, $\\frac{T}{N} \\le \\mu$, donc la digue est stable.\n",
    "Cependant, est-ce toujours le cas en considérant la disjonction du barrage entre le côté faisant face à l'eau, et celui exposé à l'air ? Vérifions-le, en commençant par la face côté air."
   ]
  },
  {
   "cell_type": "code",
   "execution_count": 8,
   "id": "4125dee5-9442-4a45-b563-111176972598",
   "metadata": {
    "tags": []
   },
   "outputs": [
    {
     "name": "stdout",
     "output_type": "stream",
     "text": [
      "Réaction normale (N) : 7.36e+05 N\n",
      "Réaction tangentielle (T) : 4.91e+05 N\n",
      "Rapport T/N : 0.667\n"
     ]
    }
   ],
   "source": [
    "# Constantes\n",
    "\n",
    "rho_eau = 1000 # kg/m3\n",
    "rho_beton = 3000 #kg/m3\n",
    "\n",
    "# Bornes\n",
    "a = -5\n",
    "b = 0\n",
    "\n",
    "# Calcul du poids\n",
    "x_air = np.linspace(0, H, 1001)\n",
    "y_air = fair(x_air)\n",
    "integrale_air = np.trapz(y_air, x_air)\n",
    "volume_air = np.fabs(integrale_air * L)\n",
    "Poids_air = 9.81 * volume_air * rho_beton\n",
    "\n",
    "# Calcul de theta en tout point\n",
    "fair_derivee = (fair(H) - fair(0)) / (H - 0)\n",
    "theta = np.arctan(feau_derivee)\n",
    "\n",
    "# Les forces de pression exercées par la digue côté eau sur la digue côté air sont seulement en u_x.\n",
    "F_px = -np.trapz(P(y) * np.cos(theta) * dl, y)\n",
    "\n",
    "# Équilibre mécanique\n",
    "N_air = Poids_air\n",
    "T_air = F_px\n",
    "\n",
    "print(f\"Réaction normale (N) : {N_air:.2e} N\")\n",
    "print(f\"Réaction tangentielle (T) : {np.fabs(T_air):.2e} N\")\n",
    "print(f\"Rapport T/N : {abs(T_air/N_air):.3f}\")"
   ]
  },
  {
   "cell_type": "markdown",
   "id": "7be5402d-7383-4e6d-b61d-ae1f9b1455e0",
   "metadata": {},
   "source": [
    "Dans ce cas, nous constatons que le rapport $\\frac{T}{N}$ est supérieur à $\\mu = 0.5$ : cette partie de la digue est instable, et risque de glisser. Voyons dès à présent ce qu'il en est du côté de l'eau."
   ]
  },
  {
   "cell_type": "code",
   "execution_count": 9,
   "id": "91bcb216-c770-4123-976b-c9bffc2cc8b9",
   "metadata": {
    "tags": []
   },
   "outputs": [
    {
     "name": "stdout",
     "output_type": "stream",
     "text": [
      "Réaction normale (N) : 9.81e+05 N\n",
      "Réaction tangentielle (T) : 4.91e+05 N\n",
      "Rapport T/N : 0.500\n"
     ]
    }
   ],
   "source": [
    "# Calcul du poids\n",
    "x_eau = np.linspace(0, H, 1001)\n",
    "y_eau = feau(x_eau)\n",
    "integrale_eau = np.trapz(y_eau, x_eau)\n",
    "volume_eau = np.fabs(integrale_eau * L)\n",
    "Poids_eau = 9.81 * volume_eau * rho_beton\n",
    "\n",
    "# Calcul des forces de pression\n",
    "F_px = -np.trapz(P(y) * np.cos(theta) * dl, y)\n",
    "F_py = np.trapz(P(y) * np.sin(theta) * dl, y)\n",
    "\n",
    "# Équilibre mécanique\n",
    "N_eau = Poids_eau - F_py\n",
    "T_eau = F_px\n",
    "\n",
    "print(f\"Réaction normale (N) : {N_eau:.2e} N\")\n",
    "print(f\"Réaction tangentielle (T) : {np.fabs(T_eau):.2e} N\")\n",
    "print(f\"Rapport T/N : {abs(T_eau/N_eau):.3f}\")"
   ]
  },
  {
   "cell_type": "markdown",
   "id": "52a9b51f-af3d-473f-b0ea-2615d37b95a9",
   "metadata": {},
   "source": [
    "Ici, le rapport $\\frac{T}{N}$ semble être parfaitement égal au coefficient $\\mu$ : la digue est donc stable de justesse.\n",
    "Cette différence de stabilité entre les deux parties du barrage découlent de la présence ou non d'une composante en $u_y$ des forces de pression. Cette dernière s'additionne au poids, et augmente ainsi la norme de la réaction normale du sol : le rapport $\\frac{T}{N}$ s'en voit ainsi amoindri.\n",
    "\n",
    "## II. Digue convexe\n",
    "\n",
    "Maintenant, considérons que l'interface entre l'eau et le béton n'est plus une fonction affine, mais une fonction convexe de la forme :\n",
    "\n",
    "$$f_{eau} (y)=a \\left(\\frac{y}{H}\\right)^2-(a+x_e)\\left(\\frac{y}{H}\\right) +x_e$$\n",
    "\n",
    "où $a=3$, $H=10$ et $x_e=5$. Sa dérivée est :\n",
    "\n",
    "$$f'_{eau} (y)=\\frac{2ay}{H^2}-\\frac{a+x_e}{H}$$\n",
    "\n",
    "Définissons cette fonction ci-dessous :"
   ]
  },
  {
   "cell_type": "code",
   "execution_count": 10,
   "id": "9ec7114b-a61c-4e6a-9171-15c11c8d548b",
   "metadata": {
    "tags": []
   },
   "outputs": [],
   "source": [
    "def feau(y):\n",
    "    a = 3\n",
    "    H = 10\n",
    "    xe = 5\n",
    "    return a * (y / H) ** 2 - (a + xe) * (y / H) + xe"
   ]
  },
  {
   "cell_type": "markdown",
   "id": "63d66755-1a19-480c-a531-c541dfce5a27",
   "metadata": {},
   "source": [
    "Afin d'éviter toute redondance et d'être en mesure de comparer directement la stabilité des deux types de digues, nous nous focaliserons uniquement sur le côté face à l'eau. Représentons graphiquement la situation."
   ]
  },
  {
   "cell_type": "code",
   "execution_count": 11,
   "id": "4401da21-083a-4654-906f-06e4a85c9b08",
   "metadata": {
    "tags": []
   },
   "outputs": [
    {
     "data": {
      "image/png": "[encoded data removed]",
      "text/plain": [
       "<Figure size 640x480 with 1 Axes>"
      ]
     },
     "metadata": {},
     "output_type": "display_data"
    }
   ],
   "source": [
    "xa = 0\n",
    "y = np.linspace(0, H, 1000)\n",
    "\n",
    "plt.plot(feau(y), y, '-b')\n",
    "plt.plot([xa, 0], [0, H], '-b')\n",
    "plt.xlabel('x (m)')\n",
    "plt.ylabel('y (m)')\n",
    "plt.text(3, 8, 'eau')\n",
    "plt.text(-3, 8, 'air')\n",
    "plt.axis('equal') # Permet d'avoir un plot isométrique\n",
    "plt.axhline(0, color = \"black\")\n",
    "plt.xlim(-8, 8)\n",
    "plt.show()"
   ]
  },
  {
   "cell_type": "markdown",
   "id": "9b72758a-be01-4707-b3c6-5813c115ce9b",
   "metadata": {},
   "source": [
    "Calculons, dans l'hypothèse de l'équilibre statique translationnel, la rapport $\\frac{T}{N}$. L'obtention de ce résultat nécessitant le calcul des forces de pression, rappelons comment déterminer ces dernières.\n",
    "La relation\n",
    "\n",
    "$$\\theta = arctan(f'(y))$$\n",
    "\n",
    "ne permet plus l'obtention d'une constante, car la dérivée de $f_{eau}$ est variable. Pour tout y, nous avons alors :\n",
    "\n",
    "$$\\theta = arctan(\\frac{2ay}{H^2}-\\frac{a+x_e}{H})$$\n",
    "\n",
    "Nous pouvons constater que l'angle $\\theta$ dépend également de la longueur de la digue : selon la valeur de la constante $x_e$, les forces de pression seront différentes, ce qui peut influencer la stabilité de la digue. Pour l'instant, concentrons-nous sur le cas $x_e = 5$m.\n",
    "Créons tout d'abord la fonction dérivée de $f_{eau}$, et calculons l'angle $\\theta$ pour tout y entre 0 et H :"
   ]
  },
  {
   "cell_type": "code",
   "execution_count": 12,
   "id": "e5595e4e-072d-47b0-9176-3de12926fb54",
   "metadata": {
    "tags": []
   },
   "outputs": [],
   "source": [
    "def derivee_convexe(y):\n",
    "    a = 3\n",
    "    H = 10\n",
    "    xe = 5\n",
    "    return (2 * a * y / H**2) - (a + xe)/H\n",
    "\n",
    "theta = np.arctan(derivee_convexe(y))"
   ]
  },
  {
   "cell_type": "markdown",
   "id": "1bdd8c52-ae62-4eaf-8ffc-9054534c5e38",
   "metadata": {},
   "source": [
    "Maintenant, calculons les normes selon $u_x$ et $u_y$ des forces de pression et de gravité exercées sur la digue."
   ]
  },
  {
   "cell_type": "code",
   "execution_count": 13,
   "id": "dbe37a0a-58fb-430c-8a08-5e36c16ac9d7",
   "metadata": {
    "tags": []
   },
   "outputs": [],
   "source": [
    "# Calcul des forces de pression\n",
    "dl = 1 / np.cos(theta) \n",
    "F_px = -np.trapz(P(y) * np.cos(theta) * dl, y)\n",
    "F_py = np.trapz(P(y) * np.sin(theta) * dl, y)\n",
    "\n",
    "# Calcul du poids\n",
    "y_convexe = np.linspace(0, H, 1000)\n",
    "x_convexe = feau(y_convexe)\n",
    "integrale_convexe = np.trapz(y_convexe, x_convexe)\n",
    "volume_convexe = np.fabs(integrale_convexe * L)\n",
    "Poids_convexe = 9.81 * volume_convexe * rho_beton"
   ]
  },
  {
   "cell_type": "markdown",
   "id": "c6972d49-4e3c-4e66-bae9-9719bcc06e97",
   "metadata": {},
   "source": [
    "Ainsi, à l'équilibre mécanique :"
   ]
  },
  {
   "cell_type": "code",
   "execution_count": 14,
   "id": "bb014659-12b5-4560-842c-1c9acf60d272",
   "metadata": {
    "tags": []
   },
   "outputs": [
    {
     "name": "stdout",
     "output_type": "stream",
     "text": [
      "Réaction normale (N) : 8.83e+05 N\n",
      "Réaction tangentielle (T) : 4.90e+05 N\n",
      "Rapport T/N : 0.556\n"
     ]
    }
   ],
   "source": [
    "# Équilibre mécanique\n",
    "N_convexe = Poids_convexe - F_py\n",
    "T_convexe = F_px\n",
    "\n",
    "print(f\"Réaction normale (N) : {N_convexe:.2e} N\")\n",
    "print(f\"Réaction tangentielle (T) : {np.fabs(T_convexe):.2e} N\")\n",
    "print(f\"Rapport T/N : {abs(T_convexe/N_convexe):.3f}\")"
   ]
  },
  {
   "cell_type": "markdown",
   "id": "8653445c-a201-478f-b551-94a7fccb1648",
   "metadata": {},
   "source": [
    "Nous observons que le rapport $\\frac{T}{N}$ est supérieur au coefficient de friction $\\mu$ : la digue est alors instable. Cependant, comme mentionné plus tôt, la valeur de $x_e$ influence cette stabilité. Voyons donc ce qu'il en est pour $x_e = 6$m."
   ]
  },
  {
   "cell_type": "code",
   "execution_count": 15,
   "id": "ed85cc51-cdd9-40fd-a994-91b1ff9fe5b5",
   "metadata": {
    "tags": []
   },
   "outputs": [
    {
     "name": "stdout",
     "output_type": "stream",
     "text": [
      "Réaction normale (N) : 1.08e+06 N\n",
      "Réaction tangentielle (T) : 4.90e+05 N\n",
      "Rapport T/N : 0.455\n"
     ]
    }
   ],
   "source": [
    "# Définition des fonctions\n",
    "def feau_6(y):\n",
    "    a = 3\n",
    "    H = 10\n",
    "    xe = 6\n",
    "    return a * (y / H) ** 2 - (a + xe) * (y / H) + xe\n",
    "\n",
    "def derivee_convexe_6(y):\n",
    "    a = 3\n",
    "    H = 10\n",
    "    xe = 6\n",
    "    return (2 * a * y) / (H**2) - (a + xe)/H\n",
    "\n",
    "y_6 = np.linspace(0, H, 1000)\n",
    "\n",
    "# Calcul des forces de pression\n",
    "theta_6 = np.arctan(derivee_convexe_6(y_6))\n",
    "dl_6 = 1 / np.cos(theta_6) \n",
    "F_px_6 = -np.trapz(P(y_6) * np.cos(theta_6) * dl_6, y_6)\n",
    "F_py_6 = np.trapz(P(y_6) * np.sin(theta_6) * dl_6, y_6)\n",
    "\n",
    "# Calcul du poids\n",
    "x_6 = np.linspace(0, H, 1001)\n",
    "y_6 = feau_6(x_6)\n",
    "integrale_6 = np.trapz(x_6, y_6)\n",
    "volume_6 = np.fabs(integrale_6) * L\n",
    "Poids_6 = 9.81 * volume_6 * rho_beton\n",
    "\n",
    "# Équilibre mécanique\n",
    "N_6 = Poids_6 - F_py_6\n",
    "T_6 = F_px_6\n",
    "\n",
    "print(f\"Réaction normale (N) : {N_6:.2e} N\")\n",
    "print(f\"Réaction tangentielle (T) : {np.fabs(T_6):.2e} N\")\n",
    "print(f\"Rapport T/N : {abs(T_6/N_6):.3f}\")"
   ]
  },
  {
   "cell_type": "markdown",
   "id": "048dd05a-f5cb-4c64-ac70-0cedee5589a4",
   "metadata": {},
   "source": [
    "Nous remarquons que pour $x_e = 6$m, la digue est stable. Elle présente par ailleurs de meilleures performances de stabilité que son homologue linéaire à $x_e=5$m. Il est ainsi utile de représenter graphiquement l'évolution de la stabilité de la digue selon le volume induit par la valeur de $x_e$. Comme la digue est instable pour $x_e=5$m, mais stable pour $x_e=6$m, prenant un grand nombre de valeurs de $x_e$ dans cet intervalle :"
   ]
  },
  {
   "cell_type": "code",
   "execution_count": 16,
   "id": "a98bf3ef-bce1-4b81-a1a5-1276016f38c3",
   "metadata": {
    "tags": []
   },
   "outputs": [],
   "source": [
    "xe_valeurs = np.linspace(5, 6, 1000)\n",
    "y_valeurs = np.linspace(0, H, 1000)\n",
    "xe, y = np.meshgrid(xe_valeurs, y_valeurs, indexing='ij')"
   ]
  },
  {
   "cell_type": "markdown",
   "id": "89063e6a-0f91-40e5-bd12-db06ff842d3f",
   "metadata": {},
   "source": [
    "Définissons ensuite les nouvelles fonctions $f_{eau}$ et $f_{air}$, prenant cette fois-ci en entrée le paramètre $x_e$ :"
   ]
  },
  {
   "cell_type": "code",
   "execution_count": 17,
   "id": "a3d5f34d-120f-460b-b940-a2f4027c1435",
   "metadata": {
    "tags": []
   },
   "outputs": [],
   "source": [
    "def feau_xe(y, xe, a = 3, H = 10):\n",
    "    return a * (y / H) ** 2 - (a + xe) * (y / H) + xe\n",
    "\n",
    "def derivee_convexe_xe(y, xe, a = 3, H = 10):\n",
    "    return (2 * a * y) / (H**2) - (a + xe) / H"
   ]
  },
  {
   "cell_type": "markdown",
   "id": "4b30d60f-8f78-4daa-863a-01e596c9bcef",
   "metadata": {},
   "source": [
    "Dès à présent, nous pouvons calculer les projections des diverses forces exercées sur la digue. Commençons par les forces de pression."
   ]
  },
  {
   "cell_type": "code",
   "execution_count": 18,
   "id": "35a12e8b-7d84-4bab-9084-7723eb25a18b",
   "metadata": {
    "tags": []
   },
   "outputs": [],
   "source": [
    "# Calcul des paramètres de la pente\n",
    "feau_valeurs = feau_xe(y, xe)\n",
    "derivee_valeurs = derivee_convexe_xe(y, xe)\n",
    "theta_valeurs = np.arctan(derivee_valeurs)\n",
    "dl_valeurs = 1 / np.cos(theta_valeurs)"
   ]
  },
  {
   "cell_type": "code",
   "execution_count": 19,
   "id": "379236a0-439c-4191-8b0d-361458ce66c4",
   "metadata": {
    "tags": []
   },
   "outputs": [],
   "source": [
    "# Calcul des forces de pression\n",
    "Px_valeurs = P(y) * np.cos(theta_valeurs) * dl_valeurs\n",
    "Py_valeurs = P(y) * np.sin(theta_valeurs) * dl_valeurs\n",
    "F_px_xe = np.trapz(Px_valeurs, y, axis=1)\n",
    "F_py_xe = np.trapz(Py_valeurs, y, axis=1)"
   ]
  },
  {
   "cell_type": "markdown",
   "id": "0e8620cd-cda8-4c98-8c4d-701ce5fe5c89",
   "metadata": {},
   "source": [
    "Poursuivons avec le calcul du poids."
   ]
  },
  {
   "cell_type": "code",
   "execution_count": 20,
   "id": "eef61455-ae3a-43dc-8268-8fea3e6e4ec5",
   "metadata": {
    "tags": []
   },
   "outputs": [],
   "source": [
    "# Calcul des surfaces et poids\n",
    "integrale_xe = np.trapz(feau_valeurs, y)\n",
    "volume_xe = np.abs(integrale_xe * L)\n",
    "Poids_xe = 9.81 * volume_xe * rho_beton"
   ]
  },
  {
   "cell_type": "markdown",
   "id": "c7c13a66-76c5-4bd1-a3a8-c22d18e7d229",
   "metadata": {},
   "source": [
    "Finalement, appliquons l'hypothèse de l'équilibre statique translationnel pour calculer les normes normales et tangentielles de la réaction du sol, et représentons graphiquement comment le rapport des deux varie selon le volume induit par $x_e$. A titre indicatif, nous tracerons également une droite à $\\frac{T}{N} = 0.5$ afin de représenter la limite de stabilité."
   ]
  },
  {
   "cell_type": "code",
   "execution_count": 21,
   "id": "53d16b9c-2e26-44df-bf64-b1129e69d0da",
   "metadata": {
    "tags": []
   },
   "outputs": [
    {
     "data": {
      "image/png": "[encoded data removed]",
      "text/plain": [
       "<Figure size 640x480 with 1 Axes>"
      ]
     },
     "metadata": {},
     "output_type": "display_data"
    }
   ],
   "source": [
    "stabilite = np.ones_like(volume_xe) * 0.5\n",
    "\n",
    "# Équilibre mécanique\n",
    "N_xe = Poids_xe - F_py_xe\n",
    "T_xe = F_px_xe\n",
    "\n",
    "plt.plot(volume_xe, T_xe / N_xe, label=\"T/N\")\n",
    "plt.plot(volume_xe, stabilite, label=\"Seuil de stabilité\")\n",
    "plt.xlabel(\"Volume total (m3)\")\n",
    "plt.ylabel(\"Rapport T/N\")\n",
    "plt.title(\"Stabilité de la digue\")\n",
    "plt.legend()\n",
    "plt.grid()\n",
    "plt.show()"
   ]
  },
  {
   "cell_type": "markdown",
   "id": "c8a1cc36-4ed1-4413-8378-fa5d17d37b82",
   "metadata": {},
   "source": [
    "Nous observons que la digue convexe est stable pour un volume supérieur à $22.5 m^3$, c'est-à-dire pour $x_e \\geq 5.5$.\n",
    "\n",
    "En conclusion, la forme courbe de l'interface présente plusieurs avantages, permettant la réduction du volume de béton nécessaire à garder la digue en équilibre :\n",
    "- Tout d'abord, une interface courbe permet de mieux répartir les forces hydrauliques sur la structure. Une partie des forces de pression est convertie en une composante verticale, mieux absorbée par le sol ou la fondation de la digue, réduisant ainsi la nécessité d'un volume de béton massif pour résister aux composantes horizontales.\n",
    "- Ensuite, une forme courbe permet de mieux positionner le centre de gravité de la digue, ce qui maximise son effet stabilisateur.\n",
    "- Finalement, une digue avec une interface courbe réduit le bras de levier des forces de pression, diminuant ainsi le moment de basculement : moins de poids est alors nécessaire pour contrebalancer ce moment."
   ]
  }
 ],
 "metadata": {
  "kernelspec": {
   "display_name": "Python 3 (ipykernel)",
   "language": "python",
   "name": "python3"
  },
  "language_info": {
   "codemirror_mode": {
    "name": "ipython",
    "version": 3
   },
   "file_extension": ".py",
   "mimetype": "text/x-python",
   "name": "python",
   "nbconvert_exporter": "python",
   "pygments_lexer": "ipython3",
   "version": "3.9.7"
  }
 },
 "nbformat": 4,
 "nbformat_minor": 5
}
