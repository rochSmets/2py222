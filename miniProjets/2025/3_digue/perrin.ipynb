{
 "cells": [
  {
   "cell_type": "markdown",
   "metadata": {},
   "source": [
    "# Calcul des forces de pression sur une digue\n",
    "\n",
    "Une digue est un petit barrage permettant de retenir une étendue d'eau (mer, lac, rivière) par exemple pour protéger des habitations ou des installations en zone inondable. \n",
    "\n",
    "Dans ce mini-projet vous allez calculer numériquement les forces appliquées à une digue de forme arbitraire."
   ]
  },
  {
   "cell_type": "markdown",
   "metadata": {},
   "source": [
    "![Digue.png](./Digue.png)"
   ]
  },
  {
   "cell_type": "markdown",
   "metadata": {},
   "source": [
    "## Travail à la maison\n",
    "\n",
    "La digue que nous allons modéliser est un bloc de béton (masse volumique : 3000 kg/m$^3$) posé sur le sol rocheux (coefficient de friction statique béton - roche : 0.5). D'un côté la digue retient une masse d'eau de hauteur $H$, l'autre côté étant exposé à l'air. On prendra $H=10$ m dans toute la suite. \n",
    "\n",
    "Pour simplifier, on se placera en deux dimensions (la digue est de longueur unitaire suivant l'axe perpendiculaire au schéma ci-dessus et on ne considérera pas les bords suivant cette direction).\n",
    "\n",
    "De plus on ne considérera que les forces de pressions dues à la hauteur d'eau (la pression de l'air étant négligée)."
   ]
  },
  {
   "cell_type": "markdown",
   "metadata": {},
   "source": [
    "a. Faites un bilan des forces appliquées à la digue en 2D. Quelle force permet à la digue de ne pas glisser sur le sol rocheux ?"
   ]
  },
  {
   "cell_type": "markdown",
   "metadata": {},
   "source": [
    "Bilan des forces: \n",
    "- Poids de la digue\n",
    "- Réaction normale du support\n",
    "- Pression de l'eau\n",
    "- Force de frottement\n",
    "\n",
    "- Force de frottement : f = mu * N "
   ]
  },
  {
   "cell_type": "markdown",
   "metadata": {},
   "source": [
    "b. Rappelez l'expression de la pression hydrostatique dans l'eau $P_{eau} (x)$ en fonction de la hauteur par rapport au sol $x$."
   ]
  },
  {
   "cell_type": "markdown",
   "metadata": {},
   "source": [
    "P = rho * g * x"
   ]
  },
  {
   "cell_type": "markdown",
   "metadata": {},
   "source": [
    "c. Rappelez la (les) équation(s) d'équilibre statique de la digue."
   ]
  },
  {
   "cell_type": "markdown",
   "metadata": {},
   "source": [
    "- Equation dans y : \n",
    "    P + N = 0\n",
    "- Equation dans x : \n",
    "    Pression + frottement = 0"
   ]
  },
  {
   "cell_type": "markdown",
   "metadata": {},
   "source": [
    "### Modélisation"
   ]
  },
  {
   "cell_type": "markdown",
   "metadata": {},
   "source": [
    "Pour considérer une digue de forme arbitraire, on modélisera les pentes côté air et côté eau par des fonctions mathématiques. Dans ce projet nous allons intégrer des fonctions suivant la direction donnée par l'axe vertical $y$. Il sera donc plus pratique de définir les pentes de la digue comme étant $x$ en fonction de $y$ (schéma ci-dessous)."
   ]
  },
  {
   "cell_type": "markdown",
   "metadata": {},
   "source": [
    "![DigueSchema.png](./DigueSchema.png)"
   ]
  },
  {
   "cell_type": "markdown",
   "metadata": {},
   "source": [
    "\n",
    "On définit donc :\n",
    "\n",
    "* une fonction croissante $f_{air}(y)$ représentant l'interface air-béton définie pour $0 \\leq y \\leq H$ et allant de $x_a$ à $0$,\n",
    "* une autre fonction décroissante $f_{eau}(y)$ représentant l'interface eau-béton définie sur le même intervalle et allant de $x_e$ à $0$. \n",
    "\n",
    "On ne considérera ici que des fonctions monotones.\n",
    "\n",
    "On donne l'expression de la courbe côté air pour une digue représentée par une fonction affine :\n",
    "\n",
    "$$\n",
    "f_{air}(y) = -\\frac{x_a}{H}.(y-H)\n",
    "$$\n",
    "\n",
    "d. Donnez l'expression de la fonction côté eau dans le cas d'une fonction affine, et tracez-la avec le code suivant."
   ]
  },
  {
   "cell_type": "markdown",
   "metadata": {},
   "source": [
    "$$\n",
    "f_{eau}(y) = -\\frac{x_e}{H}.(y-H)\n",
    "$$"
   ]
  },
  {
   "cell_type": "code",
   "execution_count": 1,
   "metadata": {
    "tags": []
   },
   "outputs": [],
   "source": [
    "import numpy as np\n",
    "import matplotlib.pyplot as plt"
   ]
  },
  {
   "cell_type": "code",
   "execution_count": 2,
   "metadata": {
    "tags": []
   },
   "outputs": [],
   "source": [
    "# Ce code permet d'afficher les courbes représentant la digue\n",
    "\n",
    "H = 10\n",
    "xa = -5\n",
    "xe = +5\n",
    "rho_eau = 1000\n",
    "rho_beton = 3000\n",
    "g = 9.81"
   ]
  },
  {
   "cell_type": "code",
   "execution_count": 3,
   "metadata": {
    "tags": []
   },
   "outputs": [
    {
     "data": {
      "image/png": "[encoded data removed]",
      "text/plain": [
       "<Figure size 640x480 with 1 Axes>"
      ]
     },
     "metadata": {},
     "output_type": "display_data"
    }
   ],
   "source": [
    "\n",
    "# On définit les fonctions côté eau et côté air, ici les courbes concaves\n",
    "def fair(y):\n",
    "    return -(y - H) * xa / H\n",
    "\n",
    "def feau(y):\n",
    "    return  -(y - H) * xe / H\n",
    "\n",
    "# On crée un tableau de y\n",
    "y = np.linspace(0, H, 1000)\n",
    "\n",
    "# On trace\n",
    "plt.plot(y, fair(y), '-b') \n",
    "plt.plot(y, feau(y), '-b')  ## Décommenter après avoir codé la fonction feau(x)\n",
    " \n",
    "plt.plot([xe, xa], [0, 0], '-b') # Bas de la digue\n",
    "plt.xlabel('y (m)') \n",
    "plt.ylabel('x (m)')\n",
    "plt.text(xe, 8, 'eau')\n",
    "plt.text(xa, 8, 'air')\n",
    "plt.axis('equal') # Permet d'avoir un plot isométrique\n",
    "plt.axhline(0, color = \"black\")\n",
    "plt.axvline(0, color = \"black\")\n",
    "plt.xlim(0, 10)\n",
    "plt.show()"
   ]
  },
  {
   "cell_type": "markdown",
   "metadata": {},
   "source": [
    "## Travail en séance\n",
    "\n",
    "On rappelle que les forces de pression s'exercent perpendiculairement à la surface d'application. Il faut donc pouvoir trouver un vecteur normal à la tangente de ces deux fonctions en tout point, qui sera le vecteur directeur de la force de pression locale."
   ]
  },
  {
   "cell_type": "markdown",
   "metadata": {},
   "source": [
    "![DigueAngles.png](./DigueAngles.png)"
   ]
  },
  {
   "cell_type": "markdown",
   "metadata": {},
   "source": [
    "On rappelle que l'angle $\\theta$ entre la tangente en un point et l'axe des abscisses (voir schéma ci-dessus) est relié à la dérivée de la courbe par :\n",
    "\n",
    "$$\n",
    "tan(\\theta) = f'(y)\n",
    "$$\n",
    "\n",
    "Les vecteurs $\\vec t$ et $\\vec n$ sont alors donnés par :\n",
    "\n",
    "$$\n",
    "\\vec t = \\cos(\\theta).\\vec{u_y} + \\sin(\\theta).\\vec{u_x}\n",
    "$$\n",
    "\n",
    "$$\n",
    "\\vec n =  \\sin(\\theta).\\vec{u_y} - \\cos(\\theta).\\vec{u_x} \n",
    "$$\n"
   ]
  },
  {
   "cell_type": "markdown",
   "metadata": {},
   "source": [
    "Pour pouvoir calculer la résultante des forces de pression sur une surface de forme arbitraire, il nous faut intégrer les forces infinitésimales $\\vec{\\mathrm{d}F}$ s'appliquant à chaque élément de surface $\\mathrm{d}S$. Comme nous sommes en deux dimensions, nous pouvons simplifier le problème en considérant que l'élément de surface est $\\mathrm{d}S = L \\mathrm{d}l$, avec $L = 1$ la longueur unitaire de la digue suivant $z$, ce qui nous ramène à une intégrale 1D (on n'écrira pas $L$ dans la suite).\n",
    "\n",
    "On obtient donc, pour l'interface eau-béton :\n",
    "\n",
    "$$\n",
    "\\vec{F} = \\iint_S \\vec{\\mathrm{d}F} =\\int_0^H P(y) \\mathrm{d}l . \\vec{n}\n",
    "$$\n",
    "\n",
    "avec $\\vec{n}$ le vecteur normal rentrant au point de coordonnées $(f(y),y)$, et $\\mathrm{d}l$ la longueur infinitésimale de la courbe pour une variation $\\mathrm{d}x$. On montre facilement la relation avec l'angle $\\theta$ défini avant :\n",
    "\n",
    "$$\n",
    "\\mathrm{d}l = \\frac{\\mathrm{d}y}{\\cos(\\theta)}\n",
    "$$"
   ]
  },
  {
   "cell_type": "markdown",
   "metadata": {},
   "source": [
    "### Cas des digues en pentes droites\n",
    "\n",
    "a. Calculez le volume de la digue par intégration de la largeur de la digue en fonction de $y$. Comparez avec le calcul analytique (ici, l'aire du triangle multipliée par la longueur $L=1$). En déduire la force de gravité exercée sur la digue."
   ]
  },
  {
   "cell_type": "code",
   "execution_count": 4,
   "metadata": {
    "tags": []
   },
   "outputs": [],
   "source": [
    "# On defini une fonction digue d'intégration par la méthode du point mileu\n",
    "def integration_milieu(fonction, nb_pas, borne_sup, borne_inf=0): \n",
    "    delta_x = (borne_sup - borne_inf) / nb_pas\n",
    "    liste_x = np.linspace(borne_inf + 0.5 * delta_x, borne_sup + 0.5 * delta_x, nb_pas)\n",
    "    f_x = [fonction(x) for x in liste_x]\n",
    "    integrale = np.array(f_x).sum() * delta_x  \n",
    "    return integrale"
   ]
  },
  {
   "cell_type": "code",
   "execution_count": 5,
   "metadata": {
    "tags": []
   },
   "outputs": [
    {
     "data": {
      "text/plain": [
       "24.999750000000002"
      ]
     },
     "execution_count": 5,
     "metadata": {},
     "output_type": "execute_result"
    }
   ],
   "source": [
    "aire_eau = integration_milieu(feau, 100000, 10, 0)\n",
    "aire_eau"
   ]
  },
  {
   "cell_type": "code",
   "execution_count": 6,
   "metadata": {
    "tags": []
   },
   "outputs": [
    {
     "data": {
      "text/plain": [
       "-24.999750000000002"
      ]
     },
     "execution_count": 6,
     "metadata": {},
     "output_type": "execute_result"
    }
   ],
   "source": [
    "aire_air = integration_milieu(fair, 100000, 10, 0)\n",
    "aire_air"
   ]
  },
  {
   "cell_type": "code",
   "execution_count": 7,
   "metadata": {
    "tags": []
   },
   "outputs": [
    {
     "data": {
      "text/plain": [
       "50.0"
      ]
     },
     "execution_count": 7,
     "metadata": {},
     "output_type": "execute_result"
    }
   ],
   "source": [
    "# Calcul de l'aire du triangle\n",
    "aire = 0.5 * (xe - xa) * H\n",
    "aire"
   ]
  },
  {
   "cell_type": "code",
   "execution_count": 8,
   "metadata": {
    "tags": []
   },
   "outputs": [],
   "source": [
    "def poids_digue(aire, rho, g):\n",
    "    return aire * 1 * rho * g"
   ]
  },
  {
   "cell_type": "code",
   "execution_count": 9,
   "metadata": {
    "tags": []
   },
   "outputs": [
    {
     "name": "stdout",
     "output_type": "stream",
     "text": [
      "1471500.0\n"
     ]
    }
   ],
   "source": [
    "poids_digue_droite = poids_digue(aire, rho_beton, g)\n",
    "print(poids_digue_droite)"
   ]
  },
  {
   "cell_type": "markdown",
   "metadata": {},
   "source": [
    "b. Pour le cas des fonctions affines, calculez la résultante (vectorielle ; il y a une composante suivant $x$ et une composante suivant $y$) des forces de pression côté eau. On prendra $x_a = -5$, $x_e = +5$, $H=10$. (On ne cherchera pas à faire le calcul analytique !)"
   ]
  },
  {
   "cell_type": "markdown",
   "metadata": {},
   "source": [
    "On calcule la resultante des forces de pression en considerant n sections de notre volume d'eau qui exercent une pression sur n section de la digue d'interface dl. \n",
    "La force de pression de la section s'approxime par sa pression en son point milieu, Pression =  rho * g * h\n",
    "La résultante est la somme des forces s'appliquant a l'interface"
   ]
  },
  {
   "cell_type": "code",
   "execution_count": 10,
   "metadata": {
    "tags": []
   },
   "outputs": [],
   "source": [
    "def fonction_pression_10(y):\n",
    "        return 10 - y"
   ]
  },
  {
   "cell_type": "code",
   "execution_count": 11,
   "metadata": {},
   "outputs": [],
   "source": [
    "def resultante_pression_x(fonction_pression, fonction_interface, hauteur_eau, g, rho, nb_pas): \n",
    "    ''' Fonction qui calcule la résultante des forces de pression d'un volume d'eau sur l'interface d'une digue '''\n",
    "    resultante_x = -1 * rho * g * integration_milieu(fonction_pression, nb_pas, hauteur_eau)\n",
    "    return resultante_x\n",
    "\n",
    "def resultante_pression_y(fonction_pression, fonction_interface,hauteur_eau, g, rho, nb_pas): \n",
    "    ''' Fonction qui calcule la résultante des forces de pression d'un volume d'eau sur l'interface d'une digue '''\n",
    "    resultante_y = rho * g * integration_milieu(fonction_pression, nb_pas, hauteur_eau) * (fonction_interface(hauteur_eau) - fonction_interface(0)) / hauteur_eau\n",
    "    return resultante_y"
   ]
  },
  {
   "cell_type": "code",
   "execution_count": 12,
   "metadata": {
    "tags": []
   },
   "outputs": [
    {
     "name": "stdout",
     "output_type": "stream",
     "text": [
      "-490499.5095000001\n",
      "-245249.75475000002\n"
     ]
    }
   ],
   "source": [
    "resultante_pression_eau_x = resultante_pression_x(fonction_pression_10, feau, H, g, rho_eau, 1000000)\n",
    "resultante_pression_eau_y = resultante_pression_y(fonction_pression_10, feau, H, g, rho_eau, 1000000)\n",
    "\n",
    "print(resultante_pression_eau_x)\n",
    "print(resultante_pression_eau_y)"
   ]
  },
  {
   "cell_type": "markdown",
   "metadata": {},
   "source": [
    "c. En supposant que la digue est en équilibre statique translationnel, calculez avec le principe fondamental de la dynamique les deux composantes (normale et tangentielle) de la force de réaction du sol, puis le rapport de ces composantes $T/N$. En considérant le coefficient de frottement roche/béton de 0.5, la digue est-elle en équilibre translationnel ?"
   ]
  },
  {
   "cell_type": "code",
   "execution_count": 13,
   "metadata": {
    "tags": []
   },
   "outputs": [],
   "source": [
    "def rapport_reaction(poids_digue, resultante_pression_eau_x, resultante_pression_eau_y): \n",
    "    return abs(resultante_pression_eau_x) / (poids_digue + abs(resultante_pression_eau_y))"
   ]
  },
  {
   "cell_type": "code",
   "execution_count": 14,
   "metadata": {
    "tags": []
   },
   "outputs": [
    {
     "data": {
      "text/plain": [
       "0.2857140408162916"
      ]
     },
     "execution_count": 14,
     "metadata": {},
     "output_type": "execute_result"
    }
   ],
   "source": [
    "rapport_reaction(poids_digue_droite, resultante_pression_eau_x, resultante_pression_eau_y)"
   ]
  },
  {
   "cell_type": "markdown",
   "metadata": {},
   "source": [
    "d. Reprenez le calcul du rapport $T/N$ et du volume de béton en imposant $x_a=-5$ et $x_e=0$. La digue est-elle stable ? (Il sera utile d'écrire une fonction résumant les calculs des questions a. b. c.)"
   ]
  },
  {
   "cell_type": "code",
   "execution_count": 15,
   "metadata": {
    "tags": []
   },
   "outputs": [
    {
     "name": "stdout",
     "output_type": "stream",
     "text": [
      "0.6666726667266674\n"
     ]
    }
   ],
   "source": [
    "xa_new = -5\n",
    "xe_new = 0\n",
    "\n",
    "def fair_new(y):\n",
    "    return -(y - H) * xa_new / H\n",
    "\n",
    "def feau_new(y):\n",
    "    return  -(y - H) * xe_new / H\n",
    "\n",
    "aire_eau = integration_milieu(feau_new, 100000, 10, 0)\n",
    "aire_air = integration_milieu(fair_new, 100000, 10, 0)\n",
    "aire_totale = aire_eau - aire_air\n",
    "\n",
    "volume_digue_new = aire_totale * 1 \n",
    "poids_digue_new = poids_digue(volume_digue_new, rho_beton, g)\n",
    "\n",
    "resultante_pression_eau_x_new = resultante_pression_x(fonction_pression_10, feau_new, 10, g, 1000, 1000000)\n",
    "resultante_pression_eau_y_new = resultante_pression_y(fonction_pression_10, feau_new, 10, g, 1000, 1000000)\n",
    "\n",
    "rapport_reaction_new = rapport_reaction(poids_digue_new, resultante_pression_eau_x_new, resultante_pression_eau_y_new)\n",
    "\n",
    "print(rapport_reaction_new)"
   ]
  },
  {
   "cell_type": "code",
   "execution_count": 16,
   "metadata": {
    "tags": []
   },
   "outputs": [
    {
     "data": {
      "text/plain": [
       "0.0"
      ]
     },
     "execution_count": 16,
     "metadata": {},
     "output_type": "execute_result"
    }
   ],
   "source": [
    "resultante_pression_eau_y_new"
   ]
  },
  {
   "cell_type": "markdown",
   "metadata": {},
   "source": [
    "e. Reprenez le calcul avec $x_a=0$ et $x_e=+5$. Que constatez-vous ? Expliquez pourquoi la digue est stable dans un cas mais pas l'autre."
   ]
  },
  {
   "cell_type": "code",
   "execution_count": 17,
   "metadata": {
    "tags": []
   },
   "outputs": [
    {
     "name": "stdout",
     "output_type": "stream",
     "text": [
      "0.5000033750261564\n"
     ]
    }
   ],
   "source": [
    "xa_new = 0\n",
    "xe_new = 5\n",
    "\n",
    "def fair_new(y):\n",
    "    return -(y - H) * xa_new / H\n",
    "\n",
    "def feau_new(y):\n",
    "    return  -(y - H) * xe_new / H\n",
    "\n",
    "aire_eau = integration_milieu(feau_new, 100000, 10, 0)\n",
    "aire_air = integration_milieu(fair_new, 100000, 10, 0)\n",
    "volume_digue_new = (aire_eau - aire_air) * 1 \n",
    "poids_digue_new = volume_digue_new * rho_beton * g\n",
    "\n",
    "resultante_pression_eau_x_new = resultante_pression_x(fonction_pression_10, feau_new, 10, g, 1000, 1000000)\n",
    "resultante_pression_eau_y_new = resultante_pression_y(fonction_pression_10, feau_new, 10, g, 1000, 1000000)\n",
    "\n",
    "rapport_reaction_new = rapport_reaction(poids_digue_new, resultante_pression_eau_x_new, resultante_pression_eau_y_new)\n",
    "\n",
    "print(rapport_reaction_new)"
   ]
  },
  {
   "cell_type": "markdown",
   "metadata": {},
   "source": [
    "### Commentaire\n",
    "\n",
    "Dans le premier cas, la composante selon y de la pression sur la digue est nulle et la composante selon x est maximale.\n",
    "Dans le second cas, la composante selon y de la pression sur la digue est non-nulle et la composante selon x est moindre.\n",
    "\n",
    "Le poids de la digue est le meme dans les deux cas. \n",
    "\n",
    "Dans le second cas, on a moins de force qui s'applique dans une direction parallèle au sol et plus de force qui s'applique perpendiculairement au sol. \n"
   ]
  },
  {
   "cell_type": "markdown",
   "metadata": {},
   "source": [
    "### Cas des digues convexes\n",
    "\n",
    "On considère maintenant que l'interface entre l'eau et le béton n'est plus une fonction affine mais une fonction de la forme :\n",
    "\n",
    "$$\n",
    "f_{eau} (y)=a \\left(\\frac{y}{H}\\right)^2-(a+x_e)\\left(\\frac{y}{H}\\right) +x_e\n",
    "$$\n",
    "\n",
    "\n",
    "on donne également la dérivée :\n",
    "\n",
    "$$\n",
    "f'_{eau} (y)=\\frac{2ay}{H^2}-\\frac{a+x_e}{H}\n",
    "$$\n",
    "\n",
    "(on peut vérifier aisément que cette fonction relie bien les points de coordonées $[x_e,0]$ et $[0,H]$). Dans la suite nous prendrons $a=3$."
   ]
  },
  {
   "cell_type": "code",
   "execution_count": 18,
   "metadata": {},
   "outputs": [
    {
     "data": {
      "image/png": "[encoded data removed]",
      "text/plain": [
       "<Figure size 640x480 with 1 Axes>"
      ]
     },
     "metadata": {},
     "output_type": "display_data"
    }
   ],
   "source": [
    "# Ce code permet d'afficher les courbes représentant la digue\n",
    "\n",
    "H = 10\n",
    "xe = 5\n",
    "xa = 0\n",
    "\n",
    "# On définit les fonctions côté eau et côté air, ici les courbes concaves\n",
    "a = 3\n",
    "def feau_convexe(y):\n",
    "    return a * (y / H) ** 2 - (a + xe) * (y / H) + xe\n",
    "\n",
    "def f_prime_eau_convexe(y):\n",
    "    return (2 * a * y / H**2) - (a + xe) / H\n",
    "\n",
    "# On crée un tableau de y\n",
    "y = np.linspace(0, H, 1000)\n",
    "\n",
    "# On trace\n",
    "plt.plot(y, fair(y), '-b') \n",
    "plt.plot(y, feau_convexe(y), '-b')  ## Décommenter après avoir codé la fonction feau(x)\n",
    " \n",
    "plt.plot([xe, xa], [0, 0], '-b') # Bas de la digue\n",
    "plt.xlabel('y (m)') \n",
    "plt.ylabel('x (m)')\n",
    "plt.text(xe, 8, 'eau')\n",
    "plt.text(xa, 8, 'air')\n",
    "plt.axis('equal') # Permet d'avoir un plot isométrique\n",
    "plt.axhline(0, color = \"black\")\n",
    "plt.axvline(0, color = \"black\")\n",
    "plt.xlim(0, 10)\n",
    "plt.show()"
   ]
  },
  {
   "cell_type": "markdown",
   "metadata": {},
   "source": [
    "e. Calculez, pour $a=3$, $x_a=0$ et $x_e=5$, la résultante des forces de pression, le volume de béton, et le rapport $T/N$ dans l'hypothèse de l'équilibre statique. La digue est-elle en équilibre translationnel ?"
   ]
  },
  {
   "cell_type": "code",
   "execution_count": 19,
   "metadata": {
    "tags": []
   },
   "outputs": [],
   "source": [
    "def resultante_pression_x_convexe(fonction_pression, fonction_interface, hauteur_eau, g, rho, nb_pas): \n",
    "    ''' Fonction qui calcule la résultante des forces de pression d'un volume d'eau sur l'interface d'une digue '''\n",
    "    resultante_x = -1 * rho * g * integration_milieu(fonction_pression, nb_pas, hauteur_eau)\n",
    "    return resultante_x\n",
    "\n",
    "def resultante_pression_y_convexe(fonction_pression, fonction_interface,hauteur_eau, g, rho, nb_pas): \n",
    "    ''' Fonction qui calcule la résultante des forces de pression d'un volume d'eau sur l'interface d'une digue '''\n",
    "    resultante_y = rho * g * integration_milieu(fonction_pression, nb_pas, hauteur_eau)\n",
    "    return resultante_y"
   ]
  },
  {
   "cell_type": "code",
   "execution_count": 26,
   "metadata": {
    "tags": []
   },
   "outputs": [
    {
     "name": "stdout",
     "output_type": "stream",
     "text": [
      "0.5555588888889194\n"
     ]
    }
   ],
   "source": [
    " \n",
    "H = 10\n",
    "xe = 5\n",
    "xa = 0\n",
    "\n",
    "def fonction_pression_convexe(y):\n",
    "        return (10 - y) * ((2 * a * y / H**2) - (a + xe) / H)\n",
    "\n",
    "def feau_convexe(y):\n",
    "    return a * (y / H) ** 2 - (a + xe) * (y / H) + xe\n",
    "    \n",
    "aire_eau_5 = integration_milieu(feau_convexe, 100000, 10, 0)\n",
    "aire_air_5 = integration_milieu(fair_new, 100000, 10, 0)\n",
    "\n",
    "volume_digue_convexe_5 = (aire_eau_5 - aire_air_5) * 1 \n",
    "poids_digue_convexe_5 = volume_digue_convexe_5 * rho_beton * g\n",
    "\n",
    "resultante_pression_eau_x_convexe_5 = resultante_pression_x_convexe(fonction_pression_10, feau_convexe, 10, g, 1000, 1000000)\n",
    "resultante_pression_eau_y_convexe_5 = resultante_pression_y_convexe(fonction_pression_convexe, feau_convexe, 10, g, 1000, 1000000)\n",
    "\n",
    "rapport_reaction_convexe_5 = rapport_reaction(poids_digue_convexe_5, resultante_pression_eau_x_convexe_5, resultante_pression_eau_y_convexe_5)\n",
    "\n",
    "print(rapport_reaction_convexe_5)"
   ]
  },
  {
   "cell_type": "markdown",
   "metadata": {},
   "source": [
    "f. Reprenons le calcul avec $x_e=6$. La digue est-elle en équilibre ? Comparez avec le cas de la pente affine avec $x_a=0$ et $x_e=5$. Laquelle est la plus favorable ?"
   ]
  },
  {
   "cell_type": "code",
   "execution_count": 27,
   "metadata": {
    "tags": []
   },
   "outputs": [
    {
     "name": "stdout",
     "output_type": "stream",
     "text": [
      "0.4545482438059588\n"
     ]
    }
   ],
   "source": [
    "H = 10\n",
    "xe = 6\n",
    "xa = 0\n",
    "a = 3\n",
    "\n",
    "def fonction_pression_convexe(y):\n",
    "        return (10 - y) * ((2 * a * y / H**2) - (a + xe) / H)\n",
    "\n",
    "# On définit les fonctions côté eau et côté air, ici les courbes concaves\n",
    "\n",
    "def feau_convexe(y):\n",
    "    return a * (y / H) ** 2 - (a + xe) * (y / H) + xe\n",
    "\n",
    "aire_eau_6 = integration_milieu(feau_convexe, 100000, 10, 0)\n",
    "aire_air_6 = integration_milieu(fair_new, 100000, 10, 0)\n",
    "\n",
    "volume_digue_convexe_6 = (aire_eau_6 - aire_air_6) * 1 \n",
    "poids_digue_convexe_6 = volume_digue_convexe_6 * rho_beton * g\n",
    "\n",
    "resultante_pression_eau_x_convexe_6 = resultante_pression_x_convexe(fonction_pression_10, feau_convexe, 10, g, 1000, 1000000)\n",
    "resultante_pression_eau_y_convexe_6 = resultante_pression_y_convexe(fonction_pression_convexe, feau_convexe, 10, g, 1000, 1000000)\n",
    "\n",
    "rapport_reaction_convexe_6 = rapport_reaction(poids_digue_convexe_6, resultante_pression_eau_x_convexe_6, resultante_pression_eau_y_convexe_6)\n",
    "\n",
    "print(rapport_reaction_convexe_6)"
   ]
  },
  {
   "cell_type": "markdown",
   "metadata": {},
   "source": [
    "g. Utilisez une boucle pour calculer le volume et le rapport $T/N$ en faisant varier $x_e$ dans l'intervalle $[5,6]$. On pourra ainsi tracer le rapport $T/N$ en fonction du volume. Déterminez graphiquement le volume minimal pour garder le rapport $T/N$ inférieur à 0.5 dans le cas courbe."
   ]
  },
  {
   "cell_type": "code",
   "execution_count": 30,
   "metadata": {
    "tags": []
   },
   "outputs": [],
   "source": [
    "volume_beton_list = []\n",
    "rapport_list = []\n",
    "\n",
    "for i in np.linspace(5,6,10):\n",
    "    H = 10\n",
    "    xe = i\n",
    "    xa = 0\n",
    "\n",
    "    def fonction_pression_convexe(y):\n",
    "        return (10 - y) * ((2 * a * y / H**2) - (a + xe) / H)\n",
    "        \n",
    "    def feau_convexe(y):\n",
    "        return a * (y / H) ** 2 - (a + xe) * (y / H) + xe\n",
    "\n",
    "    aire_eau = integration_milieu(feau_convexe, 100000, 10, 0)\n",
    "    aire_air = integration_milieu(fair_new, 100000, 10, 0)\n",
    "\n",
    "    volume_digue_convexe = (aire_eau - aire_air) * 1 \n",
    "    poids_digue_convexe = volume_digue_convexe * rho_beton * g\n",
    "\n",
    "    resultante_pression_eau_x_convexe = resultante_pression_x_convexe(fonction_pression_10, feau_convexe, 10, g, 1000, 1000000)\n",
    "    resultante_pression_eau_y_convexe = resultante_pression_y_convexe(fonction_pression_convexe, feau_convexe, 10, g, 1000, 1000000)\n",
    "\n",
    "    rapport_reaction_convexe = rapport_reaction(poids_digue_convexe, resultante_pression_eau_x_convexe, resultante_pression_eau_y_convexe)\n",
    "    \n",
    "    volume_beton_list.append(volume_digue_convexe)\n",
    "    rapport_list.append(rapport_reaction_convexe)\n",
    "    \n",
    "\n",
    "    "
   ]
  },
  {
   "cell_type": "code",
   "execution_count": 35,
   "metadata": {
    "tags": []
   },
   "outputs": [
    {
     "data": {
      "image/png": "[encoded data removed]",
      "text/plain": [
       "<Figure size 640x480 with 1 Axes>"
      ]
     },
     "metadata": {},
     "output_type": "display_data"
    }
   ],
   "source": [
    "# On trace\n",
    "plt.plot(np.linspace(5,6,10), rapport_list, '-b') \n",
    "plt.plot(np.linspace(5,6,10), np.ones(10) * 0.5, '-r')\n",
    "plt.xlabel('xe (m)')\n",
    "plt.ylabel('Rapport T/N')\n",
    "plt.show()"
   ]
  },
  {
   "cell_type": "code",
   "execution_count": 38,
   "metadata": {
    "tags": []
   },
   "outputs": [
    {
     "data": {
      "image/png": "[encoded data removed]",
      "text/plain": [
       "<Figure size 640x480 with 1 Axes>"
      ]
     },
     "metadata": {},
     "output_type": "display_data"
    }
   ],
   "source": [
    "# On trace\n",
    "plt.plot(volume_beton_list, rapport_list, '-b') \n",
    "plt.plot(volume_beton_list, np.ones(10) * 0.5, '-r')\n",
    "plt.xlabel('Volume beton (m3)')\n",
    "plt.ylabel('Rapport T/N')\n",
    "plt.show()"
   ]
  },
  {
   "cell_type": "markdown",
   "metadata": {},
   "source": [
    "On trouve graphiquement que le volume de béton est de 22.5 pour que la digue soit a l'équilibre. "
   ]
  },
  {
   "cell_type": "markdown",
   "metadata": {},
   "source": [
    "h. Expliquez pourquoi la forme courbe de l'interface aide à réduire le volume de béton nécessaire à garder la digue en équilibre."
   ]
  },
  {
   "cell_type": "markdown",
   "metadata": {},
   "source": [
    "L'interface courbée aide à maintenir la stabilité en orientant les forces vers l'intérieur de la digue. Les forces de pression de l'eau sont transmises de manière plus efficace vers la fondation de la digue par rapport a une fonction affine, ce qui renforce l'adhérence au sol et réduit le risque de glissement dela digue. Cela permet donc de réduire le volume de béton nécessaire par rapport a une digue a pente droite. "
   ]
  },
  {
   "cell_type": "markdown",
   "metadata": {},
   "source": [
    "## Parenthèse\n",
    "\n",
    "Nous avons ici omis la deuxième équation d'équilibre statique : le théorème du moment cinétique (ou équilibre du moment des forces dans le cas statique).\n",
    "\n",
    "Pour vérifier que la digue ne bascule pas sous la pression de l'eau, il faudrait en effet vérifier que le moment des forces qui s'applique à la digue soit nul.\n",
    "\n",
    "Pour cela, il faudrait :\n",
    "\n",
    "- trouver le point d'application du poids (le centre de gravité de la digue),\n",
    "- calculer le moment du poids par rapport à un point,\n",
    "- calculer la résultante du moment des forces de pression par rapport au même point,\n",
    "- trouver le point d'application de la réaction du sol qui annule la somme des moments des forces (par rapport à un point quelconque) \n",
    "- vérifier que ce point d'application est bien situé quelque part entre la digue et le sol (sinon la digue bascule...)\n",
    "\n",
    "\n"
   ]
  }
 ],
 "metadata": {
  "kernelspec": {
   "display_name": "Python 3 (ipykernel)",
   "language": "python",
   "name": "python3"
  },
  "language_info": {
   "codemirror_mode": {
    "name": "ipython",
    "version": 3
   },
   "file_extension": ".py",
   "mimetype": "text/x-python",
   "name": "python",
   "nbconvert_exporter": "python",
   "pygments_lexer": "ipython3",
   "version": "3.12.9"
  }
 },
 "nbformat": 4,
 "nbformat_minor": 4
}
