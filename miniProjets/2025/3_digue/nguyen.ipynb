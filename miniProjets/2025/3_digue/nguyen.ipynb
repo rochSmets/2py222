{
 "cells": [
  {
   "cell_type": "markdown",
   "metadata": {},
   "source": [
    "# PROJET FORCES DE PRESSIONS SUR LA DIGUE"
   ]
  },
  {
   "cell_type": "markdown",
   "metadata": {
    "tags": []
   },
   "source": [
    "## I. Introduction"
   ]
  },
  {
   "cell_type": "markdown",
   "metadata": {
    "tags": []
   },
   "source": [
    "Dans ce mini-projet nous allons calculer numériquement les forces de pression appliquées à une digue de forme arbitraire. L'objectif sera de déterminer si ces forces sont trop importantes pour la digue, ce qui engendrerait une rupture de l'équilibre statique.\n",
    "Nous considérons la situation suivante :"
   ]
  },
  {
   "cell_type": "markdown",
   "metadata": {},
   "source": [
    "![Digue.png](./Digue.png)"
   ]
  },
  {
   "cell_type": "markdown",
   "metadata": {
    "tags": []
   },
   "source": [
    "![DigueSchema.png](./DigueSchema.png)"
   ]
  },
  {
   "cell_type": "markdown",
   "metadata": {
    "tags": []
   },
   "source": [
    "## II. Représentation et lois physiques"
   ]
  },
  {
   "cell_type": "markdown",
   "metadata": {},
   "source": [
    "Pour considérer une digue de forme arbitraire, on modélise les pentes côté air et côté eau par des fonctions mathématiques. Dans ce projet nous allons intégrer des fonctions suivant la direction donnée par l'axe vertical $y$. Il sera donc plus pratique de définir les pentes de la digue comme étant $x$ en fonction de $y$ (illustré ci-dessus)."
   ]
  },
  {
   "cell_type": "markdown",
   "metadata": {},
   "source": [
    "La digue que nous modélissons est un bloc de béton posé sur le sol rocheux. D'un côté la digue retient une masse d'eau de hauteur $H$, l'autre côté étant exposé à l'air. On prend $H=10$ m dans toute la suite. \n",
    "\n",
    "Pour simplifier, on considèrera le problème en 2 dimensions : la digue est de longueur unitaire suivant l'axe perpendiculaire au schéma ci-dessus et on ne considérera pas les bords suivant cette direction."
   ]
  },
  {
   "cell_type": "markdown",
   "metadata": {},
   "source": [
    "Pour formuler les équations d'équilibre statique de la digue, nous appliquons le PFD que nous projetons ensuite sur les axes:\n",
    "\n",
    "Forces: \n",
    "\n",
    "-poids $P$ de la digue, dirigé selon $-\\vec{e_y}$ et de norme $P=mg$. \n",
    "\n",
    "-pression de l'eau $P_{eau}$. En tout point de $[H,x_e]$, cette force est normale à la pente, et sa norme de la composante $y$ de la pression est $P_{eau}(y)=P_0+\\rho g h$ avec $P_0=0$ puisqu'on néglige la pression atmosphérique. \n",
    "\n",
    "-force de frottement statique $\\vec{f}$, dirigée selon $\\vec{e_x}$ de composante tangentielle $T$ et normale $N$. \n",
    "\n",
    "Principe fondamental de la dynamique :\n",
    "> $\\vec{P}+\\vec{F_{eau}}+\\vec{f}=\\vec{0}$\n",
    "\n",
    "De plus, l'énoncé fournit le calcul pour la force de pression exercée par l'eau :\n",
    "> $\\vec{F_{eau}} =\\int_0^H P(y) \\mathrm{d}l . \\vec{n}$ avec $\\mathrm{d}l = \\frac{\\mathrm{d}y}{\\cos(\\theta)}$ et $\\vec n = \\sin(\\theta).\\vec{u_y} - \\cos(\\theta).\\vec{u_x} $"
   ]
  },
  {
   "cell_type": "markdown",
   "metadata": {
    "tags": []
   },
   "source": [
    "## III. Modélisation numérique : Digues affines"
   ]
  },
  {
   "cell_type": "code",
   "execution_count": 99,
   "metadata": {},
   "outputs": [],
   "source": [
    "import numpy as np\n",
    "import matplotlib.pyplot as plt\n",
    "import inspect #ce module nous servira à connaître le nombre d'argument que prend en entrée une fonction"
   ]
  },
  {
   "cell_type": "markdown",
   "metadata": {},
   "source": [
    "On affiche les courbes représentant la digue. On commence par initaliser les paramètres important: la hauteur de la digue H et sa largeur entre xa et xe."
   ]
  },
  {
   "cell_type": "code",
   "execution_count": 100,
   "metadata": {
    "tags": []
   },
   "outputs": [],
   "source": [
    "H = 10\n",
    "xa = -5\n",
    "xe = +5"
   ]
  },
  {
   "cell_type": "markdown",
   "metadata": {},
   "source": [
    "On définit les fonctions côté eau et côté air. Dans un premier temps, prenons $f_{air}$ et $f_{eau}$ deux fonctions affines. En particulier, $f_{air}(y) = -\\frac{x_a}{H}.(y-H)$ et $f_{eau}(y) = -\\frac{x_e}{H}.(y-H)$."
   ]
  },
  {
   "cell_type": "code",
   "execution_count": 101,
   "metadata": {
    "tags": []
   },
   "outputs": [],
   "source": [
    "def fair(y, x_a = xa, H = H, d=None, e=None):\n",
    "    return -(y - H) * x_a / H\n",
    "\n",
    "def feau(y, x_e = xe, H = H, d=None, e=None):\n",
    "    return   -(y - H) * x_e / H\n",
    "# On définit 5 paramètres dont 2 inutiles sur ces fonctions afin que le module `inspect` les reconnaissent et qu'elles varient avec xa et xe"
   ]
  },
  {
   "cell_type": "markdown",
   "metadata": {
    "tags": []
   },
   "source": [
    "On affiche la forme de la digue dans le plan (Oxy)."
   ]
  },
  {
   "cell_type": "code",
   "execution_count": 102,
   "metadata": {},
   "outputs": [
    {
     "data": {
      "image/png": "[encoded data removed]",
      "text/plain": [
       "<Figure size 640x480 with 1 Axes>"
      ]
     },
     "metadata": {},
     "output_type": "display_data"
    }
   ],
   "source": [
    "y = np.linspace(0, H, 1000)\n",
    "\n",
    "plt.plot(fair(y), y, '-b') \n",
    "plt.plot(feau(y), y, '-b')  \n",
    " \n",
    "plt.plot([xe, xa], [0, 0], '-b') # Bas de la digue\n",
    "plt.xlabel('x (m)')  \n",
    "plt.ylabel('y (m)')\n",
    "plt.text(xe, 8, 'eau')\n",
    "plt.text(xa, 8, 'air')\n",
    "plt.axis('equal') # Permet d'avoir un plot isométrique\n",
    "plt.axhline(0, color = \"black\")\n",
    "plt.axvline(0, color = \"black\")\n",
    "plt.xlim(-8, 8)\n",
    "plt.show()"
   ]
  },
  {
   "cell_type": "markdown",
   "metadata": {},
   "source": [
    "Afin de calculer la surface de la digue, utile pour le poids notamment, on utilise la fonction qui calcule l'intégrale à partir de la méthode des points milieux. On utilise ici le module `inspect` et l'argument `x_a_ou_e` afin d'adapter la dépendance en xa ou xe des fonctions; certaines n'en dépendent pas tandis que d'autres si. Ce sera utile surtout pour la suite, lorsque l'on fera varier les paramètres xa et xe."
   ]
  },
  {
   "cell_type": "code",
   "execution_count": 103,
   "metadata": {
    "tags": []
   },
   "outputs": [],
   "source": [
    "def int_point_milieu(f, a, b, x_a_ou_e = None, n = 1000):\n",
    "    _delta_x = (b-a)/n\n",
    "    _integrale = 0\n",
    "     \n",
    "    # On vérifie si la fonction f accepte le paramètre x_a_ou_e\n",
    "    signature = inspect.signature(f)\n",
    "    if len(signature.parameters) == 5:\n",
    "        # Si f a 5 paramètres, on reconnait feau et fair qui dépendent de la valeur de xe ou xa\n",
    "        for i in range(n):\n",
    "            x_i = a + (i + 1/2) * _delta_x\n",
    "            y_i = f(x_i, x_a_ou_e) * _delta_x\n",
    "            _integrale += y_i\n",
    "    else :\n",
    "        for i in range(n):\n",
    "            x_i = a + (i+1/2)*_delta_x\n",
    "            y_i = f(x_i) * _delta_x\n",
    "            _integrale += y_i\n",
    "    return _integrale"
   ]
  },
  {
   "cell_type": "code",
   "execution_count": 105,
   "metadata": {
    "tags": []
   },
   "outputs": [
    {
     "name": "stdout",
     "output_type": "stream",
     "text": [
      "le volume de la digue est 50.0 m^3\n",
      "La surface de la digue dans le plan (Oxy) est de 50.0 m²\n"
     ]
    }
   ],
   "source": [
    "# On calcule la surface de la digue dans le plan(Oxy)\n",
    "def surface_digue(fair, feau, x_a = xa, x_e = xe, H = 10):\n",
    "    \"\"\"cette fonction renvoie aussi le volume car la profondeur de la digue (selon l'axe z) est de 1m\n",
    "    et on néglige les effets de bord\"\"\"\n",
    "    _surface_côté_eau = np.abs(int_point_milieu(feau, 0, H, x_e))\n",
    "    _surface_côté_air = np.abs(int_point_milieu(fair, 0, H, x_a))\n",
    "    #valeur absolue car l'intégrale peut être négative\n",
    "    return _surface_côté_eau + _surface_côté_air\n",
    "\n",
    "print(f'le volume de la digue est {surface_digue(fair, feau):.4} m^3')\n",
    "print(f'La surface de la digue dans le plan (Oxy) est de {surface_digue(fair, feau):.4} m²')\n",
    "\n",
    "#on a la même valeur en m^3 ou en m² car la profondeur de la digue suivant l'axe z (perpendiculaire au plan du graphique) est de 1m"
   ]
  },
  {
   "cell_type": "markdown",
   "metadata": {},
   "source": [
    "On calcule le poids de la digue à partir de son volume et de la masse volumique du béton."
   ]
  },
  {
   "cell_type": "code",
   "execution_count": 106,
   "metadata": {
    "tags": []
   },
   "outputs": [
    {
     "name": "stdout",
     "output_type": "stream",
     "text": [
      "La masse de la digue vaut 150000 m^3\n",
      "La norme du poids est donc de 1471500 N\n"
     ]
    }
   ],
   "source": [
    "rho = 3000 # en kg/m^3\n",
    "rho_eau = 1000 # en kg/m^3\n",
    "p_atm = 101325 # en P\n",
    "L = 1 # en m\n",
    "g = 9.81 # en m/s²\n",
    "\n",
    "# On calcule le poids selon y\n",
    "masse = rho*surface_digue(fair, feau)*L\n",
    "poids = -masse*g\n",
    "\n",
    "print(f\"La masse de la digue vaut {masse:.0f} m^3\")\n",
    "print(f\"La norme du poids est donc de {np.abs(poids):.0f} N\")"
   ]
  },
  {
   "cell_type": "markdown",
   "metadata": {},
   "source": [
    "Une fois le poids $\\vec{P}$ de la digue déterminé, on peut calculer les forces de pression de l'eau en les projetant sur les axes $x$ et $y$."
   ]
  },
  {
   "cell_type": "code",
   "execution_count": 107,
   "metadata": {
    "tags": []
   },
   "outputs": [
    {
     "name": "stdout",
     "output_type": "stream",
     "text": [
      "La pression projetée sur l'axe x vaut -490500 N\n",
      "La pression projetée sur l'axe y vaut -245250 N\n"
     ]
    }
   ],
   "source": [
    "def pression_eau_local_ux(y, hauteur = 10):\n",
    "    \"\"\"renvoie la valeur de la pression, projetée selon Ux, en un point y.\"\"\"\n",
    "    return - rho_eau * g * (hauteur - y) \n",
    "\n",
    "def pression_eau_local_uy(y, x_e=xe, hauteur = 10, d=None, e=None):\n",
    "    #-x_e/H correspond à la dérivée de feau dans le cas d'une fonction feau affine \n",
    "    return rho_eau * g * (hauteur - y) * - x_e / H\n",
    "    \n",
    "pression_eau_totale_ux = int_point_milieu(pression_eau_local_ux, 0, H)\n",
    "pression_eau_totale_uy = int_point_milieu(pression_eau_local_uy, 0, H, xe)\n",
    "#on intégre les valeurs locales de pression sur toute la surface\n",
    "\n",
    "print(f\"La pression projetée sur l'axe x vaut {pression_eau_totale_ux: .0f} N\")\n",
    "print(f\"La pression projetée sur l'axe y vaut {pression_eau_totale_uy: .0f} N\")"
   ]
  },
  {
   "cell_type": "markdown",
   "metadata": {},
   "source": [
    "On en déduit les composantes normale et tangentielle de la force de frottement. En effet, ces composantes doivent satisfaire $\\frac{T}{N}\\leqslant \\mu_s$, avec $\\mu_s$ le coefficient de friction statique, afin que cette équation de l'équilibre statique soit vérifiée. Ici, $\\mu_s$ = 0.5"
   ]
  },
  {
   "cell_type": "code",
   "execution_count": 108,
   "metadata": {
    "tags": []
   },
   "outputs": [
    {
     "name": "stdout",
     "output_type": "stream",
     "text": [
      "Le rapport T/N vaut environ 0.286.\n",
      " T =  490500, N =  1716750\n",
      "Le rapport est inférieur au coefficient statique de friction roche-béton. La digue est stable.\n"
     ]
    }
   ],
   "source": [
    "T = -pression_eau_totale_ux\n",
    "#on ne redéfinira plus T par la suite cas sa valeur est indépendante de xe et xa\n",
    "\n",
    "N = -poids - pression_eau_totale_uy\n",
    "\n",
    "print(f\"Le rapport T/N vaut environ {T/N:.3f}.\")\n",
    "print(f\" T = {T: .0f}, N = {N: .0f}\")\n",
    "\n",
    "if T/N < 0.5:\n",
    "    print(\"Le rapport est inférieur au coefficient statique de friction roche-béton. La digue est stable.\")\n",
    "else : \n",
    "    print(\"Le rapport est supérieur au coefficient statique de friction roche-béton. La digue n'est pas stable.\")"
   ]
  },
  {
   "cell_type": "markdown",
   "metadata": {},
   "source": [
    "On a donc $\\frac{T}{N} \\leqslant \\mu_s$ ($\\mu_s=0.5$). La digue est donc en équilibre translationnel.\n",
    "\n",
    "Maintenant nous aimerions savoir si la digue est stable pour n'importe quelle valeur de xa et xe tant que les fonctions modélisant les parois de la digue soient des fonctions affines. Nous codons ainsi une fonction globale qui réutilise toutes celles que nous avons déjà codées."
   ]
  },
  {
   "cell_type": "code",
   "execution_count": 109,
   "metadata": {},
   "outputs": [
    {
     "name": "stdout",
     "output_type": "stream",
     "text": [
      "Le rapport T/N vaut  0.667\n",
      "Le rapport est supérieur au coefficient statique de friction roche-béton. La digue n'est pas stable.\n"
     ]
    }
   ],
   "source": [
    "def equilibre_affine(x_a, x_e):\n",
    "    T = -pression_eau_totale_ux\n",
    "\n",
    "    #on commence par effectuer les changements liés à la nouvelle définition de xe et xa\n",
    "    \n",
    "    #on redéfinit le poids\n",
    "    masse = rho*surface_digue(fair, feau, x_a, x_e)*L\n",
    "    poids = -masse*g\n",
    "    \n",
    "    #on redéfinit la force de pression de l'eau\n",
    "    pression_eau_totale_uy = int_point_milieu(pression_eau_local_uy, 0, H, x_e)\n",
    "    \n",
    "    #on redéfinit la composante de la force de réaction du sol normale, la composante tangentielle ne dépend pas de xe \n",
    "    N = -poids - pression_eau_totale_uy\n",
    "    \n",
    "    print(f'Le rapport T/N vaut {T/N: .3f}')\n",
    "    \n",
    "    if T/N < 0.5:\n",
    "        print(\"Le rapport est inférieur au coefficient statique de friction roche-béton. La digue est stable.\")\n",
    "    else : \n",
    "        print(\"Le rapport est supérieur au coefficient statique de friction roche-béton. La digue n'est pas stable.\")\n",
    "\n",
    "equilibre_affine(-5, 0)"
   ]
  },
  {
   "cell_type": "code",
   "execution_count": 111,
   "metadata": {
    "tags": []
   },
   "outputs": [
    {
     "name": "stdout",
     "output_type": "stream",
     "text": [
      "Le rapport T/N vaut  0.500\n",
      "Le rapport est inférieur au coefficient statique de friction roche-béton. La digue est stable.\n"
     ]
    },
    {
     "data": {
      "image/png": "[encoded data removed]",
      "text/plain": [
       "<Figure size 640x480 with 1 Axes>"
      ]
     },
     "metadata": {},
     "output_type": "display_data"
    }
   ],
   "source": [
    "equilibre_affine(0, 5)\n",
    "# on teste pour xa = 0 et xe = 5\n",
    "\n",
    "plt.plot(fair(y, 5), y, '-b') \n",
    "plt.plot(feau(y, 0), y, '-b')  \n",
    " \n",
    "plt.plot([5, 0], [0, 0], '-b') # Bas de la digue\n",
    "plt.xlabel('x (m)')  \n",
    "plt.ylabel('y (m)')\n",
    "plt.text(5, 8, 'eau')\n",
    "plt.text(-5, 8, 'air')\n",
    "plt.axis('equal') # Permet d'avoir un plot isométrique\n",
    "plt.axhline(0, color = \"black\")\n",
    "plt.xlim(-8, 8)\n",
    "plt.show()"
   ]
  },
  {
   "cell_type": "markdown",
   "metadata": {},
   "source": [
    "Comme la pression de l'air est négligée, la pente du côté air n'a pas d'influence sur la résultante des forces (si ce n'est sur la surface, et donc le poids).\n",
    "Nous remarquons que pour `xa`= 0 et `xe` = 5, la digue est tout juste à l'équilibre. En fait on se rend compte que la forme de la paroi n'est pas optimale. Nous allons maintenant tester avec une forme différente."
   ]
  },
  {
   "cell_type": "markdown",
   "metadata": {
    "tags": []
   },
   "source": [
    "## IV. Modélisation numérique : Digues convexes"
   ]
  },
  {
   "cell_type": "markdown",
   "metadata": {},
   "source": [
    "On considère maintenant que l'interface entre l'eau et le béton n'est plus une fonction affine mais une fonction de la forme :\n",
    "\n",
    "$$\n",
    "f_{eau} (y)=a \\left(\\frac{y}{H}\\right)^2-(a+x_e)\\left(\\frac{y}{H}\\right) +x_e\n",
    "$$\n",
    "\n",
    "\n",
    "dont la fonction dérivée est :\n",
    "\n",
    "$$\n",
    "f'_{eau} (y)=\\frac{2ay}{H^2}-\\frac{a+x_e}{H}\n",
    "$$\n",
    "\n",
    "Dans la suite nous prendrons $a=3$."
   ]
  },
  {
   "cell_type": "code",
   "execution_count": 112,
   "metadata": {
    "tags": []
   },
   "outputs": [],
   "source": [
    "a = 3\n",
    "H = 10\n",
    "xa = -5\n",
    "xe = +5"
   ]
  },
  {
   "cell_type": "markdown",
   "metadata": {
    "tags": []
   },
   "source": [
    "On redéfinit toutes les fonctions qui seront différentes pour des parois convexes"
   ]
  },
  {
   "cell_type": "code",
   "execution_count": 113,
   "metadata": {
    "tags": []
   },
   "outputs": [],
   "source": [
    "def feau_convexe(y, x_e=xe, c=None, d=None, e=None):\n",
    "    return a * (y / H) ** 2 - (a + x_e) * (y / H) + x_e\n",
    "\n",
    "def fair_convexe(y, x_a=xa, c=None, d=None, e=None):\n",
    "    return (H - y) * x_a / H\n",
    "\n",
    "def pression_eau_local_uy_convexe(y, x_e=xe, hauteur = 10, d=None, e=None):\n",
    "    # 2*a * (y / H ** 2) - (a + x_e) / H correspond à la dérivée de feau, donc à tangente(theta) dans le cas d'une fonction feau affine\n",
    "    return rho_eau * g * (hauteur - y) * (2*a * (y / H ** 2) - (a + x_e) / H)"
   ]
  },
  {
   "cell_type": "code",
   "execution_count": 114,
   "metadata": {},
   "outputs": [
    {
     "data": {
      "image/png": "[encoded data removed]",
      "text/plain": [
       "<Figure size 640x480 with 1 Axes>"
      ]
     },
     "metadata": {},
     "output_type": "display_data"
    }
   ],
   "source": [
    "y = np.linspace(0, H, 1000)\n",
    "\n",
    "plt.plot(feau_convexe(y), y, '-b')\n",
    "plt.plot(fair_convexe(y), y, '-b')\n",
    "plt.plot([xe, xa], [0, 0], '-b')\n",
    "plt.xlabel('x (m)')\n",
    "plt.ylabel('y (m)')\n",
    "plt.text(3, 8, 'eau')\n",
    "plt.text(-3, 8, 'air')\n",
    "plt.axis('equal') # Permet d'avoir un plot isométrique\n",
    "plt.axhline(0, color = \"black\")\n",
    "plt.axvline(0, color = \"black\")\n",
    "plt.xlim(-8, 8)\n",
    "plt.show()"
   ]
  },
  {
   "cell_type": "code",
   "execution_count": 115,
   "metadata": {},
   "outputs": [],
   "source": [
    "def equilibre_convexe(x_a, x_e, a = 3):\n",
    "    T = -pression_eau_totale_ux\n",
    "\n",
    "    #on commence par effectuer les changements liés à la nouvelle définition de xe et xa\n",
    "        \n",
    "    #on redéfinit le poids\n",
    "    masse = rho*surface_digue(fair_convexe, feau_convexe, x_a, x_e)*L\n",
    "    poids = -masse*g\n",
    "    \n",
    "    #on redéfinit la force de pression de l'eau\n",
    "    pression_eau_totale_uy_convexe = int_point_milieu(pression_eau_local_uy_convexe, 0, H, x_e)\n",
    "    \n",
    "    #on redéfinit la composante de la force de réaction du sol normale, la composante tangentielle ne dépend pas de xe \n",
    "    N = -poids - pression_eau_totale_uy_convexe\n",
    "    \n",
    "    print(f'Le rapport T/N vaut {T/N: .3f}')\n",
    "    \n",
    "    if T/N < 0.5:\n",
    "        print(\"Le rapport est inférieur au coefficient statique de friction roche-béton. La digue est stable.\")\n",
    "    else : \n",
    "        print(\"Le rapport est supérieur au coefficient statique de friction roche-béton. La digue n'est pas stable.\")\n",
    "    return T/N"
   ]
  },
  {
   "cell_type": "markdown",
   "metadata": {},
   "source": [
    "On teste pour différentes valeurs de `xa` et `xe` en comparant avec une paroi de forme affine."
   ]
  },
  {
   "cell_type": "code",
   "execution_count": 116,
   "metadata": {
    "tags": []
   },
   "outputs": [
    {
     "name": "stdout",
     "output_type": "stream",
     "text": [
      "Le rapport T/N vaut  0.455\n",
      "Le rapport est inférieur au coefficient statique de friction roche-béton. La digue est stable.\n",
      "\n"
     ]
    }
   ],
   "source": [
    "equilibre_convexe(0, 6)\n",
    "print()"
   ]
  },
  {
   "cell_type": "code",
   "execution_count": 117,
   "metadata": {
    "tags": []
   },
   "outputs": [
    {
     "name": "stdout",
     "output_type": "stream",
     "text": [
      "Le rapport T/N vaut  0.455\n",
      "Le rapport est inférieur au coefficient statique de friction roche-béton. La digue est stable.\n",
      "Le rapport T/N vaut  0.500\n",
      "Le rapport est inférieur au coefficient statique de friction roche-béton. La digue est stable.\n"
     ]
    }
   ],
   "source": [
    "equilibre_convexe(0 , 6)\n",
    "equilibre_affine(0, 5)"
   ]
  },
  {
   "cell_type": "code",
   "execution_count": 118,
   "metadata": {
    "tags": []
   },
   "outputs": [
    {
     "name": "stdout",
     "output_type": "stream",
     "text": [
      "le volume de la digue est 25.0 m^3\n",
      "le volume de la digue est 25.0 m^3\n"
     ]
    }
   ],
   "source": [
    "print(f'le volume de la digue est {surface_digue(fair, feau, 0, 5):.4} m^3')\n",
    "print(f'le volume de la digue est {surface_digue(fair_convexe, feau_convexe, 0, 6):.4} m^3')"
   ]
  },
  {
   "cell_type": "markdown",
   "metadata": {},
   "source": [
    "Dans les deux cas, la digue est en équilibre. Cependant, comme $T/N_{affine} > T/N_{convexe}$ pour le même volume ($V=25 \\; m^2$), il est préférable d'utiliser la pente convexe.\n",
    "\n",
    "Nous allons finalement tracer le rapport $T/N$ en fonction du volume. Ainsi, nous pourrons éterminer graphiquement le volume minimal pour garder le rapport $T/N$ inférieur à 0.5 dans le cas courbe."
   ]
  },
  {
   "cell_type": "code",
   "execution_count": 119,
   "metadata": {
    "tags": []
   },
   "outputs": [
    {
     "name": "stdout",
     "output_type": "stream",
     "text": [
      "Le rapport T/N vaut  0.556\n",
      "Le rapport est supérieur au coefficient statique de friction roche-béton. La digue n'est pas stable.\n",
      "Le rapport T/N vaut  0.542\n",
      "Le rapport est supérieur au coefficient statique de friction roche-béton. La digue n'est pas stable.\n",
      "Le rapport T/N vaut  0.529\n",
      "Le rapport est supérieur au coefficient statique de friction roche-béton. La digue n'est pas stable.\n",
      "Le rapport T/N vaut  0.517\n",
      "Le rapport est supérieur au coefficient statique de friction roche-béton. La digue n'est pas stable.\n",
      "Le rapport T/N vaut  0.506\n",
      "Le rapport est supérieur au coefficient statique de friction roche-béton. La digue n'est pas stable.\n",
      "Le rapport T/N vaut  0.495\n",
      "Le rapport est inférieur au coefficient statique de friction roche-béton. La digue est stable.\n",
      "Le rapport T/N vaut  0.484\n",
      "Le rapport est inférieur au coefficient statique de friction roche-béton. La digue est stable.\n",
      "Le rapport T/N vaut  0.474\n",
      "Le rapport est inférieur au coefficient statique de friction roche-béton. La digue est stable.\n",
      "Le rapport T/N vaut  0.464\n",
      "Le rapport est inférieur au coefficient statique de friction roche-béton. La digue est stable.\n",
      "Le rapport T/N vaut  0.455\n",
      "Le rapport est inférieur au coefficient statique de friction roche-béton. La digue est stable.\n"
     ]
    },
    {
     "data": {
      "image/png": "[encoded data removed]",
      "text/plain": [
       "<Figure size 640x480 with 1 Axes>"
      ]
     },
     "metadata": {},
     "output_type": "display_data"
    }
   ],
   "source": [
    "# Pour xe variant de 5 à 6, on calcule la valeur de T/N et du volume de la digue\n",
    "x_e = np.linspace(5,6,10)\n",
    "TN = np.ones(x_e.shape)\n",
    "Volume = np.ones(len(x_e))\n",
    "\n",
    "for i, x_e in enumerate(x_e):\n",
    "    TN[i] = equilibre_convexe(0, x_e)\n",
    "    Volume[i] = surface_digue(fair_convexe, feau_convexe, 0, x_e)\n",
    "\n",
    "# On trace T/N par rapport au volume de la digue\n",
    "plt.plot(Volume,TN)\n",
    "plt.plot(Volume, [0.5 for i in range(len(Volume))], color = \"red\", label = 'Limite de stabilité par le coefficient de friction roche-béton')\n",
    "plt.xlabel(\"Volume [$m^3$]\")\n",
    "plt.ylabel(\"Rapport T/N\")\n",
    "plt.legend()\n",
    "plt.show()"
   ]
  },
  {
   "cell_type": "markdown",
   "metadata": {},
   "source": [
    "Pour que la digue ne cède pas, il faut déterminer le volume minimal tel que $T/N \\leqslant 0.5$. Graphiquement, $V \\in [22,23]$ et vaut environ $22.5 \\; m^3$.\n",
    "\n",
    "La forme convexe de l'interface permet de maximiser la valeur de $\\tan{\\theta}$ et donc de maximiser la force de pression exercée par l'eau selon $y$. En outre, pour une valeur de $x_e$ donnée, le volume associé à une interface convexe est plus faible que celui associé à une interface affine. Nous augmentons la norme de la force de pression de l'eau selon $y$ et nous diminuons le volume de béton utilisé. Cela permet ainsi de créer des digues plus résistantes en utilisant moins de béton."
   ]
  }
 ],
 "metadata": {
  "kernelspec": {
   "display_name": "Python 3 (ipykernel)",
   "language": "python",
   "name": "python3"
  },
  "language_info": {
   "codemirror_mode": {
    "name": "ipython",
    "version": 3
   },
   "file_extension": ".py",
   "mimetype": "text/x-python",
   "name": "python",
   "nbconvert_exporter": "python",
   "pygments_lexer": "ipython3",
   "version": "3.12.9"
  }
 },
 "nbformat": 4,
 "nbformat_minor": 4
}
