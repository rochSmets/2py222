{
 "cells": [
  {
   "cell_type": "markdown",
   "id": "ad009336-ac62-4781-bf37-73b0af3fcb2b",
   "metadata": {},
   "source": [
    "# __Calcul des forces de pression sur une digue__ - Ben Lichtfeld SPRINTB"
   ]
  },
  {
   "cell_type": "markdown",
   "id": "fff08088-0c31-4fbe-9555-235d2e63ea75",
   "metadata": {},
   "source": [
    "## __Introduction__\n",
    "Une digue est une structure permettant de retenir une masse d'eau afin de protéger des infrastructures ou des zones inondables. L'objectif de ce projet est de modéliser numériquement les forces exercées sur une digue de forme arbitraire et de déterminer si elle est en équilibre translationnel. Nous appliquerons cette modélisation à l'interface entre l'eau et le béton pour une pente droite puis pour une forme convexe."
   ]
  },
  {
   "cell_type": "markdown",
   "id": "d9945c10-c9b6-4e59-9e3e-f3bf430a5f26",
   "metadata": {},
   "source": [
    "## __1. Éléments théoriques__  \n",
    "Nous considérons une digue en béton (masse volumique $\\rho_{béton}$ = 3000 kg/m³) posée sur un sol rocheux (coefficient de frottement statique $\\mu$ = 0.5). La digue retient une masse d'eau de hauteur $H$ = 10 m. D'un côté la digue retient la masse d'eau, l'autre côté étant exposé à l'air.\n",
    "\n",
    "__Bilan des forces__  \n",
    "Afin d'étudier l'équilibre de la digue, nous devons tout d'abord effectuer le bilan des forces exercées sur celle-ci.  \n",
    "Les forces suivantes sont appliquées à la digue :\n",
    "- Le poids $\\vec{P}$ : il s'applique au centre de gravité de la digue et est dirigé verticalement vers le bas. Il est donné par $P = \\rho_{béton} V g$ avec $\\rho_{béton} = 3000$ kg/m$^3$, $V$ le volume de la digue, et $g=9.81$ m/s$^2$ l'intensité de pesanteur terrestre.\n",
    "- La force de pression de l'eau $\\vec{F_P}$, dirigée vers l'intérieur de la digue, orthogonale à la surface.\n",
    "- La réaction normale $\\vec{N}$ au sol, dirigée vers le haut.\n",
    "- La réaction tangentielle $\\vec{T}$ au sol (force de frottements) dirigée vers la droite, qui permet à la digue de ne pas glisser.\n",
    "\n",
    "__Équilibre translationnel__\n",
    "Afin que la digue ne glisse pas, la condition d'équilibre translationnel doit être établit.  \n",
    "$$\\sum_i \\vec{F}_i = \\vec{0} \\Leftrightarrow \\vec{P} + \\vec{R} + \\vec{F_P} = \\vec{0} $$ où $\\vec{R} = \\vec{N} + \\vec{T}$  \n",
    "Nous étudierons cette condition pour deux cas possible : lorsque l'interface entre le béton et l'eau est droite, puis lorsqu'elle est courbée (convexe).  \n",
    "On notera $P_{eau}(x)= \\rho g (H-x)$ l'expression de la pression hydrostatique dans l'eau $P_{eau} (x)$ en fonction de la hauteur par rapport au sol $x$.  \n",
    "Nous calculerons numériquement ces différentes forces pour étudier l'équilibre translationnel de la digue."
   ]
  },
  {
   "cell_type": "markdown",
   "id": "ef814b0c-bbd2-4af4-a5d7-abbfcf43f69d",
   "metadata": {
    "tags": []
   },
   "source": [
    "## __2. Hypothèses__\n",
    "Pour simplifier l'étude, nous faisons les hypothèses suivantes :\n",
    "\n",
    "- La digue est modélisée en __deux dimensions__.\n",
    "- La __pression de l'air__ est __négligée__.\n",
    "- L'eau est supposée __incompressible__ et __statique__ (pas d'écoulement).\n",
    "- La __masse volumique du béton__ est __constante__ (béton homogène).\n",
    "- La __surface de la digue__ est modélisée par des __fonctions mathématiques monotones__."
   ]
  },
  {
   "cell_type": "markdown",
   "id": "7e2c27cc-9a43-46d1-adc4-e3bda7010e2c",
   "metadata": {},
   "source": [
    "## __3. Méthode et modélisation__\n",
    "\n",
    "__Objectif__  \n",
    "Le but est d'obtenir les valeurs numériques de la réaction normale et la réaction tangentielle au sol, d'établir leur rapport $T/N$ et de le comparer au coefficient de frottement $\\mu$. En effet, la condition d'équilibre statique impose : $$T\\le N\\mu \\Leftrightarrow \\frac{T}{N}\\le \\mu$$ Si le rapport $T/N$ est plus petit ou égal à $\\mu$, alors la digue est en équilibre translationnel. Sinon, elle ne l'est pas. Pour trouver les expressions de T et N, nous utilisons la condition d'équilibre translationnel établie dans la première partie, qu'on projette sur les axe x et y. Nous pourrons ainsi les exprimer en fonction de la projection du poids et de la projection des forces de pressions appliquées au système. Nous calculerons ces projections à l'aide d'intégrations numériques.\n",
    "\n",
    "__Modélisation__  \n",
    "Pour modéliser une digue de forme arbitraire, nous décrivons les pentes côté air et côté eau à l’aide de fonctions mathématiques exprimant x en fonction de y. Cela nous permet de faciliter l’intégration des forces dans la direction verticale.  \n",
    "On définit donc :\n",
    "\n",
    "- une fonction croissante $f_{air}(y)$ représentant l'interface air-béton définie pour $0 \\leq y \\leq H$ et allant de $x_a$ à $0$,\n",
    "- une autre fonction décroissante $f_{eau}(y)$ représentant l'interface eau-béton définie sur le même intervalle et allant de $x_e$ à $0$. \n",
    "\n",
    "\n",
    "Nous nous limitons ici à des fonctions monotones.\n",
    "\n",
    "Dans le cas où la digue suit une pente linéaire du côté air, la fonction est donnée par : $$\n",
    "f_{air}(y) = -\\frac{x_a}{H}.(y-H)\n",
    "$$  \n",
    "L'interface entre l'eau et le béton sera différent dans les deux cas que nous allons étudier. "
   ]
  },
  {
   "cell_type": "markdown",
   "id": "9c49926d-32d8-40e8-903c-89fcc8abd072",
   "metadata": {},
   "source": [
    "### __3.1 Cas des digues en pentes droites__  \n",
    "Nous considérons d'abord l'interface entre le béton et l'eau comme droite, représentée par la fonction $$\n",
    "f_{air}(y) = -\\frac{x_e}{H}.(y-H)\n",
    "$$  \n",
    "\n",
    "Nous importons d'abord les bibliothèques nécéssaires à notre étude."
   ]
  },
  {
   "cell_type": "code",
   "execution_count": 1,
   "id": "f115c150-d9be-4f53-b198-1be826e1ba40",
   "metadata": {
    "tags": []
   },
   "outputs": [],
   "source": [
    "import numpy as np\n",
    "import matplotlib.pyplot as plt"
   ]
  },
  {
   "cell_type": "code",
   "execution_count": 2,
   "id": "3c89210d-9e2b-46ae-a48a-b45b8f3bd860",
   "metadata": {
    "tags": []
   },
   "outputs": [],
   "source": [
    "# Constantes du pb\n",
    "a = 3\n",
    "H = 10 #hauteur digue en m\n",
    "xa = -5  #côté air m\n",
    "xe = 5 #côté eau m\n",
    "L = 1  #longueur de la digue m\n",
    "g = 9.81 #(m/s^2)\n",
    "rho_eau=1000 #kg/m^3\n",
    "n = 1000 #discrétisation pour toutes les intégrales"
   ]
  },
  {
   "cell_type": "markdown",
   "id": "8b45e6e4-a748-46d2-bd79-c25f69a38fe5",
   "metadata": {},
   "source": [
    "Nous traçons la forme de la digue à l'aide des expressions des deux fonctions que nous avons introduit."
   ]
  },
  {
   "cell_type": "code",
   "execution_count": 3,
   "id": "05b4974a-4cda-450a-ab9f-a675b43c16dd",
   "metadata": {
    "tags": []
   },
   "outputs": [
    {
     "data": {
      "image/png": "[encoded data removed]",
      "text/plain": [
       "<Figure size 640x480 with 1 Axes>"
      ]
     },
     "metadata": {},
     "output_type": "display_data"
    }
   ],
   "source": [
    "# On définit les fonctions côté eau et côté air, ici les courbes concaves\n",
    "def fair(y):\n",
    "    return -(y - H) * xa / H\n",
    "\n",
    "def feau(y):\n",
    "    return  -(y - H) * xe / H\n",
    "\n",
    "# On crée un tableau de y\n",
    "y = np.linspace(0, H, 1000)\n",
    "\n",
    "# On trace\n",
    "plt.plot(fair(y), y, '-b') \n",
    "plt.plot(feau(y), y, '-b')\n",
    " \n",
    "plt.plot([xe, xa], [0, 0], '-b') # Bas de la digue\n",
    "plt.xlabel('x (m)') \n",
    "plt.ylabel('y (m)')\n",
    "plt.text(xe, 8, 'eau')\n",
    "plt.text(xa, 8, 'air')\n",
    "plt.axis('equal') # Permet d'avoir un plot isométrique\n",
    "plt.axhline(0, color = \"black\")\n",
    "plt.axvline(0, color = \"black\")\n",
    "plt.xlim(-8, 8)\n",
    "plt.show()"
   ]
  },
  {
   "cell_type": "markdown",
   "id": "54e3bf12-7e98-4ddd-ba35-cea534ec11d3",
   "metadata": {},
   "source": [
    "#### __Calcul du poids exercée sur la digue__\n",
    "Pour calculer le poids, nous devons connaître la surface de la digue, qui correspond exactement à l'aire sous la courbe de la fonction tracée dessus. Nous calculons cette aire $S$ avec la méthode des trapèzes. Nous obtiendrons ainsi le volume $V$ de la digue en multipliant cette surface par la longueur de la digue $L$=1 m, et nous en déduirons la masse de la digue $m=\\rho_{béton}V$. Pour finir, nous obtiendrons le poids $P=mg$."
   ]
  },
  {
   "cell_type": "code",
   "execution_count": 4,
   "id": "e2167d1a-b4fd-44be-99f2-95ead3badd49",
   "metadata": {
    "tags": []
   },
   "outputs": [],
   "source": [
    "#définition des fonctions\n",
    "def fair(y):\n",
    "    return -(y - H) * xa / H\n",
    "\n",
    "def feau(y):\n",
    "    return xe * (1 - y / H)"
   ]
  },
  {
   "cell_type": "code",
   "execution_count": 5,
   "id": "6d83cccb-d5fe-4335-a106-95a9f92e0f44",
   "metadata": {
    "tags": []
   },
   "outputs": [],
   "source": [
    "def integration_trapeze(f, H, n):\n",
    "    \"\"\"\n",
    "    Approxime l'intégrale de la fonction f sur l'intervalle [0, H]\n",
    "    en utilisant la méthode des trapèzes avec n subdivisions.\n",
    "    \"\"\"\n",
    "    dy = H / n\n",
    "    integral = 0\n",
    "    for i in range(n):\n",
    "        y1 = i * dy\n",
    "        y2 = (i + 1) * dy\n",
    "        integral += (f(y1) + f(y2)) / 2 * dy\n",
    "    return integral"
   ]
  },
  {
   "cell_type": "code",
   "execution_count": 6,
   "id": "55776edd-db32-4337-a686-f3ac63bd607b",
   "metadata": {
    "tags": []
   },
   "outputs": [
    {
     "name": "stdout",
     "output_type": "stream",
     "text": [
      "La surface de la digue vaut 50.000 m^2\n",
      "Le volume de la digue vaut 50.000 m^3\n"
     ]
    }
   ],
   "source": [
    "integrale_air = integration_trapeze(fair, H, n)\n",
    "integrale_eau = integration_trapeze(feau, H, n)\n",
    "\n",
    "# surface et volume\n",
    "surface_droite = np.abs(integrale_air) + np.abs(integrale_eau)\n",
    "volume_droite = L * surface_droite\n",
    "\n",
    "print(f\"La surface de la digue vaut {surface_droite:.3f} m^2\")\n",
    "print(f\"Le volume de la digue vaut {volume_droite:.3f} m^3\")"
   ]
  },
  {
   "cell_type": "markdown",
   "id": "6d5b3ec2-2173-4f7b-a031-54868c406306",
   "metadata": {},
   "source": [
    "La surface est bien conforme à celle théorique attendue qui est $\\frac{Base.Hauteur}{2}$ = 10x10/2 = 50 m$^2$."
   ]
  },
  {
   "cell_type": "code",
   "execution_count": 7,
   "id": "693ca0e6-b65f-4485-854c-0f29643197b3",
   "metadata": {
    "tags": []
   },
   "outputs": [
    {
     "name": "stdout",
     "output_type": "stream",
     "text": [
      "La force de gravité exercée sur la digue vaut -1.47e+06 N selon y.\n"
     ]
    }
   ],
   "source": [
    "#calcul du poids\n",
    "\n",
    "rho_beton= 3000 #kg/m3\n",
    "m = rho_beton*volume_droite #masse de la digue\n",
    "g = 9.81 #intensité de la pesanteur\n",
    "F_g=-m*g #poids selon y\n",
    "\n",
    "print(f\"La force de gravité exercée sur la digue vaut {F_g:.2e} N selon y.\")"
   ]
  },
  {
   "cell_type": "markdown",
   "id": "5350d6e8-ece0-482f-a8d3-17c5b5a96aaa",
   "metadata": {},
   "source": [
    "#### __Calcul des forces de pression__\n",
    "Puisque les forces de pression s'exercent perpendiculairement à la surface d'application, il faut trouver un vecteur normal à la tangente des deux fonctions en tout point, qui sera le vecteur directeur d'une des forces de pression locale.  \n",
    "Ce vecteur normal est donné par $$\n",
    "\\vec n = -\\sin(\\theta).\\vec{u_y} - \\cos(\\theta).\\vec{u_x} \n",
    "$$  \n",
    "\n",
    "L'angle $\\theta$ entre la tangente en un point et l'axe des abscisses est relié à la dérivée de la courbe par :\n",
    "$$\n",
    "tan(\\theta) = f'(y)\n",
    "$$\n",
    "On pourrait trouver la valeur numérique de l'angle $\\theta$, mais il ne nous est pas utile de le faire, nous allons voir pourquoi."
   ]
  },
  {
   "cell_type": "markdown",
   "id": "29d9dc60-e490-4c31-8343-bfa747aaf3ae",
   "metadata": {},
   "source": [
    "On a $$\\vec{F} = \\iint_S \\vec{\\mathrm{d}F} =\\int_0^H P(y) \\mathrm{d}l . \\vec{n}$$\n",
    "Comme $\\mathrm{d}l = \\frac{\\mathrm{d}y}{\\cos(\\theta)}$ et que $\\vec n = -\\sin(\\theta).\\vec{u_y} - \\cos(\\theta).\\vec{u_x} $, on peut réexprimer cette intégrale en termes simples.  \n",
    "**Composante selon $e_x$ :**\n",
    "$$\n",
    "F_{px} = \\int_0^H P(y) \\frac{dy}{\\cos(\\theta)} (-\\cos(\\theta))\n",
    "$$\n",
    "\n",
    "$$\n",
    "F_{px} = -\\int_0^H P(y) dy = -\\rho_{eau} g \\int_0^H  (y-H) dy \n",
    "$$\n",
    "\n",
    "**Composante selon $e_y$ :**\n",
    "$$\n",
    "F_{py} = \\int_0^H P(y) \\frac{dy}{\\cos(\\theta)} (-\\sin(\\theta))\n",
    "$$\n",
    "\n",
    "$$\n",
    "F_{py} = -\\tan(\\theta) \\int_0^H P(y) dy\n",
    "$$\n",
    "\n",
    "Comme $tan(\\theta) = f'(y)$, on a $$F_{py} = \\rho_{eau} g\\frac{x_e}{H} \\int_0^H (y-H) dy$$\n",
    "\n",
    "Nous voyons que l'angle $\\theta$ disparaît naturellement dans les deux composantes. Cela nous permet d'exprimer directement les forces sans avoir besoin de calculer $\\theta$ explicitement.  \n",
    "Calculons ces intégrales à l'aide de la méthode des trapèzes."
   ]
  },
  {
   "cell_type": "code",
   "execution_count": 8,
   "id": "49ef1f82-467a-4fa4-a2fd-11914a024a72",
   "metadata": {
    "tags": []
   },
   "outputs": [],
   "source": [
    "# Fonctions de pression\n",
    "def pression_x(y):\n",
    "    return -rho_eau * g * (y - H)\n",
    "\n",
    "def pression_y(y):\n",
    "    return rho_eau * g * (xe / H) * (y - H)"
   ]
  },
  {
   "cell_type": "code",
   "execution_count": 9,
   "id": "9b208895-d77f-4f40-8ab1-a269790db75d",
   "metadata": {
    "tags": []
   },
   "outputs": [
    {
     "name": "stdout",
     "output_type": "stream",
     "text": [
      "Force F_px : -490500.000 N\n",
      "Force F_py : -245250.000 N\n"
     ]
    }
   ],
   "source": [
    "y = np.linspace(0, H, n)\n",
    "\n",
    "F_px = -np.trapz(pression_x(y), y)  \n",
    "F_py = np.trapz(pression_y(y), y)\n",
    "\n",
    "# Affichage des résultats\n",
    "print(f\"Force F_px : {F_px:.3f} N\")\n",
    "print(f\"Force F_py : {F_py:.3f} N\")\n"
   ]
  },
  {
   "cell_type": "markdown",
   "id": "cd7e7c26-f863-40a2-a669-6fe91f019a43",
   "metadata": {},
   "source": [
    "#### __Condition d'équilibre translationnel__\n",
    "Nous disposons à présent de tous les outils nécessaires pour calculer la réaction normale et la réaction tangentielle au sol.\n",
    "$$\n",
    "\\sum F_x = T + F_{px} = 0 \\Rightarrow T = -F_{px}\n",
    "$$\n",
    "$$\n",
    "\\sum F_y = N + P + F_{py} = 0 \\Rightarrow N = -(P + F_{py})\n",
    "$$\n"
   ]
  },
  {
   "cell_type": "code",
   "execution_count": 10,
   "id": "255ac0e2-eabf-46dd-801b-4d7de6b1aee9",
   "metadata": {
    "tags": []
   },
   "outputs": [
    {
     "name": "stdout",
     "output_type": "stream",
     "text": [
      "Réaction normale du sol : 1.72e+06 N\n",
      "Réaction tangentielle du sol : 4.90e+05 N\n",
      "Rapport T/N : 0.286\n",
      "La digue est en équilibre translationnel.\n"
     ]
    }
   ],
   "source": [
    "mu = 0.5 #coeff de frottement roche/béton\n",
    "\n",
    "#composantes normale et tangentielle de la réaction\n",
    "N = -(F_g + F_py)\n",
    "T = -F_px\n",
    "\n",
    "#vérif de l'équilibre translationnel\n",
    "ratioTN = T / N\n",
    "\n",
    "print(f\"Réaction normale du sol : {N:.2e} N\")\n",
    "print(f\"Réaction tangentielle du sol : {T:.2e} N\")\n",
    "print(f\"Rapport T/N : {ratioTN:.3f}\")\n",
    "\n",
    "if T <= mu*N:\n",
    "    print(\"La digue est en équilibre translationnel.\")\n",
    "else:\n",
    "    print(\"Attention, la digue risque de glisser.\")"
   ]
  },
  {
   "cell_type": "markdown",
   "id": "69d4c1c5-711d-4cd9-ac50-d6cdf069d941",
   "metadata": {},
   "source": [
    "#### __Fonction `digue`__"
   ]
  },
  {
   "cell_type": "markdown",
   "id": "18c16863-921d-4eec-b839-972abb5071d6",
   "metadata": {},
   "source": [
    "Nous allons à présent reprendre tout ce que l'on a fait mais en imposant $x_a=-5$ et $x_e=0$ (digue côté eau enlevée) puis dans un second cas $x_a=0$ et $x_e=+5$ (digue côté air enlevée). Nous créons pour cela une fonction qui nous indiquera si la digue est en équilibre ou non, qui recompile tous les codes établis jusqu'à présent."
   ]
  },
  {
   "cell_type": "code",
   "execution_count": 11,
   "id": "43205cc8-fa3a-443f-87f1-d8ad08289a11",
   "metadata": {
    "tags": []
   },
   "outputs": [],
   "source": [
    "import numpy as np\n",
    "\n",
    "def digue(xa, xe, g=9.81, H=10, rho_eau=1000, L=1, rho_beton=3000, n=1000, mu=0.5):\n",
    "    \"\"\"Calcule et affiche la stabilité de la digue.\"\"\"\n",
    "\n",
    "    # Discrétisation\n",
    "    y = np.linspace(0, H, n)\n",
    "    dy = H / n\n",
    "\n",
    "    # Profils de la digue\n",
    "    fair = lambda y: -(y - H) * xa / H\n",
    "    feau = lambda y: xe * (1 - y / H)\n",
    "\n",
    "    # Intégration par trapèzes\n",
    "    integrale_air = np.trapz(fair(y), y)\n",
    "    integrale_eau = np.trapz(feau(y), y)\n",
    "\n",
    "    # Surface et volume\n",
    "    surface_droite = np.abs(integrale_air) + np.abs(integrale_eau)\n",
    "    volume_digue = L * surface_droite\n",
    "\n",
    "    # Poids de la digue\n",
    "    F_g = -rho_beton * volume_digue * g  \n",
    "\n",
    "    # Pressions de l'eau\n",
    "    pression_x = lambda y: -rho_eau * g * (y - H)\n",
    "    pression_y = lambda y: rho_eau * g * (xe / H) * (y - H)\n",
    "\n",
    "    # Forces de pression par trapèzes\n",
    "    F_px = -np.trapz(pression_x(y), y)\n",
    "    F_py = np.trapz(pression_y(y), y)\n",
    "\n",
    "    # Réactions du sol\n",
    "    N, T = -(F_g + F_py), -F_px\n",
    "    ratio_TN = T / N\n",
    "\n",
    "    #résultat\n",
    "    print(f\"Pour xa = {xa}, xe = {xe}:\")\n",
    "    print(f\"Volume de la digue : {volume_digue:.3f} m^3\")\n",
    "    print(f\"Force de gravité : {F_g:.2e} N selon y\")\n",
    "    print(f\"Force de pression F_px : {F_px:.3f} N selon x\")\n",
    "    print(f\"Force de pression F_py : {F_py:.3f} N selon y\")\n",
    "    print(f\"Réaction normale du sol : {N:.2e} N\")\n",
    "    print(f\"Réaction tangentielle du sol : {T:.2e} N\")\n",
    "    print(f\"Rapport T/N exacte : {ratio_TN}\")\n",
    "    print(f\"Rapport T/N : environ {ratio_TN:.3f}\")\n",
    "    if T <= mu*N:\n",
    "        print(\"La digue est en équilibre translationnel.\")\n",
    "    else:\n",
    "        print(\"Attention, la digue risque de glisser.\")\n",
    "    print(\"\")"
   ]
  },
  {
   "cell_type": "code",
   "execution_count": 12,
   "id": "2883a910-3b91-4d66-aea0-4eeb00cd523a",
   "metadata": {
    "tags": []
   },
   "outputs": [
    {
     "name": "stdout",
     "output_type": "stream",
     "text": [
      "Pour xa = -5, xe = 0:\n",
      "Volume de la digue : 25.000 m^3\n",
      "Force de gravité : -7.36e+05 N selon y\n",
      "Force de pression F_px : -490500.000 N selon x\n",
      "Force de pression F_py : 0.000 N selon y\n",
      "Réaction normale du sol : 7.36e+05 N\n",
      "Réaction tangentielle du sol : 4.90e+05 N\n",
      "Rapport T/N exacte : 0.6666666666666666\n",
      "Rapport T/N : environ 0.667\n",
      "Attention, la digue risque de glisser.\n",
      "\n",
      "Pour xa = 0, xe = 5:\n",
      "Volume de la digue : 25.000 m^3\n",
      "Force de gravité : -7.36e+05 N selon y\n",
      "Force de pression F_px : -490500.000 N selon x\n",
      "Force de pression F_py : -245250.000 N selon y\n",
      "Réaction normale du sol : 9.81e+05 N\n",
      "Réaction tangentielle du sol : 4.90e+05 N\n",
      "Rapport T/N exacte : 0.5\n",
      "Rapport T/N : environ 0.500\n",
      "La digue est en équilibre translationnel.\n",
      "\n"
     ]
    }
   ],
   "source": [
    "# test avec xa = -5 et xe = 0\n",
    "digue(xa=-5, xe=0)\n",
    "\n",
    "#test avec xa = 0 et xe = 5 \n",
    "digue(xa=0, xe=5)"
   ]
  },
  {
   "cell_type": "markdown",
   "id": "b8601063-1673-43fb-817b-e8930cf2bbf1",
   "metadata": {},
   "source": [
    "#### __Analyse du résultat__\n",
    "Intéressons nous d'abord au cas où il n'y a pas de partie de digue côté eau ($x_a=-5$ et $x_e=0$).  \n",
    "L'eau pousse sur une surface verticale. \n",
    "Il n'y a pas de composante verticale de pression exercée sur la digue (car la surface est juste verticale). La réaction normale N est réduite au poids seul, ce qui augmente le rapport T/N (car N est plus faible). Il n'y a pas assez de frottements. Ainsi, la digue risque de glisser.\n",
    "\n",
    "Dans le cas où il n'y a pas de partie de digué côté air ($x_a=0$ et $x_e=+5$), l'eau pousse sur une surface inclinée. La pente côté eau redirige une partie de la pression de l'eau en une force verticale vers le bas.\n",
    "Cette force $F_{py}$ s'ajoute au poids, augmentant la réaction normale N, et donc le frottement. La géométrie inclinée exploite la pression de l'eau pour auto-stabiliser la digue : c'est bien comme cela que les barrages sont construits en général."
   ]
  },
  {
   "cell_type": "markdown",
   "id": "922b6b50-e4c6-4df1-b7b4-95acf095e8b9",
   "metadata": {},
   "source": [
    "### __3.1 Cas des digues convexes__\n",
    "Nous allons à présent nous intéressons aux digues convexes.  \n",
    "On considère maintenant que l'interface entre l'eau et le béton n'est plus une fonction affine mais une fonction de la forme :\n",
    "\n",
    "$$\n",
    "f_{eau} (y)=a \\left(\\frac{y}{H}\\right)^2-(a+x_e)\\left(\\frac{y}{H}\\right) +x_e\n",
    "$$\n",
    "\n",
    "\n",
    "on donne également la dérivée :\n",
    "\n",
    "$$\n",
    "f'_{eau} (y)=\\frac{2ay}{H^2}-\\frac{a+x_e}{H}\n",
    "$$  \n",
    "Voici l'allure de la digue :"
   ]
  },
  {
   "cell_type": "code",
   "execution_count": 13,
   "id": "ad138854-bb49-499e-881d-8c68a267aca0",
   "metadata": {
    "tags": []
   },
   "outputs": [
    {
     "data": {
      "image/png": "[encoded data removed]",
      "text/plain": [
       "<Figure size 640x480 with 1 Axes>"
      ]
     },
     "metadata": {},
     "output_type": "display_data"
    }
   ],
   "source": [
    "xe = 5\n",
    "xa = 0\n",
    "\n",
    "# On définit les fonctions côté eau et côté air, ici les courbes concaves\n",
    "a = 3\n",
    "def feau(y):\n",
    "    return a * (y / H) ** 2 - (a + xe) * (y / H) + xe\n",
    "def fair(y):\n",
    "    return (H - y) * xa / H\n",
    "\n",
    "# On crée un tableau de y\n",
    "y = np.linspace(0, H, 1000)\n",
    "\n",
    "# On trace\n",
    "plt.plot(feau(y), y, '-b')\n",
    "plt.plot(fair(y), y, '-b')\n",
    "plt.plot([xe, xa], [0, 0], '-b')\n",
    "plt.xlabel('x (m)')\n",
    "plt.ylabel('y (m)')\n",
    "plt.text(3, 8, 'eau')\n",
    "plt.text(-3, 8, 'air')\n",
    "plt.axis('equal') # Permet d'avoir un plot isométrique\n",
    "plt.axhline(0, color = \"black\")\n",
    "#plt.axvline(0, color = \"black\")\n",
    "plt.xlim(-8, 8)\n",
    "plt.show()"
   ]
  },
  {
   "cell_type": "markdown",
   "id": "307ad703-e017-4b6e-b680-a57b5cb5e8ad",
   "metadata": {},
   "source": [
    "#### __Fonction `digue_convexe`__\n",
    "À présent, nous allons étudier l'équilibre statique de cette digue de forme convexe. Pour le calcul du poids, le raisonnement reste le même. Egalement, le calcul des forces de pression reste le même sauf que cette fois ci la dérivée de la fonction `feau`change par rapport à la première partie.  \n",
    "Pour un coefficient $a$=3, nous vérifions si l'équilibre translationnel est vérifié pour $x_a$=0 et $x_e$=5."
   ]
  },
  {
   "cell_type": "code",
   "execution_count": 14,
   "id": "30c1c8bd-0a17-4580-acd6-ebcab4fd125e",
   "metadata": {
    "tags": []
   },
   "outputs": [],
   "source": [
    "def digue_convexe(a=3, xa=0, xe=5,g=9.81, H=10, rho_eau=1000, rho_beton=3000, L=1, mu=0.5, n=1000):\n",
    "    \"\"\" Fonction modifiée pour une interface convexe côté eau \"\"\"\n",
    "    #définition fonction convexe\n",
    "    # Discrétisation\n",
    "    y = np.linspace(0, H, n)\n",
    "\n",
    "    # Définition des fonctions\n",
    "    def feau(y):\n",
    "        return a * (y/H)**2 - (a + xe) * (y/H) + xe  \n",
    "\n",
    "    def f_prime_eau(y):\n",
    "        return (2*a*y)/(H**2) - (a + xe)/H  \n",
    "\n",
    "    def fair(y):\n",
    "        return -(y - H) * xa / H  \n",
    "\n",
    "    def pression_x(y):\n",
    "        return rho_eau * g * (H - y)  \n",
    "\n",
    "    def pression_y(y):\n",
    "        return pression_x(y) * f_prime_eau(y)  \n",
    "\n",
    "    def integrale_trapeze(f):\n",
    "        return np.trapz(f(y), y)\n",
    "\n",
    "    # Calcul du volume de la digue\n",
    "    volume_digue = L * np.abs(integrale_trapeze(feau))\n",
    "    F_g = -rho_beton * volume_digue * g \n",
    "    \n",
    "    #méthode trapèze\n",
    "    F_px = -integrale_trapeze(pression_x)\n",
    "    F_py = integrale_trapeze(pression_y)\n",
    "\n",
    "    #composantes normale et tangentielle de la réaction du sol\n",
    "    N = -(F_g + F_py)\n",
    "    T = -F_px\n",
    "\n",
    "    #calcul du rapport T/N\n",
    "    ratio_TN = T / N\n",
    "\n",
    "    #résultat\n",
    "    print(f\"Pour a={a}, xa = {xa}, xe = {xe}:\")\n",
    "    print(f\"Volume de la digue : {volume_digue:.3f} m^3\")\n",
    "    print(f\"Force de gravité : {F_g:.2e} N selon y\")\n",
    "    print(f\"Force de pression F_px : {F_px:.3f} N selon x\")\n",
    "    print(f\"Force de pression F_py : {F_py:.3f} N selon y\")\n",
    "    print(f\"Réaction normale du sol : {N:.2e} N\")\n",
    "    print(f\"Réaction tangentielle du sol : {T:.2e} N\")\n",
    "    print(f\"Rapport T/N exacte : {ratio_TN}\")\n",
    "    print(f\"Rapport T/N : environ {ratio_TN:.3f}\")\n",
    "    if T <= mu*N:\n",
    "        print(\"La digue est en équilibre translationnel.\")\n",
    "    else:\n",
    "        print(\"Attention, la digue risque de glisser.\")\n",
    "    print(\"\")"
   ]
  },
  {
   "cell_type": "code",
   "execution_count": 15,
   "id": "20b40312-0a56-4aa5-a35f-a716fd92e341",
   "metadata": {
    "tags": []
   },
   "outputs": [
    {
     "name": "stdout",
     "output_type": "stream",
     "text": [
      "Pour a=3, xa = 0, xe = 5:\n",
      "Volume de la digue : 20.000 m^3\n",
      "Force de gravité : -5.89e+05 N selon y\n",
      "Force de pression F_px : -490500.000 N selon x\n",
      "Force de pression F_py : -294300.098 N selon y\n",
      "Réaction normale du sol : 8.83e+05 N\n",
      "Réaction tangentielle du sol : 4.90e+05 N\n",
      "Rapport T/N exacte : 0.5555554009255054\n",
      "Rapport T/N : environ 0.556\n",
      "Attention, la digue risque de glisser.\n",
      "\n"
     ]
    }
   ],
   "source": [
    "# Test avec a=3, xa=0, xe=5\n",
    "digue_convexe(a=3, xa=0, xe=5)"
   ]
  },
  {
   "cell_type": "markdown",
   "id": "2275b010-89f0-4f51-a1f8-251b0fe1ee13",
   "metadata": {},
   "source": [
    "La digue n'est donc pas en équilibre translationnel pour ce cas. Si nous changeons $x_e$ à 6m, on a :"
   ]
  },
  {
   "cell_type": "code",
   "execution_count": 16,
   "id": "545aac9e-60e4-4b3b-8805-55279999f939",
   "metadata": {
    "tags": []
   },
   "outputs": [
    {
     "name": "stdout",
     "output_type": "stream",
     "text": [
      "Pour a=3, xa = 0, xe = 6:\n",
      "Volume de la digue : 25.000 m^3\n",
      "Force de gravité : -7.36e+05 N selon y\n",
      "Force de pression F_px : -490500.000 N selon x\n",
      "Force de pression F_py : -343350.098 N selon y\n",
      "Réaction normale du sol : 1.08e+06 N\n",
      "Réaction tangentielle du sol : 4.90e+05 N\n",
      "Rapport T/N exacte : 0.454545351032771\n",
      "Rapport T/N : environ 0.455\n",
      "La digue est en équilibre translationnel.\n",
      "\n"
     ]
    }
   ],
   "source": [
    "# Test avec a=3, xa=0, xe=6\n",
    "digue_convexe(a=3, xa=0, xe=6)"
   ]
  },
  {
   "cell_type": "markdown",
   "id": "a1e1eb40-a939-4ef6-861b-ea5c0266cb48",
   "metadata": {
    "tags": []
   },
   "source": [
    "Cette pente est plus favorable par rapport à la pente affine avec $x_a=0$ et $x_e=5$, bien que la digue ait le même volume. Cela montre que la stabilité n'est pas seulement une question de poids, mais aussi de forme."
   ]
  },
  {
   "cell_type": "markdown",
   "id": "224a6391-df50-404c-81aa-69b405b47643",
   "metadata": {},
   "source": [
    "On reprend le même format que la fonction précédemment établie sauf que cette fois $x_e$ n'est pas fixé et nous retournons la valeur du volume et de T/N."
   ]
  },
  {
   "cell_type": "code",
   "execution_count": 17,
   "id": "aa701670-bac1-40b6-aa83-1e3ccf434df5",
   "metadata": {
    "tags": []
   },
   "outputs": [],
   "source": [
    "def volume_ratio(xe, a=3, H=10, rho_eau=1000, rho_beton=3000, g=9.81, L=1, n=1000):\n",
    "    \"\"\"Calcule le volume et le rapport T/N pour une digue convexe.\"\"\"\n",
    "\n",
    "    # Discrétisation\n",
    "    y = np.linspace(0, H, n)\n",
    "\n",
    "    # Définition des fonctions\n",
    "    def feau(y):\n",
    "        return a * (y/H)**2 - (a + xe) * (y/H) + xe  \n",
    "    \n",
    "    def f_prime_eau(y):\n",
    "        return (2*a*y)/(H**2) - (a + xe)/H  \n",
    "\n",
    "    def pression_x(y):\n",
    "        return rho_eau * g * (H - y)  \n",
    "\n",
    "    def pression_y(y):\n",
    "        return pression_x(y) * f_prime_eau(y)  \n",
    "\n",
    "    def integrale_trapeze(f):\n",
    "        return np.trapz(f(y), y)\n",
    "\n",
    "    # Calcul du volume de la digue\n",
    "    volume_digue = L * np.abs(integrale_trapeze(feau))\n",
    "    F_g = -rho_beton * volume_digue * g  \n",
    "\n",
    "    # Calcul des forces de pression\n",
    "    F_px = -integrale_trapeze(pression_x)\n",
    "    F_py = integrale_trapeze(pression_y)\n",
    "\n",
    "    # Réactions du sol\n",
    "    N = -(F_g + F_py)\n",
    "    T = -F_px\n",
    "    ratio_TN = T / N\n",
    "\n",
    "    return volume_digue, ratio_TN\n"
   ]
  },
  {
   "cell_type": "markdown",
   "id": "0cb5f46e-f907-4bf3-b888-7ff955f7ffcd",
   "metadata": {},
   "source": [
    "On trace ainsi $T/N$ en fonction du volume. Nous pourrons ainsi en déduire quel est le volume minimal nécéssaire pour garder le rapport $T/N$ inférieur ou égal à 0.5 et donc que la condition d'équilibre de la digue soit vérifiée."
   ]
  },
  {
   "cell_type": "code",
   "execution_count": 18,
   "id": "54905b4a-599e-4d8d-a5c0-aa0a37323295",
   "metadata": {
    "tags": []
   },
   "outputs": [
    {
     "data": {
      "image/png": "[encoded data removed]",
      "text/plain": [
       "<Figure size 640x480 with 1 Axes>"
      ]
     },
     "metadata": {},
     "output_type": "display_data"
    }
   ],
   "source": [
    "#boucle sur les xe\n",
    "volumes=[]\n",
    "ratios_TN=[]\n",
    "xe_valeurs=np.linspace(5,6,100)\n",
    "for xe in xe_valeurs :\n",
    "    volume,ratio = volume_ratio(xe)\n",
    "    volumes.append(volume)\n",
    "    ratios_TN.append(ratio)\n",
    "\n",
    "#tracé du graphique\n",
    "plt.plot(volumes,ratios_TN, \"b\")\n",
    "plt.xlabel(\"Volume de la digue (m^3)\")\n",
    "plt.ylabel(\"Rapport T/N\")\n",
    "plt.title(\"Stabilité de la digue convexe en fonction du volume de la digue\")\n",
    "plt.grid()\n",
    "plt.show()"
   ]
  },
  {
   "cell_type": "markdown",
   "id": "1a4486cd-a753-4053-8cb0-3f5400c1b40b",
   "metadata": {},
   "source": [
    "Par lecture graphique, nous voyons donc que le rapport $T/N$ est inférieur ou égal à 0.5 à partir d'un volume de digue de 22.5 m$^3$."
   ]
  },
  {
   "cell_type": "markdown",
   "id": "9cb0af80-0d08-4209-be61-5ad9ea31bdef",
   "metadata": {},
   "source": [
    "#### __Analyse des résultats__\n",
    "Nous allons analyser les résultats donnés par la digue convexe et également comparer en quoi ce type de digue est meilleure que les digues en pentes droites. \n",
    "\n",
    "\n",
    "Avec une __digue convexe__, __la pression est mieux répartie__ car la surface de contact change progressivement avec la hauteur.  \n",
    "Avec ce type de digue, la force $F_{px}$ (horizontale) est moins forte comparée à une digue droite (elle change en fonction d'où elle est appliquée sur la forme).  \n",
    "La force $F_py$ (verticale) en revanche est plus forte, ce qui __augmente la pression du sol__ sur la base de la digue. Cela permet de mieux maintenir la digue au sol. C'est ce qui explique pourquoi nous avons moins besoin de béton pour stabiliser la digue convexe.\n",
    "\n",
    "Pour qu’une digue droite soit stable, il faut qu’elle soit plus lourde (donc plus de béton).  \n",
    "Avec une __digue convexe__, __la pression de l’eau aide naturellement à la stabiliser__, ce qui signifie qu’on n’a pas besoin d’autant de béton pour éviter qu’elle ne glisse.  \n",
    "\n",
    "__Avec une forme convexe, on peut stabiliser la digue avec seulement 22.5 m$^3$ de béton, alors qu’une forme droite en nécessiterait plus.  \n",
    "En clair, les digues convexes sont beaucoup plus utile (et économique) que les digues en pentes droites.__"
   ]
  },
  {
   "cell_type": "markdown",
   "id": "7722ee35-8f49-413f-a284-fefbeb277697",
   "metadata": {},
   "source": [
    "## __Discussion et Conclusion__\n",
    "\n",
    "Cette étude a permis de modéliser numériquement les forces exercées sur une digue et d'évaluer sa stabilité translationnelle. Nous avons analysé deux cas principaux : les digues en pentes droites et les digues convexes.\n",
    "\n",
    "Pour une digue en pentes droites, nous avons observé que la configuration où la pente est du côté de l'eau permet une meilleure stabilisation que lorsque la digue est verticale du côté de l'eau. \n",
    "\n",
    "Dans le cas des digues convexes, la stabilisation se fait grâce à une meilleure répartition des forces de pression de l'eau. La force horizontale est réduite tandis que la force verticale est augmentée, ce qui améliore la réaction normale du sol et limite le risque de glissement. Nous avons déterminé que pour un coefficient de frottement $\\mu$=0.5, un volume de 22.5 m$^3$ est suffisant pour assurer l'équilibre translationnel, alors qu'une digue droite demanderait un volume de béton plus important.\n",
    "\n",
    "Notre modélisation a tout de même des limites : l'eau ne pourrait pas forcément être statique (en cas de fort courant par exemple), la modélisation 2D ne prend pas en compte les effets tridimensionnels,  la densité du béton pourrait varier dans certains cas... Nous aurions pu ajouter une dimension supplémentaire pour affiner le modèle.\n",
    "Egalement, l'extension de l'étude à l'équilibre rotationnel permettrait d'obtenir d'autres conditions sur la stabilité, ce qui n'a pas été fais ici.\n",
    "\n",
    "Pour conclure, notre modélisation met en évidence l'importance de la forme d'une digue afin qu'elle soit stable pour pouvoir retenir de l'eau."
   ]
  }
 ],
 "metadata": {
  "kernelspec": {
   "display_name": "Python 3 (ipykernel)",
   "language": "python",
   "name": "python3"
  },
  "language_info": {
   "codemirror_mode": {
    "name": "ipython",
    "version": 3
   },
   "file_extension": ".py",
   "mimetype": "text/x-python",
   "name": "python",
   "nbconvert_exporter": "python",
   "pygments_lexer": "ipython3",
   "version": "3.12.9"
  }
 },
 "nbformat": 4,
 "nbformat_minor": 5
}
