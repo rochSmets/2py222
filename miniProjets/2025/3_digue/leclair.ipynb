{
 "cells": [
  {
   "cell_type": "markdown",
   "id": "6d509bab-0673-46fa-b1a9-3444dabb5b4f",
   "metadata": {},
   "source": [
    "# Calcul des forces de pression sur une digue\n",
    "\n",
    "Une digue est un petit barrage permettant de retenir une étendue d'eau (mer, lac, rivière) par exemple pour protéger des habitations ou des installations en zone inondable.\\\n",
    "On cherche ici à déterminer la relation entre la géomètrie d'une digue en béton sur de la roche et sa stabilité.\n",
    "![Digue.png](./Digue.png)"
   ]
  },
  {
   "cell_type": "markdown",
   "id": "50cb5deb-9407-427f-aacb-76979b59c32c",
   "metadata": {},
   "source": [
    "On négligera ici la pression de l'air, le bilan des forces donne donc:\n",
    "- Le poids de la digue $m\\vec{g}$ \n",
    "- La réaction verticale du sol $\\vec{R}$ \n",
    "- Les forces de pressions de l'eau $\\vec{P}$ \n",
    "- Les forces de frottements avec le sol $\\vec{f}$ \n",
    "\n",
    "Si on néglige la pression de l'air alors $P(H)=0$, le principe de Pascal nous donne alors $P_{eau}(x)=\\rho_{eau} g(H-x)$.\n",
    "\n",
    "Le principe fondamental de la dynamique à l'équilibre donne (avec $(Ox)$ l'axe des abscisse sur le schéma et $(Oy)$ celui des ordonnées):\\\n",
    "$$m\\vec{g}+\\vec{R}+\\vec{P}+\\vec{f}=\\vec{0}$$\n",
    "\n",
    "$$\\Rightarrow -mg\\vec{e_y}+R\\vec{e_y}-P\\vec{e_x}+f\\vec{e_x}=\\vec{0}$$\n",
    "\n",
    "Sur $\\vec{e_y}$:\n",
    "\n",
    "$$mg=R$$\n",
    "\n",
    "Sur $\\vec{e_x}$:\n",
    "\n",
    "$$P=f$$\n",
    "\n",
    "A l'équilibre le poids et la réaction du support se compensent, les forces de pressions et de frottements aussi."
   ]
  },
  {
   "cell_type": "markdown",
   "id": "cd3f0b41-9525-4417-b7b5-c63161244493",
   "metadata": {},
   "source": [
    "Pour considérer une digue de forme arbitraire, on modélisera les pentes côté air et côté eau par des fonctions mathématiques. Dans ce projet nous allons intégrer des fonctions suivant la direction donnée par l'axe vertical $y$. Il sera donc plus pratique de définir les pentes de la digue comme étant $x$ en fonction de $y$ (schéma ci-dessous).\n",
    "![DigueSchema.png](./DigueSchema.png)"
   ]
  },
  {
   "cell_type": "markdown",
   "id": "c769b15d-cb12-433f-8917-1ada8a322c43",
   "metadata": {},
   "source": [
    "\n",
    "On définit donc :\n",
    "\n",
    "* une fonction croissante $f_{air}(y)$ représentant l'interface air-béton définie pour $0 \\leq y \\leq H$ et allant de $x_a$ à $0$,\n",
    "* une autre fonction décroissante $f_{eau}(y)$ représentant l'interface eau-béton définie sur le même intervalle et allant de $x_e$ à $0$. \n",
    "\n",
    "On ne considérera ici que des fonctions monotones.\n",
    "\n",
    "On donne l'expression de la courbe côté eau pour une digue représentée par une fonction affine :\n",
    "\n",
    "$$\n",
    "f_{air}(y) = -\\frac{x_a}{H}.(y-H)\n",
    "$$ \n",
    "\n",
    "$$\n",
    "f_{eau}(y)= -\\frac{x_e}{H}.(y-H)\n",
    "$$"
   ]
  },
  {
   "cell_type": "code",
   "execution_count": 1,
   "id": "67befe9d-1222-45da-af36-1a5012473709",
   "metadata": {
    "tags": []
   },
   "outputs": [],
   "source": [
    "import numpy as np\n",
    "import matplotlib.pyplot as plt"
   ]
  },
  {
   "cell_type": "code",
   "execution_count": 2,
   "id": "16527f1e-7daf-4aee-a920-1bdbfeb296ee",
   "metadata": {
    "tags": []
   },
   "outputs": [],
   "source": [
    "def Kn(f,x):\n",
    "    \"\"\" Renvoie l'intégrale d'une fonction f entre x[0] et x[-1]\n",
    "        (x doit être un array numpy ou une liste)\n",
    "        selon la méthode des trapèzes\n",
    "    \"\"\"\n",
    "    n=int(len(x)/5) #le choix du 5 est purement arbitraire\n",
    "    delta=(x[-1]-x[0])/n\n",
    "    K=np.zeros(n)\n",
    "    for i in range(n):\n",
    "        x_i=x[0]+i*delta\n",
    "        x_iplus1=x_i+delta\n",
    "        K[i]=(1/2)*(f(x_i)+f(x_iplus1))*delta\n",
    "    return K.sum()"
   ]
  },
  {
   "cell_type": "code",
   "execution_count": 3,
   "id": "49e8cd45-7262-43e9-946c-10280066a91d",
   "metadata": {
    "tags": []
   },
   "outputs": [],
   "source": [
    "#Constantes\n",
    "H = 10\n",
    "xa = -5\n",
    "xe = +5\n",
    "rho=1000 #Masse volumique de l'eau en kg/m^3\n",
    "g=9.81\n",
    "rho_b=3000 #Masse volumique du béton en kg/m^3"
   ]
  },
  {
   "cell_type": "code",
   "execution_count": 4,
   "id": "1e5c6e84-25a4-46b2-b92c-004287d080f2",
   "metadata": {
    "tags": []
   },
   "outputs": [
    {
     "data": {
      "image/png": "[encoded data removed]",
      "text/plain": [
       "<Figure size 640x480 with 1 Axes>"
      ]
     },
     "metadata": {},
     "output_type": "display_data"
    }
   ],
   "source": [
    "# Ce code permet d'afficher les courbes représentant la digue\n",
    "# On définit les fonctions côté eau et côté air, ici les courbes concaves\n",
    "\n",
    "def fair(y):\n",
    "    return -(y - H) * xa / H\n",
    "\n",
    "def feau(y):\n",
    "    return -(y - H) * xe / H\n",
    "\n",
    "\n",
    "y = np.linspace(0, H, 1000)\n",
    "\n",
    "\n",
    "plt.plot(fair(y), y, '-b') \n",
    "plt.plot(feau(y), y, '-b')\n",
    " \n",
    "plt.plot([xe, xa], [0, 0], '-b') # Bas de la digue\n",
    "plt.xlabel('x (m)') \n",
    "plt.ylabel('y (m)')\n",
    "plt.text(xe, 8, 'eau')\n",
    "plt.text(xa, 8, 'air')\n",
    "plt.axis('equal') # Permet d'avoir un plot isométrique\n",
    "plt.axhline(0, color = \"black\")\n",
    "plt.axvline(0, color = \"black\")\n",
    "plt.xlim(-8, 8)\n",
    "plt.show()"
   ]
  },
  {
   "cell_type": "markdown",
   "id": "52f02510-5fc4-4cd0-b4b9-9524c3ff478d",
   "metadata": {
    "tags": []
   },
   "source": [
    "On cherche un vecteur directeur aux forces de pressions (qui sont perpendiculaires à la surface)."
   ]
  },
  {
   "cell_type": "markdown",
   "id": "2530caf4-6f71-4813-9859-cf79c78fcb2d",
   "metadata": {},
   "source": [
    "\n",
    "![DigueAngles.png](./DigueAngles.png)"
   ]
  },
  {
   "cell_type": "markdown",
   "id": "0a9a311c-12c6-4ccf-8d05-930b3a936d54",
   "metadata": {},
   "source": [
    "L'angle $\\theta$ entre la tangente en un point et l'axe des abscisses (voir schéma ci-dessus) est relié à la dérivée de la courbe par :\n",
    "\n",
    "$$\n",
    "tan(\\theta) = f'(y)\n",
    "$$\n",
    "\n",
    "Les vecteurs $\\vec t$ et $\\vec n$ sont alors donnés par :\n",
    "\n",
    "$$\n",
    "\\vec t = \\cos(\\theta).\\vec{u_y} + \\sin(\\theta).\\vec{u_x}\n",
    "$$\n",
    "\n",
    "$$\n",
    "\\vec n = \\sin(\\theta).\\vec{u_y} - \\cos(\\theta).\\vec{u_x} \n",
    "$$"
   ]
  },
  {
   "cell_type": "markdown",
   "id": "e43ab58f-7939-44a0-bf98-cfd6ec39a3f6",
   "metadata": {},
   "source": [
    "Pour pouvoir calculer la résultante des forces de pression sur une surface de forme arbitraire, il nous faut intégrer les forces infinitésimales $\\vec{\\mathrm{d}F}$ s'appliquant à chaque élément de surface $\\mathrm{d}S$. Comme nous sommes en deux dimensions, nous pouvons simplifier le problème en considérant que l'élément de surface est $\\mathrm{d}S = L \\mathrm{d}l$, avec $L = 1$ la longueur unitaire de la digue suivant $z$, ce qui nous ramène à une intégrale 1D (on n'écrira pas $L$ dans la suite).\n",
    "\n",
    "On obtient donc, pour l'interface eau-béton :\n",
    "\n",
    "$$\n",
    "\\vec{F} = \\iint_S \\vec{\\mathrm{d}F} =\\int_0^H P(y) \\mathrm{d}l . \\vec{n}\n",
    "$$\n",
    "\n",
    "avec $\\vec{n}$ le vecteur normal rentrant au point de coordonnées $(f(y),y)$, et $\\mathrm{d}l$ la longueur infinitésimale de la courbe pour une variation $\\mathrm{d}x$. On montre facilement la relation avec l'angle $\\theta$ défini avant :\n",
    "\n",
    "$$\n",
    "\\mathrm{d}l = \\frac{\\mathrm{d}y}{\\cos(\\theta)}\n",
    "$$"
   ]
  },
  {
   "cell_type": "markdown",
   "id": "7de50575-7566-4047-9121-fe2b266f8cf2",
   "metadata": {},
   "source": [
    "### Cas des digues en pentes droites"
   ]
  },
  {
   "cell_type": "markdown",
   "id": "b74b78f7-0f8d-484c-b487-c44562075a79",
   "metadata": {},
   "source": [
    "Le volume est donné par:\n",
    "$$V=\\frac{1}{2}(x_e-x_a) \\int_0^H  \\mathrm{d}y$$ où $l$ est la longueur le long de l'axe perpendiculaire au schéma (longueur unitaire).\\\n",
    "$\\rho_{béton}$ est constante,  $x_e-x_a=10\\ m$ et $H=10\\ m$, on a donc $V=50\\ m^3$. "
   ]
  },
  {
   "cell_type": "code",
   "execution_count": 5,
   "id": "2070de86-154b-44a2-800a-b3d487a3ba66",
   "metadata": {
    "tags": []
   },
   "outputs": [
    {
     "name": "stdout",
     "output_type": "stream",
     "text": [
      "La valeur trouvée du volume est 50.0 m^3, la différence avec la valeur analytique est de 0.0 m^3.\n"
     ]
    }
   ],
   "source": [
    "xa = -5\n",
    "xe = +5\n",
    "\n",
    "V=(1/2)*1*(xe-xa)*Kn(lambda y: 1,y) #lambda y: 1 est la fonction constante à 1\n",
    "\n",
    "print(f\"La valeur trouvée du volume est {V} m^3, la différence avec la valeur analytique est de {V-50} m^3.\")"
   ]
  },
  {
   "cell_type": "markdown",
   "id": "cbf06bff-acd5-4feb-aab6-02b647cb07be",
   "metadata": {},
   "source": [
    "$$\n",
    "\\vec{F} = \\int_0^H P(y) \\frac{\\mathrm{d}y}{cos(\\theta)} .(sin\\theta \\ \\vec{u_y} - cos\\theta \\ \\vec{u_x}) = \\int_0^H P(y) \\mathrm{d}y .(tan\\theta \\ \\vec{u_y} - \\vec{u_x})\n",
    "$$\n",
    "D'où:\n",
    "$$ \\vec{F} = \\int_0^H P(y)\\ (f'(y) \\ \\vec{u_y} - \\vec{u_x})\\ \\mathrm{d}y $$"
   ]
  },
  {
   "cell_type": "code",
   "execution_count": 6,
   "id": "b5ea7100-adf7-48d6-8664-6b5ce328fc7d",
   "metadata": {
    "tags": []
   },
   "outputs": [
    {
     "name": "stdout",
     "output_type": "stream",
     "text": [
      "Les valeurs des composantes des résultantes des forces de pressions exercées par l'eau sont, selon y, -245250.00 N et, selon x, -490500.00 N.\n"
     ]
    }
   ],
   "source": [
    "def P(y):\n",
    "    \"\"\" Retourne la pression de l'eau\n",
    "        en fonction de y (un array numpy)\n",
    "    \"\"\"\n",
    "    return rho*g*(H-y)\n",
    "\n",
    "f_prime=lambda y: -xe/H #Donne la fonction constante de la dérivée de la fonction côté eau\n",
    "\n",
    "Pf_prime=lambda y: P(y)*f_prime(y)\n",
    "\n",
    "Fy=Kn(Pf_prime,y)\n",
    "Fx=-Kn(P,y)\n",
    "\n",
    "print(f\"Les valeurs des composantes des résultantes des forces de pressions exercées par l'eau sont, selon y, {Fy:.2f} N et, selon x, {Fx:.2f} N.\")"
   ]
  },
  {
   "cell_type": "markdown",
   "id": "ba77b4e8-15d8-4418-a730-937b357ea962",
   "metadata": {},
   "source": [
    "Pour avoir équilibre statique on doit avoir:\n",
    "$$\\left| \\dfrac{T}{N}\\right| \\le \\mu$$\n",
    "où $T$, $N$ sont respectivement les composantes tangentielles et normales de la force de réaction du sol\\\n",
    "$\\mu=0.5$ est le coeffecient de frottements statiques.\\\n",
    "Ici $T$ et $N$ sont de mêmes signes, on peut oublier la valeur absolue."
   ]
  },
  {
   "cell_type": "code",
   "execution_count": 7,
   "id": "c32c0ff9-44a5-4d4a-a6ff-835b581baa60",
   "metadata": {
    "tags": []
   },
   "outputs": [
    {
     "name": "stdout",
     "output_type": "stream",
     "text": [
      "Le rapport trouvée est de 0.29, le coefficient de frottements statique roche-béton est de 0.5. La digue est bien en équilibre translationnel.\n"
     ]
    }
   ],
   "source": [
    "N=rho_b*V*g-Fy #N=mg-Fy\n",
    "T=-Fx #T=-Fx\n",
    "\n",
    "if T/N<=0.5:\n",
    "    print(f\"Le rapport trouvée est de {T/N:.2f}, le coefficient de frottements statique roche-béton est de 0.5. La digue est bien en équilibre translationnel.\")\n",
    "else:\n",
    "    print(f\"Le rapport trouvée est de {T/N:.2f}, le coefficient de frottements statique roche-béton est de 0.5. La digue n'est pas en équilibre translationnel.\")"
   ]
  },
  {
   "cell_type": "markdown",
   "id": "6c220423-90e9-413f-9a8c-27a8e793a216",
   "metadata": {},
   "source": [
    "On reprend le calcul avec $x_e=0$ et $x_a=-5$: "
   ]
  },
  {
   "cell_type": "code",
   "execution_count": 8,
   "id": "fb4e4615-c4a4-4441-b0a7-9847aa955dc1",
   "metadata": {
    "tags": []
   },
   "outputs": [
    {
     "name": "stdout",
     "output_type": "stream",
     "text": [
      "Le rapport trouvée est de 0.67, le coefficient de frottements statique roche-béton est de 0.5. La digue n'est pas en équilibre translationnel.\n"
     ]
    }
   ],
   "source": [
    "xa=-5\n",
    "xe=0\n",
    "\n",
    "V=(1/2)*1*(xe-xa)*Kn(lambda y: 1,y)\n",
    "\n",
    "Fy=Kn(Pf_prime,y)\n",
    "Fx=-Kn(P,y)\n",
    "\n",
    "N=rho_b*V*g-Fy\n",
    "T=-Fx\n",
    "\n",
    "if T/N<=0.5:\n",
    "    print(f\"Le rapport trouvée est de {T/N:.2f}, le coefficient de frottements statique roche-béton est de 0.5. La digue est bien en équilibre translationnel.\")\n",
    "else:\n",
    "    print(f\"Le rapport trouvée est de {T/N:.2f}, le coefficient de frottements statique roche-béton est de 0.5. La digue n'est pas en équilibre translationnel.\")"
   ]
  },
  {
   "cell_type": "markdown",
   "id": "08df8a98-2b20-49d6-af77-85cec4dc4753",
   "metadata": {},
   "source": [
    "On reprend encore une fois le calcul mais avec $x_e=5$ et $x_a=0$:"
   ]
  },
  {
   "cell_type": "code",
   "execution_count": 9,
   "id": "03bd313f-6cd2-4555-99a3-8b9520666f25",
   "metadata": {
    "tags": []
   },
   "outputs": [
    {
     "name": "stdout",
     "output_type": "stream",
     "text": [
      "Le rapport trouvée est de 0.50, le coefficient de frottements statique roche-béton est de 0.5. La digue est bien en équilibre translationnel.\n"
     ]
    }
   ],
   "source": [
    "xa=0\n",
    "xe=5\n",
    "\n",
    "V=(1/2)*1*(xe-xa)*Kn(lambda y: 1,y)\n",
    "\n",
    "Fy=Kn(Pf_prime,y)\n",
    "Fx=-Kn(P,y)\n",
    "\n",
    "N=rho_b*V*g-Fy\n",
    "T=-Fx\n",
    "\n",
    "if T/N<=0.5:\n",
    "    print(f\"Le rapport trouvée est de {T/N:.2f}, le coefficient de frottements statique roche-béton est de 0.5. La digue est bien en équilibre translationnel.\")\n",
    "else:\n",
    "    print(f\"Le rapport trouvée est de {T/N:.2f}, le coefficient de frottements statique roche-béton est de 0.5. La digue n'est pas en équilibre translationnel.\")"
   ]
  },
  {
   "cell_type": "markdown",
   "id": "0217d7f4-4a6e-4555-bd3e-fa88cdb5e75b",
   "metadata": {},
   "source": [
    "Dans ces deux cas on a plus qu'un triangle rectangle pour la digue, cependant dans le deuxième cas\\\n",
    "la bas du triangle rectangle est du côté de l'eau.\\\n",
    "Cela implique que les forces de pressions selon $\\vec{e_y}$ ne sont pas nulles et donc pas entièrement selon $\\vec{u_x}$, ce qui permet d'alléger la\\\n",
    "quantité de force que la réaction tangentielle du sol doit compenser."
   ]
  },
  {
   "cell_type": "markdown",
   "id": "5b391004-09ed-4f7b-aa6e-f111d7f39800",
   "metadata": {},
   "source": [
    "### Cas des digues convexes\n",
    "\n",
    "On considère maintenant que l'interface entre l'eau et le béton n'est plus une fonction affine mais une fonction de la forme :\n",
    "\n",
    "$$\n",
    "f_{eau} (y)=a \\left(\\frac{y}{H}\\right)^2-(a+x_e)\\left(\\frac{y}{H}\\right) +x_e\n",
    "$$\n",
    "\n",
    "\n",
    "on donne également la dérivée :\n",
    "\n",
    "$$\n",
    "f'_{eau} (y)=\\frac{2ay}{H^2}-\\frac{a+x_e}{H}\n",
    "$$\n",
    "\n",
    "(on peut vérifier aisément que cette fonction relie bien les points de coordonées $[x_e,0]$ et $[0,H]$). Dans la suite nous prendrons $a=3$."
   ]
  },
  {
   "cell_type": "code",
   "execution_count": 10,
   "id": "ba6ba3e1-bccc-4f24-89be-25522fda5dff",
   "metadata": {
    "tags": []
   },
   "outputs": [
    {
     "data": {
      "image/png": "[encoded data removed]",
      "text/plain": [
       "<Figure size 640x480 with 1 Axes>"
      ]
     },
     "metadata": {},
     "output_type": "display_data"
    }
   ],
   "source": [
    "# Ce code permet d'afficher les courbes représentant la digue\n",
    "\n",
    "H = 10\n",
    "xe = 5\n",
    "xa = 0\n",
    "\n",
    "# On définit les fonctions côté eau et côté air, ici les courbes concaves\n",
    "a = 3\n",
    "def feau(y):\n",
    "    return a * (y / H) ** 2 - (a + xe) * (y / H) + xe\n",
    "def fair(y):\n",
    "    return (H - y) * xa / H\n",
    "\n",
    "# On crée un tableau de y\n",
    "y = np.linspace(0, H, 1000)\n",
    "\n",
    "# On trace\n",
    "plt.plot(feau(y), y, '-b')\n",
    "plt.plot(fair(y), y, '-b')\n",
    "plt.plot([xe, xa], [0, 0], '-b')\n",
    "plt.xlabel('x (m)')\n",
    "plt.ylabel('y (m)')\n",
    "plt.text(3, 8, 'eau')\n",
    "plt.text(-3, 8, 'air')\n",
    "plt.axis('equal') # Permet d'avoir un plot isométrique\n",
    "plt.axhline(0, color = \"black\")\n",
    "#plt.axvline(0, color = \"black\")\n",
    "plt.xlim(-8, 8)\n",
    "plt.show()"
   ]
  },
  {
   "cell_type": "markdown",
   "id": "27738ab1-bdf7-427d-93b6-d81053ccc141",
   "metadata": {},
   "source": [
    "On calcule ici le volume de la digue.\\\n",
    "On intègre selon $(Oy)$ et $(Oz)$:\n",
    "$$V=\\iint f_{eau}(y)\\  \\mathrm{d}y \\ \\mathrm{d}z$$\n",
    "$$V=L \\int_0^H a \\left(\\frac{y}{H}\\right)^2-(a+x_e)\\left(\\frac{y}{H}\\right) +x_e \\  \\mathrm{d}y$$\n",
    "D'où:\n",
    "$$V=LH(\\frac{a}{3} - \\frac{a+x_e}{2} + x_e)$$"
   ]
  },
  {
   "cell_type": "markdown",
   "id": "39465833-d6a4-4abd-807e-ee315e0a4b00",
   "metadata": {},
   "source": [
    "On re-calcule le rapport $\\frac{T}{N}$ avec $a=3$, $x_a=0$ et $x_e=5$:"
   ]
  },
  {
   "cell_type": "code",
   "execution_count": 11,
   "id": "6dff57c1-3966-4cbe-ac95-1cb8e3c5348e",
   "metadata": {
    "tags": []
   },
   "outputs": [
    {
     "name": "stdout",
     "output_type": "stream",
     "text": [
      "Le rapport trouvée est de 0.56, le coefficient de frottements statique roche-béton est de 0.5. La digue n'est pas en équilibre translationnel.\n"
     ]
    }
   ],
   "source": [
    "V=H*(a/3 - (a+xe)/2 + xe)\n",
    "\n",
    "def f_prime(y):\n",
    "    return (2*a*y)/H**2 - (a+xe)/H\n",
    "\n",
    "Fy=Kn(Pf_prime,y)\n",
    "Fx=-Kn(P,y)\n",
    "\n",
    "N=rho_b*V*g-Fy\n",
    "T=-Fx\n",
    "\n",
    "if T/N<=0.5:\n",
    "    print(f\"Le rapport trouvée est de {T/N:.2f}, le coefficient de frottements statique roche-béton est de 0.5. La digue est bien en équilibre translationnel.\")\n",
    "else:\n",
    "    print(f\"Le rapport trouvée est de {T/N:.2f}, le coefficient de frottements statique roche-béton est de 0.5. La digue n'est pas en équilibre translationnel.\")"
   ]
  },
  {
   "cell_type": "markdown",
   "id": "829a68bd-f757-4faa-9841-fefb9d06d475",
   "metadata": {},
   "source": [
    "On fait la même chose avec $x_e=6$:"
   ]
  },
  {
   "cell_type": "code",
   "execution_count": 12,
   "id": "eae1c3f6-a4c1-49ae-a2c6-a09d74144a7a",
   "metadata": {
    "tags": []
   },
   "outputs": [
    {
     "name": "stdout",
     "output_type": "stream",
     "text": [
      "Le rapport trouvée est de 0.45, le coefficient de frottements statique roche-béton est de 0.5. La digue est bien en équilibre translationnel.\n"
     ]
    }
   ],
   "source": [
    "xe=6\n",
    "V=H*(a/3 - (a+xe)/2 + xe)\n",
    "\n",
    "def f_prime(y):\n",
    "    return (2*a*y)/H**2 - (a+xe)/H\n",
    "\n",
    "Fy=Kn(Pf_prime,y)\n",
    "Fx=-Kn(P,y)\n",
    "\n",
    "N=rho_b*V*g-Fy\n",
    "T=-Fx\n",
    "if T/N<=0.5:\n",
    "    print(f\"Le rapport trouvée est de {T/N:.2f}, le coefficient de frottements statique roche-béton est de 0.5. La digue est bien en équilibre translationnel.\")\n",
    "else:\n",
    "    print(f\"Le rapport trouvée est de {T/N:.2f}, le coefficient de frottements statique roche-béton est de 0.5. La digue n'est pas en équilibre translationnel.\")"
   ]
  },
  {
   "cell_type": "markdown",
   "id": "570c4759-e06a-48cd-91f0-1e3d8b205356",
   "metadata": {},
   "source": [
    "On va maintenant calculer ce rapport pour un certain nombre de valeurs de $x_e \\in [5,6]$\\\n",
    "afin de déterminer la valeur minimale du volume pour que la digue soit en équilibre translationnel.\\\n",
    "\\\n",
    "En effet plus $x_e$ est grand plus la courbe est applatie, ainsi plus $x_e$ est grand plus la composante selon $(Oy)$ des forces de pressions est grande.\\\n",
    "De cette manière la réaction normale du sol compense une plus grande partie des forces de pression, or la limite de cette composante de la réaction du sol est plus importante que celle tangentielle, avoir une digue plus applatie permet donc une plus grande résistance.\\\n",
    "Un plus grand $x_e$ correspond aussi à un plus grand volume pour un même $H$, un plus grand volume permet donc une plus grande résistance aux forces de pressions et une plus grande masse.\\\n",
    "Cela correspond donc à un plus grand $N$ et donc un plus petit rapport $\\left |\\frac{T}{N}\\right |$."
   ]
  },
  {
   "cell_type": "code",
   "execution_count": 13,
   "id": "b10ac3ec-0cbd-457d-bfbc-61515db1116e",
   "metadata": {
    "tags": []
   },
   "outputs": [
    {
     "data": {
      "image/png": "[encoded data removed]",
      "text/plain": [
       "<Figure size 640x480 with 1 Axes>"
      ]
     },
     "metadata": {},
     "output_type": "display_data"
    }
   ],
   "source": [
    "xe=np.linspace(5,6,1000)\n",
    "T_N=[]\n",
    "V=[]\n",
    "for x in xe:\n",
    "    v=H*(a/3 - (a+x)/2 + x)\n",
    "    V.append(v)\n",
    "\n",
    "    def f_prime(y):\n",
    "        return (2*a*y)/H**2 - (a+x)/H\n",
    "\n",
    "    Fy=Kn(Pf_prime,y)\n",
    "    Fx=-Kn(P,y)\n",
    "\n",
    "    N=rho_b*v*g-Fy\n",
    "    T=-Fx\n",
    "    T_N.append(T/N)\n",
    "\n",
    "\n",
    "plt.plot(V,T_N)\n",
    "plt.plot(np.linspace(20,30,1000),np.linspace(0.5,0.5,1000), \"--k\", linewidth=1) #ligne à 0.5\n",
    "plt.xlabel(\"Volume ($m^3$)\")\n",
    "plt.ylabel(\"Rapport T/N\")\n",
    "plt.title(\"Rapport T/N en fonction du volume\")\n",
    "plt.show()"
   ]
  },
  {
   "cell_type": "code",
   "execution_count": 14,
   "id": "d44aebc8-eaf4-4932-a1a7-d49a0ab25eae",
   "metadata": {
    "tags": []
   },
   "outputs": [
    {
     "name": "stdout",
     "output_type": "stream",
     "text": [
      "La valeur minimale de V pour laquelle le rapport T/N passe en dessous de 0.5 est de 22.50 m^3.\n"
     ]
    }
   ],
   "source": [
    "#On cherche la limite de V à partir de laquelle T/N <= 0.5\n",
    "Diff=(abs(np.array(T_N)-0.5)) #Différence (en valeur absolue) entre \n",
    "Index=np.where(Diff==Diff.min())[0][0]\n",
    "\n",
    "print(f\"La valeur minimale de V pour laquelle le rapport T/N passe en dessous de 0.5 est de {V[Index]:.2f} m^3.\")"
   ]
  },
  {
   "cell_type": "markdown",
   "id": "90af4281-28e2-4fe6-ae56-497debd5ed42",
   "metadata": {},
   "source": [
    "## __Conclusion__\n",
    "\n",
    "En conclusion un volume plus important permet un meilleur équilibre.\\\n",
    "On trouve comme valeur minimale pour le volume de $V=22.5\\ m^3$ pour l'équilibre translationnelle d'un digue en béton sur de la roche d'une hauteur $H=10\\ m$."
   ]
  }
 ],
 "metadata": {
  "kernelspec": {
   "display_name": "Python 3 (ipykernel)",
   "language": "python",
   "name": "python3"
  },
  "language_info": {
   "codemirror_mode": {
    "name": "ipython",
    "version": 3
   },
   "file_extension": ".py",
   "mimetype": "text/x-python",
   "name": "python",
   "nbconvert_exporter": "python",
   "pygments_lexer": "ipython3",
   "version": "3.12.9"
  }
 },
 "nbformat": 4,
 "nbformat_minor": 5
}
