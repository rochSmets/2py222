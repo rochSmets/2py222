{
 "cells": [
  {
   "cell_type": "markdown",
   "metadata": {},
   "source": [
    "# Mouvement rétrograde de Mars\n",
    "\n"
   ]
  },
  {
   "cell_type": "markdown",
   "metadata": {},
   "source": [
    "Tous les deux ans, si l'on regarde la position de Mars depuis la Terre par rapport à la voûte céleste, la planète rouge semble faire un bref demi-tour, avant de repartir dans le même sens. Ce mouvement rétrograde est observé depuis l'antiquité.\n",
    "\n",
    "Le but de ce mini-projet est de construire un modèle reproduisant ce phénomène."
   ]
  },
  {
   "cell_type": "markdown",
   "metadata": {},
   "source": [
    "## À la maison"
   ]
  },
  {
   "cell_type": "markdown",
   "metadata": {},
   "source": [
    "Rappelez les équations du mouvement $X(t),Y(t)$ pour un mouvement circulaire uniforme de rayon $R$, de période $T$ et de phase à l'origine $\\phi$. "
   ]
  },
  {
   "cell_type": "markdown",
   "metadata": {},
   "source": [
    "Réponse : $X(t) = R \\cos (\\frac{2 \\pi t}{T} + \\phi)$ et $Y(t) = R \\sin (\\frac{2 \\pi t}{T} + \\phi)$"
   ]
  },
  {
   "cell_type": "markdown",
   "metadata": {},
   "source": [
    "Dans quelle direction (quel angle par rapport à la direction de l'axe $X$) pointe l'objet à la date $t=0$ ?"
   ]
  },
  {
   "cell_type": "markdown",
   "metadata": {},
   "source": [
    "Réponse : $\\phi$"
   ]
  },
  {
   "cell_type": "markdown",
   "metadata": {},
   "source": [
    "## Données\n",
    "\n",
    "Le fichier DataMars.csv contient les coordonnées (longitude et latitude) de la position de Mars par rapport au centre de la Terre en fonction de la date entre 2015 et 2017. Notons que la latitude est définie ici par rapport au plan de l'écliptique. \n",
    "\n",
    "Le centre de la boucle peut s'observer à la date du 25 mai 2016, à la longitude de 240.5°.\n",
    "\n",
    "\n",
    "\n",
    ">**NOTE**  \n",
    ">Pour lire fichier csv, on peut utiliser la fonction `read_csv` du module Pandas, en utilisant l'option `comment = '#'`\n",
    "\n",
    "\n",
    "*(DataMars.csv a été construit à partir des données de http://vo.imcce.fr/webservices/miriade/?forms)*\n",
    "\n",
    "\n",
    "## Modèle\n",
    "\n",
    "Vous allez utiliser un modèle bidimensionnel du mouvement de la Terre et de Mars autour du Soleil. On considérera le mouvement des deux planètes comme circulaire uniforme et contenu dans le plan de l'écliptique."
   ]
  },
  {
   "cell_type": "markdown",
   "metadata": {},
   "source": [
    "Ce modèle vous permettra de calculer la longitude de Mars vue depuis la Terre (i.e. l'angle $\\phi_{app}$ dans le réferentiel géocentrique) en fonction du temps.\n",
    "\n",
    ">**NOTE**  \n",
    ">La fonction `numpy.arctan(y / x)` donnant un résultat entre $-\\frac{\\pi}{2}$ et $\\frac{\\pi}{2}$, nous vous conseillons de lui préférer la fonction `numpy.arctan2(y, x)` qui donne un résultat entre $-\\pi$ et $\\pi$.\n",
    "\n",
    "Vous pourrez ensuite comparer le modèle (longitude calculée) aux données astronomiques (longitude mesurée).\n",
    "\n",
    ">**INDICE**  \n",
    ">Le mouvement rétrograde apparent s'observe quand, dans le réferentiel héliocentrique, la Terre \"dépasse\" Mars. Au \"milieu\" du mouvement rétrograde la Terre et Mars sont donc dans la même direction par rapport au Soleil (Soleil, Terre et Mars sont alignés). En choisissant judiciseusement la date $t=0$ et la phase à l'origine pour les deux planètes, on peut faire coïncider le modèle aux données à cet instant.\n",
    "\n",
    "\n",
    "### Grandeurs utiles :\n",
    "\n",
    "Rayon de l'orbite de la Terre : 1 UA  \n",
    "Période de révolution de la Terre : 365.256 jours  \n",
    "Rayon de l'orbite de Mars : 1.52371 UA  \n",
    "Période de révolution de Mars : 686.885 jours\n",
    "\n",
    "\n",
    "## Méthodes\n",
    "\n",
    "Vous allez utiliser une représentation graphique pour illustrer votre modèle. Pour cela, il faut représenter sur un graphique à la fois les données et le modèle. Vous prendrez un soin particulier pour que le graphique soit lisible et compréhensible."
   ]
  },
  {
   "cell_type": "markdown",
   "metadata": {},
   "source": [
    "### Importation des libs"
   ]
  },
  {
   "cell_type": "code",
   "execution_count": 1,
   "metadata": {},
   "outputs": [],
   "source": [
    "import pandas as pd\n",
    "import numpy as np\n",
    "import matplotlib.pyplot as plt"
   ]
  },
  {
   "cell_type": "markdown",
   "metadata": {},
   "source": [
    "### Définition des paramètres"
   ]
  },
  {
   "cell_type": "code",
   "execution_count": 2,
   "metadata": {},
   "outputs": [],
   "source": [
    "T_E = 365      # période de révolution de la Terre\n",
    "R_E = 1        # Rayon de la Terre\n",
    "T_M = 687      # Période de révolution de Mars\n",
    "R_M = 1.52371  # Rayon de Mars"
   ]
  },
  {
   "cell_type": "markdown",
   "metadata": {},
   "source": [
    "### Extraction des données du fichier `csv`"
   ]
  },
  {
   "cell_type": "code",
   "execution_count": 3,
   "metadata": {},
   "outputs": [],
   "source": [
    "df = pd.read_csv('DataMars.csv',comment='#')        # définition du dataFrame\n",
    "date = np.array(df['Date'], dtype='datetime64[D]')  # extraction dans un np.array de la Serie des dates\n",
    "long_data= np.array(df['Longitude (decimal)'])      # extraction dans un np.array de la Serie des longitudes"
   ]
  },
  {
   "cell_type": "code",
   "execution_count": 4,
   "metadata": {},
   "outputs": [],
   "source": [
    "num_of_date = date.size"
   ]
  },
  {
   "cell_type": "markdown",
   "metadata": {},
   "source": [
    "### Création des longitudes analytiques"
   ]
  },
  {
   "cell_type": "code",
   "execution_count": 5,
   "metadata": {},
   "outputs": [],
   "source": [
    "def coords(t, R, T, phi):\n",
    "    \"\"\"retourne les X et Y de la position de l'objet\"\"\"\n",
    "    return [R * np.cos(2*np.pi*t/T + phi), R * np.sin(2*np.pi*t/T + phi)]"
   ]
  },
  {
   "cell_type": "code",
   "execution_count": 6,
   "metadata": {},
   "outputs": [],
   "source": [
    "phi = 240.5*(np.pi/180)   # Valeur de la phase déterminée par essai-erreur"
   ]
  },
  {
   "cell_type": "code",
   "execution_count": 7,
   "metadata": {},
   "outputs": [],
   "source": [
    "date_start = -506  # valeur de l'origine des temps déterminé par essai-erreur\n",
    "date_end   =  494  # valeur du temp final par essai erreur"
   ]
  },
  {
   "cell_type": "code",
   "execution_count": 8,
   "metadata": {},
   "outputs": [],
   "source": [
    "times = np.linspace(date_start, date_end, num_of_date)"
   ]
  },
  {
   "cell_type": "code",
   "execution_count": 9,
   "metadata": {},
   "outputs": [],
   "source": [
    "X_T, Y_T = coords(times, R_E, T_E, phi)\n",
    "X_M, Y_M = coords(times, R_M, T_M, phi)"
   ]
  },
  {
   "cell_type": "code",
   "execution_count": 10,
   "metadata": {},
   "outputs": [],
   "source": [
    "long_model = np.arctan2(Y_M-Y_T,X_M-X_T)*(180/np.pi) + 360"
   ]
  },
  {
   "cell_type": "code",
   "execution_count": 11,
   "metadata": {},
   "outputs": [
    {
     "data": {
      "text/plain": [
       "<matplotlib.legend.Legend at 0x7efd2d53f080>"
      ]
     },
     "execution_count": 11,
     "metadata": {},
     "output_type": "execute_result"
    },
    {
     "data": {
      "image/png": "[encoded data removed]",
      "text/plain": [
       "<Figure size 640x480 with 1 Axes>"
      ]
     },
     "metadata": {},
     "output_type": "display_data"
    }
   ],
   "source": [
    "plt.xlabel('Dates')\n",
    "plt.ylabel('Longitudes')\n",
    "plt.xlim(16800,17193)\n",
    "plt.ylim(180,380)\n",
    "plt.plot(date, long_data, label='Données')\n",
    "plt.plot(date, long_model, label='Modèle')\n",
    "plt.legend()"
   ]
  },
  {
   "cell_type": "code",
   "execution_count": null,
   "metadata": {},
   "outputs": [],
   "source": []
  }
 ],
 "metadata": {
  "kernelspec": {
   "display_name": "Python 3 (ipykernel)",
   "language": "python",
   "name": "python3"
  },
  "language_info": {
   "codemirror_mode": {
    "name": "ipython",
    "version": 3
   },
   "file_extension": ".py",
   "mimetype": "text/x-python",
   "name": "python",
   "nbconvert_exporter": "python",
   "pygments_lexer": "ipython3",
   "version": "3.12.8"
  }
 },
 "nbformat": 4,
 "nbformat_minor": 4
}
