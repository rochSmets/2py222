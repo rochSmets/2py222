{
 "cells": [
  {
   "cell_type": "markdown",
   "id": "f144f694-8daf-4035-bda0-9813883171f2",
   "metadata": {
    "tags": []
   },
   "source": [
    "# <u>Mouvement rétrograde de Mars</u>"
   ]
  },
  {
   "cell_type": "markdown",
   "id": "06f1dd35-65e1-4f09-af04-0a867d17db95",
   "metadata": {
    "tags": []
   },
   "source": [
    "### <u>Introduction</u>"
   ]
  },
  {
   "cell_type": "markdown",
   "id": "e9209ee6-8928-47c7-8bcb-de24287a6a2d",
   "metadata": {},
   "source": [
    " La planète Mars a un mouvement rétrograde qui peut s'observer. Ce rétrogradage consiste à une impression que la planète  fasse un demi-tour dans le ciel, cependant ceci n'est qu'un effet d'optique car elle ne recule pas réellement. On peut observer ce mouvement avec les photos ci-dessous. "
   ]
  },
  {
   "cell_type": "markdown",
   "id": "6d020d91-e1ba-4a71-97c2-dfb05da692f6",
   "metadata": {},
   "source": [
    "![Observation du mouvement rétrograde de Mars](https://phys-mod.github.io/_images/2014-2016-mars-retrograde-earth-night-sky-samples.jpg)\n",
    "\n",
    "<u>Observation du mouvement rétrograde de Mars</u>\n",
    "\n",
    "image from https://mars.nasa.gov/all-about-mars/night-sky/retrograde/"
   ]
  },
  {
   "cell_type": "markdown",
   "id": "c46da17d-84ba-42de-b5b6-fdba3c0ab1a1",
   "metadata": {},
   "source": [
    "Nous allons modéliser ce phénomène avec un modèle bidimensionnel du mouvement de la Terre et de Mars autour du Soleil.\n",
    "On considérera le mouvement des deux planètes comme circulaire et uniforme et contenu dans le plan de l’écliptique.\n",
    "Grâce à ce modèle nous allons déterminer la longititude de Mars vue depuis la Terre en fonction du temps et nous comparerons nos données à celles qui ont été mesurés."
   ]
  },
  {
   "cell_type": "markdown",
   "id": "f1123171-0113-4c42-9ac6-81a627d1f161",
   "metadata": {},
   "source": [
    "### <u>Modélisation<u/>"
   ]
  },
  {
   "cell_type": "markdown",
   "id": "68eaeba8-1805-4a25-b23c-f003dab5313c",
   "metadata": {},
   "source": [
    "Voici une représentation de notre modèle : "
   ]
  },
  {
   "cell_type": "markdown",
   "id": "09aa32f6-eae3-42e1-bdad-b381fc0ffe87",
   "metadata": {
    "tags": []
   },
   "source": [
    "![modèle](https://phys-mod.github.io/_images/solar.png)"
   ]
  },
  {
   "cell_type": "markdown",
   "id": "ca6c45eb-30f4-4b7e-b886-3cb995a8b551",
   "metadata": {
    "tags": []
   },
   "source": [
    "L'angle $\\phi_{app}$ représente l'angle entre la position de la Terre et celle de Mars, cet angle va nous permettre de déterminer la position de Mars par rapport à la Terre.\n",
    "Les equations du mouvement X(t) et Y(t) pour un mouvement circulaire uniforme sont de la forme : \n",
    "<br>\n",
    "<br>\n",
    "$$X(t) = R \\cos(\\omega*t+\\phi_{app})$$\n",
    "$$Y(t) = Rsin(\\omega*t+\\phi{app})$$\n",
    "avec \n",
    "* R : Distance entre la planète et le Soleil \n",
    "* $\\omega$ : vitesse angulaire = $2\\pi/T$\n",
    "* T : période de révolution\n",
    "* t : temps \n",
    "\n",
    "Pour la Terre :\n",
    "<br>\n",
    "<br>\n",
    "R = 1 UA = $1.5 * 10^{11}$ m\n",
    "<br>\n",
    "T = 365.25 jours = $3*10{^7}s$ \n",
    "<br>\n",
    "donc $\\omega = 5*10^{-6}s^{-1}$\n",
    "<br>\n",
    "<br>\n",
    "Pour Mars : \n",
    "<br>\n",
    "<br>\n",
    "R = 1.52371 UA = $2.3 * 10^{11} m$\n",
    "<br>\n",
    "T = 686.885 jours = $6*10^7s$ \n",
    "<br>\n",
    "donc $\\omega = 1*10^{-7}s^{-1}$"
   ]
  },
  {
   "cell_type": "code",
   "execution_count": 1,
   "id": "8581f1ce-ec37-4484-9743-4d1a3601b1a8",
   "metadata": {},
   "outputs": [
    {
     "data": {
      "text/plain": [
       "[<matplotlib.lines.Line2D at 0x7f6987bf9d90>]"
      ]
     },
     "execution_count": 1,
     "metadata": {},
     "output_type": "execute_result"
    },
    {
     "data": {
      "image/png": "[encoded data removed]",
      "text/plain": [
       "<Figure size 432x288 with 1 Axes>"
      ]
     },
     "metadata": {
      "needs_background": "light"
     },
     "output_type": "display_data"
    }
   ],
   "source": [
    "import matplotlib.pyplot as plt\n",
    "import numpy as np\n",
    "import pandas as pd\n",
    "\n",
    "RT = 1.5e11 # distance entre le Soleil et la Terre\n",
    "RM = 2.3e11 # distance entre le Soleil et Mars\n",
    "omegaT = 5e-6 # vitesse angulaire de la Terre autour du Soleil\n",
    "omegaM = 1e-7 # vitesse angulaire de Mars autour du Soleil\n",
    "\n",
    "phi = 3.9\n",
    "\n",
    "start = 0\n",
    "end = 63115200 # ce nombre correspond au nombre de secondes entre 2015 et 2017\n",
    "step = 2629800 # on choisis un pas d'un mois\n",
    "interval = end - start\n",
    "num_points = int(interval/step) + 1\n",
    "t = np.linspace(start, end, num_points)\n",
    "\n",
    "\n",
    "xT = RT*np.cos(omegaT*t+phi)\n",
    "yT = RT*np.sin(omegaT*t+phi)\n",
    "\n",
    "xM = RM*np.cos(omegaM*t)\n",
    "yM = RM*np.sin(omegaM*t)\n",
    "\n",
    "plt.xlabel(\"temps(s)\")\n",
    "plt.ylabel(\"longitude('°')\")\n",
    "plt.title(\"Représentation de l'évolution de la longitude en fonction du temps\")\n",
    "phi_app = np.arctan2((yM - yT),(xM-xT))\n",
    "\n",
    "plt.plot(t, phi_app)\n"
   ]
  },
  {
   "cell_type": "code",
   "execution_count": 2,
   "id": "515d6f41",
   "metadata": {},
   "outputs": [],
   "source": [
    "marsRadius = 1\n",
    "mars_radius = 1"
   ]
  },
  {
   "cell_type": "markdown",
   "id": "238c1f42-2cf6-4957-9034-967e89f055d5",
   "metadata": {},
   "source": [
    "Ce graphique ne correspond pas à ce qui ait attendu."
   ]
  },
  {
   "cell_type": "code",
   "execution_count": null,
   "id": "585234c6-92e0-4520-abbe-14705b688b6a",
   "metadata": {},
   "outputs": [],
   "source": []
  }
 ],
 "metadata": {
  "kernelspec": {
   "display_name": "Python 3 (ipykernel)",
   "language": "python",
   "name": "python3"
  },
  "language_info": {
   "codemirror_mode": {
    "name": "ipython",
    "version": 3
   },
   "file_extension": ".py",
   "mimetype": "text/x-python",
   "name": "python",
   "nbconvert_exporter": "python",
   "pygments_lexer": "ipython3",
   "version": "3.11.6"
  }
 },
 "nbformat": 4,
 "nbformat_minor": 5
}
