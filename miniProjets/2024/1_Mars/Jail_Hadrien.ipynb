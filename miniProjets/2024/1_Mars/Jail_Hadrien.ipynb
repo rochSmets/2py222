{
 "cells": [
  {
   "cell_type": "markdown",
   "id": "dfc6c35e-3b0a-4985-9c2e-236265fd65d8",
   "metadata": {},
   "source": [
    "## Compte Rendu Mini Projet "
   ]
  },
  {
   "cell_type": "markdown",
   "id": "1827a1d5-3db8-4d78-9eef-c42a035ab371",
   "metadata": {},
   "source": [
    "La première étape consiste à extraire les données qui nous intéressent du fichier 'DataMars.csv'. \n",
    "On ectrait les colonnes \"Date\" et \"Longitude\" car ce sont celles qui nous interessent et on les organise dans un dictionnaire à partiduquel on crée un nouveau DataFrame.\n",
    "On observe que dans l'échantillon temporel fourni par le csv, il faut selectionner judicieusement une date de début et de fin afin de mettre en évidence le phénomène de rétrograde.\n",
    "Grâce à un accesseur .iloc, on selectionne donc la plage de dates allant de la ligne 299 à la 604.En choisissant cet intervalle, on s'assure que le rétrograde a lieu \"au millieu de notre plage temporelle.\n"
   ]
  },
  {
   "cell_type": "code",
   "execution_count": 1,
   "id": "859e3b10-013c-44b3-849a-36ff54eda13c",
   "metadata": {
    "tags": []
   },
   "outputs": [
    {
     "data": {
      "text/html": [
       "<div>\n",
       "<style scoped>\n",
       "    .dataframe tbody tr th:only-of-type {\n",
       "        vertical-align: middle;\n",
       "    }\n",
       "\n",
       "    .dataframe tbody tr th {\n",
       "        vertical-align: top;\n",
       "    }\n",
       "\n",
       "    .dataframe thead th {\n",
       "        text-align: right;\n",
       "    }\n",
       "</style>\n",
       "<table border=\"1\" class=\"dataframe\">\n",
       "  <thead>\n",
       "    <tr style=\"text-align: right;\">\n",
       "      <th></th>\n",
       "      <th>Date</th>\n",
       "      <th>Longitude</th>\n",
       "    </tr>\n",
       "  </thead>\n",
       "  <tbody>\n",
       "    <tr>\n",
       "      <th>299</th>\n",
       "      <td>2015-12-25</td>\n",
       "      <td>204.413279</td>\n",
       "    </tr>\n",
       "    <tr>\n",
       "      <th>300</th>\n",
       "      <td>2015-12-26</td>\n",
       "      <td>204.977212</td>\n",
       "    </tr>\n",
       "    <tr>\n",
       "      <th>301</th>\n",
       "      <td>2015-12-27</td>\n",
       "      <td>205.539953</td>\n",
       "    </tr>\n",
       "    <tr>\n",
       "      <th>302</th>\n",
       "      <td>2015-12-28</td>\n",
       "      <td>206.101479</td>\n",
       "    </tr>\n",
       "    <tr>\n",
       "      <th>303</th>\n",
       "      <td>2015-12-29</td>\n",
       "      <td>206.661768</td>\n",
       "    </tr>\n",
       "    <tr>\n",
       "      <th>...</th>\n",
       "      <td>...</td>\n",
       "      <td>...</td>\n",
       "    </tr>\n",
       "    <tr>\n",
       "      <th>599</th>\n",
       "      <td>2016-10-20</td>\n",
       "      <td>285.197792</td>\n",
       "    </tr>\n",
       "    <tr>\n",
       "      <th>600</th>\n",
       "      <td>2016-10-21</td>\n",
       "      <td>285.902659</td>\n",
       "    </tr>\n",
       "    <tr>\n",
       "      <th>601</th>\n",
       "      <td>2016-10-22</td>\n",
       "      <td>286.609245</td>\n",
       "    </tr>\n",
       "    <tr>\n",
       "      <th>602</th>\n",
       "      <td>2016-10-23</td>\n",
       "      <td>287.317528</td>\n",
       "    </tr>\n",
       "    <tr>\n",
       "      <th>603</th>\n",
       "      <td>2016-10-24</td>\n",
       "      <td>288.027488</td>\n",
       "    </tr>\n",
       "  </tbody>\n",
       "</table>\n",
       "<p>305 rows × 2 columns</p>\n",
       "</div>"
      ],
      "text/plain": [
       "           Date   Longitude\n",
       "299  2015-12-25  204.413279\n",
       "300  2015-12-26  204.977212\n",
       "301  2015-12-27  205.539953\n",
       "302  2015-12-28  206.101479\n",
       "303  2015-12-29  206.661768\n",
       "..          ...         ...\n",
       "599  2016-10-20  285.197792\n",
       "600  2016-10-21  285.902659\n",
       "601  2016-10-22  286.609245\n",
       "602  2016-10-23  287.317528\n",
       "603  2016-10-24  288.027488\n",
       "\n",
       "[305 rows x 2 columns]"
      ]
     },
     "execution_count": 1,
     "metadata": {},
     "output_type": "execute_result"
    },
    {
     "data": {
      "image/png": "[encoded data removed]",
      "text/plain": [
       "<Figure size 720x504 with 1 Axes>"
      ]
     },
     "metadata": {
      "needs_background": "light"
     },
     "output_type": "display_data"
    }
   ],
   "source": [
    "#importation des modules \n",
    "import numpy as np \n",
    "import math as mt\n",
    "import pandas as pd \n",
    "import matplotlib.pyplot as plt \n",
    "\n",
    "df_coord = pd.read_csv(\"DataMars.csv\", comment = '#', encoding = \"utf-8\") #lecture du fichier csv (qui devient un objet DataFrame)\n",
    "\n",
    "longitude = df_coord[\"Longitude (decimal)\"] #extraction de la collonne \"longitude\" (grace à son étiquette)\n",
    "date = df_coord[\"Date\"] #extraction de la collonne \"Date\"\n",
    "\n",
    "\n",
    "#création d'un dictionnaire avec comme clés le nom des colonnes du csv et en valeur les données des colonnes\n",
    "dic_global = {\"Date\" : date,\n",
    "             \"Longitude\" : longitude}\n",
    "\n",
    "#création d'un DataFrame à partir du dictionnaire\n",
    "df_global = pd.DataFrame(data = dic_global)\n",
    "\n",
    "df_selec = df_global.iloc[299:604]\n",
    "\n",
    "date_selec = df_selec[\"Date\"] #extraction 2 de la collonne \"Date\"\n",
    "temps = pd.to_datetime(date_selec)\n",
    "\n",
    "\n",
    "\n",
    "plt.figure(figsize=(10,7))\n",
    "plt.title(\"Evolution de la longitude de Mars vue depuis la Terre\")\n",
    "plt.plot(temps,df_selec[\"Longitude\"])\n",
    "#plt.xlim(pd.to_datetime('2015-12'),pd.to_datetime('2016-12'))\n",
    "#plt.ylim(150,300)\n",
    "plt.xlabel(\"Date\")\n",
    "plt.ylabel(\"Longitude\")\n",
    "plt.show\n",
    "\n",
    "df_selec"
   ]
  },
  {
   "cell_type": "markdown",
   "id": "009fcd03-bbb5-4b9d-badd-c85fb339b2a2",
   "metadata": {},
   "source": [
    "On observe ici clairement le phénomène, avec un \"aller-retour\" dans les valeurs de longitude, ce qui caractérise le rétrograde, qui survient ici entre mai et aout 2016"
   ]
  },
  {
   "cell_type": "markdown",
   "id": "10ed8744-da96-4857-82d5-dde97eb4c9ea",
   "metadata": {},
   "source": [
    "## Modèle Physique de la longitude de Mars par rapport au centre de la Terre "
   ]
  },
  {
   "cell_type": "markdown",
   "id": "e6defbe1-125f-427e-9551-53c927c71c3f",
   "metadata": {},
   "source": [
    "La première étape est de configurer un intervale de temps pertinent pour notre model. Au fur et à mesure des essais, on se rend compte qu'on veut que l'instant où le Soleil, la Terre et Mars sont alignés survienne \"au millieu\" de notre intervalle pour pouvoir bien mettre en évidence le phénomène de rértograde.\n",
    "\n"
   ]
  },
  {
   "cell_type": "code",
   "execution_count": 2,
   "id": "242ed5b7-1278-44df-8fb5-65a99fc29559",
   "metadata": {
    "tags": []
   },
   "outputs": [
    {
     "name": "stdout",
     "output_type": "stream",
     "text": [
      "[-151. -150. -149. -148. -147. -146. -145. -144. -143. -142. -141. -140.\n",
      " -139. -138. -137. -136. -135. -134. -133. -132. -131. -130. -129. -128.\n",
      " -127. -126. -125. -124. -123. -122. -121. -120. -119. -118. -117. -116.\n",
      " -115. -114. -113. -112. -111. -110. -109. -108. -107. -106. -105. -104.\n",
      " -103. -102. -101. -100.  -99.  -98.  -97.  -96.  -95.  -94.  -93.  -92.\n",
      "  -91.  -90.  -89.  -88.  -87.  -86.  -85.  -84.  -83.  -82.  -81.  -80.\n",
      "  -79.  -78.  -77.  -76.  -75.  -74.  -73.  -72.  -71.  -70.  -69.  -68.\n",
      "  -67.  -66.  -65.  -64.  -63.  -62.  -61.  -60.  -59.  -58.  -57.  -56.\n",
      "  -55.  -54.  -53.  -52.  -51.  -50.  -49.  -48.  -47.  -46.  -45.  -44.\n",
      "  -43.  -42.  -41.  -40.  -39.  -38.  -37.  -36.  -35.  -34.  -33.  -32.\n",
      "  -31.  -30.  -29.  -28.  -27.  -26.  -25.  -24.  -23.  -22.  -21.  -20.\n",
      "  -19.  -18.  -17.  -16.  -15.  -14.  -13.  -12.  -11.  -10.   -9.   -8.\n",
      "   -7.   -6.   -5.   -4.   -3.   -2.   -1.    0.    1.    2.    3.    4.\n",
      "    5.    6.    7.    8.    9.   10.   11.   12.   13.   14.   15.   16.\n",
      "   17.   18.   19.   20.   21.   22.   23.   24.   25.   26.   27.   28.\n",
      "   29.   30.   31.   32.   33.   34.   35.   36.   37.   38.   39.   40.\n",
      "   41.   42.   43.   44.   45.   46.   47.   48.   49.   50.   51.   52.\n",
      "   53.   54.   55.   56.   57.   58.   59.   60.   61.   62.   63.   64.\n",
      "   65.   66.   67.   68.   69.   70.   71.   72.   73.   74.   75.   76.\n",
      "   77.   78.   79.   80.   81.   82.   83.   84.   85.   86.   87.   88.\n",
      "   89.   90.   91.   92.   93.   94.   95.   96.   97.   98.   99.  100.\n",
      "  101.  102.  103.  104.  105.  106.  107.  108.  109.  110.  111.  112.\n",
      "  113.  114.  115.  116.  117.  118.  119.  120.  121.  122.  123.  124.\n",
      "  125.  126.  127.  128.  129.  130.  131.  132.  133.  134.  135.  136.\n",
      "  137.  138.  139.  140.  141.  142.  143.  144.  145.  146.  147.  148.\n",
      "  149.  150.  151.]\n"
     ]
    }
   ],
   "source": [
    "#création du tableau de valeurs temporelles\n",
    "# Paramètres de la discrétisation\n",
    "temps_initial = -151 # jours\n",
    "temps_final = 151 # jours\n",
    "pas_temps = 1 # jours\n",
    "\n",
    "# Création du tableau temps\n",
    "intervalle = temps_final - temps_initial\n",
    "num_points = int(intervalle / pas_temps) +1 # nombre d'éléments\n",
    "temps_model = np.linspace(temps_initial, temps_final, num_points )\n",
    "\n",
    "# Création de l'index contenant les dates de la discrétisation\n",
    "#index_temps = pd.to_datetime(temps, unit = 'd', origin = '2020-01-14 13:45:00')\n",
    "\n",
    "print(temps_model)"
   ]
  },
  {
   "cell_type": "markdown",
   "id": "c81a5182-be91-475d-911c-ae93e794dd1a",
   "metadata": {},
   "source": [
    "\n",
    "A présent, on crée le modèle physique qui permettra de simuler l'évolution de la longitude de la position de Mars par rapport au centre de la Terre, et ce sur la plage temporelle qui nous interesse."
   ]
  },
  {
   "cell_type": "code",
   "execution_count": 3,
   "id": "f13e97c1-9a18-46f4-875e-9df35d55fbba",
   "metadata": {
    "tags": []
   },
   "outputs": [
    {
     "data": {
      "image/png": "[encoded data removed]",
      "text/plain": [
       "<Figure size 432x288 with 1 Axes>"
      ]
     },
     "metadata": {
      "needs_background": "light"
     },
     "output_type": "display_data"
    }
   ],
   "source": [
    "#modélisation de la position de la Terre en fonction du Temps\n",
    "#constantes \n",
    "#Periodes\n",
    "T_Terre = 365 #Jours\n",
    "T_Mars = 668 #Jours \n",
    "#Vitesse angulaire \n",
    "ωT = (2*np.pi)/T_Terre\n",
    "ωM = (2*np.pi)/T_Mars\n",
    "#Terre \n",
    "rayon_orbitalT = 149597870.691 #km\n",
    "#Mars \n",
    "rayon_orbitalM = 227942275.5719 #km\n",
    "\n",
    "#Position Terre\n",
    "X_T = rayon_orbitalT*np.cos(ωT*temps_model + 0)\n",
    "Y_T = rayon_orbitalT*np.sin(ωT*temps_model + 0)\n",
    "\n",
    "#Position Mars \n",
    "X_M = rayon_orbitalM*np.cos(ωM*temps_model + 0)\n",
    "Y_M = rayon_orbitalM*np.sin(ωM*temps_model + 0)\n",
    "\n",
    "#Distances Relatives\n",
    "X_T_M = X_M - X_T\n",
    "Y_T_M = Y_M - Y_T\n",
    "\n",
    "#Angle Relatif \n",
    "angle = np.arctan2(Y_T_M, X_T_M)\n",
    "\n",
    "plt.plot(temps_model, angle, 'o', color = 'r', linestyle = '-', linewidth=1)\n",
    "plt.show()\n"
   ]
  },
  {
   "cell_type": "code",
   "execution_count": null,
   "id": "8d65bd9a-51b5-4ee0-93b7-325c851dabd7",
   "metadata": {},
   "outputs": [],
   "source": []
  },
  {
   "cell_type": "code",
   "execution_count": null,
   "id": "d1f022e5",
   "metadata": {},
   "outputs": [],
   "source": []
  }
 ],
 "metadata": {
  "kernelspec": {
   "display_name": "Python 3 (ipykernel)",
   "language": "python",
   "name": "python3"
  },
  "language_info": {
   "codemirror_mode": {
    "name": "ipython",
    "version": 3
   },
   "file_extension": ".py",
   "mimetype": "text/x-python",
   "name": "python",
   "nbconvert_exporter": "python",
   "pygments_lexer": "ipython3",
   "version": "3.11.6"
  }
 },
 "nbformat": 4,
 "nbformat_minor": 5
}
