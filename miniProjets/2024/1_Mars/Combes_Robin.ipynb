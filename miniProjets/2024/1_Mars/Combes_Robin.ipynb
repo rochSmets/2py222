{
 "cells": [
  {
   "cell_type": "markdown",
   "id": "3d62c2bc-3927-431e-9447-8fbccb9def3d",
   "metadata": {
    "tags": []
   },
   "source": [
    "# **Mini-projet n°1 : Mouvement rétrograde de Mars (Combes Robin)**"
   ]
  },
  {
   "cell_type": "markdown",
   "id": "06fd2f98-b7bb-4601-adfd-f73882c82e98",
   "metadata": {},
   "source": [
    "___"
   ]
  },
  {
   "cell_type": "markdown",
   "id": "c79c45ec-d56c-400d-a420-470f5bf19fa8",
   "metadata": {
    "tags": []
   },
   "source": [
    "## <ins>Objectif :</ins>\n",
    "#### On souhaite modéliser et expliquer le mouvement de demi-tour effectué par la planète Mars, observable tous les deux ans environ depuis la Terre, appelé : rétrogradation de Mars."
   ]
  },
  {
   "cell_type": "markdown",
   "id": "b556ef4c-e124-4410-b533-06f7eba9c0e5",
   "metadata": {},
   "source": [
    "<img src=\"Assemblage_1_Rétrograde_de_Mars.png\" alt=\"Drawing\" style=\"width: 1000px;\"/>"
   ]
  },
  {
   "cell_type": "markdown",
   "id": "03334f8c-d3bc-4151-980b-d753c651415f",
   "metadata": {
    "tags": []
   },
   "source": [
    "## <ins>Cadre de la modélisation :</ins>"
   ]
  },
  {
   "cell_type": "markdown",
   "id": "952351cc-dab4-4f5a-92d1-a86417595c91",
   "metadata": {},
   "source": [
    "* On réduit les systèmes Σ$_{1}$={planète Terre} et Σ$_{2}$={planète Mars} à des points matériels\n",
    "* On suppose que les mouvements respectifs de Σ$_{1}$ et Σ$_{2}$ sont circulaires et héliocentriques, uniformes et contenus dans un même plan : le plan de l’écliptique.\n",
    "\n",
    "#### <div style='text-align:justify;'>On décide alors, pour l'étude des mouvements de Σ$_{1}$ et Σ$_{2}$, de munir l’espace du référentiel (héliocentrique) suivant R$_{H}$=(R$_{p}$,t), avec R$_{p}$ le repère cartésien (O,x,y,z) où le point origine O coïncide avec le centre de masse du Soleil et où le plan (xOy) coïncide avec le plan de l’écliptique (les trois axes (Ox), (Oy) et (Oz) pointant vers des étoiles lointaines), selon la schématisation suivante :</div>"
   ]
  },
  {
   "cell_type": "markdown",
   "id": "38cfa0d7-ccc3-44df-a7c4-ef648beb17b4",
   "metadata": {},
   "source": [
    "<img src=\"Schéma1_Retro_Mars.png\" alt=\"Drawing\" style=\"width: 420px;\"/>"
   ]
  },
  {
   "cell_type": "markdown",
   "id": "e81d3fc7-d874-457f-8a29-ca32ea620097",
   "metadata": {},
   "source": [
    "## <ins>Équations du mouvement :</ins>"
   ]
  },
  {
   "cell_type": "markdown",
   "id": "ddf3f7f7-419b-4c3a-808d-8fc4c2fcf4be",
   "metadata": {},
   "source": [
    "#### Soient R$_{T}$ et R$_{M}$ les rayons orbitaux respectifs de la planète Terre et de la planète Mars, et ω$_{T}$ et  ω$_{M}$ leurs vitesses angulaires propres autour du centre de masse _O_ du Soleil, on a:"
   ]
  },
  {
   "cell_type": "markdown",
   "id": "00a966a4-a4e4-4a76-8af5-0152cd2f8667",
   "metadata": {},
   "source": [
    "$\\begin{equation}\\left\\{\\begin{aligned}R_{T}=1\\,\\,UA\\\\R_{M}=1.52371\\,\\,UA\\\\\\end{aligned}\\right.\\end{equation}$ $\\,\\,\\,\\,et\\,\\,\\,\\,$ $\\begin{equation}\\left\\{\\begin{aligned}ω_{T}=\\frac{2π}{T_{T}}\\,\\,rad.jour^{-1}\\\\ω_{M}=\\frac{2π}{T_{M}}\\,\\,rad.jour^{-1}\\\\\\end{aligned}\\right.\\end{equation}$ $\\,\\,\\,\\,avec\\,\\,\\,\\,$ $\\begin{equation}\\left\\{\\begin{aligned}T_{T}=365.256\\,\\,jours\\\\T_{M}=686.885\\,\\,jours\\\\\\end{aligned}\\right.\\end{equation}$\n"
   ]
  },
  {
   "cell_type": "markdown",
   "id": "c1fb47ab",
   "metadata": {},
   "source": [
    "$T = 31$ s"
   ]
  },
  {
   "cell_type": "markdown",
   "id": "8d1dd718-6d04-4263-a947-717cc8562a58",
   "metadata": {},
   "source": [
    "#### On peut dès lors exprimer les équations du mouvement des deux astres dans le référentiel R$_{H}$ de la façon suivante :\n",
    "$\\mathrm{pour\\,\\,le\\,\\,système\\,}\\,Σ_{1}\\,:\\begin{equation}\\left\\{\\begin{aligned}X_{T}\\,(t)=R_{T}\\cos(ω_{T}t)\\\\Y_{T}\\,(t)=R_{T}\\sin(ω_{T}t)\\\\\\end{aligned}\\right.\\end{equation}$ $\\,\\,\\,\\,et\\,\\,\\,\\,$ $pour\\,\\,le\\,\\,système\\,\\,Σ_{2}\\,:\\begin{equation}\\left\\{\\begin{aligned}X_{M}\\,(t)=R_{M}\\cos(ω_{M}t)\\\\Y_{M}\\,(t)=R_{M}\\sin(ω_{M}t)\\\\\\end{aligned}\\right.\\end{equation}$"
   ]
  },
  {
   "cell_type": "markdown",
   "id": "a00eb11c-89d5-462b-b1d5-90dd558e4d47",
   "metadata": {},
   "source": [
    "#### en considérant la situation où à l'instant initial $t=0$, les systèmes Σ$_{1}$, Σ$_{2}$ et {Soleil} sont alignés comme représenté sur l'illustration suivante :"
   ]
  },
  {
   "cell_type": "markdown",
   "id": "c9c54351-db89-48f7-a212-8b57550ab7bb",
   "metadata": {},
   "source": [
    "<img src=\"Représentation_orbites_Terre_Mars.png\" alt=\"Drawing\" style=\"width: 350px;\"/>"
   ]
  },
  {
   "cell_type": "markdown",
   "id": "fa21f1e2-0764-4f2a-8ff3-c190dbbf9e31",
   "metadata": {},
   "source": [
    "## <ins>Scripts Python commentés :</ins>"
   ]
  },
  {
   "cell_type": "code",
   "execution_count": 2,
   "id": "6390d9b8-8c80-4548-8bb7-06c4b77c148b",
   "metadata": {},
   "outputs": [
    {
     "name": "stderr",
     "output_type": "stream",
     "text": [
      "findfont: Font family 'bahnschrift' not found.\n",
      "findfont: Font family 'bahnschrift' not found.\n",
      "findfont: Font family 'bahnschrift' not found.\n",
      "findfont: Font family 'bahnschrift' not found.\n",
      "findfont: Font family 'bahnschrift' not found.\n",
      "findfont: Font family 'bahnschrift' not found.\n",
      "findfont: Font family 'bahnschrift' not found.\n",
      "findfont: Font family 'bahnschrift' not found.\n",
      "findfont: Font family 'bahnschrift' not found.\n",
      "findfont: Font family 'bahnschrift' not found.\n",
      "findfont: Font family 'bahnschrift' not found.\n",
      "findfont: Font family 'bahnschrift' not found.\n",
      "findfont: Font family 'bahnschrift' not found.\n",
      "findfont: Font family 'bahnschrift' not found.\n",
      "findfont: Font family 'bahnschrift' not found.\n",
      "findfont: Font family 'bahnschrift' not found.\n",
      "findfont: Font family 'bahnschrift' not found.\n",
      "findfont: Font family 'bahnschrift' not found.\n",
      "findfont: Font family 'bahnschrift' not found.\n",
      "findfont: Font family 'ALGERIAN' not found.\n",
      "findfont: Font family 'ALGERIAN' not found.\n",
      "findfont: Font family 'ALGERIAN' not found.\n",
      "findfont: Font family 'bahnschrift' not found.\n",
      "findfont: Font family 'bahnschrift' not found.\n",
      "findfont: Font family 'bahnschrift' not found.\n",
      "findfont: Font family 'bahnschrift' not found.\n",
      "findfont: Font family 'bahnschrift' not found.\n",
      "findfont: Font family 'bahnschrift' not found.\n",
      "findfont: Font family 'bahnschrift' not found.\n",
      "findfont: Font family 'bahnschrift' not found.\n",
      "findfont: Font family 'bahnschrift' not found.\n",
      "findfont: Font family 'bahnschrift' not found.\n",
      "findfont: Font family 'bahnschrift' not found.\n",
      "findfont: Font family 'bahnschrift' not found.\n",
      "findfont: Font family 'bahnschrift' not found.\n",
      "findfont: Font family 'bahnschrift' not found.\n",
      "findfont: Font family 'bahnschrift' not found.\n",
      "findfont: Font family 'bahnschrift' not found.\n",
      "findfont: Font family 'bahnschrift' not found.\n",
      "findfont: Font family 'bahnschrift' not found.\n",
      "findfont: Font family 'bahnschrift' not found.\n",
      "findfont: Font family 'bahnschrift' not found.\n",
      "findfont: Font family 'bahnschrift' not found.\n",
      "findfont: Font family 'bahnschrift' not found.\n",
      "findfont: Font family 'bahnschrift' not found.\n",
      "findfont: Font family 'bahnschrift' not found.\n",
      "findfont: Font family 'bahnschrift' not found.\n",
      "findfont: Font family 'bahnschrift' not found.\n",
      "findfont: Font family 'bahnschrift' not found.\n",
      "findfont: Font family 'bahnschrift' not found.\n",
      "findfont: Font family 'bahnschrift' not found.\n",
      "findfont: Font family 'bahnschrift' not found.\n",
      "findfont: Font family 'bahnschrift' not found.\n",
      "findfont: Font family 'bahnschrift' not found.\n",
      "findfont: Font family 'bahnschrift' not found.\n",
      "findfont: Font family 'ALGERIAN' not found.\n",
      "findfont: Font family 'ALGERIAN' not found.\n",
      "findfont: Font family 'ALGERIAN' not found.\n",
      "findfont: Font family 'ALGERIAN' not found.\n",
      "findfont: Font family 'ALGERIAN' not found.\n"
     ]
    },
    {
     "data": {
      "image/png": "[encoded data removed]",
      "text/plain": [
       "<Figure size 648x468 with 1 Axes>"
      ]
     },
     "metadata": {
      "needs_background": "light"
     },
     "output_type": "display_data"
    },
    {
     "data": {
      "text/plain": [
       "'Remarque : en travaillant sur Jupyter les familles \"bahnschrift\" et \"ALGERIAN\" ne sont pas présentes par défaut dans la banque de familles importées\\net l\\'excution du programme çi-dessus ne les prendra donc tout simplement pas en compte lors de l\\'affichage et utilisera la famille par défaut'"
      ]
     },
     "execution_count": 2,
     "metadata": {},
     "output_type": "execute_result"
    }
   ],
   "source": [
    "\"\"\"Réalisation du graphique représentant l'évolution de la longitude écliptique de la planète Mars \n",
    "en fonction du temps sur la période couvrant l'intervalle du 1er janvier 2016 au le 1er novembre 2016\"\"\"\n",
    "\n",
    "#On importe les modules nécessaires\n",
    "import numpy as np\n",
    "import pandas as pd\n",
    "from matplotlib import pyplot as plt\n",
    "#Création des vecteurs de données associés aux relevés empiriques\n",
    "df=pd.read_csv(\"DataMars.csv\", delimiter=\",\", comment=\"#\") #On lit le contenu du fichier intitulé DataMars.csv que l'on affecte sous forme de DataFrame à la variable \"df\"\n",
    "X=np.arange(0,len(df[\"Longitude (decimal)\"]),1) #On crée le vecteur de données pour l'axe des abscisses (échelle de temps en jours)\n",
    "Y=df[\"Longitude (decimal)\"].values #On crée le vecteur de données intermédiaire pour l'axe des ordonnées contenant des valeurs de longitude comprises entre 0° et 360°\n",
    "for i in range(len(Y)): #On filtre les données du vecteur intermédiaire afin d'obtenir le vecteur final contenant des valeurs de longitude comprises entre -180° et 180°\n",
    "    if Y[i]>180:\n",
    "        Y[i]-=360\n",
    "\n",
    "#Création des vecteurs de données associés à la modélisation\n",
    "t=np.arange(0,len(X),1) #On crée le vecteur de données pour l'axe des abscisses (échelle de temps en jours)\n",
    "R_T=149e9 #On définit le rayon orbital de la planète Terre\n",
    "R_M=1.52371*149e9 #Idem pour la planète Mars\n",
    "ω_T=np.pi*2/365.256 #On définit la vitesse angulaire orbitale de la planète Terre\n",
    "ω_M=np.pi*2/686.885 #Idem pour la planète Mars\n",
    "x=R_M*np.cos(ω_M*(t-448)+(240.5*np.pi/180))-R_T*np.cos(ω_T*(t-448)+(240.5*np.pi/180)) #On affecte à la variable x la différence entre la valeur de l'abscisse de la planète Mars et celle de la planète Terre dans R_H en considérant les offsets à appliquer pour qu'à la date du du 25 mai 2016 (qui correspond à l'indice 448 dans df[\"Date\"]) la longitude soit de 240.5°\n",
    "y=R_M*np.sin(ω_M*(t-448)+(240.5*np.pi/180))-R_T*np.sin(ω_T*(t-448)+(240.5*np.pi/180)) #Idem pour les valeurs des ordonnées\n",
    "\"\"\"Remarque : cela consiste tout simplement à calculer l'argument du nombre complexe (X_M(t)-X_T(t))+i(Y_M(t)-Y_T(t)) pour les différentes valeurs de t considérées\"\"\"\n",
    "l=np.arctan2(y,x)*180/np.pi #On convertit la longitude en degré (°)\n",
    "#Affichage des courbes\n",
    "plt.figure(figsize=(9,6.5)) #On définit la taille de la figure de sorte que la disposition de l'ensemble des éléments soit harmonieuse et qu'il n'y ait pas de chevauchement\n",
    "plt.suptitle(\"Évolution de la longitude écliptique \\nde la planète Mars en fonction du temps\", fontsize=16, family='ALGERIAN', horizontalalignment='center') #On définit un \"sur-titre\" au graphe et on précise ses paramètres\n",
    "plt.plot(X,Y,color='red',label='Courbe associée aux relevés empiriques') #On affiche la courbe associée aux relevés empiriques\n",
    "plt.plot(t,l,color='blue',label='Courbe associée à la modélisation') #On affiche la courbe associée à la modélisation\n",
    "plt.xticks(ticks=[306,337,366,397,427,458,488,519,550,580,611], labels=[\"2016-\"+\"{}\".format(i).rjust(2, \"0\") for i in range(1,12)], fontsize=9.5) #On remplace les valeurs des indices par celles des dates associées au niveau de l'axe des abscisses\n",
    "plt.xlabel(\"Date\",family='bahnschrift',fontsize=13) #On définit la légende de l'axe des abscisses\n",
    "plt.ylabel(\"Longitude en degré (°)\",family='bahnschrift',fontsize=13) #Idem pour l'axe des ordonnées\n",
    "plt.xlim(306,611) #On limite la zone de tracé selon l'axe des abscisses pour ne conserver que l'intervalle d'étude exposé dans l'énoncé\n",
    "plt.ylim(-160,-60) #On réalise la même chose avec l'axe des ordonnées\n",
    "plt.legend(title=\"Légende :\",title_fontsize=11,frameon = True, facecolor = 'floralwhite', shadow = True, fancybox = True, loc='best') #On affiche et spécifie les paramètres de la légende des tracés\n",
    "legende=plt.gca().get_legend() #On récupère la légende que l'on affecte à la variable \"legende\"\n",
    "plt.setp(legende.get_title(), family='bahnschrift',fontsize=11) #On modifie la famille et la taille du titre de la légende des tracés\n",
    "plt.setp(legende.get_texts(), family='bahnschrift',fontsize=11) #On modifie la famille et la taille des textes contenus dans la légende des tracés\n",
    "plt.grid() #On ajoute une grille à notre zone de tracé\n",
    "plt.show() #On affiche le tout\n",
    "\n",
    "\"\"\"Remarque : en travaillant sur Jupyter les familles \"bahnschrift\" et \"ALGERIAN\" ne sont pas présentes par défaut dans la banque de familles importées\n",
    "et l'excution du programme çi-dessus ne les prendra donc tout simplement pas en compte lors de l'affichage et utilisera la famille par défaut\"\"\""
   ]
  },
  {
   "cell_type": "code",
   "execution_count": 3,
   "id": "3f6c68a2",
   "metadata": {},
   "outputs": [
    {
     "name": "stdout",
     "output_type": "stream",
     "text": [
      "[1 2 0 1 2]\n"
     ]
    }
   ],
   "source": [
    "x=np.array([1,2,3,4,5])\n",
    "y=x%3\n",
    "print(y)"
   ]
  },
  {
   "cell_type": "code",
   "execution_count": 5,
   "id": "f92d6bbd",
   "metadata": {},
   "outputs": [
    {
     "data": {
      "text/plain": [
       "['__abs__',\n",
       " '__add__',\n",
       " '__bool__',\n",
       " '__ceil__',\n",
       " '__class__',\n",
       " '__delattr__',\n",
       " '__dir__',\n",
       " '__divmod__',\n",
       " '__doc__',\n",
       " '__eq__',\n",
       " '__float__',\n",
       " '__floor__',\n",
       " '__floordiv__',\n",
       " '__format__',\n",
       " '__ge__',\n",
       " '__getattribute__',\n",
       " '__getformat__',\n",
       " '__getnewargs__',\n",
       " '__getstate__',\n",
       " '__gt__',\n",
       " '__hash__',\n",
       " '__init__',\n",
       " '__init_subclass__',\n",
       " '__int__',\n",
       " '__le__',\n",
       " '__lt__',\n",
       " '__mod__',\n",
       " '__mul__',\n",
       " '__ne__',\n",
       " '__neg__',\n",
       " '__new__',\n",
       " '__pos__',\n",
       " '__pow__',\n",
       " '__radd__',\n",
       " '__rdivmod__',\n",
       " '__reduce__',\n",
       " '__reduce_ex__',\n",
       " '__repr__',\n",
       " '__rfloordiv__',\n",
       " '__rmod__',\n",
       " '__rmul__',\n",
       " '__round__',\n",
       " '__rpow__',\n",
       " '__rsub__',\n",
       " '__rtruediv__',\n",
       " '__setattr__',\n",
       " '__sizeof__',\n",
       " '__str__',\n",
       " '__sub__',\n",
       " '__subclasshook__',\n",
       " '__truediv__',\n",
       " '__trunc__',\n",
       " 'as_integer_ratio',\n",
       " 'conjugate',\n",
       " 'fromhex',\n",
       " 'hex',\n",
       " 'imag',\n",
       " 'is_integer',\n",
       " 'real']"
      ]
     },
     "execution_count": 5,
     "metadata": {},
     "output_type": "execute_result"
    }
   ],
   "source": [
    "dir(1.)"
   ]
  },
  {
   "cell_type": "markdown",
   "id": "71afcc7d-7274-4b31-93f6-5f75d520ece8",
   "metadata": {},
   "source": [
    "<img src=\"Affichage_courbes_Rétrogradation_de_Mars.png\" alt=\"Drawing\" style=\"width: 850px;\"/>"
   ]
  },
  {
   "cell_type": "markdown",
   "id": "96d6eaa7-0797-4975-890e-09713d33ac05",
   "metadata": {},
   "source": [
    "#### On pourrait tout à fait obtenir un graphe un peu plus similaire à celui exposé dans le sujet du Mini-projet en rajoutant des barres d'erreur sur le tracé de la courbe issue des relevés empiriques en considérant une incertitude type élarge de 1°, en rajoutant la ligne de code suivante : \n",
    "#### $plt.errorbar(X,Y,yerr=[1]*len(Y), ecolor='red', elinewidth=2, fmt='None')$\n",
    "#### On obtiendrait alors le graphe suivant :"
   ]
  },
  {
   "cell_type": "markdown",
   "id": "f99558e0-b03a-4192-9c17-e841fc11e7ae",
   "metadata": {},
   "source": [
    "<img src=\"Affichage_courbes_Rétrogradation_de_Mars_avec_incertitude.png\" alt=\"Drawing\" style=\"width: 850px;\"/>"
   ]
  },
  {
   "cell_type": "markdown",
   "id": "e8321f04-ebfb-425a-867f-7fdf208bdc97",
   "metadata": {},
   "source": [
    "#### Toutefois il paraît incohérent de considérer une telle incertitude lorsque les données du fichier DataMars.csv sont données avec une précision allant jusqu'au millième de degré près (en ce qui concerne la longitude)."
   ]
  },
  {
   "cell_type": "markdown",
   "id": "9c42e75f-fe54-401d-be89-72c51b9566e5",
   "metadata": {},
   "source": [
    "#### Enfin, voici çi-dessous le script python permettant de recueillir quelques données utiles à apporter un certain recul sur la modélisation :"
   ]
  },
  {
   "cell_type": "code",
   "execution_count": 6,
   "id": "7dd5f914-69fb-4017-90be-8f4e649afb67",
   "metadata": {},
   "outputs": [
    {
     "name": "stdout",
     "output_type": "stream",
     "text": [
      "max_E_relat_abs = 0.07772222890782587 ; \n",
      "min_E_relat_abs = 2.7410224543444883e-06 ; \n",
      "moy_E_relat_abs = 0.011291095435064968 ; \n",
      "med_E_relat_abs = 0.006416971019532869 ; \n",
      "L'écart relatif absolu maximal est atteint à la date du : 2016-11-01 ; \n",
      "L'écart relatif absolu minimal est atteint à la date du : 2016-03-26 .\n"
     ]
    }
   ],
   "source": [
    "import numpy as np\n",
    "import pandas as pd\n",
    "from matplotlib import pyplot as plt\n",
    "df=pd.read_csv(\"DataMars.csv\", delimiter=\",\", comment=\"#\")\n",
    "X=np.arange(0,len(df[\"Longitude (decimal)\"]),1)\n",
    "Y=df[\"Longitude (decimal)\"].values\n",
    "for i in range(len(Y)):\n",
    "    if Y[i]>180:\n",
    "        Y[i]-=360\n",
    "\n",
    "t=np.arange(0,len(X),1)\n",
    "R_T=149e9\n",
    "R_M=1.52371*149e9\n",
    "ω_T=np.pi*2/365.256\n",
    "ω_M=np.pi*2/686.885\n",
    "x=R_M*np.cos(ω_M*(t-448)+(240.5*np.pi/180))-R_T*np.cos(ω_T*(t-448)+(240.5*np.pi/180))\n",
    "y=R_M*np.sin(ω_M*(t-448)+(240.5*np.pi/180))-R_T*np.sin(ω_T*(t-448)+(240.5*np.pi/180))\n",
    "l=np.arctan2(y,x)*180/np.pi\n",
    "Y_abs=abs(Y) #On définit le vecteur contenant les valeurs absolues des données empiriques relevées\n",
    "l_abs=abs(l) #On fait de même avec les données issues de la modélisation\n",
    "E_relat_abs = abs((l_abs/Y_abs)-1)[306:612] #On définit le vecteur contenant les écarts relatifs absolus pour chaque donnée\n",
    "max_E_relat_abs = max(E_relat_abs) #On calcule le maximum des écarts relatifs absolus\n",
    "min_E_relat_abs = min(E_relat_abs) #On calcule le minimum des écarts relatifs absolus\n",
    "moy_E_relat_abs = np.mean(E_relat_abs) #On calcule la moyenne des écarts relatifs absolus\n",
    "med_E_relat_abs = np.median(E_relat_abs) #On calcule la médiane des écarts relatifs absolus\n",
    "\"\"\"Remarque: lorsqu'une liste de n valeurs contient un nombre pair de valeurs np.median() calcule par défaut la moyenne \n",
    "arithmétique entre l'élément à la position (n/2) dans la liste triée et celui à la position (n/2)+1 ; \n",
    "donc ici np.median(E_relat_abs)=(1/2)*(E_relat_abs[152]+E_relat_abs[153]) \"\"\"\n",
    "date_max_E_relat_abs = str(np.datetime64(\"2016-01-01\") + np.argwhere([E_relat_abs==max_E_relat_abs])[:,1][0]) #On récupère la date à laquelle l'écart relatif absolu est maximal\n",
    "date_min_E_relat_abs = str(np.datetime64(\"2016-01-01\") + np.argwhere([E_relat_abs==min_E_relat_abs])[:,1][0]) #Idem avec l'écart relatif absolu minimal\n",
    "print(\"max_E_relat_abs =\",max_E_relat_abs, \";\",\"\\nmin_E_relat_abs =\",min_E_relat_abs,\";\",\"\\nmoy_E_relat_abs =\",moy_E_relat_abs, \";\",\"\\nmed_E_relat_abs =\",med_E_relat_abs,\";\",\"\\nL'écart relatif absolu maximal est atteint à la date du :\",date_max_E_relat_abs,\";\",\"\\nL'écart relatif absolu minimal est atteint à la date du :\",date_min_E_relat_abs,\".\")"
   ]
  },
  {
   "cell_type": "markdown",
   "id": "3bdba6d0-2177-491b-ae9d-aaa9d8aae338",
   "metadata": {},
   "source": [
    "<img src=\"Affichage_stats_Rétrogradation_de_Mars.png\" alt=\"Drawing\" style=\"width: 600px;\"/>"
   ]
  },
  {
   "cell_type": "markdown",
   "id": "d354cc72-fc66-4862-b0ef-895edd4bb9ef",
   "metadata": {},
   "source": [
    "## <ins>Conclusion et discussion des hypothèses de modélisation :</ins>"
   ]
  },
  {
   "cell_type": "markdown",
   "id": "c7e3610c-5f96-4300-a739-a30baf896525",
   "metadata": {},
   "source": [
    "#### <div style='text-align:justify;'>On constate que pour la période de temps considérée (i.e. du 1$^{er}$ janvier 2016 au 1$^{er}$ novembre 2016), la courbe issue de la modélisation est \"assez proche\" de la courbe issue des données relevées avec un écart relatif maximal d'environ 7.77 % à la date du 1$^{er}$ novembre 2016, un écart relatif moyen d'environ 1.13 % et un écart relatif médian d'environ 0.64 %. (voir script python çi-dessus)</div>\n",
    "#### <div style='text-align:justify;'>On peut ainsi estimer que les paramètres considérés dans les hypothèses de modélisation permettent de rendre compte des observations empiriques avec une certaine fidélité (tout dépend du cadre au sein duquel on souhaiterait éventuellement exploiter le modèle en question).</div>\n",
    "#### <div style='text-align:justify;'>Pour ce qui est de la discussion du choix des hypothèses de modélisation en elles-mêmes, on peut légitimement accepter le fait de réduire les planètes Terre et Mars à des points matériels dans le référentiel héliocentrique R$_{H}$ dans la mesure où l'on a clairement : $\\frac{diamètre\\,\\,de\\,\\,la\\,\\,Terre}{rayon\\,\\,orbital\\,\\,de\\,\\,la\\,\\,Terre}\\ll 1$ et idem pour le cas de la planète Mars (en considérant la définition suivante : $a\\ll b\\,\\iff\\,\\frac{a}{b} \\le 10^{-2}$).<br>En revanche, si l'on conserve la définition exposée précédemment on pourrait tout à fait remettre en question l'approximation de l'orbite de la planète Mars comme étant circulaire dans la mesure ou son excentricité vaut approximativement e$_{M}\\simeq0.093 \\not\\ll 1$, là où celle de la Terre <br>e$_{T}\\simeq0.016$ est à la limite de respecter la définition de sorte que l'on peut, dans un cadre un peu moins stricte, légitimement considérer son orbite comme étant circulaire.</div>"
   ]
  },
  {
   "cell_type": "code",
   "execution_count": null,
   "id": "972855df",
   "metadata": {},
   "outputs": [],
   "source": []
  }
 ],
 "metadata": {
  "kernelspec": {
   "display_name": "Python 3 (ipykernel)",
   "language": "python",
   "name": "python3"
  },
  "language_info": {
   "codemirror_mode": {
    "name": "ipython",
    "version": 3
   },
   "file_extension": ".py",
   "mimetype": "text/x-python",
   "name": "python",
   "nbconvert_exporter": "python",
   "pygments_lexer": "ipython3",
   "version": "3.11.6"
  }
 },
 "nbformat": 4,
 "nbformat_minor": 5
}
