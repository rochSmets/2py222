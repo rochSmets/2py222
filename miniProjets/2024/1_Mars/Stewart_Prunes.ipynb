{
 "cells": [
  {
   "cell_type": "code",
   "execution_count": null,
   "id": "26fc051e-17c0-4e06-9c52-eeb63ad517d7",
   "metadata": {},
   "outputs": [],
   "source": []
  },
  {
   "cell_type": "code",
   "execution_count": null,
   "id": "40d6d629-11e4-401c-94ef-1d7fc9807bb7",
   "metadata": {},
   "outputs": [],
   "source": []
  },
  {
   "cell_type": "code",
   "execution_count": 1,
   "id": "bf9f1522-482f-476d-886f-9dfaa491fe79",
   "metadata": {
    "tags": []
   },
   "outputs": [
    {
     "ename": "AttributeError",
     "evalue": "'Series' object has no attribute 'date'",
     "output_type": "error",
     "traceback": [
      "\u001b[0;31m---------------------------------------------------------------------------\u001b[0m",
      "\u001b[0;31mAttributeError\u001b[0m                            Traceback (most recent call last)",
      "Cell \u001b[0;32mIn [1], line 9\u001b[0m\n\u001b[1;32m      7\u001b[0m x \u001b[38;5;241m=\u001b[39m df_mars\u001b[38;5;241m.\u001b[39miloc[slice_, \u001b[38;5;241m1\u001b[39m]\n\u001b[1;32m      8\u001b[0m x \u001b[38;5;241m=\u001b[39m df_mars\u001b[38;5;241m.\u001b[39miloc[slice_, \u001b[38;5;241m1\u001b[39m]\u001b[38;5;241m.\u001b[39mto_numpy()\n\u001b[0;32m----> 9\u001b[0m x \u001b[38;5;241m=\u001b[39m \u001b[43mdf_mars\u001b[49m\u001b[38;5;241;43m.\u001b[39;49m\u001b[43miloc\u001b[49m\u001b[43m[\u001b[49m\u001b[43mslice_\u001b[49m\u001b[43m,\u001b[49m\u001b[43m \u001b[49m\u001b[38;5;241;43m1\u001b[39;49m\u001b[43m]\u001b[49m\u001b[38;5;241;43m.\u001b[39;49m\u001b[43mdate\u001b[49m\u001b[38;5;241m.\u001b[39mdt\u001b[38;5;241m.\u001b[39mday\n\u001b[1;32m     10\u001b[0m y \u001b[38;5;241m=\u001b[39m df_mars\u001b[38;5;241m.\u001b[39miloc[slice_, \u001b[38;5;241m3\u001b[39m]\n\u001b[1;32m     11\u001b[0m \u001b[38;5;66;03m# x = np.arange('2016-01', '2016-10-31', dtype = 'datetime64[D]')\u001b[39;00m\n",
      "File \u001b[0;32m/usr/lib64/python3.11/site-packages/pandas/core/generic.py:5902\u001b[0m, in \u001b[0;36mNDFrame.__getattr__\u001b[0;34m(self, name)\u001b[0m\n\u001b[1;32m   5895\u001b[0m \u001b[38;5;28;01mif\u001b[39;00m (\n\u001b[1;32m   5896\u001b[0m     name \u001b[38;5;129;01mnot\u001b[39;00m \u001b[38;5;129;01min\u001b[39;00m \u001b[38;5;28mself\u001b[39m\u001b[38;5;241m.\u001b[39m_internal_names_set\n\u001b[1;32m   5897\u001b[0m     \u001b[38;5;129;01mand\u001b[39;00m name \u001b[38;5;129;01mnot\u001b[39;00m \u001b[38;5;129;01min\u001b[39;00m \u001b[38;5;28mself\u001b[39m\u001b[38;5;241m.\u001b[39m_metadata\n\u001b[1;32m   5898\u001b[0m     \u001b[38;5;129;01mand\u001b[39;00m name \u001b[38;5;129;01mnot\u001b[39;00m \u001b[38;5;129;01min\u001b[39;00m \u001b[38;5;28mself\u001b[39m\u001b[38;5;241m.\u001b[39m_accessors\n\u001b[1;32m   5899\u001b[0m     \u001b[38;5;129;01mand\u001b[39;00m \u001b[38;5;28mself\u001b[39m\u001b[38;5;241m.\u001b[39m_info_axis\u001b[38;5;241m.\u001b[39m_can_hold_identifiers_and_holds_name(name)\n\u001b[1;32m   5900\u001b[0m ):\n\u001b[1;32m   5901\u001b[0m     \u001b[38;5;28;01mreturn\u001b[39;00m \u001b[38;5;28mself\u001b[39m[name]\n\u001b[0;32m-> 5902\u001b[0m \u001b[38;5;28;01mreturn\u001b[39;00m \u001b[38;5;28;43mobject\u001b[39;49m\u001b[38;5;241;43m.\u001b[39;49m\u001b[38;5;21;43m__getattribute__\u001b[39;49m\u001b[43m(\u001b[49m\u001b[38;5;28;43mself\u001b[39;49m\u001b[43m,\u001b[49m\u001b[43m \u001b[49m\u001b[43mname\u001b[49m\u001b[43m)\u001b[49m\n",
      "\u001b[0;31mAttributeError\u001b[0m: 'Series' object has no attribute 'date'"
     ]
    }
   ],
   "source": [
    "import matplotlib.pyplot as plt\n",
    "import numpy as np\n",
    "import pandas as pd\n",
    "\n",
    "df_mars = pd.read_csv(\"DataMars.csv\",comment='#')\n",
    "slice_ = slice(306,580)\n",
    "x = df_mars.iloc[slice_, 1]\n",
    "x = df_mars.iloc[slice_, 1].to_numpy()\n",
    "x = df_mars.iloc[slice_, 1].date.dt.day\n",
    "y = df_mars.iloc[slice_, 3]\n",
    "# x = np.arange('2016-01', '2016-10-31', dtype = 'datetime64[D]')\n",
    "\n",
    "fig, ax = plt.subplots(figsize=(10,6))\n",
    "\n",
    "plt.title('Rétrograde de Mars')\n",
    "plt.xlabel('Date (mois)')\n",
    "plt.ylabel('Longitude (°)')\n",
    "#plt.xlim(np.datetime64('2016-01', 'M'), np.datetime64('2016-11', 'M'))\n",
    "plt.plot(x, y, label = \"model\")\n",
    "plt.legend()\n",
    "plt.show()"
   ]
  },
  {
   "cell_type": "code",
   "execution_count": null,
   "id": "2b8347da",
   "metadata": {},
   "outputs": [],
   "source": [
    "x"
   ]
  },
  {
   "cell_type": "code",
   "execution_count": null,
   "id": "352a9190-5dd2-4c1a-897c-ce2f9ff166c6",
   "metadata": {
    "tags": []
   },
   "outputs": [],
   "source": [
    "#Paramètres\n",
    "teta0 = 4.18879\n",
    "rv_terre = 365\n",
    "rv_mars = 687\n",
    "r_mars =228\n",
    "r_terre = 150\n",
    "\n",
    "#Discrétisation du temps \n",
    "temps = np.arange(2750,3350,1)\n",
    "dates = np.arange('2021-09', '2021-10', dtype = 'datetime64[D]') \n",
    "angle_terre = (2*np.pi)* temps/rv_terre\n",
    "angle_mars = (2*np.pi)* temps /rv_mars\n",
    "T = (2*np.pi)/rv_terre\n",
    "Tmars = (2*np.pi)/rv_mars\n",
    "xm= r_mars*np.cos(angle_mars+teta0)\n",
    "ym= r_mars*np.sin(angle_mars+teta0)\n",
    "xt = r_terre*np.cos(angle_terre+teta0)\n",
    "yt = r_terre*np.sin(angle_terre+teta0)\n",
    "dx = xm-xt\n",
    "dy=ym-yt\n",
    "teta= np.arctan2(dy, dx)*180\n",
    "plt.plot(temps,teta)\n",
    "plt.grid()\n",
    "plt.ylim(200,270)\n",
    "plt.xlim(3025,3200)\n",
    "plt.show"
   ]
  },
  {
   "cell_type": "code",
   "execution_count": 2,
   "id": "0e211749-23b8-4afb-b8f3-a54ba17bc433",
   "metadata": {},
   "outputs": [
    {
     "name": "stdout",
     "output_type": "stream",
     "text": [
      "t=0, t=1, t=2, t=3, t=4, t=5, t=6, t=7, t=8, t=9, t=10, t=11, t=12, t=13, t=14, t=15, t=16, t=17, t=18, t=19 <class 'tuple'>\n",
      "t=0, x=10.0, y=0.0\n",
      "t=1, x=6.123233995736766e-16, y=10.0\n",
      "t=2, x=-10.0, y=1.2246467991473533e-15\n",
      "t=3, x=-1.8369701987210296e-15, y=-10.0\n",
      "t=4, x=10.0, y=-2.4492935982947065e-15\n",
      "t=5, x=3.061616997868383e-15, y=10.0\n",
      "t=6, x=-10.0, y=3.673940397442059e-15\n",
      "t=7, x=-4.2862637970157365e-15, y=-10.0\n",
      "t=8, x=10.0, y=-4.898587196589413e-15\n",
      "t=9, x=5.5109105961630896e-15, y=10.0\n",
      "t=10, x=-10.0, y=6.123233995736766e-15\n",
      "t=11, x=-2.4499125789312944e-14, y=-10.0\n",
      "t=12, x=10.0, y=-7.347880794884118e-15\n",
      "t=13, x=-9.803364199544707e-15, y=10.0\n",
      "t=14, x=-10.0, y=8.572527594031473e-15\n",
      "t=15, x=-2.6948419387607653e-14, y=-10.0\n",
      "t=16, x=10.0, y=-9.797174393178826e-15\n",
      "t=17, x=-7.354070601250003e-15, y=10.0\n",
      "t=18, x=-10.0, y=1.1021821192326179e-14\n",
      "t=19, x=-2.9397712985902356e-14, y=-10.0\n"
     ]
    }
   ],
   "source": [
    "import numpy as np\n",
    " \n",
    "def circum(t, R=0, T=1, origin=0):\n",
    "\tpoint=2*np.pi/T * t + origin\n",
    "\treturn {\"x\" : R * np.cos(point), \"y\" : R * np.sin(point)}\n",
    "# circum()\n",
    " \n",
    "# Création d'un tableau de 20 temps divers\n",
    "tab=tuple(range(20))\n",
    "print(\", \".join(\"t={}\".format(x) for x in tab), type(tab))\n",
    " \n",
    "# Traitement du tableau\n",
    "for t in tab:\n",
    "\tpos=circum(t, R=10, T=4)\n",
    "\tprint(\"t={}, x={}, y={}\".format(t, pos[\"x\"], pos[\"y\"]))"
   ]
  },
  {
   "cell_type": "code",
   "execution_count": null,
   "id": "a50a9910-5eed-4761-a3b5-4889fafb3f41",
   "metadata": {},
   "outputs": [],
   "source": []
  },
  {
   "cell_type": "code",
   "execution_count": null,
   "id": "16a5df1a",
   "metadata": {},
   "outputs": [],
   "source": []
  }
 ],
 "metadata": {
  "kernelspec": {
   "display_name": "Python 3 (ipykernel)",
   "language": "python",
   "name": "python3"
  },
  "language_info": {
   "codemirror_mode": {
    "name": "ipython",
    "version": 3
   },
   "file_extension": ".py",
   "mimetype": "text/x-python",
   "name": "python",
   "nbconvert_exporter": "python",
   "pygments_lexer": "ipython3",
   "version": "3.11.6"
  }
 },
 "nbformat": 4,
 "nbformat_minor": 5
}
