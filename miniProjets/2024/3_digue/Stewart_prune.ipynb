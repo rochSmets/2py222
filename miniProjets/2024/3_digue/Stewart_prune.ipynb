{
 "cells": [
  {
   "cell_type": "markdown",
   "id": "7a7d7414-786d-49d6-9457-b32d7f474faa",
   "metadata": {},
   "source": [
    "# Mini projet : Digue"
   ]
  },
  {
   "cell_type": "markdown",
   "id": "57a8aa80-9fd5-49d6-a1ec-6ced6da2da84",
   "metadata": {},
   "source": [
    "## Travail à la maison"
   ]
  },
  {
   "cell_type": "markdown",
   "id": "26270cdf-7f93-4fcd-93c4-2324589ce9ed",
   "metadata": {},
   "source": [
    "bilan des forces : \n",
    "- Fp(eau) = -p(eau).S.ex\n",
    "- Fp(air) = p(air).S.ex\n",
    "- f = µ.m.g.ex\n",
    "- P = -m.g.ey\n",
    "- N = N.ey\n",
    "<br>la force de frottement f permet à la digue de pas glisser."
   ]
  },
  {
   "cell_type": "markdown",
   "id": "32d9d6db-be21-47dc-a855-bef1ed2a050e",
   "metadata": {},
   "source": [
    "P(x)eau = ρ.g.(H-x)"
   ]
  },
  {
   "cell_type": "markdown",
   "id": "8251ad5d-2890-4559-9c05-efa21d48c80e",
   "metadata": {},
   "source": [
    "  selon ex : \n",
    "- p(air).S +  µ.m.g = p(eau).S\n",
    "<br>selon ey :\n",
    "- m.g = N"
   ]
  },
  {
   "cell_type": "markdown",
   "id": "def615ce-cbcc-42e5-8897-4b00f314ba9f",
   "metadata": {
    "tags": []
   },
   "source": [
    "### Modélisation"
   ]
  },
  {
   "cell_type": "code",
   "execution_count": 1,
   "id": "67c7d60d-41cf-4e50-8890-4b235292b540",
   "metadata": {
    "tags": []
   },
   "outputs": [],
   "source": [
    "import numpy as np\n",
    "import matplotlib.pyplot as plt"
   ]
  },
  {
   "cell_type": "code",
   "execution_count": 2,
   "id": "9124f760-bb9a-4bc1-a605-7c711cda3a5f",
   "metadata": {
    "tags": []
   },
   "outputs": [
    {
     "data": {
      "image/png": "[encoded data removed]",
      "text/plain": [
       "<Figure size 432x288 with 1 Axes>"
      ]
     },
     "metadata": {
      "needs_background": "light"
     },
     "output_type": "display_data"
    }
   ],
   "source": [
    "# Ce code permet d'afficher les courbes représentant la digue\n",
    "\n",
    "H = 10\n",
    "xa = -5\n",
    "xe = +5\n",
    "\n",
    "\n",
    "# On définit les fonctions côté eau et côté air, ici les courbes concaves\n",
    "def fair(y):\n",
    "    return -(y - H) * xa / H\n",
    "\n",
    "def feau(y):\n",
    "    return  -(y - H) * xe / H\n",
    "\n",
    "# On crée un tableau de y\n",
    "y = np.linspace(0, H, 1000)\n",
    "\n",
    "# On trace\n",
    "plt.plot(fair(y), y, '-b') \n",
    "plt.plot(feau(y), y, '-b')  ## Décommenter après avoir codé la fonction feau(x)\n",
    " \n",
    "plt.plot([xe, xa], [0, 0], '-b') # Bas de la digue\n",
    "plt.xlabel('x (m)') \n",
    "plt.ylabel('y (m)')\n",
    "plt.text(xe, 8, 'eau')\n",
    "plt.text(xa, 8, 'air')\n",
    "plt.axis('equal') # Permet d'avoir un plot isométrique\n",
    "plt.axhline(0, color = \"black\")\n",
    "plt.axvline(0, color = \"black\")\n",
    "plt.xlim(-8, 8)\n",
    "plt.show()"
   ]
  },
  {
   "cell_type": "markdown",
   "id": "3fc5cc15-e4ff-4488-804c-55f32610b711",
   "metadata": {
    "tags": []
   },
   "source": [
    "## Travail en séance"
   ]
  },
  {
   "cell_type": "code",
   "execution_count": 3,
   "id": "5ece7921-06b0-480a-95f4-68b34c9ed81f",
   "metadata": {
    "tags": []
   },
   "outputs": [
    {
     "name": "stdout",
     "output_type": "stream",
     "text": [
      "analytiquement, le vomule de la digue est:  50.0\n",
      "par intégration, le vomule de la digue est:  50.0\n",
      "la force de gravité est :  -1471500.0 N\n",
      "l aire de l eau est :  25.0 m3\n",
      "l aire de l air est :  25.0 m3\n",
      "l aire totale est :  50.0 m3\n"
     ]
    }
   ],
   "source": [
    "import scipy.integrate as si\n",
    "def larg(y):\n",
    "    return L*(feau(y)-fair(y))\n",
    "L =1\n",
    "larg_analytique = ((xe-xa)*H)/2\n",
    "\n",
    "V,erreur = si.quad(larg,0,H)\n",
    "print('analytiquement, le vomule de la digue est: ',V)\n",
    "print('par intégration, le vomule de la digue est: ',larg_analytique)\n",
    "\n",
    "g = 9.81\n",
    "peau = 1000\n",
    "res,err = si.quad(feau,0,H)\n",
    "res1,err1 = si.quad(fair,0,H)\n",
    "\n",
    "#calcul force de gravité\n",
    "masse_volumique = 3000\n",
    "poid = -abs(res-res1)*masse_volumique*g\n",
    "print('la force de gravité est : ', poid, 'N')\n",
    "print('l aire de l eau est : ',abs(res), 'm3')\n",
    "print('l aire de l air est : ',abs(res1), 'm3')\n",
    "print('l aire totale est : ',abs(res-res1), 'm3')"
   ]
  },
  {
   "cell_type": "code",
   "execution_count": 4,
   "id": "2d65ffe0-73f6-4d5a-a1cd-13fcb26914db",
   "metadata": {
    "tags": []
   },
   "outputs": [
    {
     "name": "stdout",
     "output_type": "stream",
     "text": [
      "la force en x est :  -490500.0 N\n",
      "la force en y est :  -245250.0 N\n",
      "la resultante des forces est :  548395.6714818234 N\n"
     ]
    }
   ],
   "source": [
    "def df_x(y):\n",
    "    return -peau*g*(H-y)\n",
    "f_x,err1=si.quad(df_x,0,H)\n",
    "\n",
    "def df_y(y):\n",
    "    return peau*g*(H-y)*xa/H\n",
    "f_y,err1=si.quad(df_y,0,H)\n",
    "\n",
    "print('la force en x est : ', f_x, 'N')\n",
    "print('la force en y est : ', f_y, 'N')\n",
    "\n",
    "#module de la force\n",
    "module = np.sqrt(f_x**2+f_y**2)\n",
    "print('la resultante des forces est : ', module, 'N')"
   ]
  },
  {
   "cell_type": "code",
   "execution_count": 5,
   "id": "ce8df4e7-ee03-43a5-9409-f26825b208a3",
   "metadata": {
    "tags": []
   },
   "outputs": [
    {
     "name": "stdout",
     "output_type": "stream",
     "text": [
      "0.2857142857142857\n"
     ]
    }
   ],
   "source": [
    "N = -f_y -poid\n",
    "T = -f_x\n",
    "print(T/N)"
   ]
  },
  {
   "cell_type": "markdown",
   "id": "a0fceae0-519d-4037-ae8f-16af9e8dce4e",
   "metadata": {},
   "source": [
    "Le rapport T/N est inférieur au coefficient de frottement, la digue est donc stable. \n",
    "<br> S'il avait été superieur, la digue ne serait pas stable."
   ]
  },
  {
   "cell_type": "code",
   "execution_count": 6,
   "id": "29a23713-2724-4766-ac3b-5772600fff05",
   "metadata": {
    "tags": []
   },
   "outputs": [
    {
     "name": "stdout",
     "output_type": "stream",
     "text": [
      "la force de réaction du sol est :  -1471525.0 N\n",
      "la force de réaction tangantiel est :  -735762.5 (sur x) N\n",
      "0.5\n"
     ]
    }
   ],
   "source": [
    "force_normal = -res+poid\n",
    "print('la force de réaction du sol est : ', force_normal, 'N')\n",
    "force_tang = force_normal*0.5\n",
    "print('la force de réaction tangantiel est : ', force_tang, '(sur x) N')\n",
    "rapport_tn = force_tang/force_normal\n",
    "print(rapport_tn)"
   ]
  },
  {
   "cell_type": "code",
   "execution_count": null,
   "id": "e940a4c2-b735-4bfa-bc0b-5bb5e6d2877d",
   "metadata": {},
   "outputs": [],
   "source": []
  },
  {
   "cell_type": "code",
   "execution_count": null,
   "id": "b1290465",
   "metadata": {},
   "outputs": [],
   "source": []
  }
 ],
 "metadata": {
  "kernelspec": {
   "display_name": "Python 3 (ipykernel)",
   "language": "python",
   "name": "python3"
  },
  "language_info": {
   "codemirror_mode": {
    "name": "ipython",
    "version": 3
   },
   "file_extension": ".py",
   "mimetype": "text/x-python",
   "name": "python",
   "nbconvert_exporter": "python",
   "pygments_lexer": "ipython3",
   "version": "3.11.6"
  }
 },
 "nbformat": 4,
 "nbformat_minor": 5
}
