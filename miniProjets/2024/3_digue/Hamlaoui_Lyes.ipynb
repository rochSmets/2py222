{
 "cells": [
  {
   "cell_type": "markdown",
   "id": "1080ba09-b73d-4738-9cb3-cb8872e417bb",
   "metadata": {},
   "source": [
    "# Calcul des forces de pression sur une digue\n",
    "\n",
    "Une digue est un petit barrage permettant de retenir une étendue d'eau (mer, lac, rivière) par exemple pour protéger des habitations ou des installations en zone inondable. \n",
    "\n",
    "Dans ce mini-projet nous allons calculer numériquement les forces appliquées à une digue de forme arbitraire.\n",
    "\n"
   ]
  },
  {
   "cell_type": "markdown",
   "id": "b9ba2c27-5beb-4932-98bc-f01a61a70a88",
   "metadata": {},
   "source": [
    "## Introduction du problème\n",
    "\n",
    "Nous allons modéliser la digue qui est donc un bloc de béton (masse volumique : 3000 kg/m$^3$) posé sur un sol rocheux ( avec un coefficient de friction statique béton - roche : 0.5). Nous avons d'un côté la digue qui retient une masse d'eau de hauteur $H$, l'autre côté étant exposé à l'air. On prendra $H=10$ m dans toute la suite. \n",
    "\n",
    "On se place en deux dimensions (la digue est de longueur unitaire suivant l'axe perpendiculaire au schéma ci-dessus et on ne considérera pas les bords suivant cette direction).\n",
    "\n",
    "De plus on ne considérera que les forces de pressions dues à la hauteur d'eau (la pression de l'air étant négligée).\n",
    "\n"
   ]
  },
  {
   "cell_type": "markdown",
   "id": "1d98c467-7150-4ffb-93a5-f834fe90ff50",
   "metadata": {},
   "source": [
    "### Principe \n",
    "\n",
    "Nous allons introduire des notions, des expressions ainsi que des équations. \"Le but étant de comprendre le problème\".\n",
    "\n",
    "Pour commencer, faisons un bilan des forces appliquées à la digue en 2D :\n",
    "\n",
    "* Force gravitationnelle :  $F_{gravite}$ = $mg$, avec  $m$ qui est la masse de la digue et $g$ est l'accélération due à la gravité.\n",
    "* Pression hydrostatique : $P_{eau}(x)$ = $\\rho$*$g$*$x$, où $\\rho$ est la masse volumique de l'eau, $g$ est l'accélération due à la gravité, et $x$ représente la profondeur de l'eau par rapport à la surface du sol.\n",
    "* Force de frottement : $F_{frottement}$ = $µ$$N$, où $µ$ est le coefficient de friction statique entre le béton et la roche, et $N$ est la force normale exercée par le sol rocheux sur la digue.\n",
    "\n",
    "On sait que la somme des forces qui agissent sur un système doit être égale à 0 pour que le système soit stable, qu'il soit immobile.\n",
    "\n",
    "$$\\sum F = 0$$\n",
    "\n",
    "$$\\sum F = F_{gravite} + F_{eau} + F_{frottement}$$\n",
    "\n",
    "$$\\sum F = mg + P_{eau}(x) + µN$$\n",
    "\n",
    "$$\\sum F = mg + \\rho gx + µN$$\n"
   ]
  },
  {
   "cell_type": "markdown",
   "id": "26da7440-e4b0-4a0d-bc25-3e2af80993ae",
   "metadata": {},
   "source": [
    "On peut se demander pourquoi la digue ne glisse pas ? La réponse est très simple, c'est uniquement grâce à la force de frottement entre la digue et le sol rocheux qui permet de compenser pression hydrostatique et la force gravitationnelle comme vous pouvez le voir ci-dessous.\n",
    "\n",
    "$$mg + \\rho gx = - µN$$"
   ]
  },
  {
   "cell_type": "markdown",
   "id": "b8b40159-a194-41d8-a4ec-67b1bc7ccf49",
   "metadata": {},
   "source": [
    "Nous savons que la pression hydrostatique $P_{eau}(x)$ est la multiplication de $\\rho$*$g$*$x$ mais comme dit précédemment $x$ représente la profondeur de l'eau par rapport à la surface du sol. Dans ce cas précis, on peut alors écrire $$P_{eau}(H) = \\rho g H$$"
   ]
  },
  {
   "cell_type": "markdown",
   "id": "1694a5c8-32f3-4f19-9a3c-f7a4563ebab0",
   "metadata": {},
   "source": [
    "### Equation d'équilibre\n",
    "\n",
    "Désormais, nous pouvons mettre en place les équations d'équilibre de la digue. Pour cela, nous allons faire la somme des forces selon l'axe horizontal et vertical. On sait que selon l'axe horizontal, nous avons une seule force.\n",
    "\n",
    "$$\\sum F_x = 0$$\n",
    "$$µN=0$$\n",
    "\n",
    "\n",
    "La somme des forces selon l'axe vertical est égale à zéro :\n",
    "$$\\sum F_y = 0$$\n",
    "$$P_{eau}(H) - mg = 0 $$\n",
    "$P_{eau}(H)$ est la pression hydrostatique en fonction de la hauteur $H$, $m$ est la masse de la digue, et $g$ est l'accélération due à la gravité."
   ]
  },
  {
   "cell_type": "markdown",
   "id": "3893bf39-1003-47b0-a690-9c677f6f17fe",
   "metadata": {},
   "source": [
    "### Modélisation\n",
    "\n",
    "On souhaite modéliser les pentes côté air et côté eau par des fonctions mathématiques. Nous allons intégrer des fonctions suivant la direction donnée par l’axe vertical. On nous donne $fair(y)$ mais pas $feau(y)$. On suppose donc que $feau(y)$= $\\frac{-(y - H)x_{e}}{H}$\n",
    "\n",
    "On peut donc compléter le script qui nous est fournit et tracer les graphiques"
   ]
  },
  {
   "cell_type": "code",
   "execution_count": 2,
   "id": "3cc4cbe1-4e05-4fcc-b7c1-dead071dae1c",
   "metadata": {
    "tags": []
   },
   "outputs": [],
   "source": [
    "import numpy as np # On importe les modules \n",
    "import matplotlib.pyplot as plt"
   ]
  },
  {
   "cell_type": "code",
   "execution_count": 3,
   "id": "f91f7792-5953-4409-88a9-060f74a5304d",
   "metadata": {
    "tags": []
   },
   "outputs": [
    {
     "data": {
      "image/png": "[encoded data removed]",
      "text/plain": [
       "<Figure size 640x480 with 1 Axes>"
      ]
     },
     "metadata": {},
     "output_type": "display_data"
    }
   ],
   "source": [
    "#On donne les données fournit\n",
    "\n",
    "H = 10\n",
    "xa = -5\n",
    "xe = +5\n",
    "\n",
    "# On définit les fonctions côté eau et côté air\n",
    "def fair(y):\n",
    "    return -(y - H) * xa / H\n",
    "\n",
    "def feau(y):\n",
    "    return -(y - H) * xe / H\n",
    "\n",
    "# On crée un tableau de y\n",
    "y = np.linspace(0, H, 1000)\n",
    "\n",
    "# On trace\n",
    "plt.plot(fair(y), y, '-b') \n",
    "plt.plot(feau(y), y, '-b')  \n",
    " \n",
    "plt.plot([xe, xa], [0, 0], '-b') # Bas de la digue\n",
    "plt.xlabel('x (m)') \n",
    "plt.ylabel('y (m)')\n",
    "plt.text(xe, 8, 'eau')\n",
    "plt.text(xa, 8, 'air')\n",
    "plt.axis('equal') # Permet d'avoir un plot isométrique\n",
    "plt.axhline(0, color=\"black\")\n",
    "plt.axvline(0, color=\"black\")\n",
    "plt.xlim(-8, 8)\n",
    "plt.show()\n"
   ]
  },
  {
   "cell_type": "code",
   "execution_count": 23,
   "id": "37853eb6-6fb1-4df5-90c5-e9a2b1ed4ec9",
   "metadata": {
    "tags": []
   },
   "outputs": [
    {
     "data": {
      "image/png": "[encoded data removed]",
      "text/plain": [
       "<Figure size 640x480 with 1 Axes>"
      ]
     },
     "metadata": {},
     "output_type": "display_data"
    }
   ],
   "source": [
    "plt.plot(y, fair(y), '-b') # Axe y en abscisse\n",
    "plt.plot(y, feau(y), '-b') # Axe y en abscisse\n",
    "\n",
    "plt.plot([0, 0], [xe, xa], '-b') # Bas de la digue\n",
    "plt.xlabel('y (m)') \n",
    "plt.ylabel('x (m)')\n",
    "plt.text(8, xe, 'eau')\n",
    "plt.text(8, xa, 'air')\n",
    "plt.axis('equal')\n",
    "plt.axhline(0, color=\"black\")\n",
    "plt.axvline(0, color=\"black\")\n",
    "plt.ylim(-8, 8)\n",
    "plt.show()\n"
   ]
  },
  {
   "cell_type": "markdown",
   "id": "99e0b85a-9b4e-4f8d-a7ce-100e206b0c9a",
   "metadata": {
    "tags": []
   },
   "source": [
    "### Cas des digues en pentes droites\n",
    "\n",
    "Nous allons calculer le volume de la digue dans le cas où nous avons des pentes droites. Ensuite, on en déduira la force de gravité exercée sur la digue. On met en place un code"
   ]
  },
  {
   "cell_type": "code",
   "execution_count": 54,
   "id": "211f4688-9be2-4f9e-9ac0-5d07b85ec7ac",
   "metadata": {
    "tags": []
   },
   "outputs": [
    {
     "name": "stdout",
     "output_type": "stream",
     "text": [
      "Volume de la digue par intégration en fonction de y:  50.0 m³ \n",
      "Aire analytique du triangle:  50.0 m²\n",
      "Volume attendu:  50.0 m³\n"
     ]
    }
   ],
   "source": [
    "import numpy as np\n",
    "\n",
    "# Définition des paramètres\n",
    "H = 10\n",
    "xa = -5\n",
    "xe = 5\n",
    "\n",
    "# Définition des fonctions de la digue\n",
    "def fair(y):\n",
    "    return -(y - H) * xa / H\n",
    "\n",
    "def feau(y):\n",
    "    return -(y - H) * xe / H\n",
    "\n",
    "# Calcul de la largeur de la digue en fonction de y\n",
    "def largeur_digue(y):\n",
    "    return feau(y) - fair(y)\n",
    "\n",
    "# Calcul du volume de la digue par intégration\n",
    "y_values = np.linspace(0, H, 1000)  # Discrétisation de l'intervalle de la hauteur de la digue\n",
    "volume_digue = np.trapz(largeur_digue(y_values), y_values)\n",
    "\n",
    "print(\"Volume de la digue par intégration en fonction de y: \", volume_digue,'m³ ')\n",
    "# Calcul analytique de l'aire du triangle multipliée par la longueur L=1\n",
    "aire_triangle = (abs(xa - xe) * H)/2\n",
    "aire_totale = aire_triangle * 1\n",
    "\n",
    "print(\"Aire analytique du triangle: \", aire_triangle,'m²')\n",
    "print(\"Volume attendu: \", aire_totale,'m³')\n",
    "\n"
   ]
  },
  {
   "cell_type": "markdown",
   "id": "3d17ff98-9fcb-4d8d-a857-7abbca72e79d",
   "metadata": {},
   "source": [
    "On vient de trouver le volume de la digue par intégration en utilisant la méthode des trapèzes en fonction de y. Nous pouvons donc calculer la force de gravité subit par la digue."
   ]
  },
  {
   "cell_type": "code",
   "execution_count": 41,
   "id": "73ad1610-2f5e-446a-859f-4c3fbd7296b4",
   "metadata": {
    "tags": []
   },
   "outputs": [
    {
     "name": "stdout",
     "output_type": "stream",
     "text": [
      "Force de gravité exercée sur la digue : 1471500.0 N\n"
     ]
    }
   ],
   "source": [
    "# On sait que rho = 3000 kg/m^3\n",
    "rho = 3000  # kg/m^3\n",
    "g = 9.81  # m/s^2\n",
    "volume = 50 #m^3\n",
    "# Calcul de la masse\n",
    "masse = rho * volume\n",
    "\n",
    "# Calcul de la force de gravité\n",
    "force_gravite = masse * g\n",
    "\n",
    "print(\"Force de gravité exercée sur la digue :\", force_gravite, \"N\")\n"
   ]
  },
  {
   "cell_type": "markdown",
   "id": "0db6849c-f648-4c38-8a1b-1fe4531bcee2",
   "metadata": {},
   "source": [
    "Nous avons la possibilité de calculez la résultante (vectorielle ; il y a une composante suivant $x$ et une composante suivant $y$) des forces de pression côté eau. On prendra $x_a = -5$, $x_e = +5$, $H=10$. "
   ]
  },
  {
   "cell_type": "code",
   "execution_count": 43,
   "id": "5f93e718-9481-4ed9-8f83-234b54b3b206",
   "metadata": {
    "tags": []
   },
   "outputs": [
    {
     "name": "stdout",
     "output_type": "stream",
     "text": [
      "Résultante des forces de pression côté eau (composante x) : 1.862645149230957e-09 N\n",
      "Résultante des forces de pression côté eau (composante y) : 49050000.00000001 N\n"
     ]
    }
   ],
   "source": [
    "# Définition des constantes\n",
    "rho = 1000  # Masse volumique de l'eau en kg/m^3\n",
    "g = 9.81  # Accélération due à la gravité en m/s^2\n",
    "xa = -5\n",
    "xe = 5\n",
    "H = 10\n",
    "\n",
    "# Nombre de points pour l'évaluation\n",
    "num_points = 1000\n",
    "\n",
    "# Points le long de la digue\n",
    "x_v = np.linspace(xa, xe, num_points)\n",
    "y_v = np.linspace(0, H, num_points)\n",
    "\n",
    "# Calcul des forces de pression côté eau pour chaque point\n",
    "force_x = rho * g * x_v\n",
    "force_y = rho * g * y_v\n",
    "\n",
    "# Somme des composantes pour obtenir la résultante pour 1000 points\n",
    "resultante_x = np.sum(force_x)\n",
    "resultante_y = np.sum(force_y)\n",
    "\n",
    "print(\"Résultante des forces de pression côté eau (composante x) :\", resultante_x, \"N\")\n",
    "print(\"Résultante des forces de pression côté eau (composante y) :\", resultante_y, \"N\")\n"
   ]
  },
  {
   "cell_type": "markdown",
   "id": "8747d899-1bdd-447f-ba6f-529852c7190c",
   "metadata": {},
   "source": [
    "Nous pouvons aussi calculer les composantes (normale et tangentielle) de la force de réaction du sol en utilisant le principe fondamental de la dynamique dans le cas où la digue est en équilibre statique translationnel. \n",
    "\n",
    "Selon le principe fondamental de la dynamique, la somme des forces agissant sur un objet est égale à sa masse multipliée par son accélération. Dans ce cas, puisque la digue est en équilibre statique, la somme des forces est nulle.\n",
    "\n",
    "Comme nous l'avons précédemment défini, les forces appliquées à la digue sont :\n",
    "\n",
    "- $F_{gravité}$ : la force gravitationnelle exercée sur la digue.\n",
    "- $F_{eau}$ : la force exercée par l'eau sur la digue.\n",
    "- $F_{frottement}$ : la force de frottement entre la digue et le sol rocheux.\n",
    "\n",
    "Les forces de réaction du sol ont une composante normale $N$ et une composante tangentielle $T$.\n",
    "\n",
    "Puisque la digue est en équilibre statique translationnel, la somme des forces horizontales et verticales doit être nulle.\n",
    "\n",
    "Somme des forces horizontales :\n",
    "$$T - F_{frottement} = 0$$\n",
    "\n",
    "Somme des forces verticales :\n",
    "$$N - F_{gravité} - F_{eau} = 0$$\n",
    "\n",
    "Nous pouvons ensuite définir $$T=  F_{frottement}$$\n",
    "$$N = F_{gravité} + F_{eau}$$"
   ]
  },
  {
   "cell_type": "markdown",
   "id": "29ba8ef6-f103-4b06-846c-045d87d99acc",
   "metadata": {},
   "source": [
    "Si le rapport entre $T$ et $N$ est infèrieur à 0.5, le coefficient de friction statique béton - roche, cela revient à admettre que la digue est en équilibre translationnel. A l'inerse, si $T/N>0.5$,la digue ne serait pas en équilibre translationnel. On peut traduire la situation à travers le script suivant"
   ]
  },
  {
   "cell_type": "code",
   "execution_count": 47,
   "id": "851cdeb3-b63a-403e-9199-80ef6d859e98",
   "metadata": {
    "tags": []
   },
   "outputs": [
    {
     "name": "stdout",
     "output_type": "stream",
     "text": [
      "Composante normale de la force de réaction du sol (N) : 1471500.0 N\n",
      "Composante tangentielle de la force de réaction du sol (T) : 735750.0 N\n",
      "Rapport T/N : 0.5\n",
      "La digue est en équilibre translationnel.\n"
     ]
    }
   ],
   "source": [
    "# coefficient de frottement statique\n",
    "fs=0.5\n",
    "\n",
    "# Composantes des forces\n",
    "F_gravite = force_gravite\n",
    "F_eau = 0  # On néglige la force exercée par l'eau sur la digue pour simplifié le problème\n",
    "F_frottement = fs * force_gravite  \n",
    "\n",
    "# Calcul des composantes des forces de réaction du sol\n",
    "N = F_gravite + F_eau\n",
    "T = F_frottement\n",
    "\n",
    "# Calcul du rapport T/N\n",
    "rapport_T_N = T / N\n",
    "\n",
    "print(\"Composante normale de la force de réaction du sol (N) :\", N, \"N\")\n",
    "print(\"Composante tangentielle de la force de réaction du sol (T) :\", T, \"N\")\n",
    "print(\"Rapport T/N :\", rapport_T_N)\n",
    "\n",
    "if rapport_T_N <= mu:\n",
    "    print(\"La digue est en équilibre translationnel.\")\n",
    "else:\n",
    "    print(\"La digue n'est pas en équilibre translationnel.\")\n"
   ]
  },
  {
   "cell_type": "markdown",
   "id": "d12f5249-c944-49a5-ad0a-92d1e2282535",
   "metadata": {},
   "source": [
    "Si on reprend les calculs du rapport $T/N$ et du volume de béton en imposant $x_a=-5$ et $x_e=0$, on peut se demander si la digue sera toujours en équilibre translationnel. On change donc les valeurs"
   ]
  },
  {
   "cell_type": "code",
   "execution_count": 57,
   "id": "fb9c9678-f145-4d79-bd8d-3dcde86f8070",
   "metadata": {
    "tags": []
   },
   "outputs": [
    {
     "name": "stdout",
     "output_type": "stream",
     "text": [
      "Volume de la digue : 50 m^3\n",
      "Résultante des forces de pression côté eau (composante x) : -367875.0 N\n",
      "Résultante des forces de pression côté eau (composante y) : 1471500.0 N\n",
      "Rapport T/N : 0.5\n",
      "La digue est en équilibre translationnel.\n"
     ]
    }
   ],
   "source": [
    "# Paramètres de la digue\n",
    "masse_volumique = 3000  # kg/m^3\n",
    "g = 9.81  # m/s^2\n",
    "xa = -5\n",
    "xe = 0\n",
    "H = 10\n",
    "\n",
    "def calcul_digue(masse_volumique, g, xa, xe, H):\n",
    "    # Calcul du volume de la digue\n",
    "    volume_digue = np.trapz(largeur_digue(y_values), y_values)\n",
    "  \n",
    "    # Calcul de la résultante des forces de pression côté eau\n",
    "    force_resultante_x = 0.5 * masse_volumique * g * (xe**2 - xa**2)\n",
    "    force_resultante_y = 0.5 * masse_volumique * g * H**2\n",
    "\n",
    "    # Calcul du rapport T/N\n",
    "    T_N_ratio = (masse_volumique * g * (xe - xa)) / (masse_volumique * g * H)\n",
    "\n",
    "    # Vérification de l'équilibre translationnel\n",
    "    fs = 0.5  # Coefficient de frottement statique\n",
    "    if T_N_ratio <= mu:\n",
    "        equilibre_translationnel = True\n",
    "    else:\n",
    "        equilibre_translationnel = False\n",
    "\n",
    "    return volume, (force_resultante_x, force_resultante_y), T_N_ratio, equilibre_translationnel\n",
    "\n",
    "\n",
    "# Calcul des paramètres de la digue\n",
    "volume, force_resultante, T_N_ratio, equilibre_translationnel = calcul_digue(masse_volumique, g, xa, xe, H)\n",
    "\n",
    "# Affichage des résultats\n",
    "print(\"Volume de la digue :\", volume, \"m^3\")\n",
    "print(\"Résultante des forces de pression côté eau (composante x) :\", force_resultante[0], \"N\")\n",
    "print(\"Résultante des forces de pression côté eau (composante y) :\", force_resultante[1], \"N\")\n",
    "print(\"Rapport T/N :\", T_N_ratio)\n",
    "\n",
    "if equilibre_translationnel:\n",
    "    print(\"La digue est en équilibre translationnel.\")\n",
    "else:\n",
    "    print(\"La digue n'est pas en équilibre translationnel.\")\n"
   ]
  },
  {
   "cell_type": "markdown",
   "id": "717d9534-ea8f-4fb5-95e3-c1106c554b43",
   "metadata": {},
   "source": [
    "On peut aussi essayer de reprendre le calcul avec $x_a=0$ et $x_e=+5$.\n"
   ]
  },
  {
   "cell_type": "code",
   "execution_count": 62,
   "id": "dc8a6bf0-a389-428e-ad9b-f7741e896523",
   "metadata": {
    "tags": []
   },
   "outputs": [
    {
     "name": "stdout",
     "output_type": "stream",
     "text": [
      "Volume de la digue : 50 m³ \n",
      "Résultante des forces de pression côté eau (composante x) : 367875.0 N\n",
      "Résultante des forces de pression côté eau (composante y) : 1471500.0 N\n",
      "Rapport T/N : 0.5\n",
      "La digue est en équilibre translationnel.\n"
     ]
    }
   ],
   "source": [
    "# Paramètres de la digue\n",
    "masse_volumique = 3000  # kg/m^3\n",
    "g = 9.81  # m/s^2\n",
    "xa = 0\n",
    "xe = 5\n",
    "H = 10\n",
    "\n",
    "def calcul_digue(masse_volumique, g, xa, xe, H):\n",
    "    # Calcul du volume de la digue\n",
    "    volume_digue = np.trapz(largeur_digue(y_values), y_values)\n",
    "    \n",
    "    # Calcul de la résultante des forces de pression côté eau\n",
    "    force_resultante_x = 0.5 * masse_volumique * g * (xe**2 - xa**2)\n",
    "    force_resultante_y = 0.5 * masse_volumique * g * H**2\n",
    "\n",
    "    # Calcul du rapport T/N\n",
    "    T_N_ratio = (masse_volumique * g * (xe - xa)) / (masse_volumique * g * H)\n",
    "\n",
    "    # Vérification de l'équilibre translationnel\n",
    "    fs = 0.5  # Coefficient de frottement statique\n",
    "    if T_N_ratio <= mu:\n",
    "        equilibre_translationnel = True\n",
    "    else:\n",
    "        equilibre_translationnel = False\n",
    "\n",
    "    return volume, (force_resultante_x, force_resultante_y), T_N_ratio, equilibre_translationnel\n",
    "\n",
    "\n",
    "# Calcul des paramètres de la digue\n",
    "volume, force_resultante, T_N_ratio, equilibre_translationnel = calcul_digue(masse_volumique, g, xa, xe, H)\n",
    "\n",
    "# Affichage des résultats\n",
    "print(\"Volume de la digue :\", volume, \"m³ \")\n",
    "print(\"Résultante des forces de pression côté eau (composante x) :\", force_resultante[0], \"N\")\n",
    "print(\"Résultante des forces de pression côté eau (composante y) :\", force_resultante[1], \"N\")\n",
    "print(\"Rapport T/N :\", T_N_ratio)\n",
    "\n",
    "if equilibre_translationnel:\n",
    "    print(\"La digue est en équilibre translationnel.\")\n",
    "else:\n",
    "    print(\"La digue n'est pas en équilibre translationnel.\")\n"
   ]
  },
  {
   "cell_type": "markdown",
   "id": "6ad4934c-f33b-4c92-8ad6-08b45a4d3700",
   "metadata": {},
   "source": [
    "On observe alors observons un changement significatif dans la stabilité de la digue par rapport à la configuration précédente. Dans cette nouvelle disposition, la partie immergée de la digue se situe du côté gauche (vers  $x_a$ = 0 ) tandis que la partie émergée se trouve du côté droit (vers $x_e$ = 5).\n",
    "\n",
    "Dans cette configuration, la digue est stable. La raison en est que la résultante des forces de pression côté eau est dirigée vers le haut et vers la gauche, exerçant ainsi une force stabilisatrice sur la digue. En d'autres termes, les forces de pression côté eau agissent dans le sens opposé à tout mouvement potentiel de la digue, ce qui contribue à maintenir sa stabilité.\n",
    "\n",
    "En revanche, dans la configuration précédente avec ( $x_a$ = -5) et ( $x_e$ = 0), la résultante des forces de pression côté eau était dirigée vers la droite, ce qui créait une force déséquilibrante sur la digue et la rendait instable.\n",
    "\n",
    "En résumé, la stabilité de la digue dépend de la direction de la résultante des forces de pression côté eau par rapport à la position de la digue. Si cette résultante exerce une force stabilisatrice, la digue sera stable ; sinon, elle sera instable."
   ]
  },
  {
   "cell_type": "markdown",
   "id": "ee0598b4-2597-4b53-952e-013e88b01576",
   "metadata": {},
   "source": [
    "## Cas des digues convexes\n",
    "\n",
    "Désormais, on considère que l'interface entre l'eau et le béton n'est plus une fonction affine mais une fonction de la forme :\n",
    "\n",
    "$$\n",
    "f_{eau} (y)=a \\left(\\frac{y}{H}\\right)^2-(a+x_e)\\left(\\frac{y}{H}\\right) +x_e\n",
    "$$\n",
    "\n",
    "\n",
    "avec comme dérivée :\n",
    "\n",
    "$$\n",
    "f'_{eau} (y)=\\frac{2ay}{H^2}-\\frac{a+x_e}{H}\n",
    "$$\n",
    "\n",
    "(on peut vérifier aisément que cette fonction relie bien les points de coordonées $[x_e,0]$ et $[0,H]$). Dans la suite nous prendrons $a=3$."
   ]
  },
  {
   "cell_type": "markdown",
   "id": "c879f14b-e010-47c1-ae9d-91ec44606999",
   "metadata": {},
   "source": [
    "Nous allons calculer, pour $a=3$, $x_a=0$ et $x_e=5$, la résultante des forces de pression, le volume de béton, et le rapport $T/N$ dans l'hypothèse de l'équilibre statique."
   ]
  },
  {
   "cell_type": "code",
   "execution_count": 75,
   "id": "c935c3cc-3846-4b18-8661-a078c65af246",
   "metadata": {
    "tags": []
   },
   "outputs": [
    {
     "name": "stdout",
     "output_type": "stream",
     "text": [
      "Volume de la digue convexe : 50 m^3\n",
      "Résultante des forces de pression côté eau (composante x) : 367875.0 N\n",
      "Résultante des forces de pression côté eau (composante y) : 850.0 N\n",
      "Rapport T/N : 0.5\n",
      "La digue convexe est en équilibre translationnel.\n"
     ]
    }
   ],
   "source": [
    "def calcul_digue_convexe(a, masse_volumique, g, xa, xe, H):\n",
    "    # Calcul du volume de la digue\n",
    "    volume = H * (xe - xa) \n",
    "\n",
    "    # Calcul de la résultante des forces de pression côté eau\n",
    "    force_resultante_x = 0.5 * masse_volumique * g * (xe**2 - xa**2)\n",
    "    force_resultante_y = (1/3) * a * H**3 - (a + xe) * (0.5 * H)**2 + xe * H\n",
    "\n",
    "    # Calcul du rapport T/N\n",
    "    T_N_ratio = (masse_volumique * g * (xe - xa)) / (masse_volumique * g * H)\n",
    "\n",
    "    # Vérification de l'équilibre translationnel\n",
    "    mu = 0.5  # Coefficient de frottement statique\n",
    "    if T_N_ratio <= mu:\n",
    "        equilibre_translationnel = True\n",
    "    else:\n",
    "        equilibre_translationnel = False\n",
    "\n",
    "    return volume, (force_resultante_x, force_resultante_y), T_N_ratio, equilibre_translationnel\n",
    "\n",
    "# Paramètres de la digue convexe\n",
    "a = 3\n",
    "masse_volumique = 3000  # kg/m^3\n",
    "g = 9.81  # m/s^2\n",
    "xa = 0\n",
    "xe = 5\n",
    "H = 10\n",
    "\n",
    "# Calcul des paramètres de la digue convexe\n",
    "volume, force_resultante, T_N_ratio, equilibre_translationnel = calcul_digue_convexe(a, masse_volumique, g, xa, xe, H)\n",
    "\n",
    "# Affichage des résultats\n",
    "print(\"Volume de la digue convexe :\", volume, \"m^3\")\n",
    "print(\"Résultante des forces de pression côté eau (composante x) :\", force_resultante[0], \"N\")\n",
    "print(\"Résultante des forces de pression côté eau (composante y) :\", force_resultante[1], \"N\")\n",
    "print(\"Rapport T/N :\", T_N_ratio)\n",
    "\n",
    "if equilibre_translationnel:\n",
    "    print(\"La digue convexe est en équilibre translationnel.\")\n",
    "else:\n",
    "    print(\"La digue convexe n'est pas en équilibre translationnel.\")\n"
   ]
  },
  {
   "cell_type": "markdown",
   "id": "57d0b6c8-f0bb-487a-ab1a-687dc12d5cb4",
   "metadata": {},
   "source": [
    "On peut se demander ce qu'il se passerait si on reprenait le calcul avec $x_e=6$. La digue serait elle en équilibre ? "
   ]
  },
  {
   "cell_type": "code",
   "execution_count": 64,
   "id": "d9ae445e-9d52-48c8-bc2e-fe9d16d02299",
   "metadata": {
    "tags": []
   },
   "outputs": [
    {
     "name": "stdout",
     "output_type": "stream",
     "text": [
      "Pour xe = 6, la digue convexe n'est pas en équilibre translationnel.\n",
      "Pour la pente affine avec xa = 0 et xe = 5, la digue est en équilibre translationnel.\n"
     ]
    }
   ],
   "source": [
    "# Paramètres de la digue convexe pour x_e = 6\n",
    "xe_6 = 6\n",
    "\n",
    "# Calcul des paramètres de la digue convexe pour x_e = 6\n",
    "volume_6, _, _, equilibre_translationnel_6 = calcul_digue_convexe(a, masse_volumique, g, xa, xe_6, H)\n",
    "\n",
    "# Affichage du résultat pour x_e = 6\n",
    "if equilibre_translationnel_6:\n",
    "    print(\"Pour xe = 6, la digue convexe est en équilibre translationnel.\")\n",
    "else:\n",
    "    print(\"Pour xe = 6, la digue convexe n'est pas en équilibre translationnel.\")\n",
    "\n",
    "# Comparaison avec la situation pour la pente affine avec xa = 0 et xe = 5\n",
    "if equilibre_translationnel:\n",
    "    print(\"Pour la pente affine avec xa = 0 et xe = 5, la digue est en équilibre translationnel.\")\n",
    "else:\n",
    "    print(\"Pour la pente affine avec xa = 0 et xe = 5, la digue n'est pas en équilibre translationnel.\")\n"
   ]
  },
  {
   "cell_type": "markdown",
   "id": "9cccdfce-cf90-4dc9-9ba5-cd81b08e4af4",
   "metadata": {},
   "source": [
    "On préfère alors la pente affine avec $x_a$=0 et $x_e$=5. On souhaite utilisez une boucle pour calculer le volume et le rapport $T/N$ en faisant varier $x_e$ dans l'intervalle $[5,6]$. On pourra ainsi tracer le rapport $T/N$ en fonction du volume et déterminer graphiquement le volume minimal pour garder le rapport $T/N$ inférieur à 0.5. "
   ]
  },
  {
   "cell_type": "code",
   "execution_count": 77,
   "id": "340db4ee-e373-4989-bda5-386946b5a107",
   "metadata": {
    "tags": []
   },
   "outputs": [
    {
     "data": {
      "image/png": "[encoded data removed]",
      "text/plain": [
       "<Figure size 640x480 with 1 Axes>"
      ]
     },
     "metadata": {},
     "output_type": "display_data"
    },
    {
     "name": "stdout",
     "output_type": "stream",
     "text": [
      "Le volume minimal pour garder le rapport T/N inférieur à 0.5 est de 50.0 m^3.\n"
     ]
    }
   ],
   "source": [
    "import matplotlib.pyplot as plt\n",
    "\n",
    "# Intervalles pour xe\n",
    "xe_values = np.arange(5, 6.1, 0.1)\n",
    "\n",
    "# Listes pour stocker les volumes et les rapports T/N\n",
    "volumes = []\n",
    "T_N_ratios = []\n",
    "\n",
    "# Calcul du volume et du rapport T/N pour chaque valeur de xe\n",
    "for xe in xe_values:\n",
    "    volume, _, T_N_ratio, _ = calcul_digue_convexe(a, masse_volumique, g, xa, xe, H)\n",
    "    volumes.append(volume)\n",
    "    T_N_ratios.append(T_N_ratio)\n",
    "\n",
    "# Tracer le rapport T/N en fonction du volume\n",
    "plt.plot(volumes, T_N_ratios, marker='o')\n",
    "plt.xlabel('Volume de la digue (m³)')\n",
    "plt.ylabel('Rapport T/N')\n",
    "plt.title('Rapport T/N en fonction du volume de la digue')\n",
    "plt.grid(True)\n",
    "plt.show()\n",
    "\n",
    "# Identification graphique du volume minimal pour maintenir le rapport T/N inférieur à 0.5\n",
    "if T_N_ratios:\n",
    "    volume_minimal = volumes[T_N_ratios.index(min(T_N_ratios))]\n",
    "    print(f\"Le volume minimal pour garder le rapport T/N inférieur à 0.5 est de {volume_minimal} m^3.\")\n",
    "else:\n",
    "    print(\"Aucun rapport T/N inférieur à 0.5 n'a été trouvé.\")"
   ]
  },
  {
   "cell_type": "markdown",
   "id": "c4aac8da-9ad8-47e2-8732-a96ca95170da",
   "metadata": {},
   "source": [
    "Même si nous n'avons pas obtenu une forme courbe de l'interface entre l'eau et le béton, on peut émettre des idées. Cela peut aider à réduire le volume de béton nécessaire pour maintenir la digue en équilibre pour plusieurs raisons :\n",
    "\n",
    "- Avec une forme courbe, on a moins de variations brusques de pression et moins de points de concentration de force, alors cela permet de stabiliser la digue avec moins de matériau.\n",
    "\n",
    "- La forme courbe peut réduire les forces de frottement exercées par l'eau sur la digue. Avec une surface courbe, il y a moins de points de contact direct entre l'eau et la digue par rapport à une surface plane. Cela peut réduire les forces de frottement qui s'opposent au mouvement de la digue.\n",
    "\n",
    "- Une forme courbe peut permettre une utilisation plus efficace de la résistance structurelle du matériau de la digue. En utilisant la forme courbe pour distribuer les charges et les contraintes de manière optimale, il est possible de concevoir une digue qui utilise moins de matériau tout en restant stable."
   ]
  },
  {
   "cell_type": "markdown",
   "id": "49b504db-cf76-47c5-b308-a731f0e7b977",
   "metadata": {},
   "source": [
    "## Conclusion\n",
    "\n",
    "On a donc réussi à déterminer les forces s'appliquant sur la digue et a modélisé deux situations différentes pour pouvoir comprendre quels sont les facteurs qui pouvait avoir une influence sur l'état d'équilibre translationnel. On a pu calculé le volume de la digue et on a constaté que la position de $x_a$ et de $x_e$ avait une très influence mais aussi la force de frottement qui a un rôle important. On se devait d'avoir un rapport T/N infèrieur au coefficient de friction statique béton - roche qui était de 0.5, ce qui garrantissait l'équilibre de la digue, en fonction des forces et des  valeurs de x, on pouvait avoir des forces qui changeant de valeurs et donc avoir un rapport T/N qui changeait et qui pouvait être supèrieur à 0.5. Ce qui revenait à ne plus être dans cet état d'quilibre translationnel"
   ]
  }
 ],
 "metadata": {
  "kernelspec": {
   "display_name": "Python [conda env:root] *",
   "language": "python",
   "name": "conda-root-py"
  },
  "language_info": {
   "codemirror_mode": {
    "name": "ipython",
    "version": 3
   },
   "file_extension": ".py",
   "mimetype": "text/x-python",
   "name": "python",
   "nbconvert_exporter": "python",
   "pygments_lexer": "ipython3",
   "version": "3.9.7"
  }
 },
 "nbformat": 4,
 "nbformat_minor": 5
}
