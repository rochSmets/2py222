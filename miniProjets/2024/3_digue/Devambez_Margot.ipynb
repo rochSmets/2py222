{
 "cells": [
  {
   "cell_type": "markdown",
   "id": "b048ce30-509b-4fee-a7d3-9a3ec47d7711",
   "metadata": {},
   "source": [
    "# Mini-projet digue"
   ]
  },
  {
   "cell_type": "markdown",
   "id": "832d6fe3-5604-4ba6-bc02-c9a1c35ca309",
   "metadata": {},
   "source": [
    "#### Devambez Margot Mono 1A"
   ]
  },
  {
   "cell_type": "markdown",
   "id": "4bf8c513-2abe-4166-879b-ad389daa20ad",
   "metadata": {},
   "source": [
    "## Travail à la maison"
   ]
  },
  {
   "cell_type": "markdown",
   "id": "c86fcaf8-0ec6-468f-a92c-7b69b58b6283",
   "metadata": {},
   "source": [
    "1.  Bilan des forces appliquées à la digue en 2D : \n",
    "    - force gravitationnelle orientée vers le bas (poids du bloc de béton)\n",
    "    - force normale exercée par le sol rocheux vers le haut\n",
    "    - force de pression exercée par la masse d'eau sur le côté de la digue\n",
    "    - force de friction statique entre le béton et la roche horizontalement\n",
    "    \n",
    "La force normale exercée par le sol rocheux sur la digue, opposée à la gravité permet à la digue de ne pas glisser."
   ]
  },
  {
   "cell_type": "markdown",
   "id": "3952a46a-1c5a-40fc-9bdc-bc53db289fd7",
   "metadata": {},
   "source": [
    "2.  Pression hydrostatique dans l'eau : \n",
    "\n",
    "$P_(eau)$(x)=$ρ$*$g$*$z$\n",
    "\n",
    "Avec $ρ$ la masse volumique de l'eau, $g$ l'accélération dûe à la gravité et $z$ la hauteur par rapport au sol"
   ]
  },
  {
   "cell_type": "markdown",
   "id": "dcad814e-f2d8-4b39-a4df-714507dfb109",
   "metadata": {},
   "source": [
    "3.  Equations d'équilibre statique :\n",
    "    - Equilibre vertical $ΣF_y$=$N$ - $P_(eau)$ - $P_b$ = 0 \n",
    "    avec $N$ la force normale exercée par le sol, $P_(eau)$ la force de pression due à la hauteur d'eau et $P_b$ le poids du bloc de béton\n",
    "    - Equilibre horizontal $ΣF_x$=$F_(friction)$=0\n",
    "    avec $F_(friction)$ la force de friction statique entre le béton et le sol rocheux"
   ]
  },
  {
   "cell_type": "markdown",
   "id": "b2a89a24-fc09-4c83-8d24-974227775cdd",
   "metadata": {},
   "source": [
    "## Modélisation"
   ]
  },
  {
   "cell_type": "code",
   "execution_count": 1,
   "id": "968fd716-1079-422b-b1b2-d67bcafd1d69",
   "metadata": {
    "tags": []
   },
   "outputs": [],
   "source": [
    "import numpy as np\n",
    "import matplotlib.pyplot as plt\n",
    "from scipy.integrate import quad\n",
    "import scipy.integrate as si"
   ]
  },
  {
   "cell_type": "code",
   "execution_count": 2,
   "id": "016b0502-b488-4d34-8747-1d08f5384fe5",
   "metadata": {},
   "outputs": [
    {
     "data": {
      "image/png": "[encoded data removed]",
      "text/plain": [
       "<Figure size 432x288 with 1 Axes>"
      ]
     },
     "metadata": {
      "needs_background": "light"
     },
     "output_type": "display_data"
    }
   ],
   "source": [
    "# Ce code permet d'afficher les courbes représentant la digue\n",
    "\n",
    "H = 10\n",
    "xa = -5\n",
    "xe = +5\n",
    "\n",
    "\n",
    "# On définit les fonctions côté eau et côté air, ici les courbes concaves\n",
    "def fair(y):\n",
    "    return -(y - H) * xa / H\n",
    "\n",
    "def feau(y):\n",
    "    return  -(y - H) * xe / H\n",
    "\n",
    "# On crée un tableau de y\n",
    "y = np.linspace(0, H, 1000)\n",
    "\n",
    "# On trace\n",
    "plt.plot(fair(y), y, '-b') \n",
    "plt.plot(feau(y), y, '-b')  \n",
    " \n",
    "plt.plot([xe, xa], [0, 0], '-b') # Bas de la digue\n",
    "plt.xlabel('x (m)') \n",
    "plt.ylabel('y (m)')\n",
    "plt.text(xe, 8, 'eau')\n",
    "plt.text(xa, 8, 'air')\n",
    "plt.axis('equal') # Permet d'avoir un plot isométrique\n",
    "plt.axhline(0, color = \"black\")\n",
    "plt.axvline(0, color = \"black\")\n",
    "plt.xlim(-8, 8)\n",
    "plt.show()"
   ]
  },
  {
   "cell_type": "markdown",
   "id": "73bc0a8e-cfc7-457c-aff8-556e38aaa1f9",
   "metadata": {},
   "source": [
    "## Travail en séance"
   ]
  },
  {
   "cell_type": "markdown",
   "id": "ffb28843-e022-44b2-9a5a-738c85b8b001",
   "metadata": {},
   "source": [
    "### Cas des digues en pentes droites"
   ]
  },
  {
   "cell_type": "markdown",
   "id": "7e56c6c2-0190-42d8-990a-b10a19f673a8",
   "metadata": {},
   "source": [
    "a) On veut calculer le volume de la digue par intégration de la largeur de la digue en fonction de y.\n",
    "Pour cela, on définit d'abord une fonction qui calcule la largeur de la digue, puis on l'intègre grâce à la fonction quad du module scipy.integrate."
   ]
  },
  {
   "cell_type": "code",
   "execution_count": 3,
   "id": "dd925abf-a9ee-4c81-b9c2-734f242cdcc0",
   "metadata": {
    "tags": []
   },
   "outputs": [],
   "source": [
    "# Calcul de la largeur de la digue\n",
    "def largeur(y):\n",
    "    return L*(feau(y)-fair(y))\n",
    "L = 1\n",
    "\n",
    "# Calcul du volume de la digue par intégration de la largeur\n",
    "volume_int,erreur = si.quad(largeur,0,H)"
   ]
  },
  {
   "cell_type": "markdown",
   "id": "c87427b8-6dec-4064-bdde-3dc0bf192dce",
   "metadata": {},
   "source": [
    "On effectue maintenant le calcul analytique du volume avec l'aire du triangle ((base*hauteur)/2) multipliée par la longueur L=1m"
   ]
  },
  {
   "cell_type": "code",
   "execution_count": 4,
   "id": "bd9fd022-6fe7-491b-af50-723e828f7aee",
   "metadata": {
    "tags": []
   },
   "outputs": [],
   "source": [
    "volume_analytique = (((xe-xa)*H)/2)*1"
   ]
  },
  {
   "cell_type": "code",
   "execution_count": 5,
   "id": "60d1bd3b-1e7e-47dd-91bd-bbd098a76a66",
   "metadata": {
    "tags": []
   },
   "outputs": [
    {
     "name": "stdout",
     "output_type": "stream",
     "text": [
      "volume de la digue par intégration : 50.0 m3\n",
      "volume de la digue par calcul analytique : 50.0 m3\n"
     ]
    }
   ],
   "source": [
    "print('volume de la digue par intégration :', volume_int, 'm3')\n",
    "print('volume de la digue par calcul analytique :', volume_analytique, 'm3')"
   ]
  },
  {
   "cell_type": "markdown",
   "id": "f1352947-72b2-4fc3-afa0-1adcd425b739",
   "metadata": {},
   "source": [
    "La force de gravité exercée sur la digue est le poids, on a donc $P$=$m$*$g$\n",
    "<br> On sait que $m$=$ρ$*$V$ avec $ρ$ la masse volumique de la digue et $V$ le volume de la digue.\n",
    "On a donc : $P$=$ρ$*$V$*$g$"
   ]
  },
  {
   "cell_type": "code",
   "execution_count": 6,
   "id": "093eddd3-b1ce-4231-b27f-05bad918aad7",
   "metadata": {
    "tags": []
   },
   "outputs": [
    {
     "name": "stdout",
     "output_type": "stream",
     "text": [
      "force de gravité exercée sur la digue : 1471500.0 N\n"
     ]
    }
   ],
   "source": [
    "g = 9.81 #m/s2\n",
    "p_digue = 3000 #kg/m3\n",
    "\n",
    "# Calcul de la force de gravité\n",
    "poids = p_digue*volume_int*g\n",
    "\n",
    "print('force de gravité exercée sur la digue :', poids, 'N')"
   ]
  },
  {
   "cell_type": "markdown",
   "id": "73a43397-aae3-41b1-8ad6-feb200c830e6",
   "metadata": {},
   "source": [
    "b) On veut maintenant calculer la résultante des forces de pression côté eau."
   ]
  },
  {
   "cell_type": "code",
   "execution_count": 7,
   "id": "d5c67d69-1c21-49a3-967c-d2eb88cf503c",
   "metadata": {
    "tags": []
   },
   "outputs": [
    {
     "name": "stdout",
     "output_type": "stream",
     "text": [
      "force en x : -490500.0 N\n",
      "force en y : -245250.0 N\n",
      "resultante des forces : 548395.6714818234 N\n"
     ]
    }
   ],
   "source": [
    "peau = 1000 #kg/m3\n",
    "g = 9.81 #m/s2\n",
    "H = 10\n",
    "\n",
    "# Définition des fonctions de densité de force\n",
    "\n",
    "# Selon x \n",
    "def df_x(y):\n",
    "    return -peau*g*(H-y)\n",
    "f_x,err = si.quad(df_x, 0, H)  # Calcul de l'intégrale\n",
    "\n",
    "print('force en x :', f_x, 'N')\n",
    "\n",
    "# Selon y \n",
    "def df_y(y):\n",
    "    return peau*g*(H-y)*xa/H\n",
    "f_y,err = si.quad(df_y, 0, H)  # Calcul de l'intégrale\n",
    "\n",
    "print('force en y :', f_y, 'N')\n",
    "\n",
    "# Calcul de la résultante des forces de pression \n",
    "resultante = np.sqrt(f_x**2+f_y**2)\n",
    "\n",
    "print('resultante des forces :', resultante, 'N')"
   ]
  },
  {
   "cell_type": "markdown",
   "id": "414e00e0-16b0-435b-8004-1b02b6ec3cb0",
   "metadata": {},
   "source": [
    "c) On veut maintenant calculer avec le principe fondamental de la dynamique les deux composantes (normale et tangentielle) de la force de réaction du sol, puis le rapport de ces composante\n",
    "D'après le PFD, $ΣF$=$0$\n",
    "<br> On a donc $P$+$Fg$+$R$=$0$\n",
    "<br> <=>  $P$+$Fg$+$T$+$N$=$0$\n"
   ]
  },
  {
   "cell_type": "code",
   "execution_count": 8,
   "id": "7e516fcb-d6b5-42c2-9991-25ca155ce2db",
   "metadata": {
    "tags": []
   },
   "outputs": [
    {
     "name": "stdout",
     "output_type": "stream",
     "text": [
      "composante normale de la force de réaction du sol -1226250.0 N\n",
      "composante tangentielle de la force de réaction du sol 490500.0 N\n",
      "T/N -0.4\n"
     ]
    }
   ],
   "source": [
    "N = -f_y-poids\n",
    "T = -f_x\n",
    "print('composante normale de la force de réaction du sol', N, 'N')\n",
    "print('composante tangentielle de la force de réaction du sol', T, 'N')\n",
    "print('T/N', T/N)"
   ]
  },
  {
   "cell_type": "markdown",
   "id": "10c59d6d-5771-4cbf-b02d-4e58d0dcd7a0",
   "metadata": {},
   "source": [
    "Le rapport T/N est inférieur au coefficient de frottement, la digue est donc stable."
   ]
  },
  {
   "cell_type": "markdown",
   "id": "fb8d7cf8-e95f-4615-9c60-c41662f89146",
   "metadata": {},
   "source": [
    "### Cas des digues convexes"
   ]
  },
  {
   "cell_type": "code",
   "execution_count": 9,
   "id": "3c5bd5f7-b2a2-450a-88df-b68b245ce2be",
   "metadata": {
    "tags": []
   },
   "outputs": [
    {
     "data": {
      "image/png": "[encoded data removed]",
      "text/plain": [
       "<Figure size 432x288 with 1 Axes>"
      ]
     },
     "metadata": {
      "needs_background": "light"
     },
     "output_type": "display_data"
    }
   ],
   "source": [
    "# Ce code permet d'afficher les courbes représentant la digue\n",
    "\n",
    "H = 10\n",
    "xe = 5\n",
    "xa = 0\n",
    "\n",
    "# On définit les fonctions côté eau et côté air, ici les courbes concaves\n",
    "a = 3\n",
    "def feau(y):\n",
    "    return a * (y / H) ** 2 - (a + xe) * (y / H) + xe\n",
    "def fair(y):\n",
    "    return (H - y) * xa / H\n",
    "\n",
    "# On crée un tableau de y\n",
    "y = np.linspace(0, H, 1000)\n",
    "\n",
    "# On trace\n",
    "plt.plot(feau(y), y, '-b')\n",
    "plt.plot(fair(y), y, '-b')\n",
    "plt.plot([xe, xa], [0, 0], '-b')\n",
    "plt.xlabel('x (m)')\n",
    "plt.ylabel('y (m)')\n",
    "plt.text(3, 8, 'eau')\n",
    "plt.text(-3, 8, 'air')\n",
    "plt.axis('equal') # Permet d'avoir un plot isométrique\n",
    "plt.axhline(0, color = \"black\")\n",
    "#plt.axvline(0, color = \"black\")\n",
    "plt.xlim(-8, 8)\n",
    "plt.show()"
   ]
  },
  {
   "cell_type": "markdown",
   "id": "55229d64-55ce-4419-85ca-a4d0d9e46837",
   "metadata": {
    "tags": []
   },
   "source": [
    "e) On veut calculer , pour a=3, xa=0 et xe=5 la résultante des forces de pression, le volume de béton, et le rapport dans l’hypothèse de l’équilibre statique."
   ]
  },
  {
   "cell_type": "code",
   "execution_count": 10,
   "id": "eda41ef6-f09e-4994-807f-96f461778781",
   "metadata": {
    "tags": []
   },
   "outputs": [
    {
     "name": "stdout",
     "output_type": "stream",
     "text": [
      "force en x : -490500.0 N\n",
      "force en y : -294300.00000000006 N\n",
      "module force : 572016.380884324 N\n"
     ]
    }
   ],
   "source": [
    "a = 3\n",
    "xa = 0\n",
    "xe = 5\n",
    "\n",
    "def dforce_x(y):\n",
    "    return peau*g*(H-y)*(-1)\n",
    "f_x,err1 = quad(dforce_x,0,H)\n",
    "\n",
    "def dforce_y(y):\n",
    "    return peau*g*(H-y)*(((2*a*y)/H**2)-((a+xe)/H))\n",
    "f_y,err = quad(dforce_y, 0, H)\n",
    "\n",
    "print('force en x :', f_x, 'N')\n",
    "print('force en y :', f_y, 'N')\n",
    "\n",
    "module = np.sqrt(f_x**2+f_y**2)\n",
    "print('module force :', module, 'N')"
   ]
  },
  {
   "cell_type": "markdown",
   "id": "45008bbd-e410-4238-acb4-259dce5b2808",
   "metadata": {},
   "source": []
  }
 ],
 "metadata": {
  "kernelspec": {
   "display_name": "Python 3 (ipykernel)",
   "language": "python",
   "name": "python3"
  },
  "language_info": {
   "codemirror_mode": {
    "name": "ipython",
    "version": 3
   },
   "file_extension": ".py",
   "mimetype": "text/x-python",
   "name": "python",
   "nbconvert_exporter": "python",
   "pygments_lexer": "ipython3",
   "version": "3.11.6"
  }
 },
 "nbformat": 4,
 "nbformat_minor": 5
}
