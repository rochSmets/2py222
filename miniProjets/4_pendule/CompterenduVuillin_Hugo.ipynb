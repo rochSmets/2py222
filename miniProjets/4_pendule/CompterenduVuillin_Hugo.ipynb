{
 "cells": [
  {
   "cell_type": "markdown",
   "id": "ff832330-07a7-4b52-81de-4bcbd72250dd",
   "metadata": {},
   "source": [
    "# Compte Rendu Pendule"
   ]
  },
  {
   "cell_type": "markdown",
   "id": "c81ea783-5544-4ea8-8ccd-06e2288f50ec",
   "metadata": {},
   "source": [
    "# I-Modèle \n",
    "Nous allons dans ce compte rendu étudier un pendule simple dans plusieurs cas.\n",
    "Tout d'abord nous ferons l'approximation des petits angles et on supposera le second membre nul tel que: $$\\frac{\\mathrm{d}^{2}\\theta}{\\mathrm{d}t^{2}}+q\\frac{\\mathrm{d}\\theta}{\\mathrm{d}t}+\\Omega^{2}\\theta=0$$\n",
    "où $\\theta$ est l'angle que fait le pendule par rapport à la verticale, $\\Omega=\\sqrt{{g/l}}$ est la pulsation propre et $q$ est le terme de frottement fluide. On utilisera par commodité la valeur suivante : $\\Omega=1$ $\\mathrm{rad\\cdot s^{-1}}$.\n",
    "On prendra comme conditions initiales $\\theta(t=0)=10\\mathrm{~°}$ (à convertir en radians) et $\\frac{\\mathrm{d}\\theta}{\\mathrm{d}t}(t=0)=0$ et un pas de temps $\\mathrm{d}t=0.05\\mathrm{~s}$ pour $t$ allant de $0$ à $20\\mathrm{~s}$. On étudiera cette équation pour différentes valeurs de l'amortissement : $q=1$, $q=2$, $q=5\\mathrm{~s^{-1}}$\n",
    "On tracera alors $\\theta(t)$ dans ces régimes respectivement pseudo-périodique, critique et apériodique.\n",
    "\n",
    "Ensuite on ajoutera une force d'excitation au second membre de la forme: $F_e\\sin(\\Omega_e t). $\n",
    "L'équation du pendule devient alors: $$ \\frac{\\mathrm{d}^2\\theta}{\\mathrm{d}t^2}+q\\frac{\\mathrm{d}\\theta}{\\mathrm{d}t}+\\Omega^2\\theta=F_e\\sin(\\Omega_e t). $$\n",
    "\n",
    "On prendra toujours comme conditions initiales $\\theta(t=0)=10\\mathrm{~°}$ (à convertir en radians) et $\\frac{\\mathrm{d}\\theta}{\\mathrm{d}t}(t=0)=0$.\n",
    "\n",
    "\n",
    "Enfin lorsque l'on ne fait plus l'hypothèse des petits angles ($\\sin\\theta\\approx\\theta$), on obtient une équation différentielle d'ordre 2 qui n'est pas linéaire le mouvement est donc chaotique :\n",
    "$$ \\frac{\\mathrm{d}^2\\theta}{\\mathrm{d}t^2}+q\\frac{\\mathrm{d}\\theta}{\\mathrm{d}t}+\\Omega^2\\sin\\theta=F_e\\sin(\\Omega_e t) $$\n",
    "\n",
    "Pour certaines valeurs des paramètres physiques, le comportement du pendule sera chaotique. Afin d'illustrer ce comportement, on se placera dans les conditions suivantes : $\\theta(t=0)=10\\mathrm{~°}$ (à convertir en radians) et $\\frac{\\mathrm{d}\\theta}{\\mathrm{d}t}(t=0)=0$, $\\Omega_e=2\\Omega/3$, $q=0.5\\mathrm{~s^{-1}}$. \n"
   ]
  },
  {
   "cell_type": "markdown",
   "id": "db5f09db-e6ac-4c27-9842-a839b11982d5",
   "metadata": {},
   "source": [
    "## II Méthode de résolution"
   ]
  },
  {
   "cell_type": "markdown",
   "id": "9e380b74-1666-4b92-abeb-89b7e74cac11",
   "metadata": {},
   "source": [
    "Pour résoudre et modéliser ces équations différentielles nous allons la méthode de Range-Rukka à l'ordre 4.\n",
    "Considérons les  équations différentielles ordinaires d'ordre 1 de la forme :\n",
    "\n",
    "$$\n",
    "    u'(t) = F(u,t)\n",
    "$$\n",
    "\n",
    "avec une  condition initiale :\n",
    "\n",
    "$$\n",
    "u(0) = U_0\n",
    "$$\n",
    "\n",
    "où $u$ est une quantité scalaire ou vectorielle.\n",
    "\n",
    "L'intégration de l'EDO entre $t_k$ et $t_{k+1}= t_k+\\Delta t $ \n",
    "donne formellement :\n",
    "\n",
    "$$\n",
    "u(t_{k+1})-u(t_k) = \\int_{t_k}^{t_k+\\Delta t} \\, F(u(t),t)\\,\\text{d}t\n",
    "$$\n",
    "\n",
    "Dans la méthode d'Euler explicite, l'intégrale est approximée par\n",
    "\n",
    "$$\n",
    "\\int_{t_k}^{t_k+\\Delta t} \\, F(u(t),t)\\,\\text{d}t = F(u(t_k),t_k) \\Delta t\n",
    "$$\n",
    "\n",
    "À chaque pas l'erreur est de l'ordre de $M(\\Delta t)^2/2$ où $M$ est l'ordre\n",
    "de grandeur de la dérivée de $F$ par rapport à $t$.\n",
    "Au bout de $N$ pas d'intégration, l'erreur cumulée est donc de l'ordre\n",
    "de $\\Delta t$ (et on voit facilement qu'il en sera de même pour la méthode implicite).\n",
    "D'où la qualification de méthode d'ordre 1 en $\\Delta t$ donnée à la méthode d'Euler. \n",
    "Cette méthode donne à l'ordre 4:\n",
    "\n",
    "$$\n",
    "    d_1 =   F\\left(t_k   , u_{k} \\right)          \n",
    "$$\n",
    "\n",
    "$$\n",
    "    d_2 =   F\\left(t_k + \\frac{\\Delta t}{2}  , u_{k} + \\frac{\\Delta t}{2} d_1 \\right)\n",
    "$$\n",
    "\n",
    "$$\n",
    "    d_3 =   F\\left(t_k + \\frac{\\Delta t}{2}  , u_{k} + \\frac{\\Delta t}{2} d_2 \\right) \n",
    "$$\n",
    "\n",
    "$$\n",
    "    d_4 =   F\\left(t_k + \\Delta t  , u_{k} + \\Delta t d_3\\right)            \n",
    "$$\n",
    "\n",
    "$$\n",
    "    u_{k+1} =  u_k  +  \\frac{\\Delta t}{6} \\left[ d_1+ 2 d_2  + 2 d_3 + d_4 \\right]\n",
    "$$\n",
    "\n",
    "où l'erreur par pas est d'ordre $\\Delta t^5$ et l'erreur cumulée est  d'ordre $\\Delta t^4$.\n",
    "\n",
    "En appliquant la méthode RK4:\n",
    "\n",
    "Pour la première équation nous tracerons l'évolution de l\\'angle pour différentes valeurs de l'amortissement.\n",
    "\n",
    "Pour la seconde équation on prendra une force excitatrice d'intensité $F_e=1\\mathrm{~rad\\cdot s^{-2}}$ et de pulsation $\\Omega_e=\\frac{2\\Omega}{3}$.\n",
    "On tracera alors la trajectoire dans l'espace des phase $\\left(\\theta,\\frac{\\mathrm{d}\\theta}{\\mathrm{d}t}\\right)$ pour le pendule libre ($q=0$ et $F_e=0$), amorti ($q=1$ et $F_e=0$), et amorti avec excitation ($q=1$ et $F_e=1$)\n",
    "\n",
    "Enfin pour la dernière équation ,pour les valeurs suivantes de l'amplitude d'excitation : $F_e=\\{1.4,1.44,1.465,1.5\\}\\mathrm{~rad\\cdot s^{-2}}$.\n",
    "on tracera $\\theta(t)$ sur un temps de $100\\mathrm{~s}$. \n",
    "Dans le cas $F_e=1.5\\mathrm{~rad\\cdot s^{-2}}$, on calculera l'évolution de $\\theta(t)$ pour deux conditions initiales très proches l'une de l'autre : $\\theta(t=0)=10\\mathrm{~°}$ et $\\theta(t=0)=9.999\\mathrm{~°}$. On tracera la valeur absolue de la différence entre les deux solutions en fonctions du temps en échelle semi-logarithmique."
   ]
  },
  {
   "cell_type": "markdown",
   "id": "0750fe7e-4928-4c1a-9ae1-c1db028221b1",
   "metadata": {},
   "source": [
    "## III-Résolution"
   ]
  },
  {
   "cell_type": "code",
   "execution_count": null,
   "id": "962ecba8-7217-4259-bf97-3deda971b244",
   "metadata": {
    "tags": []
   },
   "outputs": [],
   "source": [
    "import numpy as np\n",
    "import matplotlib.pyplot as plt\n",
    "\n",
    "# Définition de l'équation différentielle\n",
    "def pendule_eq(t, y, q, Omega):\n",
    "    theta, omega = y\n",
    "    dydt = [omega, -q * omega - Omega**2 * np.sin(theta)]\n",
    "    return dydt\n",
    "\n",
    "# Méthode RK4\n",
    "def RK4_pendule(start, end, step, y0, q, Omega):\n",
    "    num_points = int((end - start) / step) + 1\n",
    "    t = np.linspace(start, end, num_points)\n",
    "    y = np.zeros((len(y0), num_points))\n",
    "    y[:, 0] = y0\n",
    "\n",
    "    for i in range(1, num_points):\n",
    "        k1 = step * np.array(pendule_eq(t[i-1], y[:, i-1], q, Omega))\n",
    "        k2 = step * np.array(pendule_eq(t[i-1] + 0.5 * step, y[:, i-1] + 0.5 * k1, q, Omega))\n",
    "        k3 = step * np.array(pendule_eq(t[i-1] + 0.5 * step, y[:, i-1] + 0.5 * k2, q, Omega))\n",
    "        k4 = step * np.array(pendule_eq(t[i-1] + step, y[:, i-1] + k3, q, Omega))\n",
    "\n",
    "        y[:, i] = y[:, i-1] + (k1 + 2*k2 + 2*k3 + k4) / 6\n",
    "\n",
    "    return t, y\n",
    "\n"
   ]
  },
  {
   "cell_type": "code",
   "execution_count": null,
   "id": "591ae1ee-277d-4307-8b70-ea18125835ca",
   "metadata": {
    "tags": []
   },
   "outputs": [],
   "source": [
    "# Conditions initiales\n",
    "theta0 = np.radians(10)  # Convertir en radians\n",
    "omega0 = 0.0\n",
    "y0 = [theta0, omega0]\n",
    "\n",
    "# Paramètres de la simulation\n",
    "start_time = 0\n",
    "end_time = 20\n",
    "time_step = 0.05\n",
    "\n",
    "# Valeurs de l'amortissement q\n",
    "q = [1, 2, 5]\n",
    "\n",
    "# Pulsation propre Omega\n",
    "Omega = 1\n"
   ]
  },
  {
   "cell_type": "code",
   "execution_count": null,
   "id": "0e5f784c-531e-4791-91ce-27aaa410afe1",
   "metadata": {
    "tags": []
   },
   "outputs": [],
   "source": [
    "# Tracé des résultats pour différentes valeurs de q\n",
    "plt.figure(figsize=(10, 6))\n",
    "\n",
    "for i in q:\n",
    "    t, y = RK4_pendule(start_time, end_time, time_step, y0, i, Omega)\n",
    "    plt.plot(t, np.degrees(y[0]), label=f'q = {i} s$^{-1}$')\n",
    "\n",
    "plt.xlabel('Temps (s)')\n",
    "plt.ylabel('Angle (degrés)')\n",
    "plt.title('Évolution de l\\'angle pour différentes valeurs de l\\'amortissement')\n",
    "plt.legend()\n",
    "plt.show()"
   ]
  },
  {
   "cell_type": "markdown",
   "id": "ab5a3d92-e942-400e-a04b-a52c4895bc6c",
   "metadata": {},
   "source": [
    "On remarque pour la première équation que la valeur de l'angle $\\theta$ tend vers quand le temps augmente.Il y a une décroissance qui est accentuée plus $q$ est petit. Pour q=1 la valeur de $\\theta$ passe même en dessous de 0 pour se stabiliser vers 0 à 10 secondes,cela ressemble d'ailleurs au cas d'une force centrale attractive. Puis on augmente la valeur de q moins la pente est grande. Le facteur q amorti donc bien le mouvement du pendule plus il est grand."
   ]
  },
  {
   "cell_type": "code",
   "execution_count": null,
   "id": "4193fdc5-98e8-4a43-aeb9-8cef9e57155b",
   "metadata": {
    "tags": []
   },
   "outputs": [],
   "source": [
    "def pendule_eq_excit(t, y, q, Omega, Fe, Omega_e):\n",
    "    theta, omega = y\n",
    "    dydt = [omega, -q * omega - Omega**2 * np.sin(theta) + Fe * np.sin(Omega_e * t)]\n",
    "    return dydt\n",
    "\n",
    "# Méthode RK4 avec force d'excitation\n",
    "def RK4_pendule_excit(start, end, step, y0, q, Omega, Fe, Omega_e):\n",
    "    num_points = int((end - start) / step) + 1\n",
    "    t = np.linspace(start, end, num_points)\n",
    "    y = np.zeros((len(y0), num_points))\n",
    "    y[:, 0] = y0\n",
    "\n",
    "    for i in range(1, num_points):\n",
    "        k1 = step * np.array(pendule_eq_excit(t[i-1], y[:, i-1], q, Omega, Fe, Omega_e))\n",
    "        k2 = step * np.array(pendule_eq_excit(t[i-1] + 0.5 * step, y[:, i-1] + 0.5 * k1, q, Omega, Fe, Omega_e))\n",
    "        k3 = step * np.array(pendule_eq_excit(t[i-1] + 0.5 * step, y[:, i-1] + 0.5 * k2, q, Omega, Fe, Omega_e))\n",
    "        k4 = step * np.array(pendule_eq_excit(t[i-1] + step, y[:, i-1] + k3, q, Omega, Fe, Omega_e))\n",
    "\n",
    "        y[:, i] = y[:, i-1] + (k1 + 2*k2 + 2*k3 + k4) / 6\n",
    "\n",
    "    return t, y\n"
   ]
  },
  {
   "cell_type": "code",
   "execution_count": null,
   "id": "d3eb8193-d3c8-40eb-b668-ff407f2be11f",
   "metadata": {
    "tags": []
   },
   "outputs": [],
   "source": [
    "# Conditions initiales\n",
    "theta0 = np.radians(10)  # Convertir en radians\n",
    "omega0 = 0.0\n",
    "y0 = [theta0, omega0]\n",
    "\n",
    "# Paramètres de la simulation\n",
    "start_time = 0\n",
    "end_time = 20\n",
    "time_step = 0.05\n",
    "\n",
    "# Paramètres du pendule\n",
    "Omega = 1\n",
    "Fe = 1\n",
    "Omega_e = 2 * Omega/3\n",
    "\n",
    "# Méthode RK4 pour différentes conditions\n",
    "t_libre, y_libre = RK4_pendule_excit(start_time, end_time, time_step, y0, 0, Omega, 0, Omega_e)\n",
    "t_amorti, y_amorti = RK4_pendule_excit(start_time, end_time, time_step, y0, 1, Omega, 0, Omega_e)\n",
    "t_excite, y_excite = RK4_pendule_excit(start_time, end_time, time_step, y0, 1, Omega, Fe, Omega_e)\n",
    "\n",
    "# Trajectoire dans l'espace des phases\n",
    "plt.figure(figsize=(10, 6))\n",
    "plt.plot(y_libre[0], y_libre[1], label='Pendule libre')\n",
    "plt.plot(y_amorti[0], y_amorti[1], label='Pendule amorti')\n",
    "plt.plot(y_excite[0], y_excite[1], label='Pendule amorti avec excitation')\n",
    "plt.xlabel('Angle (rad)')\n",
    "plt.ylabel('Vitesse angulaire (rad/s)')\n",
    "plt.title('Trajectoires dans l\\'espace des phases')\n",
    "plt.legend()\n",
    "plt.show()\n"
   ]
  },
  {
   "cell_type": "markdown",
   "id": "bcfd8e41-f215-4a7e-9ffa-87621817b436",
   "metadata": {},
   "source": [
    "On remarque que pour le cas classique ou $F_e$=0 et q=0 la trajectoire est un cercle ce qui est le résultat attendu pour le pendule simple. Pour le pendule simple amorti. Le facteur q diminue les valeurs de la vitesse angulaire comparé au cas précédent mais la trajectoire arrive au final à certaines valeurs que prend le pendule sans amortississement.\n",
    "Enfin si on ajoute une force d'exciation et une valeur d'amortissement les valeurs de vitesse angulaire sont supérieures au cas précédent tout comme l'angle. On voit que le mouvement commence par une spirale pour se stabiliser dans une forme d'ellipse on pense que la "
   ]
  },
  {
   "cell_type": "code",
   "execution_count": null,
   "id": "c87a1ee0-bc8a-456d-a9de-938ac505defa",
   "metadata": {
    "tags": []
   },
   "outputs": [],
   "source": [
    "\n",
    "def pendule_nonlineaire_eq(t, y, q, Omega, Fe, Omega_e):\n",
    "    theta, omega = y\n",
    "    dydt = [omega, -q * omega - Omega**2 * np.sin(theta) + Fe * np.sin(Omega_e * t)]\n",
    "    return dydt\n",
    "\n",
    "# Méthode RK4\n",
    "def RK4_pendule_nonlineaire(start, end, step, y0, q, Omega, Fe, Omega_e):\n",
    "    num_points = int((end - start) / step) + 1\n",
    "    t = np.linspace(start, end, num_points)\n",
    "    y = np.zeros((len(y0), num_points))\n",
    "    y[:, 0] = y0\n",
    "\n",
    "    for i in range(1, num_points):\n",
    "        k1 = step * np.array(pendule_nonlineaire_eq(t[i-1], y[:, i-1], q, Omega, Fe, Omega_e))\n",
    "        k2 = step * np.array(pendule_nonlineaire_eq(t[i-1] + 0.5 * step, y[:, i-1] + 0.5 * k1, q, Omega, Fe, Omega_e))\n",
    "        k3 = step * np.array(pendule_nonlineaire_eq(t[i-1] + 0.5 * step, y[:, i-1] + 0.5 * k2, q, Omega, Fe, Omega_e))\n",
    "        k4 = step * np.array(pendule_nonlineaire_eq(t[i-1] + step, y[:, i-1] + k3, q, Omega, Fe, Omega_e))\n",
    "\n",
    "        y[:, i] = y[:, i-1] + (k1 + 2*k2 + 2*k3 + k4) / 6\n",
    "\n",
    "        # Correction pour maintenir l'angle dans l'intervalle [-pi, pi]\n",
    "        if y[0, i] > np.pi:\n",
    "            y[0, i] -= 2 * np.pi\n",
    "        elif y[0, i] < -np.pi:\n",
    "            y[0, i] += 2 * np.pi\n",
    "\n",
    "    return t, y\n",
    "\n",
    "\n",
    "theta0 = np.radians(10)  # Convertir en radians\n",
    "omega0 = 0.0\n",
    "y0 = [theta0, omega0]\n",
    "\n",
    "\n",
    "start_time = 0\n",
    "end_time = 100\n",
    "time_step = 0.05\n",
    "\n",
    "\n",
    "q = 0.5\n",
    "Omega = 1\n",
    "Omega_e = 2 * Omega / 3\n",
    "\n",
    "\n",
    "Fe = [1.4, 1.44, 1.465, 1.5]\n",
    "\n",
    "# Tracé des résultats pour différentes valeurs de Fe\n",
    "plt.figure(figsize=(10, 6))\n",
    "\n",
    "for i in Fe:\n",
    "    t, y = RK4_pendule_nonlineaire(start_time, end_time, time_step, y0, q, Omega, i,Omega_e)\n",
    "    plt.plot(t, np.degrees(y[0]), label=f'Fe = {i} rad/s^2')\n",
    "\n",
    "plt.xlabel('Temps (s)')\n",
    "plt.ylabel('Angle (degrés)')\n",
    "plt.title('Évolution de l\\'angle pour différentes valeurs d\\'amplitude d\\'excitation')\n",
    "plt.legend()\n",
    "plt.show()\n",
    "\n",
    "# Calcul de l'évolution de theta pour deux conditions initiales proches\n",
    "theta0_1 = np.radians(10)\n",
    "theta0_2 = np.radians(9.999)\n",
    "\n",
    "t, y1 = RK4_pendule_nonlineaire(start_time, end_time, time_step, [theta0_1, omega0], q, Omega, 1.5, Omega_e)\n",
    "t, y2 = RK4_pendule_nonlineaire(start_time, end_time, time_step, [theta0_2, omega0], q, Omega, 1.5, Omega_e)\n",
    "\n",
    "# Tracé de la différence entre les deux solutions\n",
    "plt.figure(figsize=(10, 6))\n",
    "plt.grid()\n",
    "plt.semilogy(t, np.abs(y1[0] - y2[0]), label='Différence entre les solutions')\n",
    "plt.xlabel('Temps (s)')\n",
    "plt.ylabel('Différence absolue')\n",
    "plt.title('Évolution de la différence entre les solutions pour Fe = 1.5 rad/s^2')\n",
    "plt.legend()\n",
    "plt.show()"
   ]
  },
  {
   "cell_type": "code",
   "execution_count": null,
   "id": "e5891c5e-aaad-46ca-97b9-1e6ac9395fe9",
   "metadata": {
    "tags": []
   },
   "outputs": [],
   "source": [
    "theta0 = np.radians(10)  # Convertir en radians\n",
    "omega0 = 0.0\n",
    "y0 = [theta0, omega0]\n",
    "\n",
    "\n",
    "start_time = 0\n",
    "end_time = 100\n",
    "time_step = 0.05\n",
    "\n",
    "\n",
    "q = 0.5\n",
    "Omega = 1\n",
    "Omega_e = 2 * Omega / 3\n",
    "\n",
    "\n",
    "Fe = [1.4, 1.44, 1.465, 1.5]\n",
    "\n",
    "# Tracé des résultats pour différentes valeurs de Fe\n",
    "plt.figure(figsize=(10, 6))\n",
    "\n",
    "for i in Fe:\n",
    "    t, y = RK4_pendule_nonlineaire(start_time, end_time, time_step, y0, q, Omega, i,Omega_e)\n",
    "    plt.plot(t, np.degrees(y[0]), label=f'Fe = {i} rad/s^2')\n",
    "\n",
    "plt.xlabel('Temps (s)')\n",
    "plt.ylabel('Angle (degrés)')\n",
    "plt.title('Évolution de l\\'angle pour différentes valeurs d\\'amplitude d\\'excitation')\n",
    "plt.legend()\n",
    "plt.show()\n"
   ]
  },
  {
   "cell_type": "markdown",
   "id": "fe58fe11-057d-49fe-b724-9f2cebbbcb2e",
   "metadata": {},
   "source": [
    "<div style='text-align:justify;'>On observe pour le premier graphique que lorsque que l'on ne fait plus l'approximation des petits angles le mouvement devient chaotique. Pour des petits temps plus les valeurs de $\\theta$ sont proches pour différentes valeurs de $F_e$.Mais plus le temps augmente plus l'écart devient important notamment $F_e=1.5\\mathrm{~rad\\cdot s^{-2}}$ qui oscillera entre $\\pi$ et -$\\pi$ plus souvent que pour les autres valeurs de la force d'exciation qui elles restent très proches sur les 100 secondes.\n",
    "Le mouvement est périodique pour les 3 trois premières valeurs de $F_e$. La période est la même seul l'amplitude du mouvement change cepedant pour la derniere valeur de la force d'excitation le mouvement semble ni périodique ni sinusoidal il est purement chaotique.</div>\n",
    "\n"
   ]
  },
  {
   "cell_type": "markdown",
   "id": "f697e9ec-01c6-4481-a4f2-6f027e401238",
   "metadata": {},
   "source": [
    "<div style='text-align:justify;'>Enfin sur le deuxieme graphique on observe que pour un petit écart des conditions initiales la différence entre les solutions est au départ près de $10^{-6}$ donc très petite. Cependant plus le temps augmente plus cette différence ici avec tout de même des piques en certaines valeurs de temps spécifiques mais la majorité des points aux alentours de 100 secondes se trouvent à 1. En 100 seconde la différence entre les solutions à augmenter d'un facteur près de $10^{6}$ ce qui est énorme. Cela montre donc bien que sur un mouvement chaotique une variation infinétésimale d'une conditon initiale peut changer grandement le résultat plus le temps avance.</div>"
   ]
  },
  {
   "cell_type": "markdown",
   "id": "391734a0-603e-46f6-b2e5-f2f82b7f5f89",
   "metadata": {},
   "source": [
    "## IV-Conclusion"
   ]
  },
  {
   "cell_type": "markdown",
   "id": "12dcd71e-a7d4-4529-974e-261ce811074f",
   "metadata": {},
   "source": [
    "<div style='text-align:justify;'>Nous avons donc ici étudié un pendule simple dans le cas de l'approximation des petits angles avec différentes valeurs de l'amortissement $q$. Puis nous avons étudié où le second membre n'est plus nul mais possède une force sinusoidale. Enfin on reprend le cas précédent sans l'approximation des petits angles.\n",
    "Pour le premier graphique on tracé l'évolution de l'angle $\\theta$ en fonction du temps pour différentes valeurs d'amortissement et on remarque que les valeurs de $q$ influence grandement la pente de $\\theta$ mais que toutefois l'angle tend vers une position de stabilité à 0°.\n",
    "Puis pour le second graphique on trace la vitesse angulaire en fonction $\\theta$ on a bien les résultats attendus que l'amortissement baisse cette vitesse et qu'une force d'excitation sinusoidale augmente grandement la vitesse et l'angle.\n",
    "Enfin on trace $\\theta(t)$ pour différentes valeurs de $F_e$ on remarque immédiatement un comportement chaotique on a des courbes très proches pour trois valeurs de$F_e$ sauf pour 1,5 qui diffère beaucoup des autres. On reconnait tout de même la nature sinusoidale de la fonction.\n",
    "Puis on observe le cas entre deux conditions initiales très proches. La différence est initialement très petite mais plus on avance dans le temps plus cette différence augmente.Cela prouve donc que pour un mouvment chaotique le pendule est très sensible aux conditions initiales.\n",
    "C'est la même conclusion que l'on trouvait dans l'étude de la suite chaotique du Compte rendu N°2 on l'on trouvait que la suite était très sensible à un changement petit d'une des conditions initiales.</div>\n",
    "\n",
    "Il serait ici intéressant d'étudier le cas sans l'approximation des petits angles et sans la force d'excitation et de voir l'influence des valeurs de $q$ ,quel sera le mouvement et la vitesse angulaire et de voir s'il tend vers une position d'équilibre."
   ]
  },
  {
   "cell_type": "code",
   "execution_count": null,
   "id": "efe3aadf-2bf2-404f-bd2e-6c111c9649c1",
   "metadata": {},
   "outputs": [],
   "source": []
  }
 ],
 "metadata": {
  "kernelspec": {
   "display_name": "Python 3 (ipykernel)",
   "language": "python",
   "name": "python3"
  },
  "language_info": {
   "codemirror_mode": {
    "name": "ipython",
    "version": 3
   },
   "file_extension": ".py",
   "mimetype": "text/x-python",
   "name": "python",
   "nbconvert_exporter": "python",
   "pygments_lexer": "ipython3",
   "version": "3.9.7"
  }
 },
 "nbformat": 4,
 "nbformat_minor": 5
}
