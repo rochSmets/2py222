{
 "cells": [
  {
   "cell_type": "markdown",
   "id": "ec28245c-39f0-4aae-a527-0243c8322636",
   "metadata": {
    "tags": []
   },
   "source": [
    "# Compte-rendu Mini-Projet - Mouvement rétrograde de Mars - Thomas LETERTRE - Mono 1A"
   ]
  },
  {
   "cell_type": "markdown",
   "id": "4f96a4bf-731d-4a06-919d-70f868089a00",
   "metadata": {},
   "source": [
    " "
   ]
  },
  {
   "cell_type": "markdown",
   "id": "e7d2d438-35fb-42a4-b712-88a0967b7a6d",
   "metadata": {
    "tags": []
   },
   "source": [
    "On cherchera dans ce mini-projet à construire un modèle reproduisant le mouvement rétrograde de Mars vu depuis la Terre."
   ]
  },
  {
   "cell_type": "markdown",
   "id": "c80eea83-d876-44d9-9a34-848be6f013c5",
   "metadata": {
    "tags": []
   },
   "source": [
    "On utilisera un modèle bidimensionnel du mouvement de la Terre et de Mars autour du Soleil dans lequel le mouvement des deux planètes sera assimilé à un mouvement circulaire uniforme dans le référentiel héliocentrique et contenu dans le plan de l'écliptique. On cherchera ainsi à comparer la longitude de la position de Mars dans le référentiel géocentrique (i.e. l'angle  𝜙𝑎𝑝𝑝 dans le réferentiel géocentrique) en fonction du temps que l'on calculera dans notre modèle aux données obtenues par l'IMCCE.\n",
    "\n",
    "![solar.png](solar.png)"
   ]
  },
  {
   "cell_type": "markdown",
   "id": "63a9357b-f47a-44d5-a421-38cbfb866578",
   "metadata": {
    "tags": []
   },
   "source": [
    "On rappelle les équations du mouvement $X(t),Y(t)$ pour un mouvement circulaire uniforme de rayon $R$, de période $T$ et de phase à l'origine $\\phi$. \n",
    "\n",
    "$$X(t)=R\\cos(\\phi(t)+\\phi)$$\n",
    "$$Y(t)=R\\sin(\\phi(t)+\\phi)$$\n",
    "Or, $\\dot{\\phi}=\\omega$.\n",
    "Donc : $$X(t)=R\\cos(\\omega t+\\phi)$$\n",
    "$$Y(t)=R\\sin(\\omega t+\\phi)$$\n",
    "\n",
    "A la date t=0, l'objet est donc orienté d'un angle $\\phi$ par rapport à l'axe X."
   ]
  },
  {
   "cell_type": "markdown",
   "id": "649ed83e-ee84-4fdd-b72d-0cd09acebd6a",
   "metadata": {
    "tags": []
   },
   "source": [
    "Le \"centre\" d'un mouvement rétrograde de Mars correspond au moment où la Terre et Mars sont dans la même direction par rapport au Soleil (Soleil, Terre et Mars alignés). On connait, d'après les données de l'IMCCE la longitude de Mars vue depuis la Terre à la date du 25 mai 2016 (\"centre\" d'une boucle de rétrogradation): 240.5°"
   ]
  },
  {
   "cell_type": "markdown",
   "id": "7b6dca03-4734-4e6b-965e-8c5bea7964f8",
   "metadata": {
    "tags": []
   },
   "source": [
    "On a donc à cette date $t_{centre}$ :\n",
    "\n",
    "$\\phi app = arctan2 ((Y_{Mars}(t_{centre})-Y_{Terre}(t_{centre})),(X_{Mars}(t_{centre})-X_{Terre}(t_{centre})))$\n",
    "$\\Leftrightarrow\\phi app=arctan2 (R_{Mars}\\sin(\\phi_{Mars}(t_{centre})+\\phi_{Mars}) - R_{Terre}\\sin(\\phi_{Terre}(t_{centre})+\\phi_{Terre}),(R_{Mars}\\cos(\\phi_{Mars}(t_{centre})+\\phi_{Mars})-R_{Terre}\\cos(\\phi_{Terre}(t_{centre})+\\phi_{Terre})) = 240.5°$"
   ]
  },
  {
   "cell_type": "markdown",
   "id": "1865bcf9-8456-4535-bc28-6a6296d350e4",
   "metadata": {
    "tags": []
   },
   "source": [
    "Si le Soleil, la Terre et Mars sont alignés, alors ils sont à un même angle $\\phi(t_{centre})$."
   ]
  },
  {
   "cell_type": "markdown",
   "id": "90b63ad7-c588-4c22-bc34-6dc9716a4abc",
   "metadata": {
    "tags": []
   },
   "source": [
    "En prenant $t_{centre} = 0$, on a $\\phi(t_{centre}) = \\omega t_{centre}+\\phi \\Leftrightarrow \\phi(0) = \\phi \\Leftrightarrow \\phi = \\phi_{Terre} = \\phi_{Mars} = 240.5°$"
   ]
  },
  {
   "cell_type": "code",
   "execution_count": 1,
   "id": "37c4fabf-c8ac-41ad-97b6-cae9ab370486",
   "metadata": {
    "tags": []
   },
   "outputs": [],
   "source": [
    "import pandas as pd\n",
    "import numpy as np\n",
    "import matplotlib.pyplot as plt\n",
    "\n",
    "\n",
    "#Données et calcul des vitesses angulaires\n",
    "\n",
    "R_Mars=1.52371*1.4959787e11 ## en m\n",
    "R_Terre=1*1.4959787e11 ## en m\n",
    "T_Mars=686.885 ## en jours\n",
    "T_Terre=365.256 ## en jours\n",
    "V_ang_Mars=2*np.pi/T_Mars ## en rad/jours\n",
    "V_ang_Terre=2*np.pi/T_Terre ## en rad/jours\n",
    "\n",
    "Phase_origine=np.radians(240.5) ## Phase à l'origine à t=0, convertie en radians"
   ]
  },
  {
   "cell_type": "markdown",
   "id": "a9ef9d92-c3c1-4491-aff0-a26aaf3ca039",
   "metadata": {},
   "source": [
    "On crée deux tableaux par itération accueillant les longitudes calculées grâce à l'équation de $\\phi app$ donnée plus haut: un tableau des longitudes de Mars entre la date t=0 (25 mai 2016) et la dernière date des données de l'IMCCE (16 août 2017), et un autre tableau des longitudes de Mars comprises entre la première date des données de l'IMCCE (01 mars 2015) et la date t=0. On les concaténe pour obtenir un tableau des longitudes sur le même intervalle de temps que celui des données de l'IMCCE."
   ]
  },
  {
   "cell_type": "code",
   "execution_count": 2,
   "id": "7947b127-4bd0-41e4-b18b-5df34897357d",
   "metadata": {
    "tags": []
   },
   "outputs": [],
   "source": [
    "#Création des tableaux de longitude \n",
    "\n",
    "##Création du tableau de longitude pour les dates entre t=0 et la dernière date des données\n",
    "Delta_t_posit=448 ## Différence de temps en jours entre t=0 et la dernière date des données\n",
    "\n",
    "Angle_app_posit=np.array([np.degrees(Phase_origine)])\n",
    "for t in range(1,448,1):\n",
    "    Angle_app_posit=np.append(Angle_app_posit, 360+np.degrees([np.arctan2(((R_Mars*np.sin(V_ang_Mars*t+Phase_origine))-(R_Terre*np.sin(V_ang_Terre*t+Phase_origine))),((R_Mars*np.cos(V_ang_Mars*t+Phase_origine))-(R_Terre*np.cos(V_ang_Terre*t+Phase_origine))))]),axis=0)\n",
    "\n",
    "##Création du tableau de longitude pour les dates entre la première date des données et t=0 \n",
    "Delta_t_negat=-451 ## Différence de temps en jours entre la première date des données et t=0\n",
    "Angle_app_negat = np.array([np.degrees([np.arctan2(((R_Mars*np.sin(V_ang_Mars*(-451)+Phase_origine))-(R_Terre*np.sin(V_ang_Terre*(-451)+Phase_origine))), ((R_Mars*np.cos(V_ang_Mars*(-451)+Phase_origine))-(R_Terre*np.cos(V_ang_Terre*(-451)+Phase_origine))))])])\n",
    "for t in range(-451,0,1):\n",
    "    Angle_app_negat=np.append(Angle_app_negat, 360+np.degrees([np.arctan2(((R_Mars*np.sin(V_ang_Mars*t+Phase_origine))-(R_Terre*np.sin(V_ang_Terre*t+Phase_origine))), ((R_Mars*np.cos(V_ang_Mars*t+Phase_origine))-(R_Terre*np.cos(V_ang_Terre*t+Phase_origine))))]))\n",
    "\n",
    "    \n",
    "#Concaténation des deux tableaux\n",
    "\n",
    "Longitude_modèle=np.concatenate((Angle_app_negat,Angle_app_posit), axis=0) "
   ]
  },
  {
   "cell_type": "markdown",
   "id": "b76509b4-47ff-447e-80d8-eb97a88581c2",
   "metadata": {},
   "source": [
    "On trace les représentations graphiques des données du fichier \"DataMars.csv\" et des valeurs de longitude obtenues grâce à notre modèle et on ajuste les échelles des deux axes pour obtenir des courbes centrées sur la rétrogradation."
   ]
  },
  {
   "cell_type": "code",
   "execution_count": 3,
   "id": "a4d32fd9-7e55-4ae7-80ab-1b00b435738d",
   "metadata": {
    "tags": []
   },
   "outputs": [
    {
     "data": {
      "text/plain": [
       "<matplotlib.legend.Legend at 0x7f3fa0f0d5d0>"
      ]
     },
     "execution_count": 3,
     "metadata": {},
     "output_type": "execute_result"
    },
    {
     "data": {
      "image/png": "[encoded data removed]",
      "text/plain": [
       "<Figure size 432x288 with 1 Axes>"
      ]
     },
     "metadata": {
      "needs_background": "light"
     },
     "output_type": "display_data"
    }
   ],
   "source": [
    "#Traçage des graphiques\n",
    "\n",
    "data=pd.read_csv(\"DataMars.csv\", skiprows=4)\n",
    "\n",
    "Temps = data[\"Date\"]\n",
    "Longitude = data[\"Longitude (decimal)\"]\n",
    "plt.plot(Temps,Longitude, label='Données')\n",
    "plt.plot(Temps,Longitude_modèle, label='Modèle')\n",
    "plt.title(\"Longitude de Mars lors d'une rétrogradation dans le référentiel géocentrique en fonction du temps\")\n",
    "plt.xlabel('Temps (jours)')\n",
    "plt.ylabel('Longitude (degrés)')\n",
    "plt.xlim(\"2016-01-01\",\"2016-11-01\")\n",
    "plt.ylim(200,300)\n",
    "plt.legend()\n"
   ]
  },
  {
   "cell_type": "markdown",
   "id": "4aa38988-0641-4b2e-b024-93ec6cbb3e2d",
   "metadata": {},
   "source": [
    "On constate que notre modèle permet de décrire relativement correctement le mouvement rétrograde de Mars dans le référentiel géocentrique, les courbes de longitude en fonction du temps du modèle et des données étant relativement proches et similaires. Plus on s'éloigne du temps t=0 (centre de la boucle de rétrogradation), plus la courbe de notre modèle tend à s'écarter de celle des données: notre modèle est ainsi efficace pour la durée d'une rétrogradation de Mars mais s'avère être moins précis sur des intervalles de temps plus longs. Les hypothèses que l'on a faites sur le modèle (mouvement circulaire uniforme des planètes, plan écliptique°) ont un rôle à jouer dans le léger manque de correspondance de notre modèle aux données.\n",
    "°Le mouvements de la Terre et de Mars sont en réalité plu elliptiques et varient dans les trois directions de l'espace"
   ]
  },
  {
   "cell_type": "code",
   "execution_count": null,
   "id": "a3709092",
   "metadata": {},
   "outputs": [],
   "source": []
  }
 ],
 "metadata": {
  "kernelspec": {
   "display_name": "Python 3 (ipykernel)",
   "language": "python",
   "name": "python3"
  },
  "language_info": {
   "codemirror_mode": {
    "name": "ipython",
    "version": 3
   },
   "file_extension": ".py",
   "mimetype": "text/x-python",
   "name": "python",
   "nbconvert_exporter": "python",
   "pygments_lexer": "ipython3",
   "version": "3.11.6"
  }
 },
 "nbformat": 4,
 "nbformat_minor": 5
}
