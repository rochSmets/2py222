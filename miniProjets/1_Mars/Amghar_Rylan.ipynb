{
 "cells": [
  {
   "cell_type": "markdown",
   "metadata": {},
   "source": [
    "* Amghar Rylan"
   ]
  },
  {
   "cell_type": "markdown",
   "metadata": {},
   "source": [
    "# Mouvement rétrograde de Mars\n",
    "\n"
   ]
  },
  {
   "cell_type": "markdown",
   "metadata": {},
   "source": [
    "![2014-2016-mars-retrograde-earth-night-sky-samples.jpg](./2014-2016-mars-retrograde-earth-night-sky-samples.jpg)"
   ]
  },
  {
   "cell_type": "markdown",
   "metadata": {},
   "source": [
    "*image from https://mars.nasa.gov/all-about-mars/night-sky/retrograde/*\n",
    "\n",
    "Tous les deux ans, si l'on regarde la position de Mars depuis la Terre par rapport à la voûte céleste, la planète rouge semble faire un bref demi-tour, avant de repartir dans le même sens. Ce mouvement rétrograde est observé depuis l'antiquité.\n",
    "\n",
    "Le but de ce mini-projet est de construire un modèle reproduisant ce phénomène."
   ]
  },
  {
   "cell_type": "markdown",
   "metadata": {
    "tags": []
   },
   "source": [
    "## À la maison\n",
    "\n",
    "Rappelez les équations du mouvement $X(t),Y(t)$ pour un mouvement circulaire uniforme de rayon $R$, de période $T$ et de phase à l'origine $\\phi$. \n",
    "\n",
    "Dans quelle direction (quel angle par rapport à la direction de l'axe $X$) pointe l'objet à la date $t=0$ ?"
   ]
  },
  {
   "cell_type": "markdown",
   "metadata": {},
   "source": [
    "## Avec les paramètres énoncés précedemment, on obtient ces deux équations : "
   ]
  },
  {
   "cell_type": "markdown",
   "metadata": {
    "tags": []
   },
   "source": [
    "$X(t)= R\\cos(\\phi)$"
   ]
  },
  {
   "cell_type": "markdown",
   "metadata": {},
   "source": [
    "$Y(t)= R\\sin(\\phi)$"
   ]
  },
  {
   "cell_type": "markdown",
   "metadata": {},
   "source": [
    "Pour t=0, l'objet pointe vers la direction de l'axe X"
   ]
  },
  {
   "cell_type": "markdown",
   "metadata": {},
   "source": [
    "## Données\n",
    "\n",
    "Le fichier DataMars.csv contient les coordonnées (longitude et latitude) de la position de Mars par rapport au centre de la Terre en fonction de la date entre 2015 et 2017. Notons que la latitude est définie ici par rapport au plan de l'écliptique. \n",
    "\n",
    "Le centre de la boucle peut s'observer à la date du 25 mai 2016, à la longitude de 240.5°.\n",
    "\n",
    "\n",
    "\n",
    ">**NOTE**  \n",
    ">Pour lire fichier csv, on peut utiliser la fonction `read_csv` du module Pandas, en utilisant l'option `comment = '#'`\n",
    "\n",
    "\n",
    "*(DataMars.csv a été construit à partir des données de http://vo.imcce.fr/webservices/miriade/?forms)*\n",
    "\n",
    "\n",
    "## Modèle\n",
    "\n",
    "Vous allez utiliser un modèle bidimensionnel du mouvement de la Terre et de Mars autour du Soleil. On considérera le mouvement des deux planètes comme circulaire uniforme et contenu dans le plan de l'écliptique."
   ]
  },
  {
   "cell_type": "markdown",
   "metadata": {},
   "source": [
    "![solar.png](solar.png)"
   ]
  },
  {
   "cell_type": "markdown",
   "metadata": {},
   "source": [
    "Ce modèle vous permettra de calculer la longitude de Mars vue depuis la Terre (i.e. l'angle $\\phi_{app}$ dans le réferentiel géocentrique) en fonction du temps.\n",
    "\n",
    ">**NOTE**  \n",
    ">La fonction `numpy.arctan(y / x)` donnant un résultat entre $-\\frac{\\pi}{2}$ et $\\frac{\\pi}{2}$, nous vous conseillons de lui préférer la fonction `numpy.arctan2(y, x)` qui donne un résultat entre $-\\pi$ et $\\pi$.\n",
    "\n",
    "Vous pourrez ensuite comparer le modèle (longitude calculée) aux données astronomiques (longitude mesurée).\n",
    "\n",
    ">**INDICE**  \n",
    ">Le mouvement rétrograde apparent s'observe quand, dans le réferentiel héliocentrique, la Terre \"dépasse\" Mars. Au \"milieu\" du mouvement rétrograde la Terre et Mars sont donc dans la même direction par rapport au Soleil (Soleil, Terre et Mars sont alignés). En choisissant judiciseusement la date $t=0$ et la phase à l'origine pour les deux planètes, on peut faire coïncider le modèle aux données à cet instant.\n",
    "\n",
    "\n",
    "### Grandeurs utiles :\n",
    "\n",
    "Rayon de l'orbite de la Terre : 1 UA  \n",
    "Période de révolution de la Terre : 365.256 jours  \n",
    "Rayon de l'orbite de Mars : 1.52371 UA  \n",
    "Période de révolution de Mars : 686.885 jours\n",
    "\n",
    "\n",
    "## Méthodes\n",
    "\n",
    "Vous allez utiliser une représentation graphique pour illustrer votre modèle. Pour cela, il faut représenter sur un graphique à la fois les données et le modèle. Vous prendrez un soin particulier pour que le graphique soit lisible et compréhensible.\n",
    "\n",
    "Voici un exemple de représentation graphique :"
   ]
  },
  {
   "cell_type": "markdown",
   "metadata": {},
   "source": [
    "![graph.png](./graph.png)"
   ]
  },
  {
   "cell_type": "markdown",
   "metadata": {
    "tags": []
   },
   "source": [
    "# Création du modèle"
   ]
  },
  {
   "cell_type": "markdown",
   "metadata": {},
   "source": [
    "On commence par définir nos constantes.\n",
    "Les longueurs sont en mètres, les temps en secondes"
   ]
  },
  {
   "cell_type": "code",
   "execution_count": 2,
   "metadata": {
    "tags": []
   },
   "outputs": [],
   "source": [
    "Rt = 1.5e11                               #Rayon orbital de la Terre\n",
    "Rm = 2.3e11                               #Rayon orbital de Mars\n",
    "Tt = 365*24*3600                          #Période de révolution de la Terre\n",
    "Tm = 687*24*3600                          #Période de révolution de Mars"
   ]
  },
  {
   "cell_type": "code",
   "execution_count": 3,
   "metadata": {
    "tags": []
   },
   "outputs": [],
   "source": [
    "# On définit notre variable t qui correspond au temps\n",
    "import numpy as np\n",
    "t= np.linspace(0, Tt, 365)"
   ]
  },
  {
   "cell_type": "code",
   "execution_count": 4,
   "metadata": {},
   "outputs": [
    {
     "name": "stdout",
     "output_type": "stream",
     "text": [
      "0.0\n",
      "86637.36263736263\n",
      "173274.72527472526\n",
      "259912.0879120879\n",
      "346549.4505494505\n",
      "433186.81318681315\n",
      "519824.1758241758\n",
      "606461.5384615384\n",
      "693098.901098901\n",
      "779736.2637362637\n",
      "866373.6263736263\n",
      "953010.989010989\n",
      "1039648.3516483516\n",
      "1126285.7142857143\n",
      "1212923.0769230768\n",
      "1299560.4395604394\n",
      "1386197.802197802\n",
      "1472835.1648351648\n",
      "1559472.5274725275\n",
      "1646109.89010989\n",
      "1732747.2527472526\n",
      "1819384.6153846153\n",
      "1906021.978021978\n",
      "1992659.3406593406\n",
      "2079296.7032967033\n",
      "2165934.0659340657\n",
      "2252571.4285714286\n",
      "2339208.791208791\n",
      "2425846.1538461535\n",
      "2512483.5164835164\n",
      "2599120.879120879\n",
      "2685758.241758242\n",
      "2772395.604395604\n",
      "2859032.9670329667\n",
      "2945670.3296703296\n",
      "3032307.692307692\n",
      "3118945.054945055\n",
      "3205582.4175824174\n",
      "3292219.78021978\n",
      "3378857.1428571427\n",
      "3465494.505494505\n",
      "3552131.868131868\n",
      "3638769.2307692305\n",
      "3725406.593406593\n",
      "3812043.956043956\n",
      "3898681.3186813183\n",
      "3985318.681318681\n",
      "4071956.0439560437\n",
      "4158593.4065934066\n",
      "4245230.769230769\n",
      "4331868.131868131\n",
      "4418505.494505494\n",
      "4505142.857142857\n",
      "4591780.21978022\n",
      "4678417.582417582\n",
      "4765054.945054945\n",
      "4851692.307692307\n",
      "4938329.67032967\n",
      "5024967.032967033\n",
      "5111604.395604395\n",
      "5198241.758241758\n",
      "5284879.12087912\n",
      "5371516.483516484\n",
      "5458153.846153846\n",
      "5544791.208791208\n",
      "5631428.571428571\n",
      "5718065.934065933\n",
      "5804703.296703297\n",
      "5891340.659340659\n",
      "5977978.021978022\n",
      "6064615.384615384\n",
      "6151252.7472527465\n",
      "6237890.10989011\n",
      "6324527.472527472\n",
      "6411164.835164835\n",
      "6497802.197802197\n",
      "6584439.56043956\n",
      "6671076.923076923\n",
      "6757714.285714285\n",
      "6844351.648351648\n",
      "6930989.01098901\n",
      "7017626.373626373\n",
      "7104263.736263736\n",
      "7190901.098901099\n",
      "7277538.461538461\n",
      "7364175.8241758235\n",
      "7450813.186813186\n",
      "7537450.549450549\n",
      "7624087.912087912\n",
      "7710725.274725274\n",
      "7797362.637362637\n",
      "7883999.999999999\n",
      "7970637.362637362\n",
      "8057274.725274725\n",
      "8143912.087912087\n",
      "8230549.45054945\n",
      "8317186.813186813\n",
      "8403824.175824175\n",
      "8490461.538461538\n",
      "8577098.901098901\n",
      "8663736.263736263\n",
      "8750373.626373626\n",
      "8837010.989010988\n",
      "8923648.351648351\n",
      "9010285.714285715\n",
      "9096923.076923076\n",
      "9183560.43956044\n",
      "9270197.802197801\n",
      "9356835.164835164\n",
      "9443472.527472528\n",
      "9530109.89010989\n",
      "9616747.252747253\n",
      "9703384.615384614\n",
      "9790021.978021977\n",
      "9876659.34065934\n",
      "9963296.703296702\n",
      "10049934.065934066\n",
      "10136571.428571427\n",
      "10223208.79120879\n",
      "10309846.153846154\n",
      "10396483.516483516\n",
      "10483120.879120879\n",
      "10569758.24175824\n",
      "10656395.604395604\n",
      "10743032.967032967\n",
      "10829670.329670329\n",
      "10916307.692307692\n",
      "11002945.054945054\n",
      "11089582.417582417\n",
      "11176219.78021978\n",
      "11262857.142857142\n",
      "11349494.505494505\n",
      "11436131.868131867\n",
      "11522769.23076923\n",
      "11609406.593406593\n",
      "11696043.956043955\n",
      "11782681.318681318\n",
      "11869318.68131868\n",
      "11955956.043956043\n",
      "12042593.406593407\n",
      "12129230.769230768\n",
      "12215868.131868131\n",
      "12302505.494505493\n",
      "12389142.857142856\n",
      "12475780.21978022\n",
      "12562417.582417581\n",
      "12649054.945054945\n",
      "12735692.307692306\n",
      "12822329.67032967\n",
      "12908967.032967033\n",
      "12995604.395604394\n",
      "13082241.758241758\n",
      "13168879.12087912\n",
      "13255516.483516483\n",
      "13342153.846153846\n",
      "13428791.208791208\n",
      "13515428.57142857\n",
      "13602065.934065932\n",
      "13688703.296703296\n",
      "13775340.65934066\n",
      "13861978.02197802\n",
      "13948615.384615384\n",
      "14035252.747252746\n",
      "14121890.109890109\n",
      "14208527.472527472\n",
      "14295164.835164834\n",
      "14381802.197802197\n",
      "14468439.560439559\n",
      "14555076.923076922\n",
      "14641714.285714285\n",
      "14728351.648351647\n",
      "14814989.01098901\n",
      "14901626.373626372\n",
      "14988263.736263735\n",
      "15074901.098901099\n",
      "15161538.46153846\n",
      "15248175.824175823\n",
      "15334813.186813185\n",
      "15421450.549450548\n",
      "15508087.912087912\n",
      "15594725.274725273\n",
      "15681362.637362637\n",
      "15767999.999999998\n",
      "15854637.362637362\n",
      "15941274.725274725\n",
      "16027912.087912086\n",
      "16114549.45054945\n",
      "16201186.813186811\n",
      "16287824.175824175\n",
      "16374461.538461538\n",
      "16461098.9010989\n",
      "16547736.263736263\n",
      "16634373.626373626\n",
      "16721010.989010988\n",
      "16807648.35164835\n",
      "16894285.714285713\n",
      "16980923.076923076\n",
      "17067560.43956044\n",
      "17154197.802197803\n",
      "17240835.164835162\n",
      "17327472.527472526\n",
      "17414109.89010989\n",
      "17500747.252747253\n",
      "17587384.615384616\n",
      "17674021.978021976\n",
      "17760659.34065934\n",
      "17847296.703296702\n",
      "17933934.065934066\n",
      "18020571.42857143\n",
      "18107208.79120879\n",
      "18193846.153846152\n",
      "18280483.516483516\n",
      "18367120.87912088\n",
      "18453758.241758242\n",
      "18540395.604395602\n",
      "18627032.967032965\n",
      "18713670.32967033\n",
      "18800307.692307692\n",
      "18886945.054945055\n",
      "18973582.417582415\n",
      "19060219.78021978\n",
      "19146857.14285714\n",
      "19233494.505494505\n",
      "19320131.86813187\n",
      "19406769.23076923\n",
      "19493406.59340659\n",
      "19580043.956043955\n",
      "19666681.31868132\n",
      "19753318.68131868\n",
      "19839956.04395604\n",
      "19926593.406593405\n",
      "20013230.769230768\n",
      "20099868.13186813\n",
      "20186505.494505495\n",
      "20273142.857142854\n",
      "20359780.219780218\n",
      "20446417.58241758\n",
      "20533054.945054945\n",
      "20619692.307692308\n",
      "20706329.670329668\n",
      "20792967.03296703\n",
      "20879604.395604394\n",
      "20966241.758241758\n",
      "21052879.12087912\n",
      "21139516.48351648\n",
      "21226153.846153844\n",
      "21312791.208791208\n",
      "21399428.57142857\n",
      "21486065.934065934\n",
      "21572703.296703294\n",
      "21659340.659340657\n",
      "21745978.02197802\n",
      "21832615.384615384\n",
      "21919252.747252747\n",
      "22005890.109890107\n",
      "22092527.47252747\n",
      "22179164.835164834\n",
      "22265802.197802197\n",
      "22352439.56043956\n",
      "22439076.92307692\n",
      "22525714.285714284\n",
      "22612351.648351647\n",
      "22698989.01098901\n",
      "22785626.373626374\n",
      "22872263.736263733\n",
      "22958901.098901097\n",
      "23045538.46153846\n",
      "23132175.824175823\n",
      "23218813.186813187\n",
      "23305450.549450547\n",
      "23392087.91208791\n",
      "23478725.274725273\n",
      "23565362.637362637\n",
      "23652000.0\n",
      "23738637.36263736\n",
      "23825274.725274723\n",
      "23911912.087912086\n",
      "23998549.45054945\n",
      "24085186.813186813\n",
      "24171824.175824173\n",
      "24258461.538461536\n",
      "24345098.9010989\n",
      "24431736.263736263\n",
      "24518373.626373626\n",
      "24605010.989010986\n",
      "24691648.35164835\n",
      "24778285.714285713\n",
      "24864923.076923076\n",
      "24951560.43956044\n",
      "25038197.8021978\n",
      "25124835.164835162\n",
      "25211472.527472526\n",
      "25298109.89010989\n",
      "25384747.252747253\n",
      "25471384.615384612\n",
      "25558021.978021976\n",
      "25644659.34065934\n",
      "25731296.703296702\n",
      "25817934.065934066\n",
      "25904571.428571425\n",
      "25991208.79120879\n",
      "26077846.153846152\n",
      "26164483.516483516\n",
      "26251120.87912088\n",
      "26337758.24175824\n",
      "26424395.604395602\n",
      "26511032.967032965\n",
      "26597670.32967033\n",
      "26684307.692307692\n",
      "26770945.05494505\n",
      "26857582.417582415\n",
      "26944219.78021978\n",
      "27030857.14285714\n",
      "27117494.505494505\n",
      "27204131.868131865\n",
      "27290769.23076923\n",
      "27377406.59340659\n",
      "27464043.956043955\n",
      "27550681.31868132\n",
      "27637318.681318678\n",
      "27723956.04395604\n",
      "27810593.406593405\n",
      "27897230.769230768\n",
      "27983868.13186813\n",
      "28070505.49450549\n",
      "28157142.857142854\n",
      "28243780.219780218\n",
      "28330417.58241758\n",
      "28417054.945054945\n",
      "28503692.307692304\n",
      "28590329.670329668\n",
      "28676967.03296703\n",
      "28763604.395604394\n",
      "28850241.758241758\n",
      "28936879.120879117\n",
      "29023516.48351648\n",
      "29110153.846153844\n",
      "29196791.208791208\n",
      "29283428.57142857\n",
      "29370065.93406593\n",
      "29456703.296703294\n",
      "29543340.659340657\n",
      "29629978.02197802\n",
      "29716615.384615384\n",
      "29803252.747252744\n",
      "29889890.109890107\n",
      "29976527.47252747\n",
      "30063164.835164834\n",
      "30149802.197802197\n",
      "30236439.560439557\n",
      "30323076.92307692\n",
      "30409714.285714284\n",
      "30496351.648351647\n",
      "30582989.01098901\n",
      "30669626.37362637\n",
      "30756263.736263733\n",
      "30842901.098901097\n",
      "30929538.46153846\n",
      "31016175.824175823\n",
      "31102813.186813183\n",
      "31189450.549450547\n",
      "31276087.91208791\n",
      "31362725.274725273\n",
      "31449362.637362637\n",
      "31536000.0\n"
     ]
    }
   ],
   "source": [
    "times = np.linspace(0, Tt, 365)\n",
    "for time in times :\n",
    "    print(time)"
   ]
  },
  {
   "cell_type": "code",
   "execution_count": 5,
   "metadata": {
    "tags": []
   },
   "outputs": [],
   "source": [
    "# On reprend nos équations du mouvement avec phi=2pi/T\n",
    "xt= Rt*np.cos((2*np.pi*t)/Tt)            #équations pour la Terre\n",
    "yt= Rt*np.sin((2*np.pi*t)/Tt)\n",
    "\n",
    "xm= Rm*np.cos((2*np.pi*t)/Tm)            ##équations pour Mars\n",
    "ym= Rm*np.sin((2*np.pi*t)/Tm)"
   ]
  },
  {
   "cell_type": "code",
   "execution_count": 6,
   "metadata": {
    "tags": []
   },
   "outputs": [
    {
     "data": {
      "text/plain": [
       "[<matplotlib.lines.Line2D at 0x7f96ed21ff50>]"
      ]
     },
     "execution_count": 6,
     "metadata": {},
     "output_type": "execute_result"
    },
    {
     "data": {
      "image/png": "[encoded data removed]",
      "text/plain": [
       "<Figure size 432x288 with 1 Axes>"
      ]
     },
     "metadata": {
      "needs_background": "light"
     },
     "output_type": "display_data"
    }
   ],
   "source": [
    "# On définit notre angle phi app\n",
    "import matplotlib.pyplot as plt\n",
    "phiapp= np.arctan2((ym-yt), (xm-xt))\n",
    "plt.plot(t, phiapp)"
   ]
  },
  {
   "cell_type": "markdown",
   "metadata": {},
   "source": [
    "## Compte-rendu\n",
    "\n",
    "Vous rendrez un compte-rendu sous la forme d’un Jupyter Notebook (et d’une partie rédigée à la main si vous le souhaitez). Vous apporterez un soin particulier à la rédaction, à l’explication de la résolution du problème, et à l’explication du script (code commenté). Pour cela, vous ferez différentes sections et vous utiliserez des cellules de texte dans le notebook. Voici un exemple de cellule de texte :\n",
    "```\n",
    "# Section 1\n",
    "## Sous-section 1\n",
    "Du texte\n",
    "- une liste\n",
    "\n",
    "une formule latex $k=2$\n",
    "```\n",
    "\n",
    "Vous trouverez un formulaire détaillé du formatage des cellules de texte sur le Moodle, [ou bien ici](https://github.com/adam-p/markdown-here/wiki/Markdown-Cheatsheet#lines).\n",
    "\n",
    "Vous rendrez votre compte-rendu dans l’activité devoir correspondante de Moodle."
   ]
  },
  {
   "cell_type": "code",
   "execution_count": null,
   "metadata": {},
   "outputs": [],
   "source": []
  },
  {
   "cell_type": "code",
   "execution_count": null,
   "metadata": {},
   "outputs": [],
   "source": []
  }
 ],
 "metadata": {
  "kernelspec": {
   "display_name": "Python 3 (ipykernel)",
   "language": "python",
   "name": "python3"
  },
  "language_info": {
   "codemirror_mode": {
    "name": "ipython",
    "version": 3
   },
   "file_extension": ".py",
   "mimetype": "text/x-python",
   "name": "python",
   "nbconvert_exporter": "python",
   "pygments_lexer": "ipython3",
   "version": "3.11.6"
  }
 },
 "nbformat": 4,
 "nbformat_minor": 4
}
