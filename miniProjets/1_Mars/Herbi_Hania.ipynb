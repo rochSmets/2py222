{
 "cells": [
  {
   "cell_type": "markdown",
   "id": "9ec45f91-1376-4bc7-a422-76fb6bc1a837",
   "metadata": {},
   "source": [
    "#                                Compte rendu du mini projet n°1"
   ]
  },
  {
   "cell_type": "markdown",
   "id": "d4be426d-da15-49e6-9c0c-6ab50fbf0f09",
   "metadata": {},
   "source": [
    "### Introduction\n",
    "   Ce mini projet a comme objectif la construction d'un modèle reproduisant le mouvement rétrograde de Mars.\n",
    "Le but est de pouvoir tracer un graphe de la longitude -l'angle que fais Mars dans le référentiel de la terre- qui soit le plus proche possible du graphe des données -de la modélisation 🤷‍♀️.\n",
    "Pour cela, on va utiliser principalement Python pour coder les formules mathématiques et physiques résolvant le probléme pour cet angle."
   ]
  },
  {
   "cell_type": "markdown",
   "id": "57f63f53-14bf-4e6b-8b4d-2081c6c2b044",
   "metadata": {},
   "source": [
    "### Hypothèses et description du modèle proposé \n",
    "Dans cette modélisation, on considère que le mouvement des deux planètes est circulaire uniforme, et que ces deux mouvements se passent dans le même plan.  \n",
    "On procède de la manière la plus naturelle et qui va consister à :\n",
    "* Calculer les positions des deux planètes dans le référentiel héliocentrique. On se met en coordonées polaires et on paramètrise ces mouvements par l'équation $R(\\cos(\\Theta),\\sin(\\Theta))$. On prend ***R*** -la distance entre la planète et le soleil- en *UA* et ***θ=θ(t)=)2πt/(la periode de revolusion donnée))***, *t* étant en *jours*.\n",
    "* Ensuite, faire le changement de référentiel Soleil -> Terre en usilisant la formule  \n",
    "***x<sub>ref terre</sub> = x<sub>ref soleil</sub> - x<sub>terre dans ref soleil<sub/>***.\n",
    "* Calculer l'angle apparent en appliquant l'inverse de la fonction ***tan*** sur ***Y(t)/X(t)*** -étant les coordonnées de Mars dans le référentiel de la Terre."
   ]
  },
  {
   "cell_type": "markdown",
   "id": "e3bacc26-9adf-4009-a8fd-31467e17d80f",
   "metadata": {},
   "source": [
    "### Numérisation et représentation des résultats\n",
    "Le code suivant a permis de tracer les graphes de la longitude en fonction du temps, à partir des mesures et du modèle proposé."
   ]
  },
  {
   "cell_type": "code",
   "execution_count": 8,
   "id": "ee028d44-2007-4dca-a1ad-336ad8977a9e",
   "metadata": {
    "tags": []
   },
   "outputs": [
    {
     "data": {
      "text/plain": [
       "<matplotlib.legend.Legend at 0x7f5220932350>"
      ]
     },
     "execution_count": 8,
     "metadata": {},
     "output_type": "execute_result"
    },
    {
     "data": {
      "image/png": "[encoded data removed]",
      "text/plain": [
       "<Figure size 432x288 with 1 Axes>"
      ]
     },
     "metadata": {
      "needs_background": "light"
     },
     "output_type": "display_data"
    }
   ],
   "source": [
    "import pandas as pd\n",
    "import matplotlib.pyplot as plt\n",
    "import numpy as np\n",
    "import math as m\n",
    "\n",
    "# 1)_ Graphe des donnees :\n",
    "\n",
    "       #Lecture des donnees\n",
    "data=pd.read_csv(\"DataMars.csv\", comment='#')\n",
    "\n",
    "       #Extraction des donnees\n",
    "t = data[\"Date\"]\n",
    "L = data[\"Longitude (decimal)\"]\n",
    "#t=np.arange(L.shape[0])\n",
    "\n",
    "       #Traçage de la courbe des donnees avec la deuxieme couleure preferee de l'etudiant 21310886\n",
    "my_slice = slice(292,610)\n",
    "plt.plot(t[my_slice],L[my_slice], color='greenyellow', label='Donneés')\n",
    "\n",
    "# plt.plot(t[292:620],L[292:620], color='greenyellow', label='Donneés')\n",
    "\n",
    "\n",
    "# 2)_ Graphe de la modelisation :\n",
    "\n",
    "       #Definition du nombre de jours entre le 01/01/2026 et 01/09/2016\n",
    "#t=np.array([i for i in range(325)])\n",
    "t=np.arange(325)#.astype(int)\n",
    "\n",
    "       #Definition des vecteurs position de Mars et de la Terre dans le ref. du soleil  \n",
    "posiMars=np.array([[1.52371*m.cos((T)*2*m.pi/686.885),1.52371*m.sin((T)*2*m.pi/686.885)] for T in range(1000)]) \n",
    "posiTerre=np.array([[m.cos(T*2*m.pi/365.256),m.sin((T)*2*m.pi/365.256)] for T in range(1000)])\n",
    "\n",
    "      #Calcul de la position de mars dans le ref de la terre\n",
    "posiMarTer=posiMars-posiTerre\n",
    "\n",
    "      #Calcul de l'angle apparent en ° en appliquant une correction de +12°\n",
    "angles=(180/m.pi)*(m.pi+np.arctan2(posiMarTer[625:950,1],posiMarTer[625:950,0]))\n",
    "\n",
    "\n",
    "      # Tracer le  graphe de la modelisation avec la premiere couleur preferee de l'etudiant 21310886\n",
    "plt.plot(t,angles, color='deeppink', label='Modélisation')\n",
    "\n",
    "plt.ylabel('Longitude (°)')\n",
    "plt.xlabel('Dates/Jours')\n",
    "plt.legend()"
   ]
  },
  {
   "cell_type": "code",
   "execution_count": 2,
   "id": "b254fa01",
   "metadata": {},
   "outputs": [
    {
     "data": {
      "text/plain": [
       "array([  0,   1,   2,   3,   4,   5,   6,   7,   8,   9,  10,  11,  12,\n",
       "        13,  14,  15,  16,  17,  18,  19,  20,  21,  22,  23,  24,  25,\n",
       "        26,  27,  28,  29,  30,  31,  32,  33,  34,  35,  36,  37,  38,\n",
       "        39,  40,  41,  42,  43,  44,  45,  46,  47,  48,  49,  50,  51,\n",
       "        52,  53,  54,  55,  56,  57,  58,  59,  60,  61,  62,  63,  64,\n",
       "        65,  66,  67,  68,  69,  70,  71,  72,  73,  74,  75,  76,  77,\n",
       "        78,  79,  80,  81,  82,  83,  84,  85,  86,  87,  88,  89,  90,\n",
       "        91,  92,  93,  94,  95,  96,  97,  98,  99, 100, 101, 102, 103,\n",
       "       104, 105, 106, 107, 108, 109, 110, 111, 112, 113, 114, 115, 116,\n",
       "       117, 118, 119, 120, 121, 122, 123, 124, 125, 126, 127, 128, 129,\n",
       "       130, 131, 132, 133, 134, 135, 136, 137, 138, 139, 140, 141, 142,\n",
       "       143, 144, 145, 146, 147, 148, 149, 150, 151, 152, 153, 154, 155,\n",
       "       156, 157, 158, 159, 160, 161, 162, 163, 164, 165, 166, 167, 168,\n",
       "       169, 170, 171, 172, 173, 174, 175, 176, 177, 178, 179, 180, 181,\n",
       "       182, 183, 184, 185, 186, 187, 188, 189, 190, 191, 192, 193, 194,\n",
       "       195, 196, 197, 198, 199, 200, 201, 202, 203, 204, 205, 206, 207,\n",
       "       208, 209, 210, 211, 212, 213, 214, 215, 216, 217, 218, 219, 220,\n",
       "       221, 222, 223, 224, 225, 226, 227, 228, 229, 230, 231, 232, 233,\n",
       "       234, 235, 236, 237, 238, 239, 240, 241, 242, 243, 244, 245, 246,\n",
       "       247, 248, 249, 250, 251, 252, 253, 254, 255, 256, 257, 258, 259,\n",
       "       260, 261, 262, 263, 264, 265, 266, 267, 268, 269, 270, 271, 272,\n",
       "       273, 274, 275, 276, 277, 278, 279, 280, 281, 282, 283, 284, 285,\n",
       "       286, 287, 288, 289, 290, 291, 292, 293, 294, 295, 296, 297, 298,\n",
       "       299, 300, 301, 302, 303, 304, 305, 306, 307, 308, 309, 310, 311,\n",
       "       312, 313, 314, 315, 316, 317, 318, 319, 320, 321, 322, 323, 324])"
      ]
     },
     "execution_count": 2,
     "metadata": {},
     "output_type": "execute_result"
    }
   ],
   "source": [
    "t"
   ]
  },
  {
   "cell_type": "markdown",
   "id": "a95a6d80-06c8-4b75-8a37-d95194b3927f",
   "metadata": {},
   "source": [
    "### Remarques\n",
    "* On s'est contenté d'un compteur des jours entre les deux dates 01/01/2026 et 01/09/2016 pour tracer la courbe rose pour la facilité que cela a offert lors du codage, ceci ne devant pas engendrer des problèmes de compréhension des graphes puisque les dates sont déjà en abscisses pour la courbe des données brutes.\n",
    "* On voit, sur la ligne 34 du code, que le modèle a dû être corrigé de +12° pour pouvoir donner une aussi bonne approximation des mesures du phénomène. Ceci est sans doute dû aux hypothèses considérées (uniformité des vitesses en norme, circularité des trajectoires, appartenance des deux courbes au même plan)."
   ]
  },
  {
   "cell_type": "code",
   "execution_count": null,
   "id": "0f0036e3",
   "metadata": {},
   "outputs": [],
   "source": [
    "w=range(2,5)\n",
    "len(w)"
   ]
  },
  {
   "cell_type": "markdown",
   "id": "f787cbf2-ee0b-4f56-9216-d752fb1c15e5",
   "metadata": {},
   "source": [
    "### Conclusion\n",
    "D'aprés la comparaison des deux courbes obtenues, on peut dire qu'on a réussi à reproduire le phénomène de rétrogradation de Mars avec le modèle proposé."
   ]
  },
  {
   "cell_type": "code",
   "execution_count": null,
   "id": "71455c1a",
   "metadata": {},
   "outputs": [],
   "source": []
  }
 ],
 "metadata": {
  "kernelspec": {
   "display_name": "Python 3 (ipykernel)",
   "language": "python",
   "name": "python3"
  },
  "language_info": {
   "codemirror_mode": {
    "name": "ipython",
    "version": 3
   },
   "file_extension": ".py",
   "mimetype": "text/x-python",
   "name": "python",
   "nbconvert_exporter": "python",
   "pygments_lexer": "ipython3",
   "version": "3.11.6"
  }
 },
 "nbformat": 4,
 "nbformat_minor": 5
}
