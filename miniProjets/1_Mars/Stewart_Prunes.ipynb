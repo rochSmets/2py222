{
 "cells": [
  {
   "cell_type": "code",
   "execution_count": null,
   "id": "26fc051e-17c0-4e06-9c52-eeb63ad517d7",
   "metadata": {},
   "outputs": [],
   "source": []
  },
  {
   "cell_type": "code",
   "execution_count": null,
   "id": "40d6d629-11e4-401c-94ef-1d7fc9807bb7",
   "metadata": {},
   "outputs": [],
   "source": []
  },
  {
   "cell_type": "code",
   "execution_count": 12,
   "id": "bf9f1522-482f-476d-886f-9dfaa491fe79",
   "metadata": {
    "tags": []
   },
   "outputs": [
    {
     "ename": "AttributeError",
     "evalue": "Can only use .dt accessor with datetimelike values",
     "output_type": "error",
     "traceback": [
      "\u001b[0;31m---------------------------------------------------------------------------\u001b[0m",
      "\u001b[0;31mAttributeError\u001b[0m                            Traceback (most recent call last)",
      "Cell \u001b[0;32mIn [12], line 9\u001b[0m\n\u001b[1;32m      7\u001b[0m x \u001b[38;5;241m=\u001b[39m df_mars\u001b[38;5;241m.\u001b[39miloc[slice_, \u001b[38;5;241m1\u001b[39m]\n\u001b[1;32m      8\u001b[0m x \u001b[38;5;241m=\u001b[39m df_mars\u001b[38;5;241m.\u001b[39miloc[slice_, \u001b[38;5;241m1\u001b[39m]\u001b[38;5;241m.\u001b[39mto_numpy()\n\u001b[0;32m----> 9\u001b[0m x \u001b[38;5;241m=\u001b[39m \u001b[43mdf_mars\u001b[49m\u001b[38;5;241;43m.\u001b[39;49m\u001b[43miloc\u001b[49m\u001b[43m[\u001b[49m\u001b[43mslice_\u001b[49m\u001b[43m,\u001b[49m\u001b[43m \u001b[49m\u001b[38;5;241;43m1\u001b[39;49m\u001b[43m]\u001b[49m\u001b[38;5;241;43m.\u001b[39;49m\u001b[43mdt\u001b[49m\u001b[38;5;241m.\u001b[39mday\n\u001b[1;32m     10\u001b[0m y \u001b[38;5;241m=\u001b[39m df_mars\u001b[38;5;241m.\u001b[39miloc[slice_, \u001b[38;5;241m3\u001b[39m]\n\u001b[1;32m     11\u001b[0m \u001b[38;5;66;03m# x = np.arange('2016-01', '2016-10-31', dtype = 'datetime64[D]')\u001b[39;00m\n",
      "File \u001b[0;32m/usr/lib64/python3.11/site-packages/pandas/core/generic.py:5902\u001b[0m, in \u001b[0;36mNDFrame.__getattr__\u001b[0;34m(self, name)\u001b[0m\n\u001b[1;32m   5895\u001b[0m \u001b[38;5;28;01mif\u001b[39;00m (\n\u001b[1;32m   5896\u001b[0m     name \u001b[38;5;129;01mnot\u001b[39;00m \u001b[38;5;129;01min\u001b[39;00m \u001b[38;5;28mself\u001b[39m\u001b[38;5;241m.\u001b[39m_internal_names_set\n\u001b[1;32m   5897\u001b[0m     \u001b[38;5;129;01mand\u001b[39;00m name \u001b[38;5;129;01mnot\u001b[39;00m \u001b[38;5;129;01min\u001b[39;00m \u001b[38;5;28mself\u001b[39m\u001b[38;5;241m.\u001b[39m_metadata\n\u001b[1;32m   5898\u001b[0m     \u001b[38;5;129;01mand\u001b[39;00m name \u001b[38;5;129;01mnot\u001b[39;00m \u001b[38;5;129;01min\u001b[39;00m \u001b[38;5;28mself\u001b[39m\u001b[38;5;241m.\u001b[39m_accessors\n\u001b[1;32m   5899\u001b[0m     \u001b[38;5;129;01mand\u001b[39;00m \u001b[38;5;28mself\u001b[39m\u001b[38;5;241m.\u001b[39m_info_axis\u001b[38;5;241m.\u001b[39m_can_hold_identifiers_and_holds_name(name)\n\u001b[1;32m   5900\u001b[0m ):\n\u001b[1;32m   5901\u001b[0m     \u001b[38;5;28;01mreturn\u001b[39;00m \u001b[38;5;28mself\u001b[39m[name]\n\u001b[0;32m-> 5902\u001b[0m \u001b[38;5;28;01mreturn\u001b[39;00m \u001b[38;5;28;43mobject\u001b[39;49m\u001b[38;5;241;43m.\u001b[39;49m\u001b[38;5;21;43m__getattribute__\u001b[39;49m\u001b[43m(\u001b[49m\u001b[38;5;28;43mself\u001b[39;49m\u001b[43m,\u001b[49m\u001b[43m \u001b[49m\u001b[43mname\u001b[49m\u001b[43m)\u001b[49m\n",
      "File \u001b[0;32m/usr/lib64/python3.11/site-packages/pandas/core/accessor.py:182\u001b[0m, in \u001b[0;36mCachedAccessor.__get__\u001b[0;34m(self, obj, cls)\u001b[0m\n\u001b[1;32m    179\u001b[0m \u001b[38;5;28;01mif\u001b[39;00m obj \u001b[38;5;129;01mis\u001b[39;00m \u001b[38;5;28;01mNone\u001b[39;00m:\n\u001b[1;32m    180\u001b[0m     \u001b[38;5;66;03m# we're accessing the attribute of the class, i.e., Dataset.geo\u001b[39;00m\n\u001b[1;32m    181\u001b[0m     \u001b[38;5;28;01mreturn\u001b[39;00m \u001b[38;5;28mself\u001b[39m\u001b[38;5;241m.\u001b[39m_accessor\n\u001b[0;32m--> 182\u001b[0m accessor_obj \u001b[38;5;241m=\u001b[39m \u001b[38;5;28;43mself\u001b[39;49m\u001b[38;5;241;43m.\u001b[39;49m\u001b[43m_accessor\u001b[49m\u001b[43m(\u001b[49m\u001b[43mobj\u001b[49m\u001b[43m)\u001b[49m\n\u001b[1;32m    183\u001b[0m \u001b[38;5;66;03m# Replace the property with the accessor object. Inspired by:\u001b[39;00m\n\u001b[1;32m    184\u001b[0m \u001b[38;5;66;03m# https://www.pydanny.com/cached-property.html\u001b[39;00m\n\u001b[1;32m    185\u001b[0m \u001b[38;5;66;03m# We need to use object.__setattr__ because we overwrite __setattr__ on\u001b[39;00m\n\u001b[1;32m    186\u001b[0m \u001b[38;5;66;03m# NDFrame\u001b[39;00m\n\u001b[1;32m    187\u001b[0m \u001b[38;5;28mobject\u001b[39m\u001b[38;5;241m.\u001b[39m\u001b[38;5;21m__setattr__\u001b[39m(obj, \u001b[38;5;28mself\u001b[39m\u001b[38;5;241m.\u001b[39m_name, accessor_obj)\n",
      "File \u001b[0;32m/usr/lib64/python3.11/site-packages/pandas/core/indexes/accessors.py:512\u001b[0m, in \u001b[0;36mCombinedDatetimelikeProperties.__new__\u001b[0;34m(cls, data)\u001b[0m\n\u001b[1;32m    509\u001b[0m \u001b[38;5;28;01melif\u001b[39;00m is_period_dtype(data\u001b[38;5;241m.\u001b[39mdtype):\n\u001b[1;32m    510\u001b[0m     \u001b[38;5;28;01mreturn\u001b[39;00m PeriodProperties(data, orig)\n\u001b[0;32m--> 512\u001b[0m \u001b[38;5;28;01mraise\u001b[39;00m \u001b[38;5;167;01mAttributeError\u001b[39;00m(\u001b[38;5;124m\"\u001b[39m\u001b[38;5;124mCan only use .dt accessor with datetimelike values\u001b[39m\u001b[38;5;124m\"\u001b[39m)\n",
      "\u001b[0;31mAttributeError\u001b[0m: Can only use .dt accessor with datetimelike values"
     ]
    }
   ],
   "source": [
    "import matplotlib.pyplot as plt\n",
    "import numpy as np\n",
    "import pandas as pd\n",
    "\n",
    "df_mars = pd.read_csv(\"DataMars.csv\",comment='#')\n",
    "slice_ = slice(306,580)\n",
    "x = df_mars.iloc[slice_, 1]\n",
    "x = df_mars.iloc[slice_, 1].to_numpy()\n",
    "x = df_mars.iloc[slice_, 1].date.dt.day\n",
    "y = df_mars.iloc[slice_, 3]\n",
    "# x = np.arange('2016-01', '2016-10-31', dtype = 'datetime64[D]')\n",
    "\n",
    "fig, ax = plt.subplots(figsize=(10,6))\n",
    "\n",
    "plt.title('Rétrograde de Mars')\n",
    "plt.xlabel('Date (mois)')\n",
    "plt.ylabel('Longitude (°)')\n",
    "#plt.xlim(np.datetime64('2016-01', 'M'), np.datetime64('2016-11', 'M'))\n",
    "plt.plot(x, y, label = \"model\")\n",
    "plt.legend()\n",
    "plt.show()"
   ]
  },
  {
   "cell_type": "code",
   "execution_count": 10,
   "id": "2b8347da",
   "metadata": {},
   "outputs": [
    {
     "data": {
      "text/plain": [
       "array(['2016-01-01', '2016-01-02', '2016-01-03', '2016-01-04',\n",
       "       '2016-01-05', '2016-01-06', '2016-01-07', '2016-01-08',\n",
       "       '2016-01-09', '2016-01-10', '2016-01-11', '2016-01-12',\n",
       "       '2016-01-13', '2016-01-14', '2016-01-15', '2016-01-16',\n",
       "       '2016-01-17', '2016-01-18', '2016-01-19', '2016-01-20',\n",
       "       '2016-01-21', '2016-01-22', '2016-01-23', '2016-01-24',\n",
       "       '2016-01-25', '2016-01-26', '2016-01-27', '2016-01-28',\n",
       "       '2016-01-29', '2016-01-30', '2016-01-31', '2016-02-01',\n",
       "       '2016-02-02', '2016-02-03', '2016-02-04', '2016-02-05',\n",
       "       '2016-02-06', '2016-02-07', '2016-02-08', '2016-02-09',\n",
       "       '2016-02-10', '2016-02-11', '2016-02-12', '2016-02-13',\n",
       "       '2016-02-14', '2016-02-15', '2016-02-16', '2016-02-17',\n",
       "       '2016-02-18', '2016-02-19', '2016-02-20', '2016-02-21',\n",
       "       '2016-02-22', '2016-02-23', '2016-02-24', '2016-02-25',\n",
       "       '2016-02-26', '2016-02-27', '2016-02-28', '2016-02-29',\n",
       "       '2016-03-01', '2016-03-02', '2016-03-03', '2016-03-04',\n",
       "       '2016-03-05', '2016-03-06', '2016-03-07', '2016-03-08',\n",
       "       '2016-03-09', '2016-03-10', '2016-03-11', '2016-03-12',\n",
       "       '2016-03-13', '2016-03-14', '2016-03-15', '2016-03-16',\n",
       "       '2016-03-17', '2016-03-18', '2016-03-19', '2016-03-20',\n",
       "       '2016-03-21', '2016-03-22', '2016-03-23', '2016-03-24',\n",
       "       '2016-03-25', '2016-03-26', '2016-03-27', '2016-03-28',\n",
       "       '2016-03-29', '2016-03-30', '2016-03-31', '2016-04-01',\n",
       "       '2016-04-02', '2016-04-03', '2016-04-04', '2016-04-05',\n",
       "       '2016-04-06', '2016-04-07', '2016-04-08', '2016-04-09',\n",
       "       '2016-04-10', '2016-04-11', '2016-04-12', '2016-04-13',\n",
       "       '2016-04-14', '2016-04-15', '2016-04-16', '2016-04-17',\n",
       "       '2016-04-18', '2016-04-19', '2016-04-20', '2016-04-21',\n",
       "       '2016-04-22', '2016-04-23', '2016-04-24', '2016-04-25',\n",
       "       '2016-04-26', '2016-04-27', '2016-04-28', '2016-04-29',\n",
       "       '2016-04-30', '2016-05-01', '2016-05-02', '2016-05-03',\n",
       "       '2016-05-04', '2016-05-05', '2016-05-06', '2016-05-07',\n",
       "       '2016-05-08', '2016-05-09', '2016-05-10', '2016-05-11',\n",
       "       '2016-05-12', '2016-05-13', '2016-05-14', '2016-05-15',\n",
       "       '2016-05-16', '2016-05-17', '2016-05-18', '2016-05-19',\n",
       "       '2016-05-20', '2016-05-21', '2016-05-22', '2016-05-23',\n",
       "       '2016-05-24', '2016-05-25', '2016-05-26', '2016-05-27',\n",
       "       '2016-05-28', '2016-05-29', '2016-05-30', '2016-05-31',\n",
       "       '2016-06-01', '2016-06-02', '2016-06-03', '2016-06-04',\n",
       "       '2016-06-05', '2016-06-06', '2016-06-07', '2016-06-08',\n",
       "       '2016-06-09', '2016-06-10', '2016-06-11', '2016-06-12',\n",
       "       '2016-06-13', '2016-06-14', '2016-06-15', '2016-06-16',\n",
       "       '2016-06-17', '2016-06-18', '2016-06-19', '2016-06-20',\n",
       "       '2016-06-21', '2016-06-22', '2016-06-23', '2016-06-24',\n",
       "       '2016-06-25', '2016-06-26', '2016-06-27', '2016-06-28',\n",
       "       '2016-06-29', '2016-06-30', '2016-07-01', '2016-07-02',\n",
       "       '2016-07-03', '2016-07-04', '2016-07-05', '2016-07-06',\n",
       "       '2016-07-07', '2016-07-08', '2016-07-09', '2016-07-10',\n",
       "       '2016-07-11', '2016-07-12', '2016-07-13', '2016-07-14',\n",
       "       '2016-07-15', '2016-07-16', '2016-07-17', '2016-07-18',\n",
       "       '2016-07-19', '2016-07-20', '2016-07-21', '2016-07-22',\n",
       "       '2016-07-23', '2016-07-24', '2016-07-25', '2016-07-26',\n",
       "       '2016-07-27', '2016-07-28', '2016-07-29', '2016-07-30',\n",
       "       '2016-07-31', '2016-08-01', '2016-08-02', '2016-08-03',\n",
       "       '2016-08-04', '2016-08-05', '2016-08-06', '2016-08-07',\n",
       "       '2016-08-08', '2016-08-09', '2016-08-10', '2016-08-11',\n",
       "       '2016-08-12', '2016-08-13', '2016-08-14', '2016-08-15',\n",
       "       '2016-08-16', '2016-08-17', '2016-08-18', '2016-08-19',\n",
       "       '2016-08-20', '2016-08-21', '2016-08-22', '2016-08-23',\n",
       "       '2016-08-24', '2016-08-25', '2016-08-26', '2016-08-27',\n",
       "       '2016-08-28', '2016-08-29', '2016-08-30', '2016-08-31',\n",
       "       '2016-09-01', '2016-09-02', '2016-09-03', '2016-09-04',\n",
       "       '2016-09-05', '2016-09-06', '2016-09-07', '2016-09-08',\n",
       "       '2016-09-09', '2016-09-10', '2016-09-11', '2016-09-12',\n",
       "       '2016-09-13', '2016-09-14', '2016-09-15', '2016-09-16',\n",
       "       '2016-09-17', '2016-09-18', '2016-09-19', '2016-09-20',\n",
       "       '2016-09-21', '2016-09-22', '2016-09-23', '2016-09-24',\n",
       "       '2016-09-25', '2016-09-26', '2016-09-27', '2016-09-28',\n",
       "       '2016-09-29', '2016-09-30'], dtype=object)"
      ]
     },
     "execution_count": 10,
     "metadata": {},
     "output_type": "execute_result"
    }
   ],
   "source": [
    "x"
   ]
  },
  {
   "cell_type": "code",
   "execution_count": 3,
   "id": "352a9190-5dd2-4c1a-897c-ce2f9ff166c6",
   "metadata": {
    "tags": []
   },
   "outputs": [
    {
     "data": {
      "text/plain": [
       "<function matplotlib.pyplot.show(close=None, block=None)>"
      ]
     },
     "execution_count": 3,
     "metadata": {},
     "output_type": "execute_result"
    },
    {
     "data": {
      "image/png": "[encoded data removed]",
      "text/plain": [
       "<Figure size 640x480 with 1 Axes>"
      ]
     },
     "metadata": {},
     "output_type": "display_data"
    }
   ],
   "source": [
    "#Paramètres\n",
    "teta0 = 4.18879\n",
    "rv_terre = 365\n",
    "rv_mars = 687\n",
    "r_mars =228\n",
    "r_terre = 150\n",
    "\n",
    "#Discrétisation du temps \n",
    "temps = np.arange(2750,3350,1)\n",
    "dates = np.arange('2021-09', '2021-10', dtype = 'datetime64[D]') \n",
    "angle_terre = (2*np.pi)* temps/rv_terre\n",
    "angle_mars = (2*np.pi)* temps /rv_mars\n",
    "T = (2*np.pi)/rv_terre\n",
    "Tmars = (2*np.pi)/rv_mars\n",
    "xm= r_mars*np.cos(angle_mars+teta0)\n",
    "ym= r_mars*np.sin(angle_mars+teta0)\n",
    "xt = r_terre*np.cos(angle_terre+teta0)\n",
    "yt = r_terre*np.sin(angle_terre+teta0)\n",
    "dx = xm-xt\n",
    "dy=ym-yt\n",
    "teta= np.arctan2(dy, dx)*180\n",
    "plt.plot(temps,teta)\n",
    "plt.grid()\n",
    "plt.ylim(200,270)\n",
    "plt.xlim(3025,3200)\n",
    "plt.show"
   ]
  },
  {
   "cell_type": "code",
   "execution_count": 37,
   "id": "0e211749-23b8-4afb-b8f3-a54ba17bc433",
   "metadata": {},
   "outputs": [
    {
     "name": "stdout",
     "output_type": "stream",
     "text": [
      "t=0, t=1, t=2, t=3, t=4, t=5, t=6, t=7, t=8, t=9, t=10, t=11, t=12, t=13, t=14, t=15, t=16, t=17, t=18, t=19 <class 'tuple'>\n",
      "t=0, x=10.0, y=0.0\n",
      "t=1, x=6.123233995736766e-16, y=10.0\n",
      "t=2, x=-10.0, y=1.2246467991473533e-15\n",
      "t=3, x=-1.8369701987210296e-15, y=-10.0\n",
      "t=4, x=10.0, y=-2.4492935982947065e-15\n",
      "t=5, x=3.061616997868383e-15, y=9.999999999999998\n",
      "t=6, x=-10.0, y=3.673940397442059e-15\n",
      "t=7, x=-4.2862637970157365e-15, y=-9.999999999999998\n",
      "t=8, x=10.0, y=-4.898587196589413e-15\n",
      "t=9, x=5.5109105961630896e-15, y=9.999999999999998\n",
      "t=10, x=-9.999999999999998, y=6.123233995736766e-15\n",
      "t=11, x=-2.4499125789312944e-14, y=-9.999999999999998\n",
      "t=12, x=10.0, y=-7.347880794884118e-15\n",
      "t=13, x=-9.803364199544707e-15, y=9.999999999999998\n",
      "t=14, x=-10.0, y=8.572527594031473e-15\n",
      "t=15, x=-2.6948419387607653e-14, y=-9.999999999999998\n",
      "t=16, x=9.999999999999998, y=-9.797174393178826e-15\n",
      "t=17, x=-7.354070601250003e-15, y=9.999999999999998\n",
      "t=18, x=-9.999999999999998, y=1.1021821192326179e-14\n",
      "t=19, x=-2.939771298590236e-14, y=-9.999999999999998\n"
     ]
    }
   ],
   "source": [
    "import numpy as np\n",
    " \n",
    "def circum(t, R=0, T=1, origin=0):\n",
    "\tpoint=2*np.pi/T * t + origin\n",
    "\treturn {\"x\" : R * np.cos(point), \"y\" : R * np.sin(point)}\n",
    "# circum()\n",
    " \n",
    "# Création d'un tableau de 20 temps divers\n",
    "tab=tuple(range(20))\n",
    "print(\", \".join(\"t={}\".format(x) for x in tab), type(tab))\n",
    " \n",
    "# Traitement du tableau\n",
    "for t in tab:\n",
    "\tpos=circum(t, R=10, T=4)\n",
    "\tprint(\"t={}, x={}, y={}\".format(t, pos[\"x\"], pos[\"y\"]))"
   ]
  },
  {
   "cell_type": "code",
   "execution_count": null,
   "id": "a50a9910-5eed-4761-a3b5-4889fafb3f41",
   "metadata": {},
   "outputs": [],
   "source": []
  }
 ],
 "metadata": {
  "kernelspec": {
   "display_name": "Python 3 (ipykernel)",
   "language": "python",
   "name": "python3"
  },
  "language_info": {
   "codemirror_mode": {
    "name": "ipython",
    "version": 3
   },
   "file_extension": ".py",
   "mimetype": "text/x-python",
   "name": "python",
   "nbconvert_exporter": "python",
   "pygments_lexer": "ipython3",
   "version": "3.11.6"
  }
 },
 "nbformat": 4,
 "nbformat_minor": 5
}
