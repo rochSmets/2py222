{
 "cells": [
  {
   "cell_type": "markdown",
   "id": "fef95880-22e1-4321-aac3-e1b26c56c66f",
   "metadata": {},
   "source": [
    "# Compte rendu : Force de Pressions sur une digue"
   ]
  },
  {
   "cell_type": "markdown",
   "id": "5b97cb73-fded-4b77-926c-dcc5c8b2d3c8",
   "metadata": {},
   "source": [
    "# I Introduction\n",
    "On va s'intéresser à une digue et plus précisément aux forces de qui lui sont appliquées.\n",
    "La digue que nous allons modéliser est un bloc de béton (masse volumique : 3000 kg/m 3) posé sur le sol rocheux (coefficient de friction statique béton - roche : 0.5). D'un côté la digue retient une masse d'eau de hauteur  𝐻 l'autre côté étant exposé à l'air. On prendra  𝐻=10m dans toute la suite.\n",
    "\n",
    "Pour simplifier, on se placera en deux dimensions (la digue est de longueur unitaire suivant l'axe perpendiculaire au schéma ci-dessus et on ne considérera pas les bords suivant cette direction).\n",
    "\n",
    "De plus on ne considérera que les forces de pressions dues à la hauteur d'eau (la pression de l'air étant négligée).\n",
    "\n",
    "\n",
    "On modélisera deux digues différentes à l'aide d'équations de droite. On étudiera d'abord le cas où la digue est un triangle isocèle puis en enlevant la moitié droite ou la moité gauche de ce triangle on observera les différences sur les forces entre chaque cas. Puis l'on étudiera le cas pour le coté de la digue vers l'eau qui est une courbe."
   ]
  },
  {
   "cell_type": "markdown",
   "id": "6800a838-a048-4284-8948-564ef664c101",
   "metadata": {},
   "source": [
    "## II Méthode de résolution Premiere Partie:\n",
    "\n",
    "Il nous faut d'abord effectuer quelques calcul pour trouver les forces que l'on va calculer.\n",
    "\n",
    "La digue est soumise à son poids, aux forces de Pression selon y tel que $P_{eau} (y)$= $\\rho g(H-y)$, puis il y a la force normale au sol et enfin la force tangentielle d'équation:\n",
    "$\\vec{T}$ = $\\mu$ $\\vec{N}$.\n",
    " \n",
    "En nous placant à l'équilibre statique on a donc selon x et y.\n",
    "\n",
    "$$\n",
    "\\left\\{\n",
    "    \\begin{array}{lll}\n",
    "\\vec{T}+\\vec{P_x{eau}(y)}=0\\\\\n",
    "\\vec{N}+\\vec{P_y{eau}(y)}+\\vec{P}=0\\\\\n",
    " \\end{array}\n",
    "\\right.\n",
    "$$\n",
    "En effet la force de pression appliquée sur la digue aura une composante selon x et y.\n",
    "\n",
    "\n",
    "\n",
    "\n",
    "Pour arriver à modéliser les forces il nous faudra tout d'abord afficher les courbes qui sont pour le cas du triangle \n",
    "une fonction croissante $f_{air}(y)$ représentant l'interface air-béton définie pour $0 \\leq y \\leq H$ et allant de $x_a$ à $0$,\n",
    "une autre fonction décroissante $f_{eau}(y)$ représentant l'interface eau-béton définie sur le même intervalle et allant de $x_e$ à $0$ qui ont pour équation \n",
    "\\\n",
    "\\begin{cases}\n",
    "f_{\\text{air}}(y) = -\\frac{x_a}{H} \\cdot (y-H) \\\\\n",
    "f_{\\text{eau}}(y) = -\\frac{x_e}{H} \\cdot (y-H)\n",
    "\\end{cases}\n",
    "\\\n",
    "On a en regardant le point d'application on a un vecteur $\\vec n$ normal à la Force et un vectuer $\\vec t$  tangent à la surface or on observe entre $\\vec t$   et la courbe un angle $\\theta$\n",
    "L'angle $\\theta$ entre la tangente en un point et l'axe des abscisses (voir schéma ci-dessus) est relié à la dérivée de la courbe par :\n",
    "\n",
    "$$\n",
    "tan(\\theta) = f'(y)\n",
    "$$\n",
    "\n",
    "Les vecteurs $\\vec t$ et $\\vec n$ sont alors donnés par :\n",
    "\n",
    "$$\n",
    "\\vec t = \\cos(\\theta).\\vec{u_y} + \\sin(\\theta).\\vec{u_x}\n",
    "$$\n",
    "\n",
    "$$\n",
    "\\vec n = \\sin(\\theta).\\vec{u_y} - \\cos(\\theta).\\vec{u_x} \n",
    "$$\n",
    "\n",
    "De plus Pour pouvoir calculer la résultante des forces de pression sur une surface de forme arbitraire, il nous faut intégrer les forces infinitésimales $\\vec{\\mathrm{d}F}$ s'appliquant à chaque élément de surface $\\mathrm{d}S$. Comme nous sommes en deux dimensions, nous pouvons simplifier le problème en considérant que l'élément de surface est $\\mathrm{d}S = L \\mathrm{d}l$, avec $L = 1m$ la longueur unitaire de la digue suivant $z$, ce qui nous ramène à une intégrale 1D (on n'écrira pas $L$ dans la suite).\n",
    "​\n",
    "On obtient donc, pour l'interface eau-béton :\n",
    "​\n",
    "$$\n",
    "\\vec{F} = \\iint_S \\vec{\\mathrm{d}F} =\\int_0^H P(y) \\mathrm{d}l . \\vec{n}\n",
    "$$\n",
    "​\n",
    "avec $\\vec{n}$ le vecteur normal rentrant au point de coordonnées $(f(y),y)$, et $\\mathrm{d}l$ la longueur infinitésimale de la courbe pour une variation $\\mathrm{d}x$. On montre facilement la relation avec l'angle $\\theta$ défini avant :\n",
    "​\n",
    "$$\n",
    "\\mathrm{d}l = \\frac{\\mathrm{d}y}{\\cos(\\theta)}\n",
    "$$\n",
    "\n",
    "Pour faire nos calculs on commencera par calculer le volume de la digue en vérifiant nos calculs de manière analytique. Pour cela on intègrera la surface de la digue selon $L \\mathrm{d}l$, puis on calculera le Poids car $P=\\rho_{digue}gV$. Puis à l'aide de la biliothèque scipy et de la fonction quad on intègrera la pression selon $dl$ et $\\vec{n}$. Ainsi en écrivant les équations d'équilibre statique on aura $T$ et $N$ et en calculant $T/N$ on saura si la digue est en équilibre où non. Car en effet le coefficient de friction statique nous est donné et si le rapport est plus grand que ce dernier la digue ne sera $T/N$ pas en équilibre translationnel."
   ]
  },
  {
   "cell_type": "code",
   "execution_count": 1,
   "id": "7e79943e-f9b2-4985-a996-49cabe9e2814",
   "metadata": {
    "tags": []
   },
   "outputs": [
    {
     "data": {
      "image/png": "[encoded data removed]",
      "text/plain": [
       "<Figure size 432x288 with 1 Axes>"
      ]
     },
     "metadata": {
      "needs_background": "light"
     },
     "output_type": "display_data"
    }
   ],
   "source": [
    "import numpy as np\n",
    "import matplotlib.pyplot as plt\n",
    "import scipy.integrate as si\n",
    "\n",
    "# Ce code permet d'afficher les courbes représentant la digue\n",
    "\n",
    "H = 10\n",
    "xa = -5\n",
    "xe = 5\n",
    "L=1\n",
    "g=9.81\n",
    "rho_d=3000\n",
    "\n",
    "# On définit les fonctions côté eau et côté air, ici les courbes concaves\n",
    "def fair(y):\n",
    "    return -(y - H) * xa / H\n",
    "\n",
    "def feau(y):\n",
    "    return  -(y-H)*xe/H\n",
    "\n",
    "# On crée un tableau de y\n",
    "y = np.linspace(0, H, 1000)\n",
    "\n",
    "# On trace\n",
    "plt.plot(fair(y), y, '-b') \n",
    "plt.plot(feau(y), y, '-b')  \n",
    " \n",
    "plt.plot([xe, xa], [0, 0], '-b') \n",
    "\n",
    "plt.xlabel('x (m)') \n",
    "plt.ylabel('y (m)')\n",
    "plt.text(xe, 8, 'eau')\n",
    "plt.text(xa, 8, 'air')\n",
    "plt.axis('equal') \n",
    "plt.axhline(0, color = \"black\")\n",
    "plt.axvline(0, color = \"black\")\n",
    "plt.xlim(-8, 8)\n",
    "plt.show()"
   ]
  },
  {
   "cell_type": "markdown",
   "id": "49d836e5-69af-4929-bced-be2243a661b2",
   "metadata": {},
   "source": [
    "Ceci sera notre premier cas d'étude."
   ]
  },
  {
   "cell_type": "code",
   "execution_count": 2,
   "id": "b0e1f61d-b2de-427a-85c6-2c8efa9b58b4",
   "metadata": {
    "tags": []
   },
   "outputs": [
    {
     "name": "stdout",
     "output_type": "stream",
     "text": [
      "50.0\n",
      "50.0\n",
      "1471500.0\n"
     ]
    }
   ],
   "source": [
    "\n",
    "V_analytique=(xe-xa)/2*L*H # Base * hauteur*Largeur/2\n",
    "def Largeur(y):\n",
    "    return L*(feau(y)-fair(y))\n",
    "\n",
    "V,errueur=si.quad(Largeur,0,H)\n",
    "print(V_analytique)\n",
    "print(V)\n",
    "\n",
    "Poids=rho_d*V*g\n",
    "print(Poids)"
   ]
  },
  {
   "cell_type": "code",
   "execution_count": 3,
   "id": "f59207e7-ba38-4f0a-ae20-c5cf04a884e4",
   "metadata": {
    "tags": []
   },
   "outputs": [
    {
     "name": "stdout",
     "output_type": "stream",
     "text": [
      "490500.0 tangentielle\n",
      "1716750.0 Normale\n",
      "0.2857142857142857 coefficient de friction\n"
     ]
    }
   ],
   "source": [
    "df_eau=-xe/H\n",
    "def P(y):\n",
    "    return 1000*9.81*(10-y) # Me retourne une erreur dans le calcul de l'intégrale si j'utilise des variables \n",
    "\n",
    "def f2(y):\n",
    "    return P(y)*df_eau # En faisant le calcul on observe que l'on tombe sur la composante selon y sur un sin/cos=tan=f'(y) d'où le df_eau.\n",
    "\n",
    "resultantx,errorx=si.quad(P,0,H)# Ici on a -cos/cos mettre un signe - serait plus rigoureux mais au final ca ne change pas les calculs.\n",
    "resultanty,errory=si.quad(f2,0,H)\n",
    "T=resultantx\n",
    "N=-resultanty+Poids\n",
    "print(T,\"tangentielle\")\n",
    "print(N,\"Normale\")\n",
    "print(T/N,\"coefficient de friction\")\n"
   ]
  },
  {
   "cell_type": "markdown",
   "id": "ab7dbc44-954c-4e8a-9411-e100f5f278f0",
   "metadata": {},
   "source": [
    "Donc pour les conditions $xe=5$ et $xa=-5$ et en supposant La digue en équilibre translationnel. On trouve que la digue est bien en équilibre car on a bien $T/N$ < $\\mu$."
   ]
  },
  {
   "cell_type": "code",
   "execution_count": 4,
   "id": "5369e59a-b748-403c-b4cc-735dfb0b790a",
   "metadata": {
    "tags": []
   },
   "outputs": [
    {
     "name": "stdout",
     "output_type": "stream",
     "text": [
      "490500.0 tangentielle\n",
      "735750.0 Normale\n",
      "0.6666666666666666 coefficient de friction statique\n"
     ]
    },
    {
     "data": {
      "image/png": "[encoded data removed]",
      "text/plain": [
       "<Figure size 432x288 with 1 Axes>"
      ]
     },
     "metadata": {
      "needs_background": "light"
     },
     "output_type": "display_data"
    }
   ],
   "source": [
    "def f_ultime1(y,xe,xa):\n",
    "    def fair(y,xa):\n",
    "        return -(y - H) * xa / H\n",
    "\n",
    "    def feau(y,xe):\n",
    "        return  -(y-H)*xe/H\n",
    "    \n",
    "    def Largeur(y):\n",
    "        return L*(feau(y,xe)-fair(y,xa))\n",
    "\n",
    "    V,errueur=si.quad(Largeur,0,H)\n",
    "    Poids=3000*V*g\n",
    "    df_eau=-xe/H\n",
    "    def P(y):\n",
    "        return 1000*9.81*(10-y)\n",
    "\n",
    "    def f2(y):\n",
    "        return P(y)*df_eau\n",
    "\n",
    "    resultantx,errorx=si.quad(P,0,H)\n",
    "    resultanty,errory=si.quad(f2,0,H)\n",
    "    T=resultantx\n",
    "    N=-resultanty+Poids\n",
    "    print(T,\"tangentielle\")\n",
    "    print(N,\"Normale\")\n",
    "    print(T/N,\"coefficient de friction statique\")\n",
    "    plt.plot(fair(y,xa), y, '-b') \n",
    "    plt.plot(feau(y,xe), y, '-b')  \n",
    " \n",
    "    plt.plot([xe, xa], [0, 0], '-b') \n",
    "\n",
    "    plt.xlabel('x (m)') \n",
    "    plt.ylabel('y (m)')\n",
    "    plt.text(xe, 8, 'eau')\n",
    "    plt.text(xa, 8, 'air')\n",
    "    plt.axis('equal') \n",
    "    plt.axhline(0, color = \"black\")\n",
    "    plt.axvline(0, color = \"black\")\n",
    "    plt.xlim(-8, 8)\n",
    "    plt.show()\n",
    "    \n",
    "f_ultime1(y,0,xa)"
   ]
  },
  {
   "cell_type": "markdown",
   "id": "48bf7ec6-522c-4c66-b7ed-25df995d1b51",
   "metadata": {},
   "source": [
    "Ici pour $xe=0$ et $xa=-5$ on a  $T/N$ > $\\mu$. On en conclut que la digue n'est pas en équilibre translationel pour le cas où la surface en contact est une simple droite allant selon y de 0 à H."
   ]
  },
  {
   "cell_type": "code",
   "execution_count": 5,
   "id": "97d330b7-0d15-407c-b269-b8c8826d5136",
   "metadata": {
    "tags": []
   },
   "outputs": [
    {
     "name": "stdout",
     "output_type": "stream",
     "text": [
      "490500.0 tangentielle\n",
      "981000.0 Normale\n",
      "0.5 coefficient de friction statique\n"
     ]
    },
    {
     "data": {
      "image/png": "[encoded data removed]",
      "text/plain": [
       "<Figure size 432x288 with 1 Axes>"
      ]
     },
     "metadata": {
      "needs_background": "light"
     },
     "output_type": "display_data"
    }
   ],
   "source": [
    "\n",
    "f_ultime1(y,xe,0)"
   ]
  },
  {
   "cell_type": "markdown",
   "id": "cc885c68-c4a0-4ed4-a5bc-931fd763ea2f",
   "metadata": {},
   "source": [
    "Ici dans le cas ou $xa=0m$ et $xe=5m$. On a le cas opposé il n'y a plus qu'un demi triangle par rapport à celui de base et cette fois la pente est en contact avec l'eau. On a $T/N$=$\\mu$ donc la digue est encore à l'équilibre contrairement au cas précédent. Cette différence d'équilibre est liée à la surface en contact avec l'eau. Sur le cas précédent la pression s'applique de manière uniforme avec la force qui augment plus y est petit. Or dans le cas ci dessus les points d'applications ne sont pas les mêmes, la répartiton est moins uniforme de plus si on appliquait le moment en tout point de la pente. Il y a plus de probabilités que la somme des moments soit nul dans ce cas-ci."
   ]
  },
  {
   "cell_type": "markdown",
   "id": "34b63336-fe24-44e7-9bc5-938ac24cfcf4",
   "metadata": {},
   "source": [
    "## III- Modélisation deuxième partie.\n",
    "### Cas des digues convexes\n",
    "On considère maintenant que l'interface entre l'eau et le béton n'est plus une fonction affine mais une fonction de la forme :\n",
    "\n",
    "$$\n",
    "f_{eau} (y)=a \\left(\\frac{y}{H}\\right)^2-(a+x_e)\\left(\\frac{y}{H}\\right) +x_e\n",
    "$$\n",
    "\n",
    "\n",
    "on donne également la dérivée :\n",
    "\n",
    "$$\n",
    "f'_{eau} (y)=\\frac{2ay}{H^2}-\\frac{a+x_e}{H}\n",
    "$$\n",
    "\n",
    "(on peut vérifier aisément que cette fonction relie bien les points de coordonées $[x_e,0]$ et $[0,H]$). Dans la suite nous prendrons $a=3$.\n",
    "Les calculs seront les mêmes que dans la première partie. On remplacera $df_{eau}$ par l'expression de $f'_{eau} (y)$"
   ]
  },
  {
   "cell_type": "code",
   "execution_count": 6,
   "id": "d6bb8bdd-609d-4d10-ae1a-ee7307b195a5",
   "metadata": {
    "tags": []
   },
   "outputs": [
    {
     "data": {
      "image/png": "[encoded data removed]",
      "text/plain": [
       "<Figure size 432x288 with 1 Axes>"
      ]
     },
     "metadata": {
      "needs_background": "light"
     },
     "output_type": "display_data"
    }
   ],
   "source": [
    "# Ce code permet d'afficher les courbes représentant la digue\n",
    "\n",
    "H = 10\n",
    "xe = 5\n",
    "xa = 0\n",
    "rho_eau=1000\n",
    "# On définit les fonctions côté eau et côté air, ici les courbes concaves\n",
    "a = 3\n",
    "def feau1(y):\n",
    "    return a * (y / H) ** 2 - (a + xe) * (y / H) + xe\n",
    "def fair1(y):\n",
    "    return (H - y) * xa / H\n",
    "\n",
    "# On crée un tableau de y\n",
    "y = np.linspace(0, H, 1000)\n",
    "\n",
    "# On trace\n",
    "plt.plot(feau1(y), y, '-b')\n",
    "plt.plot(fair1(y), y, '-b')\n",
    "plt.plot([xe, xa], [0, 0], '-b')\n",
    "plt.xlabel('x (m)')\n",
    "plt.ylabel('y (m)')\n",
    "plt.text(3, 8, 'eau')\n",
    "plt.text(-3, 8, 'air')\n",
    "plt.axis('equal') # Permet d'avoir un plot isométrique\n",
    "plt.axhline(0, color = \"black\")\n",
    "plt.axvline(0, color = \"black\")\n",
    "plt.xlim(-8, 8)\n",
    "plt.show()"
   ]
  },
  {
   "cell_type": "code",
   "execution_count": 7,
   "id": "b72cfc81-b166-409c-bb9f-5926e2f6a4b4",
   "metadata": {
    "tags": []
   },
   "outputs": [
    {
     "name": "stdout",
     "output_type": "stream",
     "text": [
      "490500.0 Force tangentielle\n",
      "882900.0 Force Normale\n",
      "0.5555555555555556 coefficient de friction statique\n"
     ]
    },
    {
     "data": {
      "image/png": "[encoded data removed]",
      "text/plain": [
       "<Figure size 432x288 with 1 Axes>"
      ]
     },
     "metadata": {
      "needs_background": "light"
     },
     "output_type": "display_data"
    }
   ],
   "source": [
    "def f_ultime2(y,xe,xa):\n",
    "    def feau1(y):\n",
    "        return a * (y / H) ** 2 - (a + xe) * (y / H) +xe\n",
    "    \n",
    "    V2,errueur=si.quad(feau1,0,H)\n",
    "    Poids=3000*V2*g\n",
    "    \n",
    "    df_eau=2*a*y/H**2-(a+xe)/H\n",
    "    def P(y):\n",
    "        return rho_eau*g*(H-y)\n",
    "\n",
    "    def f2(y):\n",
    "        return P(y)*(2*a*y/H**2-(a+xe)/H)\n",
    "\n",
    "    resultantx,errorx=si.quad(P,0,H)\n",
    "    resultanty,errory=si.quad(f2,0,H)\n",
    "    T=resultantx\n",
    "    N=-resultanty+Poids\n",
    "    print(T,\"Force tangentielle\")\n",
    "    print(N,\"Force Normale\")\n",
    "    print(T/N,\"coefficient de friction statique\")\n",
    "    plt.plot(feau1(y), y, '-b')\n",
    "    plt.plot(fair1(y), y, '-b')\n",
    "    plt.plot([xe, xa], [0, 0], '-b')\n",
    "    plt.xlabel('x (m)')\n",
    "    plt.ylabel('y (m)')\n",
    "    plt.text(3, 8, 'eau')\n",
    "    plt.text(-3, 8, 'air')\n",
    "    plt.axis('equal') # Permet d'avoir un plot isométrique\n",
    "    plt.axhline(0, color = \"black\")\n",
    "    plt.axvline(0, color = \"black\")\n",
    "    plt.xlim(-8, 8)\n",
    "    plt.show()\n",
    "f_ultime2(y,5,0)"
   ]
  },
  {
   "cell_type": "markdown",
   "id": "1b7b665d-3ba4-43ea-ab52-bc2bb1f903d5",
   "metadata": {},
   "source": [
    "Pour ce tracé il n'y a pas équilibre le rapport $T/N$ est supérieur à $\\mu$. Ce qui est plutôt étonnant en comparant à la partie 1 où pour le cas proche où on à équilibre. Les changements sont probablement liés à $df_{eau}$ et au volume qui sont différents pour la corube linéaire.\n"
   ]
  },
  {
   "cell_type": "code",
   "execution_count": 8,
   "id": "e8b0b54d-a072-4fe1-9c95-ed94bc90a31b",
   "metadata": {
    "tags": []
   },
   "outputs": [
    {
     "name": "stdout",
     "output_type": "stream",
     "text": [
      "490500.0 Force tangentielle\n",
      "1079100.0 Force Normale\n",
      "0.45454545454545453 coefficient de friction statique\n"
     ]
    },
    {
     "data": {
      "image/png": "[encoded data removed]",
      "text/plain": [
       "<Figure size 432x288 with 1 Axes>"
      ]
     },
     "metadata": {
      "needs_background": "light"
     },
     "output_type": "display_data"
    }
   ],
   "source": [
    "f_ultime2(y,6,0)"
   ]
  },
  {
   "cell_type": "markdown",
   "id": "82e3dc50-f791-48ce-844f-691e7a59238f",
   "metadata": {},
   "source": [
    "Dans ce cas ci $T/N$ est plus petit que pour les pentes affines où le rapport était égal à 0,5. Le cas avec la corube convexe est plus favorable en effet $T/N$=0,454 ce qui est inférieur à 0,5 résultat trouvé pour les affines. Quand on se place à 0,5 on se trouve au cas limite sans aucune perturbation or en réalité on peut trouver des pertubations qui feraient augmenter la valeur du rapport et alors la digue se metterait à bouger. Il vaut donc mieux se laisser une marge avec la courbe convexe et $x_e$=0,6m."
   ]
  },
  {
   "cell_type": "code",
   "execution_count": 9,
   "id": "d52b2f97-bfa4-47a3-8053-da1c726a2881",
   "metadata": {
    "tags": []
   },
   "outputs": [
    {
     "data": {
      "image/png": "[encoded data removed]",
      "text/plain": [
       "<Figure size 432x288 with 1 Axes>"
      ]
     },
     "metadata": {
      "needs_background": "light"
     },
     "output_type": "display_data"
    },
    {
     "name": "stdout",
     "output_type": "stream",
     "text": [
      "Le volume minimal pour T/N < 0.5 est 22.5025025025025 m^3.\n"
     ]
    }
   ],
   "source": [
    "import numpy as np\n",
    "import scipy.integrate as si\n",
    "import matplotlib.pyplot as plt\n",
    "\n",
    "# Paramètres constants\n",
    "H = 10\n",
    "xa = 0\n",
    "g = 9.81  # Supposons que g représente l'accélération due à la gravité\n",
    "\n",
    "# Fonction pour calculer le volume et le rapport T/N\n",
    "def V_et_T_sur_N(xe):\n",
    "    \n",
    "    V, erreur = si.quad(feau1, 0, H)\n",
    "\n",
    "    def f2(y):\n",
    "        return P(y) * (2 * a * y / H ** 2 - (a + xe) / H)\n",
    "\n",
    "    Poids = 3000 * V * g\n",
    "    resultantx, erreurx = si.quad(P, 0, H)\n",
    "    resultanty, erreury = si.quad(f2, 0, H)\n",
    "    T = resultantx\n",
    "    N = -resultanty + Poids\n",
    "\n",
    "    # Calcul du rapport T/N\n",
    "    rapport = T / N\n",
    "\n",
    "    return V, rapport\n",
    "\n",
    "# Boucle pour faire varier xe dans l'intervalle [5, 6]\n",
    "xe_values = np.linspace(5, 6, 1000)\n",
    "volumes = []\n",
    "rapports = []\n",
    "\n",
    "for xe in xe_values:\n",
    "    V, rapport = V_et_T_sur_N(xe)\n",
    "    volumes.append(V)\n",
    "    rapports.append(rapport)\n",
    "\n",
    "# Tracer le rapport T/N en fonction du volume\n",
    "plt.plot(volumes, rapports, label='Rapport T/N')\n",
    "plt.axhline(0.5, color='red', linestyle='--', label='Limite T/N = 0.5')\n",
    "plt.xlabel('Volume de béton en m$^{3}$')\n",
    "plt.ylabel('Rapport T/N')\n",
    "plt.legend()\n",
    "plt.show()\n",
    "\n",
    "# Trouver graphiquement le volume minimal pour T/N < 0.5\n",
    "min_volume_index = np.argmax(np.array(rapports) < 0.5)\n",
    "min_volume = volumes[min_volume_index]\n",
    "print(f\"Le volume minimal pour T/N < 0.5 est {min_volume} m^3.\")\n"
   ]
  },
  {
   "cell_type": "markdown",
   "id": "da7ad89d-1493-4ecd-93ca-514a788a342b",
   "metadata": {},
   "source": [
    "La forme courbée permet tout d'abord une répartition plus uniforme des forces de pression contrairement à la forme linéaire où les forces seraient plus concentrées en bas. La digue peut aussi être plus résistante aux forces avec cette forme de plus les moments des forces ne seraient potentiellement pas les mêmes et la somme pourrait donner des moments nuls. \n",
    "De plus la forme courbée permet de réduire le Volume ce qui veut dire qu'on réduit le Poids qui intervient directement dans nos équations d'équilibre statique. Ce faisant on réduit N ce qui permet bien de baisser la valeur de $\\mu$. Cependant on doit rester au dessus du volume minimal pour que $T/N$ soit supérieur à 0,5."
   ]
  },
  {
   "cell_type": "markdown",
   "id": "23168a5a-9562-4487-b362-6ee74ec1c17a",
   "metadata": {},
   "source": [
    "## IV-Conclusion:\n",
    "\n",
    "On a donc modélisé les différentes forces qui sont appliquées à différentes digues et on a calculé si la digue en question était en équilibre translationnel selon le coefficient de frottement statique.\n",
    "Tout d'abord on a des digues avec des pentes linéaires où l'on fait varier la base des triangles. Avec au début $x_e$=5 et $x_a$=-5 puis $x_e$=0 et $x_a$=-5 et enfin $xa=0$ et $xe=5$. On observe alors que lorsque la pente est en contact avec l'eau la digue est bien en équilibre translationnel. Dans le cas contraire elle glisse.\n",
    "\n",
    "Puis on a calculé les forces et le coefficient de frottement dans le cas où la face de la digue est une courbe convexe on a alors un volume réduit de surface de béton. Cela implique donc que le coefficient de friction statique diminue. Or pour $x_e$=5m la digue glisse ce qui parait plutôt étonnant. En traçant le rapport T/N en fonction du volume du béton on troive donc que pour le cas convexe il faut prendre en compte le volume minimal qui est de 22,5 m$^{3}$ pour qu'il y ait bien équilibre statique et qu'il y ait une marge en cas de pertubations éventuelles dans les forces.\n",
    "\n",
    "Cependant avec ce modèle on s'assure seulement que la digue ne glisse pas. Elle pourrait toujours basculer pour cela il faudrait vérifier que la digue ne bascule pas sous la pression de l'eau, il faudrait en effet vérifier que le moment des forces qui s'applique à la digue soit nul.\n",
    "\n",
    "Ce qui amènerait donc à:\n",
    "\n",
    "- trouver le point d'application du poids (le centre de gravité de la digue),\n",
    "- calculer le moment du poids par rapport à un point,\n",
    "- calculer la résultante du moment des forces de pression par rapport au même point,\n",
    "- trouver le point d'application de la réaction du sol qui annule la somme des moments des forces (par rapport à un point quelconque) \n",
    "- vérifier que ce point d'application est bien situé quelque part entre la digue et le sol (sinon la digue bascule...)\n",
    "\n",
    "Ce n'est qu'en faisant ces calculs qui n'auront pas les mêmes résultats selon les valeurs des pentes alors on pourra conclure sur le fait que la digue soit entièrement statique où non.\n",
    "De plus on aurait pu tracer les graphes des erreurs pour les calculs d'intégrales dans le programme et prendre cette incertitude en compte dans nos calculs.\n"
   ]
  },
  {
   "cell_type": "code",
   "execution_count": null,
   "id": "6a85235f-c58f-4d58-aaf7-a1a0aa4af31f",
   "metadata": {},
   "outputs": [],
   "source": []
  }
 ],
 "metadata": {
  "kernelspec": {
   "display_name": "Python 3 (ipykernel)",
   "language": "python",
   "name": "python3"
  },
  "language_info": {
   "codemirror_mode": {
    "name": "ipython",
    "version": 3
   },
   "file_extension": ".py",
   "mimetype": "text/x-python",
   "name": "python",
   "nbconvert_exporter": "python",
   "pygments_lexer": "ipython3",
   "version": "3.11.6"
  }
 },
 "nbformat": 4,
 "nbformat_minor": 5
}
