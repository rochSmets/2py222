{
 "cells": [
  {
   "cell_type": "markdown",
   "metadata": {},
   "source": [
    "# Calcul des forces de pression sur une digue\n",
    "\n",
    "Une digue est un petit barrage permettant de retenir une étendue d'eau (mer, lac, rivière) par exemple pour protéger des habitations ou des installations en zone inondable. \n",
    "\n",
    "Dans ce mini-projet vous allez calculer numériquement les forces appliquées à une digue de forme arbitraire."
   ]
  },
  {
   "cell_type": "markdown",
   "metadata": {},
   "source": [
    "# Introduction : Dans ce mini-projet, nous allons étudier comment former une digue optimale pour retenir de l'eau."
   ]
  },
  {
   "cell_type": "markdown",
   "metadata": {},
   "source": [
    "a. Faites un bilan des forces appliquées à la digue en 2D. Quelle force permet à la digue de ne pas glisser sur le sol rocheux ?"
   ]
  },
  {
   "cell_type": "markdown",
   "metadata": {},
   "source": [
    "$\\sum F=Fx+Fy=Peau(x)+Rx+Fg+Peau(y)+Ry$"
   ]
  },
  {
   "cell_type": "markdown",
   "metadata": {},
   "source": [
    "b. Rappelez l'expression de la pression hydrostatique dans l'eau $P_{eau} (x)$ en fonction de la hauteur par rapport au sol $x$."
   ]
  },
  {
   "cell_type": "markdown",
   "metadata": {},
   "source": [
    "$Peau(x) = \\rho g(h-y)$"
   ]
  },
  {
   "cell_type": "markdown",
   "metadata": {},
   "source": [
    "c. Rappelez la (les) équation(s) d'équilibre statique de la digue."
   ]
  },
  {
   "cell_type": "markdown",
   "metadata": {},
   "source": [
    "$\\sum Fx = 0$\n",
    "\n",
    "$\\sum Fy = 0$"
   ]
  },
  {
   "cell_type": "markdown",
   "metadata": {},
   "source": [
    "### Modélisation"
   ]
  },
  {
   "cell_type": "markdown",
   "metadata": {},
   "source": [
    "\n",
    "On définit donc :\n",
    "\n",
    "* une fonction croissante $f_{air}(y)$ représentant l'interface air-béton définie pour $0 \\leq y \\leq H$ et allant de $x_a$ à $0$,\n",
    "* une autre fonction décroissante $f_{eau}(y)$ représentant l'interface eau-béton définie sur le même intervalle et allant de $x_e$ à $0$. \n",
    "\n",
    "On ne considérera ici que des fonctions monotones.\n",
    "\n",
    "On donne l'expression de la courbe côté eau pour une digue représentée par une fonction affine :\n",
    "\n",
    "$$\n",
    "f_{air}(y) = -\\frac{x_a}{H}.(y-H)\n",
    "$$\n",
    "\n",
    "d. Donnez l'expression de la fonction côté air dans le cas d'une fonction affine, et tracez-la avec le code suivant."
   ]
  },
  {
   "cell_type": "markdown",
   "metadata": {
    "tags": []
   },
   "source": [
    "$-(y - H) * xe / H$"
   ]
  },
  {
   "cell_type": "code",
   "execution_count": 1,
   "metadata": {},
   "outputs": [],
   "source": [
    "import numpy as np\n",
    "import matplotlib.pyplot as plt"
   ]
  },
  {
   "cell_type": "code",
   "execution_count": 2,
   "metadata": {
    "tags": []
   },
   "outputs": [
    {
     "data": {
      "image/png": "[encoded data removed]",
      "text/plain": [
       "<Figure size 432x288 with 1 Axes>"
      ]
     },
     "metadata": {
      "needs_background": "light"
     },
     "output_type": "display_data"
    }
   ],
   "source": [
    "# Ce code permet d'afficher les courbes représentant la digue\n",
    "\n",
    "H = 10\n",
    "xa = -5\n",
    "xe = +5\n",
    "\n",
    "\n",
    "# On définit les fonctions côté eau et côté air, ici les courbes concaves\n",
    "def fair(y):\n",
    "    return -(y - H) * xa / H\n",
    "\n",
    "def feau(y):\n",
    "    return  -(y - H) * xe / H\n",
    "\n",
    "# On crée un tableau de y\n",
    "y = np.linspace(0, H, 1000)\n",
    "\n",
    "# On trace\n",
    "plt.plot(fair(y), y, '-b') \n",
    "plt.plot(feau(y), y, '-b')  \n",
    " \n",
    "plt.plot([xe, xa], [0, 0], '-b') # Bas de la digue\n",
    "plt.xlabel('x (m)') \n",
    "plt.ylabel('y (m)')\n",
    "plt.text(xe, 8, 'eau')\n",
    "plt.text(xa, 8, 'air')\n",
    "plt.axis('equal') # Permet d'avoir un plot isométrique\n",
    "plt.axhline(0, color = \"black\")\n",
    "plt.axvline(0, color = \"black\")\n",
    "plt.xlim(-8, 8)\n",
    "plt.show()"
   ]
  },
  {
   "cell_type": "markdown",
   "metadata": {},
   "source": [
    "On rappelle que l'angle $\\theta$ entre la tangente en un point et l'axe des abscisses (voir schéma ci-dessus) est relié à la dérivée de la courbe par :\n",
    "\n",
    "$$\n",
    "tan(\\theta) = f'(y)\n",
    "$$\n",
    "\n",
    "Les vecteurs $\\vec t$ et $\\vec n$ sont alors donnés par :\n",
    "\n",
    "$$\n",
    "\\vec t = \\cos(\\theta).\\vec{u_y} + \\sin(\\theta).\\vec{u_x}\n",
    "$$\n",
    "\n",
    "$$\n",
    "\\vec n = \\sin(\\theta).\\vec{u_y} - \\cos(\\theta).\\vec{u_x} \n",
    "$$\n"
   ]
  },
  {
   "cell_type": "markdown",
   "metadata": {},
   "source": [
    "Pour pouvoir calculer la résultante des forces de pression sur une surface de forme arbitraire, il nous faut intégrer les forces infinitésimales $\\vec{\\mathrm{d}F}$ s'appliquant à chaque élément de surface $\\mathrm{d}S$. Comme nous sommes en deux dimensions, nous pouvons simplifier le problème en considérant que l'élément de surface est $\\mathrm{d}S = L \\mathrm{d}l$, avec $L = 1$ la longueur unitaire de la digue suivant $z$, ce qui nous ramène à une intégrale 1D (on n'écrira pas $L$ dans la suite).\n",
    "\n",
    "On obtient donc, pour l'interface eau-béton :\n",
    "\n",
    "$$\n",
    "\\vec{F} = \\iint_S \\vec{\\mathrm{d}F} =\\int_0^H P(y) \\mathrm{d}l . \\vec{n}\n",
    "$$\n",
    "\n",
    "avec $\\vec{n}$ le vecteur normal rentrant au point de coordonnées $(f(y),y)$, et $\\mathrm{d}l$ la longueur infinitésimale de la courbe pour une variation $\\mathrm{d}x$. On montre facilement la relation avec l'angle $\\theta$ défini avant :\n",
    "\n",
    "$$\n",
    "\\mathrm{d}l = \\frac{\\mathrm{d}y}{\\cos(\\theta)}\n",
    "$$"
   ]
  },
  {
   "cell_type": "markdown",
   "metadata": {},
   "source": [
    "### Cas des digues en pentes droites\n",
    "\n",
    "a. Calculez le volume de la digue par intégration de la largeur de la digue en fonction de $y$. Comparez avec le calcul analytique (ici, l'aire du triangle multipliée par la longueur $L=1$). En déduire la force de gravité exercée sur la digue."
   ]
  },
  {
   "cell_type": "code",
   "execution_count": 3,
   "metadata": {
    "tags": []
   },
   "outputs": [
    {
     "name": "stdout",
     "output_type": "stream",
     "text": [
      "[5.00000000e+01 1.38777878e-13]\n"
     ]
    }
   ],
   "source": [
    "import scipy.integrate as sp\n",
    "\n",
    "aire_feau = np.array(sp.quad(feau, -5, 0))\n",
    "aire_fair = np.array(sp.quad(fair, 0, 5))\n",
    "aire_digue = np.add(aire_feau, -aire_fair)\n",
    "\n",
    "print(aire_digue)"
   ]
  },
  {
   "cell_type": "markdown",
   "metadata": {},
   "source": [
    "Valeur analytique = H+B/2 = 50 (mètre cube)\n",
    "On obtient donc le même résultat numérique et analytique"
   ]
  },
  {
   "cell_type": "markdown",
   "metadata": {
    "tags": []
   },
   "source": [
    "Fg =-mg\n",
    "\n",
    "$m=\\rho*V=3000*50$\n",
    "\n",
    "Fg = -1 471 500 N"
   ]
  },
  {
   "cell_type": "markdown",
   "metadata": {},
   "source": [
    "b. Pour le cas des fonctions affines, calculez la résultante (vectorielle ; il y a une composante suivant $x$ et une composante suivant $y$) des forces de pression côté eau. On prendra $x_a = -5$, $x_e = +5$, $H=10$. (On ne cherchera pas à faire le calcul analytique !)"
   ]
  },
  {
   "cell_type": "code",
   "execution_count": 4,
   "metadata": {},
   "outputs": [
    {
     "name": "stdout",
     "output_type": "stream",
     "text": [
      "Fpeau_y: -245495.49549549547 Fpeau_x: -490990.99099099095\n"
     ]
    }
   ],
   "source": [
    "xa = -5\n",
    "xe = 5\n",
    "H = 10\n",
    "rho_digue = 3000\n",
    "rho_eau = 1000\n",
    "g = 9.81\n",
    "\n",
    "def Peau(H, y): \n",
    "    return rho_eau* g* (H - y)\n",
    "def deriv_Peau(H, xe): \n",
    "    return -xe/H \n",
    "\n",
    "def Int_milieu(x, y):                      #Calcul intégral méthode point milieu\n",
    "    N = len(x)\n",
    "    somme = 0\n",
    "    for i in range(0, N - 1):\n",
    "        dx = x[i + 1] - x[i]\n",
    "        somme = somme + y[i] * dx\n",
    "    return somme\n",
    "\n",
    "Fpeau_y = Int_milieu(y, Peau(H, y) * deriv_Peau(H, xe)) \n",
    "Fpeau_x = Int_milieu(y, -Peau(H, y)) \n",
    "\n",
    "print('Fpeau_y:', Fpeau_y,'Fpeau_x:', Fpeau_x)"
   ]
  },
  {
   "cell_type": "markdown",
   "metadata": {},
   "source": [
    "c. En supposant que la digue est en équilibre statique translationnel, calculez avec le principe fondamental de la dynamique les deux composantes (normale et tangentielle) de la force de réaction du sol, puis le rapport de ces composantes $T/N$. En considérant le coefficient de frottement roche/béton de 0.5, la digue est-elle en équilibre translationnel ?"
   ]
  },
  {
   "cell_type": "code",
   "execution_count": 5,
   "metadata": {
    "tags": []
   },
   "outputs": [
    {
     "name": "stdout",
     "output_type": "stream",
     "text": [
      "N: -1716995.4954954954 T: -490990.99099099095\n",
      "T/N: 0.2859593937660852\n"
     ]
    }
   ],
   "source": [
    "Fg = -1471500\n",
    "N = Fpeau_y + Fg\n",
    "T = Fpeau_x\n",
    "\n",
    "print('N:', N, 'T:', T)\n",
    "print('T/N:', T/N)"
   ]
  },
  {
   "cell_type": "markdown",
   "metadata": {},
   "source": [
    "La roche est en équilibre car T/N est inférieur à O,5."
   ]
  },
  {
   "cell_type": "markdown",
   "metadata": {},
   "source": [
    "d. Reprenez le calcul du rapport $T/N$ et du volume de béton en imposant $x_a=-5$ et $x_e=0$. La digue est-elle stable ? (Il sera utile d'écrire une fonction résumant les calculs des questions a. b. c.)"
   ]
  },
  {
   "cell_type": "code",
   "execution_count": 6,
   "metadata": {
    "tags": []
   },
   "outputs": [
    {
     "name": "stdout",
     "output_type": "stream",
     "text": [
      "Fpeau_y: -245495.49549549547 Fpeau_x: -490990.99099099095\n",
      "[-0. -0.]\n",
      "N: [-245495.4954955 -245495.4954955] T: -490990.99099099095\n",
      "T/N: [2. 2.]\n"
     ]
    }
   ],
   "source": [
    "xai = 0\n",
    "xei = 5\n",
    "H = 10\n",
    "rho_digue = 3000\n",
    "rho_eau = 1000\n",
    "g = 9.81\n",
    "\n",
    "def fairi(y):\n",
    "    return -(y - H) * xai / H\n",
    "\n",
    "def feaui(y):\n",
    "    return  -(y - H) * xei / H\n",
    "\n",
    "def V_diguei(xai, xei) : \n",
    "    aire_feaui = np.array(sp.quad(feaui, xai, 0))\n",
    "    aire_fairi = np.array(sp.quad(fairi, 0, xei))\n",
    "    aire_diguei = np.add(aire_feaui, -aire_fairi)\n",
    "    return aire_diguei\n",
    "#print(V_diguei(-5, 5))\n",
    "m_diguei = rho_digue*V_diguei(0, 5)\n",
    "#print(m_diguei)\n",
    "\n",
    "def Peaui(H, y): \n",
    "    return rho_eau* g* (H - y)\n",
    "def deriv_Peaui(H, xei): \n",
    "    return -xei/H \n",
    "\n",
    "def Int_milieu(x, y):                      #Calcul intégral méthode point milieu\n",
    "    N = len(x)\n",
    "    somme = 0\n",
    "    for i in range(0, N - 1):\n",
    "        dx = x[i + 1] - x[i]\n",
    "        somme = somme + y[i] * dx\n",
    "    return somme\n",
    "\n",
    "Fpeau_yi = Int_milieu(y, Peaui(H, y) * deriv_Peaui(H, xei)) \n",
    "Fpeau_xi = Int_milieu(y, -Peaui(H, y)) \n",
    "\n",
    "print('Fpeau_y:', Fpeau_yi,'Fpeau_x:', Fpeau_xi)\n",
    "\n",
    "Fgi = -m_diguei*g\n",
    "print(Fgi)\n",
    "    \n",
    "Ni = Fpeau_yi + Fgi\n",
    "Ti = Fpeau_xi\n",
    "\n",
    "print('N:', Ni, 'T:', Ti)\n",
    "print('T/N:', Ti/Ni)"
   ]
  },
  {
   "cell_type": "markdown",
   "metadata": {},
   "source": [
    "La digue n'est pas stable car T/N est supérieur à O,5. On obitient une erreur car on a une division par zero ce qui est normal."
   ]
  },
  {
   "cell_type": "markdown",
   "metadata": {},
   "source": [
    "e. Reprenez le calcul avec $x_a=0$ et $x_e=+5$. Que constatez-vous ? Expliquez pourquoi la digue est stable dans un cas mais pas l'autre."
   ]
  },
  {
   "cell_type": "code",
   "execution_count": null,
   "metadata": {},
   "outputs": [],
   "source": []
  },
  {
   "cell_type": "markdown",
   "metadata": {},
   "source": [
    "### Cas des digues convexes\n",
    "\n",
    "On considère maintenant que l'interface entre l'eau et le béton n'est plus une fonction affine mais une fonction de la forme :\n",
    "\n",
    "$$\n",
    "f_{eau} (y)=a \\left(\\frac{y}{H}\\right)^2-(a+x_e)\\left(\\frac{y}{H}\\right) +x_e\n",
    "$$\n",
    "\n",
    "\n",
    "on donne également la dérivée :\n",
    "\n",
    "$$\n",
    "f'_{eau} (y)=\\frac{2ay}{H^2}-\\frac{a+x_e}{H}\n",
    "$$\n",
    "\n",
    "(on peut vérifier aisément que cette fonction relie bien les points de coordonées $[x_e,0]$ et $[0,H]$). Dans la suite nous prendrons $a=3$."
   ]
  },
  {
   "cell_type": "code",
   "execution_count": 7,
   "metadata": {},
   "outputs": [],
   "source": [
    "import numpy as np\n",
    "import matplotlib.pyplot as plt"
   ]
  },
  {
   "cell_type": "code",
   "execution_count": 8,
   "metadata": {},
   "outputs": [
    {
     "data": {
      "image/png": "[encoded data removed]",
      "text/plain": [
       "<Figure size 432x288 with 1 Axes>"
      ]
     },
     "metadata": {
      "needs_background": "light"
     },
     "output_type": "display_data"
    }
   ],
   "source": [
    "# Ce code permet d'afficher les courbes représentant la digue\n",
    "\n",
    "H = 10\n",
    "xe = 6\n",
    "xa = 0\n",
    "\n",
    "# On définit les fonctions côté eau et côté air, ici les courbes concaves\n",
    "a = 3\n",
    "def feau(y):\n",
    "    return a * (y / H) ** 2 - (a + xe) * (y / H) + xe\n",
    "def fair(y):\n",
    "    return (H - y) * xa / H\n",
    "\n",
    "# On crée un tableau de y\n",
    "y = np.linspace(0, H, 1000)\n",
    "\n",
    "# On trace\n",
    "plt.plot(feau(y), y, '-b')\n",
    "plt.plot(fair(y), y, '-b')\n",
    "plt.plot([xe, xa], [0, 0], '-b')\n",
    "plt.xlabel('x (m)')\n",
    "plt.ylabel('y (m)')\n",
    "plt.text(3, 8, 'eau')\n",
    "plt.text(-3, 8, 'air')\n",
    "plt.axis('equal') # Permet d'avoir un plot isométrique\n",
    "plt.axhline(0, color = \"black\")\n",
    "#plt.axvline(0, color = \"black\")\n",
    "plt.xlim(-8, 8)\n",
    "plt.show()"
   ]
  },
  {
   "cell_type": "markdown",
   "metadata": {
    "tags": []
   },
   "source": [
    "e. Calculez, pour $a=3$, $x_a=0$ et $x_e=5$, la résultante des forces de pression, le volume de béton, et le rapport $T/N$ dans l'hypothèse de l'équilibre statique. La digue est-elle en équilibre translationnel ?"
   ]
  },
  {
   "cell_type": "code",
   "execution_count": 9,
   "metadata": {
    "tags": []
   },
   "outputs": [
    {
     "name": "stdout",
     "output_type": "stream",
     "text": [
      "Fpeau_y: -294594.5945945946 Fpeau_x: -490990.99099099095\n",
      "N: [-294594.59459459 -294594.59459459] T: -490990.99099099095\n",
      "T/N: [1.66666667 1.66666667]\n"
     ]
    }
   ],
   "source": [
    "def V_digue(xa, xe) : \n",
    "    aire_feau = np.array(sp.quad(feau, xa, 0))\n",
    "    aire_fair = np.array(sp.quad(fair, 0, xe))\n",
    "    aire_digue = np.add(aire_feau, -aire_fair)\n",
    "    return aire_digue\n",
    "\n",
    "m_digue = rho_digue*V_digue(0, 6)\n",
    "\n",
    "def Peau(H, y): \n",
    "    return rho_eau* g* (H - y)\n",
    "\n",
    "def deriv_Peau(H, xe): \n",
    "    return -xe/H \n",
    "\n",
    "def Int_milieu(x, y):                      #Calcul intégral méthode point milieu\n",
    "    N = len(x)\n",
    "    somme = 0\n",
    "    for i in range(0, N - 1):\n",
    "        dx = x[i + 1] - x[i]\n",
    "        somme = somme + y[i] * dx\n",
    "    return somme\n",
    "\n",
    "Fpeau_y = Int_milieu(y, Peau(H, y) * deriv_Peau(H, xe)) \n",
    "Fpeau_x = Int_milieu(y, -Peau(H, y)) \n",
    "\n",
    "print('Fpeau_y:', Fpeau_y,'Fpeau_x:', Fpeau_x)\n",
    "\n",
    "Fg = -m_digue*g\n",
    "#print(Fg)\n",
    "    \n",
    "N = Fpeau_y + Fg\n",
    "T = Fpeau_x\n",
    "\n",
    "print('N:', N, 'T:', T)\n",
    "print('T/N:', T/N)"
   ]
  },
  {
   "cell_type": "markdown",
   "metadata": {},
   "source": [
    "f. Reprenons le calcul avec $x_e=6$. La digue est-elle en équilibre ? Comparez avec le cas de la pente affine avec $x_a=0$ et $x_e=5$. Laquelle est la plus favorable ?"
   ]
  },
  {
   "cell_type": "markdown",
   "metadata": {},
   "source": [
    "g. Utilisez une boucle pour calculer le volume et le rapport $T/N$ en faisant varier $x_e$ dans l'intervalle $[5,6]$. On pourra ainsi tracer le rapport $T/N$ en fonction du volume. Déterminez graphiquement le volume minimal pour garder le rapport $T/N$ inférieur à 0.5 dans le cas courbe."
   ]
  },
  {
   "cell_type": "markdown",
   "metadata": {},
   "source": [
    "h. Expliquez pourquoi la forme courbe de l'interface aide à réduire le volume de béton nécessaire à garder la digue en équilibre."
   ]
  },
  {
   "cell_type": "markdown",
   "metadata": {},
   "source": [
    "## Parenthèse\n",
    "\n",
    "Nous avons ici omis la deuxième équation d'équilibre statique : le théorème du moment cinétique (ou équilibre du moment des forces dans le cas statique).\n",
    "\n",
    "Pour vérifier que la digue ne bascule pas sous la pression de l'eau, il faudrait en effet vérifier que le moment des forces qui s'applique à la digue soit nul.\n",
    "\n",
    "Pour cela, il faudrait :\n",
    "\n",
    "- trouver le point d'application du poids (le centre de gravité de la digue),\n",
    "- calculer le moment du poids par rapport à un point,\n",
    "- calculer la résultante du moment des forces de pression par rapport au même point,\n",
    "- trouver le point d'application de la réaction du sol qui annule la somme des moments des forces (par rapport à un point quelconque) \n",
    "- vérifier que ce point d'application est bien situé quelque part entre la digue et le sol (sinon la digue bascule...)\n",
    "\n",
    "\n"
   ]
  },
  {
   "cell_type": "code",
   "execution_count": null,
   "metadata": {},
   "outputs": [],
   "source": []
  }
 ],
 "metadata": {
  "kernelspec": {
   "display_name": "Python 3 (ipykernel)",
   "language": "python",
   "name": "python3"
  },
  "language_info": {
   "codemirror_mode": {
    "name": "ipython",
    "version": 3
   },
   "file_extension": ".py",
   "mimetype": "text/x-python",
   "name": "python",
   "nbconvert_exporter": "python",
   "pygments_lexer": "ipython3",
   "version": "3.11.6"
  }
 },
 "nbformat": 4,
 "nbformat_minor": 4
}
