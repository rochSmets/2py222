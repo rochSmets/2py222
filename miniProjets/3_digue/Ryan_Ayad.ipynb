{
 "cells": [
  {
   "cell_type": "markdown",
   "id": "11d36390-20b0-4371-b7ef-71f192b02e84",
   "metadata": {},
   "source": [
    "# <u>Calcul des forces de pression sur une digue<u>"
   ]
  },
  {
   "cell_type": "markdown",
   "id": "eb83babd-a459-458a-8bf6-6ccdb7c7cf8d",
   "metadata": {},
   "source": [
    "## <u>Introduction<u>"
   ]
  },
  {
   "cell_type": "markdown",
   "id": "3791ddcf-71d6-4793-b7a8-a6a0d311d5d0",
   "metadata": {},
   "source": [
    "$p_{eau}(x) = \\rho g ( H + x)$"
   ]
  },
  {
   "cell_type": "markdown",
   "id": "584acda9-0c27-463f-9be4-adf251c68db7",
   "metadata": {},
   "source": [
    "Bilan des forces sur la digue : Poids, reaction du sol rocheux, forces de pression de l'eau et la friction statique béton - roche. La force qui permet à la digue de ne pas glisser est la friction béton - roche."
   ]
  },
  {
   "cell_type": "markdown",
   "id": "a15cd61a-897e-457a-9743-74608429c2cf",
   "metadata": {},
   "source": [
    "$\\sum \\vec{F} = \\vec{0}$ \n",
    "\n",
    "donc selon ey => $\\sum \\vec{F_y} = \\vec{0}$ \n",
    "\n",
    "selon ex => $\\sum \\vec{F_x} = \\vec{0}$"
   ]
  },
  {
   "cell_type": "markdown",
   "id": "e4d4e40c-fe99-404d-8623-53dda031c7e8",
   "metadata": {},
   "source": [
    "$f_{eau} = -\\frac{x_e}{H}.(y-H)$"
   ]
  },
  {
   "cell_type": "code",
   "execution_count": 1,
   "id": "8be50e09-cd07-4c9b-a9c1-b576899f5c51",
   "metadata": {
    "tags": []
   },
   "outputs": [
    {
     "data": {
      "image/png": "[encoded data removed]",
      "text/plain": [
       "<Figure size 432x288 with 1 Axes>"
      ]
     },
     "metadata": {
      "needs_background": "light"
     },
     "output_type": "display_data"
    }
   ],
   "source": [
    "# On importe les modules necéssaires\n",
    "import numpy as np\n",
    "import matplotlib.pyplot as plt\n",
    "\n",
    "# Ce code permet d'afficher les courbes représentant la digue\n",
    "\n",
    "H = 10\n",
    "xa = -5\n",
    "xe = +5\n",
    "\n",
    "\n",
    "# On définit les fonctions côté eau et côté air, ici les courbes concaves\n",
    "def fair(y):\n",
    "    return -(y - H) * xa / H\n",
    "\n",
    "def feau(y):\n",
    "    return  -(y - H) * xe / H \n",
    "\n",
    "# On crée un tableau de y\n",
    "y = np.linspace(0, H, 1000)\n",
    "\n",
    "# On trace\n",
    "plt.plot(fair(y), y, '-b')  \n",
    "plt.plot(feau(y), y, '-b')\n",
    "\n",
    "plt.plot([xe, xa], [0, 0], '-b')    # Bas de la digue\n",
    "plt.xlabel('x (m)') \n",
    "plt.ylabel('y (m)')\n",
    "plt.text(xe, 8, 'eau')\n",
    "plt.text(xa, 8, 'air')\n",
    "plt.axis('equal')                   # Permet d'avoir un plot isométrique\n",
    "plt.axhline(0, color = \"black\")\n",
    "plt.axvline(0, color = \"black\")\n",
    "plt.xlim(-8, 8)\n",
    "plt.show()"
   ]
  },
  {
   "cell_type": "markdown",
   "id": "13c2ec9f-7364-40db-b5e6-6da1b55c608d",
   "metadata": {},
   "source": [
    "La forme de la digue est une pyramide à base rectangulaire"
   ]
  },
  {
   "cell_type": "markdown",
   "id": "934d8f19-2453-45d2-9961-5c07f2335b78",
   "metadata": {},
   "source": [
    "## <u>Cas des digues en pentes droites<u>"
   ]
  },
  {
   "cell_type": "markdown",
   "id": "5c1496a3-3c35-43b3-b655-d239145eec64",
   "metadata": {},
   "source": [
    "##### a. Calculez le volume de la digue par intégration de la largeur de la digue en fonction de $y$. Comparez avec le calcul analytique (ici, l'aire du triangle multipliée par la longueur $L=1$). En déduire la force de gravité exercée sur la digue."
   ]
  },
  {
   "cell_type": "code",
   "execution_count": 2,
   "id": "d5e0fe30-a0ad-496a-9c06-a488b744c13c",
   "metadata": {
    "tags": []
   },
   "outputs": [
    {
     "name": "stdout",
     "output_type": "stream",
     "text": [
      "[ 5.00000000e+01 -1.38777878e-13]\n"
     ]
    }
   ],
   "source": [
    "import scipy.integrate as si\n",
    "I = np.array(si.quad(fair, -5, 0))\n",
    "I1 = np.array(si.quad(feau, 0, 5))\n",
    "A = np.add(I1, -I)\n",
    "print(A)"
   ]
  },
  {
   "cell_type": "markdown",
   "id": "add229bd-fc6c-49b4-b9c6-38fd44041a0e",
   "metadata": {},
   "source": [
    "Le calcul analytique nous donne le même résultat.\n",
    "\n",
    "Calcul analytique : aire du triangle = $\\frac{base * hauteur}{2}$ \n",
    "\n",
    "Dans notre cas : aire du triangle = 50 m$^2$"
   ]
  },
  {
   "cell_type": "markdown",
   "id": "aa1cb5b5-5082-4a60-ab94-31c5614026e0",
   "metadata": {},
   "source": [
    "Poids : $\\vec{P} = m\\vec{g}$ dans notre cas g pointe vers le sol donc le poids est : -mg avec $m = \\rho  V$ et $ g = 9.81$ m/s$^2$  $\\rho = 3000 $ kg/m$^3$\n",
    "\n",
    "Donc $P = - 1.5 * 10^6$ N "
   ]
  },
  {
   "cell_type": "markdown",
   "id": "72d84a90-6c6f-4d6f-9e9d-35857ece7fea",
   "metadata": {},
   "source": [
    "##### b. Pour le cas des fonctions affines, calculez la résultante (vectorielle ; il y a une composante suivant $x$ et une composante suivant $y$) des forces de pression côté eau. On prendra $x_a = -5$, $x_e = +5$, $H=10$. (On ne cherchera pas à faire le calcul analytique !)"
   ]
  },
  {
   "cell_type": "markdown",
   "id": "88080a97-9c5a-4e35-9380-339df2cf8060",
   "metadata": {},
   "source": [
    "Résultante des forces de pression : $ \\vec{F} = \\vec{p} . \\vec{dS}$"
   ]
  },
  {
   "cell_type": "markdown",
   "id": "fb72103b-9632-4d9e-a459-ef1cb83e0b85",
   "metadata": {},
   "source": [
    "selon $\\vec{y}$ : $\\vec{p} = \\rho \\vec{g} (H -y) $ \n",
    "\n",
    "$dS = Ldl$\n",
    "\n",
    "or $L = 1$m donc $dS = dl$\n",
    "\n",
    "avec $dl = \\frac{dy}{\\cos (\\theta)}$"
   ]
  },
  {
   "cell_type": "markdown",
   "id": "1e3b190d-07fb-4538-83ec-f859dbb307b2",
   "metadata": {},
   "source": [
    "$\\rho_{eau} = 1000$ kg/m$^3$ ; \n",
    "$\\rho_{digue} = 3000$ kg/m$^3$"
   ]
  },
  {
   "cell_type": "code",
   "execution_count": 3,
   "id": "78884916-8229-45c7-bd6c-cb8de4d7ee5e",
   "metadata": {
    "tags": []
   },
   "outputs": [],
   "source": [
    "g = 9.81\n",
    "rho_eau = 1000\n",
    "rho_digue = 3000\n",
    "\n",
    "# Définition de la pression de l'eau\n",
    "def p_eau(x, y):\n",
    "    return rho_eau * g * (H-y)\n",
    " "
   ]
  },
  {
   "cell_type": "code",
   "execution_count": null,
   "id": "f7b8b931-8de5-4171-bf28-e80756b9663b",
   "metadata": {},
   "outputs": [],
   "source": []
  },
  {
   "cell_type": "code",
   "execution_count": null,
   "id": "f6e7965f-a04f-4060-9628-c7d3412384d0",
   "metadata": {},
   "outputs": [],
   "source": []
  },
  {
   "cell_type": "code",
   "execution_count": null,
   "id": "adbf4e95-c3f9-40fa-911a-7ae1dbeb697c",
   "metadata": {},
   "outputs": [],
   "source": []
  }
 ],
 "metadata": {
  "kernelspec": {
   "display_name": "Python 3 (ipykernel)",
   "language": "python",
   "name": "python3"
  },
  "language_info": {
   "codemirror_mode": {
    "name": "ipython",
    "version": 3
   },
   "file_extension": ".py",
   "mimetype": "text/x-python",
   "name": "python",
   "nbconvert_exporter": "python",
   "pygments_lexer": "ipython3",
   "version": "3.11.6"
  }
 },
 "nbformat": 4,
 "nbformat_minor": 5
}
