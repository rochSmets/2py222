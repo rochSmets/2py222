{
 "cells": [
  {
   "cell_type": "markdown",
   "id": "5af4f14b-6e59-4932-a56d-a534c0c9db8c",
   "metadata": {},
   "source": [
    "# **Mini-projet n°3 : Calcul des forces de pression sur une digue (Combes Robin)**"
   ]
  },
  {
   "cell_type": "markdown",
   "id": "e3fa03d4-cf5a-431f-8208-5e7271a4b0a5",
   "metadata": {
    "tags": []
   },
   "source": [
    "___"
   ]
  },
  {
   "cell_type": "markdown",
   "id": "98f0a564-697b-4da4-92d8-b54aa4a876d7",
   "metadata": {},
   "source": [
    "## <ins>Objectif :</ins>\n",
    "On souhaite modéliser puis calculer numériquement la résultante des forces s'exerçant sur une digue de géométrie arbitraire destinée à retenir une étendue d'eau, de façon à pouvoir caractériser sa stabilité."
   ]
  },
  {
   "cell_type": "markdown",
   "id": "bb95bf59-3998-46f5-b799-d8ea2781d686",
   "metadata": {},
   "source": [
    "## <ins>Cadre de la modélisation :</ins>"
   ]
  },
  {
   "cell_type": "markdown",
   "id": "4fd93067-b149-4f79-b816-6aeb2ca2fbd8",
   "metadata": {},
   "source": [
    "* On considère une digue en béton de masse volumique : $µ_{\\mathrm{b}}=3000\\,\\,\\mathrm{kg}\\,/\\,\\mathrm{m}^{3}$, posée sur un sol rocheux avec un coefficient de friction statique béton-roche : $f_{\\mathrm{b,r}}=0.5$.\n",
    "* On suppose que la digue retient d'un côté une masse d'eau de hauteur $\\mathrm{H}=10\\,\\mathrm{m}\\,$, l'autre côté étant exposé à l'air.\n",
    "* Pour simplifier, on se placera pour l'étude statique suivante dans le plan ($\\mathrm{xOy}$) comme représenté sur le schéma çi-dessous.\n",
    "* Finalement, on négligera lors de l'étude les forces de pression atmosphériques dues à l'air ambiant."
   ]
  },
  {
   "cell_type": "markdown",
   "id": "a9b07157-284e-4287-9503-c5995b5b3af2",
   "metadata": {},
   "source": [
    "![Digue.png](./Digue.png)"
   ]
  },
  {
   "cell_type": "markdown",
   "id": "403110b8-50a4-4034-8b82-ede7ef78921a",
   "metadata": {},
   "source": [
    "## <ins>Bilan des forces :</ins>"
   ]
  },
  {
   "cell_type": "markdown",
   "id": "f53b70ce-2941-4c3b-b4cd-097de59226fd",
   "metadata": {},
   "source": [
    "Parmi les forces extérieures s'exerçant sur la digue nous comptons donc :\n",
    "* Les forces de pression hydrostatiques, avec l'expression de la norme de la pression hydrostatique en fonction de la hauteur $y$ suivante : $\\mathrm{P}_{\\mathrm{eau}}(\\mathrm{y})=ρ_{\\mathrm{eau}}\\,\\mathrm{g}\\,(\\mathrm{H}-\\mathrm{y})$\n",
    "* Le poids résultant de la force d'attraction gravitationnelle exercée par la Terre sur la digue\n",
    "* Les forces de frottement statique entre la surface rocheuse sur laquelle est posée la digue et la digue elle même, et qui permettent à cette dernière de ne pas glisser sur la roche"
   ]
  },
  {
   "cell_type": "markdown",
   "id": "d2d42c65-24ee-40cc-b4f8-01f30369e3b9",
   "metadata": {},
   "source": [
    "L'équilibre statique de la digue $(\\mathcal{D})$ est alors donné par les deux équations suivantes :\n",
    "* **Théorème de la résultante statique** : $\\,\\,\\vec{\\mathrm{R}_{\\mathrm{F}_{\\mathrm{ext}}}}=0\\,\\,$, la résultante des forces extérieures s'exerçant sur la digue doit être nulle ;\n",
    "* **Théorème du moment statique** : $\\,\\,\\vec{\\mathrm{m}_{\\mathrm{F}_{\\mathrm{ext}}}}(\\mathrm{A})=0\\,\\,$, la résultante des moments des forces extérieures s'exerçant sur la digue et évalués en un point $\\mathrm{A}\\in (\\mathcal{D})$ quelconque doit être nulle."
   ]
  },
  {
   "cell_type": "markdown",
   "id": "52ad5c06-a7bc-457f-be3b-78ed26fc1e4a",
   "metadata": {},
   "source": [
    "## <ins>Modélisation des pentes de la digue :</ins>"
   ]
  },
  {
   "cell_type": "markdown",
   "id": "4c8efe02-41ce-4303-99f6-b59cb3ef6d06",
   "metadata": {},
   "source": [
    "###### [ Texte issu du document explicatif du mini-projet et légèrement modifié ]"
   ]
  },
  {
   "cell_type": "markdown",
   "id": "4e0f8fb0-02b1-4a81-8164-7edb433e7f2c",
   "metadata": {},
   "source": [
    "<div style='text-align:justify;'>Pour considérer une digue de géométrie arbitraire, on modélisera les pentes côté air et côté eau par des fonctions mathématiques déterminées.<br>Par ailleurs, puisque nous serons amenés à intégrer des fonctions suivant la direction donnée par l'axe vertical $\\mathrm{(Oy)}$, on fait le choix dès à présent de définir les pentes de la digue à partir de fonctions mathématiques décrivant l'évolution de la variable $\\mathrm{x}$ en fonction de la variable $\\mathrm{y}$ (voir schéma ci-dessous).</div>"
   ]
  },
  {
   "cell_type": "markdown",
   "id": "02c7d6aa-86a4-4137-8b84-94d337ba7741",
   "metadata": {},
   "source": [
    "![DigueSchema.png](./DigueSchema.png)"
   ]
  },
  {
   "cell_type": "markdown",
   "id": "663338df-348e-46eb-8064-8a82f10c956d",
   "metadata": {},
   "source": [
    "On définit ainsi :\n",
    "* une fonction croissante $f_{\\mathrm{air}}$ représentant l'interface air-béton, définie pour $\\mathrm{y}\\in [0,\\mathrm{H}]$ et à valeurs dans $[\\mathrm{x_a},0]$,\n",
    "* une autre fonction décroissante notée $f_{\\mathrm{eau}}$ représentant l'interface eau-béton, définie sur le même intervalle et à valeurs dans $[0,\\mathrm{x_e}]$. \n",
    "\n",
    "On ne considérera ici que des fonctions monotones."
   ]
  },
  {
   "cell_type": "markdown",
   "id": "3f7ce191-9c69-440d-acb9-0de57127bd15",
   "metadata": {},
   "source": [
    "## <ins>Cas des pentes droites :</ins>"
   ]
  },
  {
   "cell_type": "markdown",
   "id": "4a64de19-12e7-4ba9-8dc3-805a73020ed7",
   "metadata": {},
   "source": [
    "On décide alors dans un premier temps de modéliser les pentes de la digue par des fonctions affines de la façon suivante :<br><br>$$\\begin{equation}\\left\\{\\begin{aligned}f_{\\mathrm{air}} : \\mathrm{y}\\longmapsto -\\frac{\\mathrm{x_a}}{\\mathrm{H}}(\\mathrm{H}-\\mathrm{y})\\\\f_{\\mathrm{eau}} : \\mathrm{y}\\longmapsto -\\frac{\\mathrm{x_e}}{\\mathrm{H}}(\\mathrm{H}-\\mathrm{y})\\\\\\end{aligned}\\right.\\end{equation}$$"
   ]
  },
  {
   "cell_type": "code",
   "execution_count": 1,
   "id": "31db9a90-6d16-47b8-9eab-ad76a8931049",
   "metadata": {
    "tags": []
   },
   "outputs": [
    {
     "data": {
      "image/png": "[encoded data removed]",
      "text/plain": [
       "<Figure size 432x288 with 1 Axes>"
      ]
     },
     "metadata": {
      "needs_background": "light"
     },
     "output_type": "display_data"
    }
   ],
   "source": [
    "# Ce code permet d'afficher les courbes représentant la digue\n",
    "import numpy as np\n",
    "import matplotlib.pyplot as plt\n",
    "H = 10\n",
    "xa = -5\n",
    "xe = +5\n",
    "\n",
    "\n",
    "# On définit les fonctions côté eau et côté air, ici affines\n",
    "def fair(y):\n",
    "    return -(y - H) * xa / H\n",
    "\n",
    "def feau(y):\n",
    "    return  -(y - H) * xe / H\n",
    "\n",
    "# On crée un tableau de y\n",
    "y = np.linspace(0, H, 1000)\n",
    "\n",
    "# On trace\n",
    "plt.plot(fair(y), y, '-b') \n",
    "plt.plot(feau(y), y, '-b')\n",
    " \n",
    "plt.plot([xe, xa], [0, 0], '-b') # Bas de la digue\n",
    "plt.suptitle(\"Représentation de la digue dans le cas de pentes affines\", fontsize=14,fontweight='light', y=0.96)\n",
    "plt.xlabel('x (m)', fontsize=12) \n",
    "plt.ylabel('y (m)', fontsize=12)\n",
    "plt.text(xe, 8, 'eau')\n",
    "plt.text(xa, 8, 'air')\n",
    "plt.axis('equal') # Permet d'avoir un plot isométrique\n",
    "plt.axhline(0, color = \"black\")\n",
    "plt.axvline(0, color = \"black\")\n",
    "plt.xlim(-8, 8)\n",
    "plt.show()"
   ]
  },
  {
   "cell_type": "markdown",
   "id": "b12c876c-1d8f-48a9-a9b8-bbf9ba13b3ed",
   "metadata": {},
   "source": [
    "#### I) Calcul du volume de la digue"
   ]
  },
  {
   "cell_type": "code",
   "execution_count": 2,
   "id": "0503a3e7-e2b8-4f07-8323-40cd3a856153",
   "metadata": {
    "tags": []
   },
   "outputs": [
    {
     "name": "stdout",
     "output_type": "stream",
     "text": [
      "Le volume de la digue est de : 50.0 m^3\n"
     ]
    }
   ],
   "source": [
    "# Ce code permet de calculer le volume de la digue par intégration de la largeur de la digue en fonction de y\n",
    "import numpy as np\n",
    "import matplotlib.pyplot as plt\n",
    "from scipy.integrate import *\n",
    "H = 10\n",
    "xa = -5\n",
    "xe = +5\n",
    "# On définit les fonctions côté eau et côté air\n",
    "def fair(y):\n",
    "    return -(y - H) * xa / H\n",
    "\n",
    "def feau(y):\n",
    "    return  -(y - H) * xe / H\n",
    "\n",
    "# On récupère l'opposé de l'aire de la surface délimitée par fair et l'axe des abscisses\n",
    "res1,err1=quad(fair,0,H)\n",
    "# On récupère l'aire de la surface délimitée par feau et l'axe des abscisses\n",
    "res2,err2=quad(feau,0,H) \n",
    "print(\"Le volume de la digue est de :\",res2-res1,\"m^3\") #On affiche le volume"
   ]
  },
  {
   "cell_type": "markdown",
   "id": "979f7ade-651d-402a-bd8f-7139dc320829",
   "metadata": {},
   "source": [
    "Comme attendu on obtient par l'exécution du programme çi-dessus que la digue occupe un volume de $50\\,\\mathrm{m}^{3}$.<br>On a en effet : $\\mathrm{V}_{\\mathrm{digue}}=\\mathrm{A}_{\\mathrm{triangle}}\\times \\mathrm{L}=\\frac{10\\,\\times \\,10}{2}\\times 1 = 50\\,\\mathrm{m}^{3}$.\n",
    "On peut ainsi déterminer la force de pesanteur exercée sur la digue de la façon suivante :\n",
    "$$\\begin{align*} \n",
    "\\vec{\\mathrm{P}_{\\mathrm{digue}}}&= -\\,µ_{\\mathrm{b}}\\times \\mathrm{V}\\times \\mathrm{g}\\,\\,\\vec{\\mathrm{u_{y}}}\n",
    "\\\\\\Longrightarrow \\frac{\\lVert\\vec{\\mathrm{P}_{\\mathrm{digue}}}\\rVert}{\\mathrm{N}}& = µ_{\\mathrm{b}}\\times \\mathrm{V}\\times \\mathrm{g} \\simeq 3000\\times 50\\times 9.81 = 1\\,471\\,500\n",
    "\\end{align*}$$"
   ]
  },
  {
   "cell_type": "markdown",
   "id": "47078903-51f8-4e4c-bf93-fa1f7e7536a4",
   "metadata": {
    "tags": []
   },
   "source": [
    "#### II) Calcul de la résultante des forces de pression côté eau"
   ]
  },
  {
   "cell_type": "markdown",
   "id": "cf81f83c-cf6f-42f9-9f6b-c7ccaee477e9",
   "metadata": {},
   "source": [
    "![DigueAngles.png](./DigueAngles.png)"
   ]
  },
  {
   "cell_type": "markdown",
   "id": "cf7eadb6-2a77-4dc3-bd52-13c0a8f2145a",
   "metadata": {},
   "source": [
    "Soit $\\vec{\\mathrm{F_{p}}}$ la résultante vectorielle des forces de pression s'exerçant à l'interface eau-béton, on a :\n",
    "$$\\begin{align*} \n",
    "&\\vec{\\mathrm{F_{p}}} = \\iint_\\mathrm{S} \\vec{\\mathrm{dF_{p}}} =\\int_0^\\mathrm{H} \\mathrm{P(y)} \\mathrm{dl} .\\vec{\\mathrm{n}}\\,\\,\\,,\\,\\,\\,\\,\\mathrm{avec}\\,\\,\\,\\vec{\\mathrm{n}}=\\sin(\\theta).\\vec{\\mathrm{u_y}}-\\cos(\\theta).\\vec{\\mathrm{u_x}}\n",
    "\\\\\\\\&\\Longrightarrow \\,\\,\\vec{\\mathrm{F_{p}}} = \\left(\\int_0^\\mathrm{H} \\mathrm{P(y)dl}.\\sin(\\theta)\\right).\\vec{\\mathrm{u_y}}\\,-\\left(\\int_0^\\mathrm{H} \\mathrm{P(y)dl}.\\cos(\\theta)\\right).\\vec{\\mathrm{u_x}}\\,\\,\\,,\\,\\,\\,\\,\\mathrm{avec}\\,\\,\\,\\mathrm{dl}=\\frac {\\mathrm{dy}}{\\cos(\\theta)}\n",
    "\\\\\\\\ &\\Longrightarrow \\, \\,\\vec{\\mathrm{F_{p}}} = \\left(\\int_0^\\mathrm{H} \\mathrm{P(y)}.\\frac {\\sin(\\theta)}{\\cos(\\theta)}\\, \\mathrm{dy}\\right).\\vec{\\mathrm{u_y}}\\,-\\left(\\int_0^\\mathrm{H} \\mathrm{P(y)}\\,\\mathrm{dy}\\right).\\vec{\\mathrm{u_x}}\n",
    "\\\\\\\\& \\Longrightarrow \\,\\,\\vec{\\mathrm{F_{p}}} = \\left(\\int_0^\\mathrm{H} \\mathrm{P(y)}.f'\\mathrm{(y)}\\,\\mathrm{dy}\\right).\\vec{\\mathrm{u_y}}\\,-\\left(\\int_0^\\mathrm{H} \\mathrm{P(y)}\\,\\mathrm{dy}\\right).\\vec{\\mathrm{u_x}}\\,\\,\\,,\\,\\,\\,\\,\\mathrm{car}\\,\\,\\,\\tan(\\theta) = f'\\mathrm{(y)}\n",
    "\\end{align*}$$"
   ]
  },
  {
   "cell_type": "markdown",
   "id": "70c2a4b3-fc29-4730-97bf-3d7929763cf8",
   "metadata": {},
   "source": [
    "On peut ainsi calculer numériquement l'expression déterminée çi-dessus avec le programme suivant :"
   ]
  },
  {
   "cell_type": "code",
   "execution_count": 3,
   "id": "1921f4a9-5a7e-4875-8c04-d15cf726d781",
   "metadata": {
    "tags": []
   },
   "outputs": [
    {
     "name": "stdout",
     "output_type": "stream",
     "text": [
      "La résutante vectorielle des forces de pression vaut : R_p = -490500.0  u_x +  -245250.0  u_y (N)\n"
     ]
    }
   ],
   "source": [
    "# Ce code permet de déterminer la résultante vectorielle des forces de pression hydrostatiques\n",
    "import numpy as np\n",
    "import matplotlib.pyplot as plt\n",
    "from scipy.integrate import *\n",
    "from scipy.misc import *\n",
    "H = 10\n",
    "xa = -5\n",
    "xe = +5\n",
    "# On définit la fonction côté eau ainsi que la fonction donnant la pression en fonction de y\n",
    "def feau(y):\n",
    "    return  -(y - H) * xe / H\n",
    "    \n",
    "def Peau(y):\n",
    "    return  1000*9.81*(H-y)\n",
    "\n",
    "def Produit(y):            #On définit la fonction produit de la pression avec la dérivée de feau \n",
    "    return Peau(y)*(-xe)/H\n",
    "\n",
    "resx,errx=quad(Peau,0,H)\n",
    "resy,erry=quad(Produit,0,H)\n",
    "print(\"La résutante vectorielle des forces de pression vaut : R_p =\",(-1)*round(resx,2),\" u_x + \",round(resy,2),\" u_y (N)\") #On affiche le résultat"
   ]
  },
  {
   "cell_type": "markdown",
   "id": "c8c2b151-eae3-4b68-b6ba-fc2f148f3c19",
   "metadata": {},
   "source": [
    "Si l'on suppose que la digue est en équilibre statique translationnel, le théorème de la résultante statique énoncé plus haut nous donne l'équation suivante :\n",
    "$$\\vec{\\mathrm{F_{p}}} + \\vec{\\mathrm{P_{digue}}} + \\vec{\\mathrm{R}} = \\vec{0}\\,\\,\\,,\\,\\,\\,\\,\\mathrm{avec}\\,\\,\\,\\begin{equation}\\left\\{\\begin{aligned}\\vec{\\mathrm{R}}=\\mathrm{T}.\\vec{\\mathrm{u_{x}}}+\\mathrm{N}.\\vec{\\mathrm{u_{y}}}\\\\ \\mathrm{T<f_{b,r}}.\\mathrm{N}\\end{aligned}\\right.\\end{equation}\\,\\,\\,\\,\\mathrm{la\\,\\,réaction\\,\\,du\\,\\,support\\,\\,rocheux\\,\\,sur\\,\\,lequel\\,\\,repose\\,\\,la\\,\\,digue}$$\n",
    "On peut alors projeter cette équation selon les deux diretions $\\mathrm{(Ox)}$ et $\\mathrm{(Oy)}$ afin d'isoler respectivement la composante tangentielle $\\mathrm{T}$ et la composante normale $\\mathrm{N}$ de la réaction du support $\\vec{\\mathrm{R}}$, de façon à avoir :\n",
    "$$\\begin{equation}\\left\\{\\begin{aligned}\\mathrm{T}=-\\,\\vec{\\mathrm{F_{p}}}\\,.\\,\\vec{\\mathrm{u_{x}}}\\\\ \\mathrm{N}=-\\,\\vec{\\mathrm{F_{p}}}\\,.\\,\\vec{\\mathrm{u_{y}}}+\\lVert\\vec{\\mathrm{P_{digue}}}\\rVert\\\\ \\mathrm{T<f_{b,r}.N}\\end{aligned}\\right.\\end{equation}\\,\\,\\,\\,\\,\\Longrightarrow \\,\\,\\,\\,\\,\\frac{\\mathrm{T}}{\\mathrm{N}}\\,=\\,\\frac{-\\,\\vec{\\mathrm{F_{p}}}\\,.\\,\\vec{\\mathrm{u_{x}}}}{\\lVert\\vec{\\mathrm{P_{digue}}}\\rVert\\,-\\,\\vec{\\mathrm{F_{p}}}\\,.\\,\\vec{\\mathrm{u_{y}}}}\\,<\\,\\,\\mathrm{f_{b,r}}$$\n",
    "L'enjeu va alors être de constater si cette dernière condition est vérifiée dans différents contextes de manière à pouvoir statuer sur la stabilité ou la non-stabilité de la digue."
   ]
  },
  {
   "cell_type": "markdown",
   "id": "83451726-eedc-4cd7-a3e0-b1ec2e54fc52",
   "metadata": {},
   "source": [
    "#### $\\underline{1^{er}\\mathrm{cas :}}\\,\\,\\,\\,\\,\\,\\mathrm{x_{a}=-5\\,\\,et\\,\\,x_{e}=+5}$ "
   ]
  },
  {
   "cell_type": "code",
   "execution_count": 4,
   "id": "57e5aa34-3257-4828-b89f-2c432f4e4aae",
   "metadata": {
    "tags": []
   },
   "outputs": [
    {
     "name": "stdout",
     "output_type": "stream",
     "text": [
      "On obtient : T/N = 0.2857142857142857\n"
     ]
    }
   ],
   "source": [
    "# Ce code permet de définir la fonction retournant le rapport T/N en fonction du contexte considéré (i.e. en fonction des valeurs de xe et xa)\n",
    "import numpy as np\n",
    "import matplotlib.pyplot as plt\n",
    "from scipy.integrate import *\n",
    "from scipy.misc import *\n",
    "H = 10\n",
    "def res1(xa,xe):\n",
    "    xa=xa\n",
    "    xe=xe\n",
    "    def feau(y):\n",
    "        return  -(y - H) * xe / H\n",
    "    def fair(y):\n",
    "        return -(y - H) * xa / H\n",
    "    def Peau(y):\n",
    "        return  1000*9.8*(H-y)\n",
    "    def Produit(y):\n",
    "        return Peau(y)*(-xe)/H\n",
    "    v1,err=quad(feau,0,H)\n",
    "    v2,err=quad(fair,0,H)\n",
    "    resx,errx=quad(Peau,0,H)\n",
    "    resy,erry=quad(Produit,0,H)\n",
    "    T=round(resx,2)\n",
    "    N=(-1)*round(resy)+3000*(v1-v2)*9.8\n",
    "    return T/N\n",
    "\n",
    "print(\"On obtient : T/N = {}\".format(res1(-5,5)))"
   ]
  },
  {
   "cell_type": "markdown",
   "id": "4a56734d-9845-4bdf-9ae9-28073f1877f1",
   "metadata": {},
   "source": [
    "On constate alors que la digue est bien en équilibre translationnel dans ce cas."
   ]
  },
  {
   "cell_type": "markdown",
   "id": "e96ea92c-5aa2-40e1-b906-19377b5e041a",
   "metadata": {},
   "source": [
    "#### $\\underline{2^{e}\\mathrm{cas :}}\\,\\,\\,\\,\\,\\,\\mathrm{x_{a}=-5\\,\\,et\\,\\,x_{e}=0}$ "
   ]
  },
  {
   "cell_type": "code",
   "execution_count": 5,
   "id": "2fce7825-a190-426d-899f-ff4d54d21dcd",
   "metadata": {
    "tags": []
   },
   "outputs": [
    {
     "name": "stdout",
     "output_type": "stream",
     "text": [
      "On obtient : T/N = 0.6666666666666666\n"
     ]
    }
   ],
   "source": [
    "print(\"On obtient : T/N = {}\".format(res1(-5,0)))"
   ]
  },
  {
   "cell_type": "markdown",
   "id": "640951f5-7259-4b6a-9cf3-0014b67dc4da",
   "metadata": {},
   "source": [
    "#### $\\underline{3^{e}\\mathrm{cas :}}\\,\\,\\,\\,\\,\\,\\mathrm{x_{a}=0\\,\\,et\\,\\,x_{e}=5}$ "
   ]
  },
  {
   "cell_type": "code",
   "execution_count": 6,
   "id": "5469a48f-4e17-4ff0-8ff9-9f89882c3c35",
   "metadata": {
    "tags": []
   },
   "outputs": [
    {
     "name": "stdout",
     "output_type": "stream",
     "text": [
      "On obtient : T/N = 0.5\n"
     ]
    }
   ],
   "source": [
    "print(\"On obtient : T/N = {}\".format(res1(0,5)))"
   ]
  },
  {
   "cell_type": "markdown",
   "id": "ae5811d9-f982-4912-9703-7a1481ef2cee",
   "metadata": {},
   "source": [
    "<div style='text-align:justify;'> On remarque alors que dans le 2$^e$ cas la digue n'est manifestement pas en équilibre translationnel là où dans le 3$^e$ cas elle est à la limite de l'équilibre translationnel (cela dépend des valeurs considérées pour la constante gravitationnelle, la masse volumique du béton etc...).<br><br>Ceci s'explique par le fait que dans le 2$^e$ cas les forces de pression hydrostatique se répartissent sur une surface contenue dans le plan $\\mathrm{(yOz)}$ de sorte que leur résultante ne comporte plus de composante selon la direction $\\mathrm{(Oy)}$. Dès lors, la composante normale de la réaction du sol rocheux doit uniquement contrebalancer le poids de la digue qui a par ailleurs diminué de moitié (puisqu'on a \"coupé\" la digue en deux). Tout ceci résulte ainsi en un rapport $\\,\\,\\mathrm{\\frac{T}{N}}\\,\\,$trop grand pour pouvoir asssurer la stabilité de la digue.</div>"
   ]
  },
  {
   "cell_type": "markdown",
   "id": "35ca2689-9132-4c50-9a12-066508702e4f",
   "metadata": {},
   "source": [
    "## <ins>Cas de la pente convexe :</ins>"
   ]
  },
  {
   "cell_type": "markdown",
   "id": "1bac3aff-2c0f-4c82-8de5-3b51b6806231",
   "metadata": {},
   "source": [
    "On décide désormais de modéliser la pente de la digue à l'interface eau-béton par un une fonction polynomiale du second degré comme suit :\n",
    "$$f_{\\mathrm{eau}} : \\mathrm{y}\\longmapsto \\mathrm{a\\left(\\frac{y}{H}\\right)^2-(a+x_e)\\left(\\frac{y}{H}\\right)+x_e\\,\\,\\,\\,\\,\\,\\,\\,avec\\,\\,a\\,\\,un\\,\\,paramètre\\,\\,réel}$$\n",
    "On prendra pour la suite $\\mathrm{a=3}$."
   ]
  },
  {
   "cell_type": "code",
   "execution_count": 7,
   "id": "f465548d-6074-4b7c-a335-2ae7a7bac975",
   "metadata": {
    "tags": []
   },
   "outputs": [
    {
     "data": {
      "image/png": "[encoded data removed]",
      "text/plain": [
       "<Figure size 432x288 with 1 Axes>"
      ]
     },
     "metadata": {
      "needs_background": "light"
     },
     "output_type": "display_data"
    }
   ],
   "source": [
    "# Ce code permet d'afficher les courbes représentant la digue\n",
    "import numpy as np\n",
    "import matplotlib.pyplot as plt\n",
    "H = 10\n",
    "xa = 0\n",
    "xe = 5\n",
    "\n",
    "# On définit les fonctions côté eau et côté air\n",
    "a = 3\n",
    "def feau(y):\n",
    "    return a * (y / H) ** 2 - (a + xe) * (y / H) + xe\n",
    "def fair(y):\n",
    "    return (H - y) * xa / H\n",
    "\n",
    "# On crée un tableau de y\n",
    "y = np.linspace(0, H, 1000)\n",
    "\n",
    "# On trace\n",
    "plt.plot(feau(y), y, '-b')\n",
    "plt.plot(fair(y), y, '-b')\n",
    "plt.plot([xe, xa], [0, 0], '-b')\n",
    "plt.xlabel('x (m)')\n",
    "plt.ylabel('y (m)')\n",
    "plt.text(3, 8, 'eau')\n",
    "plt.text(-3, 8, 'air')\n",
    "plt.suptitle(\"Représentation de la digue dans le cas de la pente convexe\", fontsize=14,fontweight='light', y=0.96)\n",
    "plt.axis('equal') # Permet d'avoir un plot isométrique\n",
    "plt.axhline(0, color = \"black\")\n",
    "#plt.axvline(0, color = \"black\")\n",
    "plt.xlim(-8, 8)\n",
    "plt.show()"
   ]
  },
  {
   "cell_type": "markdown",
   "id": "47a1ee70-842f-424d-8535-7e3d049427cd",
   "metadata": {},
   "source": [
    "#### $\\underline{1^{er}\\mathrm{cas :}}\\,\\,\\,\\,\\,\\,\\mathrm{x_{a}=0\\,\\,et\\,\\,x_{e}=5}$ "
   ]
  },
  {
   "cell_type": "code",
   "execution_count": 8,
   "id": "7f0dacf1-0b94-4af4-9e82-2e1cddaddb4e",
   "metadata": {
    "tags": []
   },
   "outputs": [
    {
     "name": "stdout",
     "output_type": "stream",
     "text": [
      "On obtient : T/N = 0.5555555555555556\n"
     ]
    }
   ],
   "source": [
    "import numpy as np\n",
    "import matplotlib.pyplot as plt\n",
    "from scipy.integrate import *\n",
    "from scipy.misc import *\n",
    "H = 10\n",
    "xa = 0\n",
    "\n",
    "# On définit les fonctions côté eau et côté air, ici les courbes concaves\n",
    "a = 3\n",
    "def res2(xe):\n",
    "    xe=xe\n",
    "    def feau(y):\n",
    "        return a * (y / H) ** 2 - (a + xe) * (y / H) + xe\n",
    "    def dfeau(y):\n",
    "        return ((2*a*y)/(H**2))-((a+xe)/H)\n",
    "    def Peau(y):\n",
    "        return  1000*9.81*(H-y)\n",
    "    def Produit(y):\n",
    "        return Peau(y)*dfeau(y)\n",
    "    V,err=quad(feau,0,H)\n",
    "    resx,errx=quad(Peau,0,H)\n",
    "    resy,erry=quad(Produit,0,H)\n",
    "    T=round(resx,2)\n",
    "    N=(-1)*round(resy)+3000*V*9.81\n",
    "    return (T/N,V)\n",
    "\n",
    "print(\"On obtient : T/N = {}\".format(res2(5)[0]))"
   ]
  },
  {
   "cell_type": "markdown",
   "id": "4e00ae85-ce0b-48b7-92fb-19664e6e8941",
   "metadata": {},
   "source": [
    "On constate alors que dans ce cas la digue n'est manifestement pas en équilibre translationnel."
   ]
  },
  {
   "cell_type": "markdown",
   "id": "b6db4234-805f-4d2b-8b9b-9133e2712d9c",
   "metadata": {},
   "source": [
    "#### $\\underline{2^{e}\\mathrm{cas :}}\\,\\,\\,\\,\\,\\,\\mathrm{x_{a}=0\\,\\,et\\,\\,x_{e}=6}$ "
   ]
  },
  {
   "cell_type": "code",
   "execution_count": 9,
   "id": "9f84aee4-8ec5-4397-bf63-38618e18a4a5",
   "metadata": {
    "tags": []
   },
   "outputs": [
    {
     "name": "stdout",
     "output_type": "stream",
     "text": [
      "On obtient : T/N = 0.45454545454545453\n"
     ]
    }
   ],
   "source": [
    "print(\"On obtient : T/N = {}\".format(res2(6)[0]))"
   ]
  },
  {
   "cell_type": "markdown",
   "id": "29e4e051-12f3-42d7-8e06-a9b43158a11e",
   "metadata": {},
   "source": [
    "Cette fois çi la digue apparaît bien comme étant en équilibre translationnel avec une situation plus stable que dans le cas de pentes affines où $\\,\\mathrm{x_{a}=0\\,\\,et\\,\\,x_{e}=5}$."
   ]
  },
  {
   "cell_type": "markdown",
   "id": "5a47571f-824e-4684-9a7c-3c27c7a60a40",
   "metadata": {},
   "source": [
    "Sur la base de ce constat, nous allons ainsi représenter graphiquement l'évolution de la valeur du rapport $\\mathrm{\\frac{T}{N}}$ en fonction de la valeur du volume de la digue pour des valeurs du paramètre $\\mathrm{x_{e}}$ parcourant l'intervalle $[5,6]$, via le programme çi-dessous."
   ]
  },
  {
   "cell_type": "code",
   "execution_count": 10,
   "id": "c4424db5-ab90-4bfe-93d0-2c621ee2a71b",
   "metadata": {
    "tags": []
   },
   "outputs": [
    {
     "data": {
      "image/png": "[encoded data removed]",
      "text/plain": [
       "<Figure size 432x288 with 1 Axes>"
      ]
     },
     "metadata": {
      "needs_background": "light"
     },
     "output_type": "display_data"
    }
   ],
   "source": [
    "import numpy as np\n",
    "import matplotlib.pyplot as plt\n",
    "X=[]\n",
    "Y=[]\n",
    "for i in np.linspace(5,6,1000):\n",
    "    X.append(res2(i)[1])\n",
    "    Y.append(res2(i)[0])\n",
    "\n",
    "plt.plot(X,Y,color='royalblue')\n",
    "plt.axhline(y=0.5, color='red', linestyle='dotted')\n",
    "plt.axvline(x=X[np.argmax(np.array(Y)<=0.5)],ymax=0.46, color='red',linestyle='dotted')\n",
    "plt.barh(0.53,5.5, height=0.06, left=19.725, color='none', edgecolor='lightcoral', linestyle='none', hatch='/')\n",
    "plt.xlim(19.725,25.225)\n",
    "plt.ylim(0.45,0.56)\n",
    "plt.yticks([0.46,0.48,0.52,0.54,0.56],[\"0.46\",\"0.48\",\"0.52\",\"0.54\",\"0.56\"])\n",
    "plt.figtext(0.062,0.4529,\"0.50 -\",color='red')\n",
    "plt.figtext(0.49,0.066,str(round(X[np.argmax(np.array(Y)<=0.5)],2)),color='red')\n",
    "plt.xlabel(\"Volume en m$^{3}$\", labelpad=9)\n",
    "plt.ylabel(r\"Valeur du rapport $\\,\\mathrm{\\frac{T}{N}}$\", labelpad=9)\n",
    "plt.show()"
   ]
  },
  {
   "cell_type": "markdown",
   "id": "d7a48d44-f55e-4718-a8f0-fb191194ceed",
   "metadata": {},
   "source": [
    "On constate alors que le volume minimal de la digue tel que l'on puisse conserver un rapport $\\mathrm{\\frac{T}{N}}$ inférieur à la valeur du coefficient de frottement statique $f_{\\mathrm{b,r}}=0.5$, tourne aux alentours de $\\mathrm{22.5\\,m^{3}}$.<br>Ainsi la forme courbe de l'interface eau-béton permet de conserver l'équilibre translationnel de la digue tout en diminuant la quantité de béton nécessaire à la constitution de celle-çi puisque dans le cas de pentes affines le volume de la digue avec $\\mathrm{x_{a}}=0$ était de $\\mathrm{25\\,m^{3}}$."
   ]
  },
  {
   "cell_type": "markdown",
   "id": "37f40475-ba2e-4a69-8280-2cb1f0773eec",
   "metadata": {},
   "source": [
    "## <ins>Parenthèse</ins>"
   ]
  },
  {
   "cell_type": "markdown",
   "id": "24f78e8d-c152-494b-87fd-ead581a52941",
   "metadata": {},
   "source": [
    "###### [ Texte issu du document explicatif du mini-projet ]"
   ]
  },
  {
   "cell_type": "markdown",
   "id": "d9263ebf-9bea-4dde-a0f0-1d77f4dfd0ad",
   "metadata": {},
   "source": [
    "Nous avons ici omis la deuxième équation d'équilibre statique : le théorème du moment cinétique (ou équilibre du moment des forces dans le cas statique).\n",
    "\n",
    "Pour vérifier que la digue ne bascule pas sous la pression de l'eau, il faudrait en effet vérifier que le moment des forces qui s'applique à la digue soit nul.\n",
    "\n",
    "Pour cela, il faudrait :\n",
    "\n",
    "- trouver le point d'application du poids (le centre de gravité de la digue),\n",
    "- calculer le moment du poids par rapport à un point,\n",
    "- calculer la résultante du moment des forces de pression par rapport au même point,\n",
    "- trouver le point d'application de la réaction du sol qui annule la somme des moments des forces (par rapport à un point quelconque) \n",
    "- vérifier que ce point d'application est bien situé quelque part entre la digue et le sol (sinon la digue bascule...)"
   ]
  },
  {
   "cell_type": "code",
   "execution_count": null,
   "id": "443eb94a",
   "metadata": {},
   "outputs": [],
   "source": []
  },
  {
   "cell_type": "code",
   "execution_count": null,
   "id": "c0f25c4e",
   "metadata": {},
   "outputs": [],
   "source": []
  }
 ],
 "metadata": {
  "kernelspec": {
   "display_name": "Python 3 (ipykernel)",
   "language": "python",
   "name": "python3"
  },
  "language_info": {
   "codemirror_mode": {
    "name": "ipython",
    "version": 3
   },
   "file_extension": ".py",
   "mimetype": "text/x-python",
   "name": "python",
   "nbconvert_exporter": "python",
   "pygments_lexer": "ipython3",
   "version": "3.11.6"
  }
 },
 "nbformat": 4,
 "nbformat_minor": 5
}
