{
 "cells": [
  {
   "cell_type": "markdown",
   "metadata": {},
   "source": [
    "# Mini-projet"
   ]
  },
  {
   "cell_type": "markdown",
   "metadata": {},
   "source": [
    "# Calcul des forces de pression sur une digue"
   ]
  },
  {
   "cell_type": "markdown",
   "metadata": {},
   "source": [
    "![Digue.png](./Digue.png)"
   ]
  },
  {
   "cell_type": "markdown",
   "metadata": {},
   "source": [
    "## Constantes des calculs"
   ]
  },
  {
   "cell_type": "markdown",
   "metadata": {},
   "source": [
    "Hauteur de la masse d'eau : $H = 10 m$"
   ]
  },
  {
   "cell_type": "markdown",
   "metadata": {},
   "source": [
    "Masse volumique du béton : $\\rho_{beton} = 3000  kg.m^{-3}$"
   ]
  },
  {
   "cell_type": "markdown",
   "metadata": {},
   "source": [
    "Masse volumique de l'eau : $\\rho_{eau} = 1000  kg.m^{-3}$"
   ]
  },
  {
   "cell_type": "markdown",
   "metadata": {},
   "source": [
    "coefficient de friction statique béton - roche : $\\mu = 0.5$"
   ]
  },
  {
   "cell_type": "markdown",
   "metadata": {},
   "source": [
    "constante de gravitation terrestre : $g = 9.8 N.kg^{-1}$"
   ]
  },
  {
   "cell_type": "markdown",
   "metadata": {},
   "source": [
    "a. Faites un bilan des forces appliquées à la digue en 2D. Quelle force permet à la digue de ne pas glisser sur le sol rocheux ?"
   ]
  },
  {
   "cell_type": "markdown",
   "metadata": {},
   "source": [
    "### Bilan des forcces appliquées à la digue en 2D"
   ]
  },
  {
   "cell_type": "markdown",
   "metadata": {},
   "source": [
    "Le Poid : $F{p} = \\rho_{beton}*V*g$  avec m qui est la masse du barrage"
   ]
  },
  {
   "cell_type": "markdown",
   "metadata": {},
   "source": [
    "La pression de l'eau : $P{eau} = \\rho*g *(H-y)$  avec H la hauteur du barage et $\\rho$ la masse volumique de l'eau"
   ]
  },
  {
   "cell_type": "markdown",
   "metadata": {},
   "source": [
    "Frottement de Coulomb : $F{frottement} = \\mu * \\displaystyle \\int_{0}^{H} \\rho*g *(H-x)\\, \\mathrm{d}x$"
   ]
  },
  {
   "cell_type": "markdown",
   "metadata": {},
   "source": [
    "Réaction du support : $F{support} = -F{p}$"
   ]
  },
  {
   "cell_type": "markdown",
   "metadata": {
    "tags": []
   },
   "source": [
    "### Equation d'équilibre statique de la digue"
   ]
  },
  {
   "cell_type": "markdown",
   "metadata": {},
   "source": [
    "$\\sum F u_{n} = 0$"
   ]
  },
  {
   "cell_type": "markdown",
   "metadata": {},
   "source": [
    "On a donc : $F{p} + P{eau} + F{frottement} + F{support} = 0$"
   ]
  },
  {
   "cell_type": "markdown",
   "metadata": {},
   "source": [
    "$\\Longrightarrow$   $F{p} + P{eau} + F{frottement} - F{p} = 0$"
   ]
  },
  {
   "cell_type": "markdown",
   "metadata": {},
   "source": [
    "$\\Longrightarrow$  $P{eau} = -F{frottement}$"
   ]
  },
  {
   "cell_type": "markdown",
   "metadata": {},
   "source": [
    "## Démarche Modélisation"
   ]
  },
  {
   "cell_type": "markdown",
   "metadata": {},
   "source": [
    "Pour modéliser la digue on crée une fonction qui représente les pentes du coté air et du coté eau. Pour faciliter l'intégration des fonction il est plus pratique de définir les pentes de la digue comme étant $x$ en fonction de $y$ "
   ]
  },
  {
   "cell_type": "markdown",
   "metadata": {},
   "source": [
    "![DigueSchema.png](./DigueSchema.png)"
   ]
  },
  {
   "cell_type": "markdown",
   "metadata": {},
   "source": [
    "On a donc deux fonction. La fonction croissante $F_{air}(y)$ représente la pente air-béton. Elle a pour minimum $x_{a}$ et comme maximum $0$."
   ]
  },
  {
   "cell_type": "markdown",
   "metadata": {},
   "source": [
    "La fonction décroissante $F_{eau}(y)$ représentant la pente eau-béton. Elle a pour minimum $0$ et comme maximum $x_{e}$."
   ]
  },
  {
   "cell_type": "markdown",
   "metadata": {},
   "source": [
    "L'expression de la courbe air-béton est donné ppar la fonction : \n",
    "\n",
    "$$\n",
    "f_{air}(y) = -\\frac{x_a}{H}.(y-H)\n",
    "$$"
   ]
  },
  {
   "cell_type": "markdown",
   "metadata": {},
   "source": [
    "### Reprsésentation de la courbe côté eau"
   ]
  },
  {
   "cell_type": "markdown",
   "metadata": {},
   "source": [
    "On importe les librairies nécessaires au code"
   ]
  },
  {
   "cell_type": "code",
   "execution_count": 38,
   "metadata": {},
   "outputs": [],
   "source": [
    "import numpy as np\n",
    "import matplotlib.pyplot as plt\n",
    "import scipy.integrate as si"
   ]
  },
  {
   "cell_type": "markdown",
   "metadata": {},
   "source": [
    "on fait un code pour afficher les courbes représentant la digue renversé, où y est la variable "
   ]
  },
  {
   "cell_type": "code",
   "execution_count": 39,
   "metadata": {},
   "outputs": [],
   "source": [
    "#définition des constantes\n",
    "H = 10\n",
    "xa = -5\n",
    "xe = +5\n",
    "g = 9.8\n",
    "rho_b = 3000\n",
    "rho_eau = 1000\n",
    "mu = 0.5\n",
    "L=1"
   ]
  },
  {
   "cell_type": "code",
   "execution_count": 40,
   "metadata": {
    "tags": []
   },
   "outputs": [],
   "source": [
    "# On définit les fonctions côté eau et côté air, ici les courbes concaves\n",
    "def fair(y,xa):\n",
    "    return -(y - H) * xa / H\n",
    "\n",
    "def feau(y,xe):\n",
    "    return -(y - H) * xe / H"
   ]
  },
  {
   "cell_type": "code",
   "execution_count": 41,
   "metadata": {
    "tags": []
   },
   "outputs": [
    {
     "data": {
      "image/png": "[encoded data removed]",
      "text/plain": [
       "<Figure size 640x480 with 1 Axes>"
      ]
     },
     "metadata": {},
     "output_type": "display_data"
    }
   ],
   "source": [
    "# On crée un tableau de y\n",
    "y = np.linspace(0, H, 1000)\n",
    "\n",
    "# On trace\n",
    "plt.plot(fair(y,xe), y, '-b') \n",
    "plt.plot(feau(y,xa), y, '-b')\n",
    " \n",
    "plt.plot([xe, xa], [0, 0], '-b') # Bas de la digue\n",
    "plt.xlabel('x (m)') \n",
    "plt.ylabel('y (m)')\n",
    "plt.text(xe, 8, 'eau')\n",
    "plt.text(xa, 8, 'air')\n",
    "plt.axis('equal') # Permet d'avoir un plot isométrique\n",
    "plt.axhline(0, color = \"black\")\n",
    "plt.axvline(0, color = \"black\")\n",
    "plt.xlim(-8, 8)\n",
    "plt.show()"
   ]
  },
  {
   "cell_type": "markdown",
   "metadata": {},
   "source": [
    "## Expression de la force de pression"
   ]
  },
  {
   "cell_type": "markdown",
   "metadata": {},
   "source": [
    "La Force de pression de l'eau est l'intégrale de la pression de $0$ à $H$ : \n",
    "$$\n",
    "\\vec{F} = \\iint_S \\vec{\\mathrm{d}F} \n",
    "$$"
   ]
  },
  {
   "cell_type": "markdown",
   "metadata": {},
   "source": [
    "Notre problème est simplifier à deux dimension on a donc $dS = L dl$. Or L est la longueur unitairede la digue suivant z. Dobnc cela ce simplifie à une intégrale a 1D on a donc :\n",
    "\n",
    "$$\n",
    "\\vec{F} = \\iint_S \\vec{\\mathrm{d}F} =\\int_0^H P_{eau}(y) \\mathrm{d}l . \\vec{n}\n",
    "$$"
   ]
  },
  {
   "cell_type": "markdown",
   "metadata": {},
   "source": [
    "On cherche maintenant l'expression de $\\vec{n}$"
   ]
  },
  {
   "cell_type": "markdown",
   "metadata": {},
   "source": [
    "L'angle $\\theta$ est l'angle entre la tagente et un point de l'axe des abscisses. Il est relié par la dérivée de la courbe par : $tan(\\theta) = f'(y)$"
   ]
  },
  {
   "cell_type": "markdown",
   "metadata": {
    "tags": []
   },
   "source": [
    "on a donc : \n",
    "$$\n",
    "\\vec t = \\cos(\\theta).\\vec{u_y} + \\sin(\\theta).\\vec{u_x}\n",
    "$$\n",
    "\n",
    "$$\n",
    "\\vec n = \\sin(\\theta).\\vec{u_y} - \\cos(\\theta).\\vec{u_x} \n",
    "$$\n"
   ]
  },
  {
   "cell_type": "markdown",
   "metadata": {},
   "source": [
    "avec $\\vec{n}$ le vecteur normal rentrant au point de coordonnées $(f(y),y)$, et $\\mathrm{d}l$ la longueur infinitésimale de la courbe pour une variation $\\mathrm{d}x$. On montre facilement la relation avec l'angle $\\theta$ défini avant :\n",
    "\n",
    "$$\n",
    "\\mathrm{d}l = \\frac{\\mathrm{d}y}{\\cos(\\theta)}\n",
    "$$"
   ]
  },
  {
   "cell_type": "markdown",
   "metadata": {},
   "source": [
    "On a : \n",
    "\n",
    "$$\n",
    "\\vec{F} =\\int_0^H (\\rho*g *(H-y)) (\\frac{\\mathrm{d}y}{\\cos(\\theta)}) . (\\sin(\\theta).\\vec{u_y} - \\cos(\\theta).\\vec{u_x})\n",
    "$$"
   ]
  },
  {
   "cell_type": "markdown",
   "metadata": {},
   "source": [
    "![DigueAngles.png](./DigueAngles.png)"
   ]
  },
  {
   "cell_type": "markdown",
   "metadata": {},
   "source": [
    "#### Calcul du volume de la digue"
   ]
  },
  {
   "cell_type": "markdown",
   "metadata": {},
   "source": [
    "On calcul l'intégrale de la fonction de la pente que l'on multiple par 2 pour obtenir le volume de la digue"
   ]
  },
  {
   "cell_type": "code",
   "execution_count": 42,
   "metadata": {
    "tags": []
   },
   "outputs": [],
   "source": [
    "# Bornes d'intégration\n",
    "y_0 = 0\n",
    "y_max = H"
   ]
  },
  {
   "cell_type": "code",
   "execution_count": 43,
   "metadata": {
    "tags": []
   },
   "outputs": [],
   "source": [
    "def largeur_tri(y):\n",
    "    return (feau(y,xe)-fair(y,xa))*L\n",
    "\n",
    "Volume=si.quad(largeur_tri,y_0,y_max)"
   ]
  },
  {
   "cell_type": "code",
   "execution_count": 44,
   "metadata": {
    "tags": []
   },
   "outputs": [],
   "source": [
    "# Calcul du résultat analytique du triangle\n",
    "V_ana = (xe-xa)/2*L*H"
   ]
  },
  {
   "cell_type": "code",
   "execution_count": 45,
   "metadata": {
    "tags": []
   },
   "outputs": [
    {
     "name": "stdout",
     "output_type": "stream",
     "text": [
      "Volume approximation \t (50.0, 5.551115123125783e-13)\n",
      "Volume analytique \t 50.0\n"
     ]
    }
   ],
   "source": [
    "print('Volume approximation \\t', Volume)\n",
    "print('Volume analytique \\t', V_ana)"
   ]
  },
  {
   "cell_type": "markdown",
   "metadata": {},
   "source": [
    "Entre le volume analytique et le volume approximatique il y a une erreur d'environ $5.55*10^{-13} m^{3}$"
   ]
  },
  {
   "cell_type": "markdown",
   "metadata": {},
   "source": [
    "#### Calcul de la force de gravité exercé sur la digue "
   ]
  },
  {
   "cell_type": "code",
   "execution_count": 46,
   "metadata": {
    "tags": []
   },
   "outputs": [
    {
     "name": "stdout",
     "output_type": "stream",
     "text": [
      "Force de gravité exercé sur la digue \t 1470000.0\n"
     ]
    }
   ],
   "source": [
    "F_p = rho_b * V_ana * g\n",
    "\n",
    "print('Force de gravité exercé sur la digue \\t', F_p)"
   ]
  },
  {
   "cell_type": "markdown",
   "metadata": {},
   "source": [
    "#### Calcul de la force de pression sur la digue"
   ]
  },
  {
   "cell_type": "markdown",
   "metadata": {},
   "source": [
    "On établie les fonctions que l'on intégre ensuite pour obtenir le composant tangancielle et nomale de la force de pression"
   ]
  },
  {
   "cell_type": "code",
   "execution_count": 47,
   "metadata": {},
   "outputs": [],
   "source": [
    "#dérivé de la pente eau-béton\n",
    "dfeau = -(xe/H)\n",
    "\n",
    "#définition de la fonction de la pression de l'eau\n",
    "def P_eau(y):\n",
    "    return g*rho_eau*(H-y)\n",
    "\n",
    "#on crée uen fonction qui donne la composante y, tan=f'(y)\n",
    "def f(y):\n",
    "    return P_eau(y)*dfeau"
   ]
  },
  {
   "cell_type": "markdown",
   "metadata": {},
   "source": [
    "Lorsque j'intègre j'enlève l'erreur pour ne pas obtenir un tuple car je dois ajouter le poids à la composante normale"
   ]
  },
  {
   "cell_type": "code",
   "execution_count": 48,
   "metadata": {
    "tags": []
   },
   "outputs": [],
   "source": [
    "resultante_x,erreur = si.quad(P_eau,y_0,y_max)\n",
    "resultante_y,erreur = si.quad(f,y_0,y_max)\n",
    "resultante_y += F_p"
   ]
  },
  {
   "cell_type": "code",
   "execution_count": 49,
   "metadata": {
    "tags": []
   },
   "outputs": [
    {
     "name": "stdout",
     "output_type": "stream",
     "text": [
      "Tangentielle de la force de pression coté eau \t 490000.0\n",
      "Normale de la force de pression coté eau \t 1225000.0\n"
     ]
    }
   ],
   "source": [
    "print('Tangentielle de la force de pression coté eau \\t', resultante_x)\n",
    "print('Normale de la force de pression coté eau \\t', resultante_y)"
   ]
  },
  {
   "cell_type": "code",
   "execution_count": 50,
   "metadata": {
    "tags": []
   },
   "outputs": [
    {
     "name": "stdout",
     "output_type": "stream",
     "text": [
      "coefficient de frottement \t 0.4\n"
     ]
    }
   ],
   "source": [
    "print('coefficient de frottement \\t', resultante_x/resultante_y)"
   ]
  },
  {
   "cell_type": "markdown",
   "metadata": {},
   "source": [
    "On trouve que $\\frac{resultante_{x}}{resultante_{y}} < \\mu$   la digue est donc bien à l'équilibre statique"
   ]
  },
  {
   "cell_type": "markdown",
   "metadata": {},
   "source": [
    "On crée une fonction génerale qui réalise toutes les étapes pour calculer le coefficient de frottement."
   ]
  },
  {
   "cell_type": "code",
   "execution_count": 51,
   "metadata": {},
   "outputs": [],
   "source": [
    "def f_generale(y,xe,xa):\n",
    "    \n",
    "    V,erreur = si.quad(largeur_tri,0,H)\n",
    "    \n",
    "    resultante_x,erreur = si.quad(P_eau,0,H)\n",
    "    resultante_y,erreur = si.quad(f,0,H)\n",
    "    resultante_y += rho_b * V * g\n",
    "    \n",
    "    print('Tangentielle de la force de pression coté eau \\t', resultante_x)\n",
    "    print('Normale de la force de pression coté eau \\t', resultante_y)\n",
    "    print('coefficient de frottement \\t', resultante_x/resultante_y)\n",
    "    \n",
    "    \n",
    "    plt.plot(fair(y,xa), y, '-b')\n",
    "    plt.plot(feau(y,xe), y, '-b')\n",
    " \n",
    "    plt.plot([xe, xa], [0, 0], '-b') # Bas de la digue\n",
    "    plt.xlabel('x (m)') \n",
    "    plt.ylabel('y (m)')\n",
    "    plt.text(xe, 8, 'eau')\n",
    "    plt.text(xa, 8, 'air')\n",
    "    plt.axis('equal') # Permet d'avoir un plot isométrique\n",
    "    plt.axhline(0, color = \"black\")\n",
    "    plt.axvline(0, color = \"black\")\n",
    "    plt.xlim(-8, 8)\n",
    "    plt.show()\n",
    "    \n",
    "    "
   ]
  },
  {
   "cell_type": "code",
   "execution_count": 52,
   "metadata": {
    "tags": []
   },
   "outputs": [
    {
     "name": "stdout",
     "output_type": "stream",
     "text": [
      "Tangentielle de la force de pression coté eau \t 490000.0\n",
      "Normale de la force de pression coté eau \t 1225000.0\n",
      "coefficient de frottement \t 0.4\n"
     ]
    },
    {
     "data": {
      "image/png": "[encoded data removed]",
      "text/plain": [
       "<Figure size 640x480 with 1 Axes>"
      ]
     },
     "metadata": {},
     "output_type": "display_data"
    }
   ],
   "source": [
    "f_generale(y,xe,0)"
   ]
  },
  {
   "cell_type": "code",
   "execution_count": 53,
   "metadata": {
    "tags": []
   },
   "outputs": [
    {
     "name": "stdout",
     "output_type": "stream",
     "text": [
      "Tangentielle de la force de pression coté eau \t 490000.0\n",
      "Normale de la force de pression coté eau \t 1225000.0\n",
      "coefficient de frottement \t 0.4\n"
     ]
    },
    {
     "data": {
      "image/png": "[encoded data removed]",
      "text/plain": [
       "<Figure size 640x480 with 1 Axes>"
      ]
     },
     "metadata": {},
     "output_type": "display_data"
    }
   ],
   "source": [
    "f_generale(y,0,xa)"
   ]
  },
  {
   "cell_type": "markdown",
   "metadata": {},
   "source": [
    "### Cas des digues convexes\n",
    "\n",
    "On considère maintenant que l'interface entre l'eau et le béton n'est plus une fonction affine mais une fonction de la forme :\n",
    "\n",
    "$$\n",
    "f_{eau} (y)=a \\left(\\frac{y}{H}\\right)^2-(a+x_e)\\left(\\frac{y}{H}\\right) +x_e\n",
    "$$\n",
    "\n",
    "\n",
    "on donne également la dérivée :\n",
    "\n",
    "$$\n",
    "f'_{eau} (y)=\\frac{2ay}{H^2}-\\frac{a+x_e}{H}\n",
    "$$\n",
    "\n",
    "(on peut vérifier aisément que cette fonction relie bien les points de coordonées $[x_e,0]$ et $[0,H]$). Dans la suite nous prendrons $a=3$."
   ]
  },
  {
   "cell_type": "code",
   "execution_count": 56,
   "metadata": {},
   "outputs": [
    {
     "data": {
      "image/png": "[encoded data removed]",
      "text/plain": [
       "<Figure size 640x480 with 1 Axes>"
      ]
     },
     "metadata": {},
     "output_type": "display_data"
    }
   ],
   "source": [
    "# Ce code permet d'afficher les courbes représentant la digue\n",
    "\n",
    "H = 10\n",
    "xe = 5\n",
    "xa = 0\n",
    "\n",
    "# On définit les fonctions côté eau et côté air, ici les courbes concaves\n",
    "a = 3\n",
    "def feau(y):\n",
    "    return a * (y / H) ** 2 - (a + xe) * (y / H) + xe\n",
    "def fair_2(y):\n",
    "    return (H - y) * xa / H\n",
    "\n",
    "# On crée un tableau de y\n",
    "y = np.linspace(0, H, 1000)\n",
    "\n",
    "# On trace\n",
    "plt.plot(feau(y), y, '-b')\n",
    "plt.plot(fair(y,xa), y, '-b')\n",
    "plt.plot([xe, xa], [0, 0], '-b')\n",
    "plt.xlabel('x (m)')\n",
    "plt.ylabel('y (m)')\n",
    "plt.text(3, 8, 'eau')\n",
    "plt.text(-3, 8, 'air')\n",
    "plt.axis('equal') # Permet d'avoir un plot isométrique\n",
    "plt.axhline(0, color = \"black\")\n",
    "#plt.axvline(0, color = \"black\")\n",
    "plt.xlim(-8, 8)\n",
    "plt.show()"
   ]
  },
  {
   "cell_type": "code",
   "execution_count": 58,
   "metadata": {
    "tags": []
   },
   "outputs": [],
   "source": [
    "a=3"
   ]
  },
  {
   "cell_type": "code",
   "execution_count": 59,
   "metadata": {
    "tags": []
   },
   "outputs": [],
   "source": [
    "def fair_2(y):\n",
    "    return (H - y) * xa / H"
   ]
  },
  {
   "cell_type": "code",
   "execution_count": 60,
   "metadata": {
    "tags": []
   },
   "outputs": [],
   "source": [
    "def feau_2 (y):\n",
    "    return a*(y/H)**2 - (a+xe)*(y/H) + xe"
   ]
  },
  {
   "cell_type": "code",
   "execution_count": 61,
   "metadata": {},
   "outputs": [],
   "source": [
    "dfeau_2 = (2*a*y)/(H**2) - (a+xe)/H"
   ]
  },
  {
   "cell_type": "code",
   "execution_count": 64,
   "metadata": {},
   "outputs": [],
   "source": [
    "def largeur_tri_2(y):\n",
    "    return (feau_2(y)-fair_2(y))*L\n",
    "\n",
    "Volume=si.quad(largeur_tri_2,y_0,y_max)"
   ]
  },
  {
   "cell_type": "code",
   "execution_count": 65,
   "metadata": {
    "tags": []
   },
   "outputs": [],
   "source": [
    "def f2(y):\n",
    "    return P_eau(y)*((2*a*y)/(H**2) - (a+xe)/H)"
   ]
  },
  {
   "cell_type": "code",
   "execution_count": 68,
   "metadata": {
    "tags": []
   },
   "outputs": [],
   "source": [
    "def f_generale2(y,xe,xa):\n",
    "     \n",
    "    V2,erreur=si.quad(largeur_tri_2,0,H)\n",
    "        \n",
    "    resultante_x,erreur = si.quad(P_eau,0,H)\n",
    "    resultante_y,erreur = si.quad(f2,0,H)\n",
    "    resultante_y += rho_b * V2 * g\n",
    "    \n",
    "    print('Tangentielle de la force de pression coté eau \\t', resultante_x)\n",
    "    print('Normale de la force de pression coté eau \\t', resultante_y)\n",
    "    print('coefficient de frottement \\t', resultante_x/resultante_y)\n",
    "     \n",
    "    plt.plot(feau(y), y, '-b')\n",
    "    plt.plot(fair(y,xa), y, '-b')\n",
    "    plt.plot([xe, xa], [0, 0], '-b')\n",
    "    plt.xlabel('x (m)')\n",
    "    plt.ylabel('y (m)')\n",
    "    plt.text(3, 8, 'eau')\n",
    "    plt.text(-3, 8, 'air')\n",
    "    plt.axis('equal') # Permet d'avoir un plot isométrique\n",
    "    plt.axhline(0, color = \"black\")\n",
    "    #plt.axvline(0, color = \"black\")\n",
    "    plt.xlim(-8, 8)\n",
    "    plt.show()"
   ]
  },
  {
   "cell_type": "code",
   "execution_count": 69,
   "metadata": {
    "tags": []
   },
   "outputs": [
    {
     "name": "stdout",
     "output_type": "stream",
     "text": [
      "Tangentielle de la force de pression coté eau \t 490000.0\n",
      "Normale de la force de pression coté eau \t 294000.0\n",
      "coefficient de frottement \t 1.6666666666666667\n"
     ]
    },
    {
     "data": {
      "image/png": "[encoded data removed]",
      "text/plain": [
       "<Figure size 640x480 with 1 Axes>"
      ]
     },
     "metadata": {},
     "output_type": "display_data"
    }
   ],
   "source": [
    "f_generale2(y,xe,0)  #erreur que je n'arrive pas a trouvé"
   ]
  },
  {
   "cell_type": "markdown",
   "metadata": {},
   "source": [
    "On trouve que $\\frac{resultante_{x}}{resultante_{y}} > \\mu$   la digue n'est donc pas à l'équilibre statique"
   ]
  },
  {
   "cell_type": "code",
   "execution_count": 70,
   "metadata": {
    "tags": []
   },
   "outputs": [
    {
     "name": "stdout",
     "output_type": "stream",
     "text": [
      "Tangentielle de la force de pression coté eau \t 490000.0\n",
      "Normale de la force de pression coté eau \t 294000.0\n",
      "coefficient de frottement \t 1.6666666666666667\n"
     ]
    },
    {
     "data": {
      "image/png": "[encoded data removed]",
      "text/plain": [
       "<Figure size 640x480 with 1 Axes>"
      ]
     },
     "metadata": {},
     "output_type": "display_data"
    }
   ],
   "source": [
    "f_generale2(y,6,0)   #erreur que je n'arrive pas a trouvé "
   ]
  },
  {
   "cell_type": "markdown",
   "metadata": {},
   "source": [
    "g. Utilisez une boucle pour calculer le volume et le rapport $T/N$ en faisant varier $x_e$ dans l'intervalle $[5,6]$. On pourra ainsi tracer le rapport $T/N$ en fonction du volume. Déterminez graphiquement le volume minimal pour garder le rapport $T/N$ inférieur à 0.5 dans le cas courbe."
   ]
  },
  {
   "cell_type": "code",
   "execution_count": 71,
   "metadata": {
    "tags": []
   },
   "outputs": [],
   "source": [
    "# Fonction qui calcule le volume et le rapport T/N\n",
    "def f_V_T_N(xe):\n",
    "    \n",
    "    def feau_2 (y):\n",
    "        return a*(y/H)**2 - (a+xe)*(y/H) + xe\n",
    "    \n",
    "    V,erreur=si.quad(feau_2,0,H)\n",
    "    \n",
    "    F_p = rho_b * V * g\n",
    "    \n",
    "    def P_eau(y):\n",
    "        return g*rho_eau*(H-y)\n",
    "    \n",
    "    \n",
    "    def f2(y):\n",
    "        return P_eau(y)*((2*a*y)/(H**2) - (a+xe)/H)\n",
    "\n",
    "    resultante_x,erreur = si.quad(P_eau,0,H)\n",
    "    resultante_y,erreur = si.quad(f2,0,H)\n",
    "    resultante_y += F_p\n",
    "    \n",
    "    print('coefficient de frottement \\t', resultante_x/resultante_y)\n",
    "\n",
    "    # Calcul du rapport entre les résultantes\n",
    "    r =  resultante_x/resultante_y\n",
    "\n",
    "    return V, r"
   ]
  },
  {
   "cell_type": "code",
   "execution_count": 72,
   "metadata": {
    "tags": []
   },
   "outputs": [
    {
     "name": "stdout",
     "output_type": "stream",
     "text": [
      "coefficient de frottement \t 1.6666666666666667\n",
      "coefficient de frottement \t 1.6661107404936626\n",
      "coefficient de frottement \t 1.6655551850616863\n",
      "coefficient de frottement \t 1.6649999999999991\n",
      "coefficient de frottement \t 1.6644451849383541\n",
      "coefficient de frottement \t 1.6638907395069953\n",
      "coefficient de frottement \t 1.6633366633366637\n",
      "coefficient de frottement \t 1.6627829560585892\n",
      "coefficient de frottement \t 1.6622296173044935\n",
      "coefficient de frottement \t 1.6616766467065864\n",
      "coefficient de frottement \t 1.6611240438975725\n",
      "coefficient de frottement \t 1.6605718085106385\n",
      "coefficient de frottement \t 1.6600199401794598\n",
      "coefficient de frottement \t 1.6594684385382046\n",
      "coefficient de frottement \t 1.6589173032215203\n",
      "coefficient de frottement \t 1.6583665338645421\n",
      "coefficient de frottement \t 1.6578161301028875\n",
      "coefficient de frottement \t 1.6572660915726611\n",
      "coefficient de frottement \t 1.6567164179104479\n",
      "coefficient de frottement \t 1.6561671087533156\n",
      "coefficient de frottement \t 1.6556181637388132\n",
      "coefficient de frottement \t 1.6550695825049706\n",
      "coefficient de frottement \t 1.6545213646902943\n",
      "coefficient de frottement \t 1.6539735099337738\n",
      "coefficient de frottement \t 1.653426017874876\n",
      "coefficient de frottement \t 1.6528788881535408\n",
      "coefficient de frottement \t 1.6523321204101884\n",
      "coefficient de frottement \t 1.651785714285715\n",
      "coefficient de frottement \t 1.6512396694214884\n",
      "coefficient de frottement \t 1.650693985459352\n",
      "coefficient de frottement \t 1.6501486620416252\n",
      "coefficient de frottement \t 1.6496036988110965\n",
      "coefficient de frottement \t 1.6490590954110251\n",
      "coefficient de frottement \t 1.648514851485147\n",
      "coefficient de frottement \t 1.6479709666776639\n",
      "coefficient de frottement \t 1.6474274406332445\n",
      "coefficient de frottement \t 1.6468842729970326\n",
      "coefficient de frottement \t 1.6463414634146363\n",
      "coefficient de frottement \t 1.6457990115321255\n",
      "coefficient de frottement \t 1.6452569169960471\n",
      "coefficient de frottement \t 1.644715179453408\n",
      "coefficient de frottement \t 1.6441737985516787\n",
      "coefficient de frottement \t 1.6436327739387944\n",
      "coefficient de frottement \t 1.6430921052631577\n",
      "coefficient de frottement \t 1.6425517921736275\n",
      "coefficient de frottement \t 1.6420118343195265\n",
      "coefficient de frottement \t 1.641472231350641\n",
      "coefficient de frottement \t 1.6409329829172143\n",
      "coefficient de frottement \t 1.6403940886699522\n",
      "coefficient de frottement \t 1.639855548260013\n",
      "coefficient de frottement \t 1.6393173613390224\n",
      "coefficient de frottement \t 1.638779527559055\n",
      "coefficient de frottement \t 1.6382420465726446\n",
      "coefficient de frottement \t 1.6377049180327867\n",
      "coefficient de frottement \t 1.6371681415929198\n",
      "coefficient de frottement \t 1.636631716906946\n",
      "coefficient de frottement \t 1.6360956436292167\n",
      "coefficient de frottement \t 1.6355599214145387\n",
      "coefficient de frottement \t 1.6350245499181677\n",
      "coefficient de frottement \t 1.6344895287958112\n",
      "coefficient de frottement \t 1.633954857703631\n",
      "coefficient de frottement \t 1.6334205362982344\n",
      "coefficient de frottement \t 1.6328865642366779\n",
      "coefficient de frottement \t 1.6323529411764692\n",
      "coefficient de frottement \t 1.6318196667755644\n",
      "coefficient de frottement \t 1.631286740692358\n",
      "coefficient de frottement \t 1.6307541625857007\n",
      "coefficient de frottement \t 1.6302219321148834\n",
      "coefficient de frottement \t 1.6296900489396426\n",
      "coefficient de frottement \t 1.6291585127201562\n",
      "coefficient de frottement \t 1.628627323117052\n",
      "coefficient de frottement \t 1.628096479791395\n",
      "coefficient de frottement \t 1.6275659824046913\n",
      "coefficient de frottement \t 1.6270358306188926\n",
      "coefficient de frottement \t 1.626506024096385\n",
      "coefficient de frottement \t 1.6259765624999998\n",
      "coefficient de frottement \t 1.625447445493003\n",
      "coefficient de frottement \t 1.624918672739103\n",
      "coefficient de frottement \t 1.62439024390244\n",
      "coefficient de frottement \t 1.6238621586475939\n",
      "coefficient de frottement \t 1.6233344166395838\n",
      "coefficient de frottement \t 1.6228070175438598\n",
      "coefficient de frottement \t 1.6222799610263063\n",
      "coefficient de frottement \t 1.6217532467532465\n",
      "coefficient de frottement \t 1.6212268743914322\n",
      "coefficient de frottement \t 1.6207008436080472\n",
      "coefficient de frottement \t 1.620175154070711\n",
      "coefficient de frottement \t 1.6196498054474722\n",
      "coefficient de frottement \t 1.6191247974068088\n",
      "coefficient de frottement \t 1.6186001296176276\n",
      "coefficient de frottement \t 1.6180758017492702\n",
      "coefficient de frottement \t 1.6175518134715037\n",
      "coefficient de frottement \t 1.6170281644545141\n",
      "coefficient de frottement \t 1.6165048543689313\n",
      "coefficient de frottement \t 1.6159818828857972\n",
      "coefficient de frottement \t 1.6154592496765854\n",
      "coefficient de frottement \t 1.6149369544131913\n",
      "coefficient de frottement \t 1.6144149967679382\n",
      "coefficient de frottement \t 1.6138933764135708\n",
      "coefficient de frottement \t 1.6133720930232558\n",
      "coefficient de frottement \t 1.6128511462705843\n",
      "coefficient de frottement \t 1.6123305358295679\n",
      "coefficient de frottement \t 1.6118102613746366\n",
      "coefficient de frottement \t 1.6112903225806448\n",
      "coefficient de frottement \t 1.6107707191228637\n",
      "coefficient de frottement \t 1.610251450676983\n",
      "coefficient de frottement \t 1.609732516919111\n",
      "coefficient de frottement \t 1.6092139175257745\n",
      "coefficient de frottement \t 1.6086956521739142\n",
      "coefficient de frottement \t 1.6081777205408883\n",
      "coefficient de frottement \t 1.6076601223044742\n",
      "coefficient de frottement \t 1.607142857142857\n",
      "coefficient de frottement \t 1.6066259247346397\n",
      "coefficient de frottement \t 1.6061093247588414\n",
      "coefficient de frottement \t 1.6055930568948884\n",
      "coefficient de frottement \t 1.605077120822622\n",
      "coefficient de frottement \t 1.6045615162222933\n",
      "coefficient de frottement \t 1.604046242774567\n",
      "coefficient de frottement \t 1.6035313001605143\n",
      "coefficient de frottement \t 1.6030166880616177\n",
      "coefficient de frottement \t 1.6025024061597686\n",
      "coefficient de frottement \t 1.6019884541372673\n",
      "coefficient de frottement \t 1.6014748316768188\n",
      "coefficient de frottement \t 1.600961538461538\n",
      "coefficient de frottement \t 1.600448574174944\n",
      "coefficient de frottement \t 1.5999359385009615\n",
      "coefficient de frottement \t 1.5994236311239196\n",
      "coefficient de frottement \t 1.5989116517285542\n",
      "coefficient de frottement \t 1.5984000000000012\n",
      "coefficient de frottement \t 1.5978886756237998\n",
      "coefficient de frottement \t 1.5973776782858964\n",
      "coefficient de frottement \t 1.5968670076726346\n",
      "coefficient de frottement \t 1.596356663470756\n",
      "coefficient de frottement \t 1.5958466453674112\n",
      "coefficient de frottement \t 1.5953369530501431\n",
      "coefficient de frottement \t 1.5948275862068961\n",
      "coefficient de frottement \t 1.5943185445260133\n",
      "coefficient de frottement \t 1.5938098276962351\n",
      "coefficient de frottement \t 1.5933014354066992\n",
      "coefficient de frottement \t 1.5927933673469385\n",
      "coefficient de frottement \t 1.5922856232068856\n",
      "coefficient de frottement \t 1.5917782026768643\n",
      "coefficient de frottement \t 1.591271105447594\n",
      "coefficient de frottement \t 1.5907643312101902\n",
      "coefficient de frottement \t 1.5902578796561604\n",
      "coefficient de frottement \t 1.589751750477403\n",
      "coefficient de frottement \t 1.5892459433662107\n",
      "coefficient de frottement \t 1.5887404580152678\n",
      "coefficient de frottement \t 1.5882352941176485\n",
      "coefficient de frottement \t 1.5877304513668151\n",
      "coefficient de frottement \t 1.5872259294566247\n",
      "coefficient de frottement \t 1.5867217280813215\n",
      "coefficient de frottement \t 1.5862178469355332\n",
      "coefficient de frottement \t 1.5857142857142843\n",
      "coefficient de frottement \t 1.5852110441129794\n",
      "coefficient de frottement \t 1.5847081218274106\n",
      "coefficient de frottement \t 1.5842055185537576\n",
      "coefficient de frottement \t 1.5837032339885857\n",
      "coefficient de frottement \t 1.583201267828844\n",
      "coefficient de frottement \t 1.582699619771863\n",
      "coefficient de frottement \t 1.582198289515363\n",
      "coefficient de frottement \t 1.5816972767574415\n",
      "coefficient de frottement \t 1.5811965811965802\n",
      "coefficient de frottement \t 1.580696202531645\n",
      "coefficient de frottement \t 1.5801961404618792\n",
      "coefficient de frottement \t 1.5796963946869065\n",
      "coefficient de frottement \t 1.5791969649067348\n",
      "coefficient de frottement \t 1.5786978508217453\n",
      "coefficient de frottement \t 1.578199052132702\n",
      "coefficient de frottement \t 1.577700568540745\n",
      "coefficient de frottement \t 1.577202399747395\n",
      "coefficient de frottement \t 1.5767045454545454\n",
      "coefficient de frottement \t 1.5762070053644668\n",
      "coefficient de frottement \t 1.575709779179809\n",
      "coefficient de frottement \t 1.575212866603594\n",
      "coefficient de frottement \t 1.5747162673392174\n",
      "coefficient de frottement \t 1.5742199810904505\n",
      "coefficient de frottement \t 1.5737240075614372\n",
      "coefficient de frottement \t 1.573228346456693\n",
      "coefficient de frottement \t 1.572732997481108\n",
      "coefficient de frottement \t 1.5722379603399435\n",
      "coefficient de frottement \t 1.5717432347388294\n",
      "coefficient de frottement \t 1.5712488203837662\n",
      "coefficient de frottement \t 1.5707547169811316\n",
      "coefficient de frottement \t 1.5702609242376613\n",
      "coefficient de frottement \t 1.569767441860465\n",
      "coefficient de frottement \t 1.5692742695570219\n",
      "coefficient de frottement \t 1.5687814070351769\n",
      "coefficient de frottement \t 1.5682888540031392\n",
      "coefficient de frottement \t 1.5677966101694913\n",
      "coefficient de frottement \t 1.567304675243175\n",
      "coefficient de frottement \t 1.5668130489335004\n",
      "coefficient de frottement \t 1.5663217309501396\n",
      "coefficient de frottement \t 1.5658307210031335\n",
      "coefficient de frottement \t 1.5653400188028816\n",
      "coefficient de frottement \t 1.5648496240601502\n",
      "coefficient de frottement \t 1.5643595364860625\n",
      "coefficient de frottement \t 1.5638697557921095\n",
      "coefficient de frottement \t 1.5633802816901414\n",
      "coefficient de frottement \t 1.5628911138923653\n",
      "coefficient de frottement \t 1.562402252111354\n",
      "coefficient de frottement \t 1.5619136960600373\n",
      "coefficient de frottement \t 1.5614254454517031\n",
      "coefficient de frottement \t 1.560937499999999\n",
      "coefficient de frottement \t 1.5604498594189313\n",
      "coefficient de frottement \t 1.5599625234228611\n",
      "coefficient de frottement \t 1.5594754917265063\n",
      "coefficient de frottement \t 1.5589887640449445\n",
      "coefficient de frottement \t 1.5585023400936049\n",
      "coefficient de frottement \t 1.5580162195882716\n",
      "coefficient de frottement \t 1.5575304022450887\n",
      "coefficient de frottement \t 1.5570448877805485\n",
      "coefficient de frottement \t 1.556559675911498\n",
      "coefficient de frottement \t 1.5560747663551393\n",
      "coefficient de frottement \t 1.5555901588290255\n",
      "coefficient de frottement \t 1.5551058530510575\n",
      "coefficient de frottement \t 1.5546218487394958\n",
      "coefficient de frottement \t 1.5541381456129442\n",
      "coefficient de frottement \t 1.5536547433903585\n",
      "coefficient de frottement \t 1.5531716417910444\n",
      "coefficient de frottement \t 1.5526888405346595\n",
      "coefficient de frottement \t 1.5522063393412053\n",
      "coefficient de frottement \t 1.5517241379310334\n",
      "coefficient de frottement \t 1.5512422360248441\n",
      "coefficient de frottement \t 1.5507606333436819\n",
      "coefficient de frottement \t 1.5502793296089388\n",
      "coefficient de frottement \t 1.5497983245423523\n",
      "coefficient de frottement \t 1.5493176178660062\n",
      "coefficient de frottement \t 1.5488372093023266\n",
      "coefficient de frottement \t 1.548357098574085\n",
      "coefficient de frottement \t 1.5478772854044\n",
      "coefficient de frottement \t 1.547397769516728\n",
      "coefficient de frottement \t 1.5469185506348697\n",
      "coefficient de frottement \t 1.5464396284829711\n",
      "coefficient de frottement \t 1.5459610027855146\n",
      "coefficient de frottement \t 1.5454826732673266\n",
      "coefficient de frottement \t 1.545004639653572\n",
      "coefficient de frottement \t 1.5445269016697594\n",
      "coefficient de frottement \t 1.5440494590417326\n",
      "coefficient de frottement \t 1.5435723114956734\n",
      "coefficient de frottement \t 1.5430954587581087\n",
      "coefficient de frottement \t 1.5426189005558988\n",
      "coefficient de frottement \t 1.542142636616238\n",
      "coefficient de frottement \t 1.5416666666666663\n",
      "coefficient de frottement \t 1.541190990435051\n",
      "coefficient de frottement \t 1.5407156076496\n",
      "coefficient de frottement \t 1.5402405180388532\n",
      "coefficient de frottement \t 1.53976572133169\n",
      "coefficient de frottement \t 1.5392912172573199\n",
      "coefficient de frottement \t 1.538817005545286\n",
      "coefficient de frottement \t 1.5383430859254703\n",
      "coefficient de frottement \t 1.537869458128078\n",
      "coefficient de frottement \t 1.5373961218836552\n",
      "coefficient de frottement \t 1.536923076923076\n",
      "coefficient de frottement \t 1.5364503229775448\n",
      "coefficient de frottement \t 1.5359778597785974\n",
      "coefficient de frottement \t 1.5355056870581\n",
      "coefficient de frottement \t 1.5350338045482497\n",
      "coefficient de frottement \t 1.5345622119815672\n",
      "coefficient de frottement \t 1.534090909090909\n",
      "coefficient de frottement \t 1.5336198956094569\n",
      "coefficient de frottement \t 1.5331491712707193\n",
      "coefficient de frottement \t 1.5326787358085292\n",
      "coefficient de frottement \t 1.5322085889570545\n",
      "coefficient de frottement \t 1.5317387304507821\n",
      "coefficient de frottement \t 1.5312691600245247\n",
      "coefficient de frottement \t 1.530799877413424\n",
      "coefficient de frottement \t 1.530330882352942\n",
      "coefficient de frottement \t 1.5298621745788679\n",
      "coefficient de frottement \t 1.5293937538273112\n",
      "coefficient de frottement \t 1.5289256198347103\n",
      "coefficient de frottement \t 1.5284577723378217\n",
      "coefficient de frottement \t 1.5279902110737216\n",
      "coefficient de frottement \t 1.5275229357798152\n",
      "coefficient de frottement \t 1.5270559461938253\n",
      "coefficient de frottement \t 1.5265892420537892\n",
      "coefficient de frottement \t 1.5261228230980743\n",
      "coefficient de frottement \t 1.5256566890653638\n",
      "coefficient de frottement \t 1.525190839694657\n",
      "coefficient de frottement \t 1.524725274725274\n",
      "coefficient de frottement \t 1.524259993896857\n",
      "coefficient de frottement \t 1.5237949969493592\n",
      "coefficient de frottement \t 1.5233302836230542\n",
      "coefficient de frottement \t 1.5228658536585362\n",
      "coefficient de frottement \t 1.5224017067967088\n",
      "coefficient de frottement \t 1.5219378427787935\n",
      "coefficient de frottement \t 1.5214742613463301\n",
      "coefficient de frottement \t 1.52101096224117\n",
      "coefficient de frottement \t 1.5205479452054802\n",
      "coefficient de frottement \t 1.5200852099817406\n",
      "coefficient de frottement \t 1.5196227563127471\n",
      "coefficient de frottement \t 1.5191605839416062\n",
      "coefficient de frottement \t 1.518698692611735\n",
      "coefficient de frottement \t 1.518237082066868\n",
      "coefficient de frottement \t 1.5177757520510489\n",
      "coefficient de frottement \t 1.5173147023086266\n",
      "coefficient de frottement \t 1.5168539325842691\n",
      "coefficient de frottement \t 1.5163934426229508\n",
      "coefficient de frottement \t 1.5159332321699555\n",
      "coefficient de frottement \t 1.5154733009708738\n",
      "coefficient de frottement \t 1.5150136487716106\n",
      "coefficient de frottement \t 1.514554275318375\n",
      "coefficient de frottement \t 1.5140951803576832\n",
      "coefficient de frottement \t 1.513636363636363\n",
      "coefficient de frottement \t 1.5131778249015448\n",
      "coefficient de frottement \t 1.5127195639006668\n",
      "coefficient de frottement \t 1.5122615803814718\n",
      "coefficient de frottement \t 1.5118038740920106\n",
      "coefficient de frottement \t 1.5113464447806355\n",
      "coefficient de frottement \t 1.510889292196007\n",
      "coefficient de frottement \t 1.5104324160870881\n",
      "coefficient de frottement \t 1.5099758162031442\n",
      "coefficient de frottement \t 1.509519492293744\n",
      "coefficient de frottement \t 1.5090634441087603\n",
      "coefficient de frottement \t 1.5086076713983696\n",
      "coefficient de frottement \t 1.5081521739130428\n",
      "coefficient de frottement \t 1.5076969514035623\n",
      "coefficient de frottement \t 1.5072420036210021\n",
      "coefficient de frottement \t 1.506787330316742\n",
      "coefficient de frottement \t 1.50633293124246\n",
      "coefficient de frottement \t 1.5058788061501356\n",
      "coefficient de frottement \t 1.5054249547920435\n",
      "coefficient de frottement \t 1.5049713769207587\n",
      "coefficient de frottement \t 1.504518072289156\n",
      "coefficient de frottement \t 1.504065040650407\n",
      "coefficient de frottement \t 1.5036122817579773\n",
      "coefficient de frottement \t 1.5031597953656335\n",
      "coefficient de frottement \t 1.502707581227438\n",
      "coefficient de frottement \t 1.5022556390977453\n",
      "coefficient de frottement \t 1.5018039687312084\n",
      "coefficient de frottement \t 1.501352569882777\n",
      "coefficient de frottement \t 1.5009014423076925\n",
      "coefficient de frottement \t 1.5004505857614883\n",
      "coefficient de frottement \t 1.4999999999999991\n",
      "coefficient de frottement \t 1.499549684779346\n",
      "coefficient de frottement \t 1.499099639855942\n",
      "coefficient de frottement \t 1.4986498649864985\n",
      "coefficient de frottement \t 1.4982003599280151\n",
      "coefficient de frottement \t 1.497751124437782\n",
      "coefficient de frottement \t 1.4973021582733812\n",
      "coefficient de frottement \t 1.4968534611926878\n",
      "coefficient de frottement \t 1.496405032953864\n",
      "coefficient de frottement \t 1.4959568733153634\n",
      "coefficient de frottement \t 1.4955089820359275\n",
      "coefficient de frottement \t 1.4950613588745882\n",
      "coefficient de frottement \t 1.4946140035906648\n",
      "coefficient de frottement \t 1.4941669159437634\n",
      "coefficient de frottement \t 1.493720095693781\n",
      "coefficient de frottement \t 1.493273542600898\n",
      "coefficient de frottement \t 1.492827256425583\n",
      "coefficient de frottement \t 1.4923812369285927\n",
      "coefficient de frottement \t 1.4919354838709662\n",
      "coefficient de frottement \t 1.4914899970140332\n",
      "coefficient de frottement \t 1.4910447761194014\n",
      "coefficient de frottement \t 1.4905998209489701\n",
      "coefficient de frottement \t 1.4901551312649175\n",
      "coefficient de frottement \t 1.4897107068297053\n",
      "coefficient de frottement \t 1.4892665474060829\n",
      "coefficient de frottement \t 1.4888226527570798\n",
      "coefficient de frottement \t 1.4883790226460067\n",
      "coefficient de frottement \t 1.487935656836461\n",
      "coefficient de frottement \t 1.4874925550923166\n",
      "coefficient de frottement \t 1.4870497171777308\n",
      "coefficient de frottement \t 1.4866071428571428\n",
      "coefficient de frottement \t 1.48616483189527\n",
      "coefficient de frottement \t 1.4857227840571092\n",
      "coefficient de frottement \t 1.48528099910794\n",
      "coefficient de frottement \t 1.4848394768133193\n",
      "coefficient de frottement \t 1.4843982169390786\n",
      "coefficient de frottement \t 1.4839572192513366\n",
      "coefficient de frottement \t 1.4835164835164838\n",
      "coefficient de frottement \t 1.4830760095011866\n",
      "coefficient de frottement \t 1.4826357969723944\n",
      "coefficient de frottement \t 1.4821958456973277\n",
      "coefficient de frottement \t 1.4817561554434886\n",
      "coefficient de frottement \t 1.4813167259786475\n",
      "coefficient de frottement \t 1.4808775570708563\n",
      "coefficient de frottement \t 1.4804386484884415\n",
      "coefficient de frottement \t 1.4800000000000006\n",
      "coefficient de frottement \t 1.4795616113744072\n",
      "coefficient de frottement \t 1.479123482380811\n",
      "coefficient de frottement \t 1.4786856127886319\n",
      "coefficient de frottement \t 1.4782480023675637\n",
      "coefficient de frottement \t 1.4778106508875735\n",
      "coefficient de frottement \t 1.4773735581188994\n",
      "coefficient de frottement \t 1.4769367238320523\n",
      "coefficient de frottement \t 1.4765001477978132\n",
      "coefficient de frottement \t 1.4760638297872344\n",
      "coefficient de frottement \t 1.4756277695716395\n",
      "coefficient de frottement \t 1.475191966922622\n",
      "coefficient de frottement \t 1.4747564216120455\n",
      "coefficient de frottement \t 1.4743211334120423\n",
      "coefficient de frottement \t 1.4738861020950123\n",
      "coefficient de frottement \t 1.4734513274336283\n",
      "coefficient de frottement \t 1.4730168092008262\n",
      "coefficient de frottement \t 1.4725825471698106\n",
      "coefficient de frottement \t 1.4721485411140582\n",
      "coefficient de frottement \t 1.4717147908073078\n",
      "coefficient de frottement \t 1.4712812960235646\n",
      "coefficient de frottement \t 1.4708480565371023\n",
      "coefficient de frottement \t 1.4704150721224607\n",
      "coefficient de frottement \t 1.4699823425544432\n",
      "coefficient de frottement \t 1.469549867608119\n",
      "coefficient de frottement \t 1.4691176470588232\n",
      "coefficient de frottement \t 1.468685680682152\n",
      "coefficient de frottement \t 1.468253968253968\n",
      "coefficient de frottement \t 1.4678225095503972\n",
      "coefficient de frottement \t 1.4673913043478273\n",
      "coefficient de frottement \t 1.466960352422907\n",
      "coefficient de frottement \t 1.4665296535525536\n",
      "coefficient de frottement \t 1.4660992075139416\n",
      "coefficient de frottement \t 1.4656690140845057\n",
      "coefficient de frottement \t 1.465239073041946\n",
      "coefficient de frottement \t 1.4648093841642218\n",
      "coefficient de frottement \t 1.464379947229551\n",
      "coefficient de frottement \t 1.4639507620164125\n",
      "coefficient de frottement \t 1.4635218283035456\n",
      "coefficient de frottement \t 1.4630931458699477\n",
      "coefficient de frottement \t 1.4626647144948761\n",
      "coefficient de frottement \t 1.462236533957845\n",
      "coefficient de frottement \t 1.4618086040386304\n",
      "coefficient de frottement \t 1.4613809245172606\n",
      "coefficient de frottement \t 1.460953495174027\n",
      "coefficient de frottement \t 1.4605263157894726\n",
      "coefficient de frottement \t 1.4600993861444023\n",
      "coefficient de frottement \t 1.4596727060198718\n",
      "coefficient de frottement \t 1.4592462751971955\n",
      "coefficient de frottement \t 1.458820093457945\n",
      "coefficient de frottement \t 1.4583941605839428\n",
      "coefficient de frottement \t 1.4579684763572671\n",
      "coefficient de frottement \t 1.4575430405602567\n",
      "coefficient de frottement \t 1.4571178529754945\n",
      "coefficient de frottement \t 1.456692913385826\n",
      "coefficient de frottement \t 1.4562682215743437\n",
      "coefficient de frottement \t 1.4558437773243946\n",
      "coefficient de frottement \t 1.45541958041958\n",
      "coefficient de frottement \t 1.4549956306437526\n",
      "coefficient de frottement \t 1.4545719277810136\n",
      "coefficient de frottement \t 1.4541484716157207\n",
      "coefficient de frottement \t 1.4537252619324792\n",
      "coefficient de frottement \t 1.4533022985161477\n",
      "coefficient de frottement \t 1.4528795811518311\n",
      "coefficient de frottement \t 1.4524571096248902\n",
      "coefficient de frottement \t 1.4520348837209296\n",
      "coefficient de frottement \t 1.4516129032258063\n",
      "coefficient de frottement \t 1.4511911679256246\n",
      "coefficient de frottement \t 1.4507696776067391\n",
      "coefficient de frottement \t 1.4503484320557503\n",
      "coefficient de frottement \t 1.4499274310595074\n",
      "coefficient de frottement \t 1.4495066744051073\n",
      "coefficient de frottement \t 1.4490861618798951\n",
      "coefficient de frottement \t 1.4486658932714607\n",
      "coefficient de frottement \t 1.4482458683676422\n",
      "coefficient de frottement \t 1.4478260869565216\n",
      "coefficient de frottement \t 1.447406548826427\n",
      "coefficient de frottement \t 1.4469872537659323\n",
      "coefficient de frottement \t 1.4465682015638575\n",
      "coefficient de frottement \t 1.446149392009265\n",
      "coefficient de frottement \t 1.4457308248914622\n",
      "coefficient de frottement \t 1.4453124999999998\n",
      "coefficient de frottement \t 1.4448944171246747\n",
      "coefficient de frottement \t 1.4444765760555225\n",
      "coefficient de frottement \t 1.4440589765828264\n",
      "coefficient de frottement \t 1.443641618497109\n",
      "coefficient de frottement \t 1.4432245015891358\n",
      "coefficient de frottement \t 1.4428076256499123\n",
      "coefficient de frottement \t 1.4423909904706904\n",
      "coefficient de frottement \t 1.4419745958429573\n",
      "coefficient de frottement \t 1.4415584415584426\n",
      "coefficient de frottement \t 1.4411425274091172\n",
      "coefficient de frottement \t 1.4407268531871937\n",
      "coefficient de frottement \t 1.4403114186851196\n",
      "coefficient de frottement \t 1.4398962236955892\n",
      "coefficient de frottement \t 1.4394812680115259\n",
      "coefficient de frottement \t 1.4390665514261012\n",
      "coefficient de frottement \t 1.4386520737327189\n",
      "coefficient de frottement \t 1.438237834725022\n",
      "coefficient de frottement \t 1.4378238341968912\n",
      "coefficient de frottement \t 1.4374100719424467\n",
      "coefficient de frottement \t 1.4369965477560411\n",
      "coefficient de frottement \t 1.4365832614322687\n",
      "coefficient de frottement \t 1.4361702127659566\n",
      "coefficient de frottement \t 1.4357574015521688\n",
      "coefficient de frottement \t 1.4353448275862066\n",
      "coefficient de frottement \t 1.4349324906636027\n",
      "coefficient de frottement \t 1.4345203905801265\n",
      "coefficient de frottement \t 1.4341085271317837\n",
      "coefficient de frottement \t 1.4336969001148119\n",
      "coefficient de frottement \t 1.4332855093256822\n",
      "coefficient de frottement \t 1.4328743545611011\n",
      "coefficient de frottement \t 1.4324634356180095\n",
      "coefficient de frottement \t 1.4320527522935762\n",
      "coefficient de frottement \t 1.4316423043852091\n",
      "coefficient de frottement \t 1.4312320916905434\n",
      "coefficient de frottement \t 1.430822114007448\n",
      "coefficient de frottement \t 1.43041237113402\n",
      "coefficient de frottement \t 1.4300028628685946\n",
      "coefficient de frottement \t 1.4295935890097315\n",
      "coefficient de frottement \t 1.4291845493562234\n",
      "coefficient de frottement \t 1.4287757437070936\n",
      "coefficient de frottement \t 1.4283671718615962\n",
      "coefficient de frottement \t 1.4279588336192104\n",
      "coefficient de frottement \t 1.4275507287796512\n",
      "coefficient de frottement \t 1.4271428571428564\n",
      "coefficient de frottement \t 1.4267352185089972\n",
      "coefficient de frottement \t 1.4263278126784698\n",
      "coefficient de frottement \t 1.4259206394518986\n",
      "coefficient de frottement \t 1.425513698630138\n",
      "coefficient de frottement \t 1.425106990014266\n",
      "coefficient de frottement \t 1.4247005134055901\n",
      "coefficient de frottement \t 1.4242942686056461\n",
      "coefficient de frottement \t 1.4238882554161907\n",
      "coefficient de frottement \t 1.4234824736392113\n",
      "coefficient de frottement \t 1.4230769230769216\n",
      "coefficient de frottement \t 1.422671603531757\n",
      "coefficient de frottement \t 1.422266514806377\n",
      "coefficient de frottement \t 1.4218616567036717\n",
      "coefficient de frottement \t 1.4214570290267508\n",
      "coefficient de frottement \t 1.4210526315789478\n",
      "coefficient de frottement \t 1.4206484641638226\n",
      "coefficient de frottement \t 1.4202445265851578\n",
      "coefficient de frottement \t 1.419840818646958\n",
      "coefficient de frottement \t 1.4194373401534524\n",
      "coefficient de frottement \t 1.4190340909090906\n",
      "coefficient de frottement \t 1.4186310707185457\n",
      "coefficient de frottement \t 1.4182282793867125\n",
      "coefficient de frottement \t 1.4178257167187063\n",
      "coefficient de frottement \t 1.4174233825198643\n",
      "coefficient de frottement \t 1.417021276595746\n",
      "coefficient de frottement \t 1.4166193987521265\n",
      "coefficient de frottement \t 1.4162177487950096\n",
      "coefficient de frottement \t 1.4158163265306107\n",
      "coefficient de frottement \t 1.4154151317653714\n",
      "coefficient de frottement \t 1.415014164305948\n",
      "coefficient de frottement \t 1.4146134239592174\n",
      "coefficient de frottement \t 1.4142129105322767\n",
      "coefficient de frottement \t 1.4138126238324382\n",
      "coefficient de frottement \t 1.4134125636672334\n",
      "coefficient de frottement \t 1.4130127298444135\n",
      "coefficient de frottement \t 1.4126131221719458\n",
      "coefficient de frottement \t 1.4122137404580157\n",
      "coefficient de frottement \t 1.4118145845110226\n",
      "coefficient de frottement \t 1.4114156541395866\n",
      "coefficient de frottement \t 1.4110169491525422\n",
      "coefficient de frottement \t 1.4106184693589388\n",
      "coefficient de frottement \t 1.4102202145680407\n",
      "coefficient de frottement \t 1.4098221845893317\n",
      "coefficient de frottement \t 1.4094243792325065\n",
      "coefficient de frottement \t 1.4090267983074765\n",
      "coefficient de frottement \t 1.4086294416243657\n",
      "coefficient de frottement \t 1.4082323089935158\n",
      "coefficient de frottement \t 1.407835400225478\n",
      "coefficient de frottement \t 1.4074387151310215\n",
      "coefficient de frottement \t 1.4070422535211258\n",
      "coefficient de frottement \t 1.406646015206983\n",
      "coefficient de frottement \t 1.4062500000000002\n",
      "coefficient de frottement \t 1.405854207711793\n",
      "coefficient de frottement \t 1.4054586381541927\n",
      "coefficient de frottement \t 1.4050632911392413\n",
      "coefficient de frottement \t 1.40466816647919\n",
      "coefficient de frottement \t 1.4042732639865059\n",
      "coefficient de frottement \t 1.4038785834738612\n",
      "coefficient de frottement \t 1.403484124754144\n",
      "coefficient de frottement \t 1.4030898876404483\n",
      "coefficient de frottement \t 1.4026958719460825\n",
      "coefficient de frottement \t 1.4023020774845594\n",
      "coefficient de frottement \t 1.4019085040696053\n",
      "coefficient de frottement \t 1.4015151515151523\n",
      "coefficient de frottement \t 1.4011220196353444\n",
      "coefficient de frottement \t 1.4007291082445312\n",
      "coefficient de frottement \t 1.400336417157275\n",
      "coefficient de frottement \t 1.3999439461883396\n",
      "coefficient de frottement \t 1.399551695152703\n",
      "coefficient de frottement \t 1.3991596638655461\n",
      "coefficient de frottement \t 1.3987678521422566\n",
      "coefficient de frottement \t 1.3983762597984322\n",
      "coefficient de frottement \t 1.397984886649875\n",
      "coefficient de frottement \t 1.3975937325125913\n",
      "coefficient de frottement \t 1.3972027972027976\n",
      "coefficient de frottement \t 1.396812080536913\n",
      "coefficient de frottement \t 1.3964215823315629\n",
      "coefficient de frottement \t 1.3960313024035762\n",
      "coefficient de frottement \t 1.395641240569991\n",
      "coefficient de frottement \t 1.3952513966480449\n",
      "coefficient de frottement \t 1.3948617704551804\n",
      "coefficient de frottement \t 1.3944723618090453\n",
      "coefficient de frottement \t 1.3940831705274914\n",
      "coefficient de frottement \t 1.3936941964285725\n",
      "coefficient de frottement \t 1.3933054393305455\n",
      "coefficient de frottement \t 1.3929168990518686\n",
      "coefficient de frottement \t 1.3925285754112078\n",
      "coefficient de frottement \t 1.3921404682274239\n",
      "coefficient de frottement \t 1.3917525773195867\n",
      "coefficient de frottement \t 1.391364902506963\n",
      "coefficient de frottement \t 1.3909774436090225\n",
      "coefficient de frottement \t 1.3905902004454338\n",
      "coefficient de frottement \t 1.39020317283607\n",
      "coefficient de frottement \t 1.389816360601002\n",
      "coefficient de frottement \t 1.3894297635605015\n",
      "coefficient de frottement \t 1.389043381535039\n",
      "coefficient de frottement \t 1.388657214345288\n",
      "coefficient de frottement \t 1.3882712618121171\n",
      "coefficient de frottement \t 1.3878855237565983\n",
      "coefficient de frottement \t 1.3875000000000004\n",
      "coefficient de frottement \t 1.3871146903637877\n",
      "coefficient de frottement \t 1.3867295946696285\n",
      "coefficient de frottement \t 1.3863447127393846\n",
      "coefficient de frottement \t 1.385960044395117\n",
      "coefficient de frottement \t 1.3855755894590842\n",
      "coefficient de frottement \t 1.3851913477537439\n",
      "coefficient de frottement \t 1.3848073191017463\n",
      "coefficient de frottement \t 1.384423503325941\n",
      "coefficient de frottement \t 1.384039900249376\n",
      "coefficient de frottement \t 1.3836565096952913\n",
      "coefficient de frottement \t 1.3832733314871222\n",
      "coefficient de frottement \t 1.3828903654485047\n",
      "coefficient de frottement \t 1.3825076114032662\n",
      "coefficient de frottement \t 1.3821250691754305\n",
      "coefficient de frottement \t 1.3817427385892112\n",
      "coefficient de frottement \t 1.381360619469026\n",
      "coefficient de frottement \t 1.38097871163948\n",
      "coefficient de frottement \t 1.3805970149253721\n",
      "coefficient de frottement \t 1.3802155291516987\n",
      "coefficient de frottement \t 1.3798342541436466\n",
      "coefficient de frottement \t 1.3794531897265951\n",
      "coefficient de frottement \t 1.379072335726118\n",
      "coefficient de frottement \t 1.3786916919679832\n",
      "coefficient de frottement \t 1.3783112582781452\n",
      "coefficient de frottement \t 1.3779310344827582\n",
      "coefficient de frottement \t 1.3775510204081622\n",
      "coefficient de frottement \t 1.377171215880893\n",
      "coefficient de frottement \t 1.3767916207276731\n",
      "coefficient de frottement \t 1.3764122347754193\n",
      "coefficient de frottement \t 1.3760330578512396\n",
      "coefficient de frottement \t 1.375654089782429\n",
      "coefficient de frottement \t 1.375275330396475\n",
      "coefficient de frottement \t 1.3748967795210574\n",
      "coefficient de frottement \t 1.37451843698404\n",
      "coefficient de frottement \t 1.3741403026134797\n",
      "coefficient de frottement \t 1.3737623762376237\n",
      "coefficient de frottement \t 1.3733846576849056\n",
      "coefficient de frottement \t 1.3730071467839469\n",
      "coefficient de frottement \t 1.3726298433635615\n",
      "coefficient de frottement \t 1.3722527472527464\n",
      "coefficient de frottement \t 1.371875858280692\n",
      "coefficient de frottement \t 1.3714991762767712\n",
      "coefficient de frottement \t 1.3711227010705465\n",
      "coefficient de frottement \t 1.370746432491768\n",
      "coefficient de frottement \t 1.3703703703703698\n",
      "coefficient de frottement \t 1.369994514536478\n",
      "coefficient de frottement \t 1.3696188648204002\n",
      "coefficient de frottement \t 1.3692434210526305\n",
      "coefficient de frottement \t 1.3688681830638523\n",
      "coefficient de frottement \t 1.3684931506849307\n",
      "coefficient de frottement \t 1.3681183237469179\n",
      "coefficient de frottement \t 1.3677437020810514\n",
      "coefficient de frottement \t 1.3673692855187518\n",
      "coefficient de frottement \t 1.3669950738916257\n",
      "coefficient de frottement \t 1.3666210670314638\n",
      "coefficient de frottement \t 1.3662472647702402\n",
      "coefficient de frottement \t 1.365873666940115\n",
      "coefficient de frottement \t 1.3655002733734272\n",
      "coefficient de frottement \t 1.3651270839027054\n",
      "coefficient de frottement \t 1.3647540983606559\n",
      "coefficient de frottement \t 1.3643813165801693\n",
      "coefficient de frottement \t 1.3640087383943202\n",
      "coefficient de frottement \t 1.3636363636363644\n",
      "coefficient de frottement \t 1.3632641921397377\n",
      "coefficient de frottement \t 1.362892223738062\n",
      "coefficient de frottement \t 1.362520458265139\n",
      "coefficient de frottement \t 1.3621488955549488\n",
      "coefficient de frottement \t 1.3617775354416575\n",
      "coefficient de frottement \t 1.3614063777596066\n",
      "coefficient de frottement \t 1.3610354223433245\n",
      "coefficient de frottement \t 1.3606646690275122\n",
      "coefficient de frottement \t 1.3602941176470587\n",
      "coefficient de frottement \t 1.3599237680370266\n",
      "coefficient de frottement \t 1.3595536200326617\n",
      "coefficient de frottement \t 1.3591836734693874\n",
      "coefficient de frottement \t 1.3588139281828073\n",
      "coefficient de frottement \t 1.3584443840087026\n",
      "coefficient de frottement \t 1.3580750407830335\n",
      "coefficient de frottement \t 1.3577058983419399\n",
      "coefficient de frottement \t 1.3573369565217392\n",
      "coefficient de frottement \t 1.3569682151589244\n",
      "coefficient de frottement \t 1.356599674090168\n",
      "coefficient de frottement \t 1.356231333152322\n",
      "coefficient de frottement \t 1.3558631921824107\n",
      "coefficient de frottement \t 1.3554952510176383\n",
      "coefficient de frottement \t 1.3551275094953883\n",
      "coefficient de frottement \t 1.354759967453214\n",
      "coefficient de frottement \t 1.35439262472885\n",
      "coefficient de frottement \t 1.3540254811602046\n",
      "coefficient de frottement \t 1.3536585365853657\n",
      "coefficient de frottement \t 1.3532917908425894\n",
      "coefficient de frottement \t 1.3529252437703148\n",
      "coefficient de frottement \t 1.3525588952071486\n",
      "coefficient de frottement \t 1.3521927449918791\n",
      "coefficient de frottement \t 1.3518267929634638\n",
      "coefficient de frottement \t 1.3514610389610386\n",
      "coefficient de frottement \t 1.3510954828239115\n",
      "coefficient de frottement \t 1.3507301243915624\n",
      "coefficient de frottement \t 1.3503649635036497\n",
      "coefficient de frottement \t 1.3499999999999994\n",
      "coefficient de frottement \t 1.349635233720616\n",
      "coefficient de frottement \t 1.3492706645056727\n",
      "coefficient de frottement \t 1.348906292195518\n",
      "coefficient de frottement \t 1.3485421166306701\n",
      "coefficient de frottement \t 1.3481781376518218\n",
      "coefficient de frottement \t 1.3478143550998376\n",
      "coefficient de frottement \t 1.347450768815754\n",
      "coefficient de frottement \t 1.3470873786407762\n",
      "coefficient de frottement \t 1.3467241844162838\n",
      "coefficient de frottement \t 1.3463611859838267\n",
      "coefficient de frottement \t 1.345998383185125\n",
      "coefficient de frottement \t 1.3456357758620687\n",
      "coefficient de frottement \t 1.34527336385672\n",
      "coefficient de frottement \t 1.3449111470113086\n",
      "coefficient de frottement \t 1.3445491251682369\n",
      "coefficient de frottement \t 1.3441872981700742\n",
      "coefficient de frottement \t 1.3438256658595642\n",
      "coefficient de frottement \t 1.3434642280796116\n",
      "coefficient de frottement \t 1.343102984673299\n",
      "coefficient de frottement \t 1.3427419354838712\n",
      "coefficient de frottement \t 1.3423810803547434\n",
      "coefficient de frottement \t 1.3420204191295004\n",
      "coefficient de frottement \t 1.3416599516518943\n",
      "coefficient de frottement \t 1.341299677765844\n",
      "coefficient de frottement \t 1.340939597315436\n",
      "coefficient de frottement \t 1.3405797101449275\n",
      "coefficient de frottement \t 1.3402200160987385\n",
      "coefficient de frottement \t 1.3398605150214578\n",
      "coefficient de frottement \t 1.339501206757844\n",
      "coefficient de frottement \t 1.3391420911528145\n",
      "coefficient de frottement \t 1.3387831680514606\n",
      "coefficient de frottement \t 1.3384244372990348\n",
      "coefficient de frottement \t 1.3380658987409602\n",
      "coefficient de frottement \t 1.337707552222818\n",
      "coefficient de frottement \t 1.337349397590361\n",
      "coefficient de frottement \t 1.3369914346895073\n",
      "coefficient de frottement \t 1.3366336633663372\n",
      "coefficient de frottement \t 1.336276083467094\n",
      "coefficient de frottement \t 1.3359186948381914\n",
      "coefficient de frottement \t 1.3355614973262029\n",
      "coefficient de frottement \t 1.3352044907778668\n",
      "coefficient de frottement \t 1.3348476750400855\n",
      "coefficient de frottement \t 1.3344910499599245\n",
      "coefficient de frottement \t 1.3341346153846159\n",
      "coefficient de frottement \t 1.3337783711615478\n",
      "coefficient de frottement \t 1.3334223171382809\n",
      "coefficient de frottement \t 1.3330664531625303\n",
      "coefficient de frottement \t 1.332710779082176\n",
      "coefficient de frottement \t 1.3323552947452644\n",
      "coefficient de frottement \t 1.3320000000000005\n",
      "coefficient de frottement \t 1.3316448946947474\n",
      "coefficient de frottement \t 1.3312899786780388\n",
      "coefficient de frottement \t 1.3309352517985618\n",
      "coefficient de frottement \t 1.3305807139051689\n",
      "coefficient de frottement \t 1.330226364846871\n",
      "coefficient de frottement \t 1.3298722044728435\n",
      "coefficient de frottement \t 1.3295182326324195\n",
      "coefficient de frottement \t 1.3291644491750922\n",
      "coefficient de frottement \t 1.3288108539505188\n",
      "coefficient de frottement \t 1.3284574468085106\n",
      "coefficient de frottement \t 1.3281042275990433\n",
      "coefficient de frottement \t 1.3277511961722481\n",
      "coefficient de frottement \t 1.3273983523784225\n",
      "coefficient de frottement \t 1.3270456960680137\n",
      "coefficient de frottement \t 1.3266932270916327\n",
      "coefficient de frottement \t 1.3263409453000525\n",
      "coefficient de frottement \t 1.3259888505441997\n",
      "coefficient de frottement \t 1.3256369426751584\n",
      "coefficient de frottement \t 1.325285221544175\n",
      "coefficient de frottement \t 1.3249336870026518\n",
      "coefficient de frottement \t 1.3245823389021485\n",
      "coefficient de frottement \t 1.3242311770943789\n",
      "coefficient de frottement \t 1.3238802014312216\n",
      "coefficient de frottement \t 1.3235294117647065\n",
      "coefficient de frottement \t 1.3231788079470195\n",
      "coefficient de frottement \t 1.3228283898305082\n",
      "coefficient de frottement \t 1.3224781572676731\n",
      "coefficient de frottement \t 1.322128110111169\n",
      "coefficient de frottement \t 1.321778248213813\n",
      "coefficient de frottement \t 1.3214285714285712\n",
      "coefficient de frottement \t 1.3210790796085694\n",
      "coefficient de frottement \t 1.3207297726070866\n",
      "coefficient de frottement \t 1.320380650277558\n",
      "coefficient de frottement \t 1.3200317124735734\n",
      "coefficient de frottement \t 1.3196829590488766\n",
      "coefficient de frottement \t 1.3193343898573693\n",
      "coefficient de frottement \t 1.3189860047531023\n",
      "coefficient de frottement \t 1.3186378035902844\n",
      "coefficient de frottement \t 1.3182897862232772\n",
      "coefficient de frottement \t 1.3179419525065956\n",
      "coefficient de frottement \t 1.317594302294909\n",
      "coefficient de frottement \t 1.317246835443038\n",
      "coefficient de frottement \t 1.3168995518059596\n",
      "coefficient de frottement \t 1.3165524512387985\n",
      "coefficient de frottement \t 1.3162055335968381\n",
      "coefficient de frottement \t 1.315858798735511\n",
      "coefficient de frottement \t 1.315512246510403\n",
      "coefficient de frottement \t 1.3151658767772503\n",
      "coefficient de frottement \t 1.314819689391945\n",
      "coefficient de frottement \t 1.314473684210527\n",
      "coefficient de frottement \t 1.3141278610891869\n",
      "coefficient de frottement \t 1.3137822198842715\n",
      "coefficient de frottement \t 1.3134367604522752\n",
      "coefficient de frottement \t 1.3130914826498434\n",
      "coefficient de frottement \t 1.3127463863337712\n",
      "coefficient de frottement \t 1.3124014713610097\n",
      "coefficient de frottement \t 1.3120567375886523\n",
      "coefficient de frottement \t 1.3117121848739484\n",
      "coefficient de frottement \t 1.311367813074297\n",
      "coefficient de frottement \t 1.3110236220472433\n",
      "coefficient de frottement \t 1.3106796116504849\n",
      "coefficient de frottement \t 1.3103357817418673\n",
      "coefficient de frottement \t 1.3099921321793868\n",
      "coefficient de frottement \t 1.3096486628211852\n",
      "coefficient de frottement \t 1.3093053735255566\n",
      "coefficient de frottement \t 1.3089622641509437\n",
      "coefficient de frottement \t 1.3086193345559347\n",
      "coefficient de frottement \t 1.3082765845992663\n",
      "coefficient de frottement \t 1.3079340141398266\n",
      "coefficient de frottement \t 1.3075916230366484\n",
      "coefficient de frottement \t 1.3072494111489141\n",
      "coefficient de frottement \t 1.3069073783359495\n",
      "coefficient de frottement \t 1.3065655244572332\n",
      "coefficient de frottement \t 1.3062238493723857\n",
      "coefficient de frottement \t 1.3058823529411763\n",
      "coefficient de frottement \t 1.3055410350235228\n",
      "coefficient de frottement \t 1.3051998954794881\n",
      "coefficient de frottement \t 1.3048589341692782\n",
      "coefficient de frottement \t 1.3045181509532502\n",
      "coefficient de frottement \t 1.3041775456919056\n",
      "coefficient de frottement \t 1.3038371182458888\n",
      "coefficient de frottement \t 1.3034968684759916\n",
      "coefficient de frottement \t 1.3031567962431516\n",
      "coefficient de frottement \t 1.302816901408451\n",
      "coefficient de frottement \t 1.3024771838331168\n",
      "coefficient de frottement \t 1.302137643378519\n",
      "coefficient de frottement \t 1.301798279906177\n",
      "coefficient de frottement \t 1.3014590932777481\n",
      "coefficient de frottement \t 1.3011200833550387\n",
      "coefficient de frottement \t 1.3007812500000004\n",
      "coefficient de frottement \t 1.3004425930747192\n",
      "coefficient de frottement \t 1.3001041124414368\n",
      "coefficient de frottement \t 1.2997658079625296\n",
      "coefficient de frottement \t 1.299427679500521\n",
      "coefficient de frottement \t 1.2990897269180754\n",
      "coefficient de frottement \t 1.2987519500780027\n",
      "coefficient de frottement \t 1.2984143488432545\n",
      "coefficient de frottement \t 1.2980769230769222\n",
      "coefficient de frottement \t 1.2977396726422445\n",
      "coefficient de frottement \t 1.297402597402597\n",
      "coefficient de frottement \t 1.2970656972215013\n",
      "coefficient de frottement \t 1.2967289719626165\n",
      "coefficient de frottement \t 1.2963924214897486\n",
      "coefficient de frottement \t 1.2960560456668393\n",
      "coefficient de frottement \t 1.2957198443579765\n",
      "coefficient de frottement \t 1.2953838174273855\n",
      "coefficient de frottement \t 1.2950479647394348\n",
      "coefficient de frottement \t 1.2947122861586302\n",
      "coefficient de frottement \t 1.2943767815496237\n",
      "coefficient de frottement \t 1.2940414507772022\n",
      "coefficient de frottement \t 1.2937062937062938\n",
      "coefficient de frottement \t 1.2933713102019677\n",
      "coefficient de frottement \t 1.2930365001294337\n",
      "coefficient de frottement \t 1.2927018633540381\n",
      "coefficient de frottement \t 1.2923673997412672\n",
      "coefficient de frottement \t 1.2920331091567507\n",
      "coefficient de frottement \t 1.2916989914662527\n",
      "coefficient de frottement \t 1.2913650465356763\n",
      "coefficient de frottement \t 1.2910312742310666\n",
      "coefficient de frottement \t 1.290697674418604\n",
      "coefficient de frottement \t 1.2903642469646084\n",
      "coefficient de frottement \t 1.2900309917355375\n",
      "coefficient de frottement \t 1.289697908597986\n",
      "coefficient de frottement \t 1.2893649974186894\n",
      "coefficient de frottement \t 1.2890322580645162\n",
      "coefficient de frottement \t 1.2886996904024766\n",
      "coefficient de frottement \t 1.2883672942997166\n",
      "coefficient de frottement \t 1.2880350696235165\n",
      "coefficient de frottement \t 1.2877030162412988\n",
      "coefficient de frottement \t 1.2873711340206189\n",
      "coefficient de frottement \t 1.2870394228291677\n",
      "coefficient de frottement \t 1.2867078825347757\n",
      "coefficient de frottement \t 1.286376513005409\n",
      "coefficient de frottement \t 1.2860453141091661\n",
      "coefficient de frottement \t 1.2857142857142854\n",
      "coefficient de frottement \t 1.2853834276891403\n",
      "coefficient de frottement \t 1.2850527399022385\n",
      "coefficient de frottement \t 1.2847222222222212\n",
      "coefficient de frottement \t 1.2843918745178704\n",
      "coefficient de frottement \t 1.2840616966580973\n",
      "coefficient de frottement \t 1.28373168851195\n",
      "coefficient de frottement \t 1.2834018499486126\n",
      "coefficient de frottement \t 1.283072180837401\n",
      "coefficient de frottement \t 1.2827426810477658\n",
      "coefficient de frottement \t 1.2824133504492943\n",
      "coefficient de frottement \t 1.282084188911704\n",
      "coefficient de frottement \t 1.2817551963048504\n",
      "coefficient de frottement \t 1.281426372498717\n",
      "coefficient de frottement \t 1.2810977173634257\n",
      "coefficient de frottement \t 1.2807692307692302\n",
      "coefficient de frottement \t 1.2804409125865166\n",
      "coefficient de frottement \t 1.2801127626858027\n",
      "coefficient de frottement \t 1.2797847809377407\n",
      "coefficient de frottement \t 1.2794569672131144\n",
      "coefficient de frottement \t 1.2791293213828423\n",
      "coefficient de frottement \t 1.2788018433179722\n",
      "coefficient de frottement \t 1.2784745328896854\n",
      "coefficient de frottement \t 1.2781473899692934\n",
      "coefficient de frottement \t 1.2778204144282415\n",
      "coefficient de frottement \t 1.2774936061381068\n",
      "coefficient de frottement \t 1.2771669649705961\n",
      "coefficient de frottement \t 1.2768404907975457\n",
      "coefficient de frottement \t 1.2765141834909282\n",
      "coefficient de frottement \t 1.2761880429228414\n",
      "coefficient de frottement \t 1.2758620689655167\n",
      "coefficient de frottement \t 1.2755362614913182\n",
      "coefficient de frottement \t 1.2752106203727345\n",
      "coefficient de frottement \t 1.2748851454823884\n",
      "coefficient de frottement \t 1.2745598366930335\n",
      "coefficient de frottement \t 1.2742346938775506\n",
      "coefficient de frottement \t 1.2739097169089517\n",
      "coefficient de frottement \t 1.2735849056603776\n",
      "coefficient de frottement \t 1.2732602600050984\n",
      "coefficient de frottement \t 1.2729357798165146\n",
      "coefficient de frottement \t 1.2726114649681526\n",
      "coefficient de frottement \t 1.2722873153336727\n",
      "coefficient de frottement \t 1.27196333078686\n",
      "coefficient de frottement \t 1.2716395112016283\n",
      "coefficient de frottement \t 1.2713158564520233\n",
      "coefficient de frottement \t 1.2709923664122131\n",
      "coefficient de frottement \t 1.2706690409564991\n",
      "coefficient de frottement \t 1.2703458799593081\n",
      "coefficient de frottement \t 1.2700228832951956\n",
      "coefficient de frottement \t 1.2697000508388412\n",
      "coefficient de frottement \t 1.2693773824650572\n",
      "coefficient de frottement \t 1.2690548780487805\n",
      "coefficient de frottement \t 1.2687325374650746\n",
      "coefficient de frottement \t 1.2684103605891317\n",
      "coefficient de frottement \t 1.268088347296267\n",
      "coefficient de frottement \t 1.2677664974619292\n",
      "coefficient de frottement \t 1.2674448109616845\n",
      "coefficient de frottement \t 1.2671232876712333\n",
      "coefficient de frottement \t 1.2668019274663966\n",
      "coefficient de frottement \t 1.2664807302231238\n",
      "coefficient de frottement \t 1.26615969581749\n",
      "coefficient de frottement \t 1.2658388241256973\n",
      "coefficient de frottement \t 1.2655181150240684\n",
      "coefficient de frottement \t 1.2651975683890564\n",
      "coefficient de frottement \t 1.2648771840972388\n",
      "coefficient de frottement \t 1.264556962025316\n",
      "coefficient de frottement \t 1.2642369020501134\n",
      "coefficient de frottement \t 1.2639170040485828\n",
      "coefficient de frottement \t 1.2635972678977994\n",
      "coefficient de frottement \t 1.2632776934749623\n",
      "coefficient de frottement \t 1.2629582806573953\n",
      "coefficient de frottement \t 1.2626390293225482\n",
      "coefficient de frottement \t 1.2623199393479907\n",
      "coefficient de frottement \t 1.26200101061142\n",
      "coefficient de frottement \t 1.2616822429906533\n",
      "coefficient de frottement \t 1.2613636363636365\n",
      "coefficient de frottement \t 1.2610451906084323\n",
      "coefficient de frottement \t 1.2607269056032306\n",
      "coefficient de frottement \t 1.2604087812263443\n",
      "coefficient de frottement \t 1.2600908173562073\n",
      "coefficient de frottement \t 1.259773013871374\n",
      "coefficient de frottement \t 1.2594553706505291\n",
      "coefficient de frottement \t 1.259137887572473\n",
      "coefficient de frottement \t 1.2588205645161281\n",
      "coefficient de frottement \t 1.2585034013605432\n",
      "coefficient de frottement \t 1.2581863979848864\n",
      "coefficient de frottement \t 1.257869554268446\n",
      "coefficient de frottement \t 1.2575528700906347\n",
      "coefficient de frottement \t 1.2572363453309845\n",
      "coefficient de frottement \t 1.2569199798691497\n",
      "coefficient de frottement \t 1.2566037735849052\n",
      "coefficient de frottement \t 1.2562877263581487\n",
      "coefficient de frottement \t 1.2559718380688962\n",
      "coefficient de frottement \t 1.2556561085972844\n",
      "coefficient de frottement \t 1.2553405378235734\n",
      "coefficient de frottement \t 1.2550251256281406\n",
      "coefficient de frottement \t 1.2547098718914846\n",
      "coefficient de frottement \t 1.254394776494225\n",
      "coefficient de frottement \t 1.2540798393170987\n",
      "coefficient de frottement \t 1.2537650602409645\n",
      "coefficient de frottement \t 1.2534504391468004\n",
      "coefficient de frottement \t 1.2531359759157048\n",
      "coefficient de frottement \t 1.2528216704288941\n",
      "coefficient de frottement \t 1.252507522567702\n",
      "coefficient de frottement \t 1.252193532213587\n",
      "coefficient de frottement \t 1.2518796992481198\n",
      "coefficient de frottement \t 1.251566023552994\n",
      "coefficient de frottement \t 1.2512525050100198\n",
      "coefficient de frottement \t 1.250939143501127\n",
      "coefficient de frottement \t 1.250625938908363\n",
      "coefficient de frottement \t 1.2503128911138925\n",
      "coefficient de frottement \t 1.25\n"
     ]
    },
    {
     "data": {
      "image/png": "[encoded data removed]",
      "text/plain": [
       "<Figure size 640x480 with 1 Axes>"
      ]
     },
     "metadata": {},
     "output_type": "display_data"
    }
   ],
   "source": [
    "# mise en place de la boucle\n",
    "liste_xe = np.linspace(5, 6, 1000)\n",
    "volumes = []\n",
    "rapports = []\n",
    "\n",
    "for xe in liste_xe:\n",
    "    V, rapport = f_V_T_N(xe)\n",
    "    volumes.append(V)\n",
    "    rapports.append(rapport)\n",
    "\n",
    "# Tracer le rapport T/N en fonction du volume\n",
    "plt.plot(volumes, rapports, label='Rapport T/N',color='red')\n",
    "plt.axhline(0.5, color='blue', linestyle='-', label='Limite T/N = 0.5')\n",
    "plt.xlabel('Volume de béton en m$^{3}$')\n",
    "plt.ylabel('Rapport T/N')\n",
    "plt.legend()\n",
    "plt.show()"
   ]
  },
  {
   "cell_type": "markdown",
   "metadata": {},
   "source": [
    "h. Expliquez pourquoi la forme courbe de l'interface aide à réduire le volume de béton nécessaire à garder la digue en équilibre."
   ]
  },
  {
   "cell_type": "markdown",
   "metadata": {},
   "source": [
    "## Parenthèse\n",
    "\n",
    "Nous avons ici omis la deuxième équation d'équilibre statique : le théorème du moment cinétique (ou équilibre du moment des forces dans le cas statique).\n",
    "\n",
    "Pour vérifier que la digue ne bascule pas sous la pression de l'eau, il faudrait en effet vérifier que le moment des forces qui s'applique à la digue soit nul.\n",
    "\n",
    "Pour cela, il faudrait :\n",
    "\n",
    "- trouver le point d'application du poids (le centre de gravité de la digue),\n",
    "- calculer le moment du poids par rapport à un point,\n",
    "- calculer la résultante du moment des forces de pression par rapport au même point,\n",
    "- trouver le point d'application de la réaction du sol qui annule la somme des moments des forces (par rapport à un point quelconque) \n",
    "- vérifier que ce point d'application est bien situé quelque part entre la digue et le sol (sinon la digue bascule...)\n",
    "\n",
    "\n"
   ]
  }
 ],
 "metadata": {
  "kernelspec": {
   "display_name": "Python 3 (ipykernel)",
   "language": "python",
   "name": "python3"
  },
  "language_info": {
   "codemirror_mode": {
    "name": "ipython",
    "version": 3
   },
   "file_extension": ".py",
   "mimetype": "text/x-python",
   "name": "python",
   "nbconvert_exporter": "python",
   "pygments_lexer": "ipython3",
   "version": "3.9.7"
  }
 },
 "nbformat": 4,
 "nbformat_minor": 4
}
