{
 "cells": [
  {
   "cell_type": "markdown",
   "id": "cd2e39e8-d57a-494c-a029-e52959000153",
   "metadata": {},
   "source": [
    "# Controle Continu - Particules dans un cyclotron"
   ]
  },
  {
   "cell_type": "markdown",
   "id": "17308b23-ae54-4d54-bd1f-42b776a1ea3c",
   "metadata": {},
   "source": [
    "## Partie 1\n",
    "\n",
    "Nous commençons par créer un tableaux des instants de sortie des boucles \"D\" :"
   ]
  },
  {
   "cell_type": "code",
   "execution_count": 1,
   "id": "81297fac-fa80-40c0-a18f-318105de1cef",
   "metadata": {
    "tags": []
   },
   "outputs": [],
   "source": [
    "import numpy as np\n",
    "import matplotlib.pyplot as plt"
   ]
  },
  {
   "cell_type": "code",
   "execution_count": 17,
   "id": "b7a77083-d67c-4161-b5f3-3ff715449635",
   "metadata": {
    "tags": []
   },
   "outputs": [
    {
     "name": "stdout",
     "output_type": "stream",
     "text": [
      "True\n",
      "True\n",
      "True\n",
      "True\n",
      "True\n"
     ]
    }
   ],
   "source": [
    "tau = 0.5                        # Définition de la constante tau\n",
    "\n",
    "def temps_sortie(n):\n",
    "    return n + tau * np.sqrt(n)  # Définition de la fonction calculant les instants de sortie \n",
    "\n",
    "instants = []\n",
    "for n in range(0, 50):\n",
    "    a = temps_sortie(n)          # Nous associons une variable a à chaque temps de sortie afin de l'ajouter ensuite\n",
    "    instants.append(a)           # Nous ajoutons les valeurs des t de sorties dans un tableau\n",
    "    \n",
    "print(1.5 == instants[1])\n",
    "print(5.0 == instants[4])\n",
    "print(10.5 == instants[9])\n",
    "print(18 == instants[16])\n",
    "print(27.5 == instants[25])\n"
   ]
  },
  {
   "cell_type": "markdown",
   "id": "1e746d88-4828-4aff-a8c7-4b96c4e516e0",
   "metadata": {},
   "source": [
    "- Nous remarquons bien que $t_1 = 1,5$, $t_4 = 5$, $t_9 = 10.5$, $t_{16} = 18$ et $t_{25} = 27.5$.\n",
    "\n",
    "Nous souhaitons à présent calculer les valeurs des vitesses $v_x$ et $v_y$ en fonction du temps pour $t$ variant entre $t_2-1$ et $t_2$ et les tracer."
   ]
  },
  {
   "cell_type": "code",
   "execution_count": 16,
   "id": "f2825af4-27e0-4264-802a-fbc15ee0c71b",
   "metadata": {
    "tags": []
   },
   "outputs": [
    {
     "ename": "TypeError",
     "evalue": "ufunc 'bitwise_xor' not supported for the input types, and the inputs could not be safely coerced to any supported types according to the casting rule ''safe''",
     "output_type": "error",
     "traceback": [
      "\u001b[0;31m---------------------------------------------------------------------------\u001b[0m",
      "\u001b[0;31mTypeError\u001b[0m                                 Traceback (most recent call last)",
      "Cell \u001b[0;32mIn[16], line 11\u001b[0m\n\u001b[1;32m      9\u001b[0m Vx \u001b[38;5;241m=\u001b[39m []\n\u001b[1;32m     10\u001b[0m \u001b[38;5;28;01mfor\u001b[39;00m i \u001b[38;5;129;01min\u001b[39;00m \u001b[38;5;28mrange\u001b[39m(\u001b[38;5;28mlen\u001b[39m(t2)):                                      \u001b[38;5;66;03m# J'ai essayé de renseigner les valeurs de chaque vx dans un tableau pour que celui-ci ait la même dimension que t2\u001b[39;00m\n\u001b[0;32m---> 11\u001b[0m     p \u001b[38;5;241m=\u001b[39m \u001b[43mvx\u001b[49m\u001b[43m(\u001b[49m\u001b[38;5;241;43m1\u001b[39;49m\u001b[43m,\u001b[49m\u001b[43m \u001b[49m\u001b[43mt2\u001b[49m\u001b[43m)\u001b[49m\n\u001b[1;32m     12\u001b[0m     Vx\u001b[38;5;241m.\u001b[39mappend(p)\n\u001b[1;32m     14\u001b[0m \u001b[38;5;28mprint\u001b[39m(Vx)\n",
      "Cell \u001b[0;32mIn[16], line 7\u001b[0m, in \u001b[0;36mvx\u001b[0;34m(n, t)\u001b[0m\n\u001b[1;32m      6\u001b[0m \u001b[38;5;28;01mdef\u001b[39;00m \u001b[38;5;21mvx\u001b[39m(n, t):\n\u001b[0;32m----> 7\u001b[0m     \u001b[38;5;28;01mreturn\u001b[39;00m \u001b[43m(\u001b[49m\u001b[38;5;241;43m-\u001b[39;49m\u001b[38;5;241;43m1\u001b[39;49m\u001b[43m)\u001b[49m\u001b[38;5;241;43m^\u001b[39;49m\u001b[43mn\u001b[49m\u001b[43m \u001b[49m\u001b[38;5;241;43m*\u001b[39;49m\u001b[43m \u001b[49m\u001b[43mnp\u001b[49m\u001b[38;5;241;43m.\u001b[39;49m\u001b[43msqrt\u001b[49m\u001b[43m(\u001b[49m\u001b[43mn\u001b[49m\u001b[38;5;241;43m+\u001b[39;49m\u001b[38;5;241;43m1\u001b[39;49m\u001b[43m)\u001b[49m\u001b[43m \u001b[49m\u001b[38;5;241;43m*\u001b[39;49m\u001b[43m \u001b[49m\u001b[43mnp\u001b[49m\u001b[38;5;241;43m.\u001b[39;49m\u001b[43msin\u001b[49m\u001b[43m(\u001b[49m\u001b[43mnp\u001b[49m\u001b[38;5;241;43m.\u001b[39;49m\u001b[43mpi\u001b[49m\u001b[38;5;241;43m*\u001b[39;49m\u001b[43m(\u001b[49m\u001b[43mt\u001b[49m\u001b[38;5;241;43m-\u001b[39;49m\u001b[43mt2\u001b[49m\u001b[43m[\u001b[49m\u001b[38;5;241;43m-\u001b[39;49m\u001b[38;5;241;43m1\u001b[39;49m\u001b[43m]\u001b[49m\u001b[43m)\u001b[49m\u001b[43m)\u001b[49m\n",
      "\u001b[0;31mTypeError\u001b[0m: ufunc 'bitwise_xor' not supported for the input types, and the inputs could not be safely coerced to any supported types according to the casting rule ''safe''"
     ]
    }
   ],
   "source": [
    "# Pour t variant de t2-1 à t2, n est impair et égal à 1\n",
    "\n",
    "\n",
    "t2 = np.linspace(instants[2]-1, instants[2], 100)             # Créattion d'un tableau de temps entre t2-1 et t2\n",
    " \n",
    "def vx(n, t):\n",
    "    return (-1)^n * np.sqrt(n+1) * np.sin(np.pi*(t-t2[-1]))   # Création d'une fonction (qui renvoie un message d'erreur) associée à vx\n",
    "\n",
    "Vx = []\n",
    "for i in range(len(t2)):                                      # J'ai essayé de renseigner les valeurs de chaque vx dans un tableau pour que celui-ci ait la même dimension que t2\n",
    "    p = vx(1, t2)\n",
    "    Vx.append(p)\n",
    "    \n",
    "print(Vx)\n",
    "\n",
    "def vy(n, t):\n",
    "    return -(-1)^n * np.sqrt(n+1) * np.cos(np.pi*(t-t2[-1]))  # Création d'une fonction (qui renvoie un message d'erreur) associée à vy\n",
    "\n",
    "Vy = []\n",
    "for t in range(len(t2)):                                      # J'ai essayé de renseigner les valeurs de chaque vy dans un tableau pour que celui-ci ait la même dimension que t2\n",
    "    q = vy(1, t2)\n",
    "    Vy.append(q)\n",
    "    \n",
    "print(Vy)"
   ]
  },
  {
   "cell_type": "code",
   "execution_count": null,
   "id": "38ff9966-68cc-4d5d-8f38-555f9818c2f1",
   "metadata": {},
   "outputs": [],
   "source": [
    "plt.plot(t2, Vx, 'r', label = 'Vx en fonction du temps entre t2-1 et t2')                 # Trace vx en fonction du temps\n",
    "plt.plot(t2, Vy, 'b', label = 'Vy en fonction du temps entre t2-1 et t2')                 # Trace vx en fonction du temps\n",
    "plt.title('Représentation graphique de Vx et Vy variant en fonction du temps t2-1 et t2') # Ajoute un titre\n",
    "plt.xlabel('Temps t')                                                                     # Légende de l'axe x\n",
    "plt.ylabel('Vitesses Vx et Vy')                                                           # Légende de l'axe y\n",
    "plt.legend()                                                                              # Ajoute la légende des courbes sur le graphique\n",
    "plt.grid()                                                                                # Ajoute une grille et trace le graphe"
   ]
  },
  {
   "cell_type": "markdown",
   "id": "361392ce-9360-4b16-84ac-59bc6e619209",
   "metadata": {},
   "source": [
    "## Partie II\n",
    "\n",
    "Nous souhaitons à present représenter $v_x$ et $v_y$ en fonction du temps $t$ variant entre $0$ et $t_6$.\n",
    "Les expressions de $v_x$ te $v_y$ ne sont plus les mêmes qu'au dessus car le proton que nous étudions se situe entre les deux D, puis dans le D supérieur, puis entre les deux D, puis dans le D inférieur et ainsi de suite. Les expressions de $v_x$ et de $v_y$ sont différentes "
   ]
  },
  {
   "cell_type": "code",
   "execution_count": 14,
   "id": "046f018e-f20b-4f29-952d-4d794baf13f0",
   "metadata": {
    "tags": []
   },
   "outputs": [],
   "source": [
    "t6 = np.linspace(0, instants[6], 1000)"
   ]
  },
  {
   "cell_type": "code",
   "execution_count": 7,
   "id": "d8ad3307-0459-4a4d-bc26-2c113b07e802",
   "metadata": {
    "tags": []
   },
   "outputs": [
    {
     "ename": "NameError",
     "evalue": "name 'Vx' is not defined",
     "output_type": "error",
     "traceback": [
      "\u001b[0;31m---------------------------------------------------------------------------\u001b[0m",
      "\u001b[0;31mNameError\u001b[0m                                 Traceback (most recent call last)",
      "Cell \u001b[0;32mIn[7], line 1\u001b[0m\n\u001b[0;32m----> 1\u001b[0m plt\u001b[38;5;241m.\u001b[39mplot(t6, \u001b[43mVx\u001b[49m, \u001b[38;5;124m'\u001b[39m\u001b[38;5;124mr\u001b[39m\u001b[38;5;124m'\u001b[39m, label \u001b[38;5;241m=\u001b[39m \u001b[38;5;124m'\u001b[39m\u001b[38;5;124mVx en fonction du temps entre 0 et t6\u001b[39m\u001b[38;5;124m'\u001b[39m)                 \u001b[38;5;66;03m# Trace vx en fonction du temps\u001b[39;00m\n\u001b[1;32m      2\u001b[0m plt\u001b[38;5;241m.\u001b[39mplot(t6, Vy, \u001b[38;5;124m'\u001b[39m\u001b[38;5;124mb\u001b[39m\u001b[38;5;124m'\u001b[39m, label \u001b[38;5;241m=\u001b[39m \u001b[38;5;124m'\u001b[39m\u001b[38;5;124mVy en fonction du temps entre 0 et t6\u001b[39m\u001b[38;5;124m'\u001b[39m)                 \u001b[38;5;66;03m# Trace vx en fonction du temps\u001b[39;00m\n\u001b[1;32m      3\u001b[0m plt\u001b[38;5;241m.\u001b[39mtitle(\u001b[38;5;124m'\u001b[39m\u001b[38;5;124mReprésentation graphique de Vx et Vy variant en fonction du temps 0 et t6\u001b[39m\u001b[38;5;124m'\u001b[39m) \u001b[38;5;66;03m# Ajoute un titre\u001b[39;00m\n",
      "\u001b[0;31mNameError\u001b[0m: name 'Vx' is not defined"
     ]
    }
   ],
   "source": [
    "plt.plot(t6, Vx, 'r', label = 'Vx en fonction du temps entre 0 et t6')                 # Trace vx en fonction du temps\n",
    "plt.plot(t6, Vy, 'b', label = 'Vy en fonction du temps entre 0 et t6')                 # Trace vx en fonction du temps\n",
    "plt.title('Représentation graphique de Vx et Vy variant en fonction du temps 0 et t6') # Ajoute un titre\n",
    "plt.xlabel('Temps t')                                                                     # Légende de l'axe x\n",
    "plt.ylabel('Vitesses Vx et Vy')                                                           # Légende de l'axe y\n",
    "plt.legend()                                                                              # Ajoute la légende des courbes sur le graphique\n",
    "plt.grid()                                                                                # Ajoute une grille et trace le graphe"
   ]
  },
  {
   "cell_type": "code",
   "execution_count": null,
   "id": "e3c5071c-ad80-417e-8d58-1d9dd22069d7",
   "metadata": {},
   "outputs": [],
   "source": [
    "V = []\n",
    "for i in range(len(t6)):\n",
    "    r = np.sqrt(vx[i]^2+vy[i]^2)\n",
    "    V.append(r)\n",
    "    \n",
    "plt.plot(t6, V, 'k')                                                                      # Trace V en fonction du temps\n",
    "plt.title('Module de la vitesse V en fonction du temps entre 0 et t6')                    # Ajoute un titre\n",
    "plt.xlabel('Temps t')                                                                     # Légende de l'axe x\n",
    "plt.ylabel('Vitesses Vx et Vy')                                                           # Légende de l'axe y\n",
    "plt.grid()                                                                                # Ajoute une grille et trace le graphe"
   ]
  }
 ],
 "metadata": {
  "kernelspec": {
   "display_name": "Python 3 (ipykernel)",
   "language": "python",
   "name": "python3"
  },
  "language_info": {
   "codemirror_mode": {
    "name": "ipython",
    "version": 3
   },
   "file_extension": ".py",
   "mimetype": "text/x-python",
   "name": "python",
   "nbconvert_exporter": "python",
   "pygments_lexer": "ipython3",
   "version": "3.9.7"
  }
 },
 "nbformat": 4,
 "nbformat_minor": 5
}
