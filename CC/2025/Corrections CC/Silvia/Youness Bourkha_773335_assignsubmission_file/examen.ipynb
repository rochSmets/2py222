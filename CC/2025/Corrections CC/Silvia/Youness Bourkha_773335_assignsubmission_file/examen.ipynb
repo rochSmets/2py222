{
 "cells": [
  {
   "cell_type": "code",
   "execution_count": null,
   "id": "acc0b505-c793-413c-b517-d2a1f0243a60",
   "metadata": {},
   "outputs": [],
   "source": []
  },
  {
   "cell_type": "code",
   "execution_count": null,
   "id": "ecd1a38a-6c9a-45ac-9331-7faebc579673",
   "metadata": {},
   "outputs": [],
   "source": []
  },
  {
   "cell_type": "markdown",
   "id": "4bbd006d-7e6e-4d28-9ee7-e717dfadf265",
   "metadata": {},
   "source": [
    "##introduction\n",
    "l'épreuve repose sur la calcul de du module de la vitesse d'une particules dans un champs chargé et \n",
    "pour faire on définie une fonction t à travers laquelle on obtient les deux composantes qui sont exprimé avec des cosinus et sinus parce que le mouvement de la particule et sinisuidale "
   ]
  },
  {
   "cell_type": "markdown",
   "id": "293f56dd-2e23-4ff0-9747-b4dc6c223ed6",
   "metadata": {},
   "source": [
    "pour la première question on est demandé de créé un tableau contenant toutes les valeurs des instantes de 1 à 50 pour cela on utilise linspace en lui introduisant la valeur maximale et la valeur minimale et le nombre d'itration mais avant ça on fait d'abord appek au bibliothèque et on définie la fnction de t(n)"
   ]
  },
  {
   "cell_type": "code",
   "execution_count": 89,
   "id": "163575c0-9ed0-4056-84be-749949ab3809",
   "metadata": {
    "tags": []
   },
   "outputs": [],
   "source": [
    "import numpy as np\n",
    "import matplotlib.pyplot as plt\n",
    "import math as mt\n",
    "R = 51\n",
    "def t(n):\n",
    "    return n + 0.5*n**(1/2)\n",
    "    instant = 0\n",
    "    for i in range(51):\n",
    "        instant[i] = n[i] + 0.5*n[i]**(1/2)\n",
    "t = np.linspace(0,50,100)"
   ]
  },
  {
   "cell_type": "code",
   "execution_count": null,
   "id": "af01a7b8-375b-4fde-b941-bf545c2d72df",
   "metadata": {},
   "outputs": [],
   "source": [
    "\n",
    "    "
   ]
  },
  {
   "cell_type": "code",
   "execution_count": null,
   "id": "2f23a0c0-ee99-4dbd-8a15-e3cddb5984f6",
   "metadata": {
    "tags": []
   },
   "outputs": [],
   "source": [
    "\n"
   ]
  },
  {
   "cell_type": "markdown",
   "id": "85c7d738-78e1-4d1f-a3be-115387aafbcf",
   "metadata": {
    "tags": []
   },
   "source": [
    "pour cette question on accorde à chaque instant la valeur propsé dans la question avec l'outil == et n attent que ca fait un retour true dans c'est bien les bonnes valeurs "
   ]
  },
  {
   "cell_type": "code",
   "execution_count": 90,
   "id": "3bedd73b-b247-4c43-a131-ab533adaff2a",
   "metadata": {
    "tags": []
   },
   "outputs": [
    {
     "name": "stdout",
     "output_type": "stream",
     "text": [
      "True\n",
      "True\n",
      "True\n",
      "True\n",
      "True\n"
     ]
    }
   ],
   "source": [
    "print(t1 == 1.5)\n",
    "print(t4 == 5)\n",
    "print(t9==10.5)\n",
    "print(t16==18)\n",
    "print(t25 ==27.5)"
   ]
  },
  {
   "cell_type": "markdown",
   "id": "56b77e54-267f-4123-93d4-c5a40f005715",
   "metadata": {},
   "source": [
    "pour cette troisième question on introduit les expression des deux composantes de la vitesse en \n",
    "en fonction de t et après pour les calculer dans l'intervalle t(2)-1 et t(2) on construit une boucle for"
   ]
  },
  {
   "cell_type": "code",
   "execution_count": 91,
   "id": "1b97aaa1-be4f-44b3-9a2d-ab6ec5cd0a7f",
   "metadata": {
    "tags": []
   },
   "outputs": [],
   "source": [
    "def vx(t):\n",
    "     return (-1)**n*(n+1)**(1/2)*mt.sin(3.14*(t-t(n+1)))\n",
    "def vy(t):\n",
    "    return -(-1)*n*(n+1)**(1/2)*mt.cos(3.14*(t-t(n+1)))\n",
    "    vitesse_x = 0\n",
    "    vitesse_y = 0\n",
    "    for i in range (t(2)-1):\n",
    "        vitesse_x[i] = (-1)**2*(2+1)**(1/2)*mt.sin(3.14*(t[i]-t(2+1)))\n",
    "        vitesse_y[i] = -(-1)*2*(2+1)**(1/2)*mt.cos(3.14*(t[i]-t(2+1)))\n",
    "\n",
    "            \n"
   ]
  },
  {
   "cell_type": "code",
   "execution_count": null,
   "id": "725c8774-a7f0-4009-a179-c178263f8051",
   "metadata": {},
   "outputs": [],
   "source": []
  },
  {
   "cell_type": "code",
   "execution_count": null,
   "id": "a0de260e-753c-43f9-825a-af48233446e9",
   "metadata": {},
   "outputs": [],
   "source": [
    "pareil pour le deuxième intervalle allant de t(4)-1 à t(4)"
   ]
  },
  {
   "cell_type": "code",
   "execution_count": 92,
   "id": "7285c6be-9442-4949-822b-87e2454156dc",
   "metadata": {
    "tags": []
   },
   "outputs": [],
   "source": [
    " def vx(t):\n",
    "    return (-1)**n*(n+1)**(1/2)*mt.sin(3.14*(t-t(n+1)))\n",
    "def vy(t):\n",
    "    return -(-1)*n*(n+1)**(1/2)*mt.cos(3.14*(t-t(n+1)))\n",
    "    vitesse_x1 = 0\n",
    "    vitesse_y1 = 0\n",
    "    \n",
    "    for i in range (t(4)-1):\n",
    "        vitesse_x1[i] = (-1)**4*(4+1)**(1/2)*np.sin(3.14*(t[i]-t(4+1)))\n",
    "        vitesse_y1[i] = -(-1)*4*(4+1)**(1/2)*np.cos(3.14*(t[i]-t(4+1)))\n",
    "\n",
    "\n"
   ]
  },
  {
   "cell_type": "markdown",
   "id": "4347537f-8a16-44fb-a8bc-275a301fb8d3",
   "metadata": {},
   "source": [
    "pour le graphe je l'ai pas obtenu l'erreur que j'ai fait c'est que j'ai pas défini une fonction à deux variables n et t du coup il reconnait pas le n je l'ai meme remplacé dans les expressions des fonctions mais aucun réultat "
   ]
  },
  {
   "cell_type": "code",
   "execution_count": null,
   "id": "9d66c9da-112a-47f3-a8b8-7e9d2adc4e67",
   "metadata": {
    "tags": []
   },
   "outputs": [],
   "source": [
    " def vix(t):\n",
    "    return (-1)**2*(2+1)**(1/2)*mt.sin(3.14*(t-t(3)))\n",
    "def vy(t):\n",
    "    return -(-1)*2*(2+1)**(1/2)*mt.cos(3.14*(t-t(3)))\n",
    "\n",
    "\n",
    "\n",
    "\n",
    "t = np.linspace(1, 10, 1000)\n",
    "        \n",
    "plt.plot(vix(t), t, label = 'vix en fonction de t')\n",
    "plt.plot(vix(t), t ,label = 'viy en fonction de t')\n",
    "plt.xlabel('t')\n",
    "plt.ylabel('vix(t),viy(t)')\n",
    "plt.legend()\n",
    "plt.show()"
   ]
  },
  {
   "cell_type": "code",
   "execution_count": null,
   "id": "93c46672-e8d7-4f43-9f95-114dffca6150",
   "metadata": {},
   "outputs": [],
   "source": [
    "def vix1(t):\n",
    "    return (-1)**4*(4+1)**(1/2)*mt.sin(3.14*(t-t(4+1)))\n",
    "def vy1(t):\n",
    "    return -(-1)*2*(2+1)**(1/2)*mt.cos(3.14*(t-t(4+1)))\n",
    "\n",
    "\n",
    "\n",
    "\n",
    "t = np.linspace(1, 10, 1000)\n",
    "        \n",
    "plt.plot(vix1(t), t, label = 'vix en fonction de t')\n",
    "plt.plot(vix1(t), t ,label = 'viy en fonction de t')\n",
    "plt.xlabel('t')\n",
    "plt.ylabel('vix1(t),viy1(t)')\n",
    "plt.legend()\n",
    "plt.show()"
   ]
  },
  {
   "cell_type": "markdown",
   "id": "1edd03b0-45d1-4628-890f-3a0a8f916c44",
   "metadata": {},
   "source": [
    "pour déterminer le maximum j'ai utilisé la bibliohthèque numpy en important max"
   ]
  },
  {
   "cell_type": "code",
   "execution_count": null,
   "id": "9905472d-7c91-4d0a-a0d7-ae2976ae1079",
   "metadata": {
    "tags": []
   },
   "outputs": [],
   "source": [
    "# maximum de vx,vy partant de t(2)-1 à t(2)\n",
    "np.max(vitesse_x)\n",
    "np.max(vitesse_y)\n",
    "#maximum de vx,vy partant de t(4)-1 à t(4)\n",
    "np.max(vitesse_x1)\n",
    "np.max(vitesse_y1)"
   ]
  },
  {
   "cell_type": "code",
   "execution_count": null,
   "id": "67611f5e-9fba-4044-a27d-d512c88510bf",
   "metadata": {},
   "outputs": [],
   "source": []
  },
  {
   "cell_type": "code",
   "execution_count": null,
   "id": "480e9bc8-060e-4dc1-ac21-3d0ce23ce1b5",
   "metadata": {
    "tags": []
   },
   "outputs": [],
   "source": [
    "def vx(t):\n",
    "     return (-1)**n*(n+1)**(1/2)*mt.sin(3.14*(t-t(n+1)))\n",
    "def vy(t):\n",
    "    return -(-1)*n*(n+1)**(1/2)*mt.cos(3.14*(t-t(n+1)))\n",
    "    for i in range (t(6)-1):\n",
    "        vitesse_x2 = (-1)**n*(n+1)**(1/2)*mt.sin(3.14*(t-t(n+1)))\n",
    "        vitesse_y2 = -(-1)*n*(n+1)**(1/2)*mt.cos(3.14*(t-t(n+1)))\n",
    "        \n",
    "        \n",
    "        \n",
    "plt.plot(vx(t), t, label = 'vx en fonction de t')\n",
    "plt.plot(vy(t), t ,label = 'vy en fonction de t')\n",
    "plt.xlabel('t')\n",
    "plt.ylabel('vx(t),vy(t)')\n",
    "plt.xlim(t(6))\n",
    "plt.legend()\n",
    "plt.show()        "
   ]
  },
  {
   "cell_type": "markdown",
   "id": "47aff718-61d3-4e5c-b635-31e9ad61fb12",
   "metadata": {},
   "source": [
    "j'introduis l'expression du mudule en le considérant une fonction après j'ai essayé de le dessiner dans le "
   ]
  },
  {
   "cell_type": "code",
   "execution_count": null,
   "id": "967f6a51-1489-4677-beeb-76f468beb37f",
   "metadata": {},
   "outputs": [],
   "source": [
    "def module(t):\n",
    "    return (((-1)**n*(n+1)**(1/2)*mt.sin(3.14*(t-t(n+1))))**2 + (-(-1)*n*(n+1)**(1/2)*mt.cos(3.14*(t-t(n+1))))**2)**(1/2)\n",
    "plt.plot(vx(t), t, label = 'vx en fonction de t')\n",
    "plt.xlabel('t')\n",
    "plt.ylabel('module(t)')\n",
    "plt.xlim(t(6))\n",
    "plt.legend()\n",
    "plt.show()     "
   ]
  },
  {
   "cell_type": "markdown",
   "id": "cf6651ad-8ae6-4c6a-8627-e7b4280dfa97",
   "metadata": {},
   "source": [
    "#conclusion \n",
    "en gros c'est pas bien réussi l'erreur que j'ai commis c'est que j'ai pas introduit une fonction à deux variable n et t dans les expressions des composantes de vitesse et du coup le dessin des graphes était bien compliqué à achever"
   ]
  }
 ],
 "metadata": {
  "kernelspec": {
   "display_name": "Python 3 (ipykernel)",
   "language": "python",
   "name": "python3"
  },
  "language_info": {
   "codemirror_mode": {
    "name": "ipython",
    "version": 3
   },
   "file_extension": ".py",
   "mimetype": "text/x-python",
   "name": "python",
   "nbconvert_exporter": "python",
   "pygments_lexer": "ipython3",
   "version": "3.9.7"
  }
 },
 "nbformat": 4,
 "nbformat_minor": 5
}
