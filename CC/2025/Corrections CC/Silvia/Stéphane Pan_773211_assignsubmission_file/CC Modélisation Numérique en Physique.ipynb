{
 "cells": [
  {
   "cell_type": "markdown",
   "id": "0582e9eb-d89e-4ef3-b330-1f23b8298098",
   "metadata": {},
   "source": [
    "### **Contrôle Continu - LU2PY222 : Modélisaiton Numérique en Physique**"
   ]
  },
  {
   "cell_type": "markdown",
   "id": "325994f4-70c5-41a7-96ee-7cfde4b70685",
   "metadata": {},
   "source": [
    "##### **Partie 1**"
   ]
  },
  {
   "cell_type": "code",
   "execution_count": 148,
   "id": "01aab304-268b-4506-adca-ad8206a6230b",
   "metadata": {
    "tags": []
   },
   "outputs": [
    {
     "name": "stdout",
     "output_type": "stream",
     "text": [
      "1.5\n",
      "2.7071067811865475\n",
      "3.8660254037844384\n",
      "5.0\n",
      "6.118033988749895\n",
      "7.224744871391589\n",
      "8.322875655532295\n",
      "9.414213562373096\n",
      "10.5\n",
      "11.581138830084189\n",
      "12.658312395177699\n",
      "13.732050807568877\n",
      "14.802775637731994\n",
      "15.87082869338697\n",
      "16.93649167310371\n",
      "18.0\n",
      "19.06155281280883\n",
      "20.121320343559642\n",
      "21.179449471770337\n",
      "22.23606797749979\n",
      "23.29128784747792\n",
      "24.345207879911715\n",
      "25.39791576165636\n",
      "26.44948974278318\n",
      "27.5\n",
      "28.549509756796393\n",
      "29.598076211353316\n",
      "30.64575131106459\n",
      "31.69258240356725\n",
      "32.73861278752583\n",
      "33.78388218141501\n",
      "34.82842712474619\n",
      "35.872281323269014\n",
      "36.91547594742265\n",
      "37.95803989154981\n",
      "39.0\n",
      "40.04138126514911\n",
      "41.08220700148449\n",
      "42.1224989991992\n",
      "43.16227766016838\n",
      "44.201562118716424\n",
      "45.24037034920393\n",
      "46.278719262151\n",
      "47.3166247903554\n",
      "48.35410196624969\n",
      "49.39116499156263\n",
      "50.42782730020052\n",
      "51.46410161513776\n",
      "52.5\n",
      "53.53553390593274\n"
     ]
    }
   ],
   "source": [
    "\n",
    "# importation des modules\n",
    "import numpy as np\n",
    "import matplotlib.pyplot as plt\n",
    "\n",
    "# Paramètres\n",
    "tau = 0.5\n",
    "\n",
    "\n",
    "# Création du tableau contenant les  instants de sortie des boucles \"D\"\n",
    "for n in range(1,51):\n",
    "    print(n + tau * np.sqrt(n))\n"
   ]
  },
  {
   "cell_type": "markdown",
   "id": "ae54285a-82ac-4e4f-b663-026f14204707",
   "metadata": {
    "tags": []
   },
   "source": [
    "###### **1. Créer un tableau contenant les instants de sortie des boucles \"D\" : $t_0$, $t_1$, ... jusqu'à $t_{50}$ inclus.**"
   ]
  },
  {
   "cell_type": "code",
   "execution_count": 183,
   "id": "8f9b4564-f05f-4d92-93bb-c433f0a7a84b",
   "metadata": {
    "tags": []
   },
   "outputs": [
    {
     "name": "stdout",
     "output_type": "stream",
     "text": [
      "<function t_n at 0x7f6b5a35be50>\n"
     ]
    }
   ],
   "source": [
    "# importation des modules\n",
    "import numpy as np\n",
    "import matplotlib.pyplot as plt\n",
    "\n",
    "# Paramètres\n",
    "tau = 0.5\n",
    "\n",
    "# Création du tableau contenant les  instants de sortie des boucles \"D\"\n",
    "def t_n(n):\n",
    "    for n in range(1,51): \n",
    "        t_n = n + tau * np.sqrt(n)\n",
    "    return t_n\n",
    "\n",
    "print(t_n)"
   ]
  },
  {
   "cell_type": "markdown",
   "id": "aada27ce-353d-43ef-8bb2-643961bdab22",
   "metadata": {},
   "source": [
    "###### **2. Vérifier que $t_1=1.5$, $t_4=5$, $t_9=10.5$, $t_{16}=18$, et $t_{25}=27.5$ avec des opérateurs booléens.**"
   ]
  },
  {
   "cell_type": "code",
   "execution_count": 184,
   "id": "fad63ad0-854c-4e83-b0f8-5a2eaa37cfdb",
   "metadata": {
    "tags": []
   },
   "outputs": [
    {
     "data": {
      "text/plain": [
       "True"
      ]
     },
     "execution_count": 184,
     "metadata": {},
     "output_type": "execute_result"
    }
   ],
   "source": [
    "# t_1 = 1.5\n",
    "n = 1\n",
    "t_n = n + tau * np.sqrt(n)\n",
    "t_n == 1.5"
   ]
  },
  {
   "cell_type": "code",
   "execution_count": 154,
   "id": "b2ed7269-ca5f-456f-ac60-b82fa50594b3",
   "metadata": {
    "tags": []
   },
   "outputs": [
    {
     "data": {
      "text/plain": [
       "True"
      ]
     },
     "execution_count": 154,
     "metadata": {},
     "output_type": "execute_result"
    }
   ],
   "source": [
    "# t_4 = 5\n",
    "n = 4\n",
    "t_n = n + tau * np.sqrt(n)\n",
    "t_n == 5.0"
   ]
  },
  {
   "cell_type": "code",
   "execution_count": 155,
   "id": "9d7a0b14-572f-4fd9-80ee-50259e17d0a9",
   "metadata": {
    "tags": []
   },
   "outputs": [
    {
     "data": {
      "text/plain": [
       "True"
      ]
     },
     "execution_count": 155,
     "metadata": {},
     "output_type": "execute_result"
    }
   ],
   "source": [
    "# t_9 = 10.5\n",
    "n = 9\n",
    "t_n = n + tau * np.sqrt(n)\n",
    "t_n == 10.5"
   ]
  },
  {
   "cell_type": "code",
   "execution_count": 157,
   "id": "0d31f906-720c-421c-90de-139171025ac4",
   "metadata": {
    "tags": []
   },
   "outputs": [
    {
     "data": {
      "text/plain": [
       "True"
      ]
     },
     "execution_count": 157,
     "metadata": {},
     "output_type": "execute_result"
    }
   ],
   "source": [
    "# t_16 = 18\n",
    "n = 16\n",
    "t_n = n + tau * np.sqrt(n)\n",
    "t_n == 18"
   ]
  },
  {
   "cell_type": "code",
   "execution_count": 158,
   "id": "3c6c9a0a-d2a0-4803-8dd3-a0f8ac8c2437",
   "metadata": {
    "tags": []
   },
   "outputs": [
    {
     "data": {
      "text/plain": [
       "True"
      ]
     },
     "execution_count": 158,
     "metadata": {},
     "output_type": "execute_result"
    }
   ],
   "source": [
    "# t_25 = 27.5\n",
    "n = 25\n",
    "t_n = n + tau * np.sqrt(n)\n",
    "t_n == 27.5"
   ]
  },
  {
   "cell_type": "markdown",
   "id": "a5f1ee86-fdc7-4b6e-a43a-b00fe7e54e9e",
   "metadata": {},
   "source": [
    "##### **3. Calculer les valeurs de $v_x$ et $v_y$ en fonction du temps pour $t$ variant de $t_2−1$ à $t_2$. Vous utiliserez un échantillonage suffisant pour le temps $t$, dans un tableau distinct de celui de la question précédente. Faire de même pour $t$ variant de $t_4-1$ à $t_4$.**"
   ]
  },
  {
   "cell_type": "code",
   "execution_count": 197,
   "id": "8863223e-ac40-43d0-bc89-4bcb05bdd06f",
   "metadata": {
    "tags": []
   },
   "outputs": [
    {
     "name": "stdout",
     "output_type": "stream",
     "text": [
      "2.7071067811865475\n",
      "0\n",
      "-0.5857864376269049\n"
     ]
    }
   ],
   "source": [
    "epsilon = (-1)**n\n",
    "\n",
    "n = 2\n",
    "t_n = n + tau * np.sqrt(n)\n",
    "print(t_n)\n",
    "        \n",
    "v_x = 0\n",
    "\n",
    "v_y = epsilon * (np.sqrt(n) + ((t_n - 1) - t_n) / tau)\n",
    "\n",
    "print(v_x)\n",
    "print(v_y)"
   ]
  },
  {
   "cell_type": "code",
   "execution_count": 198,
   "id": "3bfd22c1-e968-48d4-b3ea-df1b629515cd",
   "metadata": {
    "tags": []
   },
   "outputs": [
    {
     "name": "stdout",
     "output_type": "stream",
     "text": [
      "5.0\n",
      "0\n",
      "0.0\n"
     ]
    }
   ],
   "source": [
    "epsilon = (-1)**n\n",
    "\n",
    "n = 4\n",
    "t_n = n + tau * np.sqrt(n)\n",
    "print(t_n)\n",
    "\n",
    "v_x = 0\n",
    "\n",
    "v_y = epsilon * (np.sqrt(n) + ((t_n - 1) - t_n) / tau)\n",
    "\n",
    "print(v_x)\n",
    "print(v_y)"
   ]
  },
  {
   "cell_type": "markdown",
   "id": "0c0a3c3b-6787-4bc1-b136-c985d0b77bfd",
   "metadata": {},
   "source": [
    "###### **4.Représenter dans un graphique $v_x$ et $v_y$ en fonction de $t$ pour $t$ variant de $t_2-1$ a $t_2$. Faire de même pour $t$ variant de $t_4-1$ à $t_4$.**"
   ]
  },
  {
   "cell_type": "code",
   "execution_count": 202,
   "id": "0934e534-1f2f-476e-9228-12a978caf537",
   "metadata": {
    "tags": []
   },
   "outputs": [
    {
     "data": {
      "text/plain": [
       "[<matplotlib.lines.Line2D at 0x7f6b580204c0>,\n",
       " <matplotlib.lines.Line2D at 0x7f6b58020520>]"
      ]
     },
     "execution_count": 202,
     "metadata": {},
     "output_type": "execute_result"
    },
    {
     "data": {
      "image/png": "[encoded data removed]",
      "text/plain": [
       "<Figure size 640x480 with 1 Axes>"
      ]
     },
     "metadata": {},
     "output_type": "display_data"
    }
   ],
   "source": [
    "plt.plot(v_x, v_y, t_n)\n"
   ]
  },
  {
   "cell_type": "code",
   "execution_count": null,
   "id": "50b102f1-0022-4f61-8830-336566ac863f",
   "metadata": {},
   "outputs": [],
   "source": []
  },
  {
   "cell_type": "markdown",
   "id": "0d6204e5-e5c3-4b60-bd33-91a695f3b7eb",
   "metadata": {
    "tags": []
   },
   "source": [
    "##### **Partie 2**"
   ]
  },
  {
   "cell_type": "code",
   "execution_count": 211,
   "id": "e8fdd01c-e3c5-4c67-b8ae-2ff7d206948d",
   "metadata": {
    "tags": []
   },
   "outputs": [
    {
     "ename": "SyntaxError",
     "evalue": "unexpected EOF while parsing (3923330315.py, line 2)",
     "output_type": "error",
     "traceback": [
      "\u001b[0;36m  Cell \u001b[0;32mIn[211], line 2\u001b[0;36m\u001b[0m\n\u001b[0;31m    \u001b[0m\n\u001b[0m    ^\u001b[0m\n\u001b[0;31mSyntaxError\u001b[0m\u001b[0;31m:\u001b[0m unexpected EOF while parsing\n"
     ]
    }
   ],
   "source": [
    "v_x = epsilon * np.sqrt(n + 1) * sin(pi * (t_n - (t_n + 1))\n",
    "\n"
   ]
  },
  {
   "cell_type": "code",
   "execution_count": null,
   "id": "4c2d6bb0-4b72-4904-8047-b605abc6dae8",
   "metadata": {},
   "outputs": [],
   "source": []
  }
 ],
 "metadata": {
  "kernelspec": {
   "display_name": "Python 3 (ipykernel)",
   "language": "python",
   "name": "python3"
  },
  "language_info": {
   "codemirror_mode": {
    "name": "ipython",
    "version": 3
   },
   "file_extension": ".py",
   "mimetype": "text/x-python",
   "name": "python",
   "nbconvert_exporter": "python",
   "pygments_lexer": "ipython3",
   "version": "3.9.7"
  }
 },
 "nbformat": 4,
 "nbformat_minor": 5
}
