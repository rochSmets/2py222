{
 "cells": [
  {
   "cell_type": "markdown",
   "id": "2fab5093-f6ef-43ab-b99c-f7b05b8c690a",
   "metadata": {},
   "source": [
    "## CC1 Modélisation Numérique en Physique "
   ]
  },
  {
   "cell_type": "markdown",
   "id": "429dc6bc-180a-415c-b188-450660853f9e",
   "metadata": {},
   "source": [
    "# Particule dans un cyclotron "
   ]
  },
  {
   "cell_type": "markdown",
   "id": "e284f0c9-65c4-4250-b4e6-c15ef1bfec77",
   "metadata": {},
   "source": [
    "## Partie I"
   ]
  },
  {
   "cell_type": "markdown",
   "id": "2ad88362-ed4a-4b19-9c02-980d9d8b03c9",
   "metadata": {},
   "source": [
    "Dans ce projet on veut monitorer le mouvement d'un proton à l'intérieur des différentes parties d'un cyclotron. \n",
    "On sait que le proton est injecté à l'instant  $t_0=0$ dans la partie D férieure du cyclotron. \n",
    "Les instants $t_n$ sont donnés par $$t_n=n+\\tau \\sqrt{n}.$$ On pose $\\tau=0.5$ "
   ]
  },
  {
   "cell_type": "code",
   "execution_count": 7,
   "id": "f7ad5dc4-a8c6-45e8-b851-bf053ab6a66b",
   "metadata": {
    "tags": []
   },
   "outputs": [
    {
     "name": "stdout",
     "output_type": "stream",
     "text": [
      "[ 0.          1.5         2.70710678  3.8660254   5.          6.11803399\n",
      "  7.22474487  8.32287566  9.41421356 10.5        11.58113883 12.6583124\n",
      " 13.73205081 14.80277564 15.87082869 16.93649167 18.         19.06155281\n",
      " 20.12132034 21.17944947 22.23606798 23.29128785 24.34520788 25.39791576\n",
      " 26.44948974 27.5        28.54950976 29.59807621 30.64575131 31.6925824\n",
      " 32.73861279 33.78388218 34.82842712 35.87228132 36.91547595 37.95803989\n",
      " 39.         40.04138127 41.082207   42.122499   43.16227766 44.20156212\n",
      " 45.24037035 46.27871926 47.31662479 48.35410197 49.39116499 50.4278273\n",
      " 51.46410162 52.5        53.53553391]\n"
     ]
    }
   ],
   "source": [
    "#Question 1 \n",
    "#importation des modules nécéssaires \n",
    "import numpy as np \n",
    "import matplotlib.pyplot as plt \n",
    "\n",
    "# on écrit les paramètres du problème \n",
    "tau = 0.5\n",
    "n = np.arange (0, 51) \n",
    "#On définit la fonction t(n) \n",
    "def t(n): \n",
    "    return n + tau * n**(1/2)\n",
    "print(t(n))\n",
    "    \"\"\" Ici j'ai défini la fonction donnée dans l'énoncé pour t(n). On voulait un tableau de temps de t0 à t50, j'ai donc créé un tableau de valeurs n de 0 à 50 avec la fonction de Nympy arange()\"\"\"\n",
    "\n"
   ]
  },
  {
   "cell_type": "code",
   "execution_count": 8,
   "id": "a0ad0afb-aea3-478b-a284-2be929fc6c1e",
   "metadata": {
    "tags": []
   },
   "outputs": [
    {
     "name": "stdout",
     "output_type": "stream",
     "text": [
      "1.5\n",
      "5.0\n",
      "10.5\n",
      "18.0\n",
      "27.5\n",
      "53.53553390593274\n"
     ]
    }
   ],
   "source": [
    "# Question 2 \n",
    "print(t(1))\n",
    "print(t(4))\n",
    "print(t(9))\n",
    "print(t(16))\n",
    "print(t(25))\n",
    "print(t(50))\n",
    "\n",
    "\"\"\" On vérifie que les valeurs demandées soient correctes \"\"\""
   ]
  },
  {
   "cell_type": "markdown",
   "id": "cf88c0fb-2b72-4792-b904-2c1884406afa",
   "metadata": {},
   "source": [
    "### Question 3.\n",
    "On cherche à trouver la vitesse, dont on a les expressions dans l'énoncé. \n",
    "On va définir la variable  $\\epsilon_n$ \n"
   ]
  },
  {
   "cell_type": "code",
   "execution_count": 26,
   "id": "4be5d951-f6d1-443a-a829-cc7a2b2159ee",
   "metadata": {
    "tags": []
   },
   "outputs": [
    {
     "ename": "SyntaxError",
     "evalue": "invalid syntax (908716772.py, line 10)",
     "output_type": "error",
     "traceback": [
      "\u001b[0;36m  Cell \u001b[0;32mIn[26], line 10\u001b[0;36m\u001b[0m\n\u001b[0;31m    def v_y(t):\u001b[0m\n\u001b[0m    ^\u001b[0m\n\u001b[0;31mSyntaxError\u001b[0m\u001b[0;31m:\u001b[0m invalid syntax\n"
     ]
    }
   ],
   "source": [
    "# Données du probleme \n",
    "\n",
    "epsilon_n = (-1)**n \n",
    "n = np.arange (0, 51) \n",
    "print(t(n+1))\n",
    "#On définit les fonctions de la vitesse \n",
    "# Pour t variant de t2-1 à t2 \n",
    "def v_x(t) :\n",
    "    return epsilon_n * (n-1)**(1/2) * np.sin(np.pi*(t - t(n+1))\n",
    "def v_y(t):\n",
    "    return -epsilon_n * (n-1)**(1/2) * np.cos(np.pi*(t - t(n+1))                                      \n",
    "                                             \n",
    "                                             \n",
    "                                             \n",
    "                                             \n",
    "                                             \n",
    "                                             "
   ]
  }
 ],
 "metadata": {
  "kernelspec": {
   "display_name": "Python 3 (ipykernel)",
   "language": "python",
   "name": "python3"
  },
  "language_info": {
   "codemirror_mode": {
    "name": "ipython",
    "version": 3
   },
   "file_extension": ".py",
   "mimetype": "text/x-python",
   "name": "python",
   "nbconvert_exporter": "python",
   "pygments_lexer": "ipython3",
   "version": "3.9.7"
  }
 },
 "nbformat": 4,
 "nbformat_minor": 5
}
