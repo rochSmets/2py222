{
 "cells": [
  {
   "cell_type": "markdown",
   "id": "ff4c673c-be3f-458b-b74b-c56e6a79c5b4",
   "metadata": {},
   "source": [
    "# Particule dans un Cyclotron"
   ]
  },
  {
   "cell_type": "markdown",
   "id": "79fa7f9e-6b87-40c5-b112-bc5c0ec7e2d6",
   "metadata": {},
   "source": [
    "Au temps $t_0=0$ **(ici le temps est sans unité)**, un proton est injecté au niveau du D inférieur sans vitesse. Une tension alternative est appliquée entre les D. Elle crée un champ électrique dont la direction et le sens sont toujours **similaires** à ceux de la vitesse du proton lorsqu’il est entre les D. Les instants $t_n$ où le proton sort des D (soit inférieur, soit supérieur, voir la figure) sont donnés, **sans unité**, par\n",
    "$$t_n=n+\\tau \\sqrt{n}.$$\n",
    "On choisit $\\tau=0.5$. Le temps passé par le proton dans un D (supérieur ou inférieur) est toujours de $1$.\n",
    "La trajectoire du proton est plane. On s’intéresse à sa vitesse. Ses composantes sont données, dans un repère et des unités appropriés, **en fonction de sa position dans le cyclotron:**\n",
    "1) Pour $t$ variant de $t_n$ à $t_{n+1}-1$ c’est-à-dire quand il est entre les D :\n",
    "$$\n",
    "v_x(t) = 0  \\qquad  v_y(t) = \\epsilon_n \\left( \\sqrt{n} + (t-t_n)/\\tau \\right)\n",
    "$$\n",
    "2) Pour $t$ variant de $t_{n+1}-1$ à $t_{n+1}$ c’est-à-dire quand il est dans D supérieur ou D inférieur.\n",
    "$$\n",
    "v_x(t) = \\epsilon_n \\sqrt{n+1} \\sin \\left( \\pi (t-t_{n+1}) \\right) \\qquad v_y(t) = -\\epsilon_n \\sqrt{n+1} \\cos \\left( \\pi (t-t_{n+1}) \\right)\n",
    "$$\n",
    "\n",
    "Dans ces expressions, \n",
    "* $\\epsilon_n$ vaut $1$ pour $n$ pair \n",
    "* $\\epsilon_n$ vaut $-1$ pour $n$ impair.\n",
    "On pourra prendre $\\epsilon_n = (-1)^n$."
   ]
  },
  {
   "cell_type": "markdown",
   "id": "fc019c55-d04b-4ff0-bbb2-80070d2c37d8",
   "metadata": {
    "tags": []
   },
   "source": [
    "![](Figure3.png)"
   ]
  },
  {
   "cell_type": "markdown",
   "id": "ab0b708b-63c7-4baf-961c-9035f9b0088e",
   "metadata": {},
   "source": [
    "On commence par importer les modules nécéssaires : `numpy` et `matplotlib.pyplot`"
   ]
  },
  {
   "cell_type": "code",
   "execution_count": 209,
   "id": "cf05175f-47cd-4305-9a0a-409da19c022c",
   "metadata": {
    "tags": []
   },
   "outputs": [],
   "source": [
    "# import les modules numpy et matplotlib\n",
    "import numpy as np\n",
    "import matplotlib.pyplot as plt"
   ]
  },
  {
   "cell_type": "markdown",
   "id": "e003df3d-6d1b-406e-8adc-42d801778890",
   "metadata": {
    "tags": []
   },
   "source": [
    "**Partie I**"
   ]
  },
  {
   "cell_type": "code",
   "execution_count": 211,
   "id": "e5bbb262-0a0e-4bd4-b662-53dd91f2d941",
   "metadata": {
    "tags": []
   },
   "outputs": [
    {
     "name": "stdout",
     "output_type": "stream",
     "text": [
      "instants :  [ 0.  1.  2.  3.  4.  5.  6.  7.  8.  9. 10. 11. 12. 13. 14. 15. 16. 17.\n",
      " 18. 19. 20. 21. 22. 23. 24. 25. 26. 27. 28. 29. 30. 31. 32. 33. 34. 35.\n",
      " 36. 37. 38. 39. 40. 41. 42. 43. 44. 45. 46. 47. 48. 49. 50. 51. 52. 53.]\n",
      "Vérification :  t(1) = 1.5 t(4) = 5.0 t(9) = 10.5 t(16) = 18.0 t(25) = 27.5\n"
     ]
    }
   ],
   "source": [
    "tow = 0.5\n",
    "\n",
    "# definition d'une fonction t(n) pour calculer les valeurs des instants t avec la formule donnée\n",
    "\n",
    "def t(n):\n",
    "    return n + tow*n**(1/2)\n",
    "\n",
    "instants = np.arange(t(0),t(50),1,dtype = 'float64') \n",
    "print(\"instants : \", instants)\n",
    "\n",
    "# vérification\n",
    "if t(1)==1.5 and t(4) == 5 and t(9) == 10.5 and t(16) == 18 and t(25) == 27.5:\n",
    "    print(\"Vérification : \" , \"t(1) =\",t(1),\"t(4) =\",t(4),\"t(9) =\",t(9),\"t(16) =\",t(16),\"t(25) =\",t(25))"
   ]
  },
  {
   "cell_type": "markdown",
   "id": "be1b30b2-0264-42e9-914e-9cfc9ef96cdc",
   "metadata": {
    "tags": []
   },
   "source": [
    "On vaut calculer les valeurs de $v_x$ et $v_y$ en fonction du temps qui varient entre $t_2-1$ et $t_2$.C'est à dire que le proton est soit dans D-supérieure ou D-inférieure."
   ]
  },
  {
   "cell_type": "code",
   "execution_count": 213,
   "id": "a7b5d557-6d6e-49fd-a0bb-e7318ddb7ff9",
   "metadata": {
    "tags": []
   },
   "outputs": [],
   "source": [
    "temps = np.linspace((t(2)-1),t(2),1000) # tableau de temps varient entre t2-1 et t2"
   ]
  },
  {
   "cell_type": "code",
   "execution_count": 218,
   "id": "1523c4b3-1f15-4a40-8d90-171f7f1e7535",
   "metadata": {
    "tags": []
   },
   "outputs": [],
   "source": [
    "def vx(k,n):   # définition d'une fonction pour calculer la vitesse suivant l'ax\n",
    "    e = (-1)**n\n",
    "    l = e * (n + 1)**(1/2)*np.sin(np.pi*(k-t(n+1)))\n",
    "    return l \n",
    "def vy(k,n):    # définition d'une fonction pour calculer la vitesse suivant l'axe y \n",
    "    \n",
    "    e = (-1)**n\n",
    "    return (-1)*e * (n + 1)**(1/2)*np.cos(np.pi*(k-t(n+1))) \n",
    "   "
   ]
  },
  {
   "cell_type": "code",
   "execution_count": 235,
   "id": "826bafa1-b4f5-4875-990b-da1b968c6823",
   "metadata": {
    "tags": []
   },
   "outputs": [
    {
     "ename": "TypeError",
     "evalue": "'list' object is not callable",
     "output_type": "error",
     "traceback": [
      "\u001b[0;31m---------------------------------------------------------------------------\u001b[0m",
      "\u001b[0;31mTypeError\u001b[0m                                 Traceback (most recent call last)",
      "Cell \u001b[0;32mIn[235], line 1\u001b[0m\n\u001b[0;32m----> 1\u001b[0m vxx \u001b[38;5;241m=\u001b[39m np\u001b[38;5;241m.\u001b[39marray([\u001b[43mvx\u001b[49m\u001b[43m(\u001b[49m\u001b[43mtemps\u001b[49m\u001b[43m,\u001b[49m\u001b[38;5;241;43m1\u001b[39;49m\u001b[43m)\u001b[49m])                     \n",
      "\u001b[0;31mTypeError\u001b[0m: 'list' object is not callable"
     ]
    }
   ],
   "source": [
    "vxx = np.array([vx(temps,1)])                     \n",
    "                     "
   ]
  },
  {
   "cell_type": "code",
   "execution_count": null,
   "id": "b66ac0cf-d88e-4ea7-b281-9a85cad26bab",
   "metadata": {},
   "outputs": [],
   "source": [
    "plt.plot(vxx,temps)"
   ]
  },
  {
   "cell_type": "code",
   "execution_count": null,
   "id": "51444b8f-fe7e-4009-9ff5-43d380636b77",
   "metadata": {},
   "outputs": [],
   "source": []
  }
 ],
 "metadata": {
  "kernelspec": {
   "display_name": "Python 3 (ipykernel)",
   "language": "python",
   "name": "python3"
  },
  "language_info": {
   "codemirror_mode": {
    "name": "ipython",
    "version": 3
   },
   "file_extension": ".py",
   "mimetype": "text/x-python",
   "name": "python",
   "nbconvert_exporter": "python",
   "pygments_lexer": "ipython3",
   "version": "3.9.7"
  }
 },
 "nbformat": 4,
 "nbformat_minor": 5
}
