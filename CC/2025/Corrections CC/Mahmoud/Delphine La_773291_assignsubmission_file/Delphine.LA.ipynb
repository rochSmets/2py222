{
 "cells": [
  {
   "cell_type": "markdown",
   "id": "8fd9e763-d82a-4051-bd97-ceb9c6840c73",
   "metadata": {},
   "source": [
    "# Particule dans un cyclotron\n",
    "\n",
    "le cyclotron possède 3 parties : inférieure, supérieure et centrale subissant un champ magnétique. Un proton se déplace dans ce cyclotron entre les 3 parties, sur une trajectoire place. Le temps passé dans une partie est égal à 1.\n",
    "\n",
    "## Partie I\n",
    "\n",
    "On créer un tableau des instants de sortie des parties D, de $t_0$ à $t_50$ inclus\n",
    "Les instants $t_n$ lorsque le proton sort des D s'écrit :\n",
    "$$t_n=n+\\tau \\sqrt{n}.$$"
   ]
  },
  {
   "cell_type": "code",
   "execution_count": 80,
   "id": "8a1f4e8f-e9a4-4912-9ab5-5ecb894f7b32",
   "metadata": {
    "tags": []
   },
   "outputs": [
    {
     "name": "stdout",
     "output_type": "stream",
     "text": [
      "[array([ 0.,  1.,  2.,  3.,  4.,  5.,  6.,  7.,  8.,  9., 10., 11., 12.,\n",
      "       13., 14., 15., 16., 17., 18., 19., 20., 21., 22., 23., 24., 25.,\n",
      "       26., 27., 28., 29., 30., 31., 32., 33., 34., 35., 36., 37., 38.,\n",
      "       39., 40., 41., 42., 43., 44., 45., 46., 47., 48., 49., 50.])]\n"
     ]
    }
   ],
   "source": [
    "#importation des bibliothèques\n",
    "import pandas as pd\n",
    "import numpy as np\n",
    "import matplotlib.pyplot as plt\n",
    "\n",
    "#initialisation\n",
    "n=0\n",
    "tau=0.5\n",
    "t_0=0\n",
    "\n",
    "#formule\n",
    "def t_n(n, tau):\n",
    "    for n in range (0, 51, 1):\n",
    "        t[n] = [n] + tau * np.sqrt([n])\n",
    "    return [t]\n",
    "    \n",
    "#création du tableau\n",
    "tableau_temps = np.array([t])\n",
    "\n",
    "print([t])"
   ]
  },
  {
   "cell_type": "code",
   "execution_count": null,
   "id": "ad4310e6-d003-4854-97e7-5bf3dabb567f",
   "metadata": {
    "tags": []
   },
   "outputs": [],
   "source": [
    "print(t_n[1] == 1.5)\n",
    "print(t_n[4] == 5)\n",
    "print(t_n[9] == 10.5)\n",
    "print(t_n[16] == 18)\n",
    "print(t_n[25] == 27.5)"
   ]
  },
  {
   "cell_type": "markdown",
   "id": "b016d840-2701-45f6-b045-27b14f707514",
   "metadata": {},
   "source": [
    "Pour calculer les valeurs de $v_x$ et $v_y$ entre $t_2−1$ et $t_2$, puis entre $t_4-1$ à $t_4$, on se place dans le cas de $t$ variant de $t_{n+1}-1$ à $t_{n+1}$ c’est-à-dire quand il est dans D supérieur ou D inférieur.\n",
    "\n",
    "Ainsi on calculera :\n",
    "$$\n",
    "v_x(t) = \\epsilon_n \\sqrt{n+1} \\sin \\left( \\pi (t-t_{n+1}) \\right) \\qquad v_y(t) = -\\epsilon_n \\sqrt{n+1} \\cos \\left( \\pi (t-t_{n+1}) \\right)\n",
    "$$"
   ]
  },
  {
   "cell_type": "code",
   "execution_count": null,
   "id": "ee3c158a-b521-42f7-8212-d4eac630ed74",
   "metadata": {},
   "outputs": [],
   "source": [
    "t =\n",
    "t_n1 =\n",
    "\n",
    "#formules\n",
    "e_n = (-1)**n\n",
    "t =\n",
    "t_n1 =\n",
    "\n",
    "#pour n+1=2\n",
    "n=1\n",
    "v_x2 = e_n * np.sqrt(n+1) * np.sin(np.pi( t - t_n1 ))\n",
    "v_y2 = - e_n * np.sqrt(n+1) * np.cos(cp.pi( t - t_n1))\n",
    "\n",
    "print(f\"la vitesse $v_x$ entre $t_2$ - 1 et $t_2$ est , {v_x2}\")\n",
    "print(f\"la vitesse $v_y$ entre $t_2$ - 1 et $t_2$ est , {v_y2}\")\n",
    "\n",
    "#De la même manière pour n+1=4\n",
    "n=3\n",
    "v_x4 = e_n * np.sqrt(n+1) * np.sin(np.pi( t - t_n1 ))\n",
    "v_y4 = - e_n * np.sqrt(n+1) * np.cos(cp.pi( t - t_n1))\n",
    "\n",
    "print(f\"la vitesse $v_x$ entre $t_4$ - 1 et $t_4$ est , {v_x4}\")\n",
    "print(f\"la vitesse $v_y$ entre $t_4$ - 1 et $t_4$ est , {v_y4}\")"
   ]
  },
  {
   "cell_type": "markdown",
   "id": "7d762c6f-c893-4376-a7f5-9f4d6476f361",
   "metadata": {},
   "source": [
    "Nous allons maintenant créer le graphique pour $v_x$ et $v_y$ en fonction de t :"
   ]
  },
  {
   "cell_type": "code",
   "execution_count": null,
   "id": "58058d31-b4bf-4e32-af46-ff02ee69a2ab",
   "metadata": {},
   "outputs": [],
   "source": [
    "# Tracé des courbes\n",
    "plt.subplot(2,1,1)\n",
    "plt.plot(x, 'o-', label=)\n",
    "plt.xlabel(\"temps $i$\")\n",
    "plt.ylabel(\"vitesse $v_x$ et $v_y$\")\n",
    "plt.title(\"Vitesse du proton dans les D supérieur et inférieur en fonction du temps variant entre $t_2$-1 et $t_2$\")\n",
    "plt.legend()\n",
    "plt.grid()\n",
    "plt.show()\n",
    "\n",
    "plt.subplot(2,1,2)\n",
    "plt.plot(x, 'o-', label=)\n",
    "plt.xlabel(\"temps $i$\")\n",
    "plt.ylabel(\"vitesse $v_x$ et $v_y$\")\n",
    "plt.title(\"Vitesse du proton dans les D supérieur et inférieur en fonction du temps variant entre $t_4$-1 et $t_4$\")\n",
    "plt.legend()\n",
    "plt.grid()\n",
    "plt.show()"
   ]
  },
  {
   "cell_type": "code",
   "execution_count": null,
   "id": "7b6d5c30-ce78-437d-85f1-325110911efc",
   "metadata": {
    "tags": []
   },
   "outputs": [],
   "source": [
    "print(f\"le maxima de $v_x$ pour t variant entre $t_2$-1 et $t_2$ est, {max(v_x2)}\")\n",
    "print(f\"le maxima de $v_y$ pour t variant entre $t_2$-1 et $t_2$ est, {max(v_y2)}\")\n",
    "print(f\"le maxima de $v_x$ pour t variant entre $t_4$-1 et $t_4$ est, {max(v_x4)}\")\n",
    "print(f\"le maxima de $v_y$ pour t variant entre $t_4$-1 et $t_4$ est, {max(v_y4)}\")"
   ]
  },
  {
   "cell_type": "markdown",
   "id": "ef467250-f0a3-4a2f-9473-6fa1c3d64453",
   "metadata": {},
   "source": [
    "## Partie II\n",
    "\n"
   ]
  }
 ],
 "metadata": {
  "kernelspec": {
   "display_name": "Python 3 (ipykernel)",
   "language": "python",
   "name": "python3"
  },
  "language_info": {
   "codemirror_mode": {
    "name": "ipython",
    "version": 3
   },
   "file_extension": ".py",
   "mimetype": "text/x-python",
   "name": "python",
   "nbconvert_exporter": "python",
   "pygments_lexer": "ipython3",
   "version": "3.9.7"
  }
 },
 "nbformat": 4,
 "nbformat_minor": 5
}
