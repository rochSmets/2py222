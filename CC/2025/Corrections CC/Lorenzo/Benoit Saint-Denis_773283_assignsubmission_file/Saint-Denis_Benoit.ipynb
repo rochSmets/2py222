{
 "cells": [
  {
   "cell_type": "code",
   "execution_count": 58,
   "id": "cec12280-d66e-4f39-99b3-ce4966a08bdd",
   "metadata": {
    "tags": []
   },
   "outputs": [
    {
     "name": "stdout",
     "output_type": "stream",
     "text": [
      "1.5 5.0 10.5 18.0 27.5\n"
     ]
    }
   ],
   "source": [
    "import numpy as np\n",
    "import math as mp\n",
    "import matplotlib.pyplot as plt\n",
    "\n",
    "t = np.zeros(50)\n",
    "n = 0\n",
    "\n",
    "\n",
    "for i in range(50) :\n",
    "    t[i] = n + 0.5 * n**(1/2)\n",
    "    n = n+1\n",
    "    \n",
    "print(t[1],t[4],t[9],t[16],t[25])\n",
    "\n",
    "\n"
   ]
  },
  {
   "cell_type": "markdown",
   "id": "c814cd33-6a06-4948-869a-56e665cf6036",
   "metadata": {},
   "source": [
    "On définit les vitesses, avec t = 1 :"
   ]
  },
  {
   "cell_type": "code",
   "execution_count": 69,
   "id": "ac3dc3d3-f0af-48b8-89f3-4cd01e8e57e1",
   "metadata": {
    "tags": []
   },
   "outputs": [],
   "source": [
    "def Vx(k) :\n",
    "    return (-1)**k * (k+1)**(1/2) * mp.sin(mp.pi*(1 - t[k+1]))\n",
    "\n",
    "def Vy(l) :\n",
    "    return -(-1)**l * (l+1)**(1/2) * mp.cos(mp.pi*(1- t[l+1]))\n"
   ]
  },
  {
   "cell_type": "markdown",
   "id": "94a688d6-c16e-4320-a858-075bc928238c",
   "metadata": {},
   "source": [
    "On obtient alors les vitesses demandées : \n",
    "Pour 𝑡 variant de 𝑡2−1 à 𝑡2 :"
   ]
  },
  {
   "cell_type": "code",
   "execution_count": 70,
   "id": "3bf209d4-6587-4cb7-ac6d-e96f409d0b8e",
   "metadata": {
    "tags": []
   },
   "outputs": [
    {
     "name": "stdout",
     "output_type": "stream",
     "text": [
      "-0.7076747943767745 1.5808846844105326\n"
     ]
    }
   ],
   "source": [
    "print(Vx(2),Vy(2))"
   ]
  },
  {
   "cell_type": "markdown",
   "id": "6d29ed40-23bf-445c-84d0-468dcdf15106",
   "metadata": {},
   "source": [
    "Pour 𝑡 variant de 𝑡4−1 à 𝑡4 :"
   ]
  },
  {
   "cell_type": "code",
   "execution_count": 71,
   "id": "cfba283b-e241-4e0d-80aa-700321c1de97",
   "metadata": {
    "tags": []
   },
   "outputs": [
    {
     "name": "stdout",
     "output_type": "stream",
     "text": [
      "0.8102948875589681 2.0840878568802705\n"
     ]
    }
   ],
   "source": [
    "print(Vx(4),Vy(4))"
   ]
  },
  {
   "cell_type": "markdown",
   "id": "2e2da09d-dccb-4858-8141-c168e8b4658e",
   "metadata": {
    "tags": []
   },
   "source": [
    "Les valeurs maximales des vitesses reviennent à dire que les cosinus et les sinus valent 1 ou -1.\n",
    "Ainsi les $(-1)^n$ et les cosinus avec les sinus vont se compenser et on peut les enlever des équations.\n",
    "On aura donc des vitesses maximales égales pour x et y.\n"
   ]
  },
  {
   "cell_type": "code",
   "execution_count": 72,
   "id": "7f355ea4-c9b6-475c-b949-3c7e72014f82",
   "metadata": {
    "tags": []
   },
   "outputs": [],
   "source": [
    "def Vmax(k) :\n",
    "    return (k+1)**(1/2)\n",
    "\n"
   ]
  },
  {
   "cell_type": "markdown",
   "id": "fc8687ce-d31b-4814-b0f1-fa180a7c1b1c",
   "metadata": {},
   "source": [
    "Finalement les valeurs maximales pour 𝑡 variant de 𝑡2−1 à 𝑡2 ( la même selon x et selon y) :"
   ]
  },
  {
   "cell_type": "code",
   "execution_count": 73,
   "id": "240dbf23-3b9d-42a9-8dbb-1d2aee8a71fe",
   "metadata": {
    "tags": []
   },
   "outputs": [
    {
     "name": "stdout",
     "output_type": "stream",
     "text": [
      "1.7320508075688772\n"
     ]
    }
   ],
   "source": [
    "print(Vmax(2))"
   ]
  },
  {
   "cell_type": "markdown",
   "id": "75b370a4-d3fe-42e3-9765-f98688e3d489",
   "metadata": {},
   "source": [
    "Et pour 𝑡 variant de 𝑡4−1 à 𝑡4 :"
   ]
  },
  {
   "cell_type": "code",
   "execution_count": 74,
   "id": "77a6ed9b-ccfe-4062-8a87-cf7aa1920b94",
   "metadata": {
    "tags": []
   },
   "outputs": [
    {
     "name": "stdout",
     "output_type": "stream",
     "text": [
      "2.23606797749979\n"
     ]
    }
   ],
   "source": [
    "print(Vmax(4))"
   ]
  },
  {
   "cell_type": "markdown",
   "id": "067d78c2-7770-4546-97d1-6c9797f3f899",
   "metadata": {},
   "source": [
    "On constate de la vitesse maximal pour 𝑡 variant de 𝑡2−1 à 𝑡2 est plus petite que pour 𝑡 variant de 𝑡4−1 à 𝑡4."
   ]
  },
  {
   "cell_type": "markdown",
   "id": "f30f5ab3-15aa-43f3-a9fc-496b1b7c9873",
   "metadata": {},
   "source": [
    "Ce qui est logique car la distance parcourue pour les instants t2 est plus courte que pour les instants t4. Et comme le temps passé dans un D doit toujours être le même, pour une distance plus grande il faudra aller plus vite."
   ]
  },
  {
   "cell_type": "markdown",
   "id": "d74da11e-4868-4fc8-956c-a1855c22f438",
   "metadata": {},
   "source": [
    "On écrit dans un tableau Vy(t) et Vx(t) pour t varient de t0 à t6.\n",
    "Pour Vy(t) il faut donner l'autre équation pour les instants où le proton change de D.\n",
    "Un des Vx(t) est toujours nul : il correspond au passage d'un D à l'autre."
   ]
  },
  {
   "cell_type": "code",
   "execution_count": 78,
   "id": "9178e797-19f6-42cf-b9d6-4a16a57afd96",
   "metadata": {
    "tags": []
   },
   "outputs": [],
   "source": [
    "Vxt = [0,Vx(1), 0,Vx(2), 0,Vx(3), 0,Vx(4), 0,Vx(5), 0,Vx(6)]"
   ]
  },
  {
   "cell_type": "code",
   "execution_count": 77,
   "id": "8738361d-592a-4f69-bcb4-0a20aff11129",
   "metadata": {
    "tags": []
   },
   "outputs": [],
   "source": [
    "def Vy2(l) :\n",
    "    return (-1)**k * (n**(1/2) + (1 - t[l]) / 0.5)\n",
    "\n",
    "\n",
    "\n",
    "Vyt = [Vy2(1),Vy(1), Vy2(2),Vy(2), Vy2(3),Vy(3), Vy2(4),Vy(4), Vy2(5),Vy(5), Vy2(6),Vy(6)]"
   ]
  },
  {
   "cell_type": "code",
   "execution_count": 95,
   "id": "41e42566-e5c6-431f-90c4-b306f04436e6",
   "metadata": {
    "tags": []
   },
   "outputs": [],
   "source": [
    "t2 = np.zeros(12)\n",
    "n = 0\n",
    "\n",
    "\n",
    "for i in range(11) :\n",
    "    t2[i] = n\n",
    "    n = n+1"
   ]
  },
  {
   "cell_type": "code",
   "execution_count": 107,
   "id": "680df1a7-8983-488c-868f-6380241c98c8",
   "metadata": {
    "tags": []
   },
   "outputs": [
    {
     "data": {
      "image/png": "[encoded data removed]",
      "text/plain": [
       "<Figure size 640x480 with 1 Axes>"
      ]
     },
     "metadata": {},
     "output_type": "display_data"
    }
   ],
   "source": [
    "plt.plot(Vxt,t2)\n",
    "plt.show()"
   ]
  },
  {
   "cell_type": "code",
   "execution_count": 100,
   "id": "29faba63-4fd5-4d74-bb56-c78cf2f5b672",
   "metadata": {
    "tags": []
   },
   "outputs": [
    {
     "data": {
      "image/png": "[encoded data removed]",
      "text/plain": [
       "<Figure size 640x480 with 1 Axes>"
      ]
     },
     "metadata": {},
     "output_type": "display_data"
    }
   ],
   "source": [
    "plt.plot(Vyt,t2)\n",
    "plt.show()"
   ]
  },
  {
   "cell_type": "markdown",
   "id": "33279ae5-81d5-458c-8b79-f91479ca83cb",
   "metadata": {},
   "source": [
    "Les graphes sont illogiques : par exemple, pour Vx(t) il faudrait des valeurs en 0 pour chaque fois que le proton passe d'un D à l'autre."
   ]
  },
  {
   "cell_type": "code",
   "execution_count": null,
   "id": "531d88da-66e0-43e3-8043-1e869867134d",
   "metadata": {},
   "outputs": [],
   "source": []
  }
 ],
 "metadata": {
  "kernelspec": {
   "display_name": "Python 3 (ipykernel)",
   "language": "python",
   "name": "python3"
  },
  "language_info": {
   "codemirror_mode": {
    "name": "ipython",
    "version": 3
   },
   "file_extension": ".py",
   "mimetype": "text/x-python",
   "name": "python",
   "nbconvert_exporter": "python",
   "pygments_lexer": "ipython3",
   "version": "3.9.7"
  }
 },
 "nbformat": 4,
 "nbformat_minor": 5
}
