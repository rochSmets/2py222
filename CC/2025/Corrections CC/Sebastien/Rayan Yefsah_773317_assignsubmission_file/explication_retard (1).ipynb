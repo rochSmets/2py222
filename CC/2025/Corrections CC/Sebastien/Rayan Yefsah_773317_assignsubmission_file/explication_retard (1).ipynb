{
 "cells": [
  {
   "cell_type": "markdown",
   "id": "fa1a04be-e771-4dc2-941a-a737dc9f2eb4",
   "metadata": {},
   "source": [
    "Excusez moi pour le retard de remise, ce n'était pas mon intention. j'avais envoyé un fichier a 12h45 mais en revérifient chez moi mon jupyterlab pour essayer de retravailler le CC (pour voir les problèmes de mon code), je me suis rendu compte que j'avais renomer et envoyer un mauvais fichier quasiment vide qui ne contenais un code qui n'a rien a voir avec le sujet. Je suis désolé j'ai ainsi préféré envoyé ce soir le sujet exact (sans rien modifié) que j'avais fait entre 10h45 et 12h45 mais que j'avais mal enregistré et pas envoyé par erreur. Encore désolé. "
   ]
  }
 ],
 "metadata": {
  "kernelspec": {
   "display_name": "Python 3 (ipykernel)",
   "language": "python",
   "name": "python3"
  },
  "language_info": {
   "codemirror_mode": {
    "name": "ipython",
    "version": 3
   },
   "file_extension": ".py",
   "mimetype": "text/x-python",
   "name": "python",
   "nbconvert_exporter": "python",
   "pygments_lexer": "ipython3",
   "version": "3.9.7"
  }
 },
 "nbformat": 4,
 "nbformat_minor": 5
}
