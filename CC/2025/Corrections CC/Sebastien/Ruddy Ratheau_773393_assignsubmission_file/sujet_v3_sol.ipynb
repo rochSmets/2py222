{
 "cells": [
  {
   "cell_type": "markdown",
   "metadata": {},
   "source": [
    "### Contrôle Continu - LU2PY222 : Modélisation Numérique en Physique\n",
    "#### 5 mars 2025, 10h45 - 12h45\n",
    "\n",
    "Vous rendrez sur Moodle un **compte-rendu** sous la forme d'un calepin **Jupyter** comprenant :\n",
    "- vos codes python (bien commentés)\n",
    "- vos graphiques (axes nommés et courbes légendées lorsque c'est nécessaire)\n",
    "- les commentaires des résultats sous format Markdown lorsque c'est demandé\n",
    "\n",
    "Vous avez le droit d'accéder à tous les calepins jupyter présents sur votre Hub, ainsi qu'à vos notes (manuscrites ou numériques) prises pendant les séances de travail de cette UE. L'accès à internet est limité aux sites de documentation **python**, **numpy** et **matplotlib**, et à Moodle. Vos documents numériques doivent être présents dans vos fichiers personnels Moodle. Les clés USB, smartphones et tablettes ne sont pas acceptées.\n",
    "\n",
    "# Particule dans un cyclotron\n",
    "\n",
    "Un cyclotron comporte trois parties, voir la figure ci-dessous. Les parties supérieure et inférieure, appelées \"D\" à cause de la forme de la trajectoire, sont plongées dans un champ magnétique.\n",
    "\n",
    "![](Figure3.png)\n",
    "\n",
    "Au temps $t_0=0$ **(ici le temps est sans unité)**, un proton est injecté au niveau du D inférieur sans vitesse. Une tension alternative est appliquée entre les D. Elle crée un champ électrique dont la direction et le sens sont toujours **similaires** à ceux de la vitesse du proton lorsqu’il est entre les D. Les instants $t_n$ où le proton sort des D (soit inférieur, soit supérieur, voir la figure) sont donnés, **sans unité**, par\n",
    "$$t_n=n+\\tau \\sqrt{n}.$$\n",
    "On choisit $\\tau=0.5$. Le temps passé par le proton dans un D (supérieur ou inférieur) est toujours de $1$.\n",
    "La trajectoire du proton est plane. On s’intéresse à sa vitesse. Ses composantes sont données, dans un repère et des unités appropriés, **en fonction de sa position dans le cyclotron:**\n",
    "1) Pour $t$ variant de $t_n$ à $t_{n+1}-1$ c’est-à-dire quand il est entre les D :\n",
    "$$\n",
    "v_x(t) = 0  \\qquad  v_y(t) = \\epsilon_n \\left( \\sqrt{n} + (t-t_n)/\\tau \\right)\n",
    "$$\n",
    "2) Pour $t$ variant de $t_{n+1}-1$ à $t_{n+1}$ c’est-à-dire quand il est dans D supérieur ou D inférieur.\n",
    "$$\n",
    "v_x(t) = \\epsilon_n \\sqrt{n+1} \\sin \\left( \\pi (t-t_{n+1}) \\right) \\qquad v_y(t) = -\\epsilon_n \\sqrt{n+1} \\cos \\left( \\pi (t-t_{n+1}) \\right)\n",
    "$$\n",
    "\n",
    "Dans ces expressions, $\\epsilon_n$ vaut $1$ pour $n$ pair et $-1$ pour $n$ impair. On pourra prendre $\\epsilon_n = (-1)^n$."
   ]
  },
  {
   "cell_type": "markdown",
   "metadata": {},
   "source": [
    "## Partie I\n",
    "\n",
    "1. Créer un tableau contenant les instants de sortie des boucles \"D\" : $t_0$, $t_1$, ... jusqu'à $t_{50}$ inclus. \n",
    "2. Vérifier que $t_1=1.5$, $t_4=5$, $t_9=10.5$, $t_{16}=18$, et $t_{25}=27.5$ avec des opérateurs booléens.\n",
    "3. Calculer les valeurs de $v_x$ et $v_y$ en fonction du temps pour $t$ variant de $t_2−1$ à $t_2$. Vous utiliserez un échantillonage suffisant pour le temps $t$, dans un tableau distinct de celui de la question précédente. Faire de même pour $t$ variant de $t_4-1$ à $t_4$. \n",
    "4. Représenter dans un graphique $v_x$ et $v_y$ en fonction de $t$ pour $t$ variant de $t_2-1$ a $t_2$. Faire de même pour $t$ variant de $t_4-1$ à $t_4$.\n",
    "5. Déterminer des valeurs approchées des maxima de $v_x$ et $v_y$ pour $t$ variant de $t_2-1$ à $t_2$, ainsi que les instants $t$ correspondants. Un maximum peut être en bord d'intervalle. Faire de même pour $t$ variant de $t_4-1$ à $t_4$. Commenter."
   ]
  },
  {
   "cell_type": "markdown",
   "metadata": {},
   "source": [
    "Tableau contenant les instants de sorties des boucles D"
   ]
  },
  {
   "cell_type": "code",
   "execution_count": 64,
   "metadata": {
    "tags": []
   },
   "outputs": [
    {
     "name": "stdout",
     "output_type": "stream",
     "text": [
      "[ 0.          1.5         2.70710678  3.8660254   5.          6.11803399\n",
      "  7.22474487  8.32287566  9.41421356 10.5        11.58113883 12.6583124\n",
      " 13.73205081 14.80277564 15.87082869 16.93649167 18.         19.06155281\n",
      " 20.12132034 21.17944947 22.23606798 23.29128785 24.34520788 25.39791576\n",
      " 26.44948974 27.5        28.54950976 29.59807621 30.64575131 31.6925824\n",
      " 32.73861279 33.78388218 34.82842712 35.87228132 36.91547595 37.95803989\n",
      " 39.         40.04138127 41.082207   42.122499   43.16227766 44.20156212\n",
      " 45.24037035 46.27871926 47.31662479 48.35410197 49.39116499 50.4278273\n",
      " 51.46410162 52.5        53.53553391]\n"
     ]
    }
   ],
   "source": [
    "import numpy as np\n",
    "tho = 0.5\n",
    "t = np.zeros(51)\n",
    "\n",
    "for n in range (51) :\n",
    "    t[n] = n + tho * np.sqrt(n)\n",
    "print(t)"
   ]
  },
  {
   "cell_type": "markdown",
   "metadata": {},
   "source": [
    "vérification avec des opérateurs booléens"
   ]
  },
  {
   "cell_type": "code",
   "execution_count": 65,
   "metadata": {
    "tags": []
   },
   "outputs": [
    {
     "name": "stdout",
     "output_type": "stream",
     "text": [
      "True\n",
      "True\n",
      "True\n",
      "True\n",
      "True\n"
     ]
    }
   ],
   "source": [
    "print(t[1] == 1.5)\n",
    "print(t[4] == 5)\n",
    "print(t[9] == 10.5)\n",
    "print(t[16] == 18)\n",
    "print(t[25] == 27.5)"
   ]
  },
  {
   "cell_type": "markdown",
   "metadata": {},
   "source": [
    "vx et vy en fonction de t variant t2-1 à t2"
   ]
  },
  {
   "cell_type": "code",
   "execution_count": 69,
   "metadata": {
    "tags": []
   },
   "outputs": [
    {
     "name": "stdout",
     "output_type": "stream",
     "text": [
      "-0.999997146387718\n",
      "-0.0023889781122815386\n",
      "-0.8544240307567189\n",
      "-1.1269248314175362\n"
     ]
    }
   ],
   "source": [
    "e_n = -1 ** n\n",
    "pi = 3.14\n",
    "vx = np.ones(2)\n",
    "for n in range (2) :\n",
    "    vx = e_n * np.sqrt(n + 1) * np.sin(pi * (t[n] - t[n + 1]))\n",
    "    vy = -e_n * np.sqrt(n + 1) * np.cos(pi * (t[n] - t[n + 1]))\n",
    "    print(vx)\n",
    "    print(vy)"
   ]
  },
  {
   "cell_type": "markdown",
   "metadata": {},
   "source": [
    "vx et vy en fonction de t variant de t4-1 à t4"
   ]
  },
  {
   "cell_type": "code",
   "execution_count": 70,
   "metadata": {
    "tags": []
   },
   "outputs": [
    {
     "name": "stdout",
     "output_type": "stream",
     "text": [
      "-0.8544240307567189\n",
      "-1.1269248314175362\n",
      "-0.8544240307567189\n",
      "-1.1269248314175362\n",
      "-0.8544240307567189\n",
      "-1.1269248314175362\n",
      "-0.8544240307567189\n",
      "-1.1269248314175362\n"
     ]
    }
   ],
   "source": [
    "for n in range (4) :\n",
    "    print(vx)\n",
    "    print(vy)"
   ]
  },
  {
   "cell_type": "markdown",
   "metadata": {},
   "source": [
    "graphique de vx et vy en fonction de t variant de t2-1 à t2"
   ]
  },
  {
   "cell_type": "code",
   "execution_count": 83,
   "metadata": {
    "tags": []
   },
   "outputs": [
    {
     "data": {
      "image/png": "[encoded data removed]",
      "text/plain": [
       "<Figure size 640x480 with 1 Axes>"
      ]
     },
     "metadata": {},
     "output_type": "display_data"
    }
   ],
   "source": [
    "import matplotlib.pyplot as plt\n",
    "plt.plot(vx, vy, '-r')\n",
    "plt.title('graphique de vx et vy en fonction de t variant de t2-1 à t2')\n",
    "plt.xlabel('t')\n",
    "plt.ylabel('vx')\n",
    "plt.xlim(0, 3)\n",
    "plt.ylim(-2, 0)\n",
    "plt.grid()\n",
    "plt.show()"
   ]
  },
  {
   "cell_type": "markdown",
   "metadata": {},
   "source": [
    "## Partie II\n",
    "6. Représenter $v_x$ et $v_y$ en fonction de $t$ pour $t$ variant de $0$ à $t_6$. On utilisera une couleur unique pour la courbe par morceaux. On remarque que $v_x$ et $v_y$ sont des fonctions continues du temps $t$. Commenter.\n",
    "7. Représenter le module de la vitesse $\\sqrt{v_x^2+v_y^2}$ en fonction de $t$ pour $t$ variant de $0$ à $t_6$. On utilisera une couleur unique pour la courbe par morceaux. Commenter. A quoi sert un cyclotron ?\n",
    "8. Pour $n$ variant de $0$ à $50$, représenter le module de la vitesse $\\sqrt{v_x(t_n)^2+v_y(t_n)^2}$ en fonction de $t_n-n$, qui est le temps total passé par le proton entre les D à l'instant $t_n$. Commenter."
   ]
  }
 ],
 "metadata": {
  "kernelspec": {
   "display_name": "Python 3 (ipykernel)",
   "language": "python",
   "name": "python3"
  },
  "language_info": {
   "codemirror_mode": {
    "name": "ipython",
    "version": 3
   },
   "file_extension": ".py",
   "mimetype": "text/x-python",
   "name": "python",
   "nbconvert_exporter": "python",
   "pygments_lexer": "ipython3",
   "version": "3.9.7"
  }
 },
 "nbformat": 4,
 "nbformat_minor": 4
}
