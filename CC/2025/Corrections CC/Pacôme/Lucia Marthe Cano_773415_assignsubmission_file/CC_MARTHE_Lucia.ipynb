{
 "cells": [
  {
   "cell_type": "markdown",
   "id": "f5a24c8e-9e2f-43d0-bcca-948d11c3e962",
   "metadata": {},
   "source": [
    "### Contrôle Continu - LU2PY222 : Modélisation Numérique en Physique\n",
    "##### Lucia MARTHE CANO"
   ]
  },
  {
   "cell_type": "code",
   "execution_count": 5,
   "id": "2c0cf0f5-c880-4882-baa1-8dabb9d3175c",
   "metadata": {
    "tags": []
   },
   "outputs": [],
   "source": [
    "import numpy as np\n",
    "import matplotlib.pyplot as plt\n",
    "\n",
    "#Données:\n",
    "t_0 = 0\n",
    "tau = 0.5\n"
   ]
  },
  {
   "cell_type": "code",
   "execution_count": 6,
   "id": "989656fa-6ffd-4030-b64b-123363cd063c",
   "metadata": {},
   "outputs": [
    {
     "ename": "SyntaxError",
     "evalue": "cannot assign to function call (3123843234.py, line 1)",
     "output_type": "error",
     "traceback": [
      "\u001b[0;36m  Cell \u001b[0;32mIn[6], line 1\u001b[0;36m\u001b[0m\n\u001b[0;31m    v_x(t) = 0\u001b[0m\n\u001b[0m    ^\u001b[0m\n\u001b[0;31mSyntaxError\u001b[0m\u001b[0;31m:\u001b[0m cannot assign to function call\n"
     ]
    }
   ],
   "source": [
    "v_x(t) = 0\n",
    "v_y(t) = "
   ]
  },
  {
   "cell_type": "markdown",
   "id": "a2602c1d-52fc-4b4b-bd4e-4a9b692a7ef8",
   "metadata": {
    "tags": []
   },
   "source": [
    "## Partie I \n",
    "\n",
    "### 1. Instants de sortie des boucles \"D\""
   ]
  },
  {
   "cell_type": "code",
   "execution_count": null,
   "id": "aec2239f-517e-49c8-930b-7143900d38fa",
   "metadata": {
    "tags": []
   },
   "outputs": [],
   "source": [
    "#Tableau instants de sortie des boucles D \n",
    "n = 50\n",
    "list_t = [] #liste vide pour stocker les termes\n",
    "list_n = []\n",
    "for i in range (n): #boucle por calculer temps\n",
    "    t = i + tau * np.sqrt(i) #formule de t \n",
    "    list_t.append(t) #sauvegarde les valeurs\n",
    "    list_n.append(n) #sauvegarde les valeurs\n",
    "np.array(list_t)\n"
   ]
  },
  {
   "cell_type": "markdown",
   "id": "19801206-2d79-4f33-93cd-612cc52197c0",
   "metadata": {},
   "source": [
    "### 2. Verification des valeurs\n",
    "On peut vérifier avec des opérateurs booléens que $t_1=1.5$, $t_4=5$, $t_9=10.5$, $t_{16}=18$, et $t_{25}=27.5$"
   ]
  },
  {
   "cell_type": "code",
   "execution_count": null,
   "id": "31d16b06-3f13-4df8-b12c-1f71954f1635",
   "metadata": {
    "tags": []
   },
   "outputs": [],
   "source": [
    "#Verification des valeurs\n",
    "\n",
    "print(list_t[1] == 1.5)\n",
    "print(list_t[4] == 5)\n",
    "print(list_t[9] == 10.5)\n",
    "print(list_t[16] == 18)\n",
    "print(list_t[25] == 27.5)"
   ]
  },
  {
   "cell_type": "markdown",
   "id": "84855727-ff1a-4674-b850-25c8b1b8eedf",
   "metadata": {},
   "source": [
    "On voit que tous sont \"true\" donc les valeurs sont corrects"
   ]
  },
  {
   "cell_type": "markdown",
   "id": "1d943e94-f83d-438a-ae10-129a24711063",
   "metadata": {
    "tags": []
   },
   "source": [
    "### 3. Calcul Vx et Vy\n",
    "\n",
    "a.  t variant de t_2 - 1 à t_2\n",
    "\n",
    "b.  t variant de t_4 - 1 à t_4\n",
    "\n",
    " Pour $t$ variant de $t_{n+1}-1$ à $t_{n+1}$ c’est-à-dire quand il est dans D supérieur ou D inférieur.\n",
    "$$\n",
    "v_x(t) = \\epsilon_n \\sqrt{n+1} \\sin \\left( \\pi (t-t_{n+1}) \\right) \\qquad v_y(t) = -\\epsilon_n \\sqrt{n+1} \\cos \\left( \\pi (t-t_{n+1}) \\right)\n",
    "$$"
   ]
  },
  {
   "cell_type": "code",
   "execution_count": null,
   "id": "832302db-70e2-413b-b5af-bd1658ff3943",
   "metadata": {
    "tags": []
   },
   "outputs": [],
   "source": [
    "def epsilon_n(t): #Definiton expression d'epsilon\n",
    "    return (-1)**(t)\n",
    "\n",
    "print(epsilon_n(1))\n",
    "print(epsilon_n(2))"
   ]
  },
  {
   "cell_type": "markdown",
   "id": "235b9aa3-70a4-471e-baa8-2945a509ce9f",
   "metadata": {
    "tags": []
   },
   "source": [
    "On remarque vérifier que la fonction marche bien"
   ]
  },
  {
   "cell_type": "code",
   "execution_count": null,
   "id": "3e5d30dc-1c0f-4784-aaa3-ed19cc96138d",
   "metadata": {
    "tags": []
   },
   "outputs": [],
   "source": [
    "\n",
    "def Vx_1(t): #Definiton composante Vx \n",
    "    e = epsilon_n(t)\n",
    "    return  e * ( np.sqrt(t + 1) * np.sin(np.pi * (list_t[t] - list_t[t + 1])) )\n",
    "\n",
    "def Vy_1(t): #Definiton composante Vy \n",
    "    e = epsilon_n(t)\n",
    "    return - e * np.sqrt(t + 1) * np.cos(np.pi * (list_t[t] - list_t[t + 1]))\n",
    "                                           "
   ]
  },
  {
   "cell_type": "code",
   "execution_count": null,
   "id": "a833d531-b78b-4010-a441-af222f84f27a",
   "metadata": {
    "tags": []
   },
   "outputs": [],
   "source": [
    "# Pour le cas (a)\n",
    "# t = 2\n",
    "Vx = Vx_1(2)\n",
    "Vy= Vy_1(2)\n",
    "print (Vx)\n",
    "print (Vy)\n"
   ]
  },
  {
   "cell_type": "markdown",
   "id": "da9be74f-9111-4d89-ad88-ffae6d5032f8",
   "metadata": {},
   "source": [
    "### 4. Graphique $v_x$ et $v_y$ en fonction de $t$ pour $t$ variant de $t_2-1$ a $t_2$"
   ]
  },
  {
   "cell_type": "code",
   "execution_count": 7,
   "id": "98238f99-ff8a-47c4-9d6a-af6a1eb9a398",
   "metadata": {
    "tags": []
   },
   "outputs": [
    {
     "name": "stdout",
     "output_type": "stream",
     "text": [
      "[1.0, 1.01, 1.02, 1.03, 1.04, 1.05, 1.06, 1.07, 1.08, 1.09, 1.1, 1.11, 1.12, 1.13, 1.1400000000000001, 1.15, 1.16, 1.17, 1.18, 1.19]\n"
     ]
    }
   ],
   "source": [
    "# Intervalle\n",
    "\n",
    "r = 20\n",
    "t = 2\n",
    "# Itération de t entre l'intervalle\n",
    "list_temps = []\n",
    "for i in range (r):\n",
    "    temps = t-1 + 0.01*i\n",
    "    list_temps.append(temps)\n",
    "print(list_temps)\n"
   ]
  },
  {
   "cell_type": "code",
   "execution_count": 13,
   "id": "5acf684a-579e-43f2-951e-3acd5582d13e",
   "metadata": {
    "tags": []
   },
   "outputs": [
    {
     "ename": "SyntaxError",
     "evalue": "invalid syntax (3485539246.py, line 9)",
     "output_type": "error",
     "traceback": [
      "\u001b[0;36m  Cell \u001b[0;32mIn[13], line 9\u001b[0;36m\u001b[0m\n\u001b[0;31m    list_vy.append(vy)\u001b[0m\n\u001b[0m    ^\u001b[0m\n\u001b[0;31mSyntaxError\u001b[0m\u001b[0;31m:\u001b[0m invalid syntax\n"
     ]
    }
   ],
   "source": [
    "list_vx = []\n",
    "list_vy = []\n",
    "\n",
    "# Itération pout calculer Vx et Vy \n",
    "for i in range (r):\n",
    "    t = liste\n",
    "    vx = Vx_1(list_temps[i]) \n",
    "    list_vx.append(vx)\n",
    "    vy = Vy_1((list_temps[i]) \n",
    "    list_vy.append(vy)\n",
    "              \n",
    "print(list_vx)"
   ]
  },
  {
   "cell_type": "code",
   "execution_count": 12,
   "id": "81384092-b0ae-4cdb-b1dd-bc1fae180a02",
   "metadata": {
    "tags": []
   },
   "outputs": [
    {
     "ename": "NameError",
     "evalue": "name 'vx' is not defined",
     "output_type": "error",
     "traceback": [
      "\u001b[0;31m---------------------------------------------------------------------------\u001b[0m",
      "\u001b[0;31mNameError\u001b[0m                                 Traceback (most recent call last)",
      "Cell \u001b[0;32mIn[12], line 1\u001b[0m\n\u001b[0;32m----> 1\u001b[0m plt\u001b[38;5;241m.\u001b[39mplot(\u001b[43mvx\u001b[49m, vy)\n\u001b[1;32m      2\u001b[0m plt\u001b[38;5;241m.\u001b[39msuptitle(\u001b[38;5;124m'\u001b[39m\u001b[38;5;124mComposantes de la vitesse en fonction de t\u001b[39m\u001b[38;5;124m'\u001b[39m)\n\u001b[1;32m      3\u001b[0m plt\u001b[38;5;241m.\u001b[39mtitle( \u001b[38;5;124m'\u001b[39m\u001b[38;5;124mt variant de t_2 - 1 à t_2\u001b[39m\u001b[38;5;124m'\u001b[39m,fontsize \u001b[38;5;241m=\u001b[39m \u001b[38;5;241m10\u001b[39m)\n",
      "\u001b[0;31mNameError\u001b[0m: name 'vx' is not defined"
     ]
    }
   ],
   "source": [
    "plt.plot(vx, vy)\n",
    "plt.suptitle('Composantes de la vitesse en fonction de t')\n",
    "plt.title( 't variant de t_2 - 1 à t_2',fontsize = 10)\n",
    "plt.xlabel('Vx')\n",
    "plt.ylabel(\"Vy\")\n",
    "plt.grid()\n",
    "plt.show()"
   ]
  },
  {
   "cell_type": "code",
   "execution_count": null,
   "id": "4647b26c-2285-4c5f-a450-ce1708c20975",
   "metadata": {
    "tags": []
   },
   "outputs": [],
   "source": [
    "# Pour le cas (b)\n",
    "# t = 4\n",
    "print (\" Vx = \",  Vx_1(4))\n",
    "print (\" Vy= \",  Vy_1(4))"
   ]
  },
  {
   "cell_type": "code",
   "execution_count": null,
   "id": "1f57dab5-c157-4c64-8d69-347102baecc0",
   "metadata": {},
   "outputs": [],
   "source": []
  }
 ],
 "metadata": {
  "kernelspec": {
   "display_name": "Python 3 (ipykernel)",
   "language": "python",
   "name": "python3"
  },
  "language_info": {
   "codemirror_mode": {
    "name": "ipython",
    "version": 3
   },
   "file_extension": ".py",
   "mimetype": "text/x-python",
   "name": "python",
   "nbconvert_exporter": "python",
   "pygments_lexer": "ipython3",
   "version": "3.9.7"
  }
 },
 "nbformat": 4,
 "nbformat_minor": 5
}
