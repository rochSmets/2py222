{
 "cells": [
  {
   "cell_type": "markdown",
   "id": "2e68de46-940e-44df-b358-351e7b75cc8f",
   "metadata": {},
   "source": [
    "# CC1 : Modélisation Numérique en Physique\n",
    "\n",
    "## Partie I :\n",
    "\n",
    "1. Créer un tableau contenant les instants de sortie des boucles \"D\" : $t_0$, $t_1$, ... jusqu'à $t_{50}$ inclus. \n",
    "2. Vérifier que $t_1=1.5$, $t_4=5$, $t_9=10.5$, $t_{16}=18$, et $t_{25}=27.5$ avec des opérateurs booléens.\n",
    "3. Calculer les valeurs de $v_x$ et $v_y$ en fonction du temps pour $t$ variant de $t_2−1$ à $t_2$. Vous utiliserez un échantillonage suffisant pour le temps $t$, dans un tableau distinct de celui de la question précédente. Faire de même pour $t$ variant de $t_4-1$ à $t_4$. \n",
    "4. Représenter dans un graphique $v_x$ et $v_y$ en fonction de $t$ pour $t$ variant de $t_2-1$ a $t_2$. Faire de même pour $t$ variant de $t_4-1$ à $t_4$."
   ]
  },
  {
   "cell_type": "code",
   "execution_count": 173,
   "id": "dd9e1874-5657-4143-a080-8676fae316fd",
   "metadata": {
    "tags": []
   },
   "outputs": [],
   "source": [
    "import numpy as np\n",
    "import matplotlib.pyplot as plt \n",
    "import pandas as pd"
   ]
  },
  {
   "cell_type": "code",
   "execution_count": 3,
   "id": "606bd5fc-ed89-43f3-bc98-08f3c9481f79",
   "metadata": {
    "tags": []
   },
   "outputs": [
    {
     "name": "stdout",
     "output_type": "stream",
     "text": [
      "[1. 1. 1. 1. 1. 1. 1. 1. 1. 1. 1. 1. 1. 1. 1. 1. 1. 1. 1. 1. 1. 1. 1. 1.\n",
      " 1. 1. 1. 1. 1. 1. 1. 1. 1. 1. 1. 1. 1. 1. 1. 1. 1. 1. 1. 1. 1. 1. 1. 1.\n",
      " 1. 1.]\n"
     ]
    }
   ],
   "source": [
    "t = np.ones((50)) #création tableau de t1 à t50\n",
    "print(t)"
   ]
  },
  {
   "cell_type": "code",
   "execution_count": 69,
   "id": "c2c6c458-c097-49d0-bcaa-660d3ee8933f",
   "metadata": {
    "tags": []
   },
   "outputs": [
    {
     "name": "stdout",
     "output_type": "stream",
     "text": [
      "[ 1.5  5.  10.5 18.  27.5]\n"
     ]
    }
   ],
   "source": [
    "tau = 0.5\n",
    "n = np.array([1,4,9,16,25])\n",
    "\n",
    "for i in range(1):                       #création de la boucle for pour calculer t1, t4, t9, t16 et t25\n",
    "    t = n+tau*np.sqrt(n)\n",
    "    print(t)                            #affiche respectivement t1, t4, t9, t16  et t25 à la suite"
   ]
  },
  {
   "cell_type": "code",
   "execution_count": 155,
   "id": "9200ad26-fe2d-44c1-96e2-fe698b59f109",
   "metadata": {
    "tags": []
   },
   "outputs": [
    {
     "name": "stdout",
     "output_type": "stream",
     "text": [
      "True\n",
      "True\n",
      "True\n",
      "True\n",
      "True\n"
     ]
    }
   ],
   "source": [
    "print(t1 == 1.5 )\n",
    "print(t4 == 5)\n",
    "print(t9 == 10.5)\n",
    "print(t16 == 18)\n",
    "print(t25 == 27.5)\n"
   ]
  },
  {
   "cell_type": "code",
   "execution_count": 184,
   "id": "79777dd3-a7f6-4ddf-8c6f-34bda354f935",
   "metadata": {
    "tags": []
   },
   "outputs": [
    {
     "ename": "TypeError",
     "evalue": "unsupported operand type(s) for *: 'numpy.ufunc' and 'float'",
     "output_type": "error",
     "traceback": [
      "\u001b[0;31m---------------------------------------------------------------------------\u001b[0m",
      "\u001b[0;31mTypeError\u001b[0m                                 Traceback (most recent call last)",
      "Cell \u001b[0;32mIn[184], line 11\u001b[0m\n\u001b[1;32m      8\u001b[0m num_points \u001b[38;5;241m=\u001b[39m \u001b[38;5;28mint\u001b[39m(intervalle \u001b[38;5;241m/\u001b[39m pas_temps) \u001b[38;5;241m+\u001b[39m \u001b[38;5;241m1\u001b[39m   \u001b[38;5;66;03m# Nombre d'éléments\u001b[39;00m\n\u001b[1;32m      9\u001b[0m t \u001b[38;5;241m=\u001b[39m np\u001b[38;5;241m.\u001b[39mlinspace(temps_initial, temps_final, num_points)\n\u001b[0;32m---> 11\u001b[0m vx \u001b[38;5;241m=\u001b[39m ((\u001b[38;5;241m-\u001b[39m\u001b[38;5;241m1\u001b[39m)\u001b[38;5;241m*\u001b[39m\u001b[38;5;241m*\u001b[39mn)\u001b[38;5;241m*\u001b[39mnp\u001b[38;5;241m.\u001b[39msqrt(n\u001b[38;5;241m+\u001b[39m\u001b[38;5;241m1\u001b[39m)\u001b[38;5;241m*\u001b[39m(\u001b[43m(\u001b[49m\u001b[43mnp\u001b[49m\u001b[38;5;241;43m.\u001b[39;49m\u001b[43msin\u001b[49m\u001b[43m)\u001b[49m\u001b[38;5;241;43m*\u001b[39;49m\u001b[43m(\u001b[49m\u001b[43mnp\u001b[49m\u001b[38;5;241;43m.\u001b[39;49m\u001b[43mpi\u001b[49m\u001b[38;5;241;43m*\u001b[39;49m\u001b[43m(\u001b[49m\u001b[43mt\u001b[49m\u001b[38;5;241;43m-\u001b[39;49m\u001b[43mt\u001b[49m\u001b[43m[\u001b[49m\u001b[43mn\u001b[49m\u001b[38;5;241;43m+\u001b[39;49m\u001b[38;5;241;43m1\u001b[39;49m\u001b[43m]\u001b[49m\u001b[43m)\u001b[49m\u001b[43m)\u001b[49m)\n\u001b[1;32m     12\u001b[0m vy \u001b[38;5;241m=\u001b[39m ((\u001b[38;5;241m-\u001b[39m\u001b[38;5;241m1\u001b[39m)\u001b[38;5;241m*\u001b[39m\u001b[38;5;241m*\u001b[39mn)\u001b[38;5;241m*\u001b[39mnp\u001b[38;5;241m.\u001b[39msqrt(n\u001b[38;5;241m+\u001b[39m\u001b[38;5;241m1\u001b[39m)\u001b[38;5;241m*\u001b[39m((np\u001b[38;5;241m.\u001b[39mcos)\u001b[38;5;241m*\u001b[39m(np\u001b[38;5;241m.\u001b[39mpi\u001b[38;5;241m*\u001b[39m(t\u001b[38;5;241m-\u001b[39mt[n\u001b[38;5;241m+\u001b[39m\u001b[38;5;241m1\u001b[39m])))\n\u001b[1;32m     14\u001b[0m plt\u001b[38;5;241m.\u001b[39mplot(vx)\n",
      "\u001b[0;31mTypeError\u001b[0m: unsupported operand type(s) for *: 'numpy.ufunc' and 'float'"
     ]
    }
   ],
   "source": [
    "#Création du tableau de temps\n",
    "\n",
    "t2 = 2.7\n",
    "temps_final = t2\n",
    "temps_initial = t2-1\n",
    "pas_temps = 0.05 \"s\n",
    "\n",
    "\n",
    "intervalle = temps_final - temps_initial\n",
    "num_points = int(intervalle / pas_temps) + 1   # Nombre d'éléments\n",
    "t = np.linspace(temps_initial, temps_final, num_points)\n",
    "\n",
    "vx = ((-1)**n)*np.sqrt(n+1)*((np.sin)*(np.pi*(t-t[n+1])))\n",
    "vy = ((-1)**n)*np.sqrt(n+1)*((np.cos)*(np.pi*(t-t[n+1])))\n",
    "\n",
    "plt.plot(vx)\n",
    "plt.plot(vy)\n",
    "plt.title(\"Vitesse vx et vy dans un intervalle t2-1 à t2 de temps\")\n",
    "plt.show()"
   ]
  },
  {
   "cell_type": "code",
   "execution_count": 185,
   "id": "b4863d55-1255-4de4-bcc2-6a89f00f7f4c",
   "metadata": {
    "tags": []
   },
   "outputs": [
    {
     "ename": "TypeError",
     "evalue": "unsupported operand type(s) for *: 'numpy.ufunc' and 'float'",
     "output_type": "error",
     "traceback": [
      "\u001b[0;31m---------------------------------------------------------------------------\u001b[0m",
      "\u001b[0;31mTypeError\u001b[0m                                 Traceback (most recent call last)",
      "Cell \u001b[0;32mIn[185], line 11\u001b[0m\n\u001b[1;32m      8\u001b[0m num_points \u001b[38;5;241m=\u001b[39m \u001b[38;5;28mint\u001b[39m(intervalle \u001b[38;5;241m/\u001b[39m pas_temps) \u001b[38;5;241m+\u001b[39m \u001b[38;5;241m1\u001b[39m   \u001b[38;5;66;03m# Nombre d'éléments\u001b[39;00m\n\u001b[1;32m      9\u001b[0m t \u001b[38;5;241m=\u001b[39m np\u001b[38;5;241m.\u001b[39mlinspace(temps_initial, temps_final, num_points)\n\u001b[0;32m---> 11\u001b[0m vx \u001b[38;5;241m=\u001b[39m ((\u001b[38;5;241m-\u001b[39m\u001b[38;5;241m1\u001b[39m)\u001b[38;5;241m*\u001b[39m\u001b[38;5;241m*\u001b[39mn)\u001b[38;5;241m*\u001b[39mnp\u001b[38;5;241m.\u001b[39msqrt(n\u001b[38;5;241m+\u001b[39m\u001b[38;5;241m1\u001b[39m)\u001b[38;5;241m*\u001b[39m(\u001b[43m(\u001b[49m\u001b[43mnp\u001b[49m\u001b[38;5;241;43m.\u001b[39;49m\u001b[43msin\u001b[49m\u001b[43m)\u001b[49m\u001b[38;5;241;43m*\u001b[39;49m\u001b[43m(\u001b[49m\u001b[43mnp\u001b[49m\u001b[38;5;241;43m.\u001b[39;49m\u001b[43mpi\u001b[49m\u001b[38;5;241;43m*\u001b[39;49m\u001b[43m(\u001b[49m\u001b[43mt\u001b[49m\u001b[38;5;241;43m-\u001b[39;49m\u001b[43mt\u001b[49m\u001b[43m[\u001b[49m\u001b[43mn\u001b[49m\u001b[38;5;241;43m+\u001b[39;49m\u001b[38;5;241;43m1\u001b[39;49m\u001b[43m]\u001b[49m\u001b[43m)\u001b[49m\u001b[43m)\u001b[49m)\n\u001b[1;32m     12\u001b[0m vy \u001b[38;5;241m=\u001b[39m ((\u001b[38;5;241m-\u001b[39m\u001b[38;5;241m1\u001b[39m)\u001b[38;5;241m*\u001b[39m\u001b[38;5;241m*\u001b[39mn)\u001b[38;5;241m*\u001b[39mnp\u001b[38;5;241m.\u001b[39msqrt(n\u001b[38;5;241m+\u001b[39m\u001b[38;5;241m1\u001b[39m)\u001b[38;5;241m*\u001b[39m((np\u001b[38;5;241m.\u001b[39mcos)\u001b[38;5;241m*\u001b[39m(np\u001b[38;5;241m.\u001b[39mpi\u001b[38;5;241m*\u001b[39m(t\u001b[38;5;241m-\u001b[39mt[n\u001b[38;5;241m+\u001b[39m\u001b[38;5;241m1\u001b[39m])))\n\u001b[1;32m     14\u001b[0m plt\u001b[38;5;241m.\u001b[39mplot(vx)\n",
      "\u001b[0;31mTypeError\u001b[0m: unsupported operand type(s) for *: 'numpy.ufunc' and 'float'"
     ]
    }
   ],
   "source": [
    "# Création du tableau de temps\n",
    "\n",
    "t4 = 5\n",
    "temps_final = t4\n",
    "temps_initial = t4-1\n",
    "pas_temps = 0.05 #s\n",
    "\n",
    "\n",
    "intervalle = temps_final - temps_initial\n",
    "num_points = int(intervalle / pas_temps) + 1   # Nombre d'éléments\n",
    "t = np.linspace(temps_initial, temps_final, num_points)\n",
    "\n",
    "vx = ((-1)**n)*np.sqrt(n+1)*((np.sin)*(np.pi*(t-t[n+1])))\n",
    "vy = ((-1)**n)*np.sqrt(n+1)*((np.cos)*(np.pi*(t-t[n+1])))\n",
    "\n",
    "plt.plot(vx)\n",
    "plt.plot(vy)\n",
    "plt.title(\"Vitesse vx et vy dans un intervalle t4-1 à t4 de temps\")\n",
    "plt.show()"
   ]
  },
  {
   "cell_type": "markdown",
   "id": "95081a3e-45fe-40e6-9b48-200c4a0596de",
   "metadata": {
    "tags": []
   },
   "source": [
    "## Partie II : \n",
    "6. Représenter $v_x$ et $v_y$ en fonction de $t$ pour $t$ variant de $0$ à $t_6$. On utilisera une couleur unique pour la courbe par morceaux. On remarque que $v_x$ et $v_y$ sont des fonctions continues du temps $t$. Commenter.\n",
    "7. Représenter le module de la vitesse $\\sqrt{v_x^2+v_y^2}$ en fonction de $t$ pour $t$ variant de $0$ à $t_6$. On utilisera une couleur unique pour la courbe par morceaux. Commenter. A quoi sert un cyclotron ?"
   ]
  },
  {
   "cell_type": "code",
   "execution_count": 187,
   "id": "6fb9e227-c6fb-4e5c-ac72-a20e1006c1fc",
   "metadata": {
    "tags": []
   },
   "outputs": [
    {
     "ename": "SyntaxError",
     "evalue": "unexpected EOF while parsing (858452148.py, line 12)",
     "output_type": "error",
     "traceback": [
      "\u001b[0;36m  Cell \u001b[0;32mIn[187], line 12\u001b[0;36m\u001b[0m\n\u001b[0;31m    vitesse_y = (-1)**n*((np.sqrt(n)+(t-t[n+1])/tau)\u001b[0m\n\u001b[0m                                                    ^\u001b[0m\n\u001b[0;31mSyntaxError\u001b[0m\u001b[0;31m:\u001b[0m unexpected EOF while parsing\n"
     ]
    }
   ],
   "source": [
    "tau = 0.5\n",
    "temps_final = t6\n",
    "temps_initial = t\n",
    "pas_temps = 0.05\n",
    "\n",
    "\n",
    "intervalle = temps_final - temps_initial\n",
    "num_points = int(intervalle / pas_temps) + 1   # Nombre d'éléments\n",
    "t = np.linspace(temps_initial, temps_final, num_points)\n",
    "\n",
    "vitesse_x = np.zeros((6))\n",
    "vitesse_y = (-1)**n*((np.sqrt(n)+(t-t[n+1])/tau)\n",
    "                     \n",
    "plt.plot(vitesse_x)\n",
    "plt.plot(vitesse_y)\n",
    "plt.ylabel(vitesse)\n",
    "plt.xlabel(temps)\n",
    "plt.title(\"Vitesse x et y en fonction de temps allant de t à t6\")\n",
    "plt.grid()\n",
    "plt.show()"
   ]
  },
  {
   "cell_type": "code",
   "execution_count": null,
   "id": "1452aed1-7125-4454-9481-f6b4da43d933",
   "metadata": {},
   "outputs": [],
   "source": [
    "module_vitesse = sqrt(vitesse_x**2 + vitesse_y **2)\n",
    "print(module_vitesse)\n",
    "\n",
    "plt.plot(module_vitesse)\n",
    "plt.ylabel(vitesse)\n",
    "plt.xlabel(temps)\n",
    "plt.title(\"Module de la vitesse en fonction du temps\")\n",
    "plt.grid()\n",
    "plt.show()"
   ]
  },
  {
   "cell_type": "markdown",
   "id": "f545f479-7d10-40ff-aa77-9c153f1139aa",
   "metadata": {},
   "source": [
    "Pour le graphique du module de la vitesse on est censé observée une courbe affine passant par l'origine."
   ]
  }
 ],
 "metadata": {
  "kernelspec": {
   "display_name": "Python 3 (ipykernel)",
   "language": "python",
   "name": "python3"
  },
  "language_info": {
   "codemirror_mode": {
    "name": "ipython",
    "version": 3
   },
   "file_extension": ".py",
   "mimetype": "text/x-python",
   "name": "python",
   "nbconvert_exporter": "python",
   "pygments_lexer": "ipython3",
   "version": "3.9.7"
  }
 },
 "nbformat": 4,
 "nbformat_minor": 5
}
