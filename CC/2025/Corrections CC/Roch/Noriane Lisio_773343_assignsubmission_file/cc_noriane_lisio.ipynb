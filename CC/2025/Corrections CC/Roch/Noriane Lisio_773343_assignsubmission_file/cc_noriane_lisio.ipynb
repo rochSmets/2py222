{
 "cells": [
  {
   "cell_type": "markdown",
   "id": "5ec6fa91-10e2-4267-a738-a06dd1e9806f",
   "metadata": {},
   "source": [
    "# Contrôle Continu - LU2PY222 : Modélisation Numérique en Physique"
   ]
  },
  {
   "cell_type": "markdown",
   "id": "7b279c34-e9ae-4066-afb9-bcf1756c0a21",
   "metadata": {},
   "source": [
    "## Algorithme"
   ]
  },
  {
   "cell_type": "code",
   "execution_count": 1,
   "id": "496bc200-505c-477f-a395-8f5793454f60",
   "metadata": {},
   "outputs": [
    {
     "name": "stdout",
     "output_type": "stream",
     "text": [
      "True\n",
      "True\n",
      "True\n",
      "True\n",
      "True\n",
      "True\n",
      "True\n",
      "True\n",
      "True\n",
      "True\n"
     ]
    },
    {
     "ename": "TypeError",
     "evalue": "'numpy.ndarray' object is not callable",
     "output_type": "error",
     "traceback": [
      "\u001b[0;31m---------------------------------------------------------------------------\u001b[0m",
      "\u001b[0;31mTypeError\u001b[0m                                 Traceback (most recent call last)",
      "Cell \u001b[0;32mIn[1], line 84\u001b[0m\n\u001b[1;32m     81\u001b[0m     \u001b[38;5;28;01mreturn\u001b[39;00m v\n\u001b[1;32m     83\u001b[0m \u001b[38;5;28;01mfor\u001b[39;00m i \u001b[38;5;129;01min\u001b[39;00m \u001b[38;5;28mrange\u001b[39m(\u001b[38;5;28mlen\u001b[39m(u_1)) :\n\u001b[0;32m---> 84\u001b[0m     vx \u001b[38;5;241m=\u001b[39m np\u001b[38;5;241m.\u001b[39msqrt(i\u001b[38;5;241m+\u001b[39m\u001b[38;5;241m1\u001b[39m) \u001b[38;5;241m*\u001b[39m np\u001b[38;5;241m.\u001b[39msin(np\u001b[38;5;241m.\u001b[39mpi \u001b[38;5;241m*\u001b[39m (tableau_2 \u001b[38;5;241m-\u001b[39m \u001b[43mtableau_2\u001b[49m\u001b[43m(\u001b[49m\u001b[43mi\u001b[49m\u001b[38;5;241;43m+\u001b[39;49m\u001b[38;5;241;43m1\u001b[39;49m\u001b[43m)\u001b[49m))\n\u001b[1;32m     85\u001b[0m     vx_f \u001b[38;5;241m=\u001b[39m vx \u001b[38;5;241m*\u001b[39m esp(i)\n\u001b[1;32m     87\u001b[0m     vy \u001b[38;5;241m=\u001b[39m v_y_supinf(tableau_2)\n",
      "\u001b[0;31mTypeError\u001b[0m: 'numpy.ndarray' object is not callable"
     ]
    }
   ],
   "source": [
    "# Importation des bibliothèques\n",
    "import numpy as np\n",
    "import matplotlib.pyplot as plt\n",
    "\n",
    "# Création des tableaux et points\n",
    "x = np.arange(0, 51, 1)\n",
    "y = np.arange(0, 200, 1)\n",
    "\n",
    "tableau_1 = np.zeros(len(x))\n",
    "tableau_2 = np.zeros(len(y))\n",
    "\n",
    "u_1 = np.linspace(2, 3, 40)\n",
    "u_2 = np.linspace(4, 5, 40)\n",
    "\n",
    "# Fonction temps\n",
    "def t(x):\n",
    "    return x + 0.5 * np.sqrt(x)\n",
    "\n",
    "# Boucle pour mettre le temps i dans un tableau vide\n",
    "for i in range(len(x)):\n",
    "    tableau_1[i] = t(i)\n",
    "    \n",
    "for i in range(len(u_1)):\n",
    "    tableau_2 = t(u_1)\n",
    "    \n",
    "# Vérification en booléen\n",
    "print(t(1) == 1.5)\n",
    "print(t(4) == 5) # ou == 5.0\n",
    "print(t(9) == 10.5)\n",
    "print(t(16) == 18)\n",
    "print(t(25) == 27.5)\n",
    "# ou\n",
    "print(tableau_1[1] == 1.5)\n",
    "print(tableau_1[4] == 5) # ou == 5.0\n",
    "print(tableau_1[9] == 10.5)\n",
    "print(tableau_1[16] == 18)\n",
    "print(tableau_1[25] == 27.5) \n",
    "    \n",
    "# Pour aller de t2-1 à t2\n",
    "a = int(t(3))   \n",
    "b = int(t(2))\n",
    "# Pour aller de t4-1 à t4\n",
    "a = int(t(5))   \n",
    "b = int(t(4))\n",
    "\n",
    "# Fonction pour ne sélectionner que l'intervalle voulu\n",
    "def inter_2(x) :\n",
    "    t = []\n",
    "    for i in range(len(x)):\n",
    "        if x[i] > a :\n",
    "            tu = 0\n",
    "        elif x[i] < b :\n",
    "            tu = 0\n",
    "        else :\n",
    "            t[i] = x[i]\n",
    "        return t    \n",
    "    \n",
    "# Epsilon parité\n",
    "def eps(n):\n",
    "    if n % 2 == 0 :\n",
    "        epsilon = 1\n",
    "        return epsilon\n",
    "    else :\n",
    "        epsilon = -1\n",
    "        return epsilon\n",
    "\n",
    "esp = np.ones(len(u_1))\n",
    "    \n",
    "# Vitesse entre D\n",
    "def v_y_entre(n):\n",
    "    v = (np.sqrt(n) + (tableau_2 - tableau(n) / 0.5))\n",
    "    return v\n",
    "\n",
    "# Vitesse sup ou inf à D\n",
    "def v_x_supinf(n):\n",
    "    v = np.sqrt(n+1) * np.sin(np.pi * (tableau_2 - tableau_2(i+1)))\n",
    "    return v\n",
    "\n",
    "def v_y_supinf(n):\n",
    "    v = np.sqrt(n+1) * np.cos(np.pi * (tableau_2 - tableau_2(n+1)))\n",
    "    return v\n",
    "\n",
    "for i in range(len(u_1)) :\n",
    "    vx = np.sqrt(i+1) * np.sin(np.pi * (tableau_2 - tableau_2(i+1)))\n",
    "    vx_f = vx * esp(i)\n",
    "    \n",
    "    vy = v_y_supinf(tableau_2)\n",
    "    vy_f = vy * - esp(i)\n",
    "    \n",
    "\n",
    "# Graphique\n",
    "plt.plot(tableau_2, v_x_supinf(tableau_2))\n",
    "plt.title(\"𝑣𝑥 en fonction de 𝑡\")\n",
    "plt.xlabel(\"Temps\")\n",
    "plt.ylabel(\"Vitesse en x\")\n",
    "plt.show()"
   ]
  },
  {
   "cell_type": "code",
   "execution_count": null,
   "id": "64440809-c50d-44a6-aed8-b07a800a7613",
   "metadata": {},
   "outputs": [],
   "source": []
  },
  {
   "cell_type": "code",
   "execution_count": null,
   "id": "298cb90b-66e3-4198-a4d0-e4f68b0ca192",
   "metadata": {},
   "outputs": [],
   "source": []
  }
 ],
 "metadata": {
  "kernelspec": {
   "display_name": "Python 3 (ipykernel)",
   "language": "python",
   "name": "python3"
  },
  "language_info": {
   "codemirror_mode": {
    "name": "ipython",
    "version": 3
   },
   "file_extension": ".py",
   "mimetype": "text/x-python",
   "name": "python",
   "nbconvert_exporter": "python",
   "pygments_lexer": "ipython3",
   "version": "3.12.9"
  }
 },
 "nbformat": 4,
 "nbformat_minor": 5
}
