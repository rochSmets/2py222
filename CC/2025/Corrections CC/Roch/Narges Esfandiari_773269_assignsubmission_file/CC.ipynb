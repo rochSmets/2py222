{
 "cells": [
  {
   "cell_type": "markdown",
   "id": "05508918-b387-4ddb-9cf7-404cff0ad158",
   "metadata": {},
   "source": [
    "## Contrôle Continu - LU2PY222 : Modélisation Numérique en Physique\n",
    "\n",
    "### ESFANDIARI Narges - Mono 2"
   ]
  },
  {
   "cell_type": "code",
   "execution_count": 154,
   "id": "46f57be9-58a6-4685-8a98-a76c86908bc8",
   "metadata": {},
   "outputs": [],
   "source": [
    "#On importe les bibliothèques dont on a besoin :\n",
    "import numpy as np\n",
    "import matplotlib.pyplot as plt\n",
    "import pandas as pd "
   ]
  },
  {
   "cell_type": "markdown",
   "id": "c4c7f3a6-7e12-4021-9c57-0e28cba0a604",
   "metadata": {},
   "source": [
    "### Partie I\n",
    "#### Question 1"
   ]
  },
  {
   "cell_type": "code",
   "execution_count": 155,
   "id": "c4951506-c6ef-4d60-a667-840d6e34158b",
   "metadata": {
    "tags": []
   },
   "outputs": [
    {
     "name": "stdout",
     "output_type": "stream",
     "text": [
      "[ 0.  1.  2.  3.  4.  5.  6.  7.  8.  9. 10. 11. 12. 13. 14. 15. 16. 17.\n",
      " 18. 19. 20. 21. 22. 23. 24. 25. 26. 27. 28. 29. 30. 31. 32. 33. 34. 35.\n",
      " 36. 37. 38. 39. 40. 41. 42. 43. 44. 45. 46. 47. 48. 49. 50.]\n"
     ]
    }
   ],
   "source": [
    "#données\n",
    "t0 = 0\n",
    "tau = 0.5\n",
    "\n",
    "#définition de fonction\n",
    "def t(n):\n",
    "    return n + tau* np.sqrt(n)\n",
    "\n",
    "# Paramètres\n",
    "start = t0   # borne inférieure\n",
    "end = 50      # borne supérieure\n",
    "step = 1      # pas\n",
    "\n",
    "# Création du tableau\n",
    "interval = end - start                     # intervalle\n",
    "num_points = int(interval / step) + 1      # nombre d'éléments\n",
    "g = np.linspace(start, end, num_points)    # tableau\n",
    "\n",
    "#vérification\n",
    "print(g)"
   ]
  },
  {
   "cell_type": "markdown",
   "id": "fc2b7fdd-322d-458b-91a1-a2f39d40c897",
   "metadata": {
    "tags": []
   },
   "source": [
    "#### Question 2"
   ]
  },
  {
   "cell_type": "code",
   "execution_count": 156,
   "id": "fc99b7ee-6e0e-425c-a4da-9d00bd3be006",
   "metadata": {},
   "outputs": [
    {
     "name": "stdout",
     "output_type": "stream",
     "text": [
      "True\n",
      "True\n",
      "True\n",
      "True\n",
      "True\n"
     ]
    }
   ],
   "source": [
    "#vérification des valeurs demandées avec des opérateurs booléens\n",
    "\n",
    "print( t(1) == 1.5)\n",
    "print( t(4) == 5)\n",
    "print( t(9) == 10.5)\n",
    "print( t(16) == 18)\n",
    "print( t(25) == 27.5)\n"
   ]
  },
  {
   "cell_type": "markdown",
   "id": "1c81f3ce-88c4-4448-af71-b914e457423e",
   "metadata": {
    "tags": []
   },
   "source": [
    "#### Question 3"
   ]
  },
  {
   "cell_type": "code",
   "execution_count": 191,
   "id": "6a0b2ade-eb9e-4dd1-97a4-b53ba21deec4",
   "metadata": {
    "tags": []
   },
   "outputs": [
    {
     "name": "stdout",
     "output_type": "stream",
     "text": [
      "1.1252801171448006\n",
      "-0.8565889667504387\n",
      "2.4492935982947064e-16\n",
      "-2.0\n"
     ]
    }
   ],
   "source": [
    "#définition des paramètres\n",
    "\n",
    "def epsilon(n):\n",
    "    return (-1)**n\n",
    "\n",
    "#vérification\n",
    "'''epsilon(2)\n",
    "epsilon(5)'''\n",
    "\n",
    "#vitesse pour t2 - 1 à t2\n",
    "\n",
    "#tableau du temps pour t2\n",
    "#définition des paramètres\n",
    "t2_1 = (t(2) - 1)\n",
    "#print(t2_1)\n",
    "\n",
    "t2 = t(2)\n",
    "#print(t2)\n",
    "\n",
    "#création du tableau temps\n",
    "temps2 = np.arange(t2_1, t2+0.01, 0.01)\n",
    "\n",
    "#vérification\n",
    "#print(temps2)\n",
    "\n",
    "for i in temps2:\n",
    "    def Vx2(t):\n",
    "        return epsilon(1)* np.sqrt(2) * np.sin(np.pi * (t - t2))\n",
    "\n",
    "\n",
    "for i in temps2:\n",
    "    def Vy2(t):\n",
    "        return - epsilon(1)* np.sqrt(2) * np.cos(np.pi * (t - t2))\n",
    "\n",
    "#vérification\n",
    "print(Vx2(2))\n",
    "print(Vy2(2))\n",
    "\n",
    "#vitesse pour t4 - 1 à t4\n",
    "\n",
    "#tableau du temps pour t4\n",
    "#définition des paramètres\n",
    "t4_1 = (t(4) - 1)\n",
    "#print(t4_1)\n",
    "\n",
    "t4 = t(4)\n",
    "#print(t4)\n",
    "\n",
    "#création du tableau temps\n",
    "temps4 = np.arange(t4_1, t4+0.01, 0.01)\n",
    "\n",
    "#vérification\n",
    "#print(temps4)\n",
    "#t4 = float(t(4))\n",
    "\n",
    "\n",
    "for i in temps4:\n",
    "    def Vx4(t):\n",
    "        return epsilon(3)* np.sqrt(4) * np.sin(np.pi * (t - t4))\n",
    "\n",
    "\n",
    "for i in temps4:\n",
    "    def Vy4(t):\n",
    "        return - epsilon(3)* np.sqrt(4) * np.cos(np.pi * (t - t4))\n",
    "\n",
    "#vérification\n",
    "print(Vx4(4))\n",
    "print(Vy4(4))"
   ]
  },
  {
   "cell_type": "markdown",
   "id": "557169f4-6ce2-4b26-b7f3-6cf5e6907eb4",
   "metadata": {
    "tags": []
   },
   "source": [
    "#### Question 4"
   ]
  },
  {
   "cell_type": "code",
   "execution_count": 193,
   "id": "e093ab50-e222-4a2d-93d5-9c6d83f4e06b",
   "metadata": {
    "tags": []
   },
   "outputs": [
    {
     "name": "stdout",
     "output_type": "stream",
     "text": [
      "5.271690776055661e-09\n"
     ]
    }
   ],
   "source": [
    "#print(Vx2(1.70710678))\n",
    "#print(Vx2(2.70710678))\n",
    "\n",
    "Vx2 = np.arange(-5.271691395089771e-09, 5.271690776055661e-09, 0.01)\n",
    "print(Vx2)\n",
    "Vy2 = np.arange(-1.4142135623730951, 5.271690776055661e-09, 0.01)\n",
    "#print(Vy2)"
   ]
  },
  {
   "cell_type": "code",
   "execution_count": null,
   "id": "9ec004b9-8d7a-4602-9674-bc8b46f3541b",
   "metadata": {
    "tags": []
   },
   "outputs": [],
   "source": [
    "#les graphiques\n",
    "\n",
    "#pour t2-1 à t2:\n",
    "plt.plot(temps2, Vx2, '.', label = \"Vx en fonction du temps\")\n",
    "plt.plot(temps2, Vy2, '.', label = \"Vy en fonction du temps\")\n",
    "plt.title(\"vitesse en fonction du temps\")\n",
    "plt.xlabel(\"temps\")\n",
    "plt.ylabel(\"vitesse\")\n",
    "plt.legend()\n",
    "plt.show()\n",
    "\n",
    "'''#pour t4-1 à t4:\n",
    "plt.plot(temps4, Vx4, '.', label = \"Vx en fonction du temps\")\n",
    "plt.plot(temps4, Vy4, '.', label = \"Vy en fonction du temps\")\n",
    "plt.title(\"vitesse en fonction du temps\")\n",
    "plt.xlabel(\"temps\")\n",
    "plt.ylabel(\"vitesse\")\n",
    "plt.legend()\n",
    "plt.show()'''"
   ]
  },
  {
   "cell_type": "code",
   "execution_count": null,
   "id": "15d0c187-d285-47cb-bb52-b7d9a50b7a42",
   "metadata": {},
   "outputs": [],
   "source": []
  }
 ],
 "metadata": {
  "kernelspec": {
   "display_name": "Python 3 (ipykernel)",
   "language": "python",
   "name": "python3"
  },
  "language_info": {
   "codemirror_mode": {
    "name": "ipython",
    "version": 3
   },
   "file_extension": ".py",
   "mimetype": "text/x-python",
   "name": "python",
   "nbconvert_exporter": "python",
   "pygments_lexer": "ipython3",
   "version": "3.9.7"
  }
 },
 "nbformat": 4,
 "nbformat_minor": 5
}
