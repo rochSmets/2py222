{
 "cells": [
  {
   "cell_type": "markdown",
   "id": "30ef9709-30a9-4d4e-93c0-e7b0febbc9f0",
   "metadata": {},
   "source": [
    "# Compte-Rendu Contrôle Continue"
   ]
  },
  {
   "cell_type": "code",
   "execution_count": 1,
   "id": "4e6da4ee-a8aa-4685-8326-71b52a509b39",
   "metadata": {},
   "outputs": [],
   "source": [
    "# Particule dans un cy"
   ]
  },
  {
   "cell_type": "markdown",
   "id": "f955b6e2-5c3b-4cae-8be4-7149b7cbdb6b",
   "metadata": {},
   "source": [
    "## Partie 1"
   ]
  },
  {
   "cell_type": "markdown",
   "id": "88c5da8e-eb69-43f6-844a-0c1283dbcb07",
   "metadata": {},
   "source": [
    "## Question 1"
   ]
  },
  {
   "cell_type": "code",
   "execution_count": 12,
   "id": "15b40ace-61f5-4664-b079-4281035e2647",
   "metadata": {
    "tags": []
   },
   "outputs": [
    {
     "name": "stdout",
     "output_type": "stream",
     "text": [
      "[ 0.          1.5         2.70710678  3.8660254   5.          6.11803399\n",
      "  7.22474487  8.32287566  9.41421356 10.5        11.58113883 12.6583124\n",
      " 13.73205081 14.80277564 15.87082869 16.93649167 18.         19.06155281\n",
      " 20.12132034 21.17944947 22.23606798 23.29128785 24.34520788 25.39791576\n",
      " 26.44948974 27.5        28.54950976 29.59807621 30.64575131 31.6925824\n",
      " 32.73861279 33.78388218 34.82842712 35.87228132 36.91547595 37.95803989\n",
      " 39.         40.04138127 41.082207   42.122499   43.16227766 44.20156212\n",
      " 45.24037035 46.27871926 47.31662479 48.35410197 49.39116499 50.4278273\n",
      " 51.46410162 52.5       ]\n"
     ]
    }
   ],
   "source": [
    "import numpy as np\n",
    "#Création d'un tableau d'entiers entre 0 et 50\n",
    "n=np.arange(0,50,1) \n",
    "\n",
    "#Tableau pour y stocker les valeurs de tn\n",
    "t_n= np.ones((50,), dtype= 'float64')\n",
    "\n",
    "#Définition de la variable taux\n",
    "taux= 0.5\n",
    "\n",
    "#Calcul du temps\n",
    "t_n= n + taux * np.sqrt(n)    \n",
    "print(t_n)"
   ]
  },
  {
   "cell_type": "markdown",
   "id": "65810bb6-4e00-49ed-8c61-39b5613ecf7b",
   "metadata": {},
   "source": [
    "## Question 2"
   ]
  },
  {
   "cell_type": "code",
   "execution_count": 3,
   "id": "03f80f56-1749-4b9a-a108-2d35d9be7c97",
   "metadata": {
    "tags": []
   },
   "outputs": [
    {
     "name": "stdout",
     "output_type": "stream",
     "text": [
      "True\n",
      "True\n",
      "True\n"
     ]
    }
   ],
   "source": [
    "#Défintion des booléens\n",
    "bool_1 = t_n[1] == 1.5\n",
    "bool_2 = t_n[4] == 5\n",
    "bool_3 = t_n[9] == 10.5\n",
    "bool_4 = t_n[16] == 18\n",
    "\n",
    "# Opération logique sur les tableaux de booléens\n",
    "print(np.logical_and(bool_1, bool_2))\n",
    "print(np.logical_and(bool_3, bool_4))\n",
    "print(t_n[25] == 27.5)"
   ]
  },
  {
   "cell_type": "markdown",
   "id": "19eb5b76-5bb0-4182-a75b-9efe1ffdf30a",
   "metadata": {},
   "source": [
    "## Question 3"
   ]
  },
  {
   "cell_type": "code",
   "execution_count": 11,
   "id": "ccd75387-7177-4160-b99a-a25e8a42ab67",
   "metadata": {
    "tags": []
   },
   "outputs": [
    {
     "ename": "SyntaxError",
     "evalue": "invalid syntax (308241409.py, line 14)",
     "output_type": "error",
     "traceback": [
      "\u001b[0;36m  Cell \u001b[0;32mIn[11], line 14\u001b[0;36m\u001b[0m\n\u001b[0;31m    v_y[i]=  -( np.sqrt(n_ + 1) * np.cos* (np.pi(t_n[k] - t_n[k+1])\u001b[0m\n\u001b[0m    ^\u001b[0m\n\u001b[0;31mSyntaxError\u001b[0m\u001b[0;31m:\u001b[0m invalid syntax\n"
     ]
    }
   ],
   "source": [
    "#Création d'un tableau d'entiers entre 0 et 50\n",
    "N=50\n",
    "n_= np.arange(N) \n",
    "\n",
    "# Création de tableaux des vitesse pour y stocker les valeurs\n",
    "v_x = np.zeros(N, dtype = 'int64')\n",
    "v_y = np.zeros(N, dtype = 'int64')\n",
    "\n",
    "#Définition de la variable t2 (2.70)\n",
    "t_2=t_n[2]\n",
    "\n",
    "#Boucle pour calculer les vitesse de t2 - 1 à t2 entre 0 et 50\n",
    "for i in range(0, N):\n",
    "    for k in range(t_2-1, t_2):\n",
    "        v_x[i]=  np.sqrt(n_ + 1) * np.sin* (np.pi(t_n[k] - t_n[k+1])\n",
    "        v_y[i]=  -( np.sqrt(n_ + 1) * np.cos* (np.pi(t_n[k] - t_n[k+1])\n",
    "\n",
    "#Affichage des vitesses                                       \n",
    "print(\"Vitesse selon x : \" , v_x[i])\n",
    "print(\"Vitesse selon x : \" , v_y)                          "
   ]
  },
  {
   "cell_type": "code",
   "execution_count": null,
   "id": "6cce84c0-114b-4f4b-a42a-80cbdb862e7c",
   "metadata": {
    "tags": []
   },
   "outputs": [],
   "source": [
    "#Définition de la variable t4 (5)\n",
    "t_4=t_n[4]\n",
    "\n",
    "# Création de tableaux des vitesse pour y stocker les valeurs\n",
    "vx = np.zeros(N, dtype = 'int64')\n",
    "vy = np.zeros(N, dtype = 'int64')\n",
    "\n",
    "#Boucle pour calculer les vitesse de t4 - 1 à t4 entre 0 et 50\n",
    "for i in range(0, N):\n",
    "    for k in range(t_4-1, t_4):\n",
    "        vx[i]=  np.sqrt(n + 1) * np.sin* (np.pi(t_n[k] - t_n[k+1]))\n",
    "        vy[i]=  -(np.sqrt(n + 1) * np.cos* (np.pi(t_n[k] - t_n[k+1]))\n",
    "                  \n",
    "#Affichage des vitesses \n",
    "print(\"Vitesse selon x : \" , vx)\n",
    "print(\"Vitesse selon x : \" , vy)           "
   ]
  },
  {
   "cell_type": "markdown",
   "id": "625faa22-130a-46c6-ade1-516e910589c7",
   "metadata": {},
   "source": [
    "## Question 4"
   ]
  },
  {
   "cell_type": "code",
   "execution_count": null,
   "id": "00febaea-af17-4df7-bceb-0c299ab91fd1",
   "metadata": {},
   "outputs": [],
   "source": [
    "# Tableau des abscisses \n",
    "x = np.arange(1.70, 2.70, 0.1)\n",
    "\n",
    "\n",
    "# Tracé des différentes courbes de vitesse\n",
    "plt.plot(x, v_x, label = 'Vitesse selon x')\n",
    "plt.plot(x, v_y, label = 'Vitesse selon y')\n",
    "\n",
    "\n",
    "# Titres et autres\n",
    "plt.title('Vitesse de x et y en fonction du temps')\n",
    "plt.xlabel('Temps')\n",
    "plt.ylabel('Vitesse de x et y')\n",
    "plt.grid()\n",
    "plt.legend()\n",
    "plt.show()"
   ]
  },
  {
   "cell_type": "code",
   "execution_count": null,
   "id": "f9d6cbc2-7cef-4ee3-94b3-4c2ab8b2795c",
   "metadata": {
    "tags": []
   },
   "outputs": [],
   "source": [
    "# Tableau des abscisses \n",
    "x = np.arange(4, 5, 0.1)\n",
    "\n",
    "\n",
    "# Tracé des différentes courbes de vitesse\n",
    "plt.plot(x, vx, label = 'Vitesse selon x')\n",
    "plt.plot(x, vy, label = 'Vitesse selon y')\n",
    "\n",
    "\n",
    "# Titres et autres\n",
    "plt.title('Vitesse de x et y en fonction du temps')\n",
    "plt.xlabel('Temps')\n",
    "plt.ylabel('Vitesse de x et y')\n",
    "plt.grid()\n",
    "plt.legend()\n",
    "plt.show()\n"
   ]
  },
  {
   "cell_type": "markdown",
   "id": "62397262-0e1b-4efa-8356-42736e0e89c6",
   "metadata": {},
   "source": [
    "# Partie 2"
   ]
  },
  {
   "cell_type": "markdown",
   "id": "ad8f8043-4e1a-4f06-aa07-dc19552885a6",
   "metadata": {},
   "source": [
    "## Question 6"
   ]
  },
  {
   "cell_type": "code",
   "execution_count": null,
   "id": "1c0d6057-e866-4b51-8f47-54b963f2ac7c",
   "metadata": {},
   "outputs": [],
   "source": [
    "#Définition de la variable t6 (7.22)\n",
    "t_6=t_n[6]\n",
    "\n",
    "# Création de tableaux des vitesse pour y stocker les valeurs\n",
    "vit_x = np.zeros(N, dtype = 'int64')\n",
    "vit_y = np.zeros(N, dtype = 'int64')\n",
    "\n",
    "#Boucle pour calculer les vitesse de 0 à t6 entre 0 et 50\n",
    "for i in range(0, N):\n",
    "    for k in range(0, t_6):\n",
    "        vit_x[i]=  np.sqrt(n + 1) * np.sin* (np.pi(t_n[k] - t_n[k+1]))\n",
    "        vit_y[i]=  -(np.sqrt(n + 1) * np.cos* (np.pi(t_n[k] - t_n[k+1]))\n",
    "                  \n",
    "#Affichage des vitesses \n",
    "print(\"Vitesse selon x : \" , vit_x)\n",
    "print(\"Vitesse selon x : \" , vit_y) "
   ]
  },
  {
   "cell_type": "code",
   "execution_count": null,
   "id": "8b114771-6159-4af7-b084-a88e8b78a67a",
   "metadata": {},
   "outputs": [],
   "source": [
    "# Tableau des abscisses \n",
    "x = np.arange(0, 7.22, 0.1)\n",
    "\n",
    "\n",
    "# Tracé des différentes courbes de vitesse\n",
    "plt.plot(x, vit_x, label = 'Vitesse selon x')\n",
    "plt.plot(x, vit_y, label = 'Vitesse selon y')\n",
    "\n",
    "\n",
    "# Titres et autres\n",
    "plt.title('Vitesse de x et y en fonction du temps')\n",
    "plt.xlabel('Temps')\n",
    "plt.ylabel('Vitesse de x et y')\n",
    "plt.grid()\n",
    "plt.legend()\n",
    "plt.show()"
   ]
  },
  {
   "cell_type": "markdown",
   "id": "7e7ab00f-a3bc-4520-b704-692f17786ea4",
   "metadata": {},
   "source": [
    "## Question 7"
   ]
  },
  {
   "cell_type": "code",
   "execution_count": null,
   "id": "b277670f-3553-45fc-bbe1-fbad9ef5179a",
   "metadata": {},
   "outputs": [],
   "source": [
    "#Boucle qui calcule module de la vitesse\n",
    "for k in range(0, t_6):\n",
    "    module_vitesse= np.sqrt (vit_x**2[k] + vit_y**2[k])\n",
    "        \n",
    "#Affichage module vitesse\n",
    "print(\"Module vitesse : \" , module_vitesse)"
   ]
  },
  {
   "cell_type": "code",
   "execution_count": null,
   "id": "fe40e328-9a86-48c3-aec2-9943a61f9e3f",
   "metadata": {},
   "outputs": [],
   "source": [
    "# Tableau des abscisses \n",
    "x = np.arange(0, 7.22, 0.1)\n",
    "\n",
    "\n",
    "# Tracé des différentes courbes de vitesse\n",
    "plt.plot(x, module_vitesse, label = 'Module vitesse')\n",
    "\n",
    "\n",
    "\n",
    "# Titres et autres\n",
    "plt.title('Module vitesse en fonction du temps')\n",
    "plt.xlabel('Temps')\n",
    "plt.ylabel('Vitesse de x et y')\n",
    "plt.grid()\n",
    "plt.legend()\n",
    "plt.show()"
   ]
  },
  {
   "cell_type": "markdown",
   "id": "fc22fa3e-1aeb-4680-affd-00003c38b56f",
   "metadata": {},
   "source": [
    "## Question 8"
   ]
  },
  {
   "cell_type": "code",
   "execution_count": null,
   "id": "5cd32547-b4e9-4b68-9fff-2ae97e5a8280",
   "metadata": {},
   "outputs": [],
   "source": [
    "#Boucle qui cacule\n",
    "for i in range(0, N):\n",
    "    for k in range(0, t_n):\n",
    "    module_vit= np.sqrt (vit_x**2(t_n)[k] + vit_y**2(t_n)[k])\n",
    "    \n",
    "    \n",
    "print(\"Module vitesse : \" , module_vit)"
   ]
  },
  {
   "cell_type": "code",
   "execution_count": null,
   "id": "a5a368d6-3e9c-4cac-b6c5-78d6e8815e73",
   "metadata": {},
   "outputs": [],
   "source": [
    " \n",
    "x = t_n - N\n",
    "\n",
    "\n",
    "# Tracé des différentes courbes de vitesse\n",
    "plt.plot(x, module_vitesse, label = 'Module vitesse')\n",
    "\n",
    "\n",
    "\n",
    "# Titres et autres\n",
    "plt.title('Module vitesse en fonction du temps')\n",
    "plt.xlabel('Temps')\n",
    "plt.ylabel('Vitesse de x et y')\n",
    "plt.grid()\n",
    "plt.legend()\n",
    "plt.show()"
   ]
  }
 ],
 "metadata": {
  "kernelspec": {
   "display_name": "Python 3 (ipykernel)",
   "language": "python",
   "name": "python3"
  },
  "language_info": {
   "codemirror_mode": {
    "name": "ipython",
    "version": 3
   },
   "file_extension": ".py",
   "mimetype": "text/x-python",
   "name": "python",
   "nbconvert_exporter": "python",
   "pygments_lexer": "ipython3",
   "version": "3.9.7"
  }
 },
 "nbformat": 4,
 "nbformat_minor": 5
}
