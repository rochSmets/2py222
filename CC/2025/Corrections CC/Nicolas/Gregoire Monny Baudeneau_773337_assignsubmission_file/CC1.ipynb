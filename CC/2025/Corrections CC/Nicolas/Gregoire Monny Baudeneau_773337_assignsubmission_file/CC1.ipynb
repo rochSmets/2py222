{
 "cells": [
  {
   "cell_type": "markdown",
   "id": "e15e8094-50e5-4a10-9f7d-16475de77a49",
   "metadata": {},
   "source": [
    "# Compte-rendu CC 1"
   ]
  },
  {
   "cell_type": "markdown",
   "id": "76c77e5d-c5b3-4056-a97f-698b61ebd93f",
   "metadata": {},
   "source": [
    "## Partie 1"
   ]
  },
  {
   "cell_type": "markdown",
   "id": "79961d5a-e4b3-4074-8971-7031b0c99927",
   "metadata": {},
   "source": [
    "importation des modules "
   ]
  },
  {
   "cell_type": "code",
   "execution_count": 4,
   "id": "218bf67f-4b5a-4b2b-bd6d-482009551ccb",
   "metadata": {
    "tags": []
   },
   "outputs": [],
   "source": [
    "import numpy as np"
   ]
  },
  {
   "cell_type": "markdown",
   "id": "35acaa00-6c55-4f78-8df3-7eb3cf802218",
   "metadata": {
    "tags": []
   },
   "source": [
    "on définit nos paramètres ainsi que notre varibale de temps qu'on initialise aussi"
   ]
  },
  {
   "cell_type": "code",
   "execution_count": 5,
   "id": "87e55d90-3ffc-4a8f-b98c-4fd7dccf1938",
   "metadata": {
    "tags": []
   },
   "outputs": [],
   "source": [
    "Tau = 0.5\n",
    "t = np.zeros(50)\n",
    "t[0] = 0  "
   ]
  },
  {
   "cell_type": "markdown",
   "id": "92b4a68a-5f0b-42d1-ac57-346ab2ad604c",
   "metadata": {
    "tags": []
   },
   "source": [
    "on peut maintenant créer notre boucle de temps "
   ]
  },
  {
   "cell_type": "code",
   "execution_count": 6,
   "id": "afe45340-8ba0-4266-8742-13ae53d98aee",
   "metadata": {
    "tags": []
   },
   "outputs": [],
   "source": [
    "for i in range(1,50):\n",
    "    t[i] = [i] + Tau * np.sqrt([i])"
   ]
  },
  {
   "cell_type": "code",
   "execution_count": 7,
   "id": "770eecfe-e2a7-43b0-88b0-9e2d14f921c5",
   "metadata": {
    "tags": []
   },
   "outputs": [
    {
     "name": "stdout",
     "output_type": "stream",
     "text": [
      "[ 0.          1.5         2.70710678  3.8660254   5.          6.11803399\n",
      "  7.22474487  8.32287566  9.41421356 10.5        11.58113883 12.6583124\n",
      " 13.73205081 14.80277564 15.87082869 16.93649167 18.         19.06155281\n",
      " 20.12132034 21.17944947 22.23606798 23.29128785 24.34520788 25.39791576\n",
      " 26.44948974 27.5        28.54950976 29.59807621 30.64575131 31.6925824\n",
      " 32.73861279 33.78388218 34.82842712 35.87228132 36.91547595 37.95803989\n",
      " 39.         40.04138127 41.082207   42.122499   43.16227766 44.20156212\n",
      " 45.24037035 46.27871926 47.31662479 48.35410197 49.39116499 50.4278273\n",
      " 51.46410162 52.5       ]\n"
     ]
    }
   ],
   "source": [
    "# on veut mettre le résultat sous forme de tableau \n",
    "print(t) "
   ]
  },
  {
   "cell_type": "markdown",
   "id": "c334b072-99ce-46fb-84c7-09abef39dcc2",
   "metadata": {},
   "source": [
    "on vérifie que nous avons les bonnes valeurs à l'aide d'opérateurs boléens "
   ]
  },
  {
   "cell_type": "code",
   "execution_count": 15,
   "id": "e707f948-fa83-4761-a0f8-3b492aebad9f",
   "metadata": {
    "tags": []
   },
   "outputs": [
    {
     "name": "stdout",
     "output_type": "stream",
     "text": [
      "True\n"
     ]
    }
   ],
   "source": [
    "bool_1 = t[1] == 1.5\n",
    "bool_2 = t[4] == 5\n",
    "bool_3 = t[9] == 10.5\n",
    "bool_4 = t[16] == 18"
   ]
  },
  {
   "cell_type": "code",
   "execution_count": 16,
   "id": "a5cd07b6-4256-4658-a4f6-484623bd9c90",
   "metadata": {
    "tags": []
   },
   "outputs": [
    {
     "name": "stdout",
     "output_type": "stream",
     "text": [
      "True\n",
      "True\n",
      "True\n"
     ]
    }
   ],
   "source": [
    "print(np.logical_and(bool_1, bool_2))\n",
    "print(np.logical_and(bool_3, bool_5))\n",
    "if t[25] == 27.5:\n",
    "    print(True)"
   ]
  },
  {
   "cell_type": "markdown",
   "id": "246fa2b9-040f-4c45-b28d-ca73a4ff4755",
   "metadata": {},
   "source": [
    "nous pouvons alors constater que nos valeurs attendues sont les bonnes "
   ]
  },
  {
   "cell_type": "code",
   "execution_count": 70,
   "id": "fcfbbe04-1b8f-4a30-9128-e131ec8abf38",
   "metadata": {
    "tags": []
   },
   "outputs": [],
   "source": [
    "# exprimons alors les valeurs de vx et vy\n",
    "\n",
    "vx_t2= np.zeros(50)\n",
    "vy_t2 = np.zeros(50)\n",
    "\n",
    "# on définit nos fonctions de vitesse en x et y \n",
    "\n",
    "t = np.zeros(50)\n",
    "if t[i] < t < t[i +1]:\n",
    "    for i in range(0,25):\n",
    "    t[i] = [i] + Tau * np.sqrt([i])\n",
    "    vx_t2 = 0\n",
    "    vy_t2 = (-1) * np.sqrt([i]) + (t - t[2]) / Tau\n",
    "    \n",
    "    for i in range(0,25):\n",
    "    vx_t2 = 0\n",
    "    vy_t2 = (-1) * np.sqrt([2] - 1) + (t - t[2] - 1) / Tau\n",
    "return\n",
    "\n",
    "if t[i] < t < t[i +1]:\n",
    "    for i in range(0,25):\n",
    "    vx_t4 = 0\n",
    "    vy_t4 = (-1) * np.sqrt([i]) + (t - t[4]) / Tau\n",
    "    \n",
    "for i in range(0,25):\n",
    "    vx_t4 = 0\n",
    "    vy_t4 = (-1) * np.sqrt([i]) + (t - t[4] - 1) / Tau\n",
    "    \n",
    "return\n",
    "\n",
    "if t[i +1] - 1 < t < t[i +1]:\n",
    "    for i in range(0,25):\n",
    "    vx_t2 = np.sqrt([2]) * np.sin(np.pi * (t - t[2]))\n",
    "    vy_t2 = - np.sqrt([2]) * np.cos(np.pi * (t - t[2]))\n",
    "    \n",
    "    for i in range(0,25):\n",
    "    vx_t2 = np.sqrt([2] - 1) * np.sin(np.pi * (t - t[2] - 1))\n",
    "    vy_t2 = - np.sqrt([2] - 1) * np.cos(np.pi * (t - t[2] - 1))\n",
    "    \n",
    "    for i in range(0,25):\n",
    "    vx_t4 = np.sqrt([4] - 1) * np.sin(np.pi * (t - t[4] - 1))\n",
    "    vy_t4 = - np.sqrt([4] - 1) * np.cos(np.pi * (t - t[4] - 1))\n",
    "\n",
    "        "
   ]
  },
  {
   "cell_type": "code",
   "execution_count": 69,
   "id": "7a86537d-4d06-4574-aa03-417dadba7b59",
   "metadata": {
    "tags": []
   },
   "outputs": [
    {
     "ename": "IndentationError",
     "evalue": "expected an indented block (1553841221.py, line 3)",
     "output_type": "error",
     "traceback": [
      "\u001b[0;36m  Cell \u001b[0;32mIn[69], line 3\u001b[0;36m\u001b[0m\n\u001b[0;31m    vy(t) = np.sqrt([i]) + (t - t[i]) / Tau\u001b[0m\n\u001b[0m    ^\u001b[0m\n\u001b[0;31mIndentationError\u001b[0m\u001b[0;31m:\u001b[0m expected an indented block\n"
     ]
    }
   ],
   "source": [
    "if t[i] < t < t[i +1]:\n",
    "    for i in range(1,25):\n",
    "    vy = np.sqrt([i]) + (t - t[i]) / Tau\n",
    "        \n",
    "#pour t variant de tn+1 -1 à tn+1\n",
    "if t[i +1] - 1 < t < t[i +1]:\n",
    "    for i in range(1,25):\n",
    "        vx = np.sqrt([i + 1]) * np.sin(np.pi * (t - t[i]))\n",
    "        \n",
    "    for i in range(1,25):\n",
    "        vy = - np.sqrt([i + 1]) * np.cos(np.pi * (t - t[i]))"
   ]
  }
 ],
 "metadata": {
  "kernelspec": {
   "display_name": "Python 3 (ipykernel)",
   "language": "python",
   "name": "python3"
  },
  "language_info": {
   "codemirror_mode": {
    "name": "ipython",
    "version": 3
   },
   "file_extension": ".py",
   "mimetype": "text/x-python",
   "name": "python",
   "nbconvert_exporter": "python",
   "pygments_lexer": "ipython3",
   "version": "3.9.7"
  }
 },
 "nbformat": 4,
 "nbformat_minor": 5
}
