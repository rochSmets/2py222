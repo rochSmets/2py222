{
 "cells": [
  {
   "cell_type": "markdown",
   "metadata": {},
   "source": [
    "### Contrôle Continu - LU2PY222 : Modélisation Numérique en Physique ( Ayoub Elalaoui)\n",
    "#### 5 mars 2025, 10h45 - 12h45\n",
    "\n",
    "Vous rendrez sur Moodle un **compte-rendu** sous la forme d'un calepin **Jupyter** comprenant :\n",
    "- vos codes python (bien commentés)\n",
    "- vos graphiques (axes nommés et courbes légendées lorsque c'est nécessaire)\n",
    "- les commentaires des résultats sous format Markdown lorsque c'est demandé\n",
    "\n",
    "Vous avez le droit d'accéder à tous les calepins jupyter présents sur votre Hub, ainsi qu'à vos notes (manuscrites ou numériques) prises pendant les séances de travail de cette UE. L'accès à internet est limité aux sites de documentation **python**, **numpy** et **matplotlib**, et à Moodle. Vos documents numériques doivent être présents dans vos fichiers personnels Moodle. Les clés USB, smartphones et tablettes ne sont pas acceptées.\n",
    "\n",
    "# Particule dans un cyclotron\n",
    "\n",
    "Un cyclotron comporte trois parties, voir la figure ci-dessous. Les parties supérieure et inférieure, appelées \"D\" à cause de la forme de la trajectoire, sont plongées dans un champ magnétique.\n",
    "\n",
    "![](Figure3.png)\n",
    "\n",
    "Au temps $t_0=0$ **(ici le temps est sans unité)**, un proton est injecté au niveau du D inférieur sans vitesse. Une tension alternative est appliquée entre les D. Elle crée un champ électrique dont la direction et le sens sont toujours **similaires** à ceux de la vitesse du proton lorsqu’il est entre les D. Les instants $t_n$ où le proton sort des D (soit inférieur, soit supérieur, voir la figure) sont donnés, **sans unité**, par\n",
    "$$t_n=n+\\tau \\sqrt{n}.$$\n",
    "On choisit $\\tau=0.5$. Le temps passé par le proton dans un D (supérieur ou inférieur) est toujours de $1$.\n",
    "La trajectoire du proton est plane. On s’intéresse à sa vitesse. Ses composantes sont données, dans un repère et des unités appropriés, **en fonction de sa position dans le cyclotron:**\n",
    "1) Pour $t$ variant de $t_n$ à $t_{n+1}-1$ c’est-à-dire quand il est entre les D :\n",
    "$$\n",
    "v_x(t) = 0  \\qquad  v_y(t) = \\epsilon_n \\left( \\sqrt{n} + (t-t_n)/\\tau \\right)\n",
    "$$\n",
    "2) Pour $t$ variant de $t_{n+1}-1$ à $t_{n+1}$ c’est-à-dire quand il est dans D supérieur ou D inférieur.\n",
    "$$\n",
    "v_x(t) = \\epsilon_n \\sqrt{n+1} \\sin \\left( \\pi (t-t_{n+1}) \\right) \\qquad v_y(t) = -\\epsilon_n \\sqrt{n+1} \\cos \\left( \\pi (t-t_{n+1}) \\right)\n",
    "$$\n",
    "\n",
    "Dans ces expressions, $\\epsilon_n$ vaut $1$ pour $n$ pair et $-1$ pour $n$ impair. On pourra prendre $\\epsilon_n = (-1)^n$."
   ]
  },
  {
   "cell_type": "markdown",
   "metadata": {},
   "source": [
    "## Partie I\n",
    "\n",
    "1. Créer un tableau contenant les instants de sortie des boucles \"D\" : $t_0$, $t_1$, ... jusqu'à $t_{50}$ inclus. \n",
    "2. Vérifier que $t_1=1.5$, $t_4=5$, $t_9=10.5$, $t_{16}=18$, et $t_{25}=27.5$ avec des opérateurs booléens.\n",
    "3. Calculer les valeurs de $v_x$ et $v_y$ en fonction du temps pour $t$ variant de $t_2−1$ à $t_2$. Vous utiliserez un échantillonage suffisant pour le temps $t$, dans un tableau distinct de celui de la question précédente. Faire de même pour $t$ variant de $t_4-1$ à $t_4$. \n",
    "4. Représenter dans un graphique $v_x$ et $v_y$ en fonction de $t$ pour $t$ variant de $t_2-1$ a $t_2$. Faire de même pour $t$ variant de $t_4-1$ à $t_4$.\n",
    "5. Déterminer des valeurs approchées des maxima de $v_x$ et $v_y$ pour $t$ variant de $t_2-1$ à $t_2$, ainsi que les instants $t$ correspondants. Un maximum peut être en bord d'intervalle. Faire de même pour $t$ variant de $t_4-1$ à $t_4$. Commenter."
   ]
  },
  {
   "cell_type": "code",
   "execution_count": 15,
   "metadata": {
    "tags": []
   },
   "outputs": [
    {
     "data": {
      "text/plain": [
       "array([ 0.        ,  1.07071068,  2.14142136,  3.21213203,  4.28284271,\n",
       "        5.35355339,  6.42426407,  7.49497475,  8.56568542,  9.6363961 ,\n",
       "       10.70710678, 11.77781746, 12.84852814, 13.91923882, 14.98994949,\n",
       "       16.06066017, 17.13137085, 18.20208153, 19.27279221, 20.34350288,\n",
       "       21.41421356, 22.48492424, 23.55563492, 24.6263456 , 25.69705627,\n",
       "       26.76776695, 27.83847763, 28.90918831, 29.97989899, 31.05060967,\n",
       "       32.12132034, 33.19203102, 34.2627417 , 35.33345238, 36.40416306,\n",
       "       37.47487373, 38.54558441, 39.61629509, 40.68700577, 41.75771645,\n",
       "       42.82842712, 43.8991378 , 44.96984848, 46.04055916, 47.11126984,\n",
       "       48.18198052, 49.25269119, 50.32340187, 51.39411255, 52.46482323,\n",
       "       53.53553391])"
      ]
     },
     "execution_count": 15,
     "metadata": {},
     "output_type": "execute_result"
    }
   ],
   "source": [
    "#reponse question 1\n",
    "import numpy as np\n",
    "n = np.linspace(0, 50, 51)\n",
    "k=0.5\n",
    "t_n= n+k*np.sqrt(n)# fonction utilisé pour avoir les sorties\n",
    "t_0=0\n",
    "t_50=53.53553390593274\n",
    "np.linspace(t_0, t_50, num=51)# création du tableau"
   ]
  },
  {
   "cell_type": "code",
   "execution_count": 18,
   "metadata": {
    "tags": []
   },
   "outputs": [
    {
     "data": {
      "text/plain": [
       "True"
      ]
     },
     "execution_count": 18,
     "metadata": {},
     "output_type": "execute_result"
    }
   ],
   "source": [
    "## question 2\n",
    "n_exp=[1, 4, 9, 16, 25]\n",
    "t_n_exp=[1.5, 5, 10.5, 18, 27.5]\n",
    "t_n_trouvé=[1.09256192, 4.37024767, 17.13137085, 26.76776695]# on crée deux liste avec les valeurs qu'on veut comparer puis à l'aide de la fonction not on  voit si c'est vrai\n",
    "#print( t_n_exp==t_n_trouvé )\n",
    "not t_n_exp==t_n_trouvé"
   ]
  },
  {
   "cell_type": "markdown",
   "metadata": {},
   "source": [
    "## Partie II\n",
    "6. Représenter $v_x$ et $v_y$ en fonction de $t$ pour $t$ variant de $0$ à $t_6$. On utilisera une couleur unique pour la courbe par morceaux. On remarque que $v_x$ et $v_y$ sont des fonctions continues du temps $t$. Commenter.\n",
    "7. Représenter le module de la vitesse $\\sqrt{v_x^2+v_y^2}$ en fonction de $t$ pour $t$ variant de $0$ à $t_6$. On utilisera une couleur unique pour la courbe par morceaux. Commenter. A quoi sert un cyclotron ?\n",
    "8. Pour $n$ variant de $0$ à $50$, représenter le module de la vitesse $\\sqrt{v_x(t_n)^2+v_y(t_n)^2}$ en fonction de $t_n-n$, qui est le temps total passé par le proton entre les D à l'instant $t_n$. Commenter."
   ]
  }
 ],
 "metadata": {
  "kernelspec": {
   "display_name": "Python 3 (ipykernel)",
   "language": "python",
   "name": "python3"
  },
  "language_info": {
   "codemirror_mode": {
    "name": "ipython",
    "version": 3
   },
   "file_extension": ".py",
   "mimetype": "text/x-python",
   "name": "python",
   "nbconvert_exporter": "python",
   "pygments_lexer": "ipython3",
   "version": "3.9.7"
  }
 },
 "nbformat": 4,
 "nbformat_minor": 4
}
