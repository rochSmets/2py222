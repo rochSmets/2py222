{
 "cells": [
  {
   "cell_type": "markdown",
   "id": "ec467897-2264-4a15-ba92-db5bde5589a1",
   "metadata": {},
   "source": [
    "# CC1: Particule dans un cyclotron\n",
    "## Partie I\n",
    "\n",
    "1. Créer un tableau contenant les instants de sortie des boucles \"D\" : $t_0$, $t_1$, ... jusqu'à $t_{50}$ inclus. \n",
    "\n",
    "Pour cela nous utiliserons la fonction $$t_n=n+\\tau \\sqrt{n}.$$ et on choisit $\\tau=0.5$.\n",
    "\n",
    "\n",
    "\n"
   ]
  },
  {
   "cell_type": "code",
   "execution_count": 1,
   "id": "1337699f-6ee0-44a5-838b-82d0e281dda0",
   "metadata": {
    "tags": []
   },
   "outputs": [
    {
     "name": "stdout",
     "output_type": "stream",
     "text": [
      "[ 0.          1.5         2.70710678  3.8660254   5.          6.11803399\n",
      "  7.22474487  8.32287566  9.41421356 10.5        11.58113883 12.6583124\n",
      " 13.73205081 14.80277564 15.87082869 16.93649167 18.         19.06155281\n",
      " 20.12132034 21.17944947 22.23606798 23.29128785 24.34520788 25.39791576\n",
      " 26.44948974 27.5        28.54950976 29.59807621 30.64575131 31.6925824\n",
      " 32.73861279 33.78388218 34.82842712 35.87228132 36.91547595 37.95803989\n",
      " 39.         40.04138127 41.082207   42.122499   43.16227766 44.20156212\n",
      " 45.24037035 46.27871926 47.31662479 48.35410197 49.39116499 50.4278273\n",
      " 51.46410162 52.5       ]\n",
      "nombre de valeur: 50\n"
     ]
    }
   ],
   "source": [
    "# importation des modules \n",
    "import numpy as np\n",
    "import matplotlib.pyplot as plt\n",
    "\n",
    "#condition initiales:\n",
    "n = 50 #nombre d'instant de sortie\n",
    "tau=0.5 # tau choisi\n",
    "\n",
    "#definition de la fonction qui calculer les n valeurs de t\n",
    "def tn(n):\n",
    "    ''' fonction qui permet de calculer le temps tn'''\n",
    "    return n+tau*np.sqrt(n)\n",
    "\n",
    "l_tn=[] #creation d'une liste vide\n",
    "\n",
    "#calcule des 50 valeurs de t \n",
    "for n in range(50):\n",
    "    l_tn.append(tn(n))\n",
    "    \n",
    "#creation du tableau\n",
    "t_tn= np.array(l_tn)\n",
    "\n",
    "print(t_tn)\n",
    "print( \"nombre de valeur:\", len(t_tn)) # verification qu'on a bien 50 valeurs \n"
   ]
  },
  {
   "cell_type": "markdown",
   "id": "a8a50122-fe00-4b70-9b7b-6c9fe69a83f1",
   "metadata": {},
   "source": [
    " 2. Vérifier que $t_1=1.5$, $t_4=5$, $t_9=10.5$, $t_{16}=18$, et $t_{25}=27.5$ avec des opérateurs booléens."
   ]
  },
  {
   "cell_type": "code",
   "execution_count": 2,
   "id": "69b3077b-24b2-4a9c-a7f7-434571fce7fe",
   "metadata": {
    "tags": []
   },
   "outputs": [
    {
     "name": "stdout",
     "output_type": "stream",
     "text": [
      "t1= 1.5 t4= 5.0 t9= 10.5 t16= 18.0 t25= 27.5\n"
     ]
    }
   ],
   "source": [
    "#verifitvation des differentes valeurs pour tn \n",
    "\n",
    "print(\"t1=\",t_tn[1],\"t4=\", t_tn[4],\"t9=\", t_tn[9],\"t16=\", t_tn[16],\"t25=\", t_tn[25])\n"
   ]
  },
  {
   "cell_type": "markdown",
   "id": "7d1e62da-4157-4536-a60b-c0f330413ad7",
   "metadata": {},
   "source": [
    "les valeurs sont correctes."
   ]
  },
  {
   "cell_type": "markdown",
   "id": "62ccda69-e8e3-4f75-a578-1b5b741b356e",
   "metadata": {},
   "source": [
    "3. Calculer les valeurs de $v_x$ et $v_y$ en fonction du temps pour $t$ variant de $t_2−1$ à $t_2$. Vous utiliserez un échantillonage suffisant pour le temps $t$, dans un tableau distinct de celui de la question précédente. Faire de même pour $t$ variant de $t_4-1$ à $t_4$. \n"
   ]
  },
  {
   "cell_type": "code",
   "execution_count": null,
   "id": "d720886b-9356-48fd-8dad-bb5d93d2638e",
   "metadata": {},
   "outputs": [],
   "source": [
    "#definition de epsilon \n",
    "eps_n=(-1)**n\n",
    "# creation des listes vides\n",
    "Vy=[]\n",
    "Vx=[]\n",
    "# fonction pour calculer les vitesses\n",
    "def Vy2(n,t):\n",
    "    ''' fonction qui permet de calculer la vitesse pour 𝑡 variant de 𝑡𝑛+1−1 à 𝑡𝑛+1 '''\n",
    "    return -(eps_n)*np.sqrt(n+1)*np.cos(np.pi*(t-2.7))\n",
    "        \n",
    "def Vx2(n,t):\n",
    "    ''' fonction qui permet de calculer la vitesse pour 𝑡 variant de 𝑡𝑛+1−1 à 𝑡𝑛+1 '''\n",
    "    return eps_n*np.sqrt(n+1)*np.sin(np.pi*(t-2.7))\n",
    "\n",
    "for t in range(1,4):\n",
    "    Vy.append(Vy2(1,t))\n",
    "\n",
    "for t in range(1,4):\n",
    "    Vx.append(Vx2(1,t))\n",
    "    \n",
    "print(Vy)\n",
    "    \n",
    "plt.plot(Vx,t_tn)\n",
    "plt.plot(Vy,t_tn)\n",
    "plt.title('vx et vy en fonction de 𝑡 pour 𝑡 variant de t2-1 a t2')\n",
    "plt.xlabel('temps')\n",
    "plt.ylabel('vx et vy')\n",
    "plt.grid()\n",
    "plt.show()"
   ]
  }
 ],
 "metadata": {
  "kernelspec": {
   "display_name": "Python 3 (ipykernel)",
   "language": "python",
   "name": "python3"
  },
  "language_info": {
   "codemirror_mode": {
    "name": "ipython",
    "version": 3
   },
   "file_extension": ".py",
   "mimetype": "text/x-python",
   "name": "python",
   "nbconvert_exporter": "python",
   "pygments_lexer": "ipython3",
   "version": "3.9.7"
  }
 },
 "nbformat": 4,
 "nbformat_minor": 5
}
