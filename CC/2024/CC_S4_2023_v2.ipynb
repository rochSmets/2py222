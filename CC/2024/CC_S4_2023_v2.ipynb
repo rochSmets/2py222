{
 "cells": [
  {
   "cell_type": "markdown",
   "metadata": {},
   "source": [
    "# Chaîne de masse-ressort\n",
    "\n",
    "## LU2PY222 - CC - 28 février 2024 - 8h30 - Durée 4h00."
   ]
  },
  {
   "cell_type": "markdown",
   "metadata": {},
   "source": [
    "## Modèle\n",
    "On considère une chaîne de $N+2$ masses $m$ numérotées de $0$ à $N+1$ et reliées entre elles par des ressorts de raideur $k$. Les masses $0$ et $N+1$ sont maintenues fixes et on applique une force $F \\cos(\\omega t)$, qui varie sinusoidalement en fonction du temps $t$, sur la masse $N$.\n",
    "\n",
    "Après un régime transitoire, le déplacement de la masse $n$ par rapport à sa position d'équilibre est: $A_n \\cos(\\omega t)$ où $A_n$ est un réel positif ou négatif. Ainsi, les déplacements des masses sont synchronisées, mais chaque déplacement a une amplitude $A_n$ différente. Ce deplacement peut même s'inverser (en opposition de phase) lorsque l'amplitude $A_n$ est négative.\n",
    "\n",
    "Les amplitudes $A_n$ des déplacements de chaque masse vérifient la relation de récurrence: $A_0=0$, $A_{N+1}=0$, $-m\\omega^2 A_n=k(A_{n+1}+A_{n-1}-2A_n)$ pour $n$ de 1 à $N-1$ et $-m\\omega^2 A_N=k(A_{N-1}-2A_N)+F$.\n",
    "\n",
    "Pour résoudre le problème numériquement, on utilise $\\sqrt{k/m}$ comme unité pour les pulsations, $F/k$ comme unité pour les amplitudes et on pose $A_n = A u_n$ et $u_1=1$. On en déduit que la suite d'éléments $u_n$ a pour relation de récurrence\n",
    "\n",
    "$$u_0=0 \\ \\ \\ , \\ \\ \\ u_1=1 \\ \\ \\ , \\ \\ \\ u_n=(2-\\omega^2)u_{n-1}-u_{n-2} \\ \\ \\ $$\n",
    "\n",
    "\n",
    "avec le facteur $A$ donné par $$A=\\frac{1}{(2-\\omega^2)u_N-u_{N-1}} \\ \\ \\ .$$"
   ]
  },
  {
   "cell_type": "markdown",
   "metadata": {},
   "source": [
    "## Travail demandé\n",
    "\n",
    "**La notation prendra en compte la structure et le soin apporté au compte-rendu, les éléments de réflexions que vous apporterez pour répondre au problème, les explications de votre démarche, la syntaxe et la clarté (commentaires) du code produit. Vous apporterez un soin particulier aux graphiques produit.**\n",
    "\n",
    "**RAPPEL IMPORTANT** : le compte-rendu est **personnel** et **original**. Toutes lignes de codes non-triviales partagées entre camarades seront sanctionnées. Vous avez accès au site JupyterHub pour composer (ainsi que tout document présent sur votre espace JupyterHub), Moodle pour remettre le devoir, au site web de l'UE, ainsi qu'à vos notes écrites."
   ]
  },
  {
   "cell_type": "markdown",
   "metadata": {},
   "source": [
    "### Partie I\n",
    "\n",
    "Dans un premier temps, il vous est demandé de montrer que le système de masse-ressort présente un phénomène de résonance pour certaines valeurs de la pulsation $\\omega_r$ de la force d'excitation $F$. \n",
    "\n",
    "1) Commencez par calculer et représenter les valeurs des éléments de la suite $u_n/U$ en fonction de $n/N$, où $U$ est la valeur maximale de la suite, pour $\\omega=\\pi/N$ et $N=1000$. Est-ce que les conditions aux limites sont respectées?\n",
    "\n",
    "2) Ensuite, représentez les valeurs du facteur $|A|$ en fonction du paramètre $N \\omega / \\pi$, pour $N=1000$ et $\\omega=[0, 20/N]$. Utilisez une échelle logarithmique pour l'échelle des ordonnées et 10000 valeurs de $\\omega$. Vous devez obtenir un graphique similaire à celui ci-dessous. Que pouvez-vous en déduire visuellement sur les valeurs des pulsations de résonance? Vérifiez votre observation graphiquement. Que se passe-t-il quand on change le nombre de valeurs de $\\omega$ et pourquoi?\n",
    "\n",
    "![](./output.png)\n",
    "\n",
    "3) Représentez sur un même graphique les valeurs des éléments de la suite $u_n/U$ en fonction de $n/N$ pour les 4 premières valeurs des pulsations de résonance. Que pouvez-vous observer? Montrer graphiquement que les valeurs des éléments de la suite peuvent être représentés par un modèle sinusoïdal qui correspond à la pulsation de résonance, c'est-à-dire $v_n=\\sin(\\omega_r n)$.\n",
    "\n",
    "4) Les caractéristiques de la résonance changent elles lorsque vous faites varier le nombre N de masses et de ressort ? Vous pouvez comparer vos résultats pour $N=50, 1000, 10000$.\n",
    "\n"
   ]
  },
  {
   "cell_type": "markdown",
   "metadata": {},
   "source": [
    "### Partie II"
   ]
  },
  {
   "cell_type": "markdown",
   "metadata": {},
   "source": [
    "Les masses de $0$ à $N/2$ valent maintenant $m'=rm$. La suite d'éléments $u_n$ est donnée par $$u_0=0 \\ \\ \\ , \\ \\ \\ u_1=1 \\ \\ \\ , \\ \\ \\ u_n=(2-r\\omega^2)u_{n-1}-u_{n-2} \\ \\ \\ \\mathrm{pour} \\ \\ \\ n\\le N/2 \\ \\ \\ ,$$ $$u_n=(2-\\omega^2)u_{n-1}-u_{n-2} \\ \\ \\ \\mathrm{pour} \\ \\ \\ n > N/2 \\ \\ \\ .$$\n",
    "Le facteur $A$ est toujours donné par la même expression. On utilisera $N=1000$ pour toute cette partie.\n",
    "\n",
    "5) Représentez sur un même graphique l'amplitude $|A|$ en fonction du paramètre $N \\omega / \\pi$ pour $\\omega=[0,4/N]$, et $r=1,2,3,4,5$. On utilisera 10000 valeurs de la pulsation $\\omega$ et une échelle logarithmique pour l'axe des ordonnées. Que pouvez-vous constater qualitativement en comparant les pulsations de résonance pour les différentes valeurs de $r$?\n",
    "\n",
    "6) Trouver numériquement la valeur de la première pulsation de résonance $\\omega_1$ pour $r=1,2,3,4,5$. Pour cela, vous pourrez utiliser la fonction ```find_peaks()``` du module ```scipy.signal``` (voir en annexe comment utiliser cette fonction). Votre observation qualitative de la question précédente est-elle vérifiée?\n",
    "\n",
    "7) Comparer sur un même graphique les valeurs des éléments de la suite $u_n/U$ en fonction de $n/N$, pour la première pulsation de résonance $\\omega=\\omega_1$ et pour les différentes valeurs de $r$ considérées. Que constatez-vous?\n",
    "\n",
    "8) Représentez graphiquement $\\omega_1$ en fonction de $r$ pour $r$ variant de $1$ à $100$, en utilisant des échelles logarithmiques pour les deux axes. On peut montrer que $\\omega_1 \\simeq (4.06/N\\sqrt{r})$ pour $N$ et $r$ assez grands. Vérifiez vous cette relation?"
   ]
  },
  {
   "cell_type": "markdown",
   "metadata": {},
   "source": [
    "## Annexe\n",
    "### Utilisation de ```find_peak()```"
   ]
  },
  {
   "cell_type": "code",
   "execution_count": 1,
   "metadata": {},
   "outputs": [
    {
     "data": {
      "text/plain": [
       "[<matplotlib.lines.Line2D at 0x7f1cbf870520>]"
      ]
     },
     "execution_count": 1,
     "metadata": {},
     "output_type": "execute_result"
    },
    {
     "data": {
      "image/png": "[encoded data removed]",
      "text/plain": [
       "<Figure size 432x288 with 1 Axes>"
      ]
     },
     "metadata": {
      "needs_background": "light"
     },
     "output_type": "display_data"
    }
   ],
   "source": [
    "from scipy.signal import find_peaks\n",
    "import numpy as np\n",
    "import matplotlib.pyplot as plt\n",
    "\n",
    "x = np.linspace(0,1,10000)\n",
    "y = np.exp(-(x-0.5)**2/1e-3)\n",
    "\n",
    "peaks, _ = find_peaks(y)\n",
    "\n",
    "plt.plot(x, y)\n",
    "plt.plot(x[peaks], y[peaks], \"x\")"
   ]
  }
 ],
 "metadata": {
  "kernelspec": {
   "display_name": "Python 3",
   "language": "python",
   "name": "python3"
  },
  "language_info": {
   "codemirror_mode": {
    "name": "ipython",
    "version": 3
   },
   "file_extension": ".py",
   "mimetype": "text/x-python",
   "name": "python",
   "nbconvert_exporter": "python",
   "pygments_lexer": "ipython3",
   "version": "3.8.10"
  }
 },
 "nbformat": 4,
 "nbformat_minor": 2
}
