{
 "cells": [
  {
   "cell_type": "markdown",
   "id": "cc5da2f3-17cd-4a7f-a627-56b46174673a",
   "metadata": {
    "tags": []
   },
   "source": [
    "# <u>Chaîne de masse-ressort<u>"
   ]
  },
  {
   "cell_type": "markdown",
   "id": "211e92c0-cf9b-4481-aa0f-9096142c4c0a",
   "metadata": {},
   "source": [
    "On considère une chaîne de  $N+2$ masses  $m$ numérotées de  0 à  $N+1$ et reliées entre elles par des ressorts de raideur  $k$ . Les masses  0 et  $N+1$ sont maintenues fixes et on applique une force  $F\\cos(\\omega t)$, qui varie sinusoidalement en fonction du temps  $t$, sur la masse $N$.\n",
    "\n",
    "Après un régime transitoire, le déplacement de la masse $n$  par rapport à sa position d'équilibre est:  $An\\cos(\\omega t)$ où  $A_n$ est un réel positif ou négatif. Ainsi, les déplacements des masses sont synchronisées, mais chaque déplacement a une amplitude $A_n$ différente. Ce deplacement peut même s'inverser (en opposition de phase) lorsque l'amplitude  $A_n$ est négative.\n",
    "\n",
    "Les amplitudes  $A_n$ des déplacements de chaque masse vérifient la relation de récurrence:  $A_0 = 0$,  $A_{n+1} = 0$, $-m\\omega^2 A_n = k (A_{n+1}+A_{n-1}-2A_n)$ pour  $n$ de 1 à  $N-1$ et  $-m\\omega^2A_N=k(A_{N-1}-2A_N)+F$.\n",
    "\n",
    "Pour résoudre le problème numériquement, on utilise $\\omega = \\sqrt{\\frac{k}{m}}$ comme unité pour les pulsations,  $A= \\frac{F}{k}$ comme unité pour les amplitudes et on pose  $A_n=Au_n$ et  $u_1=1$. On en déduit que la suite d'éléments  $u_n$ a pour relation de récurrence\n",
    "\n",
    "$u_0=0$   ,   $u_1=1$   ,   $$u_n=(2-\\omega^2)u_{n-1}-u_{n-2}$$   \n",
    " \n",
    "avec le facteur  $A$ donné par $$A=\\frac{1}{(2-\\omega^2)u_N- u_{N-1}}$$."
   ]
  },
  {
   "cell_type": "markdown",
   "id": "76257052-e59e-4161-8a16-16853e646c60",
   "metadata": {},
   "source": [
    "### <u>Partie 1<u>"
   ]
  },
  {
   "cell_type": "markdown",
   "id": "dcdd564b-78c6-42cc-a99f-e0ee0f65ee06",
   "metadata": {},
   "source": [
    "Dans cette partie nous allons montrer que le système masse-ressort présente un phénomène de résonance pour certaines valeurs de la pulstation  $\\omega_r$ de kla force d'excitation $F$."
   ]
  },
  {
   "cell_type": "code",
   "execution_count": 1,
   "id": "9f0dceb9-5938-425d-8a04-73d9749013cc",
   "metadata": {},
   "outputs": [],
   "source": [
    "import numpy as np\n",
    "\n",
    "# Initialmisation des termes de la suite\n",
    "\n",
    "N = 1000\n",
    "u0 = 0 \n",
    "u1 = 0 \n",
    "omega = (np.pi)/N\n",
    "\n",
    "# Définition de la suite \n",
    "\n",
    "def f(n):\n",
    "    return ((2-omega*omega)*n-n-1)\n",
    "\n"
   ]
  },
  {
   "cell_type": "code",
   "execution_count": 2,
   "id": "37f0ca28-8471-4ea0-a1d7-b701afdf7987",
   "metadata": {},
   "outputs": [
    {
     "data": {
      "text/plain": [
       "[<matplotlib.lines.Line2D at 0x7f2f0d516550>]"
      ]
     },
     "execution_count": 2,
     "metadata": {},
     "output_type": "execute_result"
    },
    {
     "data": {
      "image/png": "[encoded data removed]",
      "text/plain": [
       "<Figure size 432x288 with 1 Axes>"
      ]
     },
     "metadata": {
      "needs_background": "light"
     },
     "output_type": "display_data"
    }
   ],
   "source": [
    "import matplotlib.pyplot as plt \n",
    "\n",
    "x = np.linspace(0, N, 1000000)\n",
    "U = f(0)                               # U est la plus grande valeur de la suite et correspond au premier terme\n",
    "f2_x = f(x)/U                          # suite u_n/U\n",
    "f3_x = x/N                             # rapport n/N\n",
    "\n",
    "\n",
    "# On nomme les axes et le graphique puis on le trace\n",
    "plt.xlabel('n/N')\n",
    "plt.ylabel('u_n/U')\n",
    "plt.title('Représentation de la valeur des éléments de la suite u_n/U en fonction de n/N')\n",
    "\n",
    "plt.plot(f3_x, f2_x)"
   ]
  },
  {
   "cell_type": "markdown",
   "id": "54edeca0-9b45-46c4-8f21-84d20de846b3",
   "metadata": {},
   "source": [
    "La suite u_n/U tend vers 1 ce qui est attendu."
   ]
  },
  {
   "cell_type": "code",
   "execution_count": 3,
   "id": "8f636946-562d-4b1d-83cb-8237467828e9",
   "metadata": {},
   "outputs": [
    {
     "name": "stderr",
     "output_type": "stream",
     "text": [
      "/tmp/ipykernel_6225/560136700.py:16: RuntimeWarning: divide by zero encountered in divide\n",
      "  return ( np.fabs(1/((2-omega_2**2)*f2(x)-f2(x-1) )))\n"
     ]
    },
    {
     "data": {
      "text/plain": [
       "Text(0, 0.5, 'Valeur absolue de A')"
      ]
     },
     "execution_count": 3,
     "metadata": {},
     "output_type": "execute_result"
    },
    {
     "data": {
      "image/png": "[encoded data removed]",
      "text/plain": [
       "<Figure size 432x288 with 1 Axes>"
      ]
     },
     "metadata": {
      "needs_background": "light"
     },
     "output_type": "display_data"
    }
   ],
   "source": [
    "# Initialisation de la nouvelle valeur de la pulsation omega\n",
    "\n",
    "omega_2 = np.linspace(0, 20/N, 1000000)\n",
    "\n",
    "\n",
    "# On redefinit la suite pour la nouvelle valeur de omega\n",
    "\n",
    "def f2(n):                                    \n",
    "    return( (2-omega_2*omega_2)*n-n-1)\n",
    "\n",
    "\n",
    "\n",
    "# On definit la valeur obsolue du facteur A\n",
    "\n",
    "def A(x):\n",
    "        return ( np.fabs(1/((2-omega_2**2)*f2(x)-f2(x-1) )))\n",
    "\n",
    "\n",
    "    \n",
    "# On définit le paramètre N omega/pi\n",
    "\n",
    "\n",
    "P = (x * omega_2)/np.pi\n",
    "\n",
    "# On trace A en fonction de N omega/pi\n",
    "\n",
    "plt.semilogy(P, A(x))\n",
    "plt.xlabel('N omega /pi')\n",
    "plt.ylabel('Valeur absolue de A')"
   ]
  },
  {
   "cell_type": "markdown",
   "id": "b6841ea6-ca33-4720-b0c8-a9f1ff159ef4",
   "metadata": {},
   "source": [
    "Nous n'obtenons pas le résultat attendu qui est celui-ci : "
   ]
  },
  {
   "cell_type": "markdown",
   "id": "4f685221-c328-4a34-81fe-ad58507140a6",
   "metadata": {},
   "source": [
    "![Graphique attendu](https://moodle-sciences-23.sorbonne-universite.fr/pluginfile.php/277068/mod_assign/introattachment/0/output.png?forcedownload=1)"
   ]
  },
  {
   "cell_type": "markdown",
   "id": "a0842b30-c943-4405-a7c7-5c55370f1e2e",
   "metadata": {},
   "source": [
    "Nous pouvons en déduire que les valeurs de pulsation de résonnance sont constantes.\n",
    "\n",
    "Plus le nombre de valeurs pour omega va croître plus les oscillations se feront avec une période courte, à l'inverse plus le nombre de valeurs d'omega va décroître plus les oscillations auront une période plus longue."
   ]
  },
  {
   "cell_type": "code",
   "execution_count": 4,
   "id": "58414383-77f6-4371-82b9-9f30fc3c4c0d",
   "metadata": {},
   "outputs": [
    {
     "name": "stderr",
     "output_type": "stream",
     "text": [
      "/tmp/ipykernel_6225/2423661308.py:17: RuntimeWarning: divide by zero encountered in divide\n",
      "  return ( np.fabs(1/((2-omega__2**2)*f3(x1)-f3(x1-1) )))\n"
     ]
    },
    {
     "data": {
      "image/png": "[encoded data removed]",
      "text/plain": [
       "<Figure size 432x288 with 1 Axes>"
      ]
     },
     "metadata": {
      "needs_background": "light"
     },
     "output_type": "display_data"
    }
   ],
   "source": [
    "# On selectionne seulement les 4 premières valeurs de la pulstaion de réonnance \n",
    "\n",
    "omega__2 = x[1:5]\n",
    "\n",
    "# On redefinit le nombre de valeurs sélectionnés\n",
    "\n",
    "x1 = np.linspace(0, 4, 4)\n",
    "\n",
    "# On redéfinit la suite u_n/U, le paramètre N omega /pi et le facteur A avec le nouveau x1\n",
    "\n",
    "def f3(n):                                    \n",
    "    return( (2-omega__2*omega__2)*n-n-1)\n",
    "\n",
    "P1 = (x1 * omega__2)/np.pi\n",
    "\n",
    "def A1(x):\n",
    "        return ( np.fabs(1/((2-omega__2**2)*f3(x1)-f3(x1-1) )))\n",
    "\n",
    "# On nomme les axes et le graphiquye et on le  trace     \n",
    "    \n",
    "plt.semilogy(P1, A1(x1))\n",
    "plt.plot(f3_x, f2_x)\n",
    "plt.xlabel('n/N')\n",
    "plt.ylabel('u_n/U')\n",
    "plt.legend('Valeurs des éléments de u_n/U en fonction de n/N et valeur absolue de A en fonction de N omega/pi')\n",
    "plt.show()"
   ]
  },
  {
   "cell_type": "markdown",
   "id": "4bb61540-49e3-479e-8321-ba132dcd81fe",
   "metadata": {},
   "source": [
    "On observe que ce n'est pas le bon résultat."
   ]
  }
 ],
 "metadata": {
  "kernelspec": {
   "display_name": "Python 3 (ipykernel)",
   "language": "python",
   "name": "python3"
  },
  "language_info": {
   "codemirror_mode": {
    "name": "ipython",
    "version": 3
   },
   "file_extension": ".py",
   "mimetype": "text/x-python",
   "name": "python",
   "nbconvert_exporter": "python",
   "pygments_lexer": "ipython3",
   "version": "3.11.6"
  }
 },
 "nbformat": 4,
 "nbformat_minor": 5
}
