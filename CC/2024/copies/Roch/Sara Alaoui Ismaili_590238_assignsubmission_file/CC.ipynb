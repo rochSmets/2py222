{
 "cells": [
  {
   "cell_type": "markdown",
   "id": "466161d2-f8c7-4af5-940c-942d23c7796e",
   "metadata": {},
   "source": [
    "# Chaîne de masse-ressort"
   ]
  },
  {
   "cell_type": "markdown",
   "id": "f6e7e7d1-9362-47e1-b399-2d7a2fa11020",
   "metadata": {},
   "source": [
    "### Partie 1"
   ]
  },
  {
   "cell_type": "markdown",
   "id": "95a32df4-8a05-447a-bf32-aea02cbd2286",
   "metadata": {},
   "source": [
    "Dans cette partie, nous devons montrer que le système de masse-ressort présente un phénomène de résonance "
   ]
  },
  {
   "cell_type": "markdown",
   "id": "63d12171-51fc-481a-bfc8-cc0b372bfac0",
   "metadata": {},
   "source": [
    "1. calculer et représenter les valeurs des éléments de la suite  𝑢𝑛/𝑈 en fonction de  𝑛/𝑁\n",
    " "
   ]
  },
  {
   "cell_type": "code",
   "execution_count": null,
   "id": "066454da-afea-4793-b010-1e389fcdbb5b",
   "metadata": {},
   "outputs": [],
   "source": [
    "import numpy as np \n",
    "import matplotlib.pyplot as plt\n",
    "\n",
    "# initialisation de la suite\n",
    "U(0) = 0\n",
    "U(1) = 1\n",
    "\n",
    "# Definition des fonctions\n",
    "def U(n):\n",
    "   return (2-w^2)*(Un-1)-(Un-2)\n",
    "   \n",
    "def U:\n",
    "   return (2-(np.pi/1000)^2)*(Un-1)-(Un-2)\n",
    "   \n",
    "# affichage\n",
    "print(Un/U)"
   ]
  },
  {
   "cell_type": "markdown",
   "id": "db5fe5bd-a0eb-449e-9663-958e3a42a02e",
   "metadata": {},
   "source": [
    "2. eprésentez les valeurs du facteur  |𝐴| en fonction du paramètre  𝑁𝜔/𝜋"
   ]
  },
  {
   "cell_type": "code",
   "execution_count": null,
   "id": "46d5f40e-7772-4bc9-9c03-2bab5eba5d74",
   "metadata": {},
   "outputs": [],
   "source": [
    "# On remarque que le facter A = 1/U(N+1)\n",
    "def A(N):\n",
    "   return 1/U(N+1)"
   ]
  },
  {
   "cell_type": "markdown",
   "id": "041cb129-998e-43ff-97e1-2fa983157e78",
   "metadata": {},
   "source": [
    "3. Représentez sur un même graphique les valeurs des éléments de la suite  𝑢𝑛/𝑈 en fonction de  𝑛/𝑁 pour les 4 premières valeurs des pulsations de résonance"
   ]
  },
  {
   "cell_type": "code",
   "execution_count": null,
   "id": "6b47e033-35f4-4cc6-bcfd-974f4dcdf339",
   "metadata": {},
   "outputs": [],
   "source": [
    "# Tracé de la fonction\n",
    "x = np.linspace(0, N)\n",
    "plt.plot(n, U(n))\n",
    "\n",
    "# Tracé des éléments de la suite\n",
    "plt.plot(range(N), liste_elements, 'og')\n",
    "plt.show()"
   ]
  }
 ],
 "metadata": {
  "kernelspec": {
   "display_name": "",
   "name": ""
  },
  "language_info": {
   "name": ""
  }
 },
 "nbformat": 4,
 "nbformat_minor": 5
}
